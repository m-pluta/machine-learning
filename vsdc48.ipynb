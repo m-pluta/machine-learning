{
 "cells": [
  {
   "cell_type": "markdown",
   "metadata": {},
   "source": [
    "# Project setup"
   ]
  },
  {
   "cell_type": "markdown",
   "metadata": {},
   "source": [
    "Import necessary libraries"
   ]
  },
  {
   "cell_type": "code",
   "execution_count": 74,
   "metadata": {},
   "outputs": [],
   "source": [
    "# System\n",
    "import os\n",
    "import shutil\n",
    "import glob\n",
    "\n",
    "# Image handling\n",
    "from PIL import Image, ImageOps\n",
    "\n",
    "# Numerical\n",
    "import numpy as np\n",
    "import pandas as pd\n",
    "import random\n",
    "\n",
    "# Plotting\n",
    "import matplotlib.pyplot as plt\n",
    "import seaborn as sns\n",
    "\n",
    "# CNN\n",
    "from keras.utils import to_categorical, set_random_seed\n",
    "from keras.models import Sequential, load_model, Model\n",
    "from keras.layers import Input, Conv2D, MaxPooling2D, Flatten, Dense, BatchNormalization, Dropout\n",
    "from keras.optimizers import Adam\n",
    "from keras.callbacks import EarlyStopping\n",
    "\n",
    "# Tuning\n",
    "import keras_tuner as kt\n",
    "\n",
    "# Machine Learning\n",
    "from sklearn.calibration import LabelEncoder\n",
    "from sklearn.model_selection import train_test_split, KFold, GridSearchCV\n",
    "from sklearn.linear_model import LogisticRegression\n",
    "from sklearn.neighbors import KNeighborsClassifier\n",
    "from sklearn.metrics import classification_report, accuracy_score, f1_score"
   ]
  },
  {
   "cell_type": "code",
   "execution_count": 75,
   "metadata": {},
   "outputs": [],
   "source": [
    "SEED = 42\n",
    "random.seed(SEED)\n",
    "set_random_seed(SEED)\n",
    "np.random.seed(SEED)"
   ]
  },
  {
   "cell_type": "markdown",
   "metadata": {},
   "source": [
    "First we establish the directory to where our data is stored, and where we ultimately want to store our cleaned, preprocessed data."
   ]
  },
  {
   "cell_type": "code",
   "execution_count": 76,
   "metadata": {},
   "outputs": [],
   "source": [
    "INIT_DIR = 'chinese-handwriting-recognition-hsk-1/chinese-handwriting/'\n",
    "\n",
    "INIT_TRAIN_DIR = os.path.join(INIT_DIR, 'CASIA-HWDB_Train/Train/')\n",
    "INIT_TEST_DIR = os.path.join(INIT_DIR, 'CASIA-HWDB_Test/Test/')\n",
    "\n",
    "DIR = 'data/'"
   ]
  },
  {
   "cell_type": "markdown",
   "metadata": {},
   "source": [
    "# Data investigation"
   ]
  },
  {
   "cell_type": "markdown",
   "metadata": {},
   "source": [
    "First lets have a look at how many data classes we have in the dataset. The dataset has been split into test and train already so lets check how many classes we have in each."
   ]
  },
  {
   "cell_type": "code",
   "execution_count": 77,
   "metadata": {},
   "outputs": [
    {
     "name": "stdout",
     "output_type": "stream",
     "text": [
      "The same classes are in each folder\n"
     ]
    }
   ],
   "source": [
    "image_classes = os.listdir(INIT_TRAIN_DIR)\n",
    "\n",
    "if image_classes == os.listdir(INIT_TEST_DIR):\n",
    "    print('The same classes are in each folder')\n",
    "else:\n",
    "    print('The two folders contain different classes')"
   ]
  },
  {
   "cell_type": "code",
   "execution_count": 78,
   "metadata": {},
   "outputs": [],
   "source": [
    "# # image_classes = ['零', '一', '二']\n",
    "# # image_classes = ['零', '一', '二', '三', '四', '五', '六', '七', '八', '九', '十']\n",
    "# # image_classes = image_classes_train[:20]\n",
    "# image_classes = random.sample(image_classes, 50)\n",
    "# # image_classes = image_classes_train"
   ]
  },
  {
   "cell_type": "markdown",
   "metadata": {},
   "source": [
    "Next, lets combine the the train and test data into one directory for simplicity.\n",
    "\n",
    "We start by creating a new directory for our preprocessed data."
   ]
  },
  {
   "cell_type": "code",
   "execution_count": 79,
   "metadata": {},
   "outputs": [],
   "source": [
    "# Remove old data\n",
    "if os.path.exists(DIR):\n",
    "    shutil.rmtree(DIR)\n",
    "    \n",
    "#Create the new directory\n",
    "os.mkdir(DIR)\n",
    "for image_class in image_classes:\n",
    "    path = os.path.join(DIR, image_class)\n",
    "    os.makedirs(path)"
   ]
  },
  {
   "cell_type": "markdown",
   "metadata": {},
   "source": [
    "Now let's combine the train and test data into one directory. This is specified by the `DIR` variable."
   ]
  },
  {
   "cell_type": "code",
   "execution_count": 80,
   "metadata": {},
   "outputs": [],
   "source": [
    "def combineDirectories():\n",
    "    for image_class in image_classes:\n",
    "        images = []\n",
    "\n",
    "        # Fetch images from train dir\n",
    "        train_path = os.path.join(INIT_TRAIN_DIR, image_class)\n",
    "        images += [os.path.join(train_path, file) for file in os.listdir(train_path)]\n",
    "\n",
    "        # Fetch images from test dir\n",
    "        test_path = os.path.join(INIT_TEST_DIR, image_class)\n",
    "        images += [os.path.join(test_path, file) for file in os.listdir(test_path)]\n",
    "\n",
    "        # Iterate over the splits and images and copy them to the data directory\n",
    "        for i, image in enumerate(images):\n",
    "            new_filename = f\"{i+1}.png\"\n",
    "            destination_path = os.path.join(DIR, image_class, new_filename)\n",
    "            shutil.copy(image, destination_path)\n",
    "            \n",
    "combineDirectories()"
   ]
  },
  {
   "cell_type": "markdown",
   "metadata": {},
   "source": [
    "# Data Pre-processing"
   ]
  },
  {
   "cell_type": "markdown",
   "metadata": {},
   "source": [
    "First lets iterate through all the images and and confirm they are all `.png` and black & white "
   ]
  },
  {
   "cell_type": "code",
   "execution_count": 81,
   "metadata": {},
   "outputs": [],
   "source": [
    "def checkGrayscale():\n",
    "    # Loop through each subdirectory and file in the directory\n",
    "    for subdir, dirs, images in os.walk(DIR):\n",
    "        for image in images:\n",
    "            if image.lower().endswith('.png'):\n",
    "                file_path = os.path.join(subdir, image)\n",
    "\n",
    "                with Image.open(file_path) as img:\n",
    "                    if img.mode != 'L':\n",
    "                        print(f\"{file_path} is not grayscale.\")\n",
    "            else:\n",
    "                print(\"Not a png file: \")\n",
    "checkGrayscale()"
   ]
  },
  {
   "cell_type": "markdown",
   "metadata": {},
   "source": [
    "Next let's iterate through all the images and check if any have an aspect ratio that is not 1:1."
   ]
  },
  {
   "cell_type": "code",
   "execution_count": 82,
   "metadata": {},
   "outputs": [],
   "source": [
    "def checkAspectRatios():\n",
    "    image_sizes = []\n",
    "\n",
    "    # Iterate through all the images and check if any do not have a 1:1 aspect ratio\n",
    "    for subdir, dirs, images in os.walk(DIR):\n",
    "        for image in images:\n",
    "            file_path = os.path.join(subdir, image)\n",
    "            with Image.open(file_path) as img:\n",
    "                image_sizes.append(img.size[0])\n",
    "\n",
    "                if img.size[0] != img.size[1]:\n",
    "                    print(file_path, img.size)\n",
    "                    \n",
    "    return image_sizes\n",
    "                    \n",
    "image_sizes = checkAspectRatios()"
   ]
  },
  {
   "cell_type": "markdown",
   "metadata": {},
   "source": [
    "Since all the images are square, this makes it easier to investigate their image sizes."
   ]
  },
  {
   "cell_type": "code",
   "execution_count": 83,
   "metadata": {},
   "outputs": [
    {
     "name": "stdout",
     "output_type": "stream",
     "text": [
      "Smallest dimension: 3\n"
     ]
    },
    {
     "data": {
      "image/png": "[encoded data removed]",
      "text/plain": [
       "<Figure size 500x500 with 1 Axes>"
      ]
     },
     "metadata": {},
     "output_type": "display_data"
    }
   ],
   "source": [
    "print(f\"Smallest dimension: {min(image_sizes)}\")\n",
    "\n",
    "# Plotting\n",
    "sns.displot(image_sizes)\n",
    "plt.xlabel('Dimension')\n",
    "plt.ylabel('Frequency')\n",
    "plt.tight_layout()\n",
    "plt.show()"
   ]
  },
  {
   "cell_type": "markdown",
   "metadata": {},
   "source": [
    "As you can see from the graph, the images are not all the same size. This will cause issues when we try to train the model, so we need to resize all the images to the same size. Additionally one of the images is only 3x3 which is way too small to be useful, so we will enforce a minimum image size."
   ]
  },
  {
   "cell_type": "code",
   "execution_count": 84,
   "metadata": {},
   "outputs": [],
   "source": [
    "MIN_IMAGE_SIZE = 20\n",
    "IMAGE_SIZE = 48\n",
    "\n",
    "def resizeImages():\n",
    "    # Iterate through all the images and resize to a fixed size\n",
    "    for subdir, dirs, images in os.walk(DIR):\n",
    "        for image in images:\n",
    "            file_path = os.path.join(subdir, image)\n",
    "            with Image.open(file_path) as img:\n",
    "                current_size = img.size[0]\n",
    "                if current_size < MIN_IMAGE_SIZE:\n",
    "                    os.remove(file_path)\n",
    "                    continue\n",
    "                \n",
    "                if current_size != IMAGE_SIZE:\n",
    "                    img = img.resize((IMAGE_SIZE, IMAGE_SIZE), Image.Resampling.LANCZOS)\n",
    "                \n",
    "                img = ImageOps.invert(img)\n",
    "                img.save(file_path)\n",
    "                \n",
    "resizeImages()"
   ]
  },
  {
   "cell_type": "markdown",
   "metadata": {},
   "source": [
    "Now lets check how many images we have in each class and see how balanced the classes are."
   ]
  },
  {
   "cell_type": "code",
   "execution_count": null,
   "metadata": {},
   "outputs": [
    {
     "data": {
      "image/png": "[encoded data removed]",
      "text/plain": [
       "<Figure size 500x500 with 1 Axes>"
      ]
     },
     "metadata": {},
     "output_type": "display_data"
    },
    {
     "name": "stdout",
     "output_type": "stream",
     "text": [
      "            Count\n",
      "count  178.000000\n",
      "mean   741.269663\n",
      "std      3.031898\n",
      "min    721.000000\n",
      "5%     737.000000\n",
      "25%    740.000000\n",
      "50%    741.000000\n",
      "75%    743.000000\n",
      "95%    746.000000\n",
      "max    748.000000\n"
     ]
    }
   ],
   "source": [
    "def get_class_counts():\n",
    "    class_counts = {}\n",
    "    \n",
    "    for subdir in glob.glob(os.path.join(DIR, '*')):\n",
    "        file_count = len(glob.glob(os.path.join(subdir, '*')))\n",
    "        class_counts[subdir.split('/')[-1]] = file_count\n",
    "\n",
    "    return pd.DataFrame.from_dict(class_counts, orient='index', columns=['Count'])\n",
    "\n",
    "df_class_counts = get_class_counts() \n",
    "\n",
    "sns.displot(list(df_class_counts['Count']))\n",
    "plt.xlabel('Samples per class')\n",
    "plt.ylabel('Class count')\n",
    "plt.tight_layout()\n",
    "plt.show()\n",
    "\n",
    "print(df_class_counts.describe([0.05, 0.25, 0.75, 0.95]))"
   ]
  },
  {
   "cell_type": "markdown",
   "metadata": {},
   "source": [
    "From this we can see that the classes are fairly balanced, let's quickly have a look at the slight imbalance in the classes.\n",
    "We can arbitrarily choose a balance metric such as outside the range of 2 standard deviations from the mean."
   ]
  },
  {
   "cell_type": "code",
   "execution_count": null,
   "metadata": {},
   "outputs": [
    {
     "name": "stdout",
     "output_type": "stream",
     "text": [
      "   Count\n",
      "月    748\n",
      "零    732\n",
      "六    733\n",
      "老    734\n",
      "四    734\n",
      "样    721\n"
     ]
    }
   ],
   "source": [
    "df_class_counts = get_class_counts() \n",
    "\n",
    "mean = df_class_counts['Count'].mean()\n",
    "std = df_class_counts['Count'].std()\n",
    "threshold = 2 * std\n",
    "\n",
    "outlier_counts = df_class_counts[np.abs(df_class_counts['Count'] - mean) > threshold]\n",
    "print(outlier_counts)"
   ]
  },
  {
   "cell_type": "markdown",
   "metadata": {},
   "source": [
    "As we can see, the imbalance is minimal. Because of this, we will not be using any class balancing techniques."
   ]
  },
  {
   "cell_type": "markdown",
   "metadata": {},
   "source": [
    "Let's have a look some examples of the images in the dataset."
   ]
  },
  {
   "cell_type": "code",
   "execution_count": null,
   "metadata": {},
   "outputs": [
    {
     "data": {
      "image/png": "[encoded data removed]",
      "text/plain": [
       "<Figure size 800x800 with 4 Axes>"
      ]
     },
     "metadata": {},
     "output_type": "display_data"
    }
   ],
   "source": [
    "import glob\n",
    "\n",
    "# Get list of all .png images in the directory and its subdirectories\n",
    "images = glob.glob(os.path.join(DIR, '**', '*.png'), recursive=True)\n",
    "\n",
    "# Randomly select num_images images\n",
    "random_images = random.sample(images, 4)\n",
    "\n",
    "fig, axs = plt.subplots(2, 2, figsize=(8, 8))\n",
    "\n",
    "# Set the font for the plot\n",
    "import matplotlib.font_manager as fm\n",
    "font_path = 'NotoSansCJKsc-Regular.otf'\n",
    "prop = fm.FontProperties(fname=font_path)\n",
    "\n",
    "for i in range(2):\n",
    "    for j in range(2):\n",
    "        img_path = random_images[2 * i + j]\n",
    "        img = Image.open(img_path)\n",
    "        axs[i][j].imshow(img)\n",
    "        axs[i][j].set_title(f\"Character: {img_path.split('/')[1]}\", fontproperties=prop,fontsize = 13)"
   ]
  },
  {
   "cell_type": "markdown",
   "metadata": {},
   "source": [
    "# NumPy Array Conversion\n",
    "\n",
    "Now we can convert all the images into one single numpy array with the corresponding labels for each image."
   ]
  },
  {
   "cell_type": "code",
   "execution_count": null,
   "metadata": {},
   "outputs": [],
   "source": [
    "def get_numpy_data(classes):\n",
    "    images = []\n",
    "    labels = []\n",
    "    for image_class in classes:\n",
    "        path = os.path.join(DIR, image_class)\n",
    "        for image in os.listdir(path):\n",
    "            image_path = os.path.join(path, image)\n",
    "\n",
    "            img = Image.open(image_path)\n",
    "            img_array = np.array(img)\n",
    "\n",
    "            images.append(img_array)\n",
    "            labels.append(image_class)\n",
    "            \n",
    "    return np.array(images), np.array(labels)"
   ]
  },
  {
   "cell_type": "markdown",
   "metadata": {},
   "source": [
    "Now we can convert the python lists into numpy arrays."
   ]
  },
  {
   "cell_type": "code",
   "execution_count": null,
   "metadata": {},
   "outputs": [],
   "source": [
    "# random_image_classes = random.sample(image_classes, 50)\n",
    "\n",
    "images, labels = get_numpy_data(image_classes)"
   ]
  },
  {
   "cell_type": "markdown",
   "metadata": {},
   "source": [
    "And finally we can save the numpy arrays to the root directory."
   ]
  },
  {
   "cell_type": "code",
   "execution_count": null,
   "metadata": {},
   "outputs": [],
   "source": [
    "np.save('images.npy', images)\n",
    "np.save('labels.npy', labels)"
   ]
  },
  {
   "cell_type": "markdown",
   "metadata": {},
   "source": [
    "## CNN Training"
   ]
  },
  {
   "cell_type": "code",
   "execution_count": 40,
   "metadata": {},
   "outputs": [
    {
     "name": "stdout",
     "output_type": "stream",
     "text": [
      "['爱' '话' '猫' ... '喜' '关' '下']\n",
      "['杯' '住' '店' ... '听' '少' '下']\n"
     ]
    }
   ],
   "source": [
    "images = np.load('images.npy').astype(\"float32\") / 255\n",
    "labels = np.load('labels.npy')\n",
    "\n",
    "X_train, X_test, y_train, y_test = train_test_split(images, labels, test_size=0.2, random_state=42)\n",
    "\n",
    "def one_hot_encode_labels(y1, y2):\n",
    "    print(y1)\n",
    "    print(y2)\n",
    "    label_encoder = LabelEncoder()\n",
    "    label_encoder.fit(np.concatenate((y1, y2)))\n",
    "    \n",
    "    y1_encoded = label_encoder.transform(y1)\n",
    "    y2_encoded = label_encoder.transform(y2)\n",
    "    \n",
    "    num_classes = len(label_encoder.classes_)\n",
    "    y1_categorical = to_categorical(y1_encoded, num_classes=num_classes)\n",
    "    y2_categorical = to_categorical(y2_encoded, num_classes=num_classes)\n",
    "    \n",
    "    return y1_categorical, y2_categorical\n",
    "\n",
    "y_train_ohe, y_test_ohe = one_hot_encode_labels(y_train, y_test)\n",
    "\n",
    "NUM_CLASSES = y_train_ohe.shape[1]"
   ]
  },
  {
   "cell_type": "code",
   "execution_count": 41,
   "metadata": {},
   "outputs": [
    {
     "name": "stdout",
     "output_type": "stream",
     "text": [
      "(29654, 48, 48)\n",
      "(7414, 48, 48)\n",
      "(29654, 50)\n",
      "(7414, 50)\n",
      "(29654,)\n",
      "(7414,)\n"
     ]
    }
   ],
   "source": [
    "print(X_train.shape)\n",
    "print(X_test.shape)\n",
    "print(y_train_ohe.shape)\n",
    "print(y_test_ohe.shape)\n",
    "print(y_train.shape)\n",
    "print(y_test.shape)"
   ]
  },
  {
   "cell_type": "code",
   "execution_count": 42,
   "metadata": {},
   "outputs": [],
   "source": [
    "def getCNNModel(hp):\n",
    "    model = Sequential([\n",
    "        Input(shape=(IMAGE_SIZE, IMAGE_SIZE, 1)),\n",
    "        \n",
    "        Conv2D(hp.Int('conv_1_filters', min_value=8, max_value=32, step=8), kernel_size=3, activation='relu'),\n",
    "        BatchNormalization(),\n",
    "        MaxPooling2D(2, 2),\n",
    "        Dropout(hp.Float('dropout_1', min_value=0.0, max_value=0.5, step=0.1)),\n",
    "        \n",
    "        Conv2D(hp.Int('conv_2_filters', min_value=16, max_value=64, step=16), kernel_size=3, activation='relu'),\n",
    "        BatchNormalization(),\n",
    "        MaxPooling2D(2, 2),\n",
    "        Dropout(hp.Float('dropout_2', min_value=0.0, max_value=0.5, step=0.1)),\n",
    "        \n",
    "        Conv2D(hp.Int('conv_3_filters', min_value=32, max_value=128, step=32), kernel_size=2, activation='relu'),\n",
    "        MaxPooling2D(2, 2),\n",
    "        Dropout(hp.Float('dropout_3', min_value=0.0, max_value=0.5, step=0.1)),\n",
    "        \n",
    "        Flatten(),\n",
    "        Dense(units=hp.Int('dense_units', min_value=128, max_value=1024, step=128), activation='relu'),\n",
    "        Dropout(hp.Float('dropout_4', min_value=0.0, max_value=0.7, step=0.1)),\n",
    "        Dense(units=NUM_CLASSES, activation='softmax')\n",
    "    ])\n",
    "\n",
    "    # Compile the model\n",
    "    model.compile(\n",
    "        optimizer=Adam(\n",
    "            hp.Choice('learning_rate', values=[1e-2, 5e-3, 1e-3, 5e-4, 1e-4])),\n",
    "        loss='categorical_crossentropy',\n",
    "        metrics=['accuracy'])\n",
    "\n",
    "    return model"
   ]
  },
  {
   "cell_type": "code",
   "execution_count": 44,
   "metadata": {},
   "outputs": [
    {
     "name": "stdout",
     "output_type": "stream",
     "text": [
      "Trial 30 Complete [00h 03m 41s]\n",
      "val_accuracy: 0.9603776931762695\n",
      "\n",
      "Best val_accuracy So Far: 0.9603776931762695\n",
      "Total elapsed time: 00h 27m 35s\n"
     ]
    }
   ],
   "source": [
    "from keras.callbacks import LearningRateScheduler\n",
    "from keras.callbacks import ModelCheckpoint\n",
    "\n",
    "tuner = kt.Hyperband(\n",
    "    getCNNModel,\n",
    "    objective='val_accuracy',\n",
    "    max_epochs=15,\n",
    "    directory='hyperband',\n",
    "    project_name='cnn_tuning5')\n",
    "\n",
    "EPOCHS = 30\n",
    "\n",
    "annealer = LearningRateScheduler(\n",
    "    lambda x: 1e-3 * 0.99 ** (2 * x))\n",
    "stop_early = EarlyStopping(\n",
    "    monitor='loss',\n",
    "    patience=5)\n",
    "checkpoint = ModelCheckpoint(\n",
    "    'best_model.h5',\n",
    "    monitor='val_accuracy',\n",
    "    verbose=0,\n",
    "    save_best_only=True)\n",
    "\n",
    "tuner.search(\n",
    "    X_train, y_train_ohe,\n",
    "    validation_split=0.2,\n",
    "    callbacks=[annealer, stop_early, checkpoint],\n",
    "    epochs=EPOCHS, batch_size=128)"
   ]
  },
  {
   "cell_type": "code",
   "execution_count": 45,
   "metadata": {},
   "outputs": [
    {
     "name": "stdout",
     "output_type": "stream",
     "text": [
      "Best hyperparameters: {'conv_1_filters': 24, 'dropout_1': 0.4, 'conv_2_filters': 64, 'dropout_2': 0.1, 'conv_3_filters': 128, 'dropout_3': 0.2, 'dense_units': 512, 'dropout_4': 0.6000000000000001, 'learning_rate': 0.0005, 'tuner/epochs': 15, 'tuner/initial_epoch': 0, 'tuner/bracket': 0, 'tuner/round': 0}\n"
     ]
    }
   ],
   "source": [
    "best_hps = tuner.get_best_hyperparameters(num_trials=1)[0]\n",
    "print(f\"Best hyperparameters: {best_hps.values}\")"
   ]
  },
  {
   "cell_type": "code",
   "execution_count": null,
   "metadata": {},
   "outputs": [
    {
     "name": "stdout",
     "output_type": "stream",
     "text": [
      "Fold 1/3\n",
      "Epoch 1/15\n",
      "309/309 [==============================] - 11s 36ms/step - loss: 0.3125 - accuracy: 0.9050 - val_loss: 0.0955 - val_accuracy: 0.9707\n",
      "Epoch 2/15\n",
      "309/309 [==============================] - 11s 35ms/step - loss: 0.2967 - accuracy: 0.9077 - val_loss: 0.1246 - val_accuracy: 0.9604\n",
      "Epoch 3/15\n",
      "309/309 [==============================] - 11s 34ms/step - loss: 0.2753 - accuracy: 0.9145 - val_loss: 0.1153 - val_accuracy: 0.9655\n",
      "Epoch 4/15\n",
      "309/309 [==============================] - 11s 34ms/step - loss: 0.2601 - accuracy: 0.9189 - val_loss: 0.0999 - val_accuracy: 0.9703\n",
      "Epoch 5/15\n",
      "309/309 [==============================] - 11s 35ms/step - loss: 0.2398 - accuracy: 0.9252 - val_loss: 0.1191 - val_accuracy: 0.9658\n",
      "Epoch 6/15\n",
      "309/309 [==============================] - 11s 36ms/step - loss: 0.2291 - accuracy: 0.9282 - val_loss: 0.1046 - val_accuracy: 0.9683\n",
      "Epoch 7/15\n",
      "309/309 [==============================] - 11s 37ms/step - loss: 0.2184 - accuracy: 0.9309 - val_loss: 0.1127 - val_accuracy: 0.9667\n",
      "Epoch 8/15\n",
      "309/309 [==============================] - 11s 35ms/step - loss: 0.2058 - accuracy: 0.9361 - val_loss: 0.1116 - val_accuracy: 0.9661\n",
      "Epoch 9/15\n",
      "309/309 [==============================] - 11s 36ms/step - loss: 0.1949 - accuracy: 0.9376 - val_loss: 0.1100 - val_accuracy: 0.9674\n",
      "Epoch 10/15\n",
      "309/309 [==============================] - 11s 37ms/step - loss: 0.2002 - accuracy: 0.9360 - val_loss: 0.1171 - val_accuracy: 0.9649\n",
      "Epoch 11/15\n",
      "309/309 [==============================] - 12s 38ms/step - loss: 0.1896 - accuracy: 0.9406 - val_loss: 0.1126 - val_accuracy: 0.9681\n",
      "Epoch 12/15\n",
      "309/309 [==============================] - 10s 34ms/step - loss: 0.1809 - accuracy: 0.9416 - val_loss: 0.1185 - val_accuracy: 0.9658\n",
      "Epoch 13/15\n",
      "309/309 [==============================] - 11s 36ms/step - loss: 0.1691 - accuracy: 0.9444 - val_loss: 0.1208 - val_accuracy: 0.9664\n",
      "Epoch 14/15\n",
      "309/309 [==============================] - 10s 34ms/step - loss: 0.1717 - accuracy: 0.9437 - val_loss: 0.1165 - val_accuracy: 0.9668\n",
      "Epoch 15/15\n",
      "309/309 [==============================] - 11s 34ms/step - loss: 0.1672 - accuracy: 0.9452 - val_loss: 0.1231 - val_accuracy: 0.9657\n",
      "Best epoch: 1, Val_accuracy: 0.9706625938415527\n",
      "Fold 2/3\n",
      "Epoch 1/15\n",
      "309/309 [==============================] - 11s 34ms/step - loss: 0.3315 - accuracy: 0.9023 - val_loss: 0.0842 - val_accuracy: 0.9757\n",
      "Epoch 2/15\n",
      "309/309 [==============================] - 10s 34ms/step - loss: 0.3049 - accuracy: 0.9060 - val_loss: 0.0882 - val_accuracy: 0.9742\n",
      "Epoch 3/15\n",
      "309/309 [==============================] - 11s 34ms/step - loss: 0.2745 - accuracy: 0.9127 - val_loss: 0.0890 - val_accuracy: 0.9738\n",
      "Epoch 4/15\n",
      "309/309 [==============================] - 11s 34ms/step - loss: 0.2650 - accuracy: 0.9179 - val_loss: 0.0899 - val_accuracy: 0.9732\n",
      "Epoch 5/15\n",
      "309/309 [==============================] - 11s 35ms/step - loss: 0.2489 - accuracy: 0.9223 - val_loss: 0.1003 - val_accuracy: 0.9705\n",
      "Epoch 6/15\n",
      "309/309 [==============================] - 11s 35ms/step - loss: 0.2326 - accuracy: 0.9279 - val_loss: 0.0939 - val_accuracy: 0.9730\n",
      "Epoch 7/15\n",
      "309/309 [==============================] - 10s 33ms/step - loss: 0.2180 - accuracy: 0.9299 - val_loss: 0.0925 - val_accuracy: 0.9728\n",
      "Epoch 8/15\n",
      "309/309 [==============================] - 10s 33ms/step - loss: 0.2157 - accuracy: 0.9318 - val_loss: 0.0969 - val_accuracy: 0.9722\n",
      "Epoch 9/15\n",
      "309/309 [==============================] - 10s 34ms/step - loss: 0.1893 - accuracy: 0.9412 - val_loss: 0.0938 - val_accuracy: 0.9718\n",
      "Epoch 10/15\n",
      "309/309 [==============================] - 11s 34ms/step - loss: 0.1967 - accuracy: 0.9368 - val_loss: 0.0988 - val_accuracy: 0.9703\n",
      "Epoch 11/15\n",
      "309/309 [==============================] - 10s 33ms/step - loss: 0.1893 - accuracy: 0.9398 - val_loss: 0.1029 - val_accuracy: 0.9689\n",
      "Epoch 12/15\n",
      "309/309 [==============================] - 10s 33ms/step - loss: 0.1812 - accuracy: 0.9431 - val_loss: 0.1114 - val_accuracy: 0.9665\n",
      "Epoch 13/15\n",
      "309/309 [==============================] - 11s 35ms/step - loss: 0.1942 - accuracy: 0.9404 - val_loss: 0.1006 - val_accuracy: 0.9703\n",
      "Epoch 14/15\n",
      "309/309 [==============================] - 11s 34ms/step - loss: 0.1783 - accuracy: 0.9451 - val_loss: 0.1073 - val_accuracy: 0.9682\n",
      "Epoch 15/15\n",
      "309/309 [==============================] - 10s 34ms/step - loss: 0.1698 - accuracy: 0.9462 - val_loss: 0.1098 - val_accuracy: 0.9676\n",
      "Best epoch: 1, Val_accuracy: 0.9757207632064819\n",
      "Fold 3/3\n",
      "Epoch 1/15\n",
      "309/309 [==============================] - 11s 33ms/step - loss: 0.3238 - accuracy: 0.9001 - val_loss: 0.1125 - val_accuracy: 0.9684\n",
      "Epoch 2/15\n",
      "309/309 [==============================] - 10s 34ms/step - loss: 0.2991 - accuracy: 0.9059 - val_loss: 0.1171 - val_accuracy: 0.9645\n",
      "Epoch 3/15\n",
      "309/309 [==============================] - 11s 34ms/step - loss: 0.2784 - accuracy: 0.9137 - val_loss: 0.1083 - val_accuracy: 0.9687\n",
      "Epoch 4/15\n",
      "309/309 [==============================] - 10s 34ms/step - loss: 0.2594 - accuracy: 0.9197 - val_loss: 0.0907 - val_accuracy: 0.9744\n",
      "Epoch 5/15\n",
      "309/309 [==============================] - 11s 35ms/step - loss: 0.2494 - accuracy: 0.9218 - val_loss: 0.1124 - val_accuracy: 0.9660\n",
      "Epoch 6/15\n",
      "309/309 [==============================] - 10s 34ms/step - loss: 0.2316 - accuracy: 0.9254 - val_loss: 0.1060 - val_accuracy: 0.9678\n",
      "Epoch 7/15\n",
      "309/309 [==============================] - 10s 33ms/step - loss: 0.2099 - accuracy: 0.9329 - val_loss: 0.1027 - val_accuracy: 0.9693\n",
      "Epoch 8/15\n",
      "309/309 [==============================] - 10s 33ms/step - loss: 0.2100 - accuracy: 0.9333 - val_loss: 0.1055 - val_accuracy: 0.9699\n",
      "Epoch 9/15\n",
      "309/309 [==============================] - 11s 35ms/step - loss: 0.1982 - accuracy: 0.9346 - val_loss: 0.1079 - val_accuracy: 0.9677\n",
      "Epoch 10/15\n",
      "309/309 [==============================] - 10s 34ms/step - loss: 0.1917 - accuracy: 0.9386 - val_loss: 0.1268 - val_accuracy: 0.9629\n",
      "Epoch 11/15\n",
      "309/309 [==============================] - 11s 35ms/step - loss: 0.1900 - accuracy: 0.9383 - val_loss: 0.1143 - val_accuracy: 0.9673\n",
      "Epoch 12/15\n",
      "309/309 [==============================] - 11s 34ms/step - loss: 0.1935 - accuracy: 0.9398 - val_loss: 0.1034 - val_accuracy: 0.9702\n",
      "Epoch 13/15\n",
      "309/309 [==============================] - 10s 33ms/step - loss: 0.1691 - accuracy: 0.9445 - val_loss: 0.1118 - val_accuracy: 0.9675\n",
      "Epoch 14/15\n",
      "309/309 [==============================] - 10s 33ms/step - loss: 0.1714 - accuracy: 0.9448 - val_loss: 0.0986 - val_accuracy: 0.9710\n",
      "Epoch 15/15\n",
      "309/309 [==============================] - 10s 34ms/step - loss: 0.1765 - accuracy: 0.9458 - val_loss: 0.1029 - val_accuracy: 0.9694\n",
      "Best epoch: 4, Val_accuracy: 0.9744030833244324\n"
     ]
    }
   ],
   "source": [
    "k = 5\n",
    "kfold = KFold(n_splits=k, shuffle=True, random_state=42)\n",
    "fold_history = []\n",
    "\n",
    "for i, (train_idxs, val_idxs) in enumerate(kfold.split(X_train, y_train_ohe)):\n",
    "    print(f\"Fold {i + 1}/{k}\")\n",
    "    \n",
    "    model = load_model('best_model.h5')\n",
    "    \n",
    "    history = model.fit(\n",
    "        X_train[train_idxs],\n",
    "        y_train_ohe[train_idxs],\n",
    "        validation_data=(X_train[val_idxs], y_train_ohe[val_idxs]),\n",
    "        epochs=15,\n",
    "        batch_size=64\n",
    "    )\n",
    "    val_acc_per_epoch = history.history['val_accuracy']\n",
    "    best_epoch = val_acc_per_epoch.index(max(val_acc_per_epoch)) + 1\n",
    "    print(f'Best epoch: {best_epoch}, Val_accuracy: {max(val_acc_per_epoch)}')\n",
    "    fold_history.append(history)"
   ]
  },
  {
   "cell_type": "code",
   "execution_count": 46,
   "metadata": {},
   "outputs": [
    {
     "name": "stdout",
     "output_type": "stream",
     "text": [
      "927/927 [==============================] - 8s 8ms/step\n",
      "232/232 [==============================] - 2s 7ms/step\n"
     ]
    }
   ],
   "source": [
    "full_model = load_model('best_model.h5')\n",
    "feature_model = Model(inputs=full_model.input, outputs=full_model.layers[-4].output)\n",
    "\n",
    "train_features = feature_model.predict(X_train)\n",
    "test_features = feature_model.predict(X_test)"
   ]
  },
  {
   "cell_type": "code",
   "execution_count": 47,
   "metadata": {},
   "outputs": [
    {
     "name": "stdout",
     "output_type": "stream",
     "text": [
      "(29654, 2048)\n"
     ]
    }
   ],
   "source": [
    "print(train_features.shape)"
   ]
  },
  {
   "cell_type": "code",
   "execution_count": 48,
   "metadata": {},
   "outputs": [
    {
     "name": "stderr",
     "output_type": "stream",
     "text": [
      "[Parallel(n_jobs=-1)]: Using backend ThreadingBackend with 16 concurrent workers.\n"
     ]
    },
    {
     "name": "stdout",
     "output_type": "stream",
     "text": [
      "Epoch 1, change: 1.00000000\n",
      "Epoch 2, change: 0.17716336\n",
      "Epoch 3, change: 0.09755169\n",
      "Epoch 4, change: 0.06104966\n",
      "Epoch 5, change: 0.05853594\n",
      "Epoch 6, change: 0.04133116\n",
      "Epoch 7, change: 0.03790245\n",
      "Epoch 8, change: 0.03314668\n",
      "Epoch 9, change: 0.03180011\n",
      "Epoch 10, change: 0.02818997\n",
      "Epoch 11, change: 0.02520837\n",
      "Epoch 12, change: 0.02467807\n",
      "Epoch 13, change: 0.02093246\n",
      "Epoch 14, change: 0.01914958\n",
      "Epoch 15, change: 0.01804885\n",
      "Epoch 16, change: 0.01655844\n",
      "Epoch 17, change: 0.01672209\n",
      "Epoch 18, change: 0.01592217\n",
      "Epoch 19, change: 0.01347378\n",
      "Epoch 20, change: 0.01311072\n",
      "Epoch 21, change: 0.01150175\n",
      "Epoch 22, change: 0.01192667\n",
      "Epoch 23, change: 0.01114256\n",
      "Epoch 24, change: 0.01136521\n",
      "Epoch 25, change: 0.01031033\n",
      "Epoch 26, change: 0.00913385\n",
      "Epoch 27, change: 0.00886872\n",
      "Epoch 28, change: 0.00898746\n",
      "Epoch 29, change: 0.00875986\n",
      "Epoch 30, change: 0.00724233\n",
      "Epoch 31, change: 0.00684575\n",
      "Epoch 32, change: 0.00677380\n",
      "Epoch 33, change: 0.00676094\n",
      "Epoch 34, change: 0.00695038\n",
      "Epoch 35, change: 0.00642357\n",
      "Epoch 36, change: 0.00640280\n",
      "Epoch 37, change: 0.00651828\n",
      "Epoch 38, change: 0.00657547\n",
      "Epoch 39, change: 0.00644346\n",
      "Epoch 40, change: 0.00644638\n",
      "Epoch 41, change: 0.00630787\n",
      "Epoch 42, change: 0.00458550\n",
      "Epoch 43, change: 0.00438770\n",
      "Epoch 44, change: 0.00434324\n",
      "Epoch 45, change: 0.00445241\n",
      "Epoch 46, change: 0.00452952\n",
      "Epoch 47, change: 0.00427020\n",
      "Epoch 48, change: 0.00427912\n",
      "Epoch 49, change: 0.00421085\n",
      "Epoch 50, change: 0.00430908\n",
      "Epoch 51, change: 0.00421171\n",
      "Epoch 52, change: 0.00417042\n",
      "Epoch 53, change: 0.00413960\n",
      "Epoch 54, change: 0.00417478\n",
      "Epoch 55, change: 0.00411145\n",
      "Epoch 56, change: 0.00409647\n",
      "Epoch 57, change: 0.00411975\n",
      "Epoch 58, change: 0.00406674\n",
      "Epoch 59, change: 0.00404930\n",
      "Epoch 60, change: 0.00403991\n",
      "Epoch 61, change: 0.00404594\n",
      "Epoch 62, change: 0.00403384\n",
      "Epoch 63, change: 0.00399842\n",
      "Epoch 64, change: 0.00397196\n",
      "Epoch 65, change: 0.00395456\n",
      "Epoch 66, change: 0.00384694\n",
      "Epoch 67, change: 0.00335141\n",
      "Epoch 68, change: 0.00204743\n",
      "Epoch 69, change: 0.00204569\n",
      "Epoch 70, change: 0.00203988\n",
      "Epoch 71, change: 0.00206847\n",
      "Epoch 72, change: 0.00206954\n",
      "Epoch 73, change: 0.00204952\n",
      "Epoch 74, change: 0.00205496\n",
      "Epoch 75, change: 0.00202126\n",
      "Epoch 76, change: 0.00204683\n",
      "Epoch 77, change: 0.00200546\n",
      "Epoch 78, change: 0.00198997\n",
      "Epoch 79, change: 0.00206716\n",
      "Epoch 80, change: 0.00203174\n",
      "Epoch 81, change: 0.00196018\n",
      "Epoch 82, change: 0.00197947\n",
      "Epoch 83, change: 0.00198151\n",
      "Epoch 84, change: 0.00196983\n",
      "Epoch 85, change: 0.00198120\n",
      "Epoch 86, change: 0.00199081\n",
      "Epoch 87, change: 0.00195178\n",
      "Epoch 88, change: 0.00196821\n",
      "Epoch 89, change: 0.00194449\n",
      "Epoch 90, change: 0.00197697\n",
      "Epoch 91, change: 0.00194285\n",
      "Epoch 92, change: 0.00195977\n",
      "Epoch 93, change: 0.00194151\n",
      "Epoch 94, change: 0.00192365\n",
      "Epoch 95, change: 0.00192182\n",
      "Epoch 96, change: 0.00191900\n",
      "Epoch 97, change: 0.00191276\n",
      "Epoch 98, change: 0.00193667\n",
      "Epoch 99, change: 0.00190803\n",
      "max_iter reached after 1283 seconds\n",
      "Epoch 100, change: 0.00191594\n"
     ]
    },
    {
     "name": "stderr",
     "output_type": "stream",
     "text": [
      "/home/miikey_lol/.local/lib/python3.10/site-packages/sklearn/linear_model/_sag.py:350: ConvergenceWarning: The max_iter was reached which means the coef_ did not converge\n",
      "  warnings.warn(\n"
     ]
    },
    {
     "data": {
      "text/html": [
       "<style>#sk-container-id-1 {color: black;}#sk-container-id-1 pre{padding: 0;}#sk-container-id-1 div.sk-toggleable {background-color: white;}#sk-container-id-1 label.sk-toggleable__label {cursor: pointer;display: block;width: 100%;margin-bottom: 0;padding: 0.3em;box-sizing: border-box;text-align: center;}#sk-container-id-1 label.sk-toggleable__label-arrow:before {content: \"▸\";float: left;margin-right: 0.25em;color: #696969;}#sk-container-id-1 label.sk-toggleable__label-arrow:hover:before {color: black;}#sk-container-id-1 div.sk-estimator:hover label.sk-toggleable__label-arrow:before {color: black;}#sk-container-id-1 div.sk-toggleable__content {max-height: 0;max-width: 0;overflow: hidden;text-align: left;background-color: #f0f8ff;}#sk-container-id-1 div.sk-toggleable__content pre {margin: 0.2em;color: black;border-radius: 0.25em;background-color: #f0f8ff;}#sk-container-id-1 input.sk-toggleable__control:checked~div.sk-toggleable__content {max-height: 200px;max-width: 100%;overflow: auto;}#sk-container-id-1 input.sk-toggleable__control:checked~label.sk-toggleable__label-arrow:before {content: \"▾\";}#sk-container-id-1 div.sk-estimator input.sk-toggleable__control:checked~label.sk-toggleable__label {background-color: #d4ebff;}#sk-container-id-1 div.sk-label input.sk-toggleable__control:checked~label.sk-toggleable__label {background-color: #d4ebff;}#sk-container-id-1 input.sk-hidden--visually {border: 0;clip: rect(1px 1px 1px 1px);clip: rect(1px, 1px, 1px, 1px);height: 1px;margin: -1px;overflow: hidden;padding: 0;position: absolute;width: 1px;}#sk-container-id-1 div.sk-estimator {font-family: monospace;background-color: #f0f8ff;border: 1px dotted black;border-radius: 0.25em;box-sizing: border-box;margin-bottom: 0.5em;}#sk-container-id-1 div.sk-estimator:hover {background-color: #d4ebff;}#sk-container-id-1 div.sk-parallel-item::after {content: \"\";width: 100%;border-bottom: 1px solid gray;flex-grow: 1;}#sk-container-id-1 div.sk-label:hover label.sk-toggleable__label {background-color: #d4ebff;}#sk-container-id-1 div.sk-serial::before {content: \"\";position: absolute;border-left: 1px solid gray;box-sizing: border-box;top: 0;bottom: 0;left: 50%;z-index: 0;}#sk-container-id-1 div.sk-serial {display: flex;flex-direction: column;align-items: center;background-color: white;padding-right: 0.2em;padding-left: 0.2em;position: relative;}#sk-container-id-1 div.sk-item {position: relative;z-index: 1;}#sk-container-id-1 div.sk-parallel {display: flex;align-items: stretch;justify-content: center;background-color: white;position: relative;}#sk-container-id-1 div.sk-item::before, #sk-container-id-1 div.sk-parallel-item::before {content: \"\";position: absolute;border-left: 1px solid gray;box-sizing: border-box;top: 0;bottom: 0;left: 50%;z-index: -1;}#sk-container-id-1 div.sk-parallel-item {display: flex;flex-direction: column;z-index: 1;position: relative;background-color: white;}#sk-container-id-1 div.sk-parallel-item:first-child::after {align-self: flex-end;width: 50%;}#sk-container-id-1 div.sk-parallel-item:last-child::after {align-self: flex-start;width: 50%;}#sk-container-id-1 div.sk-parallel-item:only-child::after {width: 0;}#sk-container-id-1 div.sk-dashed-wrapped {border: 1px dashed gray;margin: 0 0.4em 0.5em 0.4em;box-sizing: border-box;padding-bottom: 0.4em;background-color: white;}#sk-container-id-1 div.sk-label label {font-family: monospace;font-weight: bold;display: inline-block;line-height: 1.2em;}#sk-container-id-1 div.sk-label-container {text-align: center;}#sk-container-id-1 div.sk-container {/* jupyter's `normalize.less` sets `[hidden] { display: none; }` but bootstrap.min.css set `[hidden] { display: none !important; }` so we also need the `!important` here to be able to override the default hidden behavior on the sphinx rendered scikit-learn.org. See: https://github.com/scikit-learn/scikit-learn/issues/21755 */display: inline-block !important;position: relative;}#sk-container-id-1 div.sk-text-repr-fallback {display: none;}</style><div id=\"sk-container-id-1\" class=\"sk-top-container\"><div class=\"sk-text-repr-fallback\"><pre>LogisticRegression(n_jobs=-1, solver=&#x27;saga&#x27;, verbose=1)</pre><b>In a Jupyter environment, please rerun this cell to show the HTML representation or trust the notebook. <br />On GitHub, the HTML representation is unable to render, please try loading this page with nbviewer.org.</b></div><div class=\"sk-container\" hidden><div class=\"sk-item\"><div class=\"sk-estimator sk-toggleable\"><input class=\"sk-toggleable__control sk-hidden--visually\" id=\"sk-estimator-id-1\" type=\"checkbox\" checked><label for=\"sk-estimator-id-1\" class=\"sk-toggleable__label sk-toggleable__label-arrow\">LogisticRegression</label><div class=\"sk-toggleable__content\"><pre>LogisticRegression(n_jobs=-1, solver=&#x27;saga&#x27;, verbose=1)</pre></div></div></div></div></div>"
      ],
      "text/plain": [
       "LogisticRegression(n_jobs=-1, solver='saga', verbose=1)"
      ]
     },
     "execution_count": 48,
     "metadata": {},
     "output_type": "execute_result"
    }
   ],
   "source": [
    "logistic_regressor = LogisticRegression(solver='saga', max_iter=200, verbose=1, n_jobs=-1)\n",
    "logistic_regressor.fit(train_features, y_train)"
   ]
  },
  {
   "cell_type": "code",
   "execution_count": 49,
   "metadata": {},
   "outputs": [],
   "source": [
    "log_predictions = logistic_regressor.predict(test_features)"
   ]
  },
  {
   "cell_type": "code",
   "execution_count": 50,
   "metadata": {},
   "outputs": [
    {
     "name": "stdout",
     "output_type": "stream",
     "text": [
      "              precision    recall  f1-score   support\n",
      "\n",
      "           七     0.9524    0.9722    0.9622       144\n",
      "           上     0.9926    0.9710    0.9817       138\n",
      "           下     0.9857    1.0000    0.9928       138\n",
      "           东     0.9655    0.9211    0.9428       152\n",
      "           买     0.9793    0.9793    0.9793       145\n",
      "           五     1.0000    0.9660    0.9827       147\n",
      "           什     0.9787    0.9583    0.9684       144\n",
      "           们     0.9664    1.0000    0.9829       144\n",
      "           会     0.9630    0.9701    0.9665       134\n",
      "           住     0.9866    0.9608    0.9735       153\n",
      "           作     0.9748    0.9873    0.9810       157\n",
      "           候     0.9925    0.9708    0.9815       137\n",
      "           关     0.9647    0.9762    0.9704       168\n",
      "           兴     0.9804    0.9868    0.9836       152\n",
      "           写     0.9793    0.9726    0.9759       146\n",
      "           几     1.0000    0.9739    0.9868       153\n",
      "           分     0.9808    0.9745    0.9776       157\n",
      "           医     0.9763    0.9821    0.9792       168\n",
      "           听     0.9712    0.9854    0.9783       137\n",
      "           和     0.9790    1.0000    0.9894       140\n",
      "           哪     0.9929    0.9929    0.9929       141\n",
      "           喜     0.9776    0.9924    0.9850       132\n",
      "           大     0.9752    0.9874    0.9812       159\n",
      "           妈     0.9857    0.9857    0.9857       140\n",
      "           字     0.9390    0.9625    0.9506       160\n",
      "           家     0.9675    0.9803    0.9739       152\n",
      "           少     1.0000    0.9936    0.9968       156\n",
      "           店     0.9797    0.9667    0.9732       150\n",
      "           想     0.9740    0.9804    0.9772       153\n",
      "           明     0.9803    0.9803    0.9803       152\n",
      "           星     0.9536    0.9730    0.9632       148\n",
      "           是     0.9338    0.8944    0.9137       142\n",
      "           月     0.9758    0.9938    0.9847       162\n",
      "           本     0.9559    0.9630    0.9594       135\n",
      "           来     0.9416    0.9667    0.9539       150\n",
      "           杯     0.9847    0.9699    0.9773       133\n",
      "           果     0.9371    0.9504    0.9437       141\n",
      "           校     0.9922    0.9549    0.9732       133\n",
      "           气     0.9809    0.9809    0.9809       157\n",
      "           漂     0.9862    0.9728    0.9795       147\n",
      "           爱     0.9497    0.9869    0.9679       153\n",
      "           猫     0.9808    1.0000    0.9903       153\n",
      "           电     0.9580    0.9716    0.9648       141\n",
      "           看     0.9815    0.9876    0.9845       161\n",
      "           米     0.9375    0.9302    0.9339       129\n",
      "           老     0.9806    0.9806    0.9806       155\n",
      "           苹     0.9809    0.9565    0.9686       161\n",
      "           话     0.9934    0.9615    0.9772       156\n",
      "           读     0.9745    0.9503    0.9623       161\n",
      "           车     0.9211    0.9524    0.9365       147\n",
      "\n",
      "    accuracy                         0.9728      7414\n",
      "   macro avg     0.9728    0.9726    0.9726      7414\n",
      "weighted avg     0.9729    0.9728    0.9727      7414\n",
      "\n"
     ]
    }
   ],
   "source": [
    "report = classification_report(y_test, log_predictions, digits=4)\n",
    "print(report)"
   ]
  },
  {
   "cell_type": "code",
   "execution_count": 51,
   "metadata": {},
   "outputs": [
    {
     "name": "stdout",
     "output_type": "stream",
     "text": [
      "k=1, 0.9320205017534394, 0.9320333354094308\n",
      "k=2, 0.9236579444294578, 0.9234632584499409\n",
      "k=3, 0.935122740760723, 0.9351316464696292\n",
      "k=4, 0.9379552198543296, 0.9379921787315746\n",
      "k=5, 0.9418667386026437, 0.9418664827145421\n",
      "k=6, 0.9420016185594821, 0.9419797708728109\n",
      "k=7, 0.9449689776099272, 0.944980302010864\n",
      "k=8, 0.944564337739412, 0.9445852375353653\n",
      "k=9, 0.9460480172646345, 0.9460632726371521\n",
      "k=10, 0.9449689776099272, 0.9449182268599144\n",
      "k=11, 0.945238737523604, 0.9452125213927784\n",
      "k=12, 0.9444294577825735, 0.9444943373566006\n",
      "k=13, 0.944564337739412, 0.9445727246255672\n",
      "k=14, 0.9455084974372808, 0.9455981935197081\n",
      "k=15, 0.9440248179120583, 0.9441535840737111\n",
      "k=16, 0.9433504181278662, 0.9434629349712335\n",
      "k=17, 0.9430806582141894, 0.9432009298520947\n",
      "k=18, 0.9411923388184515, 0.9412905355754615\n",
      "k=19, 0.9407876989479363, 0.9408822468770961\n",
      "k=20, 0.9403830590774211, 0.94049896850531\n",
      "k=21, 0.9405179390342595, 0.9405900845613012\n",
      "k=22, 0.9409225789047747, 0.9410031234319305\n",
      "k=23, 0.9411923388184515, 0.9412919930219643\n",
      "k=24, 0.94132721877529, 0.9414402992576314\n",
      "k=25, 0.9407876989479363, 0.9409454660987359\n",
      "k=26, 0.9405179390342595, 0.9406467996037452\n",
      "k=27, 0.9393040194227138, 0.9394397095126333\n",
      "k=28, 0.9395737793363906, 0.939691734913754\n",
      "k=29, 0.9394388993795522, 0.9395402701408959\n",
      "k=30, 0.9380900998111681, 0.9382167894248844\n",
      "k=31, 0.9383598597248449, 0.9384846256731859\n",
      "k=32, 0.9384947396816833, 0.9386894722130498\n",
      "k=33, 0.9379552198543296, 0.9381192042214911\n",
      "k=34, 0.9371459401132992, 0.9373193562940201\n",
      "k=35, 0.9380900998111681, 0.9382307577659902\n",
      "k=36, 0.9374157000269759, 0.9375967828017637\n",
      "k=37, 0.9376854599406528, 0.9378444970828117\n",
      "k=38, 0.9360669004585919, 0.9362216205412538\n",
      "k=39, 0.935797140544915, 0.9359655669556773\n",
      "k=40, 0.935797140544915, 0.9360241369780756\n",
      "k=41, 0.935797140544915, 0.9360044086619365\n",
      "k=42, 0.935797140544915, 0.9360339536223384\n",
      "k=43, 0.9362017804154302, 0.9364097995617405\n",
      "k=44, 0.9360669004585919, 0.9363135478499177\n",
      "k=45, 0.9367413002427839, 0.9370017896815593\n",
      "k=46, 0.9363366603722687, 0.9365629820790751\n",
      "k=47, 0.9356622605880767, 0.9359138112510376\n",
      "k=48, 0.9360669004585919, 0.9363196198426459\n",
      "k=49, 0.9360669004585919, 0.9363045581476952\n"
     ]
    }
   ],
   "source": [
    "f1s = []\n",
    "accuracys = []\n",
    "\n",
    "for i in range(2, 50, 1):\n",
    "    # Create an instance of the KNN classifier\n",
    "    knn = KNeighborsClassifier(n_neighbors=i, metric=\"euclidean\", n_jobs=-1)\n",
    "\n",
    "    # Fit the classifier to the training data\n",
    "    knn.fit(train_features, y_train)\n",
    "    \n",
    "    # Predict the labels for the test data\n",
    "    knn_predictions = knn.predict(test_features)\n",
    "    \n",
    "    # Calculate the accuracy score\n",
    "    accuracys.append(accuracy_score(y_test, knn_predictions))\n",
    "\n",
    "    # Calculate the f1 score\n",
    "    f1s.append(f1_score(y_test, knn_predictions, average='weighted'))\n",
    "    \n",
    "    print(f\"k={i}, {accuracys[-1]}, {f1s[-1]}\")"
   ]
  },
  {
   "cell_type": "code",
   "execution_count": 72,
   "metadata": {},
   "outputs": [
    {
     "data": {
      "image/png": "[encoded data removed]",
      "text/plain": [
       "<Figure size 1000x400 with 2 Axes>"
      ]
     },
     "metadata": {},
     "output_type": "display_data"
    }
   ],
   "source": [
    "STEP = 3\n",
    "k_values = range(2, 50, STEP)\n",
    "fig, (ax1, ax2) = plt.subplots(1, 2, figsize=(10, 4))\n",
    "\n",
    "ax1.plot(k_values, f1s[::STEP])\n",
    "ax1.set_xlabel('k')\n",
    "ax1.set_ylabel('F1 Score')\n",
    "\n",
    "ax2.plot(k_values, accuracys[::STEP])\n",
    "ax2.set_xlabel('k')\n",
    "ax2.set_ylabel('Accuracy')\n",
    "\n",
    "plt.tight_layout()\n",
    "plt.show()\n"
   ]
  },
  {
   "cell_type": "code",
   "execution_count": 10,
   "metadata": {},
   "outputs": [
    {
     "name": "stderr",
     "output_type": "stream",
     "text": [
      "[Parallel(n_jobs=-1)]: Using backend ThreadingBackend with 16 concurrent workers.\n",
      "[Parallel(n_jobs=-1)]: Done  18 tasks      | elapsed:    2.0s\n",
      "[Parallel(n_jobs=-1)]: Done 168 tasks      | elapsed:   10.9s\n",
      "[Parallel(n_jobs=-1)]: Done 418 tasks      | elapsed:   25.3s\n",
      "[Parallel(n_jobs=-1)]: Done 750 out of 750 | elapsed:   44.0s finished\n"
     ]
    },
    {
     "data": {
      "text/html": [
       "<style>#sk-container-id-1 {color: black;}#sk-container-id-1 pre{padding: 0;}#sk-container-id-1 div.sk-toggleable {background-color: white;}#sk-container-id-1 label.sk-toggleable__label {cursor: pointer;display: block;width: 100%;margin-bottom: 0;padding: 0.3em;box-sizing: border-box;text-align: center;}#sk-container-id-1 label.sk-toggleable__label-arrow:before {content: \"▸\";float: left;margin-right: 0.25em;color: #696969;}#sk-container-id-1 label.sk-toggleable__label-arrow:hover:before {color: black;}#sk-container-id-1 div.sk-estimator:hover label.sk-toggleable__label-arrow:before {color: black;}#sk-container-id-1 div.sk-toggleable__content {max-height: 0;max-width: 0;overflow: hidden;text-align: left;background-color: #f0f8ff;}#sk-container-id-1 div.sk-toggleable__content pre {margin: 0.2em;color: black;border-radius: 0.25em;background-color: #f0f8ff;}#sk-container-id-1 input.sk-toggleable__control:checked~div.sk-toggleable__content {max-height: 200px;max-width: 100%;overflow: auto;}#sk-container-id-1 input.sk-toggleable__control:checked~label.sk-toggleable__label-arrow:before {content: \"▾\";}#sk-container-id-1 div.sk-estimator input.sk-toggleable__control:checked~label.sk-toggleable__label {background-color: #d4ebff;}#sk-container-id-1 div.sk-label input.sk-toggleable__control:checked~label.sk-toggleable__label {background-color: #d4ebff;}#sk-container-id-1 input.sk-hidden--visually {border: 0;clip: rect(1px 1px 1px 1px);clip: rect(1px, 1px, 1px, 1px);height: 1px;margin: -1px;overflow: hidden;padding: 0;position: absolute;width: 1px;}#sk-container-id-1 div.sk-estimator {font-family: monospace;background-color: #f0f8ff;border: 1px dotted black;border-radius: 0.25em;box-sizing: border-box;margin-bottom: 0.5em;}#sk-container-id-1 div.sk-estimator:hover {background-color: #d4ebff;}#sk-container-id-1 div.sk-parallel-item::after {content: \"\";width: 100%;border-bottom: 1px solid gray;flex-grow: 1;}#sk-container-id-1 div.sk-label:hover label.sk-toggleable__label {background-color: #d4ebff;}#sk-container-id-1 div.sk-serial::before {content: \"\";position: absolute;border-left: 1px solid gray;box-sizing: border-box;top: 0;bottom: 0;left: 50%;z-index: 0;}#sk-container-id-1 div.sk-serial {display: flex;flex-direction: column;align-items: center;background-color: white;padding-right: 0.2em;padding-left: 0.2em;position: relative;}#sk-container-id-1 div.sk-item {position: relative;z-index: 1;}#sk-container-id-1 div.sk-parallel {display: flex;align-items: stretch;justify-content: center;background-color: white;position: relative;}#sk-container-id-1 div.sk-item::before, #sk-container-id-1 div.sk-parallel-item::before {content: \"\";position: absolute;border-left: 1px solid gray;box-sizing: border-box;top: 0;bottom: 0;left: 50%;z-index: -1;}#sk-container-id-1 div.sk-parallel-item {display: flex;flex-direction: column;z-index: 1;position: relative;background-color: white;}#sk-container-id-1 div.sk-parallel-item:first-child::after {align-self: flex-end;width: 50%;}#sk-container-id-1 div.sk-parallel-item:last-child::after {align-self: flex-start;width: 50%;}#sk-container-id-1 div.sk-parallel-item:only-child::after {width: 0;}#sk-container-id-1 div.sk-dashed-wrapped {border: 1px dashed gray;margin: 0 0.4em 0.5em 0.4em;box-sizing: border-box;padding-bottom: 0.4em;background-color: white;}#sk-container-id-1 div.sk-label label {font-family: monospace;font-weight: bold;display: inline-block;line-height: 1.2em;}#sk-container-id-1 div.sk-label-container {text-align: center;}#sk-container-id-1 div.sk-container {/* jupyter's `normalize.less` sets `[hidden] { display: none; }` but bootstrap.min.css set `[hidden] { display: none !important; }` so we also need the `!important` here to be able to override the default hidden behavior on the sphinx rendered scikit-learn.org. See: https://github.com/scikit-learn/scikit-learn/issues/21755 */display: inline-block !important;position: relative;}#sk-container-id-1 div.sk-text-repr-fallback {display: none;}</style><div id=\"sk-container-id-1\" class=\"sk-top-container\"><div class=\"sk-text-repr-fallback\"><pre>RandomForestClassifier(n_estimators=750, n_jobs=-1, random_state=42, verbose=1)</pre><b>In a Jupyter environment, please rerun this cell to show the HTML representation or trust the notebook. <br />On GitHub, the HTML representation is unable to render, please try loading this page with nbviewer.org.</b></div><div class=\"sk-container\" hidden><div class=\"sk-item\"><div class=\"sk-estimator sk-toggleable\"><input class=\"sk-toggleable__control sk-hidden--visually\" id=\"sk-estimator-id-1\" type=\"checkbox\" checked><label for=\"sk-estimator-id-1\" class=\"sk-toggleable__label sk-toggleable__label-arrow\">RandomForestClassifier</label><div class=\"sk-toggleable__content\"><pre>RandomForestClassifier(n_estimators=750, n_jobs=-1, random_state=42, verbose=1)</pre></div></div></div></div></div>"
      ],
      "text/plain": [
       "RandomForestClassifier(n_estimators=750, n_jobs=-1, random_state=42, verbose=1)"
      ]
     },
     "execution_count": 10,
     "metadata": {},
     "output_type": "execute_result"
    }
   ],
   "source": [
    "from sklearn.ensemble import RandomForestClassifier\n",
    "rf = RandomForestClassifier(n_estimators=750, random_state=42, verbose=1, n_jobs=-1)\n",
    "rf.fit(train_features, y_train)"
   ]
  },
  {
   "cell_type": "code",
   "execution_count": 11,
   "metadata": {},
   "outputs": [
    {
     "name": "stderr",
     "output_type": "stream",
     "text": [
      "[Parallel(n_jobs=16)]: Using backend ThreadingBackend with 16 concurrent workers.\n",
      "[Parallel(n_jobs=16)]: Done  18 tasks      | elapsed:    0.0s\n",
      "[Parallel(n_jobs=16)]: Done 168 tasks      | elapsed:    0.2s\n",
      "[Parallel(n_jobs=16)]: Done 418 tasks      | elapsed:    0.5s\n"
     ]
    },
    {
     "name": "stdout",
     "output_type": "stream",
     "text": [
      "Random Forest Accuracy: 0.9402481791205827\n"
     ]
    },
    {
     "name": "stderr",
     "output_type": "stream",
     "text": [
      "[Parallel(n_jobs=16)]: Done 750 out of 750 | elapsed:    0.9s finished\n"
     ]
    }
   ],
   "source": [
    "rf_score = rf.score(test_features, y_test)\n",
    "print(f\"Random Forest Accuracy: {rf_score}\")"
   ]
  },
  {
   "cell_type": "code",
   "execution_count": null,
   "metadata": {},
   "outputs": [],
   "source": [
    "from sklearn.svm import SVC\n",
    "from sklearn.model_selection import GridSearchCV\n",
    "# Define the parameter grid for grid search\n",
    "param_grid = {\n",
    "    'C': [0.1, 1, 10],\n",
    "    'kernel': ['linear', 'rbf', 'poly'],\n",
    "    'gamma': ['scale', 'auto']\n",
    "}\n",
    "\n",
    "# Create an instance of the SVM classifier\n",
    "svm_classifier = SVC()\n",
    "\n",
    "# Create an instance of GridSearchCV\n",
    "grid_search = GridSearchCV(svm_classifier, param_grid, cv=5, verbose=1)\n",
    "\n",
    "# Fit the classifier to the training data using grid search\n",
    "grid_search.fit(train_features, y_train)"
   ]
  },
  {
   "cell_type": "code",
   "execution_count": 73,
   "metadata": {},
   "outputs": [
    {
     "ename": "NameError",
     "evalue": "name 'best_params' is not defined",
     "output_type": "error",
     "traceback": [
      "\u001b[0;31m---------------------------------------------------------------------------\u001b[0m",
      "\u001b[0;31mNameError\u001b[0m                                 Traceback (most recent call last)",
      "Cell \u001b[0;32mIn[73], line 2\u001b[0m\n\u001b[1;32m      1\u001b[0m \u001b[38;5;66;03m# Print the best parameters and best score\u001b[39;00m\n\u001b[0;32m----> 2\u001b[0m \u001b[38;5;28mprint\u001b[39m(\u001b[38;5;124m\"\u001b[39m\u001b[38;5;124mBest Parameters:\u001b[39m\u001b[38;5;124m\"\u001b[39m, \u001b[43mbest_params\u001b[49m)\n\u001b[1;32m      3\u001b[0m \u001b[38;5;28mprint\u001b[39m(\u001b[38;5;124m\"\u001b[39m\u001b[38;5;124mBest Score:\u001b[39m\u001b[38;5;124m\"\u001b[39m, best_score)\n",
      "\u001b[0;31mNameError\u001b[0m: name 'best_params' is not defined"
     ]
    }
   ],
   "source": [
    "# Print the best parameters and best score\n",
    "print(\"Best Parameters:\", grid_search.best_params_)\n",
    "print(\"Best Score:\", grid_search.best_score_)"
   ]
  },
  {
   "cell_type": "code",
   "execution_count": null,
   "metadata": {},
   "outputs": [],
   "source": [
    "# Predict the labels for the test data using the best estimator\n",
    "svm_predictions = grid_search.best_estimator_.predict(test_features)"
   ]
  },
  {
   "cell_type": "code",
   "execution_count": 30,
   "metadata": {},
   "outputs": [
    {
     "name": "stdout",
     "output_type": "stream",
     "text": [
      "Accuracy: 0.9718100890207715\n",
      "F1 Score: 0.9718150695213609\n"
     ]
    }
   ],
   "source": [
    "# Calculate the accuracy score\n",
    "accuracy = accuracy_score(y_test, svm_predictions)\n",
    "\n",
    "# Calculate the f1 score\n",
    "f1 = f1_score(y_test, svm_predictions, average='weighted')\n",
    "\n",
    "# Print the accuracy and f1 score report\n",
    "print(f\"Accuracy: {accuracy}\")\n",
    "print(f\"F1 Score: {f1}\")"
   ]
  }
 ],
 "metadata": {
  "kernelspec": {
   "display_name": "Python 3",
   "language": "python",
   "name": "python3"
  },
  "language_info": {
   "codemirror_mode": {
    "name": "ipython",
    "version": 3
   },
   "file_extension": ".py",
   "mimetype": "text/x-python",
   "name": "python",
   "nbconvert_exporter": "python",
   "pygments_lexer": "ipython3",
   "version": "3.10.12"
  }
 },
 "nbformat": 4,
 "nbformat_minor": 2
}
