{
 "cells": [
  {
   "cell_type": "markdown",
   "metadata": {},
   "source": [
    "# Project setup"
   ]
  },
  {
   "cell_type": "markdown",
   "metadata": {},
   "source": [
    "Import necessary libraries"
   ]
  },
  {
   "cell_type": "code",
   "execution_count": 29,
   "metadata": {},
   "outputs": [],
   "source": [
    "# System\n",
    "import os\n",
    "import shutil\n",
    "import glob\n",
    "\n",
    "# Image handling\n",
    "from PIL import Image, ImageOps\n",
    "\n",
    "# Numerical\n",
    "import numpy as np\n",
    "import pandas as pd\n",
    "import random\n",
    "\n",
    "# Plotting\n",
    "import matplotlib.pyplot as plt\n",
    "import seaborn as sns\n",
    "\n",
    "# CNN\n",
    "from keras.utils import to_categorical, set_random_seed\n",
    "from keras.models import Sequential, load_model, Model\n",
    "from keras.layers import Input, Conv2D, MaxPooling2D, Flatten, Dense, BatchNormalization, Dropout\n",
    "from keras.optimizers import Adam\n",
    "from keras.callbacks import EarlyStopping\n",
    "\n",
    "# Tuning\n",
    "import keras_tuner as kt\n",
    "\n",
    "# Machine Learning\n",
    "from sklearn.calibration import LabelEncoder\n",
    "from sklearn.model_selection import train_test_split, KFold, GridSearchCV\n",
    "from sklearn.linear_model import LogisticRegression\n",
    "from sklearn.neighbors import KNeighborsClassifier\n",
    "from sklearn.metrics import classification_report, accuracy_score, f1_score"
   ]
  },
  {
   "cell_type": "code",
   "execution_count": 30,
   "metadata": {},
   "outputs": [],
   "source": [
    "SEED = 42\n",
    "random.seed(SEED)\n",
    "set_random_seed(SEED)\n",
    "np.random.seed(SEED)"
   ]
  },
  {
   "cell_type": "markdown",
   "metadata": {},
   "source": [
    "First we establish the directory to where our data is stored, and where we ultimately want to store our cleaned, preprocessed data."
   ]
  },
  {
   "cell_type": "code",
   "execution_count": 31,
   "metadata": {},
   "outputs": [],
   "source": [
    "INIT_DIR = 'chinese-handwriting-recognition-hsk-1/chinese-handwriting/'\n",
    "\n",
    "INIT_TRAIN_DIR = os.path.join(INIT_DIR, 'CASIA-HWDB_Train/Train/')\n",
    "INIT_TEST_DIR = os.path.join(INIT_DIR, 'CASIA-HWDB_Test/Test/')\n",
    "\n",
    "DIR = 'data/'"
   ]
  },
  {
   "cell_type": "markdown",
   "metadata": {},
   "source": [
    "# Data investigation"
   ]
  },
  {
   "cell_type": "markdown",
   "metadata": {},
   "source": [
    "First lets have a look at how many data classes we have in the dataset. The dataset has been split into test and train already so lets check how many classes we have in each."
   ]
  },
  {
   "cell_type": "code",
   "execution_count": 32,
   "metadata": {},
   "outputs": [
    {
     "name": "stdout",
     "output_type": "stream",
     "text": [
      "The same classes are in each folder\n"
     ]
    }
   ],
   "source": [
    "image_classes = os.listdir(INIT_TRAIN_DIR)\n",
    "\n",
    "if image_classes == os.listdir(INIT_TEST_DIR):\n",
    "    print('The same classes are in each folder')\n",
    "else:\n",
    "    print('The two folders contain different classes')"
   ]
  },
  {
   "cell_type": "code",
   "execution_count": 33,
   "metadata": {},
   "outputs": [],
   "source": [
    "# # image_classes = ['零', '一', '二']\n",
    "# # image_classes = ['零', '一', '二', '三', '四', '五', '六', '七', '八', '九', '十']\n",
    "# # image_classes = image_classes_train[:20]\n",
    "# image_classes = random.sample(image_classes, 50)\n",
    "# # image_classes = image_classes_train"
   ]
  },
  {
   "cell_type": "markdown",
   "metadata": {},
   "source": [
    "Next, lets combine the the train and test data into one directory for simplicity.\n",
    "\n",
    "We start by creating a new directory for our preprocessed data."
   ]
  },
  {
   "cell_type": "code",
   "execution_count": 34,
   "metadata": {},
   "outputs": [],
   "source": [
    "# Remove old data\n",
    "if os.path.exists(DIR):\n",
    "    shutil.rmtree(DIR)\n",
    "    \n",
    "#Create the new directory\n",
    "os.mkdir(DIR)\n",
    "for image_class in image_classes:\n",
    "    path = os.path.join(DIR, image_class)\n",
    "    os.makedirs(path)"
   ]
  },
  {
   "cell_type": "markdown",
   "metadata": {},
   "source": [
    "Now let's combine the train and test data into one directory. This is specified by the `DIR` variable."
   ]
  },
  {
   "cell_type": "code",
   "execution_count": 35,
   "metadata": {},
   "outputs": [],
   "source": [
    "def combineDirectories():\n",
    "    for image_class in image_classes:\n",
    "        images = []\n",
    "\n",
    "        # Fetch images from train dir\n",
    "        train_path = os.path.join(INIT_TRAIN_DIR, image_class)\n",
    "        images += [os.path.join(train_path, file) for file in os.listdir(train_path)]\n",
    "\n",
    "        # Fetch images from test dir\n",
    "        test_path = os.path.join(INIT_TEST_DIR, image_class)\n",
    "        images += [os.path.join(test_path, file) for file in os.listdir(test_path)]\n",
    "\n",
    "        # Iterate over the splits and images and copy them to the data directory\n",
    "        for i, image in enumerate(images):\n",
    "            new_filename = f\"{i+1}.png\"\n",
    "            destination_path = os.path.join(DIR, image_class, new_filename)\n",
    "            shutil.copy(image, destination_path)\n",
    "            \n",
    "combineDirectories()"
   ]
  },
  {
   "cell_type": "markdown",
   "metadata": {},
   "source": [
    "# Data Pre-processing"
   ]
  },
  {
   "cell_type": "markdown",
   "metadata": {},
   "source": [
    "First lets iterate through all the images and and confirm they are all `.png` and black & white "
   ]
  },
  {
   "cell_type": "code",
   "execution_count": 36,
   "metadata": {},
   "outputs": [],
   "source": [
    "def checkGrayscale():\n",
    "    # Loop through each subdirectory and file in the directory\n",
    "    for subdir, dirs, images in os.walk(DIR):\n",
    "        for image in images:\n",
    "            if image.lower().endswith('.png'):\n",
    "                file_path = os.path.join(subdir, image)\n",
    "\n",
    "                with Image.open(file_path) as img:\n",
    "                    if img.mode != 'L':\n",
    "                        print(f\"{file_path} is not grayscale.\")\n",
    "            else:\n",
    "                print(\"Not a png file: \")\n",
    "checkGrayscale()"
   ]
  },
  {
   "cell_type": "markdown",
   "metadata": {},
   "source": [
    "Next let's iterate through all the images and check if any have an aspect ratio that is not 1:1."
   ]
  },
  {
   "cell_type": "code",
   "execution_count": 37,
   "metadata": {},
   "outputs": [],
   "source": [
    "def checkAspectRatios():\n",
    "    image_sizes = []\n",
    "\n",
    "    # Iterate through all the images and check if any do not have a 1:1 aspect ratio\n",
    "    for subdir, dirs, images in os.walk(DIR):\n",
    "        for image in images:\n",
    "            file_path = os.path.join(subdir, image)\n",
    "            with Image.open(file_path) as img:\n",
    "                image_sizes.append(img.size[0])\n",
    "\n",
    "                if img.size[0] != img.size[1]:\n",
    "                    print(file_path, img.size)\n",
    "                    \n",
    "    return image_sizes\n",
    "                    \n",
    "image_sizes = checkAspectRatios()"
   ]
  },
  {
   "cell_type": "markdown",
   "metadata": {},
   "source": [
    "Since all the images are square, this makes it easier to investigate their image sizes."
   ]
  },
  {
   "cell_type": "code",
   "execution_count": 38,
   "metadata": {},
   "outputs": [
    {
     "name": "stdout",
     "output_type": "stream",
     "text": [
      "Smallest dimension: 3\n"
     ]
    },
    {
     "data": {
      "image/png": "[encoded data removed]",
      "text/plain": [
       "<Figure size 500x500 with 1 Axes>"
      ]
     },
     "metadata": {},
     "output_type": "display_data"
    }
   ],
   "source": [
    "print(f\"Smallest dimension: {min(image_sizes)}\")\n",
    "\n",
    "# Plotting\n",
    "sns.displot(image_sizes)\n",
    "plt.xlabel('Dimension')\n",
    "plt.ylabel('Frequency')\n",
    "plt.tight_layout()\n",
    "plt.show()"
   ]
  },
  {
   "cell_type": "markdown",
   "metadata": {},
   "source": [
    "As you can see from the graph, the images are not all the same size. This will cause issues when we try to train the model, so we need to resize all the images to the same size. Additionally one of the images is only 3x3 which is way too small to be useful, so we will enforce a minimum image size."
   ]
  },
  {
   "cell_type": "code",
   "execution_count": 11,
   "metadata": {},
   "outputs": [],
   "source": [
    "MIN_IMAGE_SIZE = 20\n",
    "IMAGE_SIZE = 48\n",
    "\n",
    "def resizeImages():\n",
    "    # Iterate through all the images and resize to a fixed size\n",
    "    for subdir, dirs, images in os.walk(DIR):\n",
    "        for image in images:\n",
    "            file_path = os.path.join(subdir, image)\n",
    "            with Image.open(file_path) as img:\n",
    "                current_size = img.size[0]\n",
    "                if current_size < MIN_IMAGE_SIZE:\n",
    "                    os.remove(file_path)\n",
    "                    continue\n",
    "                \n",
    "                if current_size != IMAGE_SIZE:\n",
    "                    img = img.resize((IMAGE_SIZE, IMAGE_SIZE), Image.Resampling.LANCZOS)\n",
    "                \n",
    "                img = ImageOps.invert(img)\n",
    "                img.save(file_path)\n",
    "                \n",
    "resizeImages()"
   ]
  },
  {
   "cell_type": "markdown",
   "metadata": {},
   "source": [
    "Now lets check how many images we have in each class and see how balanced the classes are."
   ]
  },
  {
   "cell_type": "code",
   "execution_count": 12,
   "metadata": {},
   "outputs": [
    {
     "data": {
      "image/png": "[encoded data removed]",
      "text/plain": [
       "<Figure size 500x500 with 1 Axes>"
      ]
     },
     "metadata": {},
     "output_type": "display_data"
    },
    {
     "name": "stdout",
     "output_type": "stream",
     "text": [
      "            Count\n",
      "count  178.000000\n",
      "mean   741.269663\n",
      "std      3.031898\n",
      "min    721.000000\n",
      "5%     737.000000\n",
      "25%    740.000000\n",
      "50%    741.000000\n",
      "75%    743.000000\n",
      "95%    746.000000\n",
      "max    748.000000\n"
     ]
    }
   ],
   "source": [
    "def get_class_counts():\n",
    "    class_counts = {}\n",
    "    \n",
    "    for subdir in glob.glob(os.path.join(DIR, '*')):\n",
    "        file_count = len(glob.glob(os.path.join(subdir, '*')))\n",
    "        class_counts[subdir.split('/')[-1]] = file_count\n",
    "\n",
    "    return pd.DataFrame.from_dict(class_counts, orient='index', columns=['Count'])\n",
    "\n",
    "df_class_counts = get_class_counts() \n",
    "\n",
    "sns.displot(list(df_class_counts['Count']))\n",
    "plt.xlabel('Samples per class')\n",
    "plt.ylabel('Class count')\n",
    "plt.tight_layout()\n",
    "plt.show()\n",
    "\n",
    "print(df_class_counts.describe([0.05, 0.25, 0.75, 0.95]))"
   ]
  },
  {
   "cell_type": "markdown",
   "metadata": {},
   "source": [
    "From this we can see that the classes are fairly balanced, let's quickly have a look at the slight imbalance in the classes.\n",
    "We can arbitrarily choose a balance metric such as outside the range of 2 standard deviations from the mean."
   ]
  },
  {
   "cell_type": "code",
   "execution_count": 13,
   "metadata": {},
   "outputs": [
    {
     "name": "stdout",
     "output_type": "stream",
     "text": [
      "   Count\n",
      "月    748\n",
      "零    732\n",
      "四    734\n",
      "样    721\n",
      "老    734\n",
      "六    733\n"
     ]
    }
   ],
   "source": [
    "df_class_counts = get_class_counts() \n",
    "\n",
    "mean = df_class_counts['Count'].mean()\n",
    "std = df_class_counts['Count'].std()\n",
    "threshold = 2 * std\n",
    "\n",
    "outlier_counts = df_class_counts[np.abs(df_class_counts['Count'] - mean) > threshold]\n",
    "print(outlier_counts)"
   ]
  },
  {
   "cell_type": "markdown",
   "metadata": {},
   "source": [
    "As we can see, the imbalance is minimal. Because of this, we will not be using any class balancing techniques."
   ]
  },
  {
   "cell_type": "markdown",
   "metadata": {},
   "source": [
    "Let's have a look some examples of the images in the dataset."
   ]
  },
  {
   "cell_type": "code",
   "execution_count": 14,
   "metadata": {},
   "outputs": [
    {
     "data": {
      "image/png": "[encoded data removed]",
      "text/plain": [
       "<Figure size 800x800 with 4 Axes>"
      ]
     },
     "metadata": {},
     "output_type": "display_data"
    }
   ],
   "source": [
    "import glob\n",
    "\n",
    "# Get list of all .png images in the directory and its subdirectories\n",
    "images = glob.glob(os.path.join(DIR, '**', '*.png'), recursive=True)\n",
    "\n",
    "# Randomly select num_images images\n",
    "random_images = random.sample(images, 4)\n",
    "\n",
    "fig, axs = plt.subplots(2, 2, figsize=(8, 8))\n",
    "\n",
    "# Set the font for the plot\n",
    "import matplotlib.font_manager as fm\n",
    "font_path = 'NotoSansCJKsc-Regular.otf'\n",
    "prop = fm.FontProperties(fname=font_path)\n",
    "\n",
    "for i in range(2):\n",
    "    for j in range(2):\n",
    "        img_path = random_images[2 * i + j]\n",
    "        img = Image.open(img_path)\n",
    "        axs[i][j].imshow(img)\n",
    "        axs[i][j].set_title(f\"Character: {img_path.split('/')[1]}\", fontproperties=prop,fontsize = 13)"
   ]
  },
  {
   "cell_type": "markdown",
   "metadata": {},
   "source": [
    "# NumPy Array Conversion\n",
    "\n",
    "Now we can convert all the images into one single numpy array with the corresponding labels for each image."
   ]
  },
  {
   "cell_type": "code",
   "execution_count": 15,
   "metadata": {},
   "outputs": [],
   "source": [
    "def get_numpy_data(classes):\n",
    "    images = []\n",
    "    labels = []\n",
    "    for image_class in classes:\n",
    "        path = os.path.join(DIR, image_class)\n",
    "        for image in os.listdir(path):\n",
    "            image_path = os.path.join(path, image)\n",
    "\n",
    "            img = Image.open(image_path)\n",
    "            img_array = np.array(img)\n",
    "\n",
    "            images.append(img_array)\n",
    "            labels.append(image_class)\n",
    "            \n",
    "    return np.array(images), np.array(labels)"
   ]
  },
  {
   "cell_type": "markdown",
   "metadata": {},
   "source": [
    "Now we can convert the python lists into numpy arrays."
   ]
  },
  {
   "cell_type": "code",
   "execution_count": 16,
   "metadata": {},
   "outputs": [],
   "source": [
    "# random_image_classes = random.sample(image_classes, 50)\n",
    "\n",
    "images, labels = get_numpy_data(image_classes)"
   ]
  },
  {
   "cell_type": "markdown",
   "metadata": {},
   "source": [
    "And finally we can save the numpy arrays to the root directory."
   ]
  },
  {
   "cell_type": "code",
   "execution_count": 17,
   "metadata": {},
   "outputs": [],
   "source": [
    "np.save('images.npy', images)\n",
    "np.save('labels.npy', labels)"
   ]
  },
  {
   "cell_type": "markdown",
   "metadata": {},
   "source": [
    "## CNN Training"
   ]
  },
  {
   "cell_type": "code",
   "execution_count": 4,
   "metadata": {},
   "outputs": [
    {
     "name": "stdout",
     "output_type": "stream",
     "text": [
      "['很' '小' '同' ... '这' '对' '去']\n",
      "['高' '怎' '姐' ... '电' '冷' '关']\n"
     ]
    }
   ],
   "source": [
    "images = np.load('images.npy').astype(\"float32\") / 255\n",
    "labels = np.load('labels.npy')\n",
    "\n",
    "X_train, X_test, y_train, y_test = train_test_split(images, labels, test_size=0.2, random_state=42)\n",
    "\n",
    "def one_hot_encode_labels(y1, y2):\n",
    "    print(y1)\n",
    "    print(y2)\n",
    "    label_encoder = LabelEncoder()\n",
    "    label_encoder.fit(np.concatenate((y1, y2)))\n",
    "    \n",
    "    y1_encoded = label_encoder.transform(y1)\n",
    "    y2_encoded = label_encoder.transform(y2)\n",
    "    \n",
    "    num_classes = len(label_encoder.classes_)\n",
    "    y1_categorical = to_categorical(y1_encoded, num_classes=num_classes)\n",
    "    y2_categorical = to_categorical(y2_encoded, num_classes=num_classes)\n",
    "    \n",
    "    return y1_categorical, y2_categorical\n",
    "\n",
    "y_train_ohe, y_test_ohe = one_hot_encode_labels(y_train, y_test)\n",
    "\n",
    "NUM_CLASSES = y_train_ohe.shape[1]"
   ]
  },
  {
   "cell_type": "code",
   "execution_count": 5,
   "metadata": {},
   "outputs": [
    {
     "name": "stdout",
     "output_type": "stream",
     "text": [
      "(105556, 48, 48)\n",
      "(26390, 48, 48)\n",
      "(105556, 178)\n",
      "(26390, 178)\n",
      "(105556,)\n",
      "(26390,)\n"
     ]
    }
   ],
   "source": [
    "print(X_train.shape)\n",
    "print(X_test.shape)\n",
    "print(y_train_ohe.shape)\n",
    "print(y_test_ohe.shape)\n",
    "print(y_train.shape)\n",
    "print(y_test.shape)"
   ]
  },
  {
   "cell_type": "code",
   "execution_count": 7,
   "metadata": {},
   "outputs": [],
   "source": [
    "def getCNNModel(hp):\n",
    "    model = Sequential([\n",
    "        Input(shape=(IMAGE_SIZE, IMAGE_SIZE, 1)),\n",
    "        \n",
    "        Conv2D(hp.Int('conv_1_filters', min_value=8, max_value=32, step=8), kernel_size=3, activation='relu'),\n",
    "        BatchNormalization(),\n",
    "        MaxPooling2D(2, 2),\n",
    "        Dropout(hp.Float('dropout_1', min_value=0.0, max_value=0.5, step=0.1)),\n",
    "        \n",
    "        Conv2D(hp.Int('conv_2_filters', min_value=16, max_value=64, step=16), kernel_size=3, activation='relu'),\n",
    "        BatchNormalization(),\n",
    "        MaxPooling2D(2, 2),\n",
    "        Dropout(hp.Float('dropout_2', min_value=0.0, max_value=0.5, step=0.1)),\n",
    "        \n",
    "        Conv2D(hp.Int('conv_3_filters', min_value=32, max_value=128, step=32), kernel_size=2, activation='relu'),\n",
    "        MaxPooling2D(2, 2),\n",
    "        Dropout(hp.Float('dropout_3', min_value=0.0, max_value=0.5, step=0.1)),\n",
    "        \n",
    "        Flatten(),\n",
    "        Dense(units=hp.Int('dense_units', min_value=128, max_value=1024, step=128), activation='relu'),\n",
    "        Dropout(hp.Float('dropout_4', min_value=0.0, max_value=0.7, step=0.1)),\n",
    "        Dense(units=NUM_CLASSES, activation='softmax')\n",
    "    ])\n",
    "\n",
    "    # Compile the model\n",
    "    model.compile(\n",
    "        optimizer=Adam(\n",
    "            hp.Choice('learning_rate', values=[1e-2, 5e-3, 1e-3, 5e-4, 1e-4])),\n",
    "        loss='categorical_crossentropy',\n",
    "        metrics=['accuracy'])\n",
    "\n",
    "    return model"
   ]
  },
  {
   "cell_type": "code",
   "execution_count": 21,
   "metadata": {},
   "outputs": [
    {
     "name": "stdout",
     "output_type": "stream",
     "text": [
      "Trial 30 Complete [00h 05m 38s]\n",
      "val_accuracy: 0.9280030131340027\n",
      "\n",
      "Best val_accuracy So Far: 0.9476127028465271\n",
      "Total elapsed time: 01h 26m 45s\n"
     ]
    }
   ],
   "source": [
    "from keras.callbacks import LearningRateScheduler\n",
    "from keras.callbacks import ModelCheckpoint\n",
    "\n",
    "tuner = kt.Hyperband(\n",
    "    getCNNModel,\n",
    "    objective='val_accuracy',\n",
    "    max_epochs=15,\n",
    "    directory='hyperband',\n",
    "    project_name='cnn_tuning5')\n",
    "\n",
    "EPOCHS = 30\n",
    "\n",
    "annealer = LearningRateScheduler(\n",
    "    lambda x: 1e-3 * 0.99 ** (2 * x))\n",
    "stop_early = EarlyStopping(\n",
    "    monitor='loss',\n",
    "    patience=5)\n",
    "checkpoint = ModelCheckpoint(\n",
    "    'best_model.h5',\n",
    "    monitor='val_accuracy',\n",
    "    verbose=0,\n",
    "    save_best_only=True)\n",
    "\n",
    "tuner.search(\n",
    "    X_train, y_train_ohe,\n",
    "    validation_split=0.2,\n",
    "    callbacks=[annealer, stop_early, checkpoint],\n",
    "    epochs=EPOCHS, batch_size=128)"
   ]
  },
  {
   "cell_type": "code",
   "execution_count": 22,
   "metadata": {},
   "outputs": [
    {
     "name": "stdout",
     "output_type": "stream",
     "text": [
      "Best hyperparameters: {'conv_1_filters': 24, 'dropout_1': 0.0, 'conv_2_filters': 64, 'dropout_2': 0.1, 'conv_3_filters': 128, 'dropout_3': 0.4, 'dense_units': 384, 'dropout_4': 0.2, 'learning_rate': 0.005, 'tuner/epochs': 15, 'tuner/initial_epoch': 5, 'tuner/bracket': 1, 'tuner/round': 1, 'tuner/trial_id': '0021'}\n"
     ]
    }
   ],
   "source": [
    "best_hps = tuner.get_best_hyperparameters(num_trials=1)[0]\n",
    "print(f\"Best hyperparameters: {best_hps.values}\")"
   ]
  },
  {
   "cell_type": "code",
   "execution_count": 23,
   "metadata": {},
   "outputs": [
    {
     "name": "stdout",
     "output_type": "stream",
     "text": [
      "Fold 1/5\n",
      "Epoch 1/15\n",
      "1320/1320 [==============================] - 24s 18ms/step - loss: 0.4527 - accuracy: 0.8657 - val_loss: 0.2133 - val_accuracy: 0.9427\n",
      "Epoch 2/15\n",
      "1320/1320 [==============================] - 24s 18ms/step - loss: 0.4101 - accuracy: 0.8781 - val_loss: 0.2194 - val_accuracy: 0.9391\n",
      "Epoch 3/15\n",
      "1320/1320 [==============================] - 24s 18ms/step - loss: 0.3912 - accuracy: 0.8832 - val_loss: 0.2278 - val_accuracy: 0.9372\n",
      "Epoch 4/15\n",
      "1320/1320 [==============================] - 24s 18ms/step - loss: 0.3735 - accuracy: 0.8876 - val_loss: 0.2688 - val_accuracy: 0.9220\n",
      "Epoch 5/15\n",
      "1320/1320 [==============================] - 24s 18ms/step - loss: 0.3589 - accuracy: 0.8911 - val_loss: 0.2259 - val_accuracy: 0.9362\n",
      "Epoch 6/15\n",
      "1320/1320 [==============================] - 24s 18ms/step - loss: 0.3456 - accuracy: 0.8945 - val_loss: 0.2368 - val_accuracy: 0.9324\n",
      "Epoch 7/15\n",
      "1320/1320 [==============================] - 24s 18ms/step - loss: 0.3339 - accuracy: 0.8998 - val_loss: 0.2232 - val_accuracy: 0.9353\n",
      "Epoch 8/15\n",
      "1320/1320 [==============================] - 23s 18ms/step - loss: 0.3231 - accuracy: 0.9018 - val_loss: 0.2258 - val_accuracy: 0.9347\n",
      "Epoch 9/15\n",
      "1320/1320 [==============================] - 23s 18ms/step - loss: 0.3135 - accuracy: 0.9032 - val_loss: 0.2491 - val_accuracy: 0.9288\n",
      "Epoch 10/15\n",
      "1320/1320 [==============================] - 23s 18ms/step - loss: 0.3054 - accuracy: 0.9053 - val_loss: 0.2444 - val_accuracy: 0.9295\n",
      "Epoch 11/15\n",
      "1320/1320 [==============================] - 23s 18ms/step - loss: 0.2992 - accuracy: 0.9063 - val_loss: 0.2181 - val_accuracy: 0.9398\n",
      "Epoch 12/15\n",
      "1320/1320 [==============================] - 24s 18ms/step - loss: 0.2861 - accuracy: 0.9111 - val_loss: 0.2205 - val_accuracy: 0.9361\n",
      "Epoch 13/15\n",
      "1320/1320 [==============================] - 24s 18ms/step - loss: 0.2778 - accuracy: 0.9132 - val_loss: 0.2263 - val_accuracy: 0.9353\n",
      "Epoch 14/15\n",
      "1320/1320 [==============================] - 23s 18ms/step - loss: 0.2724 - accuracy: 0.9154 - val_loss: 0.2141 - val_accuracy: 0.9400\n",
      "Epoch 15/15\n",
      "1320/1320 [==============================] - 23s 18ms/step - loss: 0.2641 - accuracy: 0.9171 - val_loss: 0.2051 - val_accuracy: 0.9409\n",
      "Best epoch: 1, Val_accuracy: 0.9427340030670166\n",
      "Fold 2/5\n",
      "Epoch 1/15\n",
      "1320/1320 [==============================] - 24s 18ms/step - loss: 0.4494 - accuracy: 0.8657 - val_loss: 0.2265 - val_accuracy: 0.9366\n",
      "Epoch 2/15\n",
      "1320/1320 [==============================] - 23s 18ms/step - loss: 0.4151 - accuracy: 0.8755 - val_loss: 0.2105 - val_accuracy: 0.9434\n",
      "Epoch 3/15\n",
      "1320/1320 [==============================] - 23s 18ms/step - loss: 0.3959 - accuracy: 0.8818 - val_loss: 0.2222 - val_accuracy: 0.9387\n",
      "Epoch 4/15\n",
      "1320/1320 [==============================] - 23s 18ms/step - loss: 0.3750 - accuracy: 0.8867 - val_loss: 0.2110 - val_accuracy: 0.9407\n",
      "Epoch 5/15\n",
      "1320/1320 [==============================] - 23s 18ms/step - loss: 0.3605 - accuracy: 0.8915 - val_loss: 0.2120 - val_accuracy: 0.9394\n",
      "Epoch 6/15\n",
      "1320/1320 [==============================] - 24s 18ms/step - loss: 0.3507 - accuracy: 0.8932 - val_loss: 0.2164 - val_accuracy: 0.9381\n",
      "Epoch 7/15\n",
      "1320/1320 [==============================] - 23s 18ms/step - loss: 0.3371 - accuracy: 0.8976 - val_loss: 0.2421 - val_accuracy: 0.9271\n",
      "Epoch 8/15\n",
      "1320/1320 [==============================] - 23s 18ms/step - loss: 0.3272 - accuracy: 0.8997 - val_loss: 0.2353 - val_accuracy: 0.9302\n",
      "Epoch 9/15\n",
      "1320/1320 [==============================] - 24s 18ms/step - loss: 0.3128 - accuracy: 0.9037 - val_loss: 0.2252 - val_accuracy: 0.9359\n",
      "Epoch 10/15\n",
      "1320/1320 [==============================] - 24s 18ms/step - loss: 0.3051 - accuracy: 0.9057 - val_loss: 0.2144 - val_accuracy: 0.9372\n",
      "Epoch 11/15\n",
      "1320/1320 [==============================] - 23s 18ms/step - loss: 0.2929 - accuracy: 0.9090 - val_loss: 0.2236 - val_accuracy: 0.9359\n",
      "Epoch 12/15\n",
      "1320/1320 [==============================] - 23s 18ms/step - loss: 0.2844 - accuracy: 0.9108 - val_loss: 0.2171 - val_accuracy: 0.9371\n",
      "Epoch 13/15\n",
      "1320/1320 [==============================] - 24s 18ms/step - loss: 0.2750 - accuracy: 0.9134 - val_loss: 0.2216 - val_accuracy: 0.9361\n",
      "Epoch 14/15\n",
      "1320/1320 [==============================] - 23s 18ms/step - loss: 0.2693 - accuracy: 0.9158 - val_loss: 0.2096 - val_accuracy: 0.9391\n",
      "Epoch 15/15\n",
      "1320/1320 [==============================] - 23s 18ms/step - loss: 0.2607 - accuracy: 0.9185 - val_loss: 0.2005 - val_accuracy: 0.9424\n",
      "Best epoch: 2, Val_accuracy: 0.9434418082237244\n",
      "Fold 3/5\n",
      "Epoch 1/15\n",
      "1320/1320 [==============================] - 24s 18ms/step - loss: 0.4519 - accuracy: 0.8664 - val_loss: 0.2382 - val_accuracy: 0.9370\n",
      "Epoch 2/15\n",
      "1320/1320 [==============================] - 24s 18ms/step - loss: 0.4115 - accuracy: 0.8778 - val_loss: 0.2371 - val_accuracy: 0.9334\n",
      "Epoch 3/15\n",
      "1320/1320 [==============================] - 24s 18ms/step - loss: 0.3930 - accuracy: 0.8812 - val_loss: 0.2183 - val_accuracy: 0.9395\n",
      "Epoch 4/15\n",
      "1320/1320 [==============================] - 24s 18ms/step - loss: 0.3762 - accuracy: 0.8871 - val_loss: 0.2304 - val_accuracy: 0.9393\n",
      "Epoch 5/15\n",
      "1320/1320 [==============================] - 24s 18ms/step - loss: 0.3649 - accuracy: 0.8891 - val_loss: 0.2404 - val_accuracy: 0.9325\n",
      "Epoch 6/15\n",
      "1320/1320 [==============================] - 24s 18ms/step - loss: 0.3459 - accuracy: 0.8954 - val_loss: 0.2148 - val_accuracy: 0.9411\n",
      "Epoch 7/15\n",
      "1320/1320 [==============================] - 24s 18ms/step - loss: 0.3351 - accuracy: 0.8964 - val_loss: 0.2334 - val_accuracy: 0.9336\n",
      "Epoch 8/15\n",
      "1320/1320 [==============================] - 24s 18ms/step - loss: 0.3278 - accuracy: 0.8988 - val_loss: 0.2284 - val_accuracy: 0.9356\n",
      "Epoch 9/15\n",
      "1320/1320 [==============================] - 24s 18ms/step - loss: 0.3143 - accuracy: 0.9026 - val_loss: 0.2276 - val_accuracy: 0.9368\n",
      "Epoch 10/15\n",
      "1320/1320 [==============================] - 24s 18ms/step - loss: 0.3041 - accuracy: 0.9062 - val_loss: 0.2101 - val_accuracy: 0.9418\n",
      "Epoch 11/15\n",
      "1320/1320 [==============================] - 24s 18ms/step - loss: 0.2987 - accuracy: 0.9066 - val_loss: 0.2153 - val_accuracy: 0.9400\n",
      "Epoch 12/15\n",
      "1320/1320 [==============================] - 24s 18ms/step - loss: 0.2849 - accuracy: 0.9119 - val_loss: 0.2230 - val_accuracy: 0.9372\n",
      "Epoch 13/15\n",
      "1320/1320 [==============================] - 24s 18ms/step - loss: 0.2801 - accuracy: 0.9126 - val_loss: 0.2253 - val_accuracy: 0.9379\n",
      "Epoch 14/15\n",
      "1320/1320 [==============================] - 24s 18ms/step - loss: 0.2669 - accuracy: 0.9168 - val_loss: 0.2194 - val_accuracy: 0.9391\n",
      "Epoch 15/15\n",
      "1320/1320 [==============================] - 24s 18ms/step - loss: 0.2613 - accuracy: 0.9177 - val_loss: 0.2469 - val_accuracy: 0.9304\n",
      "Best epoch: 10, Val_accuracy: 0.9417839050292969\n",
      "Fold 4/5\n",
      "Epoch 1/15\n",
      "1320/1320 [==============================] - 25s 18ms/step - loss: 0.4515 - accuracy: 0.8667 - val_loss: 0.2195 - val_accuracy: 0.9422\n",
      "Epoch 2/15\n",
      "1320/1320 [==============================] - 24s 18ms/step - loss: 0.4140 - accuracy: 0.8762 - val_loss: 0.2243 - val_accuracy: 0.9382\n",
      "Epoch 3/15\n",
      "1320/1320 [==============================] - 23s 18ms/step - loss: 0.3917 - accuracy: 0.8825 - val_loss: 0.2234 - val_accuracy: 0.9361\n",
      "Epoch 4/15\n",
      "1320/1320 [==============================] - 23s 18ms/step - loss: 0.3750 - accuracy: 0.8858 - val_loss: 0.2237 - val_accuracy: 0.9377\n",
      "Epoch 5/15\n",
      "1320/1320 [==============================] - 23s 18ms/step - loss: 0.3616 - accuracy: 0.8907 - val_loss: 0.2241 - val_accuracy: 0.9370\n",
      "Epoch 6/15\n",
      "1320/1320 [==============================] - 23s 18ms/step - loss: 0.3501 - accuracy: 0.8930 - val_loss: 0.2150 - val_accuracy: 0.9374\n",
      "Epoch 7/15\n",
      "1320/1320 [==============================] - 23s 18ms/step - loss: 0.3345 - accuracy: 0.8988 - val_loss: 0.2175 - val_accuracy: 0.9383\n",
      "Epoch 8/15\n",
      "1320/1320 [==============================] - 23s 18ms/step - loss: 0.3270 - accuracy: 0.8992 - val_loss: 0.2135 - val_accuracy: 0.9412\n",
      "Epoch 9/15\n",
      "1320/1320 [==============================] - 23s 18ms/step - loss: 0.3155 - accuracy: 0.9035 - val_loss: 0.2178 - val_accuracy: 0.9391\n",
      "Epoch 10/15\n",
      "1320/1320 [==============================] - 24s 18ms/step - loss: 0.3039 - accuracy: 0.9053 - val_loss: 0.2151 - val_accuracy: 0.9410\n",
      "Epoch 11/15\n",
      "1320/1320 [==============================] - 24s 18ms/step - loss: 0.2961 - accuracy: 0.9080 - val_loss: 0.2301 - val_accuracy: 0.9339\n",
      "Epoch 12/15\n",
      "1320/1320 [==============================] - 24s 18ms/step - loss: 0.2853 - accuracy: 0.9112 - val_loss: 0.2487 - val_accuracy: 0.9290\n",
      "Epoch 13/15\n",
      "1320/1320 [==============================] - 23s 18ms/step - loss: 0.2769 - accuracy: 0.9128 - val_loss: 0.2179 - val_accuracy: 0.9381\n",
      "Epoch 14/15\n",
      "1320/1320 [==============================] - 24s 18ms/step - loss: 0.2689 - accuracy: 0.9154 - val_loss: 0.2105 - val_accuracy: 0.9405\n",
      "Epoch 15/15\n",
      "1320/1320 [==============================] - 24s 18ms/step - loss: 0.2615 - accuracy: 0.9181 - val_loss: 0.2379 - val_accuracy: 0.9330\n",
      "Best epoch: 1, Val_accuracy: 0.9421628713607788\n",
      "Fold 5/5\n",
      "Epoch 1/15\n",
      "1320/1320 [==============================] - 24s 18ms/step - loss: 0.4481 - accuracy: 0.8677 - val_loss: 0.2700 - val_accuracy: 0.9233\n",
      "Epoch 2/15\n",
      "1320/1320 [==============================] - 23s 18ms/step - loss: 0.4152 - accuracy: 0.8763 - val_loss: 0.2478 - val_accuracy: 0.9271\n",
      "Epoch 3/15\n",
      "1320/1320 [==============================] - 23s 18ms/step - loss: 0.3893 - accuracy: 0.8829 - val_loss: 0.2562 - val_accuracy: 0.9277\n",
      "Epoch 4/15\n",
      "1320/1320 [==============================] - 23s 18ms/step - loss: 0.3724 - accuracy: 0.8876 - val_loss: 0.2159 - val_accuracy: 0.9397\n",
      "Epoch 5/15\n",
      "1320/1320 [==============================] - 23s 18ms/step - loss: 0.3613 - accuracy: 0.8898 - val_loss: 0.2324 - val_accuracy: 0.9370\n",
      "Epoch 6/15\n",
      "1320/1320 [==============================] - 23s 18ms/step - loss: 0.3488 - accuracy: 0.8930 - val_loss: 0.2305 - val_accuracy: 0.9360\n",
      "Epoch 7/15\n",
      "1320/1320 [==============================] - 23s 18ms/step - loss: 0.3353 - accuracy: 0.8966 - val_loss: 0.2256 - val_accuracy: 0.9369\n",
      "Epoch 8/15\n",
      "1320/1320 [==============================] - 24s 18ms/step - loss: 0.3203 - accuracy: 0.9019 - val_loss: 0.2188 - val_accuracy: 0.9408\n",
      "Epoch 9/15\n",
      "1320/1320 [==============================] - 24s 18ms/step - loss: 0.3130 - accuracy: 0.9046 - val_loss: 0.2382 - val_accuracy: 0.9326\n",
      "Epoch 10/15\n",
      "1320/1320 [==============================] - 24s 18ms/step - loss: 0.3009 - accuracy: 0.9070 - val_loss: 0.2293 - val_accuracy: 0.9365\n",
      "Epoch 11/15\n",
      "1320/1320 [==============================] - 24s 18ms/step - loss: 0.2948 - accuracy: 0.9091 - val_loss: 0.2375 - val_accuracy: 0.9317\n",
      "Epoch 12/15\n",
      "1320/1320 [==============================] - 24s 18ms/step - loss: 0.2858 - accuracy: 0.9104 - val_loss: 0.2345 - val_accuracy: 0.9329\n",
      "Epoch 13/15\n",
      "1320/1320 [==============================] - 24s 18ms/step - loss: 0.2790 - accuracy: 0.9135 - val_loss: 0.2086 - val_accuracy: 0.9414\n",
      "Epoch 14/15\n",
      "1320/1320 [==============================] - 23s 18ms/step - loss: 0.2729 - accuracy: 0.9147 - val_loss: 0.2407 - val_accuracy: 0.9309\n",
      "Epoch 15/15\n",
      "1320/1320 [==============================] - 23s 18ms/step - loss: 0.2608 - accuracy: 0.9187 - val_loss: 0.2163 - val_accuracy: 0.9396\n",
      "Best epoch: 13, Val_accuracy: 0.9414049386978149\n"
     ]
    }
   ],
   "source": [
    "k = 5\n",
    "kfold = KFold(n_splits=k, shuffle=True, random_state=42)\n",
    "fold_history = []\n",
    "\n",
    "for i, (train_idxs, val_idxs) in enumerate(kfold.split(X_train, y_train_ohe)):\n",
    "    print(f\"Fold {i + 1}/{k}\")\n",
    "    \n",
    "    model = load_model('best_model.h5')\n",
    "    \n",
    "    history = model.fit(\n",
    "        X_train[train_idxs],\n",
    "        y_train_ohe[train_idxs],\n",
    "        validation_data=(X_train[val_idxs], y_train_ohe[val_idxs]),\n",
    "        epochs=15,\n",
    "        batch_size=64\n",
    "    )\n",
    "    val_acc_per_epoch = history.history['val_accuracy']\n",
    "    best_epoch = val_acc_per_epoch.index(max(val_acc_per_epoch)) + 1\n",
    "    print(f'Best epoch: {best_epoch}, Val_accuracy: {max(val_acc_per_epoch)}')\n",
    "    fold_history.append(history)"
   ]
  },
  {
   "cell_type": "code",
   "execution_count": 6,
   "metadata": {},
   "outputs": [
    {
     "name": "stdout",
     "output_type": "stream",
     "text": [
      "3299/3299 [==============================] - 9s 3ms/step\n",
      "825/825 [==============================] - 2s 2ms/step\n"
     ]
    }
   ],
   "source": [
    "full_model = load_model('best_model.h5')\n",
    "feature_model = Model(inputs=full_model.input, outputs=full_model.layers[-4].output)\n",
    "\n",
    "train_features = feature_model.predict(X_train)\n",
    "test_features = feature_model.predict(X_test)"
   ]
  },
  {
   "cell_type": "code",
   "execution_count": 7,
   "metadata": {},
   "outputs": [
    {
     "name": "stdout",
     "output_type": "stream",
     "text": [
      "(105556, 2048)\n"
     ]
    }
   ],
   "source": [
    "print(train_features.shape)"
   ]
  },
  {
   "cell_type": "code",
   "execution_count": 26,
   "metadata": {},
   "outputs": [
    {
     "name": "stderr",
     "output_type": "stream",
     "text": [
      "[Parallel(n_jobs=-1)]: Using backend LokyBackend with 16 concurrent workers.\n"
     ]
    },
    {
     "name": "stdout",
     "output_type": "stream",
     "text": [
      "RUNNING THE L-BFGS-B CODE\n",
      "\n",
      "           * * *\n",
      "\n",
      "Machine precision = 2.220D-16\n",
      " N =       364722     M =           10\n",
      "\n",
      "At X0         0 variables are exactly at the bounds\n",
      "\n",
      "At iterate    0    f=  5.46968D+05    |proj g|=  1.42853D+03\n"
     ]
    },
    {
     "name": "stderr",
     "output_type": "stream",
     "text": [
      " This problem is unconstrained.\n"
     ]
    },
    {
     "name": "stdout",
     "output_type": "stream",
     "text": [
      "\n",
      "At iterate   50    f=  3.27623D+03    |proj g|=  1.51607D+01\n",
      "\n",
      "At iterate  100    f=  2.31434D+03    |proj g|=  3.56976D+00\n",
      "\n",
      "At iterate  150    f=  2.20039D+03    |proj g|=  8.18258D-01\n",
      "\n",
      "At iterate  200    f=  2.19173D+03    |proj g|=  2.61294D-01\n",
      "\n",
      "At iterate  250    f=  2.19076D+03    |proj g|=  1.84372D-01\n",
      "\n",
      "At iterate  300    f=  2.19023D+03    |proj g|=  1.74695D-01\n",
      "\n",
      "At iterate  350    f=  2.18798D+03    |proj g|=  1.05793D+00\n",
      "\n",
      "At iterate  400    f=  2.18549D+03    |proj g|=  1.10663D+00\n",
      "\n",
      "At iterate  450    f=  2.18499D+03    |proj g|=  1.11940D-01\n",
      "\n",
      "At iterate  500    f=  2.18493D+03    |proj g|=  8.84021D-02\n",
      "\n",
      "At iterate  550    f=  2.18491D+03    |proj g|=  7.87202D-02\n",
      "\n",
      "At iterate  600    f=  2.18480D+03    |proj g|=  1.05857D-01\n",
      "\n",
      "At iterate  650    f=  2.18468D+03    |proj g|=  6.27128D-02\n",
      "\n",
      "At iterate  700    f=  2.18466D+03    |proj g|=  2.40350D-02\n",
      "\n",
      "At iterate  750    f=  2.18466D+03    |proj g|=  2.01169D-02\n",
      "\n",
      "At iterate  800    f=  2.18466D+03    |proj g|=  1.86884D-02\n",
      "\n",
      "At iterate  850    f=  2.18465D+03    |proj g|=  2.40776D-02\n",
      "\n",
      "At iterate  900    f=  2.18464D+03    |proj g|=  1.61316D-02\n",
      "\n",
      "At iterate  950    f=  2.18464D+03    |proj g|=  5.17118D-03\n",
      "\n",
      "           * * *\n",
      "\n",
      "Tit   = total number of iterations\n",
      "Tnf   = total number of function evaluations\n",
      "Tnint = total number of segments explored during Cauchy searches\n",
      "Skip  = number of BFGS updates skipped\n",
      "Nact  = number of active bounds at final generalized Cauchy point\n",
      "Projg = norm of the final projected gradient\n",
      "F     = final function value\n",
      "\n",
      "           * * *\n",
      "\n",
      "   N    Tit     Tnf  Tnint  Skip  Nact     Projg        F\n",
      "*****    959    997      1     0     0   8.880D-03   2.185D+03\n",
      "  F =   2184.6402129860253     \n",
      "\n",
      "CONVERGENCE: REL_REDUCTION_OF_F_<=_FACTR*EPSMCH             \n"
     ]
    },
    {
     "data": {
      "text/html": [
       "<style>#sk-container-id-6 {color: black;}#sk-container-id-6 pre{padding: 0;}#sk-container-id-6 div.sk-toggleable {background-color: white;}#sk-container-id-6 label.sk-toggleable__label {cursor: pointer;display: block;width: 100%;margin-bottom: 0;padding: 0.3em;box-sizing: border-box;text-align: center;}#sk-container-id-6 label.sk-toggleable__label-arrow:before {content: \"▸\";float: left;margin-right: 0.25em;color: #696969;}#sk-container-id-6 label.sk-toggleable__label-arrow:hover:before {color: black;}#sk-container-id-6 div.sk-estimator:hover label.sk-toggleable__label-arrow:before {color: black;}#sk-container-id-6 div.sk-toggleable__content {max-height: 0;max-width: 0;overflow: hidden;text-align: left;background-color: #f0f8ff;}#sk-container-id-6 div.sk-toggleable__content pre {margin: 0.2em;color: black;border-radius: 0.25em;background-color: #f0f8ff;}#sk-container-id-6 input.sk-toggleable__control:checked~div.sk-toggleable__content {max-height: 200px;max-width: 100%;overflow: auto;}#sk-container-id-6 input.sk-toggleable__control:checked~label.sk-toggleable__label-arrow:before {content: \"▾\";}#sk-container-id-6 div.sk-estimator input.sk-toggleable__control:checked~label.sk-toggleable__label {background-color: #d4ebff;}#sk-container-id-6 div.sk-label input.sk-toggleable__control:checked~label.sk-toggleable__label {background-color: #d4ebff;}#sk-container-id-6 input.sk-hidden--visually {border: 0;clip: rect(1px 1px 1px 1px);clip: rect(1px, 1px, 1px, 1px);height: 1px;margin: -1px;overflow: hidden;padding: 0;position: absolute;width: 1px;}#sk-container-id-6 div.sk-estimator {font-family: monospace;background-color: #f0f8ff;border: 1px dotted black;border-radius: 0.25em;box-sizing: border-box;margin-bottom: 0.5em;}#sk-container-id-6 div.sk-estimator:hover {background-color: #d4ebff;}#sk-container-id-6 div.sk-parallel-item::after {content: \"\";width: 100%;border-bottom: 1px solid gray;flex-grow: 1;}#sk-container-id-6 div.sk-label:hover label.sk-toggleable__label {background-color: #d4ebff;}#sk-container-id-6 div.sk-serial::before {content: \"\";position: absolute;border-left: 1px solid gray;box-sizing: border-box;top: 0;bottom: 0;left: 50%;z-index: 0;}#sk-container-id-6 div.sk-serial {display: flex;flex-direction: column;align-items: center;background-color: white;padding-right: 0.2em;padding-left: 0.2em;position: relative;}#sk-container-id-6 div.sk-item {position: relative;z-index: 1;}#sk-container-id-6 div.sk-parallel {display: flex;align-items: stretch;justify-content: center;background-color: white;position: relative;}#sk-container-id-6 div.sk-item::before, #sk-container-id-6 div.sk-parallel-item::before {content: \"\";position: absolute;border-left: 1px solid gray;box-sizing: border-box;top: 0;bottom: 0;left: 50%;z-index: -1;}#sk-container-id-6 div.sk-parallel-item {display: flex;flex-direction: column;z-index: 1;position: relative;background-color: white;}#sk-container-id-6 div.sk-parallel-item:first-child::after {align-self: flex-end;width: 50%;}#sk-container-id-6 div.sk-parallel-item:last-child::after {align-self: flex-start;width: 50%;}#sk-container-id-6 div.sk-parallel-item:only-child::after {width: 0;}#sk-container-id-6 div.sk-dashed-wrapped {border: 1px dashed gray;margin: 0 0.4em 0.5em 0.4em;box-sizing: border-box;padding-bottom: 0.4em;background-color: white;}#sk-container-id-6 div.sk-label label {font-family: monospace;font-weight: bold;display: inline-block;line-height: 1.2em;}#sk-container-id-6 div.sk-label-container {text-align: center;}#sk-container-id-6 div.sk-container {/* jupyter's `normalize.less` sets `[hidden] { display: none; }` but bootstrap.min.css set `[hidden] { display: none !important; }` so we also need the `!important` here to be able to override the default hidden behavior on the sphinx rendered scikit-learn.org. See: https://github.com/scikit-learn/scikit-learn/issues/21755 */display: inline-block !important;position: relative;}#sk-container-id-6 div.sk-text-repr-fallback {display: none;}</style><div id=\"sk-container-id-6\" class=\"sk-top-container\"><div class=\"sk-text-repr-fallback\"><pre>LogisticRegression(max_iter=2000, n_jobs=-1, verbose=1)</pre><b>In a Jupyter environment, please rerun this cell to show the HTML representation or trust the notebook. <br />On GitHub, the HTML representation is unable to render, please try loading this page with nbviewer.org.</b></div><div class=\"sk-container\" hidden><div class=\"sk-item\"><div class=\"sk-estimator sk-toggleable\"><input class=\"sk-toggleable__control sk-hidden--visually\" id=\"sk-estimator-id-8\" type=\"checkbox\" checked><label for=\"sk-estimator-id-8\" class=\"sk-toggleable__label sk-toggleable__label-arrow\">LogisticRegression</label><div class=\"sk-toggleable__content\"><pre>LogisticRegression(max_iter=2000, n_jobs=-1, verbose=1)</pre></div></div></div></div></div>"
      ],
      "text/plain": [
       "LogisticRegression(max_iter=2000, n_jobs=-1, verbose=1)"
      ]
     },
     "execution_count": 26,
     "metadata": {},
     "output_type": "execute_result"
    }
   ],
   "source": [
    "logistic_regressor = LogisticRegression(solver='lbfgs', max_iter=2000, verbose=1, n_jobs=-1)\n",
    "logistic_regressor.fit(train_features, y_train)"
   ]
  },
  {
   "cell_type": "code",
   "execution_count": 27,
   "metadata": {},
   "outputs": [],
   "source": [
    "log_predictions = logistic_regressor.predict(test_features)"
   ]
  },
  {
   "cell_type": "code",
   "execution_count": 28,
   "metadata": {},
   "outputs": [
    {
     "name": "stdout",
     "output_type": "stream",
     "text": [
      "              precision    recall  f1-score   support\n",
      "\n",
      "           一     1.0000    0.9865    0.9932       148\n",
      "           七     0.9366    0.9500    0.9433       140\n",
      "           三     0.9581    0.9756    0.9668       164\n",
      "           上     0.9387    0.9684    0.9533       158\n",
      "           下     0.9675    0.9675    0.9675       154\n",
      "           不     0.9397    0.9478    0.9437       115\n",
      "           东     0.9394    0.8857    0.9118       140\n",
      "           个     0.9643    0.9759    0.9701       166\n",
      "           中     0.9448    0.9771    0.9607       175\n",
      "           么     0.9189    0.9855    0.9510       138\n",
      "           九     0.9673    0.9548    0.9610       155\n",
      "           习     0.9371    0.9933    0.9644       150\n",
      "           书     0.9456    0.9653    0.9553       144\n",
      "           买     0.9493    0.9493    0.9493       138\n",
      "           了     0.9571    0.9811    0.9689       159\n",
      "           二     0.9349    0.9875    0.9605       160\n",
      "           五     0.9517    0.9139    0.9324       151\n",
      "           些     0.9716    0.9856    0.9786       139\n",
      "           京     0.9182    0.9419    0.9299       155\n",
      "           亮     0.9507    0.9247    0.9375       146\n",
      "           人     0.9870    0.9806    0.9838       155\n",
      "           什     0.9412    1.0000    0.9697       144\n",
      "           今     0.9342    0.9467    0.9404       150\n",
      "           他     0.9536    0.9536    0.9536       151\n",
      "           们     0.9484    0.9671    0.9577       152\n",
      "           会     0.9527    0.9400    0.9463       150\n",
      "           住     0.9451    0.9627    0.9538       161\n",
      "           作     0.9286    0.9559    0.9420       136\n",
      "           你     0.9216    0.9156    0.9186       154\n",
      "           候     0.9857    0.9718    0.9787       142\n",
      "           做     0.9752    0.9365    0.9555       126\n",
      "           儿     0.8873    0.9333    0.9097       135\n",
      "           先     0.8971    0.8971    0.8971       136\n",
      "           八     0.9722    0.9722    0.9722       144\n",
      "           六     0.9173    0.9313    0.9242       131\n",
      "           关     0.9200    0.9324    0.9262       148\n",
      "           兴     0.9408    0.9533    0.9470       150\n",
      "           再     0.9862    0.9533    0.9695       150\n",
      "           写     0.9125    0.9419    0.9270       155\n",
      "           冷     0.9463    0.9463    0.9463       149\n",
      "           几     0.8882    0.9060    0.8970       149\n",
      "           出     0.9470    0.9328    0.9398       134\n",
      "           分     0.9471    0.9096    0.9280       177\n",
      "           前     0.9927    0.9714    0.9819       140\n",
      "           北     0.9286    0.9862    0.9565       145\n",
      "           医     0.9870    0.9744    0.9806       156\n",
      "           十     0.9250    0.9801    0.9518       151\n",
      "           午     0.9437    0.9371    0.9404       143\n",
      "           去     0.9205    0.9085    0.9145       153\n",
      "           友     0.9744    0.9500    0.9620       160\n",
      "           叫     0.9403    0.9844    0.9618       128\n",
      "           吃     0.9632    0.9424    0.9527       139\n",
      "           同     0.8608    0.8947    0.8774       152\n",
      "           名     0.9296    0.8980    0.9135       147\n",
      "           后     0.9456    0.9392    0.9424       148\n",
      "           吗     0.8994    0.9662    0.9316       148\n",
      "           听     0.9507    0.9375    0.9441       144\n",
      "           呢     0.9524    0.9697    0.9610       165\n",
      "           和     0.9467    0.9161    0.9311       155\n",
      "           哪     0.9592    0.9592    0.9592       147\n",
      "           商     0.8958    0.8958    0.8958       144\n",
      "           喂     0.9929    0.9655    0.9790       145\n",
      "           喜     0.9874    0.9691    0.9782       162\n",
      "           喝     0.9756    0.9524    0.9639       126\n",
      "           四     0.8951    0.9143    0.9046       140\n",
      "           回     0.8917    0.8696    0.8805       161\n",
      "           国     0.9524    0.9150    0.9333       153\n",
      "           在     0.9236    0.9301    0.9268       143\n",
      "           坐     0.9720    0.9205    0.9456       151\n",
      "           块     0.9597    0.9662    0.9630       148\n",
      "           多     0.9073    0.9320    0.9195       147\n",
      "           大     0.8759    0.9091    0.8922       132\n",
      "           天     0.9429    0.9496    0.9462       139\n",
      "           太     0.9477    0.9006    0.9236       161\n",
      "           女     0.8981    0.9216    0.9097       153\n",
      "           她     0.9538    0.9538    0.9538       173\n",
      "           好     0.8905    0.8971    0.8938       136\n",
      "           妈     0.9118    0.8611    0.8857       144\n",
      "           姐     0.9262    0.9324    0.9293       148\n",
      "           子     0.9362    0.9496    0.9429       139\n",
      "           字     0.9563    0.9563    0.9563       160\n",
      "           学     0.9214    0.9214    0.9214       140\n",
      "           客     0.9675    0.9297    0.9482       128\n",
      "           家     0.9416    0.9732    0.9571       149\n",
      "           对     0.9310    0.9441    0.9375       143\n",
      "           小     0.9320    0.9013    0.9164       152\n",
      "           少     0.9730    0.9796    0.9763       147\n",
      "           岁     0.9682    0.9560    0.9620       159\n",
      "           工     0.9673    0.9427    0.9548       157\n",
      "           师     0.9563    0.9871    0.9714       155\n",
      "           年     0.9429    0.9167    0.9296       144\n",
      "           店     0.9357    0.9850    0.9597       133\n",
      "           开     0.9675    0.9613    0.9644       155\n",
      "           影     0.9643    0.9643    0.9643       140\n",
      "           很     0.9728    0.9346    0.9533       153\n",
      "           怎     0.9848    0.9489    0.9665       137\n",
      "           想     0.9859    0.9459    0.9655       148\n",
      "           我     0.9664    0.9600    0.9632       150\n",
      "           打     0.9464    0.9938    0.9695       160\n",
      "           日     0.8895    0.9162    0.9027       167\n",
      "           时     0.9577    0.9128    0.9347       149\n",
      "           明     0.8939    0.8613    0.8773       137\n",
      "           星     0.8921    0.8794    0.8857       141\n",
      "           昨     0.9507    0.9712    0.9609       139\n",
      "           是     0.9110    0.9236    0.9172       144\n",
      "           月     0.8782    0.8782    0.8782       156\n",
      "           有     0.9669    0.9733    0.9701       150\n",
      "           朋     0.8476    0.9085    0.8770       153\n",
      "           服     0.9623    0.9387    0.9503       163\n",
      "           期     0.9926    0.9712    0.9818       139\n",
      "           本     0.9116    0.9178    0.9147       146\n",
      "           机     0.9632    0.9632    0.9632       136\n",
      "           来     0.8667    0.9167    0.8910       156\n",
      "           杯     1.0000    0.9412    0.9697       153\n",
      "           果     0.9518    0.9349    0.9433       169\n",
      "           校     0.9600    0.9536    0.9568       151\n",
      "           样     0.9730    0.9664    0.9697       149\n",
      "           桌     0.9507    0.9507    0.9507       142\n",
      "           椅     0.9812    0.9632    0.9721       163\n",
      "           欢     0.9691    0.9515    0.9602       165\n",
      "           气     0.9401    0.9515    0.9458       165\n",
      "           水     0.9257    0.8954    0.9103       153\n",
      "           汉     0.9474    0.9172    0.9320       157\n",
      "           没     0.9254    0.9185    0.9219       135\n",
      "           漂     0.9712    0.9375    0.9541       144\n",
      "           火     0.9396    0.9524    0.9459       147\n",
      "           点     0.9267    0.9586    0.9424       145\n",
      "           热     0.9489    0.9559    0.9524       136\n",
      "           爱     0.9829    0.9127    0.9465       126\n",
      "           爸     0.9634    0.9693    0.9664       163\n",
      "           狗     0.9539    0.9539    0.9539       152\n",
      "           猫     0.9863    0.9730    0.9796       148\n",
      "           现     0.9203    0.9137    0.9170       139\n",
      "           生     0.8298    0.8731    0.8509       134\n",
      "           电     0.9295    0.9603    0.9446       151\n",
      "           的     0.8387    0.8784    0.8581       148\n",
      "           看     0.9456    0.9653    0.9553       144\n",
      "           睡     0.9828    0.9744    0.9785       117\n",
      "           租     0.9565    0.9429    0.9496       140\n",
      "           站     0.9581    0.9524    0.9552       168\n",
      "           米     0.8971    0.8531    0.8746       143\n",
      "           系     0.9191    0.9244    0.9217       172\n",
      "           老     0.9362    0.9635    0.9496       137\n",
      "           能     0.9605    0.9481    0.9542       154\n",
      "           脑     0.9733    0.9359    0.9542       156\n",
      "           苹     0.9388    0.9324    0.9356       148\n",
      "           茶     0.9632    0.9357    0.9493       140\n",
      "           菜     0.9054    0.9116    0.9085       147\n",
      "           衣     0.9627    0.9568    0.9598       162\n",
      "           西     0.9297    0.8881    0.9084       134\n",
      "           见     0.9560    0.9383    0.9470       162\n",
      "           视     0.9792    0.9658    0.9724       146\n",
      "           觉     0.9658    0.9724    0.9691       145\n",
      "           认     0.9504    0.9710    0.9606       138\n",
      "           识     0.8786    0.9441    0.9102       161\n",
      "           话     0.9315    0.9128    0.9220       149\n",
      "           语     0.9102    0.9383    0.9240       162\n",
      "           说     0.9658    0.9216    0.9431       153\n",
      "           请     0.9577    0.9379    0.9477       145\n",
      "           读     0.9451    0.9451    0.9451       164\n",
      "           谁     0.9776    0.9161    0.9458       143\n",
      "           谢     0.9767    0.9618    0.9692       131\n",
      "           起     0.9866    0.9735    0.9800       151\n",
      "           车     0.8710    0.9441    0.9060       143\n",
      "           这     0.9504    0.9178    0.9338       146\n",
      "           那     0.9515    0.9401    0.9458       167\n",
      "           都     0.9524    0.9790    0.9655       143\n",
      "           里     0.9091    0.9524    0.9302       147\n",
      "           钟     0.9796    0.9474    0.9632       152\n",
      "           钱     0.9790    0.9396    0.9589       149\n",
      "           院     0.9302    0.9600    0.9449       125\n",
      "           雨     0.9595    0.9404    0.9498       151\n",
      "           零     0.9815    0.9876    0.9845       161\n",
      "           面     0.9353    0.9353    0.9353       139\n",
      "           飞     0.9778    0.9851    0.9814       134\n",
      "           饭     0.9437    0.9321    0.9379       162\n",
      "           馆     0.9618    0.9403    0.9509       134\n",
      "           高     0.9255    0.9085    0.9169       164\n",
      "\n",
      "    accuracy                         0.9427     26390\n",
      "   macro avg     0.9432    0.9426    0.9427     26390\n",
      "weighted avg     0.9433    0.9427    0.9428     26390\n",
      "\n"
     ]
    }
   ],
   "source": [
    "report = classification_report(y_test, log_predictions, digits=4)\n",
    "print(report)"
   ]
  },
  {
   "cell_type": "code",
   "execution_count": 16,
   "metadata": {},
   "outputs": [
    {
     "name": "stdout",
     "output_type": "stream",
     "text": [
      "k=2, 0.8037514209928003, 0.8042642614055089\n",
      "k=3, 0.838688897309587, 0.840058339865031\n",
      "k=4, 0.8445623342175066, 0.8458555420361097\n",
      "k=5, 0.854225085259568, 0.8555136236323593\n",
      "k=6, 0.8560060629026146, 0.8573227247112641\n",
      "k=7, 0.858128078817734, 0.8593422177206598\n",
      "k=8, 0.8593027661993179, 0.8606883608279599\n",
      "k=9, 0.8608942781356574, 0.8623629649024004\n",
      "k=10, 0.8620689655172413, 0.86373789574608\n",
      "k=11, 0.8624100037893141, 0.8639589214191885\n",
      "k=12, 0.8620689655172413, 0.8636604790267088\n",
      "k=13, 0.8619931792345585, 0.8636559064193484\n",
      "k=14, 0.8607427055702918, 0.8624339736818611\n",
      "k=15, 0.8610458507010231, 0.8627462696363104\n",
      "k=16, 0.8605153467222433, 0.8622680770122433\n",
      "k=17, 0.8610837438423645, 0.8629752411449693\n",
      "k=18, 0.861311102690413, 0.863287047413952\n",
      "k=19, 0.8619552860932171, 0.8640016259010177\n",
      "k=20, 0.8616521409624858, 0.8637585532700727\n",
      "k=21, 0.8608942781356574, 0.8629967742763404\n",
      "k=22, 0.8601364153088291, 0.8622354676493081\n",
      "k=23, 0.8607048124289504, 0.862816765590068\n",
      "k=24, 0.8608942781356574, 0.8630838167016884\n",
      "k=25, 0.8602122015915119, 0.862460430046231\n",
      "k=26, 0.8597195907540736, 0.8620470209428128\n",
      "k=27, 0.8598711633194391, 0.8622150243174855\n",
      "k=28, 0.8591133004926108, 0.8614771068168424\n",
      "k=29, 0.8598332701780977, 0.8621728120730149\n",
      "k=30, 0.8592648730579765, 0.8617321274146301\n",
      "k=31, 0.8596059113300493, 0.8620808506132643\n",
      "k=32, 0.8596438044713907, 0.8621120530151197\n",
      "k=33, 0.8586206896551725, 0.8610285401931607\n",
      "k=34, 0.8589238347859037, 0.8612889524745738\n",
      "k=35, 0.857862826828344, 0.8603012258433939\n",
      "k=36, 0.8572944297082228, 0.8597450162737085\n",
      "k=37, 0.8573702159909057, 0.8599834877351424\n",
      "k=38, 0.8568018188707844, 0.8594191722732709\n",
      "k=39, 0.8560060629026146, 0.8586343811543921\n",
      "k=40, 0.8565744600227359, 0.8591550547183914\n",
      "k=41, 0.8562334217506631, 0.8588643316385285\n",
      "k=42, 0.8557408109132247, 0.8583069273858654\n",
      "k=43, 0.8555513452065177, 0.8581446306502912\n",
      "k=44, 0.8539977264115195, 0.8566166156493068\n",
      "k=45, 0.8538840469874953, 0.8565524224341658\n",
      "k=46, 0.8533914361500569, 0.8561688742200791\n",
      "k=47, 0.8532777567260326, 0.8560908992239031\n",
      "k=48, 0.8529367184539598, 0.8557755722464604\n",
      "k=49, 0.8532777567260326, 0.8561222990174291\n"
     ]
    }
   ],
   "source": [
    "f1s = []\n",
    "accuracys = []\n",
    "\n",
    "for i in range(2, 50, 1):\n",
    "    # Create an instance of the KNN classifier\n",
    "    knn = KNeighborsClassifier(n_neighbors=i, metric=\"euclidean\", n_jobs=-1)\n",
    "\n",
    "    # Fit the classifier to the training data\n",
    "    knn.fit(train_features, y_train)\n",
    "    \n",
    "    # Predict the labels for the test data\n",
    "    knn_predictions = knn.predict(test_features)\n",
    "    \n",
    "    # Calculate the accuracy score\n",
    "    accuracys.append(accuracy_score(y_test, knn_predictions))\n",
    "\n",
    "    # Calculate the f1 score\n",
    "    f1s.append(f1_score(y_test, knn_predictions, average='weighted'))\n",
    "    \n",
    "    print(f\"k={i}, {accuracys[-1]}, {f1s[-1]}\")"
   ]
  },
  {
   "cell_type": "code",
   "execution_count": 17,
   "metadata": {},
   "outputs": [
    {
     "data": {
      "image/png": "[encoded data removed]",
      "text/plain": [
       "<Figure size 1000x400 with 2 Axes>"
      ]
     },
     "metadata": {},
     "output_type": "display_data"
    }
   ],
   "source": [
    "STEP = 3\n",
    "k_values = range(2, 50, STEP)\n",
    "fig, (ax1, ax2) = plt.subplots(1, 2, figsize=(10, 4))\n",
    "\n",
    "ax1.plot(k_values, f1s[::STEP])\n",
    "ax1.set_xlabel('k')\n",
    "ax1.set_ylabel('F1 Score')\n",
    "\n",
    "ax2.plot(k_values, accuracys[::STEP])\n",
    "ax2.set_xlabel('k')\n",
    "ax2.set_ylabel('Accuracy')\n",
    "\n",
    "plt.tight_layout()\n",
    "plt.show()\n"
   ]
  },
  {
   "cell_type": "code",
   "execution_count": 14,
   "metadata": {},
   "outputs": [
    {
     "name": "stderr",
     "output_type": "stream",
     "text": [
      "[Parallel(n_jobs=-1)]: Using backend ThreadingBackend with 16 concurrent workers.\n",
      "[Parallel(n_jobs=-1)]: Done  18 tasks      | elapsed:   16.0s\n",
      "[Parallel(n_jobs=-1)]: Done 100 out of 100 | elapsed:   54.8s finished\n"
     ]
    },
    {
     "data": {
      "text/html": [
       "<style>#sk-container-id-3 {color: black;}#sk-container-id-3 pre{padding: 0;}#sk-container-id-3 div.sk-toggleable {background-color: white;}#sk-container-id-3 label.sk-toggleable__label {cursor: pointer;display: block;width: 100%;margin-bottom: 0;padding: 0.3em;box-sizing: border-box;text-align: center;}#sk-container-id-3 label.sk-toggleable__label-arrow:before {content: \"▸\";float: left;margin-right: 0.25em;color: #696969;}#sk-container-id-3 label.sk-toggleable__label-arrow:hover:before {color: black;}#sk-container-id-3 div.sk-estimator:hover label.sk-toggleable__label-arrow:before {color: black;}#sk-container-id-3 div.sk-toggleable__content {max-height: 0;max-width: 0;overflow: hidden;text-align: left;background-color: #f0f8ff;}#sk-container-id-3 div.sk-toggleable__content pre {margin: 0.2em;color: black;border-radius: 0.25em;background-color: #f0f8ff;}#sk-container-id-3 input.sk-toggleable__control:checked~div.sk-toggleable__content {max-height: 200px;max-width: 100%;overflow: auto;}#sk-container-id-3 input.sk-toggleable__control:checked~label.sk-toggleable__label-arrow:before {content: \"▾\";}#sk-container-id-3 div.sk-estimator input.sk-toggleable__control:checked~label.sk-toggleable__label {background-color: #d4ebff;}#sk-container-id-3 div.sk-label input.sk-toggleable__control:checked~label.sk-toggleable__label {background-color: #d4ebff;}#sk-container-id-3 input.sk-hidden--visually {border: 0;clip: rect(1px 1px 1px 1px);clip: rect(1px, 1px, 1px, 1px);height: 1px;margin: -1px;overflow: hidden;padding: 0;position: absolute;width: 1px;}#sk-container-id-3 div.sk-estimator {font-family: monospace;background-color: #f0f8ff;border: 1px dotted black;border-radius: 0.25em;box-sizing: border-box;margin-bottom: 0.5em;}#sk-container-id-3 div.sk-estimator:hover {background-color: #d4ebff;}#sk-container-id-3 div.sk-parallel-item::after {content: \"\";width: 100%;border-bottom: 1px solid gray;flex-grow: 1;}#sk-container-id-3 div.sk-label:hover label.sk-toggleable__label {background-color: #d4ebff;}#sk-container-id-3 div.sk-serial::before {content: \"\";position: absolute;border-left: 1px solid gray;box-sizing: border-box;top: 0;bottom: 0;left: 50%;z-index: 0;}#sk-container-id-3 div.sk-serial {display: flex;flex-direction: column;align-items: center;background-color: white;padding-right: 0.2em;padding-left: 0.2em;position: relative;}#sk-container-id-3 div.sk-item {position: relative;z-index: 1;}#sk-container-id-3 div.sk-parallel {display: flex;align-items: stretch;justify-content: center;background-color: white;position: relative;}#sk-container-id-3 div.sk-item::before, #sk-container-id-3 div.sk-parallel-item::before {content: \"\";position: absolute;border-left: 1px solid gray;box-sizing: border-box;top: 0;bottom: 0;left: 50%;z-index: -1;}#sk-container-id-3 div.sk-parallel-item {display: flex;flex-direction: column;z-index: 1;position: relative;background-color: white;}#sk-container-id-3 div.sk-parallel-item:first-child::after {align-self: flex-end;width: 50%;}#sk-container-id-3 div.sk-parallel-item:last-child::after {align-self: flex-start;width: 50%;}#sk-container-id-3 div.sk-parallel-item:only-child::after {width: 0;}#sk-container-id-3 div.sk-dashed-wrapped {border: 1px dashed gray;margin: 0 0.4em 0.5em 0.4em;box-sizing: border-box;padding-bottom: 0.4em;background-color: white;}#sk-container-id-3 div.sk-label label {font-family: monospace;font-weight: bold;display: inline-block;line-height: 1.2em;}#sk-container-id-3 div.sk-label-container {text-align: center;}#sk-container-id-3 div.sk-container {/* jupyter's `normalize.less` sets `[hidden] { display: none; }` but bootstrap.min.css set `[hidden] { display: none !important; }` so we also need the `!important` here to be able to override the default hidden behavior on the sphinx rendered scikit-learn.org. See: https://github.com/scikit-learn/scikit-learn/issues/21755 */display: inline-block !important;position: relative;}#sk-container-id-3 div.sk-text-repr-fallback {display: none;}</style><div id=\"sk-container-id-3\" class=\"sk-top-container\"><div class=\"sk-text-repr-fallback\"><pre>RandomForestClassifier(n_jobs=-1, random_state=42, verbose=1)</pre><b>In a Jupyter environment, please rerun this cell to show the HTML representation or trust the notebook. <br />On GitHub, the HTML representation is unable to render, please try loading this page with nbviewer.org.</b></div><div class=\"sk-container\" hidden><div class=\"sk-item\"><div class=\"sk-estimator sk-toggleable\"><input class=\"sk-toggleable__control sk-hidden--visually\" id=\"sk-estimator-id-5\" type=\"checkbox\" checked><label for=\"sk-estimator-id-5\" class=\"sk-toggleable__label sk-toggleable__label-arrow\">RandomForestClassifier</label><div class=\"sk-toggleable__content\"><pre>RandomForestClassifier(n_jobs=-1, random_state=42, verbose=1)</pre></div></div></div></div></div>"
      ],
      "text/plain": [
       "RandomForestClassifier(n_jobs=-1, random_state=42, verbose=1)"
      ]
     },
     "execution_count": 14,
     "metadata": {},
     "output_type": "execute_result"
    }
   ],
   "source": [
    "from sklearn.ensemble import RandomForestClassifier\n",
    "rf = RandomForestClassifier(n_estimators=100, random_state=42, verbose=1, n_jobs=-1)\n",
    "rf.fit(train_features, y_train)"
   ]
  },
  {
   "cell_type": "code",
   "execution_count": 15,
   "metadata": {},
   "outputs": [
    {
     "name": "stderr",
     "output_type": "stream",
     "text": [
      "[Parallel(n_jobs=16)]: Using backend ThreadingBackend with 16 concurrent workers.\n",
      "[Parallel(n_jobs=16)]: Done  18 tasks      | elapsed:    0.4s\n"
     ]
    },
    {
     "name": "stdout",
     "output_type": "stream",
     "text": [
      "Random Forest Accuracy: 0.8707086017430845\n"
     ]
    },
    {
     "name": "stderr",
     "output_type": "stream",
     "text": [
      "[Parallel(n_jobs=16)]: Done 100 out of 100 | elapsed:    1.5s finished\n"
     ]
    }
   ],
   "source": [
    "rf_score = rf.score(test_features, y_test)\n",
    "print(f\"Random Forest Accuracy: {rf_score}\")"
   ]
  },
  {
   "cell_type": "code",
   "execution_count": 8,
   "metadata": {},
   "outputs": [
    {
     "name": "stdout",
     "output_type": "stream",
     "text": [
      "Fitting 2 folds for each of 18 candidates, totalling 36 fits\n"
     ]
    },
    {
     "data": {
      "text/html": [
       "<style>#sk-container-id-1 {color: black;}#sk-container-id-1 pre{padding: 0;}#sk-container-id-1 div.sk-toggleable {background-color: white;}#sk-container-id-1 label.sk-toggleable__label {cursor: pointer;display: block;width: 100%;margin-bottom: 0;padding: 0.3em;box-sizing: border-box;text-align: center;}#sk-container-id-1 label.sk-toggleable__label-arrow:before {content: \"▸\";float: left;margin-right: 0.25em;color: #696969;}#sk-container-id-1 label.sk-toggleable__label-arrow:hover:before {color: black;}#sk-container-id-1 div.sk-estimator:hover label.sk-toggleable__label-arrow:before {color: black;}#sk-container-id-1 div.sk-toggleable__content {max-height: 0;max-width: 0;overflow: hidden;text-align: left;background-color: #f0f8ff;}#sk-container-id-1 div.sk-toggleable__content pre {margin: 0.2em;color: black;border-radius: 0.25em;background-color: #f0f8ff;}#sk-container-id-1 input.sk-toggleable__control:checked~div.sk-toggleable__content {max-height: 200px;max-width: 100%;overflow: auto;}#sk-container-id-1 input.sk-toggleable__control:checked~label.sk-toggleable__label-arrow:before {content: \"▾\";}#sk-container-id-1 div.sk-estimator input.sk-toggleable__control:checked~label.sk-toggleable__label {background-color: #d4ebff;}#sk-container-id-1 div.sk-label input.sk-toggleable__control:checked~label.sk-toggleable__label {background-color: #d4ebff;}#sk-container-id-1 input.sk-hidden--visually {border: 0;clip: rect(1px 1px 1px 1px);clip: rect(1px, 1px, 1px, 1px);height: 1px;margin: -1px;overflow: hidden;padding: 0;position: absolute;width: 1px;}#sk-container-id-1 div.sk-estimator {font-family: monospace;background-color: #f0f8ff;border: 1px dotted black;border-radius: 0.25em;box-sizing: border-box;margin-bottom: 0.5em;}#sk-container-id-1 div.sk-estimator:hover {background-color: #d4ebff;}#sk-container-id-1 div.sk-parallel-item::after {content: \"\";width: 100%;border-bottom: 1px solid gray;flex-grow: 1;}#sk-container-id-1 div.sk-label:hover label.sk-toggleable__label {background-color: #d4ebff;}#sk-container-id-1 div.sk-serial::before {content: \"\";position: absolute;border-left: 1px solid gray;box-sizing: border-box;top: 0;bottom: 0;left: 50%;z-index: 0;}#sk-container-id-1 div.sk-serial {display: flex;flex-direction: column;align-items: center;background-color: white;padding-right: 0.2em;padding-left: 0.2em;position: relative;}#sk-container-id-1 div.sk-item {position: relative;z-index: 1;}#sk-container-id-1 div.sk-parallel {display: flex;align-items: stretch;justify-content: center;background-color: white;position: relative;}#sk-container-id-1 div.sk-item::before, #sk-container-id-1 div.sk-parallel-item::before {content: \"\";position: absolute;border-left: 1px solid gray;box-sizing: border-box;top: 0;bottom: 0;left: 50%;z-index: -1;}#sk-container-id-1 div.sk-parallel-item {display: flex;flex-direction: column;z-index: 1;position: relative;background-color: white;}#sk-container-id-1 div.sk-parallel-item:first-child::after {align-self: flex-end;width: 50%;}#sk-container-id-1 div.sk-parallel-item:last-child::after {align-self: flex-start;width: 50%;}#sk-container-id-1 div.sk-parallel-item:only-child::after {width: 0;}#sk-container-id-1 div.sk-dashed-wrapped {border: 1px dashed gray;margin: 0 0.4em 0.5em 0.4em;box-sizing: border-box;padding-bottom: 0.4em;background-color: white;}#sk-container-id-1 div.sk-label label {font-family: monospace;font-weight: bold;display: inline-block;line-height: 1.2em;}#sk-container-id-1 div.sk-label-container {text-align: center;}#sk-container-id-1 div.sk-container {/* jupyter's `normalize.less` sets `[hidden] { display: none; }` but bootstrap.min.css set `[hidden] { display: none !important; }` so we also need the `!important` here to be able to override the default hidden behavior on the sphinx rendered scikit-learn.org. See: https://github.com/scikit-learn/scikit-learn/issues/21755 */display: inline-block !important;position: relative;}#sk-container-id-1 div.sk-text-repr-fallback {display: none;}</style><div id=\"sk-container-id-1\" class=\"sk-top-container\"><div class=\"sk-text-repr-fallback\"><pre>GridSearchCV(cv=2, estimator=SVC(),\n",
       "             param_grid={&#x27;C&#x27;: [0.1, 1, 10], &#x27;gamma&#x27;: [&#x27;scale&#x27;, &#x27;auto&#x27;],\n",
       "                         &#x27;kernel&#x27;: [&#x27;linear&#x27;, &#x27;rbf&#x27;, &#x27;poly&#x27;]},\n",
       "             verbose=1)</pre><b>In a Jupyter environment, please rerun this cell to show the HTML representation or trust the notebook. <br />On GitHub, the HTML representation is unable to render, please try loading this page with nbviewer.org.</b></div><div class=\"sk-container\" hidden><div class=\"sk-item sk-dashed-wrapped\"><div class=\"sk-label-container\"><div class=\"sk-label sk-toggleable\"><input class=\"sk-toggleable__control sk-hidden--visually\" id=\"sk-estimator-id-1\" type=\"checkbox\" ><label for=\"sk-estimator-id-1\" class=\"sk-toggleable__label sk-toggleable__label-arrow\">GridSearchCV</label><div class=\"sk-toggleable__content\"><pre>GridSearchCV(cv=2, estimator=SVC(),\n",
       "             param_grid={&#x27;C&#x27;: [0.1, 1, 10], &#x27;gamma&#x27;: [&#x27;scale&#x27;, &#x27;auto&#x27;],\n",
       "                         &#x27;kernel&#x27;: [&#x27;linear&#x27;, &#x27;rbf&#x27;, &#x27;poly&#x27;]},\n",
       "             verbose=1)</pre></div></div></div><div class=\"sk-parallel\"><div class=\"sk-parallel-item\"><div class=\"sk-item\"><div class=\"sk-label-container\"><div class=\"sk-label sk-toggleable\"><input class=\"sk-toggleable__control sk-hidden--visually\" id=\"sk-estimator-id-2\" type=\"checkbox\" ><label for=\"sk-estimator-id-2\" class=\"sk-toggleable__label sk-toggleable__label-arrow\">estimator: SVC</label><div class=\"sk-toggleable__content\"><pre>SVC()</pre></div></div></div><div class=\"sk-serial\"><div class=\"sk-item\"><div class=\"sk-estimator sk-toggleable\"><input class=\"sk-toggleable__control sk-hidden--visually\" id=\"sk-estimator-id-3\" type=\"checkbox\" ><label for=\"sk-estimator-id-3\" class=\"sk-toggleable__label sk-toggleable__label-arrow\">SVC</label><div class=\"sk-toggleable__content\"><pre>SVC()</pre></div></div></div></div></div></div></div></div></div></div>"
      ],
      "text/plain": [
       "GridSearchCV(cv=2, estimator=SVC(),\n",
       "             param_grid={'C': [0.1, 1, 10], 'gamma': ['scale', 'auto'],\n",
       "                         'kernel': ['linear', 'rbf', 'poly']},\n",
       "             verbose=1)"
      ]
     },
     "execution_count": 8,
     "metadata": {},
     "output_type": "execute_result"
    }
   ],
   "source": [
    "from sklearn.svm import SVC\n",
    "from sklearn.model_selection import GridSearchCV\n",
    "# Define the parameter grid for grid search\n",
    "param_grid = {\n",
    "    'C': [0.1, 1, 10],\n",
    "    'kernel': ['linear', 'rbf', 'poly'],\n",
    "    'gamma': ['scale', 'auto']\n",
    "}\n",
    "\n",
    "# Create an instance of the SVM classifier\n",
    "svm_classifier = SVC()\n",
    "\n",
    "# Create an instance of GridSearchCV\n",
    "grid_search = GridSearchCV(svm_classifier, param_grid, cv=2, verbose=1)\n",
    "\n",
    "# Fit the classifier to the training data using grid search\n",
    "grid_search.fit(train_features, y_train)"
   ]
  },
  {
   "cell_type": "code",
   "execution_count": 9,
   "metadata": {},
   "outputs": [
    {
     "name": "stdout",
     "output_type": "stream",
     "text": [
      "Best Parameters: {'C': 10, 'gamma': 'scale', 'kernel': 'rbf'}\n",
      "Best Score: 0.9421918223502217\n"
     ]
    }
   ],
   "source": [
    "# Print the best parameters and best score\n",
    "print(\"Best Parameters:\", grid_search.best_params_)\n",
    "print(\"Best Score:\", grid_search.best_score_)"
   ]
  },
  {
   "cell_type": "code",
   "execution_count": 10,
   "metadata": {},
   "outputs": [],
   "source": [
    "# Predict the labels for the test data using the best estimator\n",
    "svm_predictions = grid_search.best_estimator_.predict(test_features)"
   ]
  },
  {
   "cell_type": "code",
   "execution_count": 11,
   "metadata": {},
   "outputs": [
    {
     "name": "stdout",
     "output_type": "stream",
     "text": [
      "Accuracy: 0.951951496779083\n",
      "F1 Score: 0.9520046665214275\n"
     ]
    }
   ],
   "source": [
    "# Calculate the accuracy score\n",
    "accuracy = accuracy_score(y_test, svm_predictions)\n",
    "\n",
    "# Calculate the f1 score\n",
    "f1 = f1_score(y_test, svm_predictions, average='weighted')\n",
    "\n",
    "# Print the accuracy and f1 score report\n",
    "print(f\"Accuracy: {accuracy}\")\n",
    "print(f\"F1 Score: {f1}\")"
   ]
  }
 ],
 "metadata": {
  "kernelspec": {
   "display_name": "Python 3",
   "language": "python",
   "name": "python3"
  },
  "language_info": {
   "codemirror_mode": {
    "name": "ipython",
    "version": 3
   },
   "file_extension": ".py",
   "mimetype": "text/x-python",
   "name": "python",
   "nbconvert_exporter": "python",
   "pygments_lexer": "ipython3",
   "version": "3.10.12"
  }
 },
 "nbformat": 4,
 "nbformat_minor": 2
}
