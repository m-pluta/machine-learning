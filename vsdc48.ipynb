{
 "cells": [
  {
   "cell_type": "markdown",
   "metadata": {},
   "source": [
    "# Project setup"
   ]
  },
  {
   "cell_type": "markdown",
   "metadata": {},
   "source": [
    "Import necessary libraries"
   ]
  },
  {
   "cell_type": "code",
   "execution_count": 33,
   "metadata": {},
   "outputs": [],
   "source": [
    "# System\n",
    "import os\n",
    "import shutil\n",
    "\n",
    "# Image handling\n",
    "from PIL import Image\n",
    "\n",
    "# Numerical\n",
    "import numpy as np\n",
    "import pandas as pd\n",
    "\n",
    "# Reproducability\n",
    "import random\n",
    "random.seed(42)\n",
    "\n",
    "# Plotting\n",
    "import matplotlib.pyplot as plt\n",
    "import seaborn as sns"
   ]
  },
  {
   "cell_type": "markdown",
   "metadata": {},
   "source": [
    "First we establish the directory to where our data is stored, and where we ultimately want to store our cleaned, preprocessed data."
   ]
  },
  {
   "cell_type": "code",
   "execution_count": 34,
   "metadata": {},
   "outputs": [],
   "source": [
    "DIR = 'chinese-handwriting-recognition-hsk-1/chinese-handwriting/'\n",
    "\n",
    "TRAIN_DIR = os.path.join(DIR, 'CASIA-HWDB_Train/Train/')\n",
    "TEST_DIR = os.path.join(DIR, 'CASIA-HWDB_Test/Test/')\n",
    "\n",
    "DATA_DIR = 'data/'"
   ]
  },
  {
   "cell_type": "markdown",
   "metadata": {},
   "source": [
    "# Data investigation"
   ]
  },
  {
   "cell_type": "markdown",
   "metadata": {},
   "source": [
    "First lets have a look at how many data classes we have in the dataset. The dataset has been split into test and train already so lets check how many classes we have in each."
   ]
  },
  {
   "cell_type": "code",
   "execution_count": 35,
   "metadata": {},
   "outputs": [
    {
     "name": "stdout",
     "output_type": "stream",
     "text": [
      "178 {'午', '起', '个', '杯', '少', '工', '十', '坐', '九', '书', '几', '些', '觉', '店', '开', '猫', '下', '气', '妈', '水', '名', '五', '很', '呢', '什', '零', '椅', '热', '么', '他', '苹', '好', '里', '能', '谁', '我', '你', '在', '喂', '们', '三', '米', '吗', '钱', '对', '出', '亮', '雨', '谢', '欢', '买', '岁', '字', '天', '八', '想', '太', '做', '服', '菜', '七', '四', '说', '爸', '睡', '来', '语', '识', '馆', '月', '回', '喜', '姐', '不', '面', '分', '京', '影', '生', '认', '高', '怎', '衣', '茶', '爱', '租', '一', '友', '饭', '小', '飞', '机', '二', '桌', '打', '读', '住', '上', '现', '和', '家', '写', '商', '块', '东', '漂', '请', '候', '是', '六', '明', '女', '国', '钟', '习', '视', '见', '今', '她', '这', '车', '系', '看', '医', '院', '都', '叫', '狗', '儿', '昨', '同', '后', '汉', '去', '哪', '话', '那', '学', '本', '先', '有', '没', '点', '喝', '中', '期', '日', '西', '老', '客', '关', '校', '朋', '作', '兴', '人', '了', '吃', '听', '会', '前', '果', '站', '年', '再', '子', '样', '星', '冷', '的', '师', '北', '脑', '多', '火', '时', '电', '大'}\n",
      "178 {'午', '起', '个', '杯', '少', '工', '十', '坐', '九', '书', '几', '些', '觉', '店', '开', '猫', '下', '气', '妈', '水', '名', '五', '很', '呢', '什', '零', '椅', '热', '么', '他', '苹', '好', '里', '能', '谁', '我', '你', '在', '喂', '们', '三', '米', '吗', '钱', '对', '出', '亮', '雨', '谢', '欢', '买', '岁', '字', '天', '八', '想', '太', '做', '服', '菜', '七', '四', '说', '爸', '睡', '来', '语', '识', '馆', '月', '回', '喜', '姐', '不', '面', '分', '京', '影', '生', '认', '高', '怎', '衣', '茶', '爱', '租', '一', '友', '饭', '小', '飞', '机', '二', '桌', '打', '读', '住', '上', '现', '和', '家', '写', '商', '块', '东', '漂', '请', '候', '是', '六', '明', '女', '国', '钟', '习', '视', '见', '今', '她', '这', '车', '系', '看', '医', '院', '都', '叫', '狗', '儿', '昨', '同', '后', '汉', '去', '哪', '话', '那', '学', '本', '先', '有', '没', '点', '喝', '中', '期', '日', '西', '老', '客', '关', '校', '朋', '作', '兴', '人', '了', '吃', '听', '会', '前', '果', '站', '年', '再', '子', '样', '星', '冷', '的', '师', '北', '脑', '多', '火', '时', '电', '大'}\n",
      "The same classes are in each folder\n"
     ]
    }
   ],
   "source": [
    "image_classes_train = set(os.listdir(TRAIN_DIR))\n",
    "image_classes_test = set(os.listdir(TEST_DIR))\n",
    "print(len(image_classes_train), image_classes_train)\n",
    "print(len(image_classes_test), image_classes_test)\n",
    "\n",
    "if image_classes_train == image_classes_test:\n",
    "    print('The same classes are in each folder')\n",
    "    image_classes = image_classes_train\n",
    "else:\n",
    "    print('The two folders contain different classes')\n"
   ]
  },
  {
   "cell_type": "markdown",
   "metadata": {},
   "source": [
    "Next, lets combine the the train and test data into one directory for simplicity.\n",
    "\n",
    "We start by creating a new directory for our preprocessed data."
   ]
  },
  {
   "cell_type": "code",
   "execution_count": 36,
   "metadata": {},
   "outputs": [],
   "source": [
    "# Remove old data\n",
    "if os.path.exists(DATA_DIR):\n",
    "    shutil.rmtree(DATA_DIR)\n",
    "    \n",
    "#Create the new directory\n",
    "os.mkdir(DATA_DIR)"
   ]
  },
  {
   "cell_type": "markdown",
   "metadata": {},
   "source": [
    "Now let's combine the train and test data into one directory. This is specified by the `DATA_DIR` variable."
   ]
  },
  {
   "cell_type": "code",
   "execution_count": 37,
   "metadata": {},
   "outputs": [],
   "source": [
    "# Copy train directory into combined folder\n",
    "for image_class in image_classes:\n",
    "    source_path = os.path.join(TRAIN_DIR, image_class)\n",
    "    destination_path = os.path.join(DATA_DIR, image_class)\n",
    "    shutil.copytree(source_path, destination_path)\n",
    "\n",
    "# Count how many images in each class in train set\n",
    "class_counts = {}\n",
    "for image_class in image_classes:\n",
    "    path = os.path.join(DATA_DIR, image_class)\n",
    "    class_counts[image_class] = len(os.listdir(path))\n",
    "\n",
    "# Copy all the images in the test directory into combined folder under an consistent name\n",
    "for image_class in image_classes:\n",
    "    source_path = os.path.join(TEST_DIR, image_class)\n",
    "    destination_path = os.path.join(DATA_DIR, image_class)\n",
    "    \n",
    "    for filename in os.listdir(source_path):\n",
    "        class_counts[image_class] += 1\n",
    "        new_filename = f\"{class_counts[image_class]}.png\"\n",
    "        shutil.copy(os.path.join(source_path, filename), os.path.join(destination_path, new_filename))\n",
    "        "
   ]
  },
  {
   "cell_type": "markdown",
   "metadata": {},
   "source": [
    "Now lets check how many images we have in each class and see how balanced the classes are."
   ]
  },
  {
   "cell_type": "code",
   "execution_count": 38,
   "metadata": {},
   "outputs": [
    {
     "name": "stdout",
     "output_type": "stream",
     "text": [
      "    Character  Count\n",
      "0           午    743\n",
      "1           起    742\n",
      "2           个    744\n",
      "3           杯    743\n",
      "4           少    741\n",
      "..        ...    ...\n",
      "173         多    741\n",
      "174         火    741\n",
      "175         时    742\n",
      "176         电    742\n",
      "177         大    747\n",
      "\n",
      "[178 rows x 2 columns]\n",
      "            Count\n",
      "count  178.000000\n",
      "mean   741.292135\n",
      "std      3.040972\n",
      "min    721.000000\n",
      "5%     737.000000\n",
      "25%    740.000000\n",
      "50%    741.000000\n",
      "75%    743.000000\n",
      "95%    746.000000\n",
      "max    748.000000\n"
     ]
    }
   ],
   "source": [
    "df_class_counts = pd.DataFrame.from_dict(class_counts, orient='index', columns=['Count'])\n",
    "df_class_counts.reset_index(inplace=True)\n",
    "df_class_counts.columns = ['Character', 'Count']\n",
    "\n",
    "print(df_class_counts)\n",
    "print(df_class_counts.describe([0.05, 0.25, 0.75, 0.95]))"
   ]
  },
  {
   "cell_type": "markdown",
   "metadata": {},
   "source": [
    "From this we can see that the classes are fairly balanced, let's quickly have a look at the slight imbalance in the classes.\n",
    "We can arbitrarily choose a balance metric such as outside the range of 2 standard deviations from the mean."
   ]
  },
  {
   "cell_type": "code",
   "execution_count": 39,
   "metadata": {},
   "outputs": [
    {
     "name": "stdout",
     "output_type": "stream",
     "text": [
      "    Character  Count\n",
      "25          零    732\n",
      "61          四    734\n",
      "69          月    748\n",
      "109         六    733\n",
      "148         老    734\n",
      "166         样    721\n"
     ]
    }
   ],
   "source": [
    "mean = df_class_counts['Count'].mean()\n",
    "std = df_class_counts['Count'].std()\n",
    "threshold = 2 * std\n",
    "\n",
    "outlier_counts = df_class_counts[np.abs(df_class_counts['Count'] - mean) > threshold]\n",
    "print(outlier_counts)"
   ]
  },
  {
   "cell_type": "markdown",
   "metadata": {},
   "source": [
    "As we can see, the imbalance is very minimal. For now we can move on to the next step, and revisit this if the performance of our model is being affected by this imbalance."
   ]
  },
  {
   "cell_type": "markdown",
   "metadata": {},
   "source": [
    "# Data Pre-processing"
   ]
  },
  {
   "cell_type": "markdown",
   "metadata": {},
   "source": [
    "First lets iterate through all the images and and confirm they are all `.png` and black & white "
   ]
  },
  {
   "cell_type": "code",
   "execution_count": 40,
   "metadata": {},
   "outputs": [],
   "source": [
    "# Loop through each subdirectory and file in the directory\n",
    "for subdir, dirs, files in os.walk(DATA_DIR):\n",
    "    for filename in files:\n",
    "        if filename.lower().endswith('.png'):\n",
    "            # Construct the full path\n",
    "            file_path = os.path.join(subdir, filename)\n",
    "\n",
    "            # Open the image\n",
    "            with Image.open(file_path) as img:\n",
    "                # Check if the image is not grayscale\n",
    "                if img.mode != 'L':\n",
    "                    print(f\"{file_path} is not a black and white image.\")\n",
    "        else:\n",
    "            print(\"Not a png file: \")"
   ]
  },
  {
   "cell_type": "markdown",
   "metadata": {},
   "source": [
    "Next let's iterate through all the images and check if any have an aspect ratio that is not 1:1."
   ]
  },
  {
   "cell_type": "code",
   "execution_count": 41,
   "metadata": {},
   "outputs": [],
   "source": [
    "image_sizes = []\n",
    "\n",
    "# Iterate through all the images and check if any do not have a 1:1 aspect ratio\n",
    "for subdir, dirs, files in os.walk(DATA_DIR):\n",
    "    for filename in files:\n",
    "        file_path = os.path.join(subdir, filename)\n",
    "        with Image.open(file_path) as img:\n",
    "            image_sizes.append(img.size[0])\n",
    "            \n",
    "            if img.size[0] != img.size[1]:\n",
    "                print(file_path, img.size)"
   ]
  },
  {
   "cell_type": "markdown",
   "metadata": {},
   "source": [
    "Since all the images are square, this makes it easier to investigate their image sizes."
   ]
  },
  {
   "cell_type": "code",
   "execution_count": 42,
   "metadata": {},
   "outputs": [
    {
     "name": "stdout",
     "output_type": "stream",
     "text": [
      "Smallest dimension: 3\n"
     ]
    },
    {
     "data": {
      "image/png": "[encoded data removed]",
      "text/plain": [
       "<Figure size 1200x600 with 1 Axes>"
      ]
     },
     "metadata": {},
     "output_type": "display_data"
    }
   ],
   "source": [
    "print(f\"Smallest dimension: {min(image_sizes)}\")\n",
    "\n",
    "# Plotting\n",
    "plt.figure(figsize=(12, 6))\n",
    "plt.subplot(1, 2, 1)\n",
    "sns.histplot(image_sizes)\n",
    "plt.title('Distribution of Image dimensions')\n",
    "plt.xlabel('Dimension')\n",
    "plt.tight_layout()\n",
    "plt.show()"
   ]
  },
  {
   "cell_type": "markdown",
   "metadata": {},
   "source": [
    "As you can see from the graph, the images are not all the same size. This will cause issues when we try to train the model, so we need to resize all the images to the same size. Additionally one of the images is only 3x3 which is way too small to be useful, so we will remove that image."
   ]
  },
  {
   "cell_type": "code",
   "execution_count": 43,
   "metadata": {},
   "outputs": [],
   "source": [
    "# Iterate through all the images and resize to a fixed size\n",
    "for subdir, dirs, files in os.walk(DATA_DIR):\n",
    "    for filename in files:\n",
    "        file_path = os.path.join(subdir, filename)\n",
    "        with Image.open(file_path) as img:\n",
    "            current_size = img.size\n",
    "            if img.size[0] < 5:\n",
    "                os.remove(file_path)\n",
    "            \n",
    "            target_size = 48\n",
    "            \n",
    "            resized_img = img.resize((target_size, target_size))\n",
    "            resized_img.save(file_path)"
   ]
  },
  {
   "cell_type": "markdown",
   "metadata": {},
   "source": [
    "# Data Augmentation"
   ]
  },
  {
   "cell_type": "markdown",
   "metadata": {},
   "source": [
    "Now that all the images are the same size, we can begin with augmenting the images. This will involve randomly flipping rotating the images to create more data for the model to train on and prevent overfitting.\n",
    "Note, there are many more augmentation techniques that can be used such as scaling, randomly cropping, randomly erasing, distorting, and blurring, but for now we will only use rotation and flipping."
   ]
  },
  {
   "cell_type": "code",
   "execution_count": 44,
   "metadata": {},
   "outputs": [],
   "source": [
    "# How many augmented images should be generated as a percentage of the current\n",
    "percent_augmented = 0.2 # 0 to 1\n",
    "augments = [(0, 90), (0, 180), (0, 270), (1, 0), (1, 90), (1, 180), (1, 270)]\n",
    "\n",
    "# Iterate through all the images and resize to a fixed size\n",
    "for subdir, dirs, files in os.walk(DATA_DIR):\n",
    "    for filename in files:\n",
    "        file_path = os.path.join(subdir, filename)\n",
    "        with Image.open(file_path) as img:\n",
    "            if random.random() <= percent_augmented:\n",
    "                augmented_img = img\n",
    "\n",
    "                augment = random.choice(augments)\n",
    "\n",
    "                if augment[0]:\n",
    "                    augmented_img = augmented_img.transpose(Image.FLIP_LEFT_RIGHT)\n",
    "                if augment[1]:\n",
    "                    augmented_img = augmented_img.rotate(augment[1])\n",
    "\n",
    "                name, extension = filename.rsplit('.', 1)\n",
    "                save_file_path = os.path.join(subdir, f\"{name}.aug.{extension}\")\n",
    "\n",
    "                augmented_img.save(save_file_path)"
   ]
  },
  {
   "cell_type": "code",
   "execution_count": 49,
   "metadata": {},
   "outputs": [
    {
     "name": "stdout",
     "output_type": "stream",
     "text": [
      "Number of .png files in all subdirectories of DATA_DIR: 158516\n",
      "Number of .aug.png files in all subdirectories of DATA_DIR: 26566\n"
     ]
    }
   ],
   "source": [
    "import glob\n",
    "\n",
    "png_files = glob.glob(f\"{DATA_DIR}/**/*.png\", recursive=True)\n",
    "aug_png_files = glob.glob(f\"{DATA_DIR}/**/*.aug.png\", recursive=True)\n",
    "\n",
    "print(f\"Number of .png files in the data directory: {len(png_files)}\")\n",
    "print(f\"Number of .aug.png files in the data directory: {len(aug_png_files)}\")"
   ]
  },
  {
   "cell_type": "markdown",
   "metadata": {},
   "source": [
    "# Feature Extraction"
   ]
  },
  {
   "cell_type": "code",
   "execution_count": null,
   "metadata": {},
   "outputs": [],
   "source": [
    "dir = os.path.join(DATA_DIR, '一')"
   ]
  }
 ],
 "metadata": {
  "kernelspec": {
   "display_name": "Python 3",
   "language": "python",
   "name": "python3"
  },
  "language_info": {
   "codemirror_mode": {
    "name": "ipython",
    "version": 3
   },
   "file_extension": ".py",
   "mimetype": "text/x-python",
   "name": "python",
   "nbconvert_exporter": "python",
   "pygments_lexer": "ipython3",
   "version": "3.10.12"
  }
 },
 "nbformat": 4,
 "nbformat_minor": 2
}
