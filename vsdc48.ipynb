{
 "cells": [
  {
   "cell_type": "markdown",
   "metadata": {},
   "source": [
    "# Project setup"
   ]
  },
  {
   "cell_type": "markdown",
   "metadata": {},
   "source": [
    "Import necessary libraries"
   ]
  },
  {
   "cell_type": "code",
   "execution_count": 51,
   "metadata": {},
   "outputs": [],
   "source": [
    "# System\n",
    "import os\n",
    "import shutil\n",
    "\n",
    "# Image handling\n",
    "from PIL import Image\n",
    "\n",
    "# Numerical\n",
    "import numpy as np\n",
    "import pandas as pd\n",
    "\n",
    "# Reproducability\n",
    "import random\n",
    "random.seed(42)\n",
    "\n",
    "# Plotting\n",
    "import matplotlib.pyplot as plt\n",
    "import seaborn as sns"
   ]
  },
  {
   "cell_type": "markdown",
   "metadata": {},
   "source": [
    "First we establish the directory to where our data is stored, and where we ultimately want to store our cleaned, preprocessed data."
   ]
  },
  {
   "cell_type": "code",
   "execution_count": 52,
   "metadata": {},
   "outputs": [],
   "source": [
    "DIR = 'chinese-handwriting-recognition-hsk-1/chinese-handwriting/'\n",
    "\n",
    "TRAIN_DIR = os.path.join(DIR, 'CASIA-HWDB_Train/Train/')\n",
    "TEST_DIR = os.path.join(DIR, 'CASIA-HWDB_Test/Test/')\n",
    "\n",
    "DATA_DIR = 'data/'\n",
    "DATA_TRAIN_DIR = os.path.join(DATA_DIR, 'train')\n",
    "DATA_VAL_DIR = os.path.join(DATA_DIR, 'val')\n",
    "DATA_TEST_DIR = os.path.join(DATA_DIR, 'test')"
   ]
  },
  {
   "cell_type": "markdown",
   "metadata": {},
   "source": [
    "# Data investigation"
   ]
  },
  {
   "cell_type": "markdown",
   "metadata": {},
   "source": [
    "First lets have a look at how many data classes we have in the dataset. The dataset has been split into test and train already so lets check how many classes we have in each."
   ]
  },
  {
   "cell_type": "code",
   "execution_count": 53,
   "metadata": {},
   "outputs": [
    {
     "name": "stdout",
     "output_type": "stream",
     "text": [
      "178 {'认', '岁', '校', '没', '欢', '们', '影', '妈', '几', '工', '火', '在', '十', '么', '后', '吗', '回', '小', '时', '院', '对', '猫', '字', '有', '叫', '家', '谢', '椅', '亮', '我', '书', '昨', '分', '车', '块', '视', '桌', '一', '很', '四', '系', '去', '读', '北', '京', '午', '先', '看', '吃', '中', '天', '你', '六', '生', '星', '衣', '好', '里', '说', '那', '做', '住', '租', '了', '七', '今', '出', '她', '钟', '热', '茶', '脑', '老', '习', '八', '再', '饭', '这', '女', '二', '爱', '果', '学', '语', '点', '些', '电', '月', '个', '想', '五', '本', '样', '不', '上', '面', '明', '多', '爸', '儿', '水', '识', '怎', '馆', '觉', '九', '名', '年', '是', '机', '见', '冷', '子', '店', '汉', '谁', '兴', '站', '高', '期', '三', '医', '漂', '气', '大', '会', '太', '能', '请', '什', '坐', '友', '菜', '买', '同', '飞', '西', '狗', '米', '前', '雨', '来', '的', '下', '喝', '钱', '喂', '喜', '起', '杯', '打', '候', '商', '服', '客', '他', '姐', '作', '人', '现', '哪', '日', '朋', '和', '关', '听', '睡', '写', '师', '开', '零', '国', '都', '少', '呢', '苹', '东', '话'}\n",
      "178 {'认', '岁', '校', '没', '欢', '们', '影', '妈', '几', '工', '火', '在', '十', '么', '后', '吗', '回', '小', '时', '院', '对', '猫', '字', '有', '叫', '家', '谢', '椅', '亮', '我', '书', '昨', '分', '车', '块', '视', '桌', '一', '很', '四', '系', '去', '读', '北', '京', '午', '先', '看', '吃', '中', '天', '你', '六', '生', '星', '衣', '好', '里', '说', '那', '做', '住', '租', '了', '七', '今', '出', '她', '钟', '热', '茶', '脑', '老', '习', '八', '再', '饭', '这', '女', '二', '爱', '果', '学', '语', '点', '些', '电', '月', '个', '想', '五', '本', '样', '不', '上', '面', '明', '多', '爸', '儿', '水', '识', '怎', '馆', '觉', '九', '名', '年', '是', '机', '见', '冷', '子', '店', '汉', '谁', '兴', '站', '高', '期', '三', '医', '漂', '气', '大', '会', '太', '能', '请', '什', '坐', '友', '菜', '买', '同', '飞', '西', '狗', '米', '前', '雨', '来', '的', '下', '喝', '钱', '喂', '喜', '起', '杯', '打', '候', '商', '服', '客', '他', '姐', '作', '人', '现', '哪', '日', '朋', '和', '关', '听', '睡', '写', '师', '开', '零', '国', '都', '少', '呢', '苹', '东', '话'}\n",
      "The same classes are in each folder\n"
     ]
    }
   ],
   "source": [
    "image_classes_train = set(os.listdir(TRAIN_DIR))\n",
    "image_classes_test = set(os.listdir(TEST_DIR))\n",
    "print(len(image_classes_train), image_classes_train)\n",
    "print(len(image_classes_test), image_classes_test)\n",
    "\n",
    "if image_classes_train == image_classes_test:\n",
    "    print('The same classes are in each folder')\n",
    "    # image_classes = set(['零', '一', '二'])\n",
    "    # image_classes = set(['零', '一', '二', '三', '四', '五', '六', '七', '八', '九', '十'])\n",
    "    image_classes = image_classes_train\n",
    "else:\n",
    "    print('The two folders contain different classes')\n"
   ]
  },
  {
   "cell_type": "markdown",
   "metadata": {},
   "source": [
    "Next, lets combine the the train and test data into one directory for simplicity.\n",
    "\n",
    "We start by creating a new directory for our preprocessed data."
   ]
  },
  {
   "cell_type": "code",
   "execution_count": 54,
   "metadata": {},
   "outputs": [],
   "source": [
    "# Remove old data\n",
    "if os.path.exists(DATA_DIR):\n",
    "    shutil.rmtree(DATA_DIR)\n",
    "    \n",
    "#Create the new directory\n",
    "os.mkdir(DATA_DIR)\n",
    "for dir in (DATA_TRAIN_DIR, DATA_TEST_DIR, DATA_VAL_DIR):\n",
    "    for image_class in image_classes:\n",
    "        path = os.path.join(dir, image_class)\n",
    "        os.makedirs(path)"
   ]
  },
  {
   "cell_type": "markdown",
   "metadata": {},
   "source": [
    "Now let's combine the train and test data into one directory. This is specified by the `DATA_DIR` variable."
   ]
  },
  {
   "cell_type": "code",
   "execution_count": 55,
   "metadata": {},
   "outputs": [],
   "source": [
    "# Store how many of each class there are\n",
    "class_counts = {}\n",
    "max_images_per_class = 70\n",
    "\n",
    "TRAIN_SPLIT = 5/7\n",
    "TEST_SPLIT  = 1/7\n",
    "VAL_SPLIT   = 1/7\n",
    "\n",
    "for image_class in image_classes:\n",
    "    images = []\n",
    "\n",
    "    # Fetch images from train dir\n",
    "    train_path = os.path.join(TRAIN_DIR, image_class)\n",
    "    images += [os.path.join(train_path, file) for file in os.listdir(train_path)]\n",
    "\n",
    "    # Fetch images from test dir\n",
    "    test_path = os.path.join(TEST_DIR, image_class)\n",
    "    images += [os.path.join(test_path, file) for file in os.listdir(test_path)]\n",
    "\n",
    "    # Update class_counts\n",
    "    num_images = min(len(images), max_images_per_class)\n",
    "    class_counts[image_class] = num_images\n",
    "\n",
    "    # Select the images\n",
    "    # images = images[:num_images]\n",
    "    images = random.choices(images, k=num_images)\n",
    "\n",
    "    # Define the bounds of the splits\n",
    "    train = (DATA_TRAIN_DIR, 0, int(TRAIN_SPLIT*num_images))\n",
    "    test = (DATA_TEST_DIR, train[2], train[2] + int(TEST_SPLIT*num_images))\n",
    "    val = (DATA_VAL_DIR, test[2], num_images)\n",
    "\n",
    "    # Iterate over the splits and images and copy them to the data directory\n",
    "    for split in (train, test, val):\n",
    "        for i, image in enumerate(images[split[1]:split[2]]):\n",
    "            new_filename = f\"{i+1}.png\"\n",
    "            destination_path = os.path.join(split[0], image_class, new_filename)\n",
    "            shutil.copy(image, destination_path)"
   ]
  },
  {
   "cell_type": "markdown",
   "metadata": {},
   "source": [
    "Now lets check how many images we have in each class and see how balanced the classes are."
   ]
  },
  {
   "cell_type": "code",
   "execution_count": 56,
   "metadata": {},
   "outputs": [
    {
     "name": "stdout",
     "output_type": "stream",
     "text": [
      "    Character  Count\n",
      "0           认     70\n",
      "1           岁     70\n",
      "2           校     70\n",
      "3           没     70\n",
      "4           欢     70\n",
      "..        ...    ...\n",
      "173         少     70\n",
      "174         呢     70\n",
      "175         苹     70\n",
      "176         东     70\n",
      "177         话     70\n",
      "\n",
      "[178 rows x 2 columns]\n",
      "       Count\n",
      "count  178.0\n",
      "mean    70.0\n",
      "std      0.0\n",
      "min     70.0\n",
      "5%      70.0\n",
      "25%     70.0\n",
      "50%     70.0\n",
      "75%     70.0\n",
      "95%     70.0\n",
      "max     70.0\n"
     ]
    }
   ],
   "source": [
    "df_class_counts = pd.DataFrame.from_dict(class_counts, orient='index', columns=['Count'])\n",
    "df_class_counts.reset_index(inplace=True)\n",
    "df_class_counts.columns = ['Character', 'Count']\n",
    "\n",
    "print(df_class_counts)\n",
    "print(df_class_counts.describe([0.05, 0.25, 0.75, 0.95]))"
   ]
  },
  {
   "cell_type": "markdown",
   "metadata": {},
   "source": [
    "From this we can see that the classes are fairly balanced, let's quickly have a look at the slight imbalance in the classes.\n",
    "We can arbitrarily choose a balance metric such as outside the range of 2 standard deviations from the mean."
   ]
  },
  {
   "cell_type": "code",
   "execution_count": 57,
   "metadata": {},
   "outputs": [
    {
     "name": "stdout",
     "output_type": "stream",
     "text": [
      "Empty DataFrame\n",
      "Columns: [Character, Count]\n",
      "Index: []\n"
     ]
    }
   ],
   "source": [
    "mean = df_class_counts['Count'].mean()\n",
    "std = df_class_counts['Count'].std()\n",
    "threshold = 2 * std\n",
    "\n",
    "outlier_counts = df_class_counts[np.abs(df_class_counts['Count'] - mean) > threshold]\n",
    "print(outlier_counts)"
   ]
  },
  {
   "cell_type": "markdown",
   "metadata": {},
   "source": [
    "As we can see, the imbalance is very minimal. For now we can move on to the next step, and revisit this if the performance of our model is being affected by this imbalance."
   ]
  },
  {
   "cell_type": "markdown",
   "metadata": {},
   "source": [
    "# Data Pre-processing"
   ]
  },
  {
   "cell_type": "markdown",
   "metadata": {},
   "source": [
    "First lets iterate through all the images and and confirm they are all `.png` and black & white "
   ]
  },
  {
   "cell_type": "code",
   "execution_count": 58,
   "metadata": {},
   "outputs": [],
   "source": [
    "# Loop through each subdirectory and file in the directory\n",
    "for subdir, dirs, images in os.walk(DATA_DIR):\n",
    "    for image in images:\n",
    "        if image.lower().endswith('.png'):\n",
    "            # Construct the full path\n",
    "            file_path = os.path.join(subdir, image)\n",
    "\n",
    "            # Open the image\n",
    "            with Image.open(file_path) as img:\n",
    "                # Check if the image is not grayscale\n",
    "                if img.mode != 'L':\n",
    "                    print(f\"{file_path} is not a black and white image.\")\n",
    "        else:\n",
    "            print(\"Not a png file: \")"
   ]
  },
  {
   "cell_type": "markdown",
   "metadata": {},
   "source": [
    "Next let's iterate through all the images and check if any have an aspect ratio that is not 1:1."
   ]
  },
  {
   "cell_type": "code",
   "execution_count": 59,
   "metadata": {},
   "outputs": [],
   "source": [
    "image_sizes = []\n",
    "\n",
    "# Iterate through all the images and check if any do not have a 1:1 aspect ratio\n",
    "for subdir, dirs, images in os.walk(DATA_DIR):\n",
    "    for image in images:\n",
    "        file_path = os.path.join(subdir, image)\n",
    "        with Image.open(file_path) as img:\n",
    "            image_sizes.append(img.size[0])\n",
    "            \n",
    "            if img.size[0] != img.size[1]:\n",
    "                print(file_path, img.size)"
   ]
  },
  {
   "cell_type": "markdown",
   "metadata": {},
   "source": [
    "Since all the images are square, this makes it easier to investigate their image sizes."
   ]
  },
  {
   "cell_type": "code",
   "execution_count": 60,
   "metadata": {},
   "outputs": [
    {
     "name": "stdout",
     "output_type": "stream",
     "text": [
      "Smallest dimension: 15\n"
     ]
    },
    {
     "data": {
      "image/png": "[encoded data removed]",
      "text/plain": [
       "<Figure size 500x500 with 1 Axes>"
      ]
     },
     "metadata": {},
     "output_type": "display_data"
    }
   ],
   "source": [
    "print(f\"Smallest dimension: {min(image_sizes)}\")\n",
    "\n",
    "# Plotting\n",
    "sns.displot(image_sizes)\n",
    "plt.xlabel('Dimension')\n",
    "plt.ylabel('Frequency')\n",
    "plt.tight_layout()\n",
    "plt.show()"
   ]
  },
  {
   "cell_type": "markdown",
   "metadata": {},
   "source": [
    "As you can see from the graph, the images are not all the same size. This will cause issues when we try to train the model, so we need to resize all the images to the same size. Additionally one of the images is only 3x3 which is way too small to be useful, so we will remove that image."
   ]
  },
  {
   "cell_type": "code",
   "execution_count": 61,
   "metadata": {},
   "outputs": [],
   "source": [
    "# Iterate through all the images and resize to a fixed size\n",
    "for subdir, dirs, images in os.walk(DATA_DIR):\n",
    "    for image in images:\n",
    "        file_path = os.path.join(subdir, image)\n",
    "        with Image.open(file_path) as img:\n",
    "            current_size = img.size\n",
    "            if img.size[0] < 5:\n",
    "                os.remove(file_path)\n",
    "            \n",
    "            IMAGE_SIZE = 50\n",
    "            \n",
    "            resized_img = img.resize((IMAGE_SIZE, IMAGE_SIZE))\n",
    "            resized_img.save(file_path)"
   ]
  },
  {
   "cell_type": "markdown",
   "metadata": {},
   "source": [
    "# Data Augmentation"
   ]
  },
  {
   "cell_type": "markdown",
   "metadata": {},
   "source": [
    "Now that all the images are the same size, we can begin with augmenting the images. This will involve randomly flipping rotating the images to create more data for the model to train on and prevent overfitting.\n",
    "Note, there are many more augmentation techniques that can be used such as scaling, randomly cropping, randomly erasing, distorting, and blurring, but for now we will only use rotation and flipping."
   ]
  },
  {
   "cell_type": "code",
   "execution_count": 62,
   "metadata": {},
   "outputs": [],
   "source": [
    "# How many augmented images should be generated as a percentage of the current\n",
    "percent_augmented = 0.5 # 0 to 1\n",
    "augments = [(0, 90), (0, 180), (0, 270), (1, 0), (1, 90), (1, 180), (1, 270)]\n",
    "\n",
    "# Iterate through all the images and resize to a fixed size\n",
    "for subdir, dirs, images in os.walk(DATA_TRAIN_DIR):\n",
    "    for image in images:\n",
    "        file_path = os.path.join(subdir, image)\n",
    "        with Image.open(file_path) as img:\n",
    "            if random.random() <= percent_augmented:\n",
    "                augmented_img = img\n",
    "\n",
    "                augment = random.choice(augments)\n",
    "\n",
    "                if augment[0]:\n",
    "                    augmented_img = augmented_img.transpose(Image.FLIP_LEFT_RIGHT)\n",
    "                if augment[1]:\n",
    "                    augmented_img = augmented_img.rotate(augment[1])\n",
    "\n",
    "                name, extension = image.rsplit('.', 1)\n",
    "                save_file_path = os.path.join(subdir, f\"{name}.aug.{extension}\")\n",
    "\n",
    "                augmented_img.save(save_file_path)"
   ]
  },
  {
   "cell_type": "code",
   "execution_count": 63,
   "metadata": {},
   "outputs": [
    {
     "name": "stdout",
     "output_type": "stream",
     "text": [
      "Number of .png files in the data directory: 16957\n",
      "Number of .aug.png files in the data directory: 4497\n"
     ]
    }
   ],
   "source": [
    "import glob\n",
    "\n",
    "png_files = glob.glob(f\"{DATA_DIR}/**/*.png\", recursive=True)\n",
    "aug_png_files = glob.glob(f\"{DATA_DIR}/**/*.aug.png\", recursive=True)\n",
    "\n",
    "print(f\"Number of .png files in the data directory: {len(png_files)}\")\n",
    "print(f\"Number of .aug.png files in the data directory: {len(aug_png_files)}\")"
   ]
  },
  {
   "cell_type": "markdown",
   "metadata": {},
   "source": [
    "# Mean and standard deviation of dataset"
   ]
  },
  {
   "cell_type": "code",
   "execution_count": 64,
   "metadata": {},
   "outputs": [],
   "source": [
    "# Iterate through all the images and resize to a fixed size\n",
    "pixel_sum = np.zeros(1)\n",
    "pixel_sum_sq = np.zeros(1)\n",
    "pixel_count = 0\n",
    "pixels_per_image = IMAGE_SIZE * IMAGE_SIZE\n",
    "\n",
    "for subdir, dirs, images in os.walk(DATA_DIR):\n",
    "    for image in images:\n",
    "        file_path = os.path.join(subdir, image)\n",
    "        with Image.open(file_path) as img:\n",
    "            image_array = np.array(img) / 255.0\n",
    "            pixel_sum += image_array.sum()\n",
    "            pixel_sum_sq += (image_array ** 2).sum()\n",
    "            pixel_count += pixels_per_image\n",
    "\n",
    "mean = pixel_sum / pixel_count\n",
    "std = np.sqrt(pixel_sum_sq / pixel_count - mean ** 2)"
   ]
  },
  {
   "cell_type": "markdown",
   "metadata": {},
   "source": [
    "# Feature Extraction"
   ]
  },
  {
   "cell_type": "markdown",
   "metadata": {},
   "source": [
    "First we import the necessary libraries"
   ]
  },
  {
   "cell_type": "code",
   "execution_count": 65,
   "metadata": {},
   "outputs": [],
   "source": [
    "import torch\n",
    "from torchvision.models import resnet50\n",
    "import torchvision.transforms.v2 as transforms\n",
    "from torchvision.datasets import ImageFolder\n",
    "from torch.utils.data import DataLoader"
   ]
  },
  {
   "cell_type": "markdown",
   "metadata": {},
   "source": [
    "Next, we define the CNN model we will be using."
   ]
  },
  {
   "cell_type": "code",
   "execution_count": 66,
   "metadata": {},
   "outputs": [
    {
     "name": "stderr",
     "output_type": "stream",
     "text": [
      "/home/miikey_lol/.local/lib/python3.10/site-packages/torchvision/models/_utils.py:208: UserWarning: The parameter 'pretrained' is deprecated since 0.13 and may be removed in the future, please use 'weights' instead.\n",
      "  warnings.warn(\n",
      "/home/miikey_lol/.local/lib/python3.10/site-packages/torchvision/models/_utils.py:223: UserWarning: Arguments other than a weight enum or `None` for 'weights' are deprecated since 0.13 and may be removed in the future. The current behavior is equivalent to passing `weights=ResNet50_Weights.IMAGENET1K_V1`. You can also use `weights=ResNet50_Weights.DEFAULT` to get the most up-to-date weights.\n",
      "  warnings.warn(msg)\n",
      "/home/miikey_lol/.local/lib/python3.10/site-packages/torchvision/transforms/v2/_deprecated.py:43: UserWarning: The transform `ToTensor()` is deprecated and will be removed in a future release. Instead, please use `v2.Compose([v2.ToImage(), v2.ToDtype(torch.float32, scale=True)])`.\n",
      "  warnings.warn(\n"
     ]
    }
   ],
   "source": [
    "# Load pre-trained ResNet\n",
    "resnet = resnet50(pretrained=True)\n",
    "\n",
    "# Remove the last fully connected layer for feature extraction\n",
    "resnet = torch.nn.Sequential(*(list(resnet.children())[:-1]))\n",
    "\n",
    "# Set model to evaluation mode\n",
    "resnet.eval()\n",
    "\n",
    "# Define image transformations\n",
    "transform = transforms.Compose([\n",
    "    transforms.Resize(256),\n",
    "    transforms.CenterCrop(224),\n",
    "    transforms.ToTensor(),\n",
    "    transforms.Normalize((mean,), (std,)),\n",
    "])"
   ]
  },
  {
   "cell_type": "markdown",
   "metadata": {},
   "source": [
    "Now, we define where the images are stored, and appropriate loaders for the images."
   ]
  },
  {
   "cell_type": "code",
   "execution_count": 67,
   "metadata": {},
   "outputs": [],
   "source": [
    "train_folder = ImageFolder(root=DATA_TRAIN_DIR, transform=transform)\n",
    "val_folder = ImageFolder(root=DATA_VAL_DIR, transform=transform)\n",
    "test_folder = ImageFolder(root=DATA_TEST_DIR, transform=transform)\n",
    "\n",
    "BATCH_SIZE = 64\n",
    "\n",
    "train_loader = DataLoader(train_folder, batch_size=BATCH_SIZE, shuffle=True)\n",
    "val_loader = DataLoader(val_folder, batch_size=BATCH_SIZE, shuffle=False)\n",
    "test_loader = DataLoader(test_folder, batch_size=BATCH_SIZE, shuffle=False)"
   ]
  },
  {
   "cell_type": "markdown",
   "metadata": {},
   "source": [
    "Now we define a function, where given a loader, it will extract features from the images using the CNN model we defined earlier."
   ]
  },
  {
   "cell_type": "code",
   "execution_count": 68,
   "metadata": {},
   "outputs": [],
   "source": [
    "def extract_features(folder, loader, model):\n",
    "    features = []\n",
    "    labels = []\n",
    "\n",
    "    with torch.no_grad():\n",
    "        for images, label in loader:\n",
    "            images = images.to(torch.device(\"cuda\" if torch.cuda.is_available() else \"cpu\"))\n",
    "\n",
    "            output = model(images)\n",
    "            \n",
    "            feature_batch = output.cpu().detach().numpy().flatten().reshape(-1, 2048)\n",
    "            features.extend(feature_batch)\n",
    "            labels.extend(label.numpy())\n",
    "\n",
    "    return features, labels"
   ]
  },
  {
   "cell_type": "code",
   "execution_count": 69,
   "metadata": {},
   "outputs": [],
   "source": [
    "train_features, train_labels = extract_features(train_folder, train_loader, resnet)\n",
    "val_features, val_labels = extract_features(test_folder, val_loader, resnet)\n",
    "test_features, test_labels = extract_features(val_folder, test_loader, resnet)"
   ]
  },
  {
   "cell_type": "code",
   "execution_count": 71,
   "metadata": {},
   "outputs": [
    {
     "name": "stderr",
     "output_type": "stream",
     "text": [
      "/home/miikey_lol/.local/lib/python3.10/site-packages/sklearn/linear_model/_logistic.py:460: ConvergenceWarning: lbfgs failed to converge (status=1):\n",
      "STOP: TOTAL NO. of ITERATIONS REACHED LIMIT.\n",
      "\n",
      "Increase the number of iterations (max_iter) or scale the data as shown in:\n",
      "    https://scikit-learn.org/stable/modules/preprocessing.html\n",
      "Please also refer to the documentation for alternative solver options:\n",
      "    https://scikit-learn.org/stable/modules/linear_model.html#logistic-regression\n",
      "  n_iter_i = _check_optimize_result(\n"
     ]
    }
   ],
   "source": [
    "# import the class\n",
    "from sklearn.linear_model import LogisticRegression\n",
    "\n",
    "# instantiate the model (using the default parameters)\n",
    "logreg = LogisticRegression(random_state=16)\n",
    "\n",
    "# fit the model with data\n",
    "logreg.fit(train_features, train_labels)\n",
    "\n",
    "y_pred = logreg.predict(val_features)"
   ]
  },
  {
   "cell_type": "code",
   "execution_count": 72,
   "metadata": {},
   "outputs": [
    {
     "data": {
      "text/plain": [
       "array([[10,  0,  0, ...,  0,  0,  0],\n",
       "       [ 0,  7,  0, ...,  0,  0,  0],\n",
       "       [ 0,  0,  8, ...,  0,  0,  0],\n",
       "       ...,\n",
       "       [ 0,  0,  0, ...,  1,  0,  0],\n",
       "       [ 0,  0,  0, ...,  0,  6,  0],\n",
       "       [ 0,  0,  0, ...,  0,  0,  4]])"
      ]
     },
     "execution_count": 72,
     "metadata": {},
     "output_type": "execute_result"
    }
   ],
   "source": [
    "from sklearn import metrics\n",
    "\n",
    "cnf_matrix = metrics.confusion_matrix(val_labels, val_pred)\n",
    "cnf_matrix"
   ]
  },
  {
   "cell_type": "code",
   "execution_count": 73,
   "metadata": {},
   "outputs": [
    {
     "data": {
      "text/plain": [
       "Text(0.5, 427.9555555555555, 'Predicted label')"
      ]
     },
     "execution_count": 73,
     "metadata": {},
     "output_type": "execute_result"
    },
    {
     "data": {
      "image/png": "[encoded data removed]",
      "text/plain": [
       "<Figure size 640x480 with 2 Axes>"
      ]
     },
     "metadata": {},
     "output_type": "display_data"
    }
   ],
   "source": [
    "# import required modules\n",
    "import numpy as np\n",
    "import matplotlib.pyplot as plt\n",
    "import seaborn as sns\n",
    "\n",
    "fig, ax = plt.subplots()\n",
    "tick_marks = np.arange(len(image_classes))\n",
    "plt.xticks(tick_marks, image_classes)\n",
    "plt.yticks(tick_marks, image_classes)\n",
    "# create heatmap\n",
    "sns.heatmap(pd.DataFrame(cnf_matrix), annot=True, cmap=\"YlGnBu\" ,fmt='g')\n",
    "\n",
    "\n",
    "ax.xaxis.set_label_position(\"top\")\n",
    "plt.tight_layout()\n",
    "plt.title('Confusion matrix', y=1.1)\n",
    "plt.ylabel('Actual label')\n",
    "plt.xlabel('Predicted label')"
   ]
  },
  {
   "cell_type": "code",
   "execution_count": 74,
   "metadata": {},
   "outputs": [
    {
     "name": "stdout",
     "output_type": "stream",
     "text": [
      "              precision    recall  f1-score   support\n",
      "\n",
      "           认       1.00      1.00      1.00        10\n",
      "           岁       0.78      0.70      0.74        10\n",
      "           校       0.80      0.80      0.80        10\n",
      "           没       0.62      0.80      0.70        10\n",
      "           欢       0.88      0.70      0.78        10\n",
      "           们       0.44      0.70      0.54        10\n",
      "           影       0.25      0.30      0.27        10\n",
      "           妈       0.58      0.70      0.64        10\n",
      "           几       0.57      0.80      0.67        10\n",
      "           工       0.57      0.80      0.67        10\n",
      "           火       0.71      0.50      0.59        10\n",
      "           在       0.70      0.70      0.70        10\n",
      "           十       0.56      0.50      0.53        10\n",
      "           么       0.45      0.50      0.48        10\n",
      "           后       0.73      0.80      0.76        10\n",
      "           吗       0.73      0.80      0.76        10\n",
      "           回       0.56      0.50      0.53        10\n",
      "           小       0.67      0.40      0.50        10\n",
      "           时       0.38      0.30      0.33        10\n",
      "           院       0.46      0.60      0.52        10\n",
      "           对       0.77      1.00      0.87        10\n",
      "           猫       0.64      0.70      0.67        10\n",
      "           字       0.67      0.40      0.50        10\n",
      "           有       0.69      0.90      0.78        10\n",
      "           叫       0.90      0.90      0.90        10\n",
      "           家       0.64      0.70      0.67        10\n",
      "           谢       0.78      0.70      0.74        10\n",
      "           椅       0.44      0.40      0.42        10\n",
      "           亮       0.47      0.70      0.56        10\n",
      "           我       0.58      0.70      0.64        10\n",
      "           书       0.54      0.70      0.61        10\n",
      "           昨       0.55      0.60      0.57        10\n",
      "           分       0.43      0.30      0.35        10\n",
      "           车       0.70      0.70      0.70        10\n",
      "           块       0.57      0.40      0.47        10\n",
      "           视       0.50      0.20      0.29        10\n",
      "           桌       0.75      0.60      0.67        10\n",
      "           一       0.62      0.80      0.70        10\n",
      "           很       0.67      0.60      0.63        10\n",
      "           四       0.75      0.30      0.43        10\n",
      "           系       0.56      0.50      0.53        10\n",
      "           去       0.67      0.40      0.50        10\n",
      "           读       0.53      0.80      0.64        10\n",
      "           北       0.50      0.60      0.55        10\n",
      "           京       0.62      0.50      0.56        10\n",
      "           午       0.56      0.50      0.53        10\n",
      "           先       1.00      0.90      0.95        10\n",
      "           看       0.29      0.50      0.37        10\n",
      "           吃       0.35      0.70      0.47        10\n",
      "           中       0.67      0.60      0.63        10\n",
      "           天       0.82      0.90      0.86        10\n",
      "           你       0.56      0.50      0.53        10\n",
      "           六       0.67      0.60      0.63        10\n",
      "           生       0.57      0.40      0.47        10\n",
      "           星       0.62      0.50      0.56        10\n",
      "           衣       0.67      0.40      0.50        10\n",
      "           好       0.50      0.40      0.44        10\n",
      "           里       0.57      0.80      0.67        10\n",
      "           说       0.44      0.40      0.42        10\n",
      "           那       0.88      0.70      0.78        10\n",
      "           做       0.40      0.40      0.40        10\n",
      "           住       0.62      0.80      0.70        10\n",
      "           租       0.86      0.60      0.71        10\n",
      "           了       0.62      0.80      0.70        10\n",
      "           七       0.57      0.40      0.47        10\n",
      "           今       0.80      0.80      0.80        10\n",
      "           出       0.73      0.80      0.76        10\n",
      "           她       0.50      0.40      0.44        10\n",
      "           钟       0.67      0.60      0.63        10\n",
      "           热       0.60      0.60      0.60        10\n",
      "           茶       0.46      0.60      0.52        10\n",
      "           脑       0.46      0.60      0.52        10\n",
      "           老       0.50      0.40      0.44        10\n",
      "           习       0.75      0.60      0.67        10\n",
      "           八       0.69      0.90      0.78        10\n",
      "           再       0.67      0.80      0.73        10\n",
      "           饭       0.31      0.40      0.35        10\n",
      "           这       0.40      0.40      0.40        10\n",
      "           女       0.82      0.90      0.86        10\n",
      "           二       0.38      0.30      0.33        10\n",
      "           爱       0.64      0.70      0.67        10\n",
      "           果       1.00      0.30      0.46        10\n",
      "           学       0.38      0.50      0.43        10\n",
      "           语       0.45      0.50      0.48        10\n",
      "           点       0.70      0.70      0.70        10\n",
      "           些       0.75      0.60      0.67        10\n",
      "           电       0.55      0.60      0.57        10\n",
      "           月       0.57      0.40      0.47        10\n",
      "           个       0.71      0.50      0.59        10\n",
      "           想       0.67      0.80      0.73        10\n",
      "           五       0.43      0.30      0.35        10\n",
      "           本       0.40      0.40      0.40        10\n",
      "           样       0.58      0.70      0.64        10\n",
      "           不       0.67      0.60      0.63        10\n",
      "           上       0.36      0.40      0.38        10\n",
      "           面       0.71      0.50      0.59        10\n",
      "           明       0.60      0.60      0.60        10\n",
      "           多       0.67      0.40      0.50        10\n",
      "           爸       0.64      0.70      0.67        10\n",
      "           儿       0.50      0.70      0.58        10\n",
      "           水       0.78      0.70      0.74        10\n",
      "           识       0.44      0.40      0.42        10\n",
      "           怎       0.75      0.60      0.67        10\n",
      "           馆       0.45      0.50      0.48        10\n",
      "           觉       0.43      0.60      0.50        10\n",
      "           九       0.22      0.20      0.21        10\n",
      "           名       0.60      0.60      0.60        10\n",
      "           年       0.62      0.50      0.56        10\n",
      "           是       0.50      0.40      0.44        10\n",
      "           机       0.64      0.70      0.67        10\n",
      "           见       0.73      0.80      0.76        10\n",
      "           冷       0.60      0.60      0.60        10\n",
      "           子       0.56      0.50      0.53        10\n",
      "           店       0.62      0.50      0.56        10\n",
      "           汉       0.45      0.50      0.48        10\n",
      "           谁       0.71      0.50      0.59        10\n",
      "           兴       0.43      0.30      0.35        10\n",
      "           站       0.80      0.80      0.80        10\n",
      "           高       0.67      0.60      0.63        10\n",
      "           期       0.60      0.90      0.72        10\n",
      "           三       0.55      0.60      0.57        10\n",
      "           医       0.57      0.40      0.47        10\n",
      "           漂       0.75      0.60      0.67        10\n",
      "           气       0.27      0.30      0.29        10\n",
      "           大       0.45      0.50      0.48        10\n",
      "           会       0.54      0.70      0.61        10\n",
      "           太       0.60      0.60      0.60        10\n",
      "           能       0.69      0.90      0.78        10\n",
      "           请       0.55      0.60      0.57        10\n",
      "           什       0.78      0.70      0.74        10\n",
      "           坐       0.59      1.00      0.74        10\n",
      "           友       0.46      0.60      0.52        10\n",
      "           菜       0.44      0.40      0.42        10\n",
      "           买       0.45      0.50      0.48        10\n",
      "           同       0.80      0.80      0.80        10\n",
      "           飞       0.44      0.40      0.42        10\n",
      "           西       0.46      0.60      0.52        10\n",
      "           狗       0.50      0.30      0.37        10\n",
      "           米       1.00      0.30      0.46        10\n",
      "           前       0.50      0.50      0.50        10\n",
      "           雨       0.31      0.50      0.38        10\n",
      "           来       0.23      0.30      0.26        10\n",
      "           的       0.33      0.40      0.36        10\n",
      "           下       0.31      0.40      0.35        10\n",
      "           喝       0.71      0.50      0.59        10\n",
      "           钱       0.88      0.70      0.78        10\n",
      "           喂       0.43      0.30      0.35        10\n",
      "           喜       0.42      0.80      0.55        10\n",
      "           起       0.27      0.30      0.29        10\n",
      "           杯       0.78      0.70      0.74        10\n",
      "           打       0.64      0.70      0.67        10\n",
      "           候       0.25      0.20      0.22        10\n",
      "           商       0.55      0.60      0.57        10\n",
      "           服       0.56      0.90      0.69        10\n",
      "           客       0.50      0.40      0.44        10\n",
      "           他       0.50      0.40      0.44        10\n",
      "           姐       0.30      0.30      0.30        10\n",
      "           作       0.33      0.40      0.36        10\n",
      "           人       0.71      0.50      0.59        10\n",
      "           现       0.43      0.30      0.35        10\n",
      "           哪       0.33      0.30      0.32        10\n",
      "           日       0.64      0.70      0.67        10\n",
      "           朋       0.62      0.50      0.56        10\n",
      "           和       0.22      0.40      0.29        10\n",
      "           关       0.60      0.30      0.40        10\n",
      "           听       0.50      0.50      0.50        10\n",
      "           睡       0.56      0.50      0.53        10\n",
      "           写       0.86      0.60      0.71        10\n",
      "           师       0.60      0.60      0.60        10\n",
      "           开       0.57      0.80      0.67        10\n",
      "           零       0.67      0.60      0.63        10\n",
      "           国       0.86      0.60      0.71        10\n",
      "           都       0.71      0.50      0.59        10\n",
      "           少       0.54      0.70      0.61        10\n",
      "           呢       0.80      0.40      0.53        10\n",
      "           苹       0.50      0.10      0.17        10\n",
      "           东       0.67      0.60      0.63        10\n",
      "           话       0.57      0.40      0.47        10\n",
      "\n",
      "    accuracy                           0.57      1780\n",
      "   macro avg       0.59      0.57      0.56      1780\n",
      "weighted avg       0.59      0.57      0.56      1780\n",
      "\n"
     ]
    }
   ],
   "source": [
    "from sklearn.metrics import classification_report\n",
    "target_names = image_classes\n",
    "print(classification_report(val_labels, val_pred, target_names=target_names))"
   ]
  }
 ],
 "metadata": {
  "kernelspec": {
   "display_name": "Python 3",
   "language": "python",
   "name": "python3"
  },
  "language_info": {
   "codemirror_mode": {
    "name": "ipython",
    "version": 3
   },
   "file_extension": ".py",
   "mimetype": "text/x-python",
   "name": "python",
   "nbconvert_exporter": "python",
   "pygments_lexer": "ipython3",
   "version": "3.10.12"
  }
 },
 "nbformat": 4,
 "nbformat_minor": 2
}
