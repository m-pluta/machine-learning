{
 "cells": [
  {
   "cell_type": "markdown",
   "metadata": {},
   "source": [
    "# Project setup"
   ]
  },
  {
   "cell_type": "markdown",
   "metadata": {},
   "source": [
    "Import necessary libraries"
   ]
  },
  {
   "cell_type": "code",
   "execution_count": 49,
   "metadata": {},
   "outputs": [],
   "source": [
    "# System\n",
    "import os\n",
    "import shutil\n",
    "import glob\n",
    "\n",
    "# Image handling\n",
    "from PIL import Image, ImageOps\n",
    "\n",
    "# Numerical\n",
    "import numpy as np\n",
    "import pandas as pd\n",
    "import random\n",
    "\n",
    "# Plotting\n",
    "import matplotlib.pyplot as plt\n",
    "import seaborn as sns\n",
    "\n",
    "# CNN\n",
    "from keras.utils import to_categorical, set_random_seed\n",
    "from keras.models import Sequential, load_model, Model\n",
    "from keras.layers import Input, Conv2D, MaxPooling2D, Flatten, Dense, BatchNormalization, Dropout\n",
    "from keras.optimizers import Adam\n",
    "from keras.callbacks import EarlyStopping\n",
    "\n",
    "# Tuning\n",
    "import keras_tuner as kt\n",
    "\n",
    "# Machine Learning\n",
    "from sklearn.calibration import LabelEncoder\n",
    "from sklearn.model_selection import train_test_split, KFold, GridSearchCV\n",
    "from sklearn.linear_model import LogisticRegression\n",
    "from sklearn.neighbors import KNeighborsClassifier\n",
    "from sklearn.metrics import classification_report, accuracy_score, f1_score"
   ]
  },
  {
   "cell_type": "code",
   "execution_count": 50,
   "metadata": {},
   "outputs": [],
   "source": [
    "SEED = 42\n",
    "random.seed(SEED)\n",
    "set_random_seed(SEED)\n",
    "np.random.seed(SEED)"
   ]
  },
  {
   "cell_type": "markdown",
   "metadata": {},
   "source": [
    "First we establish the directory to where our data is stored, and where we ultimately want to store our cleaned, preprocessed data."
   ]
  },
  {
   "cell_type": "code",
   "execution_count": 51,
   "metadata": {},
   "outputs": [],
   "source": [
    "INIT_DIR = 'chinese-handwriting-recognition-hsk-1/chinese-handwriting/'\n",
    "\n",
    "INIT_TRAIN_DIR = os.path.join(INIT_DIR, 'CASIA-HWDB_Train/Train/')\n",
    "INIT_TEST_DIR = os.path.join(INIT_DIR, 'CASIA-HWDB_Test/Test/')\n",
    "\n",
    "DIR = 'data/'"
   ]
  },
  {
   "cell_type": "markdown",
   "metadata": {},
   "source": [
    "# Data investigation"
   ]
  },
  {
   "cell_type": "markdown",
   "metadata": {},
   "source": [
    "First lets have a look at how many data classes we have in the dataset. The dataset has been split into test and train already so lets check how many classes we have in each."
   ]
  },
  {
   "cell_type": "code",
   "execution_count": 52,
   "metadata": {},
   "outputs": [
    {
     "name": "stdout",
     "output_type": "stream",
     "text": [
      "The same classes are in each folder\n"
     ]
    }
   ],
   "source": [
    "image_classes = os.listdir(INIT_TRAIN_DIR)\n",
    "\n",
    "if image_classes == os.listdir(INIT_TEST_DIR):\n",
    "    print('The same classes are in each folder')\n",
    "else:\n",
    "    print('The two folders contain different classes')"
   ]
  },
  {
   "cell_type": "code",
   "execution_count": 53,
   "metadata": {},
   "outputs": [],
   "source": [
    "# # image_classes = ['零', '一', '二']\n",
    "# # image_classes = ['零', '一', '二', '三', '四', '五', '六', '七', '八', '九', '十']\n",
    "# # image_classes = image_classes_train[:20]\n",
    "# image_classes = random.sample(image_classes, 50)\n",
    "# # image_classes = image_classes_train"
   ]
  },
  {
   "cell_type": "markdown",
   "metadata": {},
   "source": [
    "Next, lets combine the the train and test data into one directory for simplicity.\n",
    "\n",
    "We start by creating a new directory for our preprocessed data."
   ]
  },
  {
   "cell_type": "code",
   "execution_count": 54,
   "metadata": {},
   "outputs": [],
   "source": [
    "# Remove old data\n",
    "if os.path.exists(DIR):\n",
    "    shutil.rmtree(DIR)\n",
    "    \n",
    "#Create the new directory\n",
    "os.mkdir(DIR)\n",
    "for image_class in image_classes:\n",
    "    path = os.path.join(DIR, image_class)\n",
    "    os.makedirs(path)"
   ]
  },
  {
   "cell_type": "markdown",
   "metadata": {},
   "source": [
    "Now let's combine the train and test data into one directory. This is specified by the `DIR` variable."
   ]
  },
  {
   "cell_type": "code",
   "execution_count": 55,
   "metadata": {},
   "outputs": [],
   "source": [
    "def combineDirectories():\n",
    "    for image_class in image_classes:\n",
    "        images = []\n",
    "\n",
    "        # Fetch images from train dir\n",
    "        train_path = os.path.join(INIT_TRAIN_DIR, image_class)\n",
    "        images += [os.path.join(train_path, file) for file in os.listdir(train_path)]\n",
    "\n",
    "        # Fetch images from test dir\n",
    "        test_path = os.path.join(INIT_TEST_DIR, image_class)\n",
    "        images += [os.path.join(test_path, file) for file in os.listdir(test_path)]\n",
    "\n",
    "        # Iterate over the splits and images and copy them to the data directory\n",
    "        for i, image in enumerate(images):\n",
    "            new_filename = f\"{i+1}.png\"\n",
    "            destination_path = os.path.join(DIR, image_class, new_filename)\n",
    "            shutil.copy(image, destination_path)\n",
    "            \n",
    "combineDirectories()"
   ]
  },
  {
   "cell_type": "markdown",
   "metadata": {},
   "source": [
    "# Data Pre-processing"
   ]
  },
  {
   "cell_type": "markdown",
   "metadata": {},
   "source": [
    "First lets iterate through all the images and and confirm they are all `.png` and black & white "
   ]
  },
  {
   "cell_type": "code",
   "execution_count": 56,
   "metadata": {},
   "outputs": [],
   "source": [
    "def checkGrayscale():\n",
    "    # Loop through each subdirectory and file in the directory\n",
    "    for subdir, dirs, images in os.walk(DIR):\n",
    "        for image in images:\n",
    "            if image.lower().endswith('.png'):\n",
    "                file_path = os.path.join(subdir, image)\n",
    "\n",
    "                with Image.open(file_path) as img:\n",
    "                    if img.mode != 'L':\n",
    "                        print(f\"{file_path} is not grayscale.\")\n",
    "            else:\n",
    "                print(\"Not a png file: \")\n",
    "checkGrayscale()"
   ]
  },
  {
   "cell_type": "markdown",
   "metadata": {},
   "source": [
    "Next let's iterate through all the images and check if any have an aspect ratio that is not 1:1."
   ]
  },
  {
   "cell_type": "code",
   "execution_count": 57,
   "metadata": {},
   "outputs": [],
   "source": [
    "def checkAspectRatios():\n",
    "    image_sizes = []\n",
    "\n",
    "    # Iterate through all the images and check if any do not have a 1:1 aspect ratio\n",
    "    for subdir, dirs, images in os.walk(DIR):\n",
    "        for image in images:\n",
    "            file_path = os.path.join(subdir, image)\n",
    "            with Image.open(file_path) as img:\n",
    "                image_sizes.append(img.size[0])\n",
    "\n",
    "                if img.size[0] != img.size[1]:\n",
    "                    print(file_path, img.size)\n",
    "                    \n",
    "    return image_sizes\n",
    "                    \n",
    "image_sizes = checkAspectRatios()"
   ]
  },
  {
   "cell_type": "markdown",
   "metadata": {},
   "source": [
    "Since all the images are square, this makes it easier to investigate their image sizes."
   ]
  },
  {
   "cell_type": "code",
   "execution_count": 58,
   "metadata": {},
   "outputs": [
    {
     "name": "stdout",
     "output_type": "stream",
     "text": [
      "Smallest dimension: 3\n"
     ]
    },
    {
     "data": {
      "image/png": "[encoded data removed]",
      "text/plain": [
       "<Figure size 500x500 with 1 Axes>"
      ]
     },
     "metadata": {},
     "output_type": "display_data"
    }
   ],
   "source": [
    "print(f\"Smallest dimension: {min(image_sizes)}\")\n",
    "\n",
    "# Plotting\n",
    "sns.displot(image_sizes)\n",
    "plt.xlabel('Dimension')\n",
    "plt.ylabel('Frequency')\n",
    "plt.tight_layout()\n",
    "plt.show()"
   ]
  },
  {
   "cell_type": "markdown",
   "metadata": {},
   "source": [
    "As you can see from the graph, the images are not all the same size. This will cause issues when we try to train the model, so we need to resize all the images to the same size. Additionally one of the images is only 3x3 which is way too small to be useful, so we will enforce a minimum image size."
   ]
  },
  {
   "cell_type": "code",
   "execution_count": 59,
   "metadata": {},
   "outputs": [],
   "source": [
    "MIN_IMAGE_SIZE = 20\n",
    "IMAGE_SIZE = 48\n",
    "\n",
    "def resizeImages():\n",
    "    # Iterate through all the images and resize to a fixed size\n",
    "    for subdir, dirs, images in os.walk(DIR):\n",
    "        for image in images:\n",
    "            file_path = os.path.join(subdir, image)\n",
    "            with Image.open(file_path) as img:\n",
    "                current_size = img.size[0]\n",
    "                if current_size < MIN_IMAGE_SIZE:\n",
    "                    os.remove(file_path)\n",
    "                    continue\n",
    "                \n",
    "                if current_size != IMAGE_SIZE:\n",
    "                    img = img.resize((IMAGE_SIZE, IMAGE_SIZE), Image.Resampling.LANCZOS)\n",
    "                \n",
    "                img = ImageOps.invert(img)\n",
    "                img.save(file_path)\n",
    "                \n",
    "resizeImages()"
   ]
  },
  {
   "cell_type": "markdown",
   "metadata": {},
   "source": [
    "Now lets check how many images we have in each class and see how balanced the classes are."
   ]
  },
  {
   "cell_type": "code",
   "execution_count": 60,
   "metadata": {},
   "outputs": [
    {
     "data": {
      "image/png": "[encoded data removed]",
      "text/plain": [
       "<Figure size 500x500 with 1 Axes>"
      ]
     },
     "metadata": {},
     "output_type": "display_data"
    },
    {
     "name": "stdout",
     "output_type": "stream",
     "text": [
      "            Count\n",
      "count  178.000000\n",
      "mean   741.269663\n",
      "std      3.031898\n",
      "min    721.000000\n",
      "5%     737.000000\n",
      "25%    740.000000\n",
      "50%    741.000000\n",
      "75%    743.000000\n",
      "95%    746.000000\n",
      "max    748.000000\n"
     ]
    }
   ],
   "source": [
    "def get_class_counts():\n",
    "    class_counts = {}\n",
    "    \n",
    "    for subdir in glob.glob(os.path.join(DIR, '*')):\n",
    "        file_count = len(glob.glob(os.path.join(subdir, '*')))\n",
    "        class_counts[subdir.split('/')[-1]] = file_count\n",
    "\n",
    "    return pd.DataFrame.from_dict(class_counts, orient='index', columns=['Count'])\n",
    "\n",
    "df_class_counts = get_class_counts() \n",
    "\n",
    "sns.displot(list(df_class_counts['Count']))\n",
    "plt.xlabel('Samples per class')\n",
    "plt.ylabel('Class count')\n",
    "plt.tight_layout()\n",
    "plt.show()\n",
    "\n",
    "print(df_class_counts.describe([0.05, 0.25, 0.75, 0.95]))"
   ]
  },
  {
   "cell_type": "markdown",
   "metadata": {},
   "source": [
    "From this we can see that the classes are fairly balanced, let's quickly have a look at the slight imbalance in the classes.\n",
    "We can arbitrarily choose a balance metric such as outside the range of 2 standard deviations from the mean."
   ]
  },
  {
   "cell_type": "code",
   "execution_count": 61,
   "metadata": {},
   "outputs": [
    {
     "name": "stdout",
     "output_type": "stream",
     "text": [
      "   Count\n",
      "月    748\n",
      "零    732\n",
      "四    734\n",
      "样    721\n",
      "老    734\n",
      "六    733\n"
     ]
    }
   ],
   "source": [
    "df_class_counts = get_class_counts() \n",
    "\n",
    "mean = df_class_counts['Count'].mean()\n",
    "std = df_class_counts['Count'].std()\n",
    "threshold = 2 * std\n",
    "\n",
    "outlier_counts = df_class_counts[np.abs(df_class_counts['Count'] - mean) > threshold]\n",
    "print(outlier_counts)"
   ]
  },
  {
   "cell_type": "markdown",
   "metadata": {},
   "source": [
    "As we can see, the imbalance is minimal. Because of this, we will not be using any class balancing techniques."
   ]
  },
  {
   "cell_type": "markdown",
   "metadata": {},
   "source": [
    "Let's have a look some examples of the images in the dataset."
   ]
  },
  {
   "cell_type": "code",
   "execution_count": 62,
   "metadata": {},
   "outputs": [
    {
     "data": {
      "image/png": "[encoded data removed]",
      "text/plain": [
       "<Figure size 800x800 with 4 Axes>"
      ]
     },
     "metadata": {},
     "output_type": "display_data"
    }
   ],
   "source": [
    "import glob\n",
    "\n",
    "# Get list of all .png images in the directory and its subdirectories\n",
    "images = glob.glob(os.path.join(DIR, '**', '*.png'), recursive=True)\n",
    "\n",
    "# Randomly select num_images images\n",
    "random_images = random.sample(images, 4)\n",
    "\n",
    "fig, axs = plt.subplots(2, 2, figsize=(8, 8))\n",
    "\n",
    "# Set the font for the plot\n",
    "import matplotlib.font_manager as fm\n",
    "font_path = 'NotoSansCJKsc-Regular.otf'\n",
    "prop = fm.FontProperties(fname=font_path)\n",
    "\n",
    "for i in range(2):\n",
    "    for j in range(2):\n",
    "        img_path = random_images[2 * i + j]\n",
    "        img = Image.open(img_path)\n",
    "        axs[i][j].imshow(img)\n",
    "        axs[i][j].set_title(f\"Character: {img_path.split('/')[1]}\", fontproperties=prop,fontsize = 13)"
   ]
  },
  {
   "cell_type": "markdown",
   "metadata": {},
   "source": [
    "# NumPy Array Conversion\n",
    "\n",
    "Now we can convert all the images into one single numpy array with the corresponding labels for each image."
   ]
  },
  {
   "cell_type": "code",
   "execution_count": 63,
   "metadata": {},
   "outputs": [],
   "source": [
    "def get_numpy_data(classes):\n",
    "    images = []\n",
    "    labels = []\n",
    "    for image_class in classes:\n",
    "        path = os.path.join(DIR, image_class)\n",
    "        for image in os.listdir(path):\n",
    "            image_path = os.path.join(path, image)\n",
    "\n",
    "            img = Image.open(image_path)\n",
    "            img_array = np.array(img)\n",
    "\n",
    "            images.append(img_array)\n",
    "            labels.append(image_class)\n",
    "            \n",
    "    return np.array(images), np.array(labels)"
   ]
  },
  {
   "cell_type": "markdown",
   "metadata": {},
   "source": [
    "Now we can convert the python lists into numpy arrays."
   ]
  },
  {
   "cell_type": "code",
   "execution_count": 64,
   "metadata": {},
   "outputs": [],
   "source": [
    "# random_image_classes = random.sample(image_classes, 50)\n",
    "\n",
    "images, labels = get_numpy_data(image_classes)"
   ]
  },
  {
   "cell_type": "markdown",
   "metadata": {},
   "source": [
    "And finally we can save the numpy arrays to the root directory."
   ]
  },
  {
   "cell_type": "code",
   "execution_count": 65,
   "metadata": {},
   "outputs": [],
   "source": [
    "np.save('images.npy', images)\n",
    "np.save('labels.npy', labels)"
   ]
  },
  {
   "cell_type": "markdown",
   "metadata": {},
   "source": [
    "## CNN Training"
   ]
  },
  {
   "cell_type": "code",
   "execution_count": 66,
   "metadata": {},
   "outputs": [
    {
     "name": "stdout",
     "output_type": "stream",
     "text": [
      "['儿' '椅' '亮' ... '视' '习' '上']\n",
      "['喜' '视' '漂' ... '几' '听' '下']\n"
     ]
    }
   ],
   "source": [
    "images = np.load('images.npy').astype(\"float32\") / 255\n",
    "labels = np.load('labels.npy')\n",
    "\n",
    "X_train, X_test, y_train, y_test = train_test_split(images, labels, test_size=0.2, random_state=42, stratify=labels)\n",
    "\n",
    "def one_hot_encode_labels(y1, y2):\n",
    "    print(y1)\n",
    "    print(y2)\n",
    "    label_encoder = LabelEncoder()\n",
    "    label_encoder.fit(np.concatenate((y1, y2)))\n",
    "    \n",
    "    y1_encoded = label_encoder.transform(y1)\n",
    "    y2_encoded = label_encoder.transform(y2)\n",
    "    \n",
    "    num_classes = len(label_encoder.classes_)\n",
    "    y1_categorical = to_categorical(y1_encoded, num_classes=num_classes)\n",
    "    y2_categorical = to_categorical(y2_encoded, num_classes=num_classes)\n",
    "    \n",
    "    return y1_categorical, y2_categorical\n",
    "\n",
    "y_train_ohe, y_test_ohe = one_hot_encode_labels(y_train, y_test)\n",
    "\n",
    "NUM_CLASSES = y_train_ohe.shape[1]"
   ]
  },
  {
   "cell_type": "code",
   "execution_count": 67,
   "metadata": {},
   "outputs": [
    {
     "name": "stdout",
     "output_type": "stream",
     "text": [
      "(105556, 48, 48)\n",
      "(26390, 48, 48)\n",
      "(105556, 178)\n",
      "(26390, 178)\n",
      "(105556,)\n",
      "(26390,)\n"
     ]
    }
   ],
   "source": [
    "print(X_train.shape)\n",
    "print(X_test.shape)\n",
    "print(y_train_ohe.shape)\n",
    "print(y_test_ohe.shape)\n",
    "print(y_train.shape)\n",
    "print(y_test.shape)"
   ]
  },
  {
   "cell_type": "code",
   "execution_count": 77,
   "metadata": {},
   "outputs": [],
   "source": [
    "def getCNNModel(hp):\n",
    "    model = Sequential([\n",
    "        Input(shape=(IMAGE_SIZE, IMAGE_SIZE, 1)),\n",
    "        \n",
    "        Conv2D(hp.Int('conv_1_filters', min_value=8, max_value=32, step=8), kernel_size=3, activation='relu'),\n",
    "        BatchNormalization(),\n",
    "        MaxPooling2D(2, 2),\n",
    "        Dropout(hp.Float('dropout_1', min_value=0.0, max_value=0.5, step=0.1)),\n",
    "        \n",
    "        Conv2D(hp.Int('conv_2_filters', min_value=16, max_value=64, step=16), kernel_size=3, activation='relu'),\n",
    "        BatchNormalization(),\n",
    "        MaxPooling2D(2, 2),\n",
    "        Dropout(hp.Float('dropout_2', min_value=0.0, max_value=0.5, step=0.1)),\n",
    "        \n",
    "        Conv2D(hp.Int('conv_3_filters', min_value=32, max_value=128, step=32), kernel_size=2, activation='relu'),\n",
    "        MaxPooling2D(2, 2),\n",
    "        Dropout(hp.Float('dropout_3', min_value=0.0, max_value=0.5, step=0.1)),\n",
    "        \n",
    "        Flatten(),\n",
    "        Dense(units=hp.Int('dense_units', min_value=128, max_value=1024, step=128), activation='relu'),\n",
    "        Dropout(hp.Float('dropout_4', min_value=0.0, max_value=0.7, step=0.1)),\n",
    "        Dense(units=NUM_CLASSES, activation='softmax')\n",
    "    ])\n",
    "\n",
    "    # Compile the model\n",
    "    model.compile(\n",
    "        optimizer=Adam(\n",
    "            hp.Choice('learning_rate', values=[1e-2, 5e-3, 1e-3, 5e-4, 1e-4])),\n",
    "        loss='categorical_crossentropy',\n",
    "        metrics=['accuracy'])\n",
    "\n",
    "    return model"
   ]
  },
  {
   "cell_type": "code",
   "execution_count": 78,
   "metadata": {},
   "outputs": [
    {
     "name": "stdout",
     "output_type": "stream",
     "text": [
      "Trial 30 Complete [00h 05m 46s]\n",
      "val_accuracy: 0.9159719347953796\n",
      "\n",
      "Best val_accuracy So Far: 0.9340185523033142\n",
      "Total elapsed time: 01h 16m 24s\n"
     ]
    }
   ],
   "source": [
    "# from keras.callbacks import LearningRateScheduler\n",
    "from keras.callbacks import ModelCheckpoint\n",
    "\n",
    "tuner = kt.Hyperband(\n",
    "    getCNNModel,\n",
    "    objective='val_accuracy',\n",
    "    max_epochs=15,\n",
    "    directory='hyperband',\n",
    "    project_name='cnn_tuning20')\n",
    "\n",
    "EPOCHS = 30\n",
    "\n",
    "# annealer = LearningRateScheduler(\n",
    "#     lambda x: 1e-3 * 0.99 ** (2 * x))\n",
    "stop_early = EarlyStopping(\n",
    "    monitor='loss',\n",
    "    patience=5)\n",
    "checkpoint = ModelCheckpoint(\n",
    "    'best_model.h5',\n",
    "    monitor='val_accuracy',\n",
    "    verbose=0,\n",
    "    save_best_only=True)\n",
    "\n",
    "tuner.search(\n",
    "    X_train, y_train_ohe,\n",
    "    validation_split=0.2,\n",
    "    callbacks=[stop_early, checkpoint],\n",
    "    epochs=EPOCHS, batch_size=128)"
   ]
  },
  {
   "cell_type": "code",
   "execution_count": 79,
   "metadata": {},
   "outputs": [
    {
     "name": "stdout",
     "output_type": "stream",
     "text": [
      "Best hyperparameters: {'conv_1_filters': 16, 'dropout_1': 0.1, 'conv_2_filters': 32, 'dropout_2': 0.0, 'dropout_3': 0.2, 'dense_units': 640, 'dropout_4': 0.30000000000000004, 'learning_rate': 0.001, 'tuner/epochs': 15, 'tuner/initial_epoch': 5, 'tuner/bracket': 1, 'tuner/round': 1, 'tuner/trial_id': '0021'}\n"
     ]
    }
   ],
   "source": [
    "best_hps = tuner.get_best_hyperparameters(num_trials=1)[0]\n",
    "print(f\"Best hyperparameters: {best_hps.values}\")"
   ]
  },
  {
   "cell_type": "code",
   "execution_count": 47,
   "metadata": {},
   "outputs": [
    {
     "name": "stdout",
     "output_type": "stream",
     "text": [
      "Fold 1/10\n",
      "Epoch 1/15\n",
      "1485/1485 [==============================] - 26s 17ms/step - loss: 0.5458 - accuracy: 0.8432 - val_loss: 0.2927 - val_accuracy: 0.9240\n",
      "Epoch 2/15\n",
      "1485/1485 [==============================] - 25s 17ms/step - loss: 0.5004 - accuracy: 0.8564 - val_loss: 0.2826 - val_accuracy: 0.9252\n",
      "Epoch 3/15\n",
      "1485/1485 [==============================] - 25s 17ms/step - loss: 0.4608 - accuracy: 0.8677 - val_loss: 0.2671 - val_accuracy: 0.9294\n",
      "Epoch 4/15\n",
      "1485/1485 [==============================] - 25s 17ms/step - loss: 0.4335 - accuracy: 0.8739 - val_loss: 0.2639 - val_accuracy: 0.9271\n",
      "Epoch 5/15\n",
      "1485/1485 [==============================] - 25s 17ms/step - loss: 0.4127 - accuracy: 0.8801 - val_loss: 0.2562 - val_accuracy: 0.9292\n",
      "Epoch 6/15\n",
      "1485/1485 [==============================] - 25s 17ms/step - loss: 0.3870 - accuracy: 0.8864 - val_loss: 0.2473 - val_accuracy: 0.9328\n",
      "Epoch 7/15\n",
      "1485/1485 [==============================] - 25s 17ms/step - loss: 0.3706 - accuracy: 0.8910 - val_loss: 0.2387 - val_accuracy: 0.9326\n",
      "Epoch 8/15\n",
      "1485/1485 [==============================] - 25s 17ms/step - loss: 0.3522 - accuracy: 0.8955 - val_loss: 0.2296 - val_accuracy: 0.9371\n",
      "Epoch 9/15\n",
      "1485/1485 [==============================] - 25s 17ms/step - loss: 0.3350 - accuracy: 0.8998 - val_loss: 0.2313 - val_accuracy: 0.9337\n",
      "Epoch 10/15\n",
      "1485/1485 [==============================] - 25s 17ms/step - loss: 0.3253 - accuracy: 0.9033 - val_loss: 0.2275 - val_accuracy: 0.9352\n",
      "Epoch 11/15\n",
      "1485/1485 [==============================] - 25s 17ms/step - loss: 0.3089 - accuracy: 0.9070 - val_loss: 0.2223 - val_accuracy: 0.9373\n",
      "Epoch 12/15\n",
      "1485/1485 [==============================] - 25s 17ms/step - loss: 0.2959 - accuracy: 0.9106 - val_loss: 0.2262 - val_accuracy: 0.9360\n",
      "Epoch 13/15\n",
      "1485/1485 [==============================] - 25s 17ms/step - loss: 0.2843 - accuracy: 0.9136 - val_loss: 0.2138 - val_accuracy: 0.9393\n",
      "Epoch 14/15\n",
      "1485/1485 [==============================] - 25s 17ms/step - loss: 0.2771 - accuracy: 0.9166 - val_loss: 0.2159 - val_accuracy: 0.9383\n",
      "Epoch 15/15\n",
      "1485/1485 [==============================] - 25s 17ms/step - loss: 0.2700 - accuracy: 0.9170 - val_loss: 0.2092 - val_accuracy: 0.9421\n",
      "Best epoch: 15, Val_accuracy: 0.942118227481842\n",
      "Fold 2/10\n",
      "Epoch 1/15\n",
      "1485/1485 [==============================] - 26s 17ms/step - loss: 0.5485 - accuracy: 0.8425 - val_loss: 0.2939 - val_accuracy: 0.9226\n",
      "Epoch 2/15\n",
      "1485/1485 [==============================] - 26s 17ms/step - loss: 0.4977 - accuracy: 0.8567 - val_loss: 0.2857 - val_accuracy: 0.9235\n",
      "Epoch 3/15\n",
      "1485/1485 [==============================] - 26s 17ms/step - loss: 0.4591 - accuracy: 0.8681 - val_loss: 0.2814 - val_accuracy: 0.9225\n",
      "Epoch 4/15\n",
      "1485/1485 [==============================] - 26s 17ms/step - loss: 0.4378 - accuracy: 0.8721 - val_loss: 0.2633 - val_accuracy: 0.9283\n",
      "Epoch 5/15\n",
      "1485/1485 [==============================] - 26s 18ms/step - loss: 0.4087 - accuracy: 0.8807 - val_loss: 0.2611 - val_accuracy: 0.9280\n",
      "Epoch 6/15\n",
      "1485/1485 [==============================] - 26s 17ms/step - loss: 0.3907 - accuracy: 0.8852 - val_loss: 0.2563 - val_accuracy: 0.9302\n",
      "Epoch 7/15\n",
      "1485/1485 [==============================] - 26s 17ms/step - loss: 0.3687 - accuracy: 0.8911 - val_loss: 0.2461 - val_accuracy: 0.9309\n",
      "Epoch 8/15\n",
      "1485/1485 [==============================] - 26s 17ms/step - loss: 0.3513 - accuracy: 0.8957 - val_loss: 0.2539 - val_accuracy: 0.9281\n",
      "Epoch 9/15\n",
      "1485/1485 [==============================] - 26s 17ms/step - loss: 0.3363 - accuracy: 0.8991 - val_loss: 0.2363 - val_accuracy: 0.9343\n",
      "Epoch 10/15\n",
      "1485/1485 [==============================] - 25s 17ms/step - loss: 0.3225 - accuracy: 0.9031 - val_loss: 0.2366 - val_accuracy: 0.9334\n",
      "Epoch 11/15\n",
      "1485/1485 [==============================] - 26s 17ms/step - loss: 0.3054 - accuracy: 0.9080 - val_loss: 0.2265 - val_accuracy: 0.9356\n",
      "Epoch 12/15\n",
      "1485/1485 [==============================] - 26s 17ms/step - loss: 0.2980 - accuracy: 0.9099 - val_loss: 0.2220 - val_accuracy: 0.9374\n",
      "Epoch 13/15\n",
      "1485/1485 [==============================] - 26s 17ms/step - loss: 0.2834 - accuracy: 0.9139 - val_loss: 0.2273 - val_accuracy: 0.9356\n",
      "Epoch 14/15\n",
      "1485/1485 [==============================] - 26s 17ms/step - loss: 0.2761 - accuracy: 0.9154 - val_loss: 0.2358 - val_accuracy: 0.9321\n",
      "Epoch 15/15\n",
      "1485/1485 [==============================] - 26s 17ms/step - loss: 0.2650 - accuracy: 0.9194 - val_loss: 0.2187 - val_accuracy: 0.9399\n",
      "Best epoch: 15, Val_accuracy: 0.9399393796920776\n",
      "Fold 3/10\n",
      "Epoch 1/15\n",
      "1485/1485 [==============================] - 26s 17ms/step - loss: 0.5423 - accuracy: 0.8439 - val_loss: 0.2750 - val_accuracy: 0.9269\n",
      "Epoch 2/15\n",
      "1485/1485 [==============================] - 25s 17ms/step - loss: 0.4987 - accuracy: 0.8585 - val_loss: 0.2611 - val_accuracy: 0.9299\n",
      "Epoch 3/15\n",
      "1485/1485 [==============================] - 25s 17ms/step - loss: 0.4631 - accuracy: 0.8667 - val_loss: 0.2542 - val_accuracy: 0.9320\n",
      "Epoch 4/15\n",
      "1485/1485 [==============================] - 25s 17ms/step - loss: 0.4364 - accuracy: 0.8734 - val_loss: 0.2487 - val_accuracy: 0.9308\n",
      "Epoch 5/15\n",
      "1485/1485 [==============================] - 26s 17ms/step - loss: 0.4122 - accuracy: 0.8798 - val_loss: 0.2396 - val_accuracy: 0.9326\n",
      "Epoch 6/15\n",
      "1485/1485 [==============================] - 25s 17ms/step - loss: 0.3922 - accuracy: 0.8834 - val_loss: 0.2287 - val_accuracy: 0.9361\n",
      "Epoch 7/15\n",
      "1485/1485 [==============================] - 25s 17ms/step - loss: 0.3721 - accuracy: 0.8902 - val_loss: 0.2258 - val_accuracy: 0.9379\n",
      "Epoch 8/15\n",
      "1485/1485 [==============================] - 25s 17ms/step - loss: 0.3529 - accuracy: 0.8957 - val_loss: 0.2196 - val_accuracy: 0.9403\n",
      "Epoch 9/15\n",
      "1485/1485 [==============================] - 25s 17ms/step - loss: 0.3373 - accuracy: 0.9000 - val_loss: 0.2144 - val_accuracy: 0.9392\n",
      "Epoch 10/15\n",
      "1485/1485 [==============================] - 26s 17ms/step - loss: 0.3251 - accuracy: 0.9026 - val_loss: 0.2164 - val_accuracy: 0.9386\n",
      "Epoch 11/15\n",
      "1485/1485 [==============================] - 25s 17ms/step - loss: 0.3088 - accuracy: 0.9076 - val_loss: 0.2040 - val_accuracy: 0.9426\n",
      "Epoch 12/15\n",
      "1485/1485 [==============================] - 25s 17ms/step - loss: 0.2956 - accuracy: 0.9103 - val_loss: 0.2094 - val_accuracy: 0.9404\n",
      "Epoch 13/15\n",
      "1485/1485 [==============================] - 25s 17ms/step - loss: 0.2882 - accuracy: 0.9123 - val_loss: 0.1979 - val_accuracy: 0.9440\n",
      "Epoch 14/15\n",
      "1485/1485 [==============================] - 25s 17ms/step - loss: 0.2784 - accuracy: 0.9144 - val_loss: 0.1994 - val_accuracy: 0.9416\n",
      "Epoch 15/15\n",
      "1485/1485 [==============================] - 26s 17ms/step - loss: 0.2659 - accuracy: 0.9188 - val_loss: 0.1960 - val_accuracy: 0.9432\n",
      "Best epoch: 13, Val_accuracy: 0.9440128803253174\n",
      "Fold 4/10\n",
      "Epoch 1/15\n",
      "1485/1485 [==============================] - 27s 18ms/step - loss: 0.5466 - accuracy: 0.8443 - val_loss: 0.2902 - val_accuracy: 0.9226\n",
      "Epoch 2/15\n",
      "1485/1485 [==============================] - 26s 18ms/step - loss: 0.4973 - accuracy: 0.8561 - val_loss: 0.2804 - val_accuracy: 0.9243\n",
      "Epoch 3/15\n",
      "1485/1485 [==============================] - 26s 18ms/step - loss: 0.4624 - accuracy: 0.8655 - val_loss: 0.2691 - val_accuracy: 0.9288\n",
      "Epoch 4/15\n",
      "1485/1485 [==============================] - 26s 18ms/step - loss: 0.4337 - accuracy: 0.8736 - val_loss: 0.2668 - val_accuracy: 0.9266\n",
      "Epoch 5/15\n",
      "1485/1485 [==============================] - 26s 18ms/step - loss: 0.4108 - accuracy: 0.8803 - val_loss: 0.2622 - val_accuracy: 0.9276\n",
      "Epoch 6/15\n",
      "1485/1485 [==============================] - 26s 17ms/step - loss: 0.3921 - accuracy: 0.8850 - val_loss: 0.2542 - val_accuracy: 0.9302\n",
      "Epoch 7/15\n",
      "1485/1485 [==============================] - 26s 17ms/step - loss: 0.3692 - accuracy: 0.8908 - val_loss: 0.2497 - val_accuracy: 0.9300\n",
      "Epoch 8/15\n",
      "1485/1485 [==============================] - 26s 18ms/step - loss: 0.3514 - accuracy: 0.8959 - val_loss: 0.2440 - val_accuracy: 0.9336\n",
      "Epoch 9/15\n",
      "1485/1485 [==============================] - 26s 18ms/step - loss: 0.3364 - accuracy: 0.8992 - val_loss: 0.2350 - val_accuracy: 0.9338\n",
      "Epoch 10/15\n",
      "1485/1485 [==============================] - 26s 18ms/step - loss: 0.3246 - accuracy: 0.9025 - val_loss: 0.2309 - val_accuracy: 0.9337\n",
      "Epoch 11/15\n",
      "1485/1485 [==============================] - 26s 18ms/step - loss: 0.3070 - accuracy: 0.9077 - val_loss: 0.2323 - val_accuracy: 0.9350\n",
      "Epoch 12/15\n",
      "1485/1485 [==============================] - 26s 18ms/step - loss: 0.2959 - accuracy: 0.9103 - val_loss: 0.2256 - val_accuracy: 0.9362\n",
      "Epoch 13/15\n",
      "1485/1485 [==============================] - 26s 18ms/step - loss: 0.2846 - accuracy: 0.9139 - val_loss: 0.2227 - val_accuracy: 0.9384\n",
      "Epoch 14/15\n",
      "1485/1485 [==============================] - 26s 18ms/step - loss: 0.2745 - accuracy: 0.9162 - val_loss: 0.2248 - val_accuracy: 0.9370\n",
      "Epoch 15/15\n",
      "1485/1485 [==============================] - 26s 18ms/step - loss: 0.2662 - accuracy: 0.9196 - val_loss: 0.2160 - val_accuracy: 0.9395\n",
      "Best epoch: 15, Val_accuracy: 0.9394657015800476\n",
      "Fold 5/10\n",
      "Epoch 1/15\n",
      "1485/1485 [==============================] - 26s 17ms/step - loss: 0.5474 - accuracy: 0.8436 - val_loss: 0.2815 - val_accuracy: 0.9291\n",
      "Epoch 2/15\n",
      "1485/1485 [==============================] - 26s 17ms/step - loss: 0.4936 - accuracy: 0.8577 - val_loss: 0.2759 - val_accuracy: 0.9301\n",
      "Epoch 3/15\n",
      "1485/1485 [==============================] - 25s 17ms/step - loss: 0.4622 - accuracy: 0.8662 - val_loss: 0.2675 - val_accuracy: 0.9286\n",
      "Epoch 4/15\n",
      "1485/1485 [==============================] - 25s 17ms/step - loss: 0.4390 - accuracy: 0.8724 - val_loss: 0.2574 - val_accuracy: 0.9326\n",
      "Epoch 5/15\n",
      "1485/1485 [==============================] - 25s 17ms/step - loss: 0.4116 - accuracy: 0.8796 - val_loss: 0.2517 - val_accuracy: 0.9318\n",
      "Epoch 6/15\n",
      "1485/1485 [==============================] - 26s 17ms/step - loss: 0.3873 - accuracy: 0.8863 - val_loss: 0.2483 - val_accuracy: 0.9342\n",
      "Epoch 7/15\n",
      "1485/1485 [==============================] - 25s 17ms/step - loss: 0.3689 - accuracy: 0.8922 - val_loss: 0.2412 - val_accuracy: 0.9347\n",
      "Epoch 8/15\n",
      "1485/1485 [==============================] - 25s 17ms/step - loss: 0.3502 - accuracy: 0.8965 - val_loss: 0.2354 - val_accuracy: 0.9373\n",
      "Epoch 9/15\n",
      "1485/1485 [==============================] - 25s 17ms/step - loss: 0.3351 - accuracy: 0.8991 - val_loss: 0.2282 - val_accuracy: 0.9392\n",
      "Epoch 10/15\n",
      "1485/1485 [==============================] - 26s 17ms/step - loss: 0.3228 - accuracy: 0.9025 - val_loss: 0.2252 - val_accuracy: 0.9388\n",
      "Epoch 11/15\n",
      "1485/1485 [==============================] - 26s 17ms/step - loss: 0.3070 - accuracy: 0.9077 - val_loss: 0.2289 - val_accuracy: 0.9379\n",
      "Epoch 12/15\n",
      "1485/1485 [==============================] - 25s 17ms/step - loss: 0.2960 - accuracy: 0.9105 - val_loss: 0.2155 - val_accuracy: 0.9429\n",
      "Epoch 13/15\n",
      "1485/1485 [==============================] - 25s 17ms/step - loss: 0.2889 - accuracy: 0.9115 - val_loss: 0.2213 - val_accuracy: 0.9395\n",
      "Epoch 14/15\n",
      "1485/1485 [==============================] - 26s 17ms/step - loss: 0.2769 - accuracy: 0.9154 - val_loss: 0.2131 - val_accuracy: 0.9415\n",
      "Epoch 15/15\n",
      "1485/1485 [==============================] - 26s 17ms/step - loss: 0.2628 - accuracy: 0.9203 - val_loss: 0.2125 - val_accuracy: 0.9409\n",
      "Best epoch: 12, Val_accuracy: 0.9428761005401611\n",
      "Fold 6/10\n",
      "Epoch 1/15\n",
      "1485/1485 [==============================] - 26s 17ms/step - loss: 0.5418 - accuracy: 0.8452 - val_loss: 0.2915 - val_accuracy: 0.9226\n",
      "Epoch 2/15\n",
      "1485/1485 [==============================] - 25s 17ms/step - loss: 0.4958 - accuracy: 0.8578 - val_loss: 0.2848 - val_accuracy: 0.9263\n",
      "Epoch 3/15\n",
      "1485/1485 [==============================] - 26s 17ms/step - loss: 0.4620 - accuracy: 0.8670 - val_loss: 0.2801 - val_accuracy: 0.9236\n",
      "Epoch 4/15\n",
      "1485/1485 [==============================] - 25s 17ms/step - loss: 0.4357 - accuracy: 0.8733 - val_loss: 0.2593 - val_accuracy: 0.9289\n",
      "Epoch 5/15\n",
      "1485/1485 [==============================] - 25s 17ms/step - loss: 0.4090 - accuracy: 0.8800 - val_loss: 0.2656 - val_accuracy: 0.9277\n",
      "Epoch 6/15\n",
      "1485/1485 [==============================] - 25s 17ms/step - loss: 0.3848 - accuracy: 0.8864 - val_loss: 0.2479 - val_accuracy: 0.9324\n",
      "Epoch 7/15\n",
      "1485/1485 [==============================] - 26s 17ms/step - loss: 0.3698 - accuracy: 0.8909 - val_loss: 0.2440 - val_accuracy: 0.9337\n",
      "Epoch 8/15\n",
      "1485/1485 [==============================] - 26s 17ms/step - loss: 0.3488 - accuracy: 0.8961 - val_loss: 0.2404 - val_accuracy: 0.9338\n",
      "Epoch 9/15\n",
      "1485/1485 [==============================] - 25s 17ms/step - loss: 0.3375 - accuracy: 0.8987 - val_loss: 0.2315 - val_accuracy: 0.9361\n",
      "Epoch 10/15\n",
      "1485/1485 [==============================] - 25s 17ms/step - loss: 0.3223 - accuracy: 0.9035 - val_loss: 0.2266 - val_accuracy: 0.9376\n",
      "Epoch 11/15\n",
      "1485/1485 [==============================] - 25s 17ms/step - loss: 0.3092 - accuracy: 0.9071 - val_loss: 0.2248 - val_accuracy: 0.9380\n",
      "Epoch 12/15\n",
      "1485/1485 [==============================] - 25s 17ms/step - loss: 0.2929 - accuracy: 0.9111 - val_loss: 0.2235 - val_accuracy: 0.9383\n",
      "Epoch 13/15\n",
      "1485/1485 [==============================] - 25s 17ms/step - loss: 0.2866 - accuracy: 0.9130 - val_loss: 0.2254 - val_accuracy: 0.9346\n",
      "Epoch 14/15\n",
      "1485/1485 [==============================] - 25s 17ms/step - loss: 0.2774 - accuracy: 0.9153 - val_loss: 0.2205 - val_accuracy: 0.9384\n",
      "Epoch 15/15\n",
      "1485/1485 [==============================] - 25s 17ms/step - loss: 0.2637 - accuracy: 0.9192 - val_loss: 0.2163 - val_accuracy: 0.9389\n",
      "Best epoch: 15, Val_accuracy: 0.9388973116874695\n",
      "Fold 7/10\n",
      "Epoch 1/15\n",
      "1485/1485 [==============================] - 27s 18ms/step - loss: 0.5493 - accuracy: 0.8425 - val_loss: 0.2837 - val_accuracy: 0.9255\n",
      "Epoch 2/15\n",
      "1485/1485 [==============================] - 26s 17ms/step - loss: 0.4973 - accuracy: 0.8563 - val_loss: 0.2713 - val_accuracy: 0.9292\n",
      "Epoch 3/15\n",
      "1485/1485 [==============================] - 26s 17ms/step - loss: 0.4639 - accuracy: 0.8667 - val_loss: 0.2645 - val_accuracy: 0.9274\n",
      "Epoch 4/15\n",
      "1485/1485 [==============================] - 26s 17ms/step - loss: 0.4378 - accuracy: 0.8728 - val_loss: 0.2593 - val_accuracy: 0.9304\n",
      "Epoch 5/15\n",
      "1485/1485 [==============================] - 26s 18ms/step - loss: 0.4122 - accuracy: 0.8797 - val_loss: 0.2516 - val_accuracy: 0.9310\n",
      "Epoch 6/15\n",
      "1485/1485 [==============================] - 26s 17ms/step - loss: 0.3913 - accuracy: 0.8852 - val_loss: 0.2424 - val_accuracy: 0.9322\n",
      "Epoch 7/15\n",
      "1485/1485 [==============================] - 26s 17ms/step - loss: 0.3720 - accuracy: 0.8919 - val_loss: 0.2347 - val_accuracy: 0.9356\n",
      "Epoch 8/15\n",
      "1485/1485 [==============================] - 26s 17ms/step - loss: 0.3536 - accuracy: 0.8954 - val_loss: 0.2295 - val_accuracy: 0.9365\n",
      "Epoch 9/15\n",
      "1485/1485 [==============================] - 25s 17ms/step - loss: 0.3330 - accuracy: 0.9000 - val_loss: 0.2234 - val_accuracy: 0.9364\n",
      "Epoch 10/15\n",
      "1485/1485 [==============================] - 25s 17ms/step - loss: 0.3231 - accuracy: 0.9029 - val_loss: 0.2285 - val_accuracy: 0.9363\n",
      "Epoch 11/15\n",
      "1485/1485 [==============================] - 25s 17ms/step - loss: 0.3074 - accuracy: 0.9069 - val_loss: 0.2158 - val_accuracy: 0.9380\n",
      "Epoch 12/15\n",
      "1485/1485 [==============================] - 26s 17ms/step - loss: 0.2984 - accuracy: 0.9091 - val_loss: 0.2142 - val_accuracy: 0.9411\n",
      "Epoch 13/15\n",
      "1485/1485 [==============================] - 26s 17ms/step - loss: 0.2847 - accuracy: 0.9140 - val_loss: 0.2053 - val_accuracy: 0.9422\n",
      "Epoch 14/15\n",
      "1485/1485 [==============================] - 26s 17ms/step - loss: 0.2723 - accuracy: 0.9169 - val_loss: 0.2048 - val_accuracy: 0.9434\n",
      "Epoch 15/15\n",
      "1485/1485 [==============================] - 26s 17ms/step - loss: 0.2680 - accuracy: 0.9179 - val_loss: 0.2044 - val_accuracy: 0.9431\n",
      "Best epoch: 14, Val_accuracy: 0.9434391260147095\n",
      "Fold 8/10\n",
      "Epoch 1/15\n",
      "1485/1485 [==============================] - 27s 18ms/step - loss: 0.5453 - accuracy: 0.8435 - val_loss: 0.2869 - val_accuracy: 0.9224\n",
      "Epoch 2/15\n",
      "1485/1485 [==============================] - 26s 18ms/step - loss: 0.5002 - accuracy: 0.8575 - val_loss: 0.2823 - val_accuracy: 0.9224\n",
      "Epoch 3/15\n",
      "1485/1485 [==============================] - 26s 18ms/step - loss: 0.4648 - accuracy: 0.8662 - val_loss: 0.2641 - val_accuracy: 0.9266\n",
      "Epoch 4/15\n",
      "1485/1485 [==============================] - 26s 18ms/step - loss: 0.4345 - accuracy: 0.8743 - val_loss: 0.2550 - val_accuracy: 0.9282\n",
      "Epoch 5/15\n",
      "1485/1485 [==============================] - 26s 18ms/step - loss: 0.4092 - accuracy: 0.8807 - val_loss: 0.2510 - val_accuracy: 0.9300\n",
      "Epoch 6/15\n",
      "1485/1485 [==============================] - 26s 17ms/step - loss: 0.3888 - accuracy: 0.8860 - val_loss: 0.2424 - val_accuracy: 0.9313\n",
      "Epoch 7/15\n",
      "1485/1485 [==============================] - 26s 18ms/step - loss: 0.3689 - accuracy: 0.8916 - val_loss: 0.2420 - val_accuracy: 0.9300\n",
      "Epoch 8/15\n",
      "1485/1485 [==============================] - 26s 18ms/step - loss: 0.3514 - accuracy: 0.8957 - val_loss: 0.2295 - val_accuracy: 0.9348\n",
      "Epoch 9/15\n",
      "1485/1485 [==============================] - 26s 17ms/step - loss: 0.3370 - accuracy: 0.8992 - val_loss: 0.2245 - val_accuracy: 0.9341\n",
      "Epoch 10/15\n",
      "1485/1485 [==============================] - 26s 18ms/step - loss: 0.3240 - accuracy: 0.9033 - val_loss: 0.2202 - val_accuracy: 0.9366\n",
      "Epoch 11/15\n",
      "1485/1485 [==============================] - 26s 18ms/step - loss: 0.3065 - accuracy: 0.9077 - val_loss: 0.2143 - val_accuracy: 0.9379\n",
      "Epoch 12/15\n",
      "1485/1485 [==============================] - 26s 18ms/step - loss: 0.2973 - accuracy: 0.9105 - val_loss: 0.2137 - val_accuracy: 0.9375\n",
      "Epoch 13/15\n",
      "1485/1485 [==============================] - 26s 18ms/step - loss: 0.2851 - accuracy: 0.9144 - val_loss: 0.2095 - val_accuracy: 0.9392\n",
      "Epoch 14/15\n",
      "1485/1485 [==============================] - 26s 18ms/step - loss: 0.2742 - accuracy: 0.9167 - val_loss: 0.2105 - val_accuracy: 0.9384\n",
      "Epoch 15/15\n",
      "1485/1485 [==============================] - 26s 18ms/step - loss: 0.2672 - accuracy: 0.9177 - val_loss: 0.2061 - val_accuracy: 0.9396\n",
      "Best epoch: 15, Val_accuracy: 0.9396494626998901\n",
      "Fold 9/10\n",
      "Epoch 1/15\n",
      "1485/1485 [==============================] - 27s 18ms/step - loss: 0.5441 - accuracy: 0.8450 - val_loss: 0.2931 - val_accuracy: 0.9213\n",
      "Epoch 2/15\n",
      "1485/1485 [==============================] - 26s 17ms/step - loss: 0.4970 - accuracy: 0.8577 - val_loss: 0.2756 - val_accuracy: 0.9288\n",
      "Epoch 3/15\n",
      "1485/1485 [==============================] - 26s 17ms/step - loss: 0.4607 - accuracy: 0.8659 - val_loss: 0.2683 - val_accuracy: 0.9287\n",
      "Epoch 4/15\n",
      "1485/1485 [==============================] - 26s 17ms/step - loss: 0.4335 - accuracy: 0.8743 - val_loss: 0.2556 - val_accuracy: 0.9293\n",
      "Epoch 5/15\n",
      "1485/1485 [==============================] - 26s 18ms/step - loss: 0.4083 - accuracy: 0.8813 - val_loss: 0.2525 - val_accuracy: 0.9310\n",
      "Epoch 6/15\n",
      "1485/1485 [==============================] - 26s 17ms/step - loss: 0.3908 - accuracy: 0.8861 - val_loss: 0.2435 - val_accuracy: 0.9338\n",
      "Epoch 7/15\n",
      "1485/1485 [==============================] - 26s 17ms/step - loss: 0.3688 - accuracy: 0.8910 - val_loss: 0.2345 - val_accuracy: 0.9355\n",
      "Epoch 8/15\n",
      "1485/1485 [==============================] - 25s 17ms/step - loss: 0.3501 - accuracy: 0.8962 - val_loss: 0.2377 - val_accuracy: 0.9359\n",
      "Epoch 9/15\n",
      "1485/1485 [==============================] - 26s 17ms/step - loss: 0.3354 - accuracy: 0.9007 - val_loss: 0.2304 - val_accuracy: 0.9378\n",
      "Epoch 10/15\n",
      "1485/1485 [==============================] - 26s 17ms/step - loss: 0.3228 - accuracy: 0.9020 - val_loss: 0.2278 - val_accuracy: 0.9359\n",
      "Epoch 11/15\n",
      "1485/1485 [==============================] - 26s 17ms/step - loss: 0.3104 - accuracy: 0.9067 - val_loss: 0.2245 - val_accuracy: 0.9377\n",
      "Epoch 12/15\n",
      "1485/1485 [==============================] - 26s 18ms/step - loss: 0.2922 - accuracy: 0.9117 - val_loss: 0.2184 - val_accuracy: 0.9406\n",
      "Epoch 13/15\n",
      "1485/1485 [==============================] - 26s 17ms/step - loss: 0.2879 - accuracy: 0.9131 - val_loss: 0.2135 - val_accuracy: 0.9412\n",
      "Epoch 14/15\n",
      "1485/1485 [==============================] - 26s 17ms/step - loss: 0.2764 - accuracy: 0.9155 - val_loss: 0.2098 - val_accuracy: 0.9414\n",
      "Epoch 15/15\n",
      "1485/1485 [==============================] - 26s 17ms/step - loss: 0.2664 - accuracy: 0.9179 - val_loss: 0.2142 - val_accuracy: 0.9402\n",
      "Best epoch: 14, Val_accuracy: 0.9414495229721069\n",
      "Fold 10/10\n",
      "Epoch 1/15\n",
      "1485/1485 [==============================] - 26s 18ms/step - loss: 0.5443 - accuracy: 0.8442 - val_loss: 0.2931 - val_accuracy: 0.9217\n",
      "Epoch 2/15\n",
      "1485/1485 [==============================] - 26s 18ms/step - loss: 0.4970 - accuracy: 0.8555 - val_loss: 0.2788 - val_accuracy: 0.9251\n",
      "Epoch 3/15\n",
      "1485/1485 [==============================] - 26s 17ms/step - loss: 0.4611 - accuracy: 0.8669 - val_loss: 0.2714 - val_accuracy: 0.9241\n",
      "Epoch 4/15\n",
      "1485/1485 [==============================] - 26s 17ms/step - loss: 0.4313 - accuracy: 0.8749 - val_loss: 0.2592 - val_accuracy: 0.9292\n",
      "Epoch 5/15\n",
      "1485/1485 [==============================] - 26s 17ms/step - loss: 0.4114 - accuracy: 0.8788 - val_loss: 0.2473 - val_accuracy: 0.9320\n",
      "Epoch 6/15\n",
      "1485/1485 [==============================] - 26s 17ms/step - loss: 0.3898 - accuracy: 0.8851 - val_loss: 0.2451 - val_accuracy: 0.9344\n",
      "Epoch 7/15\n",
      "1485/1485 [==============================] - 26s 17ms/step - loss: 0.3711 - accuracy: 0.8904 - val_loss: 0.2341 - val_accuracy: 0.9365\n",
      "Epoch 8/15\n",
      "1485/1485 [==============================] - 26s 17ms/step - loss: 0.3519 - accuracy: 0.8955 - val_loss: 0.2293 - val_accuracy: 0.9370\n",
      "Epoch 9/15\n",
      "1485/1485 [==============================] - 26s 17ms/step - loss: 0.3345 - accuracy: 0.8996 - val_loss: 0.2321 - val_accuracy: 0.9358\n",
      "Epoch 10/15\n",
      "1485/1485 [==============================] - 25s 17ms/step - loss: 0.3222 - accuracy: 0.9039 - val_loss: 0.2276 - val_accuracy: 0.9360\n",
      "Epoch 11/15\n",
      "1485/1485 [==============================] - 25s 17ms/step - loss: 0.3090 - accuracy: 0.9075 - val_loss: 0.2235 - val_accuracy: 0.9379\n",
      "Epoch 12/15\n",
      "1485/1485 [==============================] - 26s 17ms/step - loss: 0.2974 - accuracy: 0.9092 - val_loss: 0.2207 - val_accuracy: 0.9377\n",
      "Epoch 13/15\n",
      "1485/1485 [==============================] - 26s 17ms/step - loss: 0.2877 - accuracy: 0.9116 - val_loss: 0.2174 - val_accuracy: 0.9383\n",
      "Epoch 14/15\n",
      "1485/1485 [==============================] - 26s 18ms/step - loss: 0.2750 - accuracy: 0.9168 - val_loss: 0.2151 - val_accuracy: 0.9398\n",
      "Epoch 15/15\n",
      "1485/1485 [==============================] - 26s 17ms/step - loss: 0.2656 - accuracy: 0.9186 - val_loss: 0.2126 - val_accuracy: 0.9425\n",
      "Best epoch: 15, Val_accuracy: 0.9424917101860046\n"
     ]
    }
   ],
   "source": [
    "k = 10\n",
    "kfold = KFold(n_splits=k, shuffle=True, random_state=42)\n",
    "fold_history = []\n",
    "\n",
    "for i, (train_idxs, val_idxs) in enumerate(kfold.split(X_train, y_train_ohe)):\n",
    "    print(f\"Fold {i + 1}/{k}\")\n",
    "    \n",
    "    model = load_model('best_model.h5')\n",
    "    \n",
    "    history = model.fit(\n",
    "        X_train[train_idxs],\n",
    "        y_train_ohe[train_idxs],\n",
    "        validation_data=(X_train[val_idxs], y_train_ohe[val_idxs]),\n",
    "        epochs=15,\n",
    "        batch_size=64\n",
    "    )\n",
    "    val_acc_per_epoch = history.history['val_accuracy']\n",
    "    best_epoch = val_acc_per_epoch.index(max(val_acc_per_epoch)) + 1\n",
    "    print(f'Best epoch: {best_epoch}, Val_accuracy: {max(val_acc_per_epoch)}')\n",
    "    fold_history.append(history)"
   ]
  },
  {
   "cell_type": "code",
   "execution_count": 80,
   "metadata": {},
   "outputs": [
    {
     "name": "stdout",
     "output_type": "stream",
     "text": [
      "3299/3299 [==============================] - 8s 3ms/step\n",
      "825/825 [==============================] - 2s 3ms/step\n"
     ]
    }
   ],
   "source": [
    "full_model = load_model('best_model.h5')\n",
    "feature_model = Model(inputs=full_model.input, outputs=full_model.layers[-4].output)\n",
    "\n",
    "train_features = feature_model.predict(X_train)\n",
    "test_features = feature_model.predict(X_test)"
   ]
  },
  {
   "cell_type": "code",
   "execution_count": 81,
   "metadata": {},
   "outputs": [
    {
     "name": "stdout",
     "output_type": "stream",
     "text": [
      "(105556, 512)\n"
     ]
    }
   ],
   "source": [
    "print(train_features.shape)"
   ]
  },
  {
   "cell_type": "code",
   "execution_count": 96,
   "metadata": {},
   "outputs": [
    {
     "name": "stderr",
     "output_type": "stream",
     "text": [
      "[Parallel(n_jobs=-1)]: Using backend LokyBackend with 16 concurrent workers.\n"
     ]
    },
    {
     "name": "stdout",
     "output_type": "stream",
     "text": [
      "RUNNING THE L-BFGS-B CODE\n",
      "\n",
      "           * * *\n",
      "\n",
      "Machine precision = 2.220D-16\n",
      " N =        91314     M =           10\n",
      "\n",
      "At X0         0 variables are exactly at the bounds\n",
      "\n",
      "At iterate    0    f=  5.46968D+05    |proj g|=  2.36777D+02\n"
     ]
    },
    {
     "name": "stderr",
     "output_type": "stream",
     "text": [
      " This problem is unconstrained.\n"
     ]
    },
    {
     "name": "stdout",
     "output_type": "stream",
     "text": [
      "Epoch 16, change: 0.00339055\n",
      "\n",
      "At iterate   50    f=  1.74342D+04    |proj g|=  2.84179D+01\n",
      "Epoch 17, change: 0.00288231\n",
      "Epoch 18, change: 0.00235588\n",
      "\n",
      "At iterate  100    f=  1.57870D+04    |proj g|=  6.79064D+00\n",
      "Epoch 19, change: 0.00191401\n",
      "\n",
      "At iterate  150    f=  1.56817D+04    |proj g|=  1.17822D+00\n",
      "Epoch 20, change: 0.00169620\n",
      "\n",
      "At iterate  200    f=  1.56756D+04    |proj g|=  7.40855D-01\n",
      "Epoch 21, change: 0.00142414\n",
      "Epoch 22, change: 0.00113096\n",
      "\n",
      "At iterate  250    f=  1.56752D+04    |proj g|=  1.02447D-01\n",
      "Epoch 23, change: 0.00102098\n",
      "\n",
      "At iterate  300    f=  1.56751D+04    |proj g|=  1.76643D-02\n",
      "Epoch 24, change: 0.00092178\n",
      "\n",
      "           * * *\n",
      "\n",
      "Tit   = total number of iterations\n",
      "Tnf   = total number of function evaluations\n",
      "Tnint = total number of segments explored during Cauchy searches\n",
      "Skip  = number of BFGS updates skipped\n",
      "Nact  = number of active bounds at final generalized Cauchy point\n",
      "Projg = norm of the final projected gradient\n",
      "F     = final function value\n",
      "\n",
      "           * * *\n",
      "\n",
      "   N    Tit     Tnf  Tnint  Skip  Nact     Projg        F\n",
      "91314    329    343      1     0     0   1.028D-02   1.568D+04\n",
      "  F =   15675.138488141933     \n",
      "\n",
      "CONVERGENCE: REL_REDUCTION_OF_F_<=_FACTR*EPSMCH             \n"
     ]
    },
    {
     "data": {
      "text/html": [
       "<style>#sk-container-id-5 {color: black;}#sk-container-id-5 pre{padding: 0;}#sk-container-id-5 div.sk-toggleable {background-color: white;}#sk-container-id-5 label.sk-toggleable__label {cursor: pointer;display: block;width: 100%;margin-bottom: 0;padding: 0.3em;box-sizing: border-box;text-align: center;}#sk-container-id-5 label.sk-toggleable__label-arrow:before {content: \"▸\";float: left;margin-right: 0.25em;color: #696969;}#sk-container-id-5 label.sk-toggleable__label-arrow:hover:before {color: black;}#sk-container-id-5 div.sk-estimator:hover label.sk-toggleable__label-arrow:before {color: black;}#sk-container-id-5 div.sk-toggleable__content {max-height: 0;max-width: 0;overflow: hidden;text-align: left;background-color: #f0f8ff;}#sk-container-id-5 div.sk-toggleable__content pre {margin: 0.2em;color: black;border-radius: 0.25em;background-color: #f0f8ff;}#sk-container-id-5 input.sk-toggleable__control:checked~div.sk-toggleable__content {max-height: 200px;max-width: 100%;overflow: auto;}#sk-container-id-5 input.sk-toggleable__control:checked~label.sk-toggleable__label-arrow:before {content: \"▾\";}#sk-container-id-5 div.sk-estimator input.sk-toggleable__control:checked~label.sk-toggleable__label {background-color: #d4ebff;}#sk-container-id-5 div.sk-label input.sk-toggleable__control:checked~label.sk-toggleable__label {background-color: #d4ebff;}#sk-container-id-5 input.sk-hidden--visually {border: 0;clip: rect(1px 1px 1px 1px);clip: rect(1px, 1px, 1px, 1px);height: 1px;margin: -1px;overflow: hidden;padding: 0;position: absolute;width: 1px;}#sk-container-id-5 div.sk-estimator {font-family: monospace;background-color: #f0f8ff;border: 1px dotted black;border-radius: 0.25em;box-sizing: border-box;margin-bottom: 0.5em;}#sk-container-id-5 div.sk-estimator:hover {background-color: #d4ebff;}#sk-container-id-5 div.sk-parallel-item::after {content: \"\";width: 100%;border-bottom: 1px solid gray;flex-grow: 1;}#sk-container-id-5 div.sk-label:hover label.sk-toggleable__label {background-color: #d4ebff;}#sk-container-id-5 div.sk-serial::before {content: \"\";position: absolute;border-left: 1px solid gray;box-sizing: border-box;top: 0;bottom: 0;left: 50%;z-index: 0;}#sk-container-id-5 div.sk-serial {display: flex;flex-direction: column;align-items: center;background-color: white;padding-right: 0.2em;padding-left: 0.2em;position: relative;}#sk-container-id-5 div.sk-item {position: relative;z-index: 1;}#sk-container-id-5 div.sk-parallel {display: flex;align-items: stretch;justify-content: center;background-color: white;position: relative;}#sk-container-id-5 div.sk-item::before, #sk-container-id-5 div.sk-parallel-item::before {content: \"\";position: absolute;border-left: 1px solid gray;box-sizing: border-box;top: 0;bottom: 0;left: 50%;z-index: -1;}#sk-container-id-5 div.sk-parallel-item {display: flex;flex-direction: column;z-index: 1;position: relative;background-color: white;}#sk-container-id-5 div.sk-parallel-item:first-child::after {align-self: flex-end;width: 50%;}#sk-container-id-5 div.sk-parallel-item:last-child::after {align-self: flex-start;width: 50%;}#sk-container-id-5 div.sk-parallel-item:only-child::after {width: 0;}#sk-container-id-5 div.sk-dashed-wrapped {border: 1px dashed gray;margin: 0 0.4em 0.5em 0.4em;box-sizing: border-box;padding-bottom: 0.4em;background-color: white;}#sk-container-id-5 div.sk-label label {font-family: monospace;font-weight: bold;display: inline-block;line-height: 1.2em;}#sk-container-id-5 div.sk-label-container {text-align: center;}#sk-container-id-5 div.sk-container {/* jupyter's `normalize.less` sets `[hidden] { display: none; }` but bootstrap.min.css set `[hidden] { display: none !important; }` so we also need the `!important` here to be able to override the default hidden behavior on the sphinx rendered scikit-learn.org. See: https://github.com/scikit-learn/scikit-learn/issues/21755 */display: inline-block !important;position: relative;}#sk-container-id-5 div.sk-text-repr-fallback {display: none;}</style><div id=\"sk-container-id-5\" class=\"sk-top-container\"><div class=\"sk-text-repr-fallback\"><pre>LogisticRegression(C=10, class_weight=&#x27;balanced&#x27;, max_iter=1000, n_jobs=-1,\n",
       "                   random_state=42, verbose=1)</pre><b>In a Jupyter environment, please rerun this cell to show the HTML representation or trust the notebook. <br />On GitHub, the HTML representation is unable to render, please try loading this page with nbviewer.org.</b></div><div class=\"sk-container\" hidden><div class=\"sk-item\"><div class=\"sk-estimator sk-toggleable\"><input class=\"sk-toggleable__control sk-hidden--visually\" id=\"sk-estimator-id-5\" type=\"checkbox\" checked><label for=\"sk-estimator-id-5\" class=\"sk-toggleable__label sk-toggleable__label-arrow\">LogisticRegression</label><div class=\"sk-toggleable__content\"><pre>LogisticRegression(C=10, class_weight=&#x27;balanced&#x27;, max_iter=1000, n_jobs=-1,\n",
       "                   random_state=42, verbose=1)</pre></div></div></div></div></div>"
      ],
      "text/plain": [
       "LogisticRegression(C=10, class_weight='balanced', max_iter=1000, n_jobs=-1,\n",
       "                   random_state=42, verbose=1)"
      ]
     },
     "execution_count": 96,
     "metadata": {},
     "output_type": "execute_result"
    }
   ],
   "source": [
    "logistic_regressor = LogisticRegression(\n",
    "    solver='lbfgs',\n",
    "    C=10,\n",
    "    class_weight='balanced',\n",
    "    max_iter=1000,\n",
    "    verbose=1,\n",
    "    n_jobs=-1,\n",
    "    random_state=42)\n",
    "logistic_regressor.fit(train_features, y_train)"
   ]
  },
  {
   "cell_type": "code",
   "execution_count": 97,
   "metadata": {},
   "outputs": [],
   "source": [
    "log_predictions = logistic_regressor.predict(test_features)"
   ]
  },
  {
   "cell_type": "code",
   "execution_count": 98,
   "metadata": {},
   "outputs": [
    {
     "name": "stdout",
     "output_type": "stream",
     "text": [
      "              precision    recall  f1-score   support\n",
      "\n",
      "           一     0.9673    0.9933    0.9801       149\n",
      "           七     0.9139    0.9324    0.9231       148\n",
      "           三     0.9660    0.9595    0.9627       148\n",
      "           上     0.9726    0.9595    0.9660       148\n",
      "           下     0.9231    0.9664    0.9443       149\n",
      "           不     0.9524    0.9396    0.9459       149\n",
      "           东     0.8921    0.8322    0.8611       149\n",
      "           个     0.9660    0.9530    0.9595       149\n",
      "           中     0.8882    0.9122    0.9000       148\n",
      "           么     0.9286    0.9728    0.9502       147\n",
      "           九     0.9200    0.9262    0.9231       149\n",
      "           习     0.9342    0.9530    0.9435       149\n",
      "           书     0.9342    0.9595    0.9467       148\n",
      "           买     0.9116    0.9054    0.9085       148\n",
      "           了     0.9119    0.9797    0.9446       148\n",
      "           二     0.9423    0.9866    0.9639       149\n",
      "           五     0.9489    0.8784    0.9123       148\n",
      "           些     0.9600    0.9796    0.9697       147\n",
      "           京     0.9496    0.8859    0.9167       149\n",
      "           亮     0.9020    0.9324    0.9169       148\n",
      "           人     0.9172    0.9730    0.9443       148\n",
      "           什     0.9597    0.9662    0.9630       148\n",
      "           今     0.9000    0.9664    0.9320       149\n",
      "           他     0.9200    0.9324    0.9262       148\n",
      "           们     0.9276    0.9592    0.9431       147\n",
      "           会     0.9444    0.9189    0.9315       148\n",
      "           住     0.8954    0.9257    0.9103       148\n",
      "           作     0.9091    0.9396    0.9241       149\n",
      "           你     0.9178    0.9054    0.9116       148\n",
      "           候     0.9720    0.9392    0.9553       148\n",
      "           做     0.8889    0.9664    0.9260       149\n",
      "           儿     0.8176    0.8725    0.8442       149\n",
      "           先     0.8803    0.8389    0.8591       149\n",
      "           八     0.9286    0.9597    0.9439       149\n",
      "           六     0.9301    0.9110    0.9204       146\n",
      "           关     0.9329    0.9329    0.9329       149\n",
      "           兴     0.9388    0.9324    0.9356       148\n",
      "           再     0.8968    0.9329    0.9145       149\n",
      "           写     0.8986    0.8926    0.8956       149\n",
      "           冷     0.9241    0.9054    0.9147       148\n",
      "           几     0.8582    0.8176    0.8374       148\n",
      "           出     0.9205    0.9329    0.9267       149\n",
      "           分     0.9371    0.9054    0.9210       148\n",
      "           前     0.9474    0.9730    0.9600       148\n",
      "           北     0.9139    0.9262    0.9200       149\n",
      "           医     0.9530    0.9530    0.9530       149\n",
      "           十     0.9456    0.9392    0.9424       148\n",
      "           午     0.8782    0.9195    0.8984       149\n",
      "           去     0.9257    0.9257    0.9257       148\n",
      "           友     0.9384    0.9195    0.9288       149\n",
      "           叫     0.9404    0.9530    0.9467       149\n",
      "           吃     0.9481    0.9799    0.9637       149\n",
      "           同     0.9048    0.8986    0.9017       148\n",
      "           名     0.8217    0.8716    0.8459       148\n",
      "           后     0.9028    0.8784    0.8904       148\n",
      "           吗     0.9320    0.9257    0.9288       148\n",
      "           听     0.9444    0.9189    0.9315       148\n",
      "           呢     0.9517    0.9324    0.9420       148\n",
      "           和     0.9034    0.8851    0.8942       148\n",
      "           哪     0.9586    0.9392    0.9488       148\n",
      "           商     0.9137    0.8581    0.8850       148\n",
      "           喂     0.9595    0.9595    0.9595       148\n",
      "           喜     0.9861    0.9595    0.9726       148\n",
      "           喝     0.9221    0.9595    0.9404       148\n",
      "           四     0.9085    0.8776    0.8927       147\n",
      "           回     0.8571    0.8514    0.8542       148\n",
      "           国     0.9067    0.9189    0.9128       148\n",
      "           在     0.9252    0.9128    0.9189       149\n",
      "           坐     0.9205    0.9329    0.9267       149\n",
      "           块     0.9714    0.9189    0.9444       148\n",
      "           多     0.8526    0.8986    0.8750       148\n",
      "           大     0.8516    0.8859    0.8684       149\n",
      "           天     0.9257    0.9257    0.9257       148\n",
      "           太     0.8940    0.9122    0.9030       148\n",
      "           女     0.8581    0.8986    0.8779       148\n",
      "           她     0.9433    0.8986    0.9204       148\n",
      "           好     0.8944    0.8581    0.8759       148\n",
      "           妈     0.8766    0.9184    0.8970       147\n",
      "           姐     0.9236    0.8986    0.9110       148\n",
      "           子     0.9079    0.9324    0.9200       148\n",
      "           字     0.8684    0.8980    0.8829       147\n",
      "           学     0.8675    0.8792    0.8733       149\n",
      "           客     0.8993    0.9054    0.9024       148\n",
      "           家     0.9097    0.8851    0.8973       148\n",
      "           对     0.9281    0.9595    0.9435       148\n",
      "           小     0.9257    0.9257    0.9257       148\n",
      "           少     0.9281    0.9595    0.9435       148\n",
      "           岁     0.9530    0.9595    0.9562       148\n",
      "           工     0.9708    0.8986    0.9333       148\n",
      "           师     0.9722    0.9459    0.9589       148\n",
      "           年     0.8844    0.8725    0.8784       149\n",
      "           店     0.9286    0.9662    0.9470       148\n",
      "           开     0.9658    0.9463    0.9559       149\n",
      "           影     0.9857    0.9262    0.9550       149\n",
      "           很     0.9396    0.9396    0.9396       149\n",
      "           怎     0.9419    0.9799    0.9605       149\n",
      "           想     0.9306    0.8993    0.9147       149\n",
      "           我     0.9226    0.9597    0.9408       149\n",
      "           打     0.9404    0.9595    0.9498       148\n",
      "           日     0.8442    0.8784    0.8609       148\n",
      "           时     0.9079    0.9324    0.9200       148\n",
      "           明     0.8542    0.8311    0.8425       148\n",
      "           星     0.9214    0.8716    0.8958       148\n",
      "           昨     0.9448    0.9257    0.9352       148\n",
      "           是     0.8428    0.8993    0.8701       149\n",
      "           月     0.8766    0.9000    0.8882       150\n",
      "           有     0.9267    0.9329    0.9298       149\n",
      "           朋     0.8354    0.8919    0.8627       148\n",
      "           服     0.9452    0.9262    0.9356       149\n",
      "           期     0.9667    0.9797    0.9732       148\n",
      "           本     0.9161    0.8792    0.8973       149\n",
      "           机     0.9714    0.9189    0.9444       148\n",
      "           来     0.8693    0.8986    0.8837       148\n",
      "           杯     0.9586    0.9329    0.9456       149\n",
      "           果     0.9338    0.8581    0.8944       148\n",
      "           校     0.9231    0.8919    0.9072       148\n",
      "           样     0.9580    0.9514    0.9547       144\n",
      "           桌     0.9200    0.9324    0.9262       148\n",
      "           椅     0.9545    0.9866    0.9703       149\n",
      "           欢     0.8875    0.9595    0.9221       148\n",
      "           气     0.9441    0.9060    0.9247       149\n",
      "           水     0.9178    0.9054    0.9116       148\n",
      "           汉     0.9379    0.9189    0.9283       148\n",
      "           没     0.9333    0.8514    0.8905       148\n",
      "           漂     0.9097    0.9527    0.9307       148\n",
      "           火     0.9324    0.9324    0.9324       148\n",
      "           点     0.9262    0.9324    0.9293       148\n",
      "           热     0.9404    0.9595    0.9498       148\n",
      "           爱     0.9392    0.9329    0.9360       149\n",
      "           爸     0.9470    0.9662    0.9565       148\n",
      "           狗     0.9586    0.9329    0.9456       149\n",
      "           猫     0.9655    0.9459    0.9556       148\n",
      "           现     0.8514    0.8514    0.8514       148\n",
      "           生     0.8323    0.8716    0.8515       148\n",
      "           电     0.9306    0.9054    0.9178       148\n",
      "           的     0.8714    0.8188    0.8443       149\n",
      "           看     0.9145    0.9329    0.9236       149\n",
      "           睡     0.9645    0.9189    0.9412       148\n",
      "           租     0.9301    0.8986    0.9141       148\n",
      "           站     0.9660    0.9530    0.9595       149\n",
      "           米     0.8487    0.8658    0.8571       149\n",
      "           系     0.9007    0.9128    0.9067       149\n",
      "           老     0.9032    0.9524    0.9272       147\n",
      "           能     0.9718    0.9324    0.9517       148\n",
      "           脑     0.9388    0.9324    0.9356       148\n",
      "           苹     0.9085    0.9392    0.9236       148\n",
      "           茶     0.9272    0.9459    0.9365       148\n",
      "           菜     0.9034    0.8792    0.8912       149\n",
      "           衣     0.9329    0.9329    0.9329       149\n",
      "           西     0.9167    0.8919    0.9041       148\n",
      "           见     0.9048    0.8986    0.9017       148\n",
      "           视     0.9580    0.9257    0.9416       148\n",
      "           觉     0.9504    0.9054    0.9273       148\n",
      "           认     0.9416    0.9797    0.9603       148\n",
      "           识     0.8662    0.9189    0.8918       148\n",
      "           话     0.9236    0.8986    0.9110       148\n",
      "           语     0.9291    0.8792    0.9034       149\n",
      "           说     0.8954    0.9257    0.9103       148\n",
      "           请     0.9252    0.9189    0.9220       148\n",
      "           读     0.9452    0.9324    0.9388       148\n",
      "           谁     0.9853    0.9054    0.9437       148\n",
      "           谢     0.9793    0.9595    0.9693       148\n",
      "           起     0.9530    0.9595    0.9562       148\n",
      "           车     0.8881    0.8523    0.8699       149\n",
      "           这     0.9085    0.8716    0.8897       148\n",
      "           那     0.9459    0.9459    0.9459       148\n",
      "           都     0.9787    0.9324    0.9550       148\n",
      "           里     0.8452    0.8851    0.8647       148\n",
      "           钟     0.9355    0.9732    0.9539       149\n",
      "           钱     0.9708    0.8986    0.9333       148\n",
      "           院     0.9315    0.9128    0.9220       149\n",
      "           雨     0.9013    0.9195    0.9103       149\n",
      "           零     0.9724    0.9658    0.9691       146\n",
      "           面     0.9216    0.9527    0.9369       148\n",
      "           飞     1.0000    0.9797    0.9898       148\n",
      "           饭     0.9060    0.9122    0.9091       148\n",
      "           馆     0.9796    0.9664    0.9730       149\n",
      "           高     0.8776    0.8658    0.8716       149\n",
      "\n",
      "    accuracy                         0.9219     26390\n",
      "   macro avg     0.9226    0.9220    0.9219     26390\n",
      "weighted avg     0.9225    0.9219    0.9219     26390\n",
      "\n"
     ]
    },
    {
     "name": "stdout",
     "output_type": "stream",
     "text": [
      "Epoch 25, change: 0.00082059\n",
      "Epoch 26, change: 0.00079580\n",
      "Epoch 27, change: 0.00069928\n",
      "Epoch 28, change: 0.00062488\n",
      "Epoch 29, change: 0.00057560\n",
      "Epoch 30, change: 0.00052310\n",
      "Epoch 31, change: 0.00046391\n",
      "Epoch 32, change: 0.00038868\n",
      "Epoch 33, change: 0.00042841\n",
      "Epoch 34, change: 0.00031747\n",
      "Epoch 35, change: 0.00039718\n",
      "Epoch 36, change: 0.00026128\n",
      "Epoch 37, change: 0.00024218\n",
      "Epoch 38, change: 0.00027712\n",
      "Epoch 39, change: 0.00022358\n"
     ]
    }
   ],
   "source": [
    "report = classification_report(y_test, log_predictions, digits=4)\n",
    "print(report)"
   ]
  },
  {
   "cell_type": "code",
   "execution_count": 86,
   "metadata": {},
   "outputs": [
    {
     "name": "stdout",
     "output_type": "stream",
     "text": [
      "Best parameters: {'metric': 'euclidean', 'n_neighbors': 12, 'weights': 'distance'}\n",
      "Best score: 0.7445337072264959\n"
     ]
    }
   ],
   "source": [
    "param_grid = {\n",
    "    'n_neighbors': [12, 13, 14, 15],\n",
    "    'weights': ['uniform', 'distance'],\n",
    "    'metric': ['euclidean', 'manhattan']\n",
    "}\n",
    "\n",
    "knn = KNeighborsClassifier()\n",
    "\n",
    "grid_search = GridSearchCV(knn, param_grid, cv=2, scoring='accuracy')\n",
    "grid_search.fit(train_features, y_train_ohe)\n",
    "\n",
    "knn = grid_search.best_estimator_\n",
    "\n",
    "print(\"Best parameters:\", grid_search.best_params_)\n",
    "\n",
    "print(\"Best score:\", grid_search.best_score_)"
   ]
  },
  {
   "cell_type": "code",
   "execution_count": 88,
   "metadata": {},
   "outputs": [
    {
     "name": "stdout",
     "output_type": "stream",
     "text": [
      "k=2, 0.8381205001894657, 0.8387240538967996\n",
      "k=3, 0.8566123531640774, 0.8571649917387293\n",
      "k=4, 0.8629784009094353, 0.8637039430644583\n",
      "k=5, 0.8650625236832133, 0.8660843958678067\n",
      "k=6, 0.8676392572944297, 0.868776534310295\n",
      "k=7, 0.8676013641530883, 0.8688886930342263\n",
      "k=8, 0.8683592269799166, 0.8697706986868178\n",
      "k=9, 0.8678287230011368, 0.8692751101932903\n",
      "k=10, 0.8674118984463812, 0.8691277203368415\n",
      "k=11, 0.8670329670329671, 0.8688663766995725\n",
      "k=12, 0.8676392572944297, 0.8696946890274262\n",
      "k=13, 0.8661614247821144, 0.8682940756903367\n",
      "k=14, 0.8669571807502842, 0.8692623831649409\n",
      "k=15, 0.8663129973474801, 0.8687254537606021\n",
      "k=16, 0.8654414550966275, 0.8679883199311986\n",
      "k=17, 0.864304660856385, 0.8669645335413411\n",
      "k=18, 0.8627889352027283, 0.8654820769398032\n",
      "k=19, 0.8634710117468738, 0.8662422366975451\n",
      "k=20, 0.8627131489200455, 0.8655019913357126\n",
      "k=21, 0.861576354679803, 0.8644720318361776\n",
      "k=22, 0.8608942781356574, 0.8637980957092172\n",
      "k=23, 0.859681697612732, 0.8626917605422004\n",
      "k=24, 0.859037514209928, 0.8621132910901279\n",
      "k=25, 0.8588480485032209, 0.862016226794976\n",
      "k=26, 0.8582038651004168, 0.8614235993292043\n",
      "k=27, 0.8579765062523683, 0.861343870287222\n",
      "k=28, 0.858128078817734, 0.8614835248554489\n",
      "k=29, 0.8578249336870026, 0.8612860203016094\n",
      "k=30, 0.857673361121637, 0.8611385526544878\n",
      "k=31, 0.8571049640015157, 0.8606474632602631\n",
      "k=32, 0.8558923834785904, 0.859579208149145\n",
      "k=33, 0.855134520651762, 0.8589579802858559\n",
      "k=34, 0.8548313755210307, 0.8586788721549861\n",
      "k=35, 0.8536945812807881, 0.8576274445586207\n",
      "k=36, 0.8522546419098144, 0.8562270260686679\n",
      "k=37, 0.8518378173550587, 0.8557956912855085\n",
      "k=38, 0.8514967790829859, 0.8555785004333211\n",
      "k=39, 0.851951496779083, 0.8560514686946699\n",
      "k=40, 0.8514967790829859, 0.8556957696841884\n",
      "k=41, 0.8503599848427434, 0.8546037163778928\n",
      "k=42, 0.8500189465706707, 0.85425941397389\n",
      "k=43, 0.8494505494505494, 0.8536994721549537\n",
      "k=44, 0.848503220917014, 0.8528626994840043\n",
      "k=45, 0.8480106100795756, 0.8523780279019829\n",
      "k=46, 0.8474422129594543, 0.8518523563807192\n",
      "k=47, 0.8467601364153088, 0.8512787395510742\n",
      "k=48, 0.8471011746873816, 0.8515946408398193\n",
      "k=49, 0.8464190981432361, 0.8510100514989073\n"
     ]
    }
   ],
   "source": [
    "f1s = []\n",
    "accuracys = []\n",
    "\n",
    "for i in range(2, 50, 1):\n",
    "    # Create an instance of the KNN classifier\n",
    "    knn = KNeighborsClassifier(n_neighbors=i, metric=\"euclidean\", weights='distance', n_jobs=-1)\n",
    "\n",
    "    # Fit the classifier to the training data\n",
    "    knn.fit(train_features, y_train)\n",
    "    \n",
    "    # Predict the labels for the test data\n",
    "    knn_predictions = knn.predict(test_features)\n",
    "    \n",
    "    # Calculate the accuracy score\n",
    "    accuracys.append(accuracy_score(y_test, knn_predictions))\n",
    "\n",
    "    # Calculate the f1 score\n",
    "    f1s.append(f1_score(y_test, knn_predictions, average='weighted'))\n",
    "    \n",
    "    print(f\"k={i}, {accuracys[-1]}, {f1s[-1]}\")"
   ]
  },
  {
   "cell_type": "code",
   "execution_count": 102,
   "metadata": {},
   "outputs": [
    {
     "data": {
      "image/png": "[encoded data removed]",
      "text/plain": [
       "<Figure size 1000x400 with 2 Axes>"
      ]
     },
     "metadata": {},
     "output_type": "display_data"
    },
    {
     "name": "stdout",
     "output_type": "stream",
     "text": [
      "Epoch 64, change: 0.00024360\n",
      "Epoch 65, change: 0.00025953\n",
      "Epoch 66, change: 0.00027764\n",
      "Epoch 67, change: 0.00019721\n",
      "Epoch 68, change: 0.00023430\n",
      "Epoch 69, change: 0.00021120\n",
      "Epoch 70, change: 0.00022481\n",
      "Epoch 71, change: 0.00023970\n",
      "Epoch 72, change: 0.00022080\n",
      "Epoch 73, change: 0.00036248\n",
      "Epoch 74, change: 0.00020446\n",
      "Epoch 75, change: 0.00021769\n",
      "Epoch 76, change: 0.00022600\n",
      "Epoch 77, change: 0.00021044\n",
      "Epoch 78, change: 0.00039564\n",
      "Epoch 79, change: 0.00020218\n",
      "Epoch 80, change: 0.00022560\n",
      "Epoch 81, change: 0.00020658\n",
      "Epoch 82, change: 0.00020849\n",
      "Epoch 83, change: 0.00028184\n",
      "Epoch 84, change: 0.00021702\n",
      "Epoch 85, change: 0.00040486\n",
      "Epoch 86, change: 0.00037277\n",
      "Epoch 87, change: 0.00021757\n",
      "Epoch 88, change: 0.00018557\n",
      "Epoch 89, change: 0.00034494\n",
      "Epoch 90, change: 0.00020341\n",
      "Epoch 91, change: 0.00022183\n",
      "Epoch 92, change: 0.00020445\n",
      "Epoch 93, change: 0.00022097\n"
     ]
    }
   ],
   "source": [
    "STEP = 3\n",
    "k_values = range(2, 50, STEP)\n",
    "fig, (ax1, ax2) = plt.subplots(1, 2, figsize=(10, 4))\n",
    "\n",
    "ax1.plot(k_values, f1s[::STEP])\n",
    "ax1.set_xlabel('k')\n",
    "ax1.set_ylabel('F1 Score')\n",
    "\n",
    "ax2.plot(k_values, accuracys[::STEP])\n",
    "ax2.set_xlabel('k')\n",
    "ax2.set_ylabel('Accuracy')\n",
    "\n",
    "plt.tight_layout()\n",
    "plt.show()\n"
   ]
  },
  {
   "cell_type": "code",
   "execution_count": 14,
   "metadata": {},
   "outputs": [
    {
     "name": "stderr",
     "output_type": "stream",
     "text": [
      "[Parallel(n_jobs=-1)]: Using backend ThreadingBackend with 16 concurrent workers.\n",
      "[Parallel(n_jobs=-1)]: Done  18 tasks      | elapsed:   16.0s\n",
      "[Parallel(n_jobs=-1)]: Done 100 out of 100 | elapsed:   54.8s finished\n"
     ]
    },
    {
     "data": {
      "text/html": [
       "<style>#sk-container-id-3 {color: black;}#sk-container-id-3 pre{padding: 0;}#sk-container-id-3 div.sk-toggleable {background-color: white;}#sk-container-id-3 label.sk-toggleable__label {cursor: pointer;display: block;width: 100%;margin-bottom: 0;padding: 0.3em;box-sizing: border-box;text-align: center;}#sk-container-id-3 label.sk-toggleable__label-arrow:before {content: \"▸\";float: left;margin-right: 0.25em;color: #696969;}#sk-container-id-3 label.sk-toggleable__label-arrow:hover:before {color: black;}#sk-container-id-3 div.sk-estimator:hover label.sk-toggleable__label-arrow:before {color: black;}#sk-container-id-3 div.sk-toggleable__content {max-height: 0;max-width: 0;overflow: hidden;text-align: left;background-color: #f0f8ff;}#sk-container-id-3 div.sk-toggleable__content pre {margin: 0.2em;color: black;border-radius: 0.25em;background-color: #f0f8ff;}#sk-container-id-3 input.sk-toggleable__control:checked~div.sk-toggleable__content {max-height: 200px;max-width: 100%;overflow: auto;}#sk-container-id-3 input.sk-toggleable__control:checked~label.sk-toggleable__label-arrow:before {content: \"▾\";}#sk-container-id-3 div.sk-estimator input.sk-toggleable__control:checked~label.sk-toggleable__label {background-color: #d4ebff;}#sk-container-id-3 div.sk-label input.sk-toggleable__control:checked~label.sk-toggleable__label {background-color: #d4ebff;}#sk-container-id-3 input.sk-hidden--visually {border: 0;clip: rect(1px 1px 1px 1px);clip: rect(1px, 1px, 1px, 1px);height: 1px;margin: -1px;overflow: hidden;padding: 0;position: absolute;width: 1px;}#sk-container-id-3 div.sk-estimator {font-family: monospace;background-color: #f0f8ff;border: 1px dotted black;border-radius: 0.25em;box-sizing: border-box;margin-bottom: 0.5em;}#sk-container-id-3 div.sk-estimator:hover {background-color: #d4ebff;}#sk-container-id-3 div.sk-parallel-item::after {content: \"\";width: 100%;border-bottom: 1px solid gray;flex-grow: 1;}#sk-container-id-3 div.sk-label:hover label.sk-toggleable__label {background-color: #d4ebff;}#sk-container-id-3 div.sk-serial::before {content: \"\";position: absolute;border-left: 1px solid gray;box-sizing: border-box;top: 0;bottom: 0;left: 50%;z-index: 0;}#sk-container-id-3 div.sk-serial {display: flex;flex-direction: column;align-items: center;background-color: white;padding-right: 0.2em;padding-left: 0.2em;position: relative;}#sk-container-id-3 div.sk-item {position: relative;z-index: 1;}#sk-container-id-3 div.sk-parallel {display: flex;align-items: stretch;justify-content: center;background-color: white;position: relative;}#sk-container-id-3 div.sk-item::before, #sk-container-id-3 div.sk-parallel-item::before {content: \"\";position: absolute;border-left: 1px solid gray;box-sizing: border-box;top: 0;bottom: 0;left: 50%;z-index: -1;}#sk-container-id-3 div.sk-parallel-item {display: flex;flex-direction: column;z-index: 1;position: relative;background-color: white;}#sk-container-id-3 div.sk-parallel-item:first-child::after {align-self: flex-end;width: 50%;}#sk-container-id-3 div.sk-parallel-item:last-child::after {align-self: flex-start;width: 50%;}#sk-container-id-3 div.sk-parallel-item:only-child::after {width: 0;}#sk-container-id-3 div.sk-dashed-wrapped {border: 1px dashed gray;margin: 0 0.4em 0.5em 0.4em;box-sizing: border-box;padding-bottom: 0.4em;background-color: white;}#sk-container-id-3 div.sk-label label {font-family: monospace;font-weight: bold;display: inline-block;line-height: 1.2em;}#sk-container-id-3 div.sk-label-container {text-align: center;}#sk-container-id-3 div.sk-container {/* jupyter's `normalize.less` sets `[hidden] { display: none; }` but bootstrap.min.css set `[hidden] { display: none !important; }` so we also need the `!important` here to be able to override the default hidden behavior on the sphinx rendered scikit-learn.org. See: https://github.com/scikit-learn/scikit-learn/issues/21755 */display: inline-block !important;position: relative;}#sk-container-id-3 div.sk-text-repr-fallback {display: none;}</style><div id=\"sk-container-id-3\" class=\"sk-top-container\"><div class=\"sk-text-repr-fallback\"><pre>RandomForestClassifier(n_jobs=-1, random_state=42, verbose=1)</pre><b>In a Jupyter environment, please rerun this cell to show the HTML representation or trust the notebook. <br />On GitHub, the HTML representation is unable to render, please try loading this page with nbviewer.org.</b></div><div class=\"sk-container\" hidden><div class=\"sk-item\"><div class=\"sk-estimator sk-toggleable\"><input class=\"sk-toggleable__control sk-hidden--visually\" id=\"sk-estimator-id-5\" type=\"checkbox\" checked><label for=\"sk-estimator-id-5\" class=\"sk-toggleable__label sk-toggleable__label-arrow\">RandomForestClassifier</label><div class=\"sk-toggleable__content\"><pre>RandomForestClassifier(n_jobs=-1, random_state=42, verbose=1)</pre></div></div></div></div></div>"
      ],
      "text/plain": [
       "RandomForestClassifier(n_jobs=-1, random_state=42, verbose=1)"
      ]
     },
     "execution_count": 14,
     "metadata": {},
     "output_type": "execute_result"
    }
   ],
   "source": [
    "from sklearn.ensemble import RandomForestClassifier\n",
    "rf = RandomForestClassifier(n_estimators=100, random_state=42, verbose=1, n_jobs=-1)\n",
    "rf.fit(train_features, y_train)"
   ]
  },
  {
   "cell_type": "code",
   "execution_count": 15,
   "metadata": {},
   "outputs": [
    {
     "name": "stderr",
     "output_type": "stream",
     "text": [
      "[Parallel(n_jobs=16)]: Using backend ThreadingBackend with 16 concurrent workers.\n",
      "[Parallel(n_jobs=16)]: Done  18 tasks      | elapsed:    0.4s\n"
     ]
    },
    {
     "name": "stdout",
     "output_type": "stream",
     "text": [
      "Random Forest Accuracy: 0.8707086017430845\n"
     ]
    },
    {
     "name": "stderr",
     "output_type": "stream",
     "text": [
      "[Parallel(n_jobs=16)]: Done 100 out of 100 | elapsed:    1.5s finished\n"
     ]
    }
   ],
   "source": [
    "rf_score = rf.score(test_features, y_test)\n",
    "print(f\"Random Forest Accuracy: {rf_score}\")"
   ]
  },
  {
   "cell_type": "code",
   "execution_count": 8,
   "metadata": {},
   "outputs": [
    {
     "name": "stdout",
     "output_type": "stream",
     "text": [
      "Fitting 2 folds for each of 18 candidates, totalling 36 fits\n"
     ]
    },
    {
     "data": {
      "text/html": [
       "<style>#sk-container-id-1 {color: black;}#sk-container-id-1 pre{padding: 0;}#sk-container-id-1 div.sk-toggleable {background-color: white;}#sk-container-id-1 label.sk-toggleable__label {cursor: pointer;display: block;width: 100%;margin-bottom: 0;padding: 0.3em;box-sizing: border-box;text-align: center;}#sk-container-id-1 label.sk-toggleable__label-arrow:before {content: \"▸\";float: left;margin-right: 0.25em;color: #696969;}#sk-container-id-1 label.sk-toggleable__label-arrow:hover:before {color: black;}#sk-container-id-1 div.sk-estimator:hover label.sk-toggleable__label-arrow:before {color: black;}#sk-container-id-1 div.sk-toggleable__content {max-height: 0;max-width: 0;overflow: hidden;text-align: left;background-color: #f0f8ff;}#sk-container-id-1 div.sk-toggleable__content pre {margin: 0.2em;color: black;border-radius: 0.25em;background-color: #f0f8ff;}#sk-container-id-1 input.sk-toggleable__control:checked~div.sk-toggleable__content {max-height: 200px;max-width: 100%;overflow: auto;}#sk-container-id-1 input.sk-toggleable__control:checked~label.sk-toggleable__label-arrow:before {content: \"▾\";}#sk-container-id-1 div.sk-estimator input.sk-toggleable__control:checked~label.sk-toggleable__label {background-color: #d4ebff;}#sk-container-id-1 div.sk-label input.sk-toggleable__control:checked~label.sk-toggleable__label {background-color: #d4ebff;}#sk-container-id-1 input.sk-hidden--visually {border: 0;clip: rect(1px 1px 1px 1px);clip: rect(1px, 1px, 1px, 1px);height: 1px;margin: -1px;overflow: hidden;padding: 0;position: absolute;width: 1px;}#sk-container-id-1 div.sk-estimator {font-family: monospace;background-color: #f0f8ff;border: 1px dotted black;border-radius: 0.25em;box-sizing: border-box;margin-bottom: 0.5em;}#sk-container-id-1 div.sk-estimator:hover {background-color: #d4ebff;}#sk-container-id-1 div.sk-parallel-item::after {content: \"\";width: 100%;border-bottom: 1px solid gray;flex-grow: 1;}#sk-container-id-1 div.sk-label:hover label.sk-toggleable__label {background-color: #d4ebff;}#sk-container-id-1 div.sk-serial::before {content: \"\";position: absolute;border-left: 1px solid gray;box-sizing: border-box;top: 0;bottom: 0;left: 50%;z-index: 0;}#sk-container-id-1 div.sk-serial {display: flex;flex-direction: column;align-items: center;background-color: white;padding-right: 0.2em;padding-left: 0.2em;position: relative;}#sk-container-id-1 div.sk-item {position: relative;z-index: 1;}#sk-container-id-1 div.sk-parallel {display: flex;align-items: stretch;justify-content: center;background-color: white;position: relative;}#sk-container-id-1 div.sk-item::before, #sk-container-id-1 div.sk-parallel-item::before {content: \"\";position: absolute;border-left: 1px solid gray;box-sizing: border-box;top: 0;bottom: 0;left: 50%;z-index: -1;}#sk-container-id-1 div.sk-parallel-item {display: flex;flex-direction: column;z-index: 1;position: relative;background-color: white;}#sk-container-id-1 div.sk-parallel-item:first-child::after {align-self: flex-end;width: 50%;}#sk-container-id-1 div.sk-parallel-item:last-child::after {align-self: flex-start;width: 50%;}#sk-container-id-1 div.sk-parallel-item:only-child::after {width: 0;}#sk-container-id-1 div.sk-dashed-wrapped {border: 1px dashed gray;margin: 0 0.4em 0.5em 0.4em;box-sizing: border-box;padding-bottom: 0.4em;background-color: white;}#sk-container-id-1 div.sk-label label {font-family: monospace;font-weight: bold;display: inline-block;line-height: 1.2em;}#sk-container-id-1 div.sk-label-container {text-align: center;}#sk-container-id-1 div.sk-container {/* jupyter's `normalize.less` sets `[hidden] { display: none; }` but bootstrap.min.css set `[hidden] { display: none !important; }` so we also need the `!important` here to be able to override the default hidden behavior on the sphinx rendered scikit-learn.org. See: https://github.com/scikit-learn/scikit-learn/issues/21755 */display: inline-block !important;position: relative;}#sk-container-id-1 div.sk-text-repr-fallback {display: none;}</style><div id=\"sk-container-id-1\" class=\"sk-top-container\"><div class=\"sk-text-repr-fallback\"><pre>GridSearchCV(cv=2, estimator=SVC(),\n",
       "             param_grid={&#x27;C&#x27;: [0.1, 1, 10], &#x27;gamma&#x27;: [&#x27;scale&#x27;, &#x27;auto&#x27;],\n",
       "                         &#x27;kernel&#x27;: [&#x27;linear&#x27;, &#x27;rbf&#x27;, &#x27;poly&#x27;]},\n",
       "             verbose=1)</pre><b>In a Jupyter environment, please rerun this cell to show the HTML representation or trust the notebook. <br />On GitHub, the HTML representation is unable to render, please try loading this page with nbviewer.org.</b></div><div class=\"sk-container\" hidden><div class=\"sk-item sk-dashed-wrapped\"><div class=\"sk-label-container\"><div class=\"sk-label sk-toggleable\"><input class=\"sk-toggleable__control sk-hidden--visually\" id=\"sk-estimator-id-1\" type=\"checkbox\" ><label for=\"sk-estimator-id-1\" class=\"sk-toggleable__label sk-toggleable__label-arrow\">GridSearchCV</label><div class=\"sk-toggleable__content\"><pre>GridSearchCV(cv=2, estimator=SVC(),\n",
       "             param_grid={&#x27;C&#x27;: [0.1, 1, 10], &#x27;gamma&#x27;: [&#x27;scale&#x27;, &#x27;auto&#x27;],\n",
       "                         &#x27;kernel&#x27;: [&#x27;linear&#x27;, &#x27;rbf&#x27;, &#x27;poly&#x27;]},\n",
       "             verbose=1)</pre></div></div></div><div class=\"sk-parallel\"><div class=\"sk-parallel-item\"><div class=\"sk-item\"><div class=\"sk-label-container\"><div class=\"sk-label sk-toggleable\"><input class=\"sk-toggleable__control sk-hidden--visually\" id=\"sk-estimator-id-2\" type=\"checkbox\" ><label for=\"sk-estimator-id-2\" class=\"sk-toggleable__label sk-toggleable__label-arrow\">estimator: SVC</label><div class=\"sk-toggleable__content\"><pre>SVC()</pre></div></div></div><div class=\"sk-serial\"><div class=\"sk-item\"><div class=\"sk-estimator sk-toggleable\"><input class=\"sk-toggleable__control sk-hidden--visually\" id=\"sk-estimator-id-3\" type=\"checkbox\" ><label for=\"sk-estimator-id-3\" class=\"sk-toggleable__label sk-toggleable__label-arrow\">SVC</label><div class=\"sk-toggleable__content\"><pre>SVC()</pre></div></div></div></div></div></div></div></div></div></div>"
      ],
      "text/plain": [
       "GridSearchCV(cv=2, estimator=SVC(),\n",
       "             param_grid={'C': [0.1, 1, 10], 'gamma': ['scale', 'auto'],\n",
       "                         'kernel': ['linear', 'rbf', 'poly']},\n",
       "             verbose=1)"
      ]
     },
     "execution_count": 8,
     "metadata": {},
     "output_type": "execute_result"
    }
   ],
   "source": [
    "from sklearn.svm import SVC\n",
    "from sklearn.model_selection import GridSearchCV\n",
    "# Define the parameter grid for grid search\n",
    "param_grid = {\n",
    "    'C': [0.1, 1, 10],\n",
    "    'kernel': ['linear', 'rbf', 'poly'],\n",
    "    'gamma': ['scale', 'auto']\n",
    "}\n",
    "\n",
    "# Create an instance of the SVM classifier\n",
    "svm_classifier = SVC()\n",
    "\n",
    "# Create an instance of GridSearchCV\n",
    "grid_search = GridSearchCV(svm_classifier, param_grid, cv=2, verbose=1)\n",
    "\n",
    "# Fit the classifier to the training data using grid search\n",
    "grid_search.fit(train_features, y_train)"
   ]
  },
  {
   "cell_type": "code",
   "execution_count": 9,
   "metadata": {},
   "outputs": [
    {
     "name": "stdout",
     "output_type": "stream",
     "text": [
      "Best Parameters: {'C': 10, 'gamma': 'scale', 'kernel': 'rbf'}\n",
      "Best Score: 0.9421918223502217\n"
     ]
    }
   ],
   "source": [
    "# Print the best parameters and best score\n",
    "print(\"Best Parameters:\", grid_search.best_params_)\n",
    "print(\"Best Score:\", grid_search.best_score_)"
   ]
  },
  {
   "cell_type": "code",
   "execution_count": 56,
   "metadata": {},
   "outputs": [],
   "source": [
    "from sklearn.svm import SVC\n",
    "svm_classifier = SVC(C=10, gamma='scale', kernel='rbf')\n",
    "svm_classifier.fit(train_features, y_train)\n",
    "# Predict the labels for the test data using the best estimator\n",
    "svm_predictions = svm_classifier.predict(test_features)"
   ]
  },
  {
   "cell_type": "code",
   "execution_count": null,
   "metadata": {},
   "outputs": [
    {
     "name": "stdout",
     "output_type": "stream",
     "text": [
      "Accuracy: 0.951951496779083\n",
      "F1 Score: 0.9520046665214275\n"
     ]
    }
   ],
   "source": [
    "# Calculate the accuracy score\n",
    "accuracy = accuracy_score(y_test, svm_predictions)\n",
    "\n",
    "# Calculate the f1 score\n",
    "f1 = f1_score(y_test, svm_predictions, average='weighted')\n",
    "\n",
    "# Print the accuracy and f1 score report\n",
    "print(f\"Accuracy: {accuracy}\")\n",
    "print(f\"F1 Score: {f1}\")"
   ]
  }
 ],
 "metadata": {
  "kernelspec": {
   "display_name": "Python 3",
   "language": "python",
   "name": "python3"
  },
  "language_info": {
   "codemirror_mode": {
    "name": "ipython",
    "version": 3
   },
   "file_extension": ".py",
   "mimetype": "text/x-python",
   "name": "python",
   "nbconvert_exporter": "python",
   "pygments_lexer": "ipython3",
   "version": "3.10.12"
  }
 },
 "nbformat": 4,
 "nbformat_minor": 2
}
