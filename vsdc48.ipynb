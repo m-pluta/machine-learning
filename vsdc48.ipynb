{
 "cells": [
  {
   "cell_type": "markdown",
   "metadata": {},
   "source": [
    "# Project setup"
   ]
  },
  {
   "cell_type": "markdown",
   "metadata": {},
   "source": [
    "Import necessary libraries"
   ]
  },
  {
   "cell_type": "code",
   "execution_count": 1,
   "metadata": {},
   "outputs": [
    {
     "name": "stderr",
     "output_type": "stream",
     "text": [
      "/home/miikey_lol/.local/lib/python3.10/site-packages/matplotlib/projections/__init__.py:63: UserWarning: Unable to import Axes3D. This may be due to multiple versions of Matplotlib being installed (e.g. as a system package and as a pip package). As a result, the 3D projection is not available.\n",
      "  warnings.warn(\"Unable to import Axes3D. This may be due to multiple versions of \"\n",
      "2024-01-22 05:05:40.204538: E external/local_xla/xla/stream_executor/cuda/cuda_dnn.cc:9261] Unable to register cuDNN factory: Attempting to register factory for plugin cuDNN when one has already been registered\n",
      "2024-01-22 05:05:40.204581: E external/local_xla/xla/stream_executor/cuda/cuda_fft.cc:607] Unable to register cuFFT factory: Attempting to register factory for plugin cuFFT when one has already been registered\n",
      "2024-01-22 05:05:40.205252: E external/local_xla/xla/stream_executor/cuda/cuda_blas.cc:1515] Unable to register cuBLAS factory: Attempting to register factory for plugin cuBLAS when one has already been registered\n",
      "2024-01-22 05:05:40.209046: I tensorflow/core/platform/cpu_feature_guard.cc:182] This TensorFlow binary is optimized to use available CPU instructions in performance-critical operations.\n",
      "To enable the following instructions: AVX2 FMA, in other operations, rebuild TensorFlow with the appropriate compiler flags.\n",
      "2024-01-22 05:05:40.807844: W tensorflow/compiler/tf2tensorrt/utils/py_utils.cc:38] TF-TRT Warning: Could not find TensorRT\n"
     ]
    }
   ],
   "source": [
    "# System\n",
    "import os\n",
    "import shutil\n",
    "import glob\n",
    "\n",
    "# Image handling\n",
    "from PIL import Image, ImageOps\n",
    "\n",
    "# Numerical\n",
    "import numpy as np\n",
    "import pandas as pd\n",
    "import random\n",
    "\n",
    "# Plotting\n",
    "import matplotlib.pyplot as plt\n",
    "import seaborn as sns\n",
    "\n",
    "# CNN\n",
    "from keras.utils import to_categorical, set_random_seed\n",
    "from keras.models import Sequential, load_model, Model\n",
    "from keras.layers import Input, Conv2D, MaxPooling2D, Flatten, Dense, BatchNormalization, Dropout\n",
    "from keras.optimizers import Adam\n",
    "from keras.callbacks import EarlyStopping\n",
    "\n",
    "# Tuning\n",
    "import keras_tuner as kt\n",
    "\n",
    "# Machine Learning\n",
    "from sklearn.calibration import LabelEncoder\n",
    "from sklearn.model_selection import train_test_split, KFold, GridSearchCV\n",
    "from sklearn.linear_model import LogisticRegression\n",
    "from sklearn.neighbors import KNeighborsClassifier\n",
    "from sklearn.metrics import classification_report, accuracy_score, f1_score"
   ]
  },
  {
   "cell_type": "code",
   "execution_count": 2,
   "metadata": {},
   "outputs": [],
   "source": [
    "SEED = 42\n",
    "random.seed(SEED)\n",
    "set_random_seed(SEED)\n",
    "np.random.seed(SEED)"
   ]
  },
  {
   "cell_type": "markdown",
   "metadata": {},
   "source": [
    "First we establish the directory to where our data is stored, and where we ultimately want to store our cleaned, preprocessed data."
   ]
  },
  {
   "cell_type": "code",
   "execution_count": 111,
   "metadata": {},
   "outputs": [],
   "source": [
    "INIT_DIR = 'chinese-handwriting-recognition-hsk-1/chinese-handwriting/'\n",
    "\n",
    "INIT_TRAIN_DIR = os.path.join(INIT_DIR, 'CASIA-HWDB_Train/Train/')\n",
    "INIT_TEST_DIR = os.path.join(INIT_DIR, 'CASIA-HWDB_Test/Test/')\n",
    "\n",
    "DIR = 'data/'\n",
    "PLOT_DIR = 'report/img/'"
   ]
  },
  {
   "cell_type": "markdown",
   "metadata": {},
   "source": [
    "# Data investigation"
   ]
  },
  {
   "cell_type": "markdown",
   "metadata": {},
   "source": [
    "First lets have a look at how many data classes we have in the dataset. The dataset has been split into test and train already so lets check how many classes we have in each."
   ]
  },
  {
   "cell_type": "code",
   "execution_count": 4,
   "metadata": {},
   "outputs": [
    {
     "name": "stdout",
     "output_type": "stream",
     "text": [
      "The same classes are in each folder\n"
     ]
    }
   ],
   "source": [
    "image_classes = os.listdir(INIT_TRAIN_DIR)\n",
    "\n",
    "if image_classes == os.listdir(INIT_TEST_DIR):\n",
    "    print('The same classes are in each folder')\n",
    "else:\n",
    "    print('The two folders contain different classes')"
   ]
  },
  {
   "cell_type": "code",
   "execution_count": 5,
   "metadata": {},
   "outputs": [],
   "source": [
    "# # image_classes = ['零', '一', '二']\n",
    "# # image_classes = ['零', '一', '二', '三', '四', '五', '六', '七', '八', '九', '十']\n",
    "# # image_classes = image_classes_train[:20]\n",
    "# image_classes = random.sample(image_classes, 50)\n",
    "# # image_classes = image_classes_train"
   ]
  },
  {
   "cell_type": "markdown",
   "metadata": {},
   "source": [
    "Next, lets combine the the train and test data into one directory for simplicity.\n",
    "\n",
    "We start by creating a new directory for our preprocessed data."
   ]
  },
  {
   "cell_type": "code",
   "execution_count": 6,
   "metadata": {},
   "outputs": [],
   "source": [
    "# Remove old data\n",
    "if os.path.exists(DIR):\n",
    "    shutil.rmtree(DIR)\n",
    "    \n",
    "#Create the new directory\n",
    "os.mkdir(DIR)\n",
    "for image_class in image_classes:\n",
    "    path = os.path.join(DIR, image_class)\n",
    "    os.makedirs(path)"
   ]
  },
  {
   "cell_type": "markdown",
   "metadata": {},
   "source": [
    "Now let's combine the train and test data into one directory. This is specified by the `DIR` variable."
   ]
  },
  {
   "cell_type": "code",
   "execution_count": 7,
   "metadata": {},
   "outputs": [],
   "source": [
    "def combineDirectories():\n",
    "    for image_class in image_classes:\n",
    "        images = []\n",
    "\n",
    "        # Fetch images from train dir\n",
    "        train_path = os.path.join(INIT_TRAIN_DIR, image_class)\n",
    "        images += [os.path.join(train_path, file) for file in os.listdir(train_path)]\n",
    "\n",
    "        # Fetch images from test dir\n",
    "        test_path = os.path.join(INIT_TEST_DIR, image_class)\n",
    "        images += [os.path.join(test_path, file) for file in os.listdir(test_path)]\n",
    "\n",
    "        # Iterate over the splits and images and copy them to the data directory\n",
    "        for i, image in enumerate(images):\n",
    "            new_filename = f\"{i+1}.png\"\n",
    "            destination_path = os.path.join(DIR, image_class, new_filename)\n",
    "            shutil.copy(image, destination_path)\n",
    "            \n",
    "combineDirectories()"
   ]
  },
  {
   "cell_type": "markdown",
   "metadata": {},
   "source": [
    "# Data Pre-processing"
   ]
  },
  {
   "cell_type": "markdown",
   "metadata": {},
   "source": [
    "First lets iterate through all the images and and confirm they are all `.png` and black & white "
   ]
  },
  {
   "cell_type": "code",
   "execution_count": 8,
   "metadata": {},
   "outputs": [],
   "source": [
    "def checkGrayscale():\n",
    "    # Loop through each subdirectory and file in the directory\n",
    "    for subdir, dirs, images in os.walk(DIR):\n",
    "        for image in images:\n",
    "            if image.lower().endswith('.png'):\n",
    "                file_path = os.path.join(subdir, image)\n",
    "\n",
    "                with Image.open(file_path) as img:\n",
    "                    if img.mode != 'L':\n",
    "                        print(f\"{file_path} is not grayscale.\")\n",
    "            else:\n",
    "                print(\"Not a png file: \")\n",
    "checkGrayscale()"
   ]
  },
  {
   "cell_type": "markdown",
   "metadata": {},
   "source": [
    "Next let's iterate through all the images and check if any have an aspect ratio that is not 1:1."
   ]
  },
  {
   "cell_type": "code",
   "execution_count": 9,
   "metadata": {},
   "outputs": [],
   "source": [
    "def checkAspectRatios():\n",
    "    image_sizes = []\n",
    "\n",
    "    # Iterate through all the images and check if any do not have a 1:1 aspect ratio\n",
    "    for subdir, dirs, images in os.walk(DIR):\n",
    "        for image in images:\n",
    "            file_path = os.path.join(subdir, image)\n",
    "            with Image.open(file_path) as img:\n",
    "                image_sizes.append(img.size[0])\n",
    "\n",
    "                if img.size[0] != img.size[1]:\n",
    "                    print(file_path, img.size)\n",
    "                    \n",
    "    return image_sizes\n",
    "                    \n",
    "image_sizes = checkAspectRatios()"
   ]
  },
  {
   "cell_type": "markdown",
   "metadata": {},
   "source": [
    "Since all the images are square, this makes it easier to investigate their image sizes."
   ]
  },
  {
   "cell_type": "code",
   "execution_count": 212,
   "metadata": {},
   "outputs": [
    {
     "name": "stdout",
     "output_type": "stream",
     "text": [
      "Smallest dimension: 3\n"
     ]
    },
    {
     "data": {
      "image/png": "[encoded data removed]",
      "text/plain": [
       "<Figure size 500x500 with 1 Axes>"
      ]
     },
     "metadata": {},
     "output_type": "display_data"
    }
   ],
   "source": [
    "print(f\"Smallest dimension: {min(image_sizes)}\")\n",
    "\n",
    "# Plotting\n",
    "sns.displot(image_sizes)\n",
    "plt.xlabel('Dimension')\n",
    "plt.ylabel('Frequency')\n",
    "plt.tight_layout()\n",
    "plt.savefig(f\"{PLOT_DIR}image_dimension_distribution.png\", dpi=2000)\n",
    "plt.show()"
   ]
  },
  {
   "cell_type": "markdown",
   "metadata": {},
   "source": [
    "As you can see from the graph, the images are not all the same size. This will cause issues when we try to train the model, so we need to resize all the images to the same size. Additionally one of the images is only 3x3 which is way too small to be useful, so we will enforce a minimum image size."
   ]
  },
  {
   "cell_type": "code",
   "execution_count": 11,
   "metadata": {},
   "outputs": [],
   "source": [
    "MIN_IMAGE_SIZE = 20\n",
    "IMAGE_SIZE = 48\n",
    "\n",
    "def resizeImages():\n",
    "    # Iterate through all the images and resize to a fixed size\n",
    "    for subdir, dirs, images in os.walk(DIR):\n",
    "        for image in images:\n",
    "            file_path = os.path.join(subdir, image)\n",
    "            with Image.open(file_path) as img:\n",
    "                current_size = img.size[0]\n",
    "                if current_size < MIN_IMAGE_SIZE:\n",
    "                    os.remove(file_path)\n",
    "                    continue\n",
    "                \n",
    "                if current_size != IMAGE_SIZE:\n",
    "                    img = img.resize((IMAGE_SIZE, IMAGE_SIZE), Image.Resampling.LANCZOS)\n",
    "                \n",
    "                img = ImageOps.invert(img)\n",
    "                img.save(file_path)\n",
    "                \n",
    "resizeImages()"
   ]
  },
  {
   "cell_type": "markdown",
   "metadata": {},
   "source": [
    "Now lets check how many images we have in each class and see how balanced the classes are."
   ]
  },
  {
   "cell_type": "code",
   "execution_count": 210,
   "metadata": {},
   "outputs": [
    {
     "data": {
      "image/png": "[encoded data removed]",
      "text/plain": [
       "<Figure size 500x500 with 1 Axes>"
      ]
     },
     "metadata": {},
     "output_type": "display_data"
    },
    {
     "name": "stdout",
     "output_type": "stream",
     "text": [
      "            Count\n",
      "count  178.000000\n",
      "mean   741.269663\n",
      "std      3.031898\n",
      "min    721.000000\n",
      "5%     737.000000\n",
      "25%    740.000000\n",
      "50%    741.000000\n",
      "75%    743.000000\n",
      "95%    746.000000\n",
      "max    748.000000\n"
     ]
    },
    {
     "data": {
      "text/plain": [
       "<Figure size 640x480 with 0 Axes>"
      ]
     },
     "metadata": {},
     "output_type": "display_data"
    }
   ],
   "source": [
    "def get_class_counts():\n",
    "    class_counts = {}\n",
    "    \n",
    "    for subdir in glob.glob(os.path.join(DIR, '*')):\n",
    "        file_count = len(glob.glob(os.path.join(subdir, '*')))\n",
    "        class_counts[subdir.split('/')[-1]] = file_count\n",
    "\n",
    "    return pd.DataFrame.from_dict(class_counts, orient='index', columns=['Count'])\n",
    "\n",
    "df_class_counts = get_class_counts() \n",
    "\n",
    "sns.displot(list(df_class_counts['Count']))\n",
    "plt.xlabel('Samples per class')\n",
    "plt.ylabel('Class count')\n",
    "plt.tight_layout()\n",
    "plt.show()\n",
    "\n",
    "print(df_class_counts.describe([0.05, 0.25, 0.75, 0.95]))\n",
    "plt.savefig(f\"{PLOT_DIR}class_imbalance.svg\")"
   ]
  },
  {
   "cell_type": "markdown",
   "metadata": {},
   "source": [
    "From this we can see that the classes are fairly balanced, let's quickly have a look at the slight imbalance in the classes.\n",
    "We can arbitrarily choose a balance metric such as outside the range of 2 standard deviations from the mean."
   ]
  },
  {
   "cell_type": "code",
   "execution_count": 13,
   "metadata": {},
   "outputs": [
    {
     "name": "stdout",
     "output_type": "stream",
     "text": [
      "   Count\n",
      "月    748\n",
      "零    732\n",
      "四    734\n",
      "样    721\n",
      "老    734\n",
      "六    733\n"
     ]
    }
   ],
   "source": [
    "df_class_counts = get_class_counts() \n",
    "\n",
    "mean = df_class_counts['Count'].mean()\n",
    "std = df_class_counts['Count'].std()\n",
    "threshold = 2 * std\n",
    "\n",
    "outlier_counts = df_class_counts[np.abs(df_class_counts['Count'] - mean) > threshold]\n",
    "print(outlier_counts)"
   ]
  },
  {
   "cell_type": "markdown",
   "metadata": {},
   "source": [
    "As we can see, the imbalance is minimal. Because of this, we will not be using any class balancing techniques."
   ]
  },
  {
   "cell_type": "markdown",
   "metadata": {},
   "source": [
    "Let's have a look some examples of the images in the dataset."
   ]
  },
  {
   "cell_type": "code",
   "execution_count": 208,
   "metadata": {},
   "outputs": [
    {
     "data": {
      "image/png": "[encoded data removed]",
      "text/plain": [
       "<Figure size 800x800 with 4 Axes>"
      ]
     },
     "metadata": {},
     "output_type": "display_data"
    }
   ],
   "source": [
    "# Get list of all .png images in the directory and its subdirectories\n",
    "images = glob.glob(os.path.join(DIR, '**', '*.png'), recursive=True)\n",
    "\n",
    "# Randomly select num_images images\n",
    "random_images = random.sample(images, 4)\n",
    "\n",
    "fig, axs = plt.subplots(2, 2, figsize=(8, 8))\n",
    "\n",
    "# Set the font for the plot\n",
    "import matplotlib.font_manager as fm\n",
    "font_path = 'NotoSansCJKsc-Regular.otf'\n",
    "prop = fm.FontProperties(fname=font_path)\n",
    "\n",
    "for i in range(2):\n",
    "    for j in range(2):\n",
    "        img_path = random_images[2 * i + j]\n",
    "        img = Image.open(img_path)\n",
    "        axs[i][j].imshow(img)\n",
    "        axs[i][j].set_title(f\"Character: {img_path.split('/')[1]}\", fontproperties=prop,fontsize = 12)"
   ]
  },
  {
   "cell_type": "code",
   "execution_count": 209,
   "metadata": {},
   "outputs": [
    {
     "data": {
      "text/plain": [
       "<Figure size 640x480 with 0 Axes>"
      ]
     },
     "metadata": {},
     "output_type": "display_data"
    }
   ],
   "source": [
    "plt.savefig(f\"{PLOT_DIR}example_images.png\", dpi=2000)"
   ]
  },
  {
   "cell_type": "markdown",
   "metadata": {},
   "source": [
    "# NumPy Array Conversion\n",
    "\n",
    "Now we can convert all the images into one single numpy array with the corresponding labels for each image."
   ]
  },
  {
   "cell_type": "code",
   "execution_count": 15,
   "metadata": {},
   "outputs": [],
   "source": [
    "def get_numpy_data(classes):\n",
    "    images = []\n",
    "    labels = []\n",
    "    for image_class in classes:\n",
    "        path = os.path.join(DIR, image_class)\n",
    "        for image in os.listdir(path):\n",
    "            image_path = os.path.join(path, image)\n",
    "\n",
    "            img = Image.open(image_path)\n",
    "            img_array = np.array(img)\n",
    "\n",
    "            images.append(img_array)\n",
    "            labels.append(image_class)\n",
    "            \n",
    "    return np.array(images), np.array(labels)"
   ]
  },
  {
   "cell_type": "markdown",
   "metadata": {},
   "source": [
    "Now we can convert the python lists into numpy arrays."
   ]
  },
  {
   "cell_type": "code",
   "execution_count": 16,
   "metadata": {},
   "outputs": [],
   "source": [
    "# random_image_classes = random.sample(image_classes, 50)\n",
    "\n",
    "images, labels = get_numpy_data(image_classes)"
   ]
  },
  {
   "cell_type": "markdown",
   "metadata": {},
   "source": [
    "And finally we can save the numpy arrays to the root directory."
   ]
  },
  {
   "cell_type": "code",
   "execution_count": 17,
   "metadata": {},
   "outputs": [],
   "source": [
    "np.save('images.npy', images)\n",
    "np.save('labels.npy', labels)"
   ]
  },
  {
   "cell_type": "markdown",
   "metadata": {},
   "source": [
    "## Split the samples into train and test sets and one-hot encode the labels"
   ]
  },
  {
   "cell_type": "code",
   "execution_count": 18,
   "metadata": {},
   "outputs": [],
   "source": [
    "images = np.load('images.npy').astype(\"float32\") / 255\n",
    "labels = np.load('labels.npy')\n",
    "\n",
    "X_train, X_test, y_train, y_test = train_test_split(images, labels, test_size=0.2, random_state=SEED, stratify=labels)\n",
    "\n",
    "encoder = LabelEncoder().fit(np.concatenate((y_train, y_test)))\n",
    "\n",
    "def encode_labels(encoder: LabelEncoder, labels):\n",
    "    integer_labels = encoder.transform(labels)\n",
    "    ohe_labels = to_categorical(integer_labels)\n",
    "    return integer_labels, ohe_labels\n",
    "\n",
    "y_train_int, y_train_ohe = encode_labels(encoder, y_train)\n",
    "y_test_int, y_test_ohe = encode_labels(encoder, y_test)\n",
    "\n",
    "NUM_CLASSES = y_train_ohe.shape[1]"
   ]
  },
  {
   "cell_type": "markdown",
   "metadata": {},
   "source": [
    "## General information about input tensors"
   ]
  },
  {
   "cell_type": "code",
   "execution_count": 19,
   "metadata": {},
   "outputs": [
    {
     "name": "stdout",
     "output_type": "stream",
     "text": [
      "(105556, 48, 48)\n",
      "(26390, 48, 48)\n",
      "(105556,)\n",
      "(26390,)\n",
      "(105556, 178)\n",
      "(26390, 178)\n",
      "(105556,)\n",
      "(26390,)\n"
     ]
    }
   ],
   "source": [
    "print(X_train.shape)\n",
    "print(X_test.shape)\n",
    "\n",
    "print(y_train_int.shape)\n",
    "print(y_test_int.shape)\n",
    "\n",
    "print(y_train_ohe.shape)\n",
    "print(y_test_ohe.shape)\n",
    "\n",
    "print(y_train.shape)\n",
    "print(y_test.shape)"
   ]
  },
  {
   "cell_type": "markdown",
   "metadata": {},
   "source": [
    "# Define the model"
   ]
  },
  {
   "cell_type": "code",
   "execution_count": 20,
   "metadata": {},
   "outputs": [],
   "source": [
    "def getCNNModel(hp):\n",
    "    model = Sequential([\n",
    "        Input(shape=(IMAGE_SIZE, IMAGE_SIZE, 1)),\n",
    "        \n",
    "        Conv2D(hp.Int('conv_1_filters', min_value=8, max_value=32, step=8), kernel_size=3, activation='relu'),\n",
    "        BatchNormalization(),\n",
    "        MaxPooling2D(2, 2),\n",
    "        Dropout(hp.Float('dropout_1', min_value=0.0, max_value=0.5, step=0.1)),\n",
    "        \n",
    "        Conv2D(hp.Int('conv_2_filters', min_value=16, max_value=64, step=16), kernel_size=3, activation='relu'),\n",
    "        BatchNormalization(),\n",
    "        MaxPooling2D(2, 2),\n",
    "        Dropout(hp.Float('dropout_2', min_value=0.0, max_value=0.5, step=0.1)),\n",
    "        \n",
    "        Conv2D(hp.Int('conv_3_filters', min_value=32, max_value=128, step=32), kernel_size=2, activation='relu'),\n",
    "        MaxPooling2D(2, 2),\n",
    "        Dropout(hp.Float('dropout_3', min_value=0.0, max_value=0.5, step=0.1)),\n",
    "        \n",
    "        Flatten(),\n",
    "        Dense(units=hp.Int('dense_units', min_value=128, max_value=1024, step=128), activation='relu'),\n",
    "        Dropout(hp.Float('dropout_4', min_value=0.0, max_value=0.7, step=0.1)),\n",
    "        Dense(units=NUM_CLASSES, activation='softmax')\n",
    "    ])\n",
    "\n",
    "    # Compile the model\n",
    "    model.compile(\n",
    "        optimizer=Adam(\n",
    "            hp.Choice('learning_rate', values=[1e-2, 5e-3, 1e-3, 5e-4, 1e-4])),\n",
    "        loss='categorical_crossentropy',\n",
    "        metrics=['accuracy'])\n",
    "\n",
    "    return model"
   ]
  },
  {
   "cell_type": "markdown",
   "metadata": {},
   "source": [
    "# Define the hyperparameter tuner"
   ]
  },
  {
   "cell_type": "code",
   "execution_count": 21,
   "metadata": {},
   "outputs": [
    {
     "name": "stdout",
     "output_type": "stream",
     "text": [
      "Reloading Tuner from hyperband/cnn_tuning20/tuner0.json\n"
     ]
    }
   ],
   "source": [
    "# from keras.callbacks import LearningRateScheduler\n",
    "from keras.callbacks import ModelCheckpoint\n",
    "\n",
    "tuner = kt.Hyperband(\n",
    "    getCNNModel,\n",
    "    objective='val_accuracy',\n",
    "    max_epochs=15,\n",
    "    directory='hyperband',\n",
    "    project_name='cnn_tuning20')\n",
    "\n",
    "# annealer = LearningRateScheduler(\n",
    "#     lambda x: 1e-3 * 0.99 ** (2 * x))\n",
    "stop_early = EarlyStopping(\n",
    "    monitor='loss',\n",
    "    patience=5)\n",
    "checkpoint = ModelCheckpoint(\n",
    "    'best_model.h5',\n",
    "    monitor='val_accuracy',\n",
    "    verbose=0,\n",
    "    save_best_only=True)\n",
    "\n",
    "tuner.search(\n",
    "    X_train, y_train_ohe,\n",
    "    validation_split=0.2,\n",
    "    callbacks=[stop_early, checkpoint],\n",
    "    epochs=30, batch_size=128)"
   ]
  },
  {
   "cell_type": "markdown",
   "metadata": {},
   "source": [
    "## Output the optimal hyperparameters"
   ]
  },
  {
   "cell_type": "code",
   "execution_count": 22,
   "metadata": {},
   "outputs": [
    {
     "name": "stdout",
     "output_type": "stream",
     "text": [
      "Best hyperparameters: {'conv_1_filters': 16, 'dropout_1': 0.1, 'conv_2_filters': 32, 'dropout_2': 0.0, 'dropout_3': 0.2, 'dense_units': 640, 'dropout_4': 0.30000000000000004, 'learning_rate': 0.001, 'tuner/epochs': 15, 'tuner/initial_epoch': 5, 'tuner/bracket': 1, 'tuner/round': 1, 'tuner/trial_id': '0021'}\n"
     ]
    }
   ],
   "source": [
    "best_hps = tuner.get_best_hyperparameters(num_trials=1)[0]\n",
    "print(f\"Best hyperparameters: {best_hps.values}\")"
   ]
  },
  {
   "cell_type": "markdown",
   "metadata": {},
   "source": [
    "## Cross validate the optimal hyperparameters"
   ]
  },
  {
   "cell_type": "code",
   "execution_count": 219,
   "metadata": {},
   "outputs": [
    {
     "name": "stdout",
     "output_type": "stream",
     "text": [
      "Fold 1/10\n",
      "Epoch 1/15\n",
      "1485/1485 [==============================] - 29s 19ms/step - loss: 1.6386 - accuracy: 0.5935 - val_loss: 0.5098 - val_accuracy: 0.8540\n",
      "Epoch 2/15\n",
      "1485/1485 [==============================] - 28s 19ms/step - loss: 0.6617 - accuracy: 0.8123 - val_loss: 0.3926 - val_accuracy: 0.8846\n",
      "Epoch 3/15\n",
      "1485/1485 [==============================] - 27s 18ms/step - loss: 0.5157 - accuracy: 0.8493 - val_loss: 0.3286 - val_accuracy: 0.9038\n",
      "Epoch 4/15\n",
      "1485/1485 [==============================] - 27s 19ms/step - loss: 0.4391 - accuracy: 0.8699 - val_loss: 0.3133 - val_accuracy: 0.9077\n",
      "Epoch 5/15\n",
      "1485/1485 [==============================] - 28s 19ms/step - loss: 0.3883 - accuracy: 0.8838 - val_loss: 0.2703 - val_accuracy: 0.9225\n",
      "Epoch 6/15\n",
      "1485/1485 [==============================] - 28s 19ms/step - loss: 0.3524 - accuracy: 0.8934 - val_loss: 0.2680 - val_accuracy: 0.9233\n",
      "Epoch 7/15\n",
      "1485/1485 [==============================] - 27s 18ms/step - loss: 0.3281 - accuracy: 0.9011 - val_loss: 0.2812 - val_accuracy: 0.9202\n",
      "Epoch 8/15\n",
      "1485/1485 [==============================] - 27s 18ms/step - loss: 0.3020 - accuracy: 0.9074 - val_loss: 0.2430 - val_accuracy: 0.9308\n",
      "Epoch 9/15\n",
      "1485/1485 [==============================] - 27s 18ms/step - loss: 0.2817 - accuracy: 0.9130 - val_loss: 0.2593 - val_accuracy: 0.9265\n",
      "Epoch 10/15\n",
      "1485/1485 [==============================] - 27s 18ms/step - loss: 0.2661 - accuracy: 0.9170 - val_loss: 0.2482 - val_accuracy: 0.9304\n",
      "Epoch 11/15\n",
      "1485/1485 [==============================] - 28s 19ms/step - loss: 0.2492 - accuracy: 0.9224 - val_loss: 0.2341 - val_accuracy: 0.9314\n",
      "Epoch 12/15\n",
      "1485/1485 [==============================] - 28s 19ms/step - loss: 0.2358 - accuracy: 0.9265 - val_loss: 0.2244 - val_accuracy: 0.9352\n",
      "Epoch 13/15\n",
      "1485/1485 [==============================] - 28s 19ms/step - loss: 0.2282 - accuracy: 0.9276 - val_loss: 0.2267 - val_accuracy: 0.9344\n",
      "Epoch 14/15\n",
      "1485/1485 [==============================] - 27s 18ms/step - loss: 0.2159 - accuracy: 0.9319 - val_loss: 0.2353 - val_accuracy: 0.9340\n",
      "Epoch 15/15\n",
      "1485/1485 [==============================] - 27s 18ms/step - loss: 0.2055 - accuracy: 0.9342 - val_loss: 0.2231 - val_accuracy: 0.9362\n",
      "Best epoch: 15, Val_accuracy: 0.936244785785675\n",
      "Fold 2/10\n",
      "Epoch 1/15\n",
      "1485/1485 [==============================] - 28s 19ms/step - loss: 1.7045 - accuracy: 0.5798 - val_loss: 0.5164 - val_accuracy: 0.8565\n",
      "Epoch 2/15\n",
      "1485/1485 [==============================] - 27s 18ms/step - loss: 0.6679 - accuracy: 0.8106 - val_loss: 0.4697 - val_accuracy: 0.8695\n",
      "Epoch 3/15\n",
      "1485/1485 [==============================] - 27s 18ms/step - loss: 0.5326 - accuracy: 0.8441 - val_loss: 0.3186 - val_accuracy: 0.9125\n",
      "Epoch 4/15\n",
      "1485/1485 [==============================] - 27s 18ms/step - loss: 0.4567 - accuracy: 0.8660 - val_loss: 0.3126 - val_accuracy: 0.9117\n",
      "Epoch 5/15\n",
      "1485/1485 [==============================] - 28s 19ms/step - loss: 0.4036 - accuracy: 0.8791 - val_loss: 0.2879 - val_accuracy: 0.9201\n",
      "Epoch 6/15\n",
      "1485/1485 [==============================] - 28s 19ms/step - loss: 0.3667 - accuracy: 0.8887 - val_loss: 0.2663 - val_accuracy: 0.9280\n",
      "Epoch 7/15\n",
      "1485/1485 [==============================] - 28s 19ms/step - loss: 0.3381 - accuracy: 0.8964 - val_loss: 0.3799 - val_accuracy: 0.8955\n",
      "Epoch 8/15\n",
      "1485/1485 [==============================] - 27s 18ms/step - loss: 0.3131 - accuracy: 0.9047 - val_loss: 0.2677 - val_accuracy: 0.9271\n",
      "Epoch 9/15\n",
      "1485/1485 [==============================] - 27s 18ms/step - loss: 0.2935 - accuracy: 0.9093 - val_loss: 0.2682 - val_accuracy: 0.9287\n",
      "Epoch 10/15\n",
      "1485/1485 [==============================] - 27s 18ms/step - loss: 0.2750 - accuracy: 0.9143 - val_loss: 0.2673 - val_accuracy: 0.9256\n",
      "Epoch 11/15\n",
      "1485/1485 [==============================] - 27s 18ms/step - loss: 0.2609 - accuracy: 0.9181 - val_loss: 0.2508 - val_accuracy: 0.9311\n",
      "Epoch 12/15\n",
      "1485/1485 [==============================] - 27s 18ms/step - loss: 0.2445 - accuracy: 0.9231 - val_loss: 0.2295 - val_accuracy: 0.9376\n",
      "Epoch 13/15\n",
      "1485/1485 [==============================] - 27s 18ms/step - loss: 0.2367 - accuracy: 0.9249 - val_loss: 0.2321 - val_accuracy: 0.9380\n",
      "Epoch 14/15\n",
      "1485/1485 [==============================] - 27s 18ms/step - loss: 0.2205 - accuracy: 0.9300 - val_loss: 0.2285 - val_accuracy: 0.9394\n",
      "Epoch 15/15\n",
      "1485/1485 [==============================] - 27s 18ms/step - loss: 0.2164 - accuracy: 0.9318 - val_loss: 0.2302 - val_accuracy: 0.9380\n",
      "Best epoch: 14, Val_accuracy: 0.9393709897994995\n",
      "Fold 3/10\n",
      "Epoch 1/15\n",
      "1485/1485 [==============================] - 29s 19ms/step - loss: 1.6400 - accuracy: 0.5950 - val_loss: 0.4774 - val_accuracy: 0.8655\n",
      "Epoch 2/15\n",
      "1485/1485 [==============================] - 27s 18ms/step - loss: 0.6568 - accuracy: 0.8123 - val_loss: 0.3646 - val_accuracy: 0.8953\n",
      "Epoch 3/15\n",
      "1485/1485 [==============================] - 27s 18ms/step - loss: 0.5185 - accuracy: 0.8482 - val_loss: 0.3197 - val_accuracy: 0.9075\n",
      "Epoch 4/15\n",
      "1485/1485 [==============================] - 27s 18ms/step - loss: 0.4470 - accuracy: 0.8682 - val_loss: 0.2929 - val_accuracy: 0.9162\n",
      "Epoch 5/15\n",
      "1485/1485 [==============================] - 27s 18ms/step - loss: 0.4001 - accuracy: 0.8810 - val_loss: 0.2646 - val_accuracy: 0.9209\n",
      "Epoch 6/15\n",
      "1485/1485 [==============================] - 27s 18ms/step - loss: 0.3630 - accuracy: 0.8901 - val_loss: 0.2336 - val_accuracy: 0.9298\n",
      "Epoch 7/15\n",
      "1485/1485 [==============================] - 27s 18ms/step - loss: 0.3304 - accuracy: 0.8996 - val_loss: 0.2603 - val_accuracy: 0.9253\n",
      "Epoch 8/15\n",
      "1485/1485 [==============================] - 27s 18ms/step - loss: 0.3142 - accuracy: 0.9026 - val_loss: 0.2572 - val_accuracy: 0.9233\n",
      "Epoch 9/15\n",
      "1485/1485 [==============================] - 27s 18ms/step - loss: 0.2918 - accuracy: 0.9096 - val_loss: 0.2310 - val_accuracy: 0.9323\n",
      "Epoch 10/15\n",
      "1485/1485 [==============================] - 27s 18ms/step - loss: 0.2733 - accuracy: 0.9160 - val_loss: 0.2612 - val_accuracy: 0.9283\n",
      "Epoch 11/15\n",
      "1485/1485 [==============================] - 27s 18ms/step - loss: 0.2657 - accuracy: 0.9172 - val_loss: 0.2047 - val_accuracy: 0.9420\n",
      "Epoch 12/15\n",
      "1485/1485 [==============================] - 27s 18ms/step - loss: 0.2480 - accuracy: 0.9228 - val_loss: 0.2148 - val_accuracy: 0.9374\n",
      "Epoch 13/15\n",
      "1485/1485 [==============================] - 27s 18ms/step - loss: 0.2347 - accuracy: 0.9258 - val_loss: 0.2083 - val_accuracy: 0.9401\n",
      "Epoch 14/15\n",
      "1485/1485 [==============================] - 27s 18ms/step - loss: 0.2225 - accuracy: 0.9291 - val_loss: 0.2016 - val_accuracy: 0.9433\n",
      "Epoch 15/15\n",
      "1485/1485 [==============================] - 27s 18ms/step - loss: 0.2154 - accuracy: 0.9309 - val_loss: 0.2131 - val_accuracy: 0.9429\n",
      "Best epoch: 14, Val_accuracy: 0.9433497786521912\n",
      "Fold 4/10\n",
      "Epoch 1/15\n",
      "1485/1485 [==============================] - 28s 18ms/step - loss: 1.7059 - accuracy: 0.5774 - val_loss: 0.5929 - val_accuracy: 0.8375\n",
      "Epoch 2/15\n",
      "1485/1485 [==============================] - 27s 18ms/step - loss: 0.6898 - accuracy: 0.8025 - val_loss: 0.3852 - val_accuracy: 0.8929\n",
      "Epoch 3/15\n",
      "1485/1485 [==============================] - 27s 18ms/step - loss: 0.5361 - accuracy: 0.8431 - val_loss: 0.3649 - val_accuracy: 0.8988\n",
      "Epoch 4/15\n",
      "1485/1485 [==============================] - 26s 18ms/step - loss: 0.4588 - accuracy: 0.8655 - val_loss: 0.3523 - val_accuracy: 0.9046\n",
      "Epoch 5/15\n",
      "1485/1485 [==============================] - 27s 18ms/step - loss: 0.4108 - accuracy: 0.8779 - val_loss: 0.3216 - val_accuracy: 0.9104\n",
      "Epoch 6/15\n",
      "1485/1485 [==============================] - 27s 18ms/step - loss: 0.3734 - accuracy: 0.8863 - val_loss: 0.2921 - val_accuracy: 0.9182\n",
      "Epoch 7/15\n",
      "1485/1485 [==============================] - 27s 18ms/step - loss: 0.3419 - accuracy: 0.8958 - val_loss: 0.2754 - val_accuracy: 0.9229\n",
      "Epoch 8/15\n",
      "1485/1485 [==============================] - 26s 18ms/step - loss: 0.3190 - accuracy: 0.9009 - val_loss: 0.2882 - val_accuracy: 0.9222\n",
      "Epoch 9/15\n",
      "1485/1485 [==============================] - 27s 18ms/step - loss: 0.2952 - accuracy: 0.9091 - val_loss: 0.2719 - val_accuracy: 0.9297\n",
      "Epoch 10/15\n",
      "1485/1485 [==============================] - 27s 18ms/step - loss: 0.2777 - accuracy: 0.9141 - val_loss: 0.2950 - val_accuracy: 0.9254\n",
      "Epoch 11/15\n",
      "1485/1485 [==============================] - 28s 19ms/step - loss: 0.2687 - accuracy: 0.9156 - val_loss: 0.2441 - val_accuracy: 0.9339\n",
      "Epoch 12/15\n",
      "1485/1485 [==============================] - 27s 18ms/step - loss: 0.2512 - accuracy: 0.9211 - val_loss: 0.2425 - val_accuracy: 0.9335\n",
      "Epoch 13/15\n",
      "1485/1485 [==============================] - 27s 18ms/step - loss: 0.2410 - accuracy: 0.9239 - val_loss: 0.2648 - val_accuracy: 0.9291\n",
      "Epoch 14/15\n",
      "1485/1485 [==============================] - 28s 19ms/step - loss: 0.2335 - accuracy: 0.9266 - val_loss: 0.2747 - val_accuracy: 0.9285\n",
      "Epoch 15/15\n",
      "1485/1485 [==============================] - 28s 19ms/step - loss: 0.2195 - accuracy: 0.9307 - val_loss: 0.2401 - val_accuracy: 0.9371\n",
      "Best epoch: 15, Val_accuracy: 0.9370973706245422\n",
      "Fold 5/10\n",
      "Epoch 1/15\n",
      "1485/1485 [==============================] - 29s 19ms/step - loss: 1.6703 - accuracy: 0.5871 - val_loss: 0.5303 - val_accuracy: 0.8562\n",
      "Epoch 2/15\n",
      "1485/1485 [==============================] - 27s 18ms/step - loss: 0.6716 - accuracy: 0.8082 - val_loss: 0.3950 - val_accuracy: 0.8894\n",
      "Epoch 3/15\n",
      "1485/1485 [==============================] - 27s 18ms/step - loss: 0.5160 - accuracy: 0.8485 - val_loss: 0.3336 - val_accuracy: 0.9077\n",
      "Epoch 4/15\n",
      "1485/1485 [==============================] - 28s 19ms/step - loss: 0.4421 - accuracy: 0.8700 - val_loss: 0.3152 - val_accuracy: 0.9135\n",
      "Epoch 5/15\n",
      "1485/1485 [==============================] - 28s 19ms/step - loss: 0.3890 - accuracy: 0.8831 - val_loss: 0.2836 - val_accuracy: 0.9235\n",
      "Epoch 6/15\n",
      "1485/1485 [==============================] - 28s 19ms/step - loss: 0.3555 - accuracy: 0.8931 - val_loss: 0.2648 - val_accuracy: 0.9274\n",
      "Epoch 7/15\n",
      "1485/1485 [==============================] - 28s 19ms/step - loss: 0.3250 - accuracy: 0.9015 - val_loss: 0.2696 - val_accuracy: 0.9277\n",
      "Epoch 8/15\n",
      "1485/1485 [==============================] - 28s 19ms/step - loss: 0.3046 - accuracy: 0.9058 - val_loss: 0.2484 - val_accuracy: 0.9323\n",
      "Epoch 9/15\n",
      "1485/1485 [==============================] - 28s 19ms/step - loss: 0.2829 - accuracy: 0.9124 - val_loss: 0.2919 - val_accuracy: 0.9208\n",
      "Epoch 10/15\n",
      "1485/1485 [==============================] - 28s 19ms/step - loss: 0.2672 - accuracy: 0.9172 - val_loss: 0.2592 - val_accuracy: 0.9285\n",
      "Epoch 11/15\n",
      "1485/1485 [==============================] - 28s 19ms/step - loss: 0.2555 - accuracy: 0.9197 - val_loss: 0.3008 - val_accuracy: 0.9172\n",
      "Epoch 12/15\n",
      "1485/1485 [==============================] - 28s 19ms/step - loss: 0.2410 - accuracy: 0.9252 - val_loss: 0.2467 - val_accuracy: 0.9338\n",
      "Epoch 13/15\n",
      "1485/1485 [==============================] - 28s 19ms/step - loss: 0.2298 - accuracy: 0.9275 - val_loss: 0.2620 - val_accuracy: 0.9315\n",
      "Epoch 14/15\n",
      "1485/1485 [==============================] - 28s 19ms/step - loss: 0.2153 - accuracy: 0.9310 - val_loss: 0.2487 - val_accuracy: 0.9352\n",
      "Epoch 15/15\n",
      "1485/1485 [==============================] - 28s 19ms/step - loss: 0.2074 - accuracy: 0.9343 - val_loss: 0.2382 - val_accuracy: 0.9356\n",
      "Best epoch: 15, Val_accuracy: 0.9355816841125488\n",
      "Fold 6/10\n",
      "Epoch 1/15\n",
      "1485/1485 [==============================] - 28s 19ms/step - loss: 1.6026 - accuracy: 0.6017 - val_loss: 0.5411 - val_accuracy: 0.8495\n",
      "Epoch 2/15\n",
      "1485/1485 [==============================] - 26s 18ms/step - loss: 0.6478 - accuracy: 0.8150 - val_loss: 0.4328 - val_accuracy: 0.8784\n",
      "Epoch 3/15\n",
      "1485/1485 [==============================] - 26s 18ms/step - loss: 0.5089 - accuracy: 0.8516 - val_loss: 0.3231 - val_accuracy: 0.9120\n",
      "Epoch 4/15\n",
      "1485/1485 [==============================] - 26s 18ms/step - loss: 0.4321 - accuracy: 0.8713 - val_loss: 0.3083 - val_accuracy: 0.9142\n",
      "Epoch 5/15\n",
      "1485/1485 [==============================] - 26s 18ms/step - loss: 0.3868 - accuracy: 0.8842 - val_loss: 0.2978 - val_accuracy: 0.9206\n",
      "Epoch 6/15\n",
      "1485/1485 [==============================] - 26s 18ms/step - loss: 0.3530 - accuracy: 0.8934 - val_loss: 0.2908 - val_accuracy: 0.9174\n",
      "Epoch 7/15\n",
      "1485/1485 [==============================] - 26s 18ms/step - loss: 0.3271 - accuracy: 0.9003 - val_loss: 0.3862 - val_accuracy: 0.8899\n",
      "Epoch 8/15\n",
      "1485/1485 [==============================] - 26s 18ms/step - loss: 0.3026 - accuracy: 0.9064 - val_loss: 0.2809 - val_accuracy: 0.9212\n",
      "Epoch 9/15\n",
      "1485/1485 [==============================] - 26s 18ms/step - loss: 0.2854 - accuracy: 0.9116 - val_loss: 0.8227 - val_accuracy: 0.7793\n",
      "Epoch 10/15\n",
      "1485/1485 [==============================] - 26s 18ms/step - loss: 0.2654 - accuracy: 0.9166 - val_loss: 0.2373 - val_accuracy: 0.9331\n",
      "Epoch 11/15\n",
      "1485/1485 [==============================] - 26s 18ms/step - loss: 0.2541 - accuracy: 0.9205 - val_loss: 0.2681 - val_accuracy: 0.9293\n",
      "Epoch 12/15\n",
      "1485/1485 [==============================] - 27s 18ms/step - loss: 0.2389 - accuracy: 0.9242 - val_loss: 0.2648 - val_accuracy: 0.9263\n",
      "Epoch 13/15\n",
      "1485/1485 [==============================] - 27s 18ms/step - loss: 0.2305 - accuracy: 0.9282 - val_loss: 0.2341 - val_accuracy: 0.9366\n",
      "Epoch 14/15\n",
      "1485/1485 [==============================] - 27s 18ms/step - loss: 0.2194 - accuracy: 0.9307 - val_loss: 0.2358 - val_accuracy: 0.9366\n",
      "Epoch 15/15\n",
      "1485/1485 [==============================] - 27s 18ms/step - loss: 0.2106 - accuracy: 0.9330 - val_loss: 0.2301 - val_accuracy: 0.9363\n",
      "Best epoch: 13, Val_accuracy: 0.9366236925125122\n",
      "Fold 7/10\n",
      "Epoch 1/15\n",
      "1485/1485 [==============================] - 29s 19ms/step - loss: 1.7073 - accuracy: 0.5824 - val_loss: 0.5154 - val_accuracy: 0.8591\n",
      "Epoch 2/15\n",
      "1485/1485 [==============================] - 28s 19ms/step - loss: 0.6715 - accuracy: 0.8085 - val_loss: 0.3776 - val_accuracy: 0.8893\n",
      "Epoch 3/15\n",
      "1485/1485 [==============================] - 29s 19ms/step - loss: 0.5232 - accuracy: 0.8489 - val_loss: 0.3588 - val_accuracy: 0.8969\n",
      "Epoch 4/15\n",
      "1485/1485 [==============================] - 29s 19ms/step - loss: 0.4501 - accuracy: 0.8666 - val_loss: 0.3076 - val_accuracy: 0.9121\n",
      "Epoch 5/15\n",
      "1485/1485 [==============================] - 28s 19ms/step - loss: 0.4024 - accuracy: 0.8804 - val_loss: 0.2778 - val_accuracy: 0.9203\n",
      "Epoch 6/15\n",
      "1485/1485 [==============================] - 28s 19ms/step - loss: 0.3619 - accuracy: 0.8900 - val_loss: 0.2582 - val_accuracy: 0.9251\n",
      "Epoch 7/15\n",
      "1485/1485 [==============================] - 28s 19ms/step - loss: 0.3375 - accuracy: 0.8971 - val_loss: 0.2558 - val_accuracy: 0.9269\n",
      "Epoch 8/15\n",
      "1485/1485 [==============================] - 28s 19ms/step - loss: 0.3120 - accuracy: 0.9040 - val_loss: 0.2511 - val_accuracy: 0.9279\n",
      "Epoch 9/15\n",
      "1485/1485 [==============================] - 29s 19ms/step - loss: 0.2907 - accuracy: 0.9111 - val_loss: 0.2484 - val_accuracy: 0.9252\n",
      "Epoch 10/15\n",
      "1485/1485 [==============================] - 28s 19ms/step - loss: 0.2756 - accuracy: 0.9142 - val_loss: 0.2898 - val_accuracy: 0.9183\n",
      "Epoch 11/15\n",
      "1485/1485 [==============================] - 28s 19ms/step - loss: 0.2614 - accuracy: 0.9188 - val_loss: 0.3128 - val_accuracy: 0.9106\n",
      "Epoch 12/15\n",
      "1485/1485 [==============================] - 29s 19ms/step - loss: 0.2498 - accuracy: 0.9222 - val_loss: 0.2229 - val_accuracy: 0.9369\n",
      "Epoch 13/15\n",
      "1485/1485 [==============================] - 28s 19ms/step - loss: 0.2418 - accuracy: 0.9238 - val_loss: 0.2222 - val_accuracy: 0.9356\n",
      "Epoch 14/15\n",
      " 314/1485 [=====>........................] - ETA: 22s - loss: 0.2126 - accuracy: 0.9315"
     ]
    }
   ],
   "source": [
    "k = 10\n",
    "kfold = KFold(n_splits=k, shuffle=True, random_state=SEED)\n",
    "fold_history = []\n",
    "\n",
    "for i, (train_idxs, val_idxs) in enumerate(kfold.split(X_train, y_train_ohe)):\n",
    "    print(f\"Fold {i + 1}/{k}\")\n",
    "    \n",
    "    model = getCNNModel(best_hps)\n",
    "    \n",
    "    history = model.fit(\n",
    "        X_train[train_idxs],\n",
    "        y_train_ohe[train_idxs],\n",
    "        validation_data=(X_train[val_idxs], y_train_ohe[val_idxs]),\n",
    "        epochs=15,\n",
    "        batch_size=64\n",
    "    )\n",
    "    val_acc_per_epoch = history.history['val_accuracy']\n",
    "    best_epoch = val_acc_per_epoch.index(max(val_acc_per_epoch)) + 1\n",
    "    print(f'Best epoch: {best_epoch}, Val_accuracy: {max(val_acc_per_epoch)}')\n",
    "    fold_history.append(history)"
   ]
  },
  {
   "cell_type": "code",
   "execution_count": 217,
   "metadata": {},
   "outputs": [
    {
     "name": "stderr",
     "output_type": "stream",
     "text": [
      "/tmp/ipykernel_1136/3605666131.py:23: FutureWarning: \n",
      "\n",
      "The `ci` parameter is deprecated. Use `errorbar='sd'` for the same effect.\n",
      "\n",
      "  sns.lineplot(data=df_long, x='Epoch', y='Value', hue='Metric', ci='sd')\n"
     ]
    },
    {
     "data": {
      "image/png": "[encoded data removed]",
      "text/plain": [
       "<Figure size 640x480 with 1 Axes>"
      ]
     },
     "metadata": {},
     "output_type": "display_data"
    }
   ],
   "source": [
    "plt.figure()\n",
    "\n",
    "df = pd.DataFrame(fold_history[0].history)\n",
    "\n",
    "# Iterate through each dictionary and append to DataFrame\n",
    "for i, history in enumerate(fold_history[1:]):\n",
    "    df = pd.concat([df, pd.DataFrame(history.history)])\n",
    "\n",
    "# Assuming df is your DataFrame with 'loss', 'accuracy', 'val_loss', 'val_accuracy'\n",
    "# Reshape DataFrame to long format\n",
    "df_long = df.reset_index().melt(id_vars='index', value_vars=['accuracy', 'val_accuracy'])\n",
    "df_long.rename(columns={'index': 'Epoch', 'variable': 'Metric', 'value': 'Value'}, inplace=True)\n",
    "\n",
    "\n",
    "df_long = df_long.replace({'val_accuracy': 'Validation', 'accuracy': 'Training'})\n",
    "\n",
    "\n",
    "\n",
    "# Add 1 to all epoch values\n",
    "df_long['Epoch'] = df_long['Epoch'] + 1\n",
    "\n",
    "# Plotting\n",
    "sns.lineplot(data=df_long, x='Epoch', y='Value', hue='Metric', ci='sd')\n",
    "plt.xlabel('Epoch')\n",
    "plt.legend()\n",
    "plt.ylabel('Accuracy')\n",
    "\n",
    "# Show the plot\n",
    "plt.show()"
   ]
  },
  {
   "cell_type": "markdown",
   "metadata": {},
   "source": [
    "# Perform feature extraction"
   ]
  },
  {
   "cell_type": "code",
   "execution_count": 24,
   "metadata": {},
   "outputs": [
    {
     "name": "stdout",
     "output_type": "stream",
     "text": [
      "3299/3299 [==============================] - 8s 2ms/step\n",
      "825/825 [==============================] - 2s 2ms/step\n"
     ]
    }
   ],
   "source": [
    "full_model = load_model('best_model.h5')\n",
    "feature_model = Model(inputs=full_model.input, outputs=full_model.layers[-4].output)\n",
    "\n",
    "train_features = feature_model.predict(X_train)\n",
    "test_features = feature_model.predict(X_test)"
   ]
  },
  {
   "cell_type": "code",
   "execution_count": 25,
   "metadata": {},
   "outputs": [
    {
     "name": "stdout",
     "output_type": "stream",
     "text": [
      "(105556, 512)\n",
      "(26390, 512)\n"
     ]
    }
   ],
   "source": [
    "print(train_features.shape)\n",
    "print(test_features.shape)"
   ]
  },
  {
   "cell_type": "markdown",
   "metadata": {},
   "source": [
    "# Grid Search kNN Hyperparameters"
   ]
  },
  {
   "cell_type": "code",
   "execution_count": 30,
   "metadata": {},
   "outputs": [
    {
     "name": "stdout",
     "output_type": "stream",
     "text": [
      "Best parameters: {'metric': 'euclidean', 'n_neighbors': 10, 'weights': 'distance'}\n",
      "Best score: 0.8616658485294953\n"
     ]
    }
   ],
   "source": [
    "param_grid = {\n",
    "    'n_neighbors': [*range(1, 18, 1)],\n",
    "    'weights': ['uniform', 'distance'],\n",
    "    'metric': ['euclidean', 'manhattan', 'minkowski']\n",
    "}\n",
    "\n",
    "knn = KNeighborsClassifier()\n",
    "\n",
    "knn_grid_search = GridSearchCV(knn, param_grid, cv=5, scoring='accuracy')\n",
    "knn_grid_search.fit(train_features, y_train_int)\n",
    "\n",
    "print(\"Best parameters:\", knn_grid_search.best_params_)\n",
    "\n",
    "print(\"Best score:\", knn_grid_search.best_score_)"
   ]
  },
  {
   "cell_type": "markdown",
   "metadata": {},
   "source": [
    "# Graph of kNN Accuracy and F1 Score against k"
   ]
  },
  {
   "cell_type": "code",
   "execution_count": 34,
   "metadata": {},
   "outputs": [
    {
     "name": "stdout",
     "output_type": "stream",
     "text": [
      "k=2, 0.8381205001894657, 0.8387240538967996\n",
      "k=3, 0.8566123531640774, 0.8571649917387293\n",
      "k=4, 0.8629784009094353, 0.8637039430644583\n",
      "k=5, 0.8650625236832133, 0.8660843958678067\n",
      "k=6, 0.8676392572944297, 0.868776534310295\n",
      "k=7, 0.8676013641530883, 0.8688886930342263\n",
      "k=8, 0.8683592269799166, 0.8697706986868178\n",
      "k=9, 0.8678287230011368, 0.8692751101932903\n",
      "k=10, 0.8674118984463812, 0.8691277203368415\n",
      "k=11, 0.8670329670329671, 0.8688663766995725\n",
      "k=12, 0.8676392572944297, 0.8696946890274262\n",
      "k=13, 0.8661614247821144, 0.8682940756903367\n",
      "k=14, 0.8669571807502842, 0.8692623831649409\n",
      "k=15, 0.8663129973474801, 0.8687254537606021\n",
      "k=16, 0.8654414550966275, 0.8679883199311986\n",
      "k=17, 0.864304660856385, 0.8669645335413411\n",
      "k=18, 0.8627889352027283, 0.8654820769398032\n",
      "k=19, 0.8634710117468738, 0.8662422366975451\n",
      "k=20, 0.8627131489200455, 0.8655019913357126\n",
      "k=21, 0.861576354679803, 0.8644720318361776\n",
      "k=22, 0.8608942781356574, 0.8637980957092172\n",
      "k=23, 0.859681697612732, 0.8626917605422004\n",
      "k=24, 0.859037514209928, 0.8621132910901279\n",
      "k=25, 0.8588480485032209, 0.862016226794976\n",
      "k=26, 0.8582038651004168, 0.8614235993292043\n",
      "k=27, 0.8579765062523683, 0.861343870287222\n",
      "k=28, 0.858128078817734, 0.8614835248554489\n",
      "k=29, 0.8578249336870026, 0.8612860203016094\n",
      "k=30, 0.857673361121637, 0.8611385526544878\n",
      "k=31, 0.8571049640015157, 0.8606474632602631\n",
      "k=32, 0.8558923834785904, 0.859579208149145\n",
      "k=33, 0.855134520651762, 0.8589579802858559\n",
      "k=34, 0.8548313755210307, 0.8586788721549861\n",
      "k=35, 0.8536945812807881, 0.8576274445586207\n",
      "k=36, 0.8522546419098144, 0.8562270260686679\n",
      "k=37, 0.8518378173550587, 0.8557956912855085\n",
      "k=38, 0.8514967790829859, 0.8555785004333211\n",
      "k=39, 0.851951496779083, 0.8560514686946699\n",
      "k=40, 0.8514967790829859, 0.8556957696841884\n",
      "k=41, 0.8503599848427434, 0.8546037163778928\n",
      "k=42, 0.8500189465706707, 0.85425941397389\n",
      "k=43, 0.8494505494505494, 0.8536994721549537\n",
      "k=44, 0.848503220917014, 0.8528626994840043\n",
      "k=45, 0.8480106100795756, 0.8523780279019829\n",
      "k=46, 0.8474422129594543, 0.8518523563807192\n",
      "k=47, 0.8467601364153088, 0.8512787395510742\n",
      "k=48, 0.8471011746873816, 0.8515946408398193\n",
      "k=49, 0.8464190981432361, 0.8510100514989073\n"
     ]
    }
   ],
   "source": [
    "f1s = []\n",
    "accuracys = []\n",
    "\n",
    "for i in range(2, 50, 1):\n",
    "    # Create an instance of the KNN classifier\n",
    "    knn = KNeighborsClassifier(metric='euclidean', weights='distance', n_neighbors=i, n_jobs=-1)\n",
    "\n",
    "    # Fit the classifier to the training data\n",
    "    knn.fit(train_features, y_train)\n",
    "    \n",
    "    # Predict the labels for the test data\n",
    "    knn_predictions = knn.predict(test_features)\n",
    "    \n",
    "    # Calculate the accuracy score\n",
    "    accuracys.append(accuracy_score(y_test, knn_predictions))\n",
    "\n",
    "    # Calculate the f1 score\n",
    "    f1s.append(f1_score(y_test, knn_predictions, average='weighted'))\n",
    "    \n",
    "    print(f\"k={i}, {accuracys[-1]}, {f1s[-1]}\")"
   ]
  },
  {
   "cell_type": "code",
   "execution_count": 51,
   "metadata": {},
   "outputs": [
    {
     "data": {
      "image/png": "[encoded data removed]",
      "text/plain": [
       "<Figure size 1000x400 with 2 Axes>"
      ]
     },
     "metadata": {},
     "output_type": "display_data"
    }
   ],
   "source": [
    "STEP = 1\n",
    "k_values = range(2, 50, STEP)\n",
    "fig, (ax1, ax2) = plt.subplots(1, 2, figsize=(10, 4))\n",
    "\n",
    "ax1.plot(k_values, f1s[::STEP])\n",
    "ax1.set_xlabel('k')\n",
    "ax1.set_ylabel('F1 Score')\n",
    "\n",
    "ax2.plot(k_values, accuracys[::STEP])\n",
    "ax2.set_xlabel('k')\n",
    "ax2.set_ylabel('Accuracy')\n",
    "\n",
    "plt.tight_layout()\n",
    "plt.show()\n"
   ]
  },
  {
   "cell_type": "markdown",
   "metadata": {},
   "source": [
    "# Grid Search Logistic Regression Hyperparameters"
   ]
  },
  {
   "cell_type": "code",
   "execution_count": null,
   "metadata": {},
   "outputs": [],
   "source": [
    "param_grid = [\n",
    "    {\n",
    "        'solver': ['saga'],\n",
    "        'penalty': ['elasticnet'],\n",
    "        'C': [10, 5, 1, 0.5, 0.1],\n",
    "        'l1_ratio': [0.25, 0.5, 0.75],\n",
    "        'multi_class': ['multinomial']},\n",
    "    {\n",
    "        'solver': ['saga'],\n",
    "        'penalty': ['l1', 'l2', 'none'],\n",
    "        'C': [10, 5, 1, 0.5, 0.1],\n",
    "        'multi_class': ['multinomial']},\n",
    "    {\n",
    "        'solver': ['sag', 'lbfgs', 'newton-cg'],\n",
    "        'penalty': ['l2', 'none'],\n",
    "        'C': [10, 5, 1, 0.5, 0.1],\n",
    "        'multi_class': ['multinomial']}\n",
    "]\n",
    "\n",
    "logistic_regressor = LogisticRegression(\n",
    "    class_weight='balanced',\n",
    "    max_iter=400,\n",
    "    n_jobs=-1,\n",
    "    random_state=SEED)\n",
    "\n",
    "log_grid_search = GridSearchCV(logistic_regressor, param_grid, cv=5, scoring='accuracy')\n",
    "log_grid_search.fit(train_features, y_train_int)\n"
   ]
  },
  {
   "cell_type": "code",
   "execution_count": 53,
   "metadata": {},
   "outputs": [
    {
     "name": "stdout",
     "output_type": "stream",
     "text": [
      "Best parameters: {'C': 5, 'multi_class': 'multinomial', 'penalty': 'l2', 'solver': 'lbfgs'}\n",
      "Best score: 0.9159877221569593\n"
     ]
    }
   ],
   "source": [
    "print(\"Best parameters:\", log_grid_search.best_params_)\n",
    "print(\"Best score:\", log_grid_search.best_score_)"
   ]
  },
  {
   "cell_type": "code",
   "execution_count": 52,
   "metadata": {},
   "outputs": [
    {
     "name": "stdout",
     "output_type": "stream",
     "text": [
      "              precision    recall  f1-score   support\n",
      "\n",
      "           一     0.9673    0.9933    0.9801       149\n",
      "           七     0.9122    0.9122    0.9122       148\n",
      "           三     0.9658    0.9527    0.9592       148\n",
      "           上     0.9533    0.9662    0.9597       148\n",
      "           下     0.9231    0.9664    0.9443       149\n",
      "           不     0.9517    0.9262    0.9388       149\n",
      "           东     0.9065    0.8456    0.8750       149\n",
      "           个     0.9595    0.9530    0.9562       149\n",
      "           中     0.8954    0.9257    0.9103       148\n",
      "           么     0.9161    0.9660    0.9404       147\n",
      "           九     0.9320    0.9195    0.9257       149\n",
      "           习     0.9400    0.9463    0.9431       149\n",
      "           书     0.9338    0.9527    0.9431       148\n",
      "           买     0.9178    0.9054    0.9116       148\n",
      "           了     0.9119    0.9797    0.9446       148\n",
      "           二     0.9363    0.9866    0.9608       149\n",
      "           五     0.9348    0.8716    0.9021       148\n",
      "           些     0.9600    0.9796    0.9697       147\n",
      "           京     0.9496    0.8859    0.9167       149\n",
      "           亮     0.9145    0.9392    0.9267       148\n",
      "           人     0.9108    0.9662    0.9377       148\n",
      "           什     0.9408    0.9662    0.9533       148\n",
      "           今     0.9057    0.9664    0.9351       149\n",
      "           他     0.9026    0.9392    0.9205       148\n",
      "           们     0.9276    0.9592    0.9431       147\n",
      "           会     0.9514    0.9257    0.9384       148\n",
      "           住     0.9133    0.9257    0.9195       148\n",
      "           作     0.9145    0.9329    0.9236       149\n",
      "           你     0.9241    0.9054    0.9147       148\n",
      "           候     0.9789    0.9392    0.9586       148\n",
      "           做     0.9177    0.9732    0.9446       149\n",
      "           儿     0.8210    0.8926    0.8553       149\n",
      "           先     0.8741    0.8389    0.8562       149\n",
      "           八     0.9286    0.9597    0.9439       149\n",
      "           六     0.9366    0.9110    0.9236       146\n",
      "           关     0.9396    0.9396    0.9396       149\n",
      "           兴     0.9388    0.9324    0.9356       148\n",
      "           再     0.9026    0.9329    0.9175       149\n",
      "           写     0.9110    0.8926    0.9017       149\n",
      "           冷     0.9178    0.9054    0.9116       148\n",
      "           几     0.8841    0.8243    0.8531       148\n",
      "           出     0.9200    0.9262    0.9231       149\n",
      "           分     0.9375    0.9122    0.9247       148\n",
      "           前     0.9536    0.9730    0.9632       148\n",
      "           北     0.9262    0.9262    0.9262       149\n",
      "           医     0.9467    0.9530    0.9498       149\n",
      "           十     0.9392    0.9392    0.9392       148\n",
      "           午     0.8790    0.9262    0.9020       149\n",
      "           去     0.9262    0.9324    0.9293       148\n",
      "           友     0.9375    0.9060    0.9215       149\n",
      "           叫     0.9342    0.9530    0.9435       149\n",
      "           吃     0.9419    0.9799    0.9605       149\n",
      "           同     0.8926    0.8986    0.8956       148\n",
      "           名     0.8217    0.8716    0.8459       148\n",
      "           后     0.8986    0.8986    0.8986       148\n",
      "           吗     0.9257    0.9257    0.9257       148\n",
      "           听     0.9252    0.9189    0.9220       148\n",
      "           呢     0.9583    0.9324    0.9452       148\n",
      "           和     0.9155    0.8784    0.8966       148\n",
      "           哪     0.9583    0.9324    0.9452       148\n",
      "           商     0.9078    0.8649    0.8858       148\n",
      "           喂     0.9595    0.9595    0.9595       148\n",
      "           喜     0.9793    0.9595    0.9693       148\n",
      "           喝     0.9400    0.9527    0.9463       148\n",
      "           四     0.8966    0.8844    0.8904       147\n",
      "           回     0.8571    0.8514    0.8542       148\n",
      "           国     0.9054    0.9054    0.9054       148\n",
      "           在     0.9195    0.9195    0.9195       149\n",
      "           坐     0.9211    0.9396    0.9302       149\n",
      "           块     0.9645    0.9189    0.9412       148\n",
      "           多     0.8636    0.8986    0.8808       148\n",
      "           大     0.8627    0.8859    0.8742       149\n",
      "           天     0.9205    0.9392    0.9298       148\n",
      "           太     0.9013    0.9257    0.9133       148\n",
      "           女     0.8581    0.8986    0.8779       148\n",
      "           她     0.9296    0.8919    0.9103       148\n",
      "           好     0.8904    0.8784    0.8844       148\n",
      "           妈     0.8718    0.9252    0.8977       147\n",
      "           姐     0.9306    0.9054    0.9178       148\n",
      "           子     0.9079    0.9324    0.9200       148\n",
      "           字     0.8581    0.9048    0.8808       147\n",
      "           学     0.8742    0.8859    0.8800       149\n",
      "           客     0.8980    0.8919    0.8949       148\n",
      "           家     0.9103    0.8919    0.9010       148\n",
      "           对     0.9408    0.9662    0.9533       148\n",
      "           小     0.9379    0.9189    0.9283       148\n",
      "           少     0.9226    0.9662    0.9439       148\n",
      "           岁     0.9474    0.9730    0.9600       148\n",
      "           工     0.9712    0.9122    0.9408       148\n",
      "           师     0.9790    0.9459    0.9622       148\n",
      "           年     0.8904    0.8725    0.8814       149\n",
      "           店     0.9290    0.9730    0.9505       148\n",
      "           开     0.9660    0.9530    0.9595       149\n",
      "           影     0.9858    0.9329    0.9586       149\n",
      "           很     0.9400    0.9463    0.9431       149\n",
      "           怎     0.9359    0.9799    0.9574       149\n",
      "           想     0.9379    0.9128    0.9252       149\n",
      "           我     0.9231    0.9664    0.9443       149\n",
      "           打     0.9530    0.9595    0.9562       148\n",
      "           日     0.8516    0.8919    0.8713       148\n",
      "           时     0.9133    0.9257    0.9195       148\n",
      "           明     0.8681    0.8446    0.8562       148\n",
      "           星     0.9270    0.8581    0.8912       148\n",
      "           昨     0.9452    0.9324    0.9388       148\n",
      "           是     0.8544    0.9060    0.8795       149\n",
      "           月     0.8824    0.9000    0.8911       150\n",
      "           有     0.9384    0.9195    0.9288       149\n",
      "           朋     0.8452    0.8851    0.8647       148\n",
      "           服     0.9514    0.9195    0.9352       149\n",
      "           期     0.9667    0.9797    0.9732       148\n",
      "           本     0.9286    0.8725    0.8997       149\n",
      "           机     0.9444    0.9189    0.9315       148\n",
      "           来     0.8645    0.9054    0.8845       148\n",
      "           杯     0.9586    0.9329    0.9456       149\n",
      "           果     0.9333    0.8514    0.8905       148\n",
      "           校     0.9429    0.8919    0.9167       148\n",
      "           样     0.9586    0.9653    0.9619       144\n",
      "           桌     0.9200    0.9324    0.9262       148\n",
      "           椅     0.9484    0.9866    0.9671       149\n",
      "           欢     0.9103    0.9595    0.9342       148\n",
      "           气     0.9452    0.9262    0.9356       149\n",
      "           水     0.9007    0.9189    0.9097       148\n",
      "           汉     0.9324    0.9324    0.9324       148\n",
      "           没     0.9621    0.8581    0.9071       148\n",
      "           漂     0.9226    0.9662    0.9439       148\n",
      "           火     0.9324    0.9324    0.9324       148\n",
      "           点     0.9257    0.9257    0.9257       148\n",
      "           热     0.9467    0.9595    0.9530       148\n",
      "           爱     0.9388    0.9262    0.9324       149\n",
      "           爸     0.9346    0.9662    0.9502       148\n",
      "           狗     0.9586    0.9329    0.9456       149\n",
      "           猫     0.9658    0.9527    0.9592       148\n",
      "           现     0.8523    0.8581    0.8552       148\n",
      "           生     0.8452    0.8851    0.8647       148\n",
      "           电     0.9306    0.9054    0.9178       148\n",
      "           的     0.8913    0.8255    0.8571       149\n",
      "           看     0.9156    0.9463    0.9307       149\n",
      "           睡     0.9648    0.9257    0.9448       148\n",
      "           租     0.9241    0.9054    0.9147       148\n",
      "           站     0.9658    0.9463    0.9559       149\n",
      "           米     0.8571    0.8456    0.8514       149\n",
      "           系     0.9007    0.9128    0.9067       149\n",
      "           老     0.9026    0.9456    0.9236       147\n",
      "           能     0.9650    0.9324    0.9485       148\n",
      "           脑     0.9517    0.9324    0.9420       148\n",
      "           苹     0.9085    0.9392    0.9236       148\n",
      "           茶     0.9205    0.9392    0.9298       148\n",
      "           菜     0.8958    0.8658    0.8805       149\n",
      "           衣     0.9384    0.9195    0.9288       149\n",
      "           西     0.9172    0.8986    0.9078       148\n",
      "           见     0.8874    0.9054    0.8963       148\n",
      "           视     0.9514    0.9257    0.9384       148\n",
      "           觉     0.9643    0.9122    0.9375       148\n",
      "           认     0.9412    0.9730    0.9568       148\n",
      "           识     0.8599    0.9122    0.8852       148\n",
      "           话     0.9231    0.8919    0.9072       148\n",
      "           语     0.9362    0.8859    0.9103       149\n",
      "           说     0.9133    0.9257    0.9195       148\n",
      "           请     0.9189    0.9189    0.9189       148\n",
      "           读     0.9384    0.9257    0.9320       148\n",
      "           谁     0.9925    0.8986    0.9433       148\n",
      "           谢     0.9792    0.9527    0.9658       148\n",
      "           起     0.9530    0.9595    0.9562       148\n",
      "           车     0.8873    0.8456    0.8660       149\n",
      "           这     0.9178    0.9054    0.9116       148\n",
      "           那     0.9524    0.9459    0.9492       148\n",
      "           都     0.9789    0.9392    0.9586       148\n",
      "           里     0.8452    0.8851    0.8647       148\n",
      "           钟     0.9359    0.9799    0.9574       149\n",
      "           钱     0.9712    0.9122    0.9408       148\n",
      "           院     0.9320    0.9195    0.9257       149\n",
      "           雨     0.9067    0.9128    0.9097       149\n",
      "           零     0.9724    0.9658    0.9691       146\n",
      "           面     0.9216    0.9527    0.9369       148\n",
      "           飞     1.0000    0.9797    0.9898       148\n",
      "           饭     0.9195    0.9257    0.9226       148\n",
      "           馆     0.9796    0.9664    0.9730       149\n",
      "           高     0.8776    0.8658    0.8716       149\n",
      "\n",
      "    accuracy                         0.9234     26390\n",
      "   macro avg     0.9240    0.9234    0.9234     26390\n",
      "weighted avg     0.9240    0.9234    0.9234     26390\n",
      "\n"
     ]
    }
   ],
   "source": [
    "logistic_regressor = log_grid_search.best_estimator_\n",
    "log_predictions = logistic_regressor.predict(test_features)\n",
    "report = classification_report(y_test, encoder.inverse_transform(log_predictions), digits=4)\n",
    "print(report)"
   ]
  },
  {
   "cell_type": "code",
   "execution_count": 86,
   "metadata": {},
   "outputs": [
    {
     "name": "stdout",
     "output_type": "stream",
     "text": [
      "Portion 1/40\n"
     ]
    },
    {
     "name": "stderr",
     "output_type": "stream",
     "text": [
      "/home/miikey_lol/.local/lib/python3.10/site-packages/sklearn/metrics/_classification.py:2922: UserWarning: The y_pred values do not sum to one. Starting from 1.5 thiswill result in an error.\n",
      "  warnings.warn(\n"
     ]
    },
    {
     "name": "stdout",
     "output_type": "stream",
     "text": [
      "num_samples: [2112]\n",
      "knn_accuracies: [0.5712391057218643]\n",
      "lgr_accuracies: [0.7366426676771505]\n",
      "knn_losses: [6.29129793386976]\n",
      "lgr_losses: [1.3684780554067046]\n",
      "knn_training_times: [0.0006830692291259766]\n",
      "lgr_training_times: [2.3986215591430664]\n",
      "knn_inference_times: [0.3621714115142822]\n",
      "lgr_inference_times: [0.05351686477661133]\n",
      "Portion 2/40\n"
     ]
    },
    {
     "name": "stderr",
     "output_type": "stream",
     "text": [
      "/home/miikey_lol/.local/lib/python3.10/site-packages/sklearn/metrics/_classification.py:2922: UserWarning: The y_pred values do not sum to one. Starting from 1.5 thiswill result in an error.\n",
      "  warnings.warn(\n"
     ]
    },
    {
     "name": "stdout",
     "output_type": "stream",
     "text": [
      "num_samples: [2112, 4224]\n",
      "knn_accuracies: [0.5712391057218643, 0.6695244410761653]\n",
      "lgr_accuracies: [0.7366426676771505, 0.8104395604395604]\n",
      "knn_losses: [6.29129793386976, 4.513130257780753]\n",
      "lgr_losses: [1.3684780554067046, 0.9271987982518046]\n",
      "knn_training_times: [0.0006830692291259766, 0.0011737346649169922]\n",
      "lgr_training_times: [2.3986215591430664, 4.427042007446289]\n",
      "knn_inference_times: [0.3621714115142822, 0.5278475284576416]\n",
      "lgr_inference_times: [0.05351686477661133, 0.0496220588684082]\n",
      "Portion 3/40\n"
     ]
    },
    {
     "name": "stderr",
     "output_type": "stream",
     "text": [
      "/home/miikey_lol/.local/lib/python3.10/site-packages/sklearn/linear_model/_logistic.py:460: ConvergenceWarning: lbfgs failed to converge (status=1):\n",
      "STOP: TOTAL NO. of ITERATIONS REACHED LIMIT.\n",
      "\n",
      "Increase the number of iterations (max_iter) or scale the data as shown in:\n",
      "    https://scikit-learn.org/stable/modules/preprocessing.html\n",
      "Please also refer to the documentation for alternative solver options:\n",
      "    https://scikit-learn.org/stable/modules/linear_model.html#logistic-regression\n",
      "  n_iter_i = _check_optimize_result(\n",
      "/home/miikey_lol/.local/lib/python3.10/site-packages/sklearn/metrics/_classification.py:2922: UserWarning: The y_pred values do not sum to one. Starting from 1.5 thiswill result in an error.\n",
      "  warnings.warn(\n"
     ]
    },
    {
     "name": "stdout",
     "output_type": "stream",
     "text": [
      "num_samples: [2112, 4224, 6336]\n",
      "knn_accuracies: [0.5712391057218643, 0.6695244410761653, 0.7122963243652899]\n",
      "lgr_accuracies: [0.7366426676771505, 0.8104395604395604, 0.8402330428192497]\n",
      "knn_losses: [6.29129793386976, 4.513130257780753, 3.9331587982676846]\n",
      "lgr_losses: [1.3684780554067046, 0.9271987982518046, 0.7573565550524998]\n",
      "knn_training_times: [0.0006830692291259766, 0.0011737346649169922, 0.0015690326690673828]\n",
      "lgr_training_times: [2.3986215591430664, 4.427042007446289, 5.8483405113220215]\n",
      "knn_inference_times: [0.3621714115142822, 0.5278475284576416, 0.733877420425415]\n",
      "lgr_inference_times: [0.05351686477661133, 0.0496220588684082, 0.05375385284423828]\n",
      "Portion 4/40\n"
     ]
    },
    {
     "name": "stderr",
     "output_type": "stream",
     "text": [
      "/home/miikey_lol/.local/lib/python3.10/site-packages/sklearn/linear_model/_logistic.py:460: ConvergenceWarning: lbfgs failed to converge (status=1):\n",
      "STOP: TOTAL NO. of ITERATIONS REACHED LIMIT.\n",
      "\n",
      "Increase the number of iterations (max_iter) or scale the data as shown in:\n",
      "    https://scikit-learn.org/stable/modules/preprocessing.html\n",
      "Please also refer to the documentation for alternative solver options:\n",
      "    https://scikit-learn.org/stable/modules/linear_model.html#logistic-regression\n",
      "  n_iter_i = _check_optimize_result(\n",
      "/home/miikey_lol/.local/lib/python3.10/site-packages/sklearn/metrics/_classification.py:2922: UserWarning: The y_pred values do not sum to one. Starting from 1.5 thiswill result in an error.\n",
      "  warnings.warn(\n"
     ]
    },
    {
     "name": "stdout",
     "output_type": "stream",
     "text": [
      "num_samples: [2112, 4224, 6336, 8448]\n",
      "knn_accuracies: [0.5712391057218643, 0.6695244410761653, 0.7122963243652899, 0.7429897688518378]\n",
      "lgr_accuracies: [0.7366426676771505, 0.8104395604395604, 0.8402330428192497, 0.8527851458885941]\n",
      "knn_losses: [6.29129793386976, 4.513130257780753, 3.9331587982676846, 3.5149731302320473]\n",
      "lgr_losses: [1.3684780554067046, 0.9271987982518046, 0.7573565550524998, 0.66160376527364]\n",
      "knn_training_times: [0.0006830692291259766, 0.0011737346649169922, 0.0015690326690673828, 0.0019927024841308594]\n",
      "lgr_training_times: [2.3986215591430664, 4.427042007446289, 5.8483405113220215, 7.475382328033447]\n",
      "knn_inference_times: [0.3621714115142822, 0.5278475284576416, 0.733877420425415, 0.839763879776001]\n",
      "lgr_inference_times: [0.05351686477661133, 0.0496220588684082, 0.05375385284423828, 0.05952763557434082]\n",
      "Portion 5/40\n"
     ]
    },
    {
     "name": "stderr",
     "output_type": "stream",
     "text": [
      "/home/miikey_lol/.local/lib/python3.10/site-packages/sklearn/linear_model/_logistic.py:460: ConvergenceWarning: lbfgs failed to converge (status=1):\n",
      "STOP: TOTAL NO. of ITERATIONS REACHED LIMIT.\n",
      "\n",
      "Increase the number of iterations (max_iter) or scale the data as shown in:\n",
      "    https://scikit-learn.org/stable/modules/preprocessing.html\n",
      "Please also refer to the documentation for alternative solver options:\n",
      "    https://scikit-learn.org/stable/modules/linear_model.html#logistic-regression\n",
      "  n_iter_i = _check_optimize_result(\n",
      "/home/miikey_lol/.local/lib/python3.10/site-packages/sklearn/metrics/_classification.py:2922: UserWarning: The y_pred values do not sum to one. Starting from 1.5 thiswill result in an error.\n",
      "  warnings.warn(\n"
     ]
    },
    {
     "name": "stdout",
     "output_type": "stream",
     "text": [
      "num_samples: [2112, 4224, 6336, 8448, 10559]\n",
      "knn_accuracies: [0.5712391057218643, 0.6695244410761653, 0.7122963243652899, 0.7429897688518378, 0.7554945054945055]\n",
      "lgr_accuracies: [0.7366426676771505, 0.8104395604395604, 0.8402330428192497, 0.8527851458885941, 0.8639636225843123]\n",
      "knn_losses: [6.29129793386976, 4.513130257780753, 3.9331587982676846, 3.5149731302320473, 3.2235603659379364]\n",
      "lgr_losses: [1.3684780554067046, 0.9271987982518046, 0.7573565550524998, 0.66160376527364, 0.5979237557930648]\n",
      "knn_training_times: [0.0006830692291259766, 0.0011737346649169922, 0.0015690326690673828, 0.0019927024841308594, 0.0023572444915771484]\n",
      "lgr_training_times: [2.3986215591430664, 4.427042007446289, 5.8483405113220215, 7.475382328033447, 9.23828935623169]\n",
      "knn_inference_times: [0.3621714115142822, 0.5278475284576416, 0.733877420425415, 0.839763879776001, 0.993302583694458]\n",
      "lgr_inference_times: [0.05351686477661133, 0.0496220588684082, 0.05375385284423828, 0.05952763557434082, 0.0487971305847168]\n",
      "Portion 6/40\n"
     ]
    },
    {
     "name": "stderr",
     "output_type": "stream",
     "text": [
      "/home/miikey_lol/.local/lib/python3.10/site-packages/sklearn/linear_model/_logistic.py:460: ConvergenceWarning: lbfgs failed to converge (status=1):\n",
      "STOP: TOTAL NO. of ITERATIONS REACHED LIMIT.\n",
      "\n",
      "Increase the number of iterations (max_iter) or scale the data as shown in:\n",
      "    https://scikit-learn.org/stable/modules/preprocessing.html\n",
      "Please also refer to the documentation for alternative solver options:\n",
      "    https://scikit-learn.org/stable/modules/linear_model.html#logistic-regression\n",
      "  n_iter_i = _check_optimize_result(\n",
      "/home/miikey_lol/.local/lib/python3.10/site-packages/sklearn/metrics/_classification.py:2922: UserWarning: The y_pred values do not sum to one. Starting from 1.5 thiswill result in an error.\n",
      "  warnings.warn(\n"
     ]
    },
    {
     "name": "stdout",
     "output_type": "stream",
     "text": [
      "num_samples: [2112, 4224, 6336, 8448, 10559, 12670]\n",
      "knn_accuracies: [0.5712391057218643, 0.6695244410761653, 0.7122963243652899, 0.7429897688518378, 0.7554945054945055, 0.7691360363774157]\n",
      "lgr_accuracies: [0.7366426676771505, 0.8104395604395604, 0.8402330428192497, 0.8527851458885941, 0.8639636225843123, 0.8726316786661614]\n",
      "knn_losses: [6.29129793386976, 4.513130257780753, 3.9331587982676846, 3.5149731302320473, 3.2235603659379364, 3.02503806282649]\n",
      "lgr_losses: [1.3684780554067046, 0.9271987982518046, 0.7573565550524998, 0.66160376527364, 0.5979237557930648, 0.555361195668599]\n",
      "knn_training_times: [0.0006830692291259766, 0.0011737346649169922, 0.0015690326690673828, 0.0019927024841308594, 0.0023572444915771484, 0.0026857852935791016]\n",
      "lgr_training_times: [2.3986215591430664, 4.427042007446289, 5.8483405113220215, 7.475382328033447, 9.23828935623169, 11.888451099395752]\n",
      "knn_inference_times: [0.3621714115142822, 0.5278475284576416, 0.733877420425415, 0.839763879776001, 0.993302583694458, 1.1751487255096436]\n",
      "lgr_inference_times: [0.05351686477661133, 0.0496220588684082, 0.05375385284423828, 0.05952763557434082, 0.0487971305847168, 0.050379276275634766]\n",
      "Portion 7/40\n"
     ]
    },
    {
     "name": "stderr",
     "output_type": "stream",
     "text": [
      "/home/miikey_lol/.local/lib/python3.10/site-packages/sklearn/linear_model/_logistic.py:460: ConvergenceWarning: lbfgs failed to converge (status=1):\n",
      "STOP: TOTAL NO. of ITERATIONS REACHED LIMIT.\n",
      "\n",
      "Increase the number of iterations (max_iter) or scale the data as shown in:\n",
      "    https://scikit-learn.org/stable/modules/preprocessing.html\n",
      "Please also refer to the documentation for alternative solver options:\n",
      "    https://scikit-learn.org/stable/modules/linear_model.html#logistic-regression\n",
      "  n_iter_i = _check_optimize_result(\n",
      "/home/miikey_lol/.local/lib/python3.10/site-packages/sklearn/metrics/_classification.py:2922: UserWarning: The y_pred values do not sum to one. Starting from 1.5 thiswill result in an error.\n",
      "  warnings.warn(\n"
     ]
    },
    {
     "name": "stdout",
     "output_type": "stream",
     "text": [
      "num_samples: [2112, 4224, 6336, 8448, 10559, 12670, 14781]\n",
      "knn_accuracies: [0.5712391057218643, 0.6695244410761653, 0.7122963243652899, 0.7429897688518378, 0.7554945054945055, 0.7691360363774157, 0.7787514209928003]\n",
      "lgr_accuracies: [0.7366426676771505, 0.8104395604395604, 0.8402330428192497, 0.8527851458885941, 0.8639636225843123, 0.8726316786661614, 0.879784009094354]\n",
      "knn_losses: [6.29129793386976, 4.513130257780753, 3.9331587982676846, 3.5149731302320473, 3.2235603659379364, 3.02503806282649, 2.8771160315283812]\n",
      "lgr_losses: [1.3684780554067046, 0.9271987982518046, 0.7573565550524998, 0.66160376527364, 0.5979237557930648, 0.555361195668599, 0.521968925353168]\n",
      "knn_training_times: [0.0006830692291259766, 0.0011737346649169922, 0.0015690326690673828, 0.0019927024841308594, 0.0023572444915771484, 0.0026857852935791016, 0.003070354461669922]\n",
      "lgr_training_times: [2.3986215591430664, 4.427042007446289, 5.8483405113220215, 7.475382328033447, 9.23828935623169, 11.888451099395752, 11.817423820495605]\n",
      "knn_inference_times: [0.3621714115142822, 0.5278475284576416, 0.733877420425415, 0.839763879776001, 0.993302583694458, 1.1751487255096436, 1.2853302955627441]\n",
      "lgr_inference_times: [0.05351686477661133, 0.0496220588684082, 0.05375385284423828, 0.05952763557434082, 0.0487971305847168, 0.050379276275634766, 0.04938554763793945]\n",
      "Portion 8/40\n"
     ]
    },
    {
     "name": "stderr",
     "output_type": "stream",
     "text": [
      "/home/miikey_lol/.local/lib/python3.10/site-packages/sklearn/linear_model/_logistic.py:460: ConvergenceWarning: lbfgs failed to converge (status=1):\n",
      "STOP: TOTAL NO. of ITERATIONS REACHED LIMIT.\n",
      "\n",
      "Increase the number of iterations (max_iter) or scale the data as shown in:\n",
      "    https://scikit-learn.org/stable/modules/preprocessing.html\n",
      "Please also refer to the documentation for alternative solver options:\n",
      "    https://scikit-learn.org/stable/modules/linear_model.html#logistic-regression\n",
      "  n_iter_i = _check_optimize_result(\n",
      "/home/miikey_lol/.local/lib/python3.10/site-packages/sklearn/metrics/_classification.py:2922: UserWarning: The y_pred values do not sum to one. Starting from 1.5 thiswill result in an error.\n",
      "  warnings.warn(\n"
     ]
    },
    {
     "name": "stdout",
     "output_type": "stream",
     "text": [
      "num_samples: [2112, 4224, 6336, 8448, 10559, 12670, 14781, 16892]\n",
      "knn_accuracies: [0.5712391057218643, 0.6695244410761653, 0.7122963243652899, 0.7429897688518378, 0.7554945054945055, 0.7691360363774157, 0.7787514209928003, 0.7877510420613869]\n",
      "lgr_accuracies: [0.7366426676771505, 0.8104395604395604, 0.8402330428192497, 0.8527851458885941, 0.8639636225843123, 0.8726316786661614, 0.879784009094354, 0.884331186055324]\n",
      "knn_losses: [6.29129793386976, 4.513130257780753, 3.9331587982676846, 3.5149731302320473, 3.2235603659379364, 3.02503806282649, 2.8771160315283812, 2.7684384412458245]\n",
      "lgr_losses: [1.3684780554067046, 0.9271987982518046, 0.7573565550524998, 0.66160376527364, 0.5979237557930648, 0.555361195668599, 0.521968925353168, 0.4964697929778308]\n",
      "knn_training_times: [0.0006830692291259766, 0.0011737346649169922, 0.0015690326690673828, 0.0019927024841308594, 0.0023572444915771484, 0.0026857852935791016, 0.003070354461669922, 0.003828287124633789]\n",
      "lgr_training_times: [2.3986215591430664, 4.427042007446289, 5.8483405113220215, 7.475382328033447, 9.23828935623169, 11.888451099395752, 11.817423820495605, 11.712364435195923]\n",
      "knn_inference_times: [0.3621714115142822, 0.5278475284576416, 0.733877420425415, 0.839763879776001, 0.993302583694458, 1.1751487255096436, 1.2853302955627441, 1.4842393398284912]\n",
      "lgr_inference_times: [0.05351686477661133, 0.0496220588684082, 0.05375385284423828, 0.05952763557434082, 0.0487971305847168, 0.050379276275634766, 0.04938554763793945, 0.03707289695739746]\n",
      "Portion 9/40\n"
     ]
    },
    {
     "name": "stderr",
     "output_type": "stream",
     "text": [
      "/home/miikey_lol/.local/lib/python3.10/site-packages/sklearn/linear_model/_logistic.py:460: ConvergenceWarning: lbfgs failed to converge (status=1):\n",
      "STOP: TOTAL NO. of ITERATIONS REACHED LIMIT.\n",
      "\n",
      "Increase the number of iterations (max_iter) or scale the data as shown in:\n",
      "    https://scikit-learn.org/stable/modules/preprocessing.html\n",
      "Please also refer to the documentation for alternative solver options:\n",
      "    https://scikit-learn.org/stable/modules/linear_model.html#logistic-regression\n",
      "  n_iter_i = _check_optimize_result(\n",
      "/home/miikey_lol/.local/lib/python3.10/site-packages/sklearn/metrics/_classification.py:2922: UserWarning: The y_pred values do not sum to one. Starting from 1.5 thiswill result in an error.\n",
      "  warnings.warn(\n"
     ]
    },
    {
     "name": "stdout",
     "output_type": "stream",
     "text": [
      "num_samples: [2112, 4224, 6336, 8448, 10559, 12670, 14781, 16892, 19003]\n",
      "knn_accuracies: [0.5712391057218643, 0.6695244410761653, 0.7122963243652899, 0.7429897688518378, 0.7554945054945055, 0.7691360363774157, 0.7787514209928003, 0.7877510420613869, 0.7952349374763168]\n",
      "lgr_accuracies: [0.7366426676771505, 0.8104395604395604, 0.8402330428192497, 0.8527851458885941, 0.8639636225843123, 0.8726316786661614, 0.879784009094354, 0.884331186055324, 0.8880257673361122]\n",
      "knn_losses: [6.29129793386976, 4.513130257780753, 3.9331587982676846, 3.5149731302320473, 3.2235603659379364, 3.02503806282649, 2.8771160315283812, 2.7684384412458245, 2.6233634277119653]\n",
      "lgr_losses: [1.3684780554067046, 0.9271987982518046, 0.7573565550524998, 0.66160376527364, 0.5979237557930648, 0.555361195668599, 0.521968925353168, 0.4964697929778308, 0.47328235041606376]\n",
      "knn_training_times: [0.0006830692291259766, 0.0011737346649169922, 0.0015690326690673828, 0.0019927024841308594, 0.0023572444915771484, 0.0026857852935791016, 0.003070354461669922, 0.003828287124633789, 0.003988027572631836]\n",
      "lgr_training_times: [2.3986215591430664, 4.427042007446289, 5.8483405113220215, 7.475382328033447, 9.23828935623169, 11.888451099395752, 11.817423820495605, 11.712364435195923, 12.87743854522705]\n",
      "knn_inference_times: [0.3621714115142822, 0.5278475284576416, 0.733877420425415, 0.839763879776001, 0.993302583694458, 1.1751487255096436, 1.2853302955627441, 1.4842393398284912, 1.5803146362304688]\n",
      "lgr_inference_times: [0.05351686477661133, 0.0496220588684082, 0.05375385284423828, 0.05952763557434082, 0.0487971305847168, 0.050379276275634766, 0.04938554763793945, 0.03707289695739746, 0.05933213233947754]\n",
      "Portion 10/40\n"
     ]
    },
    {
     "name": "stderr",
     "output_type": "stream",
     "text": [
      "/home/miikey_lol/.local/lib/python3.10/site-packages/sklearn/linear_model/_logistic.py:460: ConvergenceWarning: lbfgs failed to converge (status=1):\n",
      "STOP: TOTAL NO. of ITERATIONS REACHED LIMIT.\n",
      "\n",
      "Increase the number of iterations (max_iter) or scale the data as shown in:\n",
      "    https://scikit-learn.org/stable/modules/preprocessing.html\n",
      "Please also refer to the documentation for alternative solver options:\n",
      "    https://scikit-learn.org/stable/modules/linear_model.html#logistic-regression\n",
      "  n_iter_i = _check_optimize_result(\n",
      "/home/miikey_lol/.local/lib/python3.10/site-packages/sklearn/metrics/_classification.py:2922: UserWarning: The y_pred values do not sum to one. Starting from 1.5 thiswill result in an error.\n",
      "  warnings.warn(\n"
     ]
    },
    {
     "name": "stdout",
     "output_type": "stream",
     "text": [
      "num_samples: [2112, 4224, 6336, 8448, 10559, 12670, 14781, 16892, 19003, 21114]\n",
      "knn_accuracies: [0.5712391057218643, 0.6695244410761653, 0.7122963243652899, 0.7429897688518378, 0.7554945054945055, 0.7691360363774157, 0.7787514209928003, 0.7877510420613869, 0.7952349374763168, 0.8000189465706707]\n",
      "lgr_accuracies: [0.7366426676771505, 0.8104395604395604, 0.8402330428192497, 0.8527851458885941, 0.8639636225843123, 0.8726316786661614, 0.879784009094354, 0.884331186055324, 0.8880257673361122, 0.8902519893899205]\n",
      "knn_losses: [6.29129793386976, 4.513130257780753, 3.9331587982676846, 3.5149731302320473, 3.2235603659379364, 3.02503806282649, 2.8771160315283812, 2.7684384412458245, 2.6233634277119653, 2.5374253122278354]\n",
      "lgr_losses: [1.3684780554067046, 0.9271987982518046, 0.7573565550524998, 0.66160376527364, 0.5979237557930648, 0.555361195668599, 0.521968925353168, 0.4964697929778308, 0.47328235041606376, 0.45636431164323327]\n",
      "knn_training_times: [0.0006830692291259766, 0.0011737346649169922, 0.0015690326690673828, 0.0019927024841308594, 0.0023572444915771484, 0.0026857852935791016, 0.003070354461669922, 0.003828287124633789, 0.003988027572631836, 0.004853725433349609]\n",
      "lgr_training_times: [2.3986215591430664, 4.427042007446289, 5.8483405113220215, 7.475382328033447, 9.23828935623169, 11.888451099395752, 11.817423820495605, 11.712364435195923, 12.87743854522705, 14.201250553131104]\n",
      "knn_inference_times: [0.3621714115142822, 0.5278475284576416, 0.733877420425415, 0.839763879776001, 0.993302583694458, 1.1751487255096436, 1.2853302955627441, 1.4842393398284912, 1.5803146362304688, 1.8220088481903076]\n",
      "lgr_inference_times: [0.05351686477661133, 0.0496220588684082, 0.05375385284423828, 0.05952763557434082, 0.0487971305847168, 0.050379276275634766, 0.04938554763793945, 0.03707289695739746, 0.05933213233947754, 0.05047726631164551]\n",
      "Portion 11/40\n"
     ]
    },
    {
     "name": "stderr",
     "output_type": "stream",
     "text": [
      "/home/miikey_lol/.local/lib/python3.10/site-packages/sklearn/linear_model/_logistic.py:460: ConvergenceWarning: lbfgs failed to converge (status=1):\n",
      "STOP: TOTAL NO. of ITERATIONS REACHED LIMIT.\n",
      "\n",
      "Increase the number of iterations (max_iter) or scale the data as shown in:\n",
      "    https://scikit-learn.org/stable/modules/preprocessing.html\n",
      "Please also refer to the documentation for alternative solver options:\n",
      "    https://scikit-learn.org/stable/modules/linear_model.html#logistic-regression\n",
      "  n_iter_i = _check_optimize_result(\n",
      "/home/miikey_lol/.local/lib/python3.10/site-packages/sklearn/metrics/_classification.py:2922: UserWarning: The y_pred values do not sum to one. Starting from 1.5 thiswill result in an error.\n",
      "  warnings.warn(\n"
     ]
    },
    {
     "name": "stdout",
     "output_type": "stream",
     "text": [
      "num_samples: [2112, 4224, 6336, 8448, 10559, 12670, 14781, 16892, 19003, 21114, 23225]\n",
      "knn_accuracies: [0.5712391057218643, 0.6695244410761653, 0.7122963243652899, 0.7429897688518378, 0.7554945054945055, 0.7691360363774157, 0.7787514209928003, 0.7877510420613869, 0.7952349374763168, 0.8000189465706707, 0.8053239863584691]\n",
      "lgr_accuracies: [0.7366426676771505, 0.8104395604395604, 0.8402330428192497, 0.8527851458885941, 0.8639636225843123, 0.8726316786661614, 0.879784009094354, 0.884331186055324, 0.8880257673361122, 0.8902519893899205, 0.8940886699507389]\n",
      "knn_losses: [6.29129793386976, 4.513130257780753, 3.9331587982676846, 3.5149731302320473, 3.2235603659379364, 3.02503806282649, 2.8771160315283812, 2.7684384412458245, 2.6233634277119653, 2.5374253122278354, 2.434208054932331]\n",
      "lgr_losses: [1.3684780554067046, 0.9271987982518046, 0.7573565550524998, 0.66160376527364, 0.5979237557930648, 0.555361195668599, 0.521968925353168, 0.4964697929778308, 0.47328235041606376, 0.45636431164323327, 0.43931705836944157]\n",
      "knn_training_times: [0.0006830692291259766, 0.0011737346649169922, 0.0015690326690673828, 0.0019927024841308594, 0.0023572444915771484, 0.0026857852935791016, 0.003070354461669922, 0.003828287124633789, 0.003988027572631836, 0.004853725433349609, 0.004773378372192383]\n",
      "lgr_training_times: [2.3986215591430664, 4.427042007446289, 5.8483405113220215, 7.475382328033447, 9.23828935623169, 11.888451099395752, 11.817423820495605, 11.712364435195923, 12.87743854522705, 14.201250553131104, 15.160300016403198]\n",
      "knn_inference_times: [0.3621714115142822, 0.5278475284576416, 0.733877420425415, 0.839763879776001, 0.993302583694458, 1.1751487255096436, 1.2853302955627441, 1.4842393398284912, 1.5803146362304688, 1.8220088481903076, 1.9674711227416992]\n",
      "lgr_inference_times: [0.05351686477661133, 0.0496220588684082, 0.05375385284423828, 0.05952763557434082, 0.0487971305847168, 0.050379276275634766, 0.04938554763793945, 0.03707289695739746, 0.05933213233947754, 0.05047726631164551, 0.05240464210510254]\n",
      "Portion 12/40\n"
     ]
    },
    {
     "name": "stderr",
     "output_type": "stream",
     "text": [
      "/home/miikey_lol/.local/lib/python3.10/site-packages/sklearn/linear_model/_logistic.py:460: ConvergenceWarning: lbfgs failed to converge (status=1):\n",
      "STOP: TOTAL NO. of ITERATIONS REACHED LIMIT.\n",
      "\n",
      "Increase the number of iterations (max_iter) or scale the data as shown in:\n",
      "    https://scikit-learn.org/stable/modules/preprocessing.html\n",
      "Please also refer to the documentation for alternative solver options:\n",
      "    https://scikit-learn.org/stable/modules/linear_model.html#logistic-regression\n",
      "  n_iter_i = _check_optimize_result(\n",
      "/home/miikey_lol/.local/lib/python3.10/site-packages/sklearn/metrics/_classification.py:2922: UserWarning: The y_pred values do not sum to one. Starting from 1.5 thiswill result in an error.\n",
      "  warnings.warn(\n"
     ]
    },
    {
     "name": "stdout",
     "output_type": "stream",
     "text": [
      "num_samples: [2112, 4224, 6336, 8448, 10559, 12670, 14781, 16892, 19003, 21114, 23225, 25336]\n",
      "knn_accuracies: [0.5712391057218643, 0.6695244410761653, 0.7122963243652899, 0.7429897688518378, 0.7554945054945055, 0.7691360363774157, 0.7787514209928003, 0.7877510420613869, 0.7952349374763168, 0.8000189465706707, 0.8053239863584691, 0.8099658961727927]\n",
      "lgr_accuracies: [0.7366426676771505, 0.8104395604395604, 0.8402330428192497, 0.8527851458885941, 0.8639636225843123, 0.8726316786661614, 0.879784009094354, 0.884331186055324, 0.8880257673361122, 0.8902519893899205, 0.8940886699507389, 0.8971201212580523]\n",
      "knn_losses: [6.29129793386976, 4.513130257780753, 3.9331587982676846, 3.5149731302320473, 3.2235603659379364, 3.02503806282649, 2.8771160315283812, 2.7684384412458245, 2.6233634277119653, 2.5374253122278354, 2.434208054932331, 2.3457035293112245]\n",
      "lgr_losses: [1.3684780554067046, 0.9271987982518046, 0.7573565550524998, 0.66160376527364, 0.5979237557930648, 0.555361195668599, 0.521968925353168, 0.4964697929778308, 0.47328235041606376, 0.45636431164323327, 0.43931705836944157, 0.42634375615263886]\n",
      "knn_training_times: [0.0006830692291259766, 0.0011737346649169922, 0.0015690326690673828, 0.0019927024841308594, 0.0023572444915771484, 0.0026857852935791016, 0.003070354461669922, 0.003828287124633789, 0.003988027572631836, 0.004853725433349609, 0.004773378372192383, 0.0058705806732177734]\n",
      "lgr_training_times: [2.3986215591430664, 4.427042007446289, 5.8483405113220215, 7.475382328033447, 9.23828935623169, 11.888451099395752, 11.817423820495605, 11.712364435195923, 12.87743854522705, 14.201250553131104, 15.160300016403198, 15.379838705062866]\n",
      "knn_inference_times: [0.3621714115142822, 0.5278475284576416, 0.733877420425415, 0.839763879776001, 0.993302583694458, 1.1751487255096436, 1.2853302955627441, 1.4842393398284912, 1.5803146362304688, 1.8220088481903076, 1.9674711227416992, 2.103940486907959]\n",
      "lgr_inference_times: [0.05351686477661133, 0.0496220588684082, 0.05375385284423828, 0.05952763557434082, 0.0487971305847168, 0.050379276275634766, 0.04938554763793945, 0.03707289695739746, 0.05933213233947754, 0.05047726631164551, 0.05240464210510254, 0.049063920974731445]\n",
      "Portion 13/40\n"
     ]
    },
    {
     "name": "stderr",
     "output_type": "stream",
     "text": [
      "/home/miikey_lol/.local/lib/python3.10/site-packages/sklearn/linear_model/_logistic.py:460: ConvergenceWarning: lbfgs failed to converge (status=1):\n",
      "STOP: TOTAL NO. of ITERATIONS REACHED LIMIT.\n",
      "\n",
      "Increase the number of iterations (max_iter) or scale the data as shown in:\n",
      "    https://scikit-learn.org/stable/modules/preprocessing.html\n",
      "Please also refer to the documentation for alternative solver options:\n",
      "    https://scikit-learn.org/stable/modules/linear_model.html#logistic-regression\n",
      "  n_iter_i = _check_optimize_result(\n",
      "/home/miikey_lol/.local/lib/python3.10/site-packages/sklearn/metrics/_classification.py:2922: UserWarning: The y_pred values do not sum to one. Starting from 1.5 thiswill result in an error.\n",
      "  warnings.warn(\n"
     ]
    },
    {
     "name": "stdout",
     "output_type": "stream",
     "text": [
      "num_samples: [2112, 4224, 6336, 8448, 10559, 12670, 14781, 16892, 19003, 21114, 23225, 25336, 27447]\n",
      "knn_accuracies: [0.5712391057218643, 0.6695244410761653, 0.7122963243652899, 0.7429897688518378, 0.7554945054945055, 0.7691360363774157, 0.7787514209928003, 0.7877510420613869, 0.7952349374763168, 0.8000189465706707, 0.8053239863584691, 0.8099658961727927, 0.8150341038272073]\n",
      "lgr_accuracies: [0.7366426676771505, 0.8104395604395604, 0.8402330428192497, 0.8527851458885941, 0.8639636225843123, 0.8726316786661614, 0.879784009094354, 0.884331186055324, 0.8880257673361122, 0.8902519893899205, 0.8940886699507389, 0.8971201212580523, 0.8983042819249716]\n",
      "knn_losses: [6.29129793386976, 4.513130257780753, 3.9331587982676846, 3.5149731302320473, 3.2235603659379364, 3.02503806282649, 2.8771160315283812, 2.7684384412458245, 2.6233634277119653, 2.5374253122278354, 2.434208054932331, 2.3457035293112245, 2.274770728154711]\n",
      "lgr_losses: [1.3684780554067046, 0.9271987982518046, 0.7573565550524998, 0.66160376527364, 0.5979237557930648, 0.555361195668599, 0.521968925353168, 0.4964697929778308, 0.47328235041606376, 0.45636431164323327, 0.43931705836944157, 0.42634375615263886, 0.415573963603361]\n",
      "knn_training_times: [0.0006830692291259766, 0.0011737346649169922, 0.0015690326690673828, 0.0019927024841308594, 0.0023572444915771484, 0.0026857852935791016, 0.003070354461669922, 0.003828287124633789, 0.003988027572631836, 0.004853725433349609, 0.004773378372192383, 0.0058705806732177734, 0.005707740783691406]\n",
      "lgr_training_times: [2.3986215591430664, 4.427042007446289, 5.8483405113220215, 7.475382328033447, 9.23828935623169, 11.888451099395752, 11.817423820495605, 11.712364435195923, 12.87743854522705, 14.201250553131104, 15.160300016403198, 15.379838705062866, 18.019740343093872]\n",
      "knn_inference_times: [0.3621714115142822, 0.5278475284576416, 0.733877420425415, 0.839763879776001, 0.993302583694458, 1.1751487255096436, 1.2853302955627441, 1.4842393398284912, 1.5803146362304688, 1.8220088481903076, 1.9674711227416992, 2.103940486907959, 2.2421650886535645]\n",
      "lgr_inference_times: [0.05351686477661133, 0.0496220588684082, 0.05375385284423828, 0.05952763557434082, 0.0487971305847168, 0.050379276275634766, 0.04938554763793945, 0.03707289695739746, 0.05933213233947754, 0.05047726631164551, 0.05240464210510254, 0.049063920974731445, 0.04932999610900879]\n",
      "Portion 14/40\n"
     ]
    },
    {
     "name": "stderr",
     "output_type": "stream",
     "text": [
      "/home/miikey_lol/.local/lib/python3.10/site-packages/sklearn/linear_model/_logistic.py:460: ConvergenceWarning: lbfgs failed to converge (status=1):\n",
      "STOP: TOTAL NO. of ITERATIONS REACHED LIMIT.\n",
      "\n",
      "Increase the number of iterations (max_iter) or scale the data as shown in:\n",
      "    https://scikit-learn.org/stable/modules/preprocessing.html\n",
      "Please also refer to the documentation for alternative solver options:\n",
      "    https://scikit-learn.org/stable/modules/linear_model.html#logistic-regression\n",
      "  n_iter_i = _check_optimize_result(\n",
      "/home/miikey_lol/.local/lib/python3.10/site-packages/sklearn/metrics/_classification.py:2922: UserWarning: The y_pred values do not sum to one. Starting from 1.5 thiswill result in an error.\n",
      "  warnings.warn(\n"
     ]
    },
    {
     "name": "stdout",
     "output_type": "stream",
     "text": [
      "num_samples: [2112, 4224, 6336, 8448, 10559, 12670, 14781, 16892, 19003, 21114, 23225, 25336, 27447, 29558]\n",
      "knn_accuracies: [0.5712391057218643, 0.6695244410761653, 0.7122963243652899, 0.7429897688518378, 0.7554945054945055, 0.7691360363774157, 0.7787514209928003, 0.7877510420613869, 0.7952349374763168, 0.8000189465706707, 0.8053239863584691, 0.8099658961727927, 0.8150341038272073, 0.8185865858279652]\n",
      "lgr_accuracies: [0.7366426676771505, 0.8104395604395604, 0.8402330428192497, 0.8527851458885941, 0.8639636225843123, 0.8726316786661614, 0.879784009094354, 0.884331186055324, 0.8880257673361122, 0.8902519893899205, 0.8940886699507389, 0.8971201212580523, 0.8983042819249716, 0.900909435392194]\n",
      "knn_losses: [6.29129793386976, 4.513130257780753, 3.9331587982676846, 3.5149731302320473, 3.2235603659379364, 3.02503806282649, 2.8771160315283812, 2.7684384412458245, 2.6233634277119653, 2.5374253122278354, 2.434208054932331, 2.3457035293112245, 2.274770728154711, 2.233345197143674]\n",
      "lgr_losses: [1.3684780554067046, 0.9271987982518046, 0.7573565550524998, 0.66160376527364, 0.5979237557930648, 0.555361195668599, 0.521968925353168, 0.4964697929778308, 0.47328235041606376, 0.45636431164323327, 0.43931705836944157, 0.42634375615263886, 0.415573963603361, 0.4041870139688768]\n",
      "knn_training_times: [0.0006830692291259766, 0.0011737346649169922, 0.0015690326690673828, 0.0019927024841308594, 0.0023572444915771484, 0.0026857852935791016, 0.003070354461669922, 0.003828287124633789, 0.003988027572631836, 0.004853725433349609, 0.004773378372192383, 0.0058705806732177734, 0.005707740783691406, 0.006423234939575195]\n",
      "lgr_training_times: [2.3986215591430664, 4.427042007446289, 5.8483405113220215, 7.475382328033447, 9.23828935623169, 11.888451099395752, 11.817423820495605, 11.712364435195923, 12.87743854522705, 14.201250553131104, 15.160300016403198, 15.379838705062866, 18.019740343093872, 18.982895135879517]\n",
      "knn_inference_times: [0.3621714115142822, 0.5278475284576416, 0.733877420425415, 0.839763879776001, 0.993302583694458, 1.1751487255096436, 1.2853302955627441, 1.4842393398284912, 1.5803146362304688, 1.8220088481903076, 1.9674711227416992, 2.103940486907959, 2.2421650886535645, 2.4844400882720947]\n",
      "lgr_inference_times: [0.05351686477661133, 0.0496220588684082, 0.05375385284423828, 0.05952763557434082, 0.0487971305847168, 0.050379276275634766, 0.04938554763793945, 0.03707289695739746, 0.05933213233947754, 0.05047726631164551, 0.05240464210510254, 0.049063920974731445, 0.04932999610900879, 0.05770158767700195]\n",
      "Portion 15/40\n"
     ]
    },
    {
     "name": "stderr",
     "output_type": "stream",
     "text": [
      "/home/miikey_lol/.local/lib/python3.10/site-packages/sklearn/linear_model/_logistic.py:460: ConvergenceWarning: lbfgs failed to converge (status=1):\n",
      "STOP: TOTAL NO. of ITERATIONS REACHED LIMIT.\n",
      "\n",
      "Increase the number of iterations (max_iter) or scale the data as shown in:\n",
      "    https://scikit-learn.org/stable/modules/preprocessing.html\n",
      "Please also refer to the documentation for alternative solver options:\n",
      "    https://scikit-learn.org/stable/modules/linear_model.html#logistic-regression\n",
      "  n_iter_i = _check_optimize_result(\n",
      "/home/miikey_lol/.local/lib/python3.10/site-packages/sklearn/metrics/_classification.py:2922: UserWarning: The y_pred values do not sum to one. Starting from 1.5 thiswill result in an error.\n",
      "  warnings.warn(\n"
     ]
    },
    {
     "name": "stdout",
     "output_type": "stream",
     "text": [
      "num_samples: [2112, 4224, 6336, 8448, 10559, 12670, 14781, 16892, 19003, 21114, 23225, 25336, 27447, 29558, 31669]\n",
      "knn_accuracies: [0.5712391057218643, 0.6695244410761653, 0.7122963243652899, 0.7429897688518378, 0.7554945054945055, 0.7691360363774157, 0.7787514209928003, 0.7877510420613869, 0.7952349374763168, 0.8000189465706707, 0.8053239863584691, 0.8099658961727927, 0.8150341038272073, 0.8185865858279652, 0.821949602122016]\n",
      "lgr_accuracies: [0.7366426676771505, 0.8104395604395604, 0.8402330428192497, 0.8527851458885941, 0.8639636225843123, 0.8726316786661614, 0.879784009094354, 0.884331186055324, 0.8880257673361122, 0.8902519893899205, 0.8940886699507389, 0.8971201212580523, 0.8983042819249716, 0.900909435392194, 0.9029935581659719]\n",
      "knn_losses: [6.29129793386976, 4.513130257780753, 3.9331587982676846, 3.5149731302320473, 3.2235603659379364, 3.02503806282649, 2.8771160315283812, 2.7684384412458245, 2.6233634277119653, 2.5374253122278354, 2.434208054932331, 2.3457035293112245, 2.274770728154711, 2.233345197143674, 2.223447498875895]\n",
      "lgr_losses: [1.3684780554067046, 0.9271987982518046, 0.7573565550524998, 0.66160376527364, 0.5979237557930648, 0.555361195668599, 0.521968925353168, 0.4964697929778308, 0.47328235041606376, 0.45636431164323327, 0.43931705836944157, 0.42634375615263886, 0.415573963603361, 0.4041870139688768, 0.3956672035773474]\n",
      "knn_training_times: [0.0006830692291259766, 0.0011737346649169922, 0.0015690326690673828, 0.0019927024841308594, 0.0023572444915771484, 0.0026857852935791016, 0.003070354461669922, 0.003828287124633789, 0.003988027572631836, 0.004853725433349609, 0.004773378372192383, 0.0058705806732177734, 0.005707740783691406, 0.006423234939575195, 0.0067522525787353516]\n",
      "lgr_training_times: [2.3986215591430664, 4.427042007446289, 5.8483405113220215, 7.475382328033447, 9.23828935623169, 11.888451099395752, 11.817423820495605, 11.712364435195923, 12.87743854522705, 14.201250553131104, 15.160300016403198, 15.379838705062866, 18.019740343093872, 18.982895135879517, 18.398792028427124]\n",
      "knn_inference_times: [0.3621714115142822, 0.5278475284576416, 0.733877420425415, 0.839763879776001, 0.993302583694458, 1.1751487255096436, 1.2853302955627441, 1.4842393398284912, 1.5803146362304688, 1.8220088481903076, 1.9674711227416992, 2.103940486907959, 2.2421650886535645, 2.4844400882720947, 2.683704137802124]\n",
      "lgr_inference_times: [0.05351686477661133, 0.0496220588684082, 0.05375385284423828, 0.05952763557434082, 0.0487971305847168, 0.050379276275634766, 0.04938554763793945, 0.03707289695739746, 0.05933213233947754, 0.05047726631164551, 0.05240464210510254, 0.049063920974731445, 0.04932999610900879, 0.05770158767700195, 0.052603721618652344]\n",
      "Portion 16/40\n"
     ]
    },
    {
     "name": "stderr",
     "output_type": "stream",
     "text": [
      "/home/miikey_lol/.local/lib/python3.10/site-packages/sklearn/linear_model/_logistic.py:460: ConvergenceWarning: lbfgs failed to converge (status=1):\n",
      "STOP: TOTAL NO. of ITERATIONS REACHED LIMIT.\n",
      "\n",
      "Increase the number of iterations (max_iter) or scale the data as shown in:\n",
      "    https://scikit-learn.org/stable/modules/preprocessing.html\n",
      "Please also refer to the documentation for alternative solver options:\n",
      "    https://scikit-learn.org/stable/modules/linear_model.html#logistic-regression\n",
      "  n_iter_i = _check_optimize_result(\n",
      "/home/miikey_lol/.local/lib/python3.10/site-packages/sklearn/metrics/_classification.py:2922: UserWarning: The y_pred values do not sum to one. Starting from 1.5 thiswill result in an error.\n",
      "  warnings.warn(\n"
     ]
    },
    {
     "name": "stdout",
     "output_type": "stream",
     "text": [
      "num_samples: [2112, 4224, 6336, 8448, 10559, 12670, 14781, 16892, 19003, 21114, 23225, 25336, 27447, 29558, 31669, 33780]\n",
      "knn_accuracies: [0.5712391057218643, 0.6695244410761653, 0.7122963243652899, 0.7429897688518378, 0.7554945054945055, 0.7691360363774157, 0.7787514209928003, 0.7877510420613869, 0.7952349374763168, 0.8000189465706707, 0.8053239863584691, 0.8099658961727927, 0.8150341038272073, 0.8185865858279652, 0.821949602122016, 0.823986358469117]\n",
      "lgr_accuracies: [0.7366426676771505, 0.8104395604395604, 0.8402330428192497, 0.8527851458885941, 0.8639636225843123, 0.8726316786661614, 0.879784009094354, 0.884331186055324, 0.8880257673361122, 0.8902519893899205, 0.8940886699507389, 0.8971201212580523, 0.8983042819249716, 0.900909435392194, 0.9029935581659719, 0.9041777188328912]\n",
      "knn_losses: [6.29129793386976, 4.513130257780753, 3.9331587982676846, 3.5149731302320473, 3.2235603659379364, 3.02503806282649, 2.8771160315283812, 2.7684384412458245, 2.6233634277119653, 2.5374253122278354, 2.434208054932331, 2.3457035293112245, 2.274770728154711, 2.233345197143674, 2.223447498875895, 2.1956008399883205]\n",
      "lgr_losses: [1.3684780554067046, 0.9271987982518046, 0.7573565550524998, 0.66160376527364, 0.5979237557930648, 0.555361195668599, 0.521968925353168, 0.4964697929778308, 0.47328235041606376, 0.45636431164323327, 0.43931705836944157, 0.42634375615263886, 0.415573963603361, 0.4041870139688768, 0.3956672035773474, 0.38552185827501256]\n",
      "knn_training_times: [0.0006830692291259766, 0.0011737346649169922, 0.0015690326690673828, 0.0019927024841308594, 0.0023572444915771484, 0.0026857852935791016, 0.003070354461669922, 0.003828287124633789, 0.003988027572631836, 0.004853725433349609, 0.004773378372192383, 0.0058705806732177734, 0.005707740783691406, 0.006423234939575195, 0.0067522525787353516, 0.007079601287841797]\n",
      "lgr_training_times: [2.3986215591430664, 4.427042007446289, 5.8483405113220215, 7.475382328033447, 9.23828935623169, 11.888451099395752, 11.817423820495605, 11.712364435195923, 12.87743854522705, 14.201250553131104, 15.160300016403198, 15.379838705062866, 18.019740343093872, 18.982895135879517, 18.398792028427124, 20.4948832988739]\n",
      "knn_inference_times: [0.3621714115142822, 0.5278475284576416, 0.733877420425415, 0.839763879776001, 0.993302583694458, 1.1751487255096436, 1.2853302955627441, 1.4842393398284912, 1.5803146362304688, 1.8220088481903076, 1.9674711227416992, 2.103940486907959, 2.2421650886535645, 2.4844400882720947, 2.683704137802124, 2.649468421936035]\n",
      "lgr_inference_times: [0.05351686477661133, 0.0496220588684082, 0.05375385284423828, 0.05952763557434082, 0.0487971305847168, 0.050379276275634766, 0.04938554763793945, 0.03707289695739746, 0.05933213233947754, 0.05047726631164551, 0.05240464210510254, 0.049063920974731445, 0.04932999610900879, 0.05770158767700195, 0.052603721618652344, 0.04875779151916504]\n",
      "Portion 17/40\n"
     ]
    },
    {
     "name": "stderr",
     "output_type": "stream",
     "text": [
      "/home/miikey_lol/.local/lib/python3.10/site-packages/sklearn/linear_model/_logistic.py:460: ConvergenceWarning: lbfgs failed to converge (status=1):\n",
      "STOP: TOTAL NO. of ITERATIONS REACHED LIMIT.\n",
      "\n",
      "Increase the number of iterations (max_iter) or scale the data as shown in:\n",
      "    https://scikit-learn.org/stable/modules/preprocessing.html\n",
      "Please also refer to the documentation for alternative solver options:\n",
      "    https://scikit-learn.org/stable/modules/linear_model.html#logistic-regression\n",
      "  n_iter_i = _check_optimize_result(\n",
      "/home/miikey_lol/.local/lib/python3.10/site-packages/sklearn/metrics/_classification.py:2922: UserWarning: The y_pred values do not sum to one. Starting from 1.5 thiswill result in an error.\n",
      "  warnings.warn(\n"
     ]
    },
    {
     "name": "stdout",
     "output_type": "stream",
     "text": [
      "num_samples: [2112, 4224, 6336, 8448, 10559, 12670, 14781, 16892, 19003, 21114, 23225, 25336, 27447, 29558, 31669, 33780, 35891]\n",
      "knn_accuracies: [0.5712391057218643, 0.6695244410761653, 0.7122963243652899, 0.7429897688518378, 0.7554945054945055, 0.7691360363774157, 0.7787514209928003, 0.7877510420613869, 0.7952349374763168, 0.8000189465706707, 0.8053239863584691, 0.8099658961727927, 0.8150341038272073, 0.8185865858279652, 0.821949602122016, 0.823986358469117, 0.8258336491095112]\n",
      "lgr_accuracies: [0.7366426676771505, 0.8104395604395604, 0.8402330428192497, 0.8527851458885941, 0.8639636225843123, 0.8726316786661614, 0.879784009094354, 0.884331186055324, 0.8880257673361122, 0.8902519893899205, 0.8940886699507389, 0.8971201212580523, 0.8983042819249716, 0.900909435392194, 0.9029935581659719, 0.9041777188328912, 0.9058355437665783]\n",
      "knn_losses: [6.29129793386976, 4.513130257780753, 3.9331587982676846, 3.5149731302320473, 3.2235603659379364, 3.02503806282649, 2.8771160315283812, 2.7684384412458245, 2.6233634277119653, 2.5374253122278354, 2.434208054932331, 2.3457035293112245, 2.274770728154711, 2.233345197143674, 2.223447498875895, 2.1956008399883205, 2.148103455399777]\n",
      "lgr_losses: [1.3684780554067046, 0.9271987982518046, 0.7573565550524998, 0.66160376527364, 0.5979237557930648, 0.555361195668599, 0.521968925353168, 0.4964697929778308, 0.47328235041606376, 0.45636431164323327, 0.43931705836944157, 0.42634375615263886, 0.415573963603361, 0.4041870139688768, 0.3956672035773474, 0.38552185827501256, 0.37895012246699333]\n",
      "knn_training_times: [0.0006830692291259766, 0.0011737346649169922, 0.0015690326690673828, 0.0019927024841308594, 0.0023572444915771484, 0.0026857852935791016, 0.003070354461669922, 0.003828287124633789, 0.003988027572631836, 0.004853725433349609, 0.004773378372192383, 0.0058705806732177734, 0.005707740783691406, 0.006423234939575195, 0.0067522525787353516, 0.007079601287841797, 0.007592439651489258]\n",
      "lgr_training_times: [2.3986215591430664, 4.427042007446289, 5.8483405113220215, 7.475382328033447, 9.23828935623169, 11.888451099395752, 11.817423820495605, 11.712364435195923, 12.87743854522705, 14.201250553131104, 15.160300016403198, 15.379838705062866, 18.019740343093872, 18.982895135879517, 18.398792028427124, 20.4948832988739, 20.359225749969482]\n",
      "knn_inference_times: [0.3621714115142822, 0.5278475284576416, 0.733877420425415, 0.839763879776001, 0.993302583694458, 1.1751487255096436, 1.2853302955627441, 1.4842393398284912, 1.5803146362304688, 1.8220088481903076, 1.9674711227416992, 2.103940486907959, 2.2421650886535645, 2.4844400882720947, 2.683704137802124, 2.649468421936035, 2.8881947994232178]\n",
      "lgr_inference_times: [0.05351686477661133, 0.0496220588684082, 0.05375385284423828, 0.05952763557434082, 0.0487971305847168, 0.050379276275634766, 0.04938554763793945, 0.03707289695739746, 0.05933213233947754, 0.05047726631164551, 0.05240464210510254, 0.049063920974731445, 0.04932999610900879, 0.05770158767700195, 0.052603721618652344, 0.04875779151916504, 0.0522310733795166]\n",
      "Portion 18/40\n"
     ]
    },
    {
     "name": "stderr",
     "output_type": "stream",
     "text": [
      "/home/miikey_lol/.local/lib/python3.10/site-packages/sklearn/linear_model/_logistic.py:460: ConvergenceWarning: lbfgs failed to converge (status=1):\n",
      "STOP: TOTAL NO. of ITERATIONS REACHED LIMIT.\n",
      "\n",
      "Increase the number of iterations (max_iter) or scale the data as shown in:\n",
      "    https://scikit-learn.org/stable/modules/preprocessing.html\n",
      "Please also refer to the documentation for alternative solver options:\n",
      "    https://scikit-learn.org/stable/modules/linear_model.html#logistic-regression\n",
      "  n_iter_i = _check_optimize_result(\n",
      "/home/miikey_lol/.local/lib/python3.10/site-packages/sklearn/metrics/_classification.py:2922: UserWarning: The y_pred values do not sum to one. Starting from 1.5 thiswill result in an error.\n",
      "  warnings.warn(\n",
      "/home/miikey_lol/.local/lib/python3.10/site-packages/sklearn/metrics/_classification.py:2922: UserWarning: The y_pred values do not sum to one. Starting from 1.5 thiswill result in an error.\n",
      "  warnings.warn(\n"
     ]
    },
    {
     "name": "stdout",
     "output_type": "stream",
     "text": [
      "num_samples: [2112, 4224, 6336, 8448, 10559, 12670, 14781, 16892, 19003, 21114, 23225, 25336, 27447, 29558, 31669, 33780, 35891, 38002]\n",
      "knn_accuracies: [0.5712391057218643, 0.6695244410761653, 0.7122963243652899, 0.7429897688518378, 0.7554945054945055, 0.7691360363774157, 0.7787514209928003, 0.7877510420613869, 0.7952349374763168, 0.8000189465706707, 0.8053239863584691, 0.8099658961727927, 0.8150341038272073, 0.8185865858279652, 0.821949602122016, 0.823986358469117, 0.8258336491095112, 0.82981242895036]\n",
      "lgr_accuracies: [0.7366426676771505, 0.8104395604395604, 0.8402330428192497, 0.8527851458885941, 0.8639636225843123, 0.8726316786661614, 0.879784009094354, 0.884331186055324, 0.8880257673361122, 0.8902519893899205, 0.8940886699507389, 0.8971201212580523, 0.8983042819249716, 0.900909435392194, 0.9029935581659719, 0.9041777188328912, 0.9058355437665783, 0.9072091701402046]\n",
      "knn_losses: [6.29129793386976, 4.513130257780753, 3.9331587982676846, 3.5149731302320473, 3.2235603659379364, 3.02503806282649, 2.8771160315283812, 2.7684384412458245, 2.6233634277119653, 2.5374253122278354, 2.434208054932331, 2.3457035293112245, 2.274770728154711, 2.233345197143674, 2.223447498875895, 2.1956008399883205, 2.148103455399777, 2.116439101814475]\n",
      "lgr_losses: [1.3684780554067046, 0.9271987982518046, 0.7573565550524998, 0.66160376527364, 0.5979237557930648, 0.555361195668599, 0.521968925353168, 0.4964697929778308, 0.47328235041606376, 0.45636431164323327, 0.43931705836944157, 0.42634375615263886, 0.415573963603361, 0.4041870139688768, 0.3956672035773474, 0.38552185827501256, 0.37895012246699333, 0.3718635323274908]\n",
      "knn_training_times: [0.0006830692291259766, 0.0011737346649169922, 0.0015690326690673828, 0.0019927024841308594, 0.0023572444915771484, 0.0026857852935791016, 0.003070354461669922, 0.003828287124633789, 0.003988027572631836, 0.004853725433349609, 0.004773378372192383, 0.0058705806732177734, 0.005707740783691406, 0.006423234939575195, 0.0067522525787353516, 0.007079601287841797, 0.007592439651489258, 0.007714748382568359]\n",
      "lgr_training_times: [2.3986215591430664, 4.427042007446289, 5.8483405113220215, 7.475382328033447, 9.23828935623169, 11.888451099395752, 11.817423820495605, 11.712364435195923, 12.87743854522705, 14.201250553131104, 15.160300016403198, 15.379838705062866, 18.019740343093872, 18.982895135879517, 18.398792028427124, 20.4948832988739, 20.359225749969482, 21.03550362586975]\n",
      "knn_inference_times: [0.3621714115142822, 0.5278475284576416, 0.733877420425415, 0.839763879776001, 0.993302583694458, 1.1751487255096436, 1.2853302955627441, 1.4842393398284912, 1.5803146362304688, 1.8220088481903076, 1.9674711227416992, 2.103940486907959, 2.2421650886535645, 2.4844400882720947, 2.683704137802124, 2.649468421936035, 2.8881947994232178, 3.1869611740112305]\n",
      "lgr_inference_times: [0.05351686477661133, 0.0496220588684082, 0.05375385284423828, 0.05952763557434082, 0.0487971305847168, 0.050379276275634766, 0.04938554763793945, 0.03707289695739746, 0.05933213233947754, 0.05047726631164551, 0.05240464210510254, 0.049063920974731445, 0.04932999610900879, 0.05770158767700195, 0.052603721618652344, 0.04875779151916504, 0.0522310733795166, 0.05184483528137207]\n",
      "Portion 19/40\n"
     ]
    },
    {
     "name": "stderr",
     "output_type": "stream",
     "text": [
      "/home/miikey_lol/.local/lib/python3.10/site-packages/sklearn/linear_model/_logistic.py:460: ConvergenceWarning: lbfgs failed to converge (status=1):\n",
      "STOP: TOTAL NO. of ITERATIONS REACHED LIMIT.\n",
      "\n",
      "Increase the number of iterations (max_iter) or scale the data as shown in:\n",
      "    https://scikit-learn.org/stable/modules/preprocessing.html\n",
      "Please also refer to the documentation for alternative solver options:\n",
      "    https://scikit-learn.org/stable/modules/linear_model.html#logistic-regression\n",
      "  n_iter_i = _check_optimize_result(\n",
      "/home/miikey_lol/.local/lib/python3.10/site-packages/sklearn/metrics/_classification.py:2922: UserWarning: The y_pred values do not sum to one. Starting from 1.5 thiswill result in an error.\n",
      "  warnings.warn(\n",
      "/home/miikey_lol/.local/lib/python3.10/site-packages/sklearn/metrics/_classification.py:2922: UserWarning: The y_pred values do not sum to one. Starting from 1.5 thiswill result in an error.\n",
      "  warnings.warn(\n"
     ]
    },
    {
     "name": "stdout",
     "output_type": "stream",
     "text": [
      "num_samples: [2112, 4224, 6336, 8448, 10559, 12670, 14781, 16892, 19003, 21114, 23225, 25336, 27447, 29558, 31669, 33780, 35891, 38002, 40113]\n",
      "knn_accuracies: [0.5712391057218643, 0.6695244410761653, 0.7122963243652899, 0.7429897688518378, 0.7554945054945055, 0.7691360363774157, 0.7787514209928003, 0.7877510420613869, 0.7952349374763168, 0.8000189465706707, 0.8053239863584691, 0.8099658961727927, 0.8150341038272073, 0.8185865858279652, 0.821949602122016, 0.823986358469117, 0.8258336491095112, 0.82981242895036, 0.8321807502841986]\n",
      "lgr_accuracies: [0.7366426676771505, 0.8104395604395604, 0.8402330428192497, 0.8527851458885941, 0.8639636225843123, 0.8726316786661614, 0.879784009094354, 0.884331186055324, 0.8880257673361122, 0.8902519893899205, 0.8940886699507389, 0.8971201212580523, 0.8983042819249716, 0.900909435392194, 0.9029935581659719, 0.9041777188328912, 0.9058355437665783, 0.9072091701402046, 0.9084406972338007]\n",
      "knn_losses: [6.29129793386976, 4.513130257780753, 3.9331587982676846, 3.5149731302320473, 3.2235603659379364, 3.02503806282649, 2.8771160315283812, 2.7684384412458245, 2.6233634277119653, 2.5374253122278354, 2.434208054932331, 2.3457035293112245, 2.274770728154711, 2.233345197143674, 2.223447498875895, 2.1956008399883205, 2.148103455399777, 2.116439101814475, 2.0802079055133023]\n",
      "lgr_losses: [1.3684780554067046, 0.9271987982518046, 0.7573565550524998, 0.66160376527364, 0.5979237557930648, 0.555361195668599, 0.521968925353168, 0.4964697929778308, 0.47328235041606376, 0.45636431164323327, 0.43931705836944157, 0.42634375615263886, 0.415573963603361, 0.4041870139688768, 0.3956672035773474, 0.38552185827501256, 0.37895012246699333, 0.3718635323274908, 0.3657138485674716]\n",
      "knn_training_times: [0.0006830692291259766, 0.0011737346649169922, 0.0015690326690673828, 0.0019927024841308594, 0.0023572444915771484, 0.0026857852935791016, 0.003070354461669922, 0.003828287124633789, 0.003988027572631836, 0.004853725433349609, 0.004773378372192383, 0.0058705806732177734, 0.005707740783691406, 0.006423234939575195, 0.0067522525787353516, 0.007079601287841797, 0.007592439651489258, 0.007714748382568359, 0.008604764938354492]\n",
      "lgr_training_times: [2.3986215591430664, 4.427042007446289, 5.8483405113220215, 7.475382328033447, 9.23828935623169, 11.888451099395752, 11.817423820495605, 11.712364435195923, 12.87743854522705, 14.201250553131104, 15.160300016403198, 15.379838705062866, 18.019740343093872, 18.982895135879517, 18.398792028427124, 20.4948832988739, 20.359225749969482, 21.03550362586975, 22.83714485168457]\n",
      "knn_inference_times: [0.3621714115142822, 0.5278475284576416, 0.733877420425415, 0.839763879776001, 0.993302583694458, 1.1751487255096436, 1.2853302955627441, 1.4842393398284912, 1.5803146362304688, 1.8220088481903076, 1.9674711227416992, 2.103940486907959, 2.2421650886535645, 2.4844400882720947, 2.683704137802124, 2.649468421936035, 2.8881947994232178, 3.1869611740112305, 3.29239559173584]\n",
      "lgr_inference_times: [0.05351686477661133, 0.0496220588684082, 0.05375385284423828, 0.05952763557434082, 0.0487971305847168, 0.050379276275634766, 0.04938554763793945, 0.03707289695739746, 0.05933213233947754, 0.05047726631164551, 0.05240464210510254, 0.049063920974731445, 0.04932999610900879, 0.05770158767700195, 0.052603721618652344, 0.04875779151916504, 0.0522310733795166, 0.05184483528137207, 0.04898262023925781]\n",
      "Portion 20/40\n"
     ]
    },
    {
     "name": "stderr",
     "output_type": "stream",
     "text": [
      "/home/miikey_lol/.local/lib/python3.10/site-packages/sklearn/linear_model/_logistic.py:460: ConvergenceWarning: lbfgs failed to converge (status=1):\n",
      "STOP: TOTAL NO. of ITERATIONS REACHED LIMIT.\n",
      "\n",
      "Increase the number of iterations (max_iter) or scale the data as shown in:\n",
      "    https://scikit-learn.org/stable/modules/preprocessing.html\n",
      "Please also refer to the documentation for alternative solver options:\n",
      "    https://scikit-learn.org/stable/modules/linear_model.html#logistic-regression\n",
      "  n_iter_i = _check_optimize_result(\n",
      "/home/miikey_lol/.local/lib/python3.10/site-packages/sklearn/metrics/_classification.py:2922: UserWarning: The y_pred values do not sum to one. Starting from 1.5 thiswill result in an error.\n",
      "  warnings.warn(\n",
      "/home/miikey_lol/.local/lib/python3.10/site-packages/sklearn/metrics/_classification.py:2922: UserWarning: The y_pred values do not sum to one. Starting from 1.5 thiswill result in an error.\n",
      "  warnings.warn(\n"
     ]
    },
    {
     "name": "stdout",
     "output_type": "stream",
     "text": [
      "num_samples: [2112, 4224, 6336, 8448, 10559, 12670, 14781, 16892, 19003, 21114, 23225, 25336, 27447, 29558, 31669, 33780, 35891, 38002, 40113, 42224]\n",
      "knn_accuracies: [0.5712391057218643, 0.6695244410761653, 0.7122963243652899, 0.7429897688518378, 0.7554945054945055, 0.7691360363774157, 0.7787514209928003, 0.7877510420613869, 0.7952349374763168, 0.8000189465706707, 0.8053239863584691, 0.8099658961727927, 0.8150341038272073, 0.8185865858279652, 0.821949602122016, 0.823986358469117, 0.8258336491095112, 0.82981242895036, 0.8321807502841986, 0.8336964759378552]\n",
      "lgr_accuracies: [0.7366426676771505, 0.8104395604395604, 0.8402330428192497, 0.8527851458885941, 0.8639636225843123, 0.8726316786661614, 0.879784009094354, 0.884331186055324, 0.8880257673361122, 0.8902519893899205, 0.8940886699507389, 0.8971201212580523, 0.8983042819249716, 0.900909435392194, 0.9029935581659719, 0.9041777188328912, 0.9058355437665783, 0.9072091701402046, 0.9084406972338007, 0.910240621447518]\n",
      "knn_losses: [6.29129793386976, 4.513130257780753, 3.9331587982676846, 3.5149731302320473, 3.2235603659379364, 3.02503806282649, 2.8771160315283812, 2.7684384412458245, 2.6233634277119653, 2.5374253122278354, 2.434208054932331, 2.3457035293112245, 2.274770728154711, 2.233345197143674, 2.223447498875895, 2.1956008399883205, 2.148103455399777, 2.116439101814475, 2.0802079055133023, 2.046747010971178]\n",
      "lgr_losses: [1.3684780554067046, 0.9271987982518046, 0.7573565550524998, 0.66160376527364, 0.5979237557930648, 0.555361195668599, 0.521968925353168, 0.4964697929778308, 0.47328235041606376, 0.45636431164323327, 0.43931705836944157, 0.42634375615263886, 0.415573963603361, 0.4041870139688768, 0.3956672035773474, 0.38552185827501256, 0.37895012246699333, 0.3718635323274908, 0.3657138485674716, 0.3596178006310531]\n",
      "knn_training_times: [0.0006830692291259766, 0.0011737346649169922, 0.0015690326690673828, 0.0019927024841308594, 0.0023572444915771484, 0.0026857852935791016, 0.003070354461669922, 0.003828287124633789, 0.003988027572631836, 0.004853725433349609, 0.004773378372192383, 0.0058705806732177734, 0.005707740783691406, 0.006423234939575195, 0.0067522525787353516, 0.007079601287841797, 0.007592439651489258, 0.007714748382568359, 0.008604764938354492, 0.008798360824584961]\n",
      "lgr_training_times: [2.3986215591430664, 4.427042007446289, 5.8483405113220215, 7.475382328033447, 9.23828935623169, 11.888451099395752, 11.817423820495605, 11.712364435195923, 12.87743854522705, 14.201250553131104, 15.160300016403198, 15.379838705062866, 18.019740343093872, 18.982895135879517, 18.398792028427124, 20.4948832988739, 20.359225749969482, 21.03550362586975, 22.83714485168457, 24.008208513259888]\n",
      "knn_inference_times: [0.3621714115142822, 0.5278475284576416, 0.733877420425415, 0.839763879776001, 0.993302583694458, 1.1751487255096436, 1.2853302955627441, 1.4842393398284912, 1.5803146362304688, 1.8220088481903076, 1.9674711227416992, 2.103940486907959, 2.2421650886535645, 2.4844400882720947, 2.683704137802124, 2.649468421936035, 2.8881947994232178, 3.1869611740112305, 3.29239559173584, 3.410515069961548]\n",
      "lgr_inference_times: [0.05351686477661133, 0.0496220588684082, 0.05375385284423828, 0.05952763557434082, 0.0487971305847168, 0.050379276275634766, 0.04938554763793945, 0.03707289695739746, 0.05933213233947754, 0.05047726631164551, 0.05240464210510254, 0.049063920974731445, 0.04932999610900879, 0.05770158767700195, 0.052603721618652344, 0.04875779151916504, 0.0522310733795166, 0.05184483528137207, 0.04898262023925781, 0.05127358436584473]\n",
      "Portion 21/40\n"
     ]
    },
    {
     "name": "stderr",
     "output_type": "stream",
     "text": [
      "/home/miikey_lol/.local/lib/python3.10/site-packages/sklearn/linear_model/_logistic.py:460: ConvergenceWarning: lbfgs failed to converge (status=1):\n",
      "STOP: TOTAL NO. of ITERATIONS REACHED LIMIT.\n",
      "\n",
      "Increase the number of iterations (max_iter) or scale the data as shown in:\n",
      "    https://scikit-learn.org/stable/modules/preprocessing.html\n",
      "Please also refer to the documentation for alternative solver options:\n",
      "    https://scikit-learn.org/stable/modules/linear_model.html#logistic-regression\n",
      "  n_iter_i = _check_optimize_result(\n",
      "/home/miikey_lol/.local/lib/python3.10/site-packages/sklearn/metrics/_classification.py:2922: UserWarning: The y_pred values do not sum to one. Starting from 1.5 thiswill result in an error.\n",
      "  warnings.warn(\n",
      "/home/miikey_lol/.local/lib/python3.10/site-packages/sklearn/metrics/_classification.py:2922: UserWarning: The y_pred values do not sum to one. Starting from 1.5 thiswill result in an error.\n",
      "  warnings.warn(\n"
     ]
    },
    {
     "name": "stdout",
     "output_type": "stream",
     "text": [
      "num_samples: [2112, 4224, 6336, 8448, 10559, 12670, 14781, 16892, 19003, 21114, 23225, 25336, 27447, 29558, 31669, 33780, 35891, 38002, 40113, 42224, 44335]\n",
      "knn_accuracies: [0.5712391057218643, 0.6695244410761653, 0.7122963243652899, 0.7429897688518378, 0.7554945054945055, 0.7691360363774157, 0.7787514209928003, 0.7877510420613869, 0.7952349374763168, 0.8000189465706707, 0.8053239863584691, 0.8099658961727927, 0.8150341038272073, 0.8185865858279652, 0.821949602122016, 0.823986358469117, 0.8258336491095112, 0.82981242895036, 0.8321807502841986, 0.8336964759378552, 0.8357805987116332]\n",
      "lgr_accuracies: [0.7366426676771505, 0.8104395604395604, 0.8402330428192497, 0.8527851458885941, 0.8639636225843123, 0.8726316786661614, 0.879784009094354, 0.884331186055324, 0.8880257673361122, 0.8902519893899205, 0.8940886699507389, 0.8971201212580523, 0.8983042819249716, 0.900909435392194, 0.9029935581659719, 0.9041777188328912, 0.9058355437665783, 0.9072091701402046, 0.9084406972338007, 0.910240621447518, 0.9116142478211444]\n",
      "knn_losses: [6.29129793386976, 4.513130257780753, 3.9331587982676846, 3.5149731302320473, 3.2235603659379364, 3.02503806282649, 2.8771160315283812, 2.7684384412458245, 2.6233634277119653, 2.5374253122278354, 2.434208054932331, 2.3457035293112245, 2.274770728154711, 2.233345197143674, 2.223447498875895, 2.1956008399883205, 2.148103455399777, 2.116439101814475, 2.0802079055133023, 2.046747010971178, 2.027908695880662]\n",
      "lgr_losses: [1.3684780554067046, 0.9271987982518046, 0.7573565550524998, 0.66160376527364, 0.5979237557930648, 0.555361195668599, 0.521968925353168, 0.4964697929778308, 0.47328235041606376, 0.45636431164323327, 0.43931705836944157, 0.42634375615263886, 0.415573963603361, 0.4041870139688768, 0.3956672035773474, 0.38552185827501256, 0.37895012246699333, 0.3718635323274908, 0.3657138485674716, 0.3596178006310531, 0.3549352403391511]\n",
      "knn_training_times: [0.0006830692291259766, 0.0011737346649169922, 0.0015690326690673828, 0.0019927024841308594, 0.0023572444915771484, 0.0026857852935791016, 0.003070354461669922, 0.003828287124633789, 0.003988027572631836, 0.004853725433349609, 0.004773378372192383, 0.0058705806732177734, 0.005707740783691406, 0.006423234939575195, 0.0067522525787353516, 0.007079601287841797, 0.007592439651489258, 0.007714748382568359, 0.008604764938354492, 0.008798360824584961, 0.00917959213256836]\n",
      "lgr_training_times: [2.3986215591430664, 4.427042007446289, 5.8483405113220215, 7.475382328033447, 9.23828935623169, 11.888451099395752, 11.817423820495605, 11.712364435195923, 12.87743854522705, 14.201250553131104, 15.160300016403198, 15.379838705062866, 18.019740343093872, 18.982895135879517, 18.398792028427124, 20.4948832988739, 20.359225749969482, 21.03550362586975, 22.83714485168457, 24.008208513259888, 25.406269311904907]\n",
      "knn_inference_times: [0.3621714115142822, 0.5278475284576416, 0.733877420425415, 0.839763879776001, 0.993302583694458, 1.1751487255096436, 1.2853302955627441, 1.4842393398284912, 1.5803146362304688, 1.8220088481903076, 1.9674711227416992, 2.103940486907959, 2.2421650886535645, 2.4844400882720947, 2.683704137802124, 2.649468421936035, 2.8881947994232178, 3.1869611740112305, 3.29239559173584, 3.410515069961548, 3.590003252029419]\n",
      "lgr_inference_times: [0.05351686477661133, 0.0496220588684082, 0.05375385284423828, 0.05952763557434082, 0.0487971305847168, 0.050379276275634766, 0.04938554763793945, 0.03707289695739746, 0.05933213233947754, 0.05047726631164551, 0.05240464210510254, 0.049063920974731445, 0.04932999610900879, 0.05770158767700195, 0.052603721618652344, 0.04875779151916504, 0.0522310733795166, 0.05184483528137207, 0.04898262023925781, 0.05127358436584473, 0.05565690994262695]\n",
      "Portion 22/40\n"
     ]
    },
    {
     "name": "stderr",
     "output_type": "stream",
     "text": [
      "/home/miikey_lol/.local/lib/python3.10/site-packages/sklearn/linear_model/_logistic.py:460: ConvergenceWarning: lbfgs failed to converge (status=1):\n",
      "STOP: TOTAL NO. of ITERATIONS REACHED LIMIT.\n",
      "\n",
      "Increase the number of iterations (max_iter) or scale the data as shown in:\n",
      "    https://scikit-learn.org/stable/modules/preprocessing.html\n",
      "Please also refer to the documentation for alternative solver options:\n",
      "    https://scikit-learn.org/stable/modules/linear_model.html#logistic-regression\n",
      "  n_iter_i = _check_optimize_result(\n",
      "/home/miikey_lol/.local/lib/python3.10/site-packages/sklearn/metrics/_classification.py:2922: UserWarning: The y_pred values do not sum to one. Starting from 1.5 thiswill result in an error.\n",
      "  warnings.warn(\n",
      "/home/miikey_lol/.local/lib/python3.10/site-packages/sklearn/metrics/_classification.py:2922: UserWarning: The y_pred values do not sum to one. Starting from 1.5 thiswill result in an error.\n",
      "  warnings.warn(\n"
     ]
    },
    {
     "name": "stdout",
     "output_type": "stream",
     "text": [
      "num_samples: [2112, 4224, 6336, 8448, 10559, 12670, 14781, 16892, 19003, 21114, 23225, 25336, 27447, 29558, 31669, 33780, 35891, 38002, 40113, 42224, 44335, 46446]\n",
      "knn_accuracies: [0.5712391057218643, 0.6695244410761653, 0.7122963243652899, 0.7429897688518378, 0.7554945054945055, 0.7691360363774157, 0.7787514209928003, 0.7877510420613869, 0.7952349374763168, 0.8000189465706707, 0.8053239863584691, 0.8099658961727927, 0.8150341038272073, 0.8185865858279652, 0.821949602122016, 0.823986358469117, 0.8258336491095112, 0.82981242895036, 0.8321807502841986, 0.8336964759378552, 0.8357805987116332, 0.8382910193255021]\n",
      "lgr_accuracies: [0.7366426676771505, 0.8104395604395604, 0.8402330428192497, 0.8527851458885941, 0.8639636225843123, 0.8726316786661614, 0.879784009094354, 0.884331186055324, 0.8880257673361122, 0.8902519893899205, 0.8940886699507389, 0.8971201212580523, 0.8983042819249716, 0.900909435392194, 0.9029935581659719, 0.9041777188328912, 0.9058355437665783, 0.9072091701402046, 0.9084406972338007, 0.910240621447518, 0.9116142478211444, 0.9121826449412657]\n",
      "knn_losses: [6.29129793386976, 4.513130257780753, 3.9331587982676846, 3.5149731302320473, 3.2235603659379364, 3.02503806282649, 2.8771160315283812, 2.7684384412458245, 2.6233634277119653, 2.5374253122278354, 2.434208054932331, 2.3457035293112245, 2.274770728154711, 2.233345197143674, 2.223447498875895, 2.1956008399883205, 2.148103455399777, 2.116439101814475, 2.0802079055133023, 2.046747010971178, 2.027908695880662, 1.9923050493926489]\n",
      "lgr_losses: [1.3684780554067046, 0.9271987982518046, 0.7573565550524998, 0.66160376527364, 0.5979237557930648, 0.555361195668599, 0.521968925353168, 0.4964697929778308, 0.47328235041606376, 0.45636431164323327, 0.43931705836944157, 0.42634375615263886, 0.415573963603361, 0.4041870139688768, 0.3956672035773474, 0.38552185827501256, 0.37895012246699333, 0.3718635323274908, 0.3657138485674716, 0.3596178006310531, 0.3549352403391511, 0.3506897094336832]\n",
      "knn_training_times: [0.0006830692291259766, 0.0011737346649169922, 0.0015690326690673828, 0.0019927024841308594, 0.0023572444915771484, 0.0026857852935791016, 0.003070354461669922, 0.003828287124633789, 0.003988027572631836, 0.004853725433349609, 0.004773378372192383, 0.0058705806732177734, 0.005707740783691406, 0.006423234939575195, 0.0067522525787353516, 0.007079601287841797, 0.007592439651489258, 0.007714748382568359, 0.008604764938354492, 0.008798360824584961, 0.00917959213256836, 0.009288549423217773]\n",
      "lgr_training_times: [2.3986215591430664, 4.427042007446289, 5.8483405113220215, 7.475382328033447, 9.23828935623169, 11.888451099395752, 11.817423820495605, 11.712364435195923, 12.87743854522705, 14.201250553131104, 15.160300016403198, 15.379838705062866, 18.019740343093872, 18.982895135879517, 18.398792028427124, 20.4948832988739, 20.359225749969482, 21.03550362586975, 22.83714485168457, 24.008208513259888, 25.406269311904907, 25.4820499420166]\n",
      "knn_inference_times: [0.3621714115142822, 0.5278475284576416, 0.733877420425415, 0.839763879776001, 0.993302583694458, 1.1751487255096436, 1.2853302955627441, 1.4842393398284912, 1.5803146362304688, 1.8220088481903076, 1.9674711227416992, 2.103940486907959, 2.2421650886535645, 2.4844400882720947, 2.683704137802124, 2.649468421936035, 2.8881947994232178, 3.1869611740112305, 3.29239559173584, 3.410515069961548, 3.590003252029419, 3.8970179557800293]\n",
      "lgr_inference_times: [0.05351686477661133, 0.0496220588684082, 0.05375385284423828, 0.05952763557434082, 0.0487971305847168, 0.050379276275634766, 0.04938554763793945, 0.03707289695739746, 0.05933213233947754, 0.05047726631164551, 0.05240464210510254, 0.049063920974731445, 0.04932999610900879, 0.05770158767700195, 0.052603721618652344, 0.04875779151916504, 0.0522310733795166, 0.05184483528137207, 0.04898262023925781, 0.05127358436584473, 0.05565690994262695, 0.05303049087524414]\n",
      "Portion 23/40\n"
     ]
    },
    {
     "name": "stderr",
     "output_type": "stream",
     "text": [
      "/home/miikey_lol/.local/lib/python3.10/site-packages/sklearn/linear_model/_logistic.py:460: ConvergenceWarning: lbfgs failed to converge (status=1):\n",
      "STOP: TOTAL NO. of ITERATIONS REACHED LIMIT.\n",
      "\n",
      "Increase the number of iterations (max_iter) or scale the data as shown in:\n",
      "    https://scikit-learn.org/stable/modules/preprocessing.html\n",
      "Please also refer to the documentation for alternative solver options:\n",
      "    https://scikit-learn.org/stable/modules/linear_model.html#logistic-regression\n",
      "  n_iter_i = _check_optimize_result(\n",
      "/home/miikey_lol/.local/lib/python3.10/site-packages/sklearn/metrics/_classification.py:2922: UserWarning: The y_pred values do not sum to one. Starting from 1.5 thiswill result in an error.\n",
      "  warnings.warn(\n",
      "/home/miikey_lol/.local/lib/python3.10/site-packages/sklearn/metrics/_classification.py:2922: UserWarning: The y_pred values do not sum to one. Starting from 1.5 thiswill result in an error.\n",
      "  warnings.warn(\n"
     ]
    },
    {
     "name": "stdout",
     "output_type": "stream",
     "text": [
      "num_samples: [2112, 4224, 6336, 8448, 10559, 12670, 14781, 16892, 19003, 21114, 23225, 25336, 27447, 29558, 31669, 33780, 35891, 38002, 40113, 42224, 44335, 46446, 48557]\n",
      "knn_accuracies: [0.5712391057218643, 0.6695244410761653, 0.7122963243652899, 0.7429897688518378, 0.7554945054945055, 0.7691360363774157, 0.7787514209928003, 0.7877510420613869, 0.7952349374763168, 0.8000189465706707, 0.8053239863584691, 0.8099658961727927, 0.8150341038272073, 0.8185865858279652, 0.821949602122016, 0.823986358469117, 0.8258336491095112, 0.82981242895036, 0.8321807502841986, 0.8336964759378552, 0.8357805987116332, 0.8382910193255021, 0.8398541114058355]\n",
      "lgr_accuracies: [0.7366426676771505, 0.8104395604395604, 0.8402330428192497, 0.8527851458885941, 0.8639636225843123, 0.8726316786661614, 0.879784009094354, 0.884331186055324, 0.8880257673361122, 0.8902519893899205, 0.8940886699507389, 0.8971201212580523, 0.8983042819249716, 0.900909435392194, 0.9029935581659719, 0.9041777188328912, 0.9058355437665783, 0.9072091701402046, 0.9084406972338007, 0.910240621447518, 0.9116142478211444, 0.9121826449412657, 0.9129878741947708]\n",
      "knn_losses: [6.29129793386976, 4.513130257780753, 3.9331587982676846, 3.5149731302320473, 3.2235603659379364, 3.02503806282649, 2.8771160315283812, 2.7684384412458245, 2.6233634277119653, 2.5374253122278354, 2.434208054932331, 2.3457035293112245, 2.274770728154711, 2.233345197143674, 2.223447498875895, 2.1956008399883205, 2.148103455399777, 2.116439101814475, 2.0802079055133023, 2.046747010971178, 2.027908695880662, 1.9923050493926489, 1.9606341853894853]\n",
      "lgr_losses: [1.3684780554067046, 0.9271987982518046, 0.7573565550524998, 0.66160376527364, 0.5979237557930648, 0.555361195668599, 0.521968925353168, 0.4964697929778308, 0.47328235041606376, 0.45636431164323327, 0.43931705836944157, 0.42634375615263886, 0.415573963603361, 0.4041870139688768, 0.3956672035773474, 0.38552185827501256, 0.37895012246699333, 0.3718635323274908, 0.3657138485674716, 0.3596178006310531, 0.3549352403391511, 0.3506897094336832, 0.3461878437757428]\n",
      "knn_training_times: [0.0006830692291259766, 0.0011737346649169922, 0.0015690326690673828, 0.0019927024841308594, 0.0023572444915771484, 0.0026857852935791016, 0.003070354461669922, 0.003828287124633789, 0.003988027572631836, 0.004853725433349609, 0.004773378372192383, 0.0058705806732177734, 0.005707740783691406, 0.006423234939575195, 0.0067522525787353516, 0.007079601287841797, 0.007592439651489258, 0.007714748382568359, 0.008604764938354492, 0.008798360824584961, 0.00917959213256836, 0.009288549423217773, 0.009938240051269531]\n",
      "lgr_training_times: [2.3986215591430664, 4.427042007446289, 5.8483405113220215, 7.475382328033447, 9.23828935623169, 11.888451099395752, 11.817423820495605, 11.712364435195923, 12.87743854522705, 14.201250553131104, 15.160300016403198, 15.379838705062866, 18.019740343093872, 18.982895135879517, 18.398792028427124, 20.4948832988739, 20.359225749969482, 21.03550362586975, 22.83714485168457, 24.008208513259888, 25.406269311904907, 25.4820499420166, 27.099191427230835]\n",
      "knn_inference_times: [0.3621714115142822, 0.5278475284576416, 0.733877420425415, 0.839763879776001, 0.993302583694458, 1.1751487255096436, 1.2853302955627441, 1.4842393398284912, 1.5803146362304688, 1.8220088481903076, 1.9674711227416992, 2.103940486907959, 2.2421650886535645, 2.4844400882720947, 2.683704137802124, 2.649468421936035, 2.8881947994232178, 3.1869611740112305, 3.29239559173584, 3.410515069961548, 3.590003252029419, 3.8970179557800293, 3.900510787963867]\n",
      "lgr_inference_times: [0.05351686477661133, 0.0496220588684082, 0.05375385284423828, 0.05952763557434082, 0.0487971305847168, 0.050379276275634766, 0.04938554763793945, 0.03707289695739746, 0.05933213233947754, 0.05047726631164551, 0.05240464210510254, 0.049063920974731445, 0.04932999610900879, 0.05770158767700195, 0.052603721618652344, 0.04875779151916504, 0.0522310733795166, 0.05184483528137207, 0.04898262023925781, 0.05127358436584473, 0.05565690994262695, 0.05303049087524414, 0.0491483211517334]\n",
      "Portion 24/40\n"
     ]
    },
    {
     "name": "stderr",
     "output_type": "stream",
     "text": [
      "/home/miikey_lol/.local/lib/python3.10/site-packages/sklearn/linear_model/_logistic.py:460: ConvergenceWarning: lbfgs failed to converge (status=1):\n",
      "STOP: TOTAL NO. of ITERATIONS REACHED LIMIT.\n",
      "\n",
      "Increase the number of iterations (max_iter) or scale the data as shown in:\n",
      "    https://scikit-learn.org/stable/modules/preprocessing.html\n",
      "Please also refer to the documentation for alternative solver options:\n",
      "    https://scikit-learn.org/stable/modules/linear_model.html#logistic-regression\n",
      "  n_iter_i = _check_optimize_result(\n",
      "/home/miikey_lol/.local/lib/python3.10/site-packages/sklearn/metrics/_classification.py:2922: UserWarning: The y_pred values do not sum to one. Starting from 1.5 thiswill result in an error.\n",
      "  warnings.warn(\n",
      "/home/miikey_lol/.local/lib/python3.10/site-packages/sklearn/metrics/_classification.py:2922: UserWarning: The y_pred values do not sum to one. Starting from 1.5 thiswill result in an error.\n",
      "  warnings.warn(\n"
     ]
    },
    {
     "name": "stdout",
     "output_type": "stream",
     "text": [
      "num_samples: [2112, 4224, 6336, 8448, 10559, 12670, 14781, 16892, 19003, 21114, 23225, 25336, 27447, 29558, 31669, 33780, 35891, 38002, 40113, 42224, 44335, 46446, 48557, 50668]\n",
      "knn_accuracies: [0.5712391057218643, 0.6695244410761653, 0.7122963243652899, 0.7429897688518378, 0.7554945054945055, 0.7691360363774157, 0.7787514209928003, 0.7877510420613869, 0.7952349374763168, 0.8000189465706707, 0.8053239863584691, 0.8099658961727927, 0.8150341038272073, 0.8185865858279652, 0.821949602122016, 0.823986358469117, 0.8258336491095112, 0.82981242895036, 0.8321807502841986, 0.8336964759378552, 0.8357805987116332, 0.8382910193255021, 0.8398541114058355, 0.8411803713527851]\n",
      "lgr_accuracies: [0.7366426676771505, 0.8104395604395604, 0.8402330428192497, 0.8527851458885941, 0.8639636225843123, 0.8726316786661614, 0.879784009094354, 0.884331186055324, 0.8880257673361122, 0.8902519893899205, 0.8940886699507389, 0.8971201212580523, 0.8983042819249716, 0.900909435392194, 0.9029935581659719, 0.9041777188328912, 0.9058355437665783, 0.9072091701402046, 0.9084406972338007, 0.910240621447518, 0.9116142478211444, 0.9121826449412657, 0.9129878741947708, 0.9138878363016294]\n",
      "knn_losses: [6.29129793386976, 4.513130257780753, 3.9331587982676846, 3.5149731302320473, 3.2235603659379364, 3.02503806282649, 2.8771160315283812, 2.7684384412458245, 2.6233634277119653, 2.5374253122278354, 2.434208054932331, 2.3457035293112245, 2.274770728154711, 2.233345197143674, 2.223447498875895, 2.1956008399883205, 2.148103455399777, 2.116439101814475, 2.0802079055133023, 2.046747010971178, 2.027908695880662, 1.9923050493926489, 1.9606341853894853, 1.9459414084152173]\n",
      "lgr_losses: [1.3684780554067046, 0.9271987982518046, 0.7573565550524998, 0.66160376527364, 0.5979237557930648, 0.555361195668599, 0.521968925353168, 0.4964697929778308, 0.47328235041606376, 0.45636431164323327, 0.43931705836944157, 0.42634375615263886, 0.415573963603361, 0.4041870139688768, 0.3956672035773474, 0.38552185827501256, 0.37895012246699333, 0.3718635323274908, 0.3657138485674716, 0.3596178006310531, 0.3549352403391511, 0.3506897094336832, 0.3461878437757428, 0.3421840271592163]\n",
      "knn_training_times: [0.0006830692291259766, 0.0011737346649169922, 0.0015690326690673828, 0.0019927024841308594, 0.0023572444915771484, 0.0026857852935791016, 0.003070354461669922, 0.003828287124633789, 0.003988027572631836, 0.004853725433349609, 0.004773378372192383, 0.0058705806732177734, 0.005707740783691406, 0.006423234939575195, 0.0067522525787353516, 0.007079601287841797, 0.007592439651489258, 0.007714748382568359, 0.008604764938354492, 0.008798360824584961, 0.00917959213256836, 0.009288549423217773, 0.009938240051269531, 0.010100126266479492]\n",
      "lgr_training_times: [2.3986215591430664, 4.427042007446289, 5.8483405113220215, 7.475382328033447, 9.23828935623169, 11.888451099395752, 11.817423820495605, 11.712364435195923, 12.87743854522705, 14.201250553131104, 15.160300016403198, 15.379838705062866, 18.019740343093872, 18.982895135879517, 18.398792028427124, 20.4948832988739, 20.359225749969482, 21.03550362586975, 22.83714485168457, 24.008208513259888, 25.406269311904907, 25.4820499420166, 27.099191427230835, 26.310337781906128]\n",
      "knn_inference_times: [0.3621714115142822, 0.5278475284576416, 0.733877420425415, 0.839763879776001, 0.993302583694458, 1.1751487255096436, 1.2853302955627441, 1.4842393398284912, 1.5803146362304688, 1.8220088481903076, 1.9674711227416992, 2.103940486907959, 2.2421650886535645, 2.4844400882720947, 2.683704137802124, 2.649468421936035, 2.8881947994232178, 3.1869611740112305, 3.29239559173584, 3.410515069961548, 3.590003252029419, 3.8970179557800293, 3.900510787963867, 4.110299825668335]\n",
      "lgr_inference_times: [0.05351686477661133, 0.0496220588684082, 0.05375385284423828, 0.05952763557434082, 0.0487971305847168, 0.050379276275634766, 0.04938554763793945, 0.03707289695739746, 0.05933213233947754, 0.05047726631164551, 0.05240464210510254, 0.049063920974731445, 0.04932999610900879, 0.05770158767700195, 0.052603721618652344, 0.04875779151916504, 0.0522310733795166, 0.05184483528137207, 0.04898262023925781, 0.05127358436584473, 0.05565690994262695, 0.05303049087524414, 0.0491483211517334, 0.050443410873413086]\n",
      "Portion 25/40\n"
     ]
    },
    {
     "name": "stderr",
     "output_type": "stream",
     "text": [
      "/home/miikey_lol/.local/lib/python3.10/site-packages/sklearn/linear_model/_logistic.py:460: ConvergenceWarning: lbfgs failed to converge (status=1):\n",
      "STOP: TOTAL NO. of ITERATIONS REACHED LIMIT.\n",
      "\n",
      "Increase the number of iterations (max_iter) or scale the data as shown in:\n",
      "    https://scikit-learn.org/stable/modules/preprocessing.html\n",
      "Please also refer to the documentation for alternative solver options:\n",
      "    https://scikit-learn.org/stable/modules/linear_model.html#logistic-regression\n",
      "  n_iter_i = _check_optimize_result(\n",
      "/home/miikey_lol/.local/lib/python3.10/site-packages/sklearn/metrics/_classification.py:2922: UserWarning: The y_pred values do not sum to one. Starting from 1.5 thiswill result in an error.\n",
      "  warnings.warn(\n",
      "/home/miikey_lol/.local/lib/python3.10/site-packages/sklearn/metrics/_classification.py:2922: UserWarning: The y_pred values do not sum to one. Starting from 1.5 thiswill result in an error.\n",
      "  warnings.warn(\n"
     ]
    },
    {
     "name": "stdout",
     "output_type": "stream",
     "text": [
      "num_samples: [2112, 4224, 6336, 8448, 10559, 12670, 14781, 16892, 19003, 21114, 23225, 25336, 27447, 29558, 31669, 33780, 35891, 38002, 40113, 42224, 44335, 46446, 48557, 50668, 52779]\n",
      "knn_accuracies: [0.5712391057218643, 0.6695244410761653, 0.7122963243652899, 0.7429897688518378, 0.7554945054945055, 0.7691360363774157, 0.7787514209928003, 0.7877510420613869, 0.7952349374763168, 0.8000189465706707, 0.8053239863584691, 0.8099658961727927, 0.8150341038272073, 0.8185865858279652, 0.821949602122016, 0.823986358469117, 0.8258336491095112, 0.82981242895036, 0.8321807502841986, 0.8336964759378552, 0.8357805987116332, 0.8382910193255021, 0.8398541114058355, 0.8411803713527851, 0.8424118984463812]\n",
      "lgr_accuracies: [0.7366426676771505, 0.8104395604395604, 0.8402330428192497, 0.8527851458885941, 0.8639636225843123, 0.8726316786661614, 0.879784009094354, 0.884331186055324, 0.8880257673361122, 0.8902519893899205, 0.8940886699507389, 0.8971201212580523, 0.8983042819249716, 0.900909435392194, 0.9029935581659719, 0.9041777188328912, 0.9058355437665783, 0.9072091701402046, 0.9084406972338007, 0.910240621447518, 0.9116142478211444, 0.9121826449412657, 0.9129878741947708, 0.9138878363016294, 0.9145983327017809]\n",
      "knn_losses: [6.29129793386976, 4.513130257780753, 3.9331587982676846, 3.5149731302320473, 3.2235603659379364, 3.02503806282649, 2.8771160315283812, 2.7684384412458245, 2.6233634277119653, 2.5374253122278354, 2.434208054932331, 2.3457035293112245, 2.274770728154711, 2.233345197143674, 2.223447498875895, 2.1956008399883205, 2.148103455399777, 2.116439101814475, 2.0802079055133023, 2.046747010971178, 2.027908695880662, 1.9923050493926489, 1.9606341853894853, 1.9459414084152173, 1.910491992423523]\n",
      "lgr_losses: [1.3684780554067046, 0.9271987982518046, 0.7573565550524998, 0.66160376527364, 0.5979237557930648, 0.555361195668599, 0.521968925353168, 0.4964697929778308, 0.47328235041606376, 0.45636431164323327, 0.43931705836944157, 0.42634375615263886, 0.415573963603361, 0.4041870139688768, 0.3956672035773474, 0.38552185827501256, 0.37895012246699333, 0.3718635323274908, 0.3657138485674716, 0.3596178006310531, 0.3549352403391511, 0.3506897094336832, 0.3461878437757428, 0.3421840271592163, 0.3373493601627598]\n",
      "knn_training_times: [0.0006830692291259766, 0.0011737346649169922, 0.0015690326690673828, 0.0019927024841308594, 0.0023572444915771484, 0.0026857852935791016, 0.003070354461669922, 0.003828287124633789, 0.003988027572631836, 0.004853725433349609, 0.004773378372192383, 0.0058705806732177734, 0.005707740783691406, 0.006423234939575195, 0.0067522525787353516, 0.007079601287841797, 0.007592439651489258, 0.007714748382568359, 0.008604764938354492, 0.008798360824584961, 0.00917959213256836, 0.009288549423217773, 0.009938240051269531, 0.010100126266479492, 0.010944604873657227]\n",
      "lgr_training_times: [2.3986215591430664, 4.427042007446289, 5.8483405113220215, 7.475382328033447, 9.23828935623169, 11.888451099395752, 11.817423820495605, 11.712364435195923, 12.87743854522705, 14.201250553131104, 15.160300016403198, 15.379838705062866, 18.019740343093872, 18.982895135879517, 18.398792028427124, 20.4948832988739, 20.359225749969482, 21.03550362586975, 22.83714485168457, 24.008208513259888, 25.406269311904907, 25.4820499420166, 27.099191427230835, 26.310337781906128, 27.421097993850708]\n",
      "knn_inference_times: [0.3621714115142822, 0.5278475284576416, 0.733877420425415, 0.839763879776001, 0.993302583694458, 1.1751487255096436, 1.2853302955627441, 1.4842393398284912, 1.5803146362304688, 1.8220088481903076, 1.9674711227416992, 2.103940486907959, 2.2421650886535645, 2.4844400882720947, 2.683704137802124, 2.649468421936035, 2.8881947994232178, 3.1869611740112305, 3.29239559173584, 3.410515069961548, 3.590003252029419, 3.8970179557800293, 3.900510787963867, 4.110299825668335, 4.304814577102661]\n",
      "lgr_inference_times: [0.05351686477661133, 0.0496220588684082, 0.05375385284423828, 0.05952763557434082, 0.0487971305847168, 0.050379276275634766, 0.04938554763793945, 0.03707289695739746, 0.05933213233947754, 0.05047726631164551, 0.05240464210510254, 0.049063920974731445, 0.04932999610900879, 0.05770158767700195, 0.052603721618652344, 0.04875779151916504, 0.0522310733795166, 0.05184483528137207, 0.04898262023925781, 0.05127358436584473, 0.05565690994262695, 0.05303049087524414, 0.0491483211517334, 0.050443410873413086, 0.04869985580444336]\n",
      "Portion 26/40\n"
     ]
    },
    {
     "name": "stderr",
     "output_type": "stream",
     "text": [
      "/home/miikey_lol/.local/lib/python3.10/site-packages/sklearn/linear_model/_logistic.py:460: ConvergenceWarning: lbfgs failed to converge (status=1):\n",
      "STOP: TOTAL NO. of ITERATIONS REACHED LIMIT.\n",
      "\n",
      "Increase the number of iterations (max_iter) or scale the data as shown in:\n",
      "    https://scikit-learn.org/stable/modules/preprocessing.html\n",
      "Please also refer to the documentation for alternative solver options:\n",
      "    https://scikit-learn.org/stable/modules/linear_model.html#logistic-regression\n",
      "  n_iter_i = _check_optimize_result(\n",
      "/home/miikey_lol/.local/lib/python3.10/site-packages/sklearn/metrics/_classification.py:2922: UserWarning: The y_pred values do not sum to one. Starting from 1.5 thiswill result in an error.\n",
      "  warnings.warn(\n",
      "/home/miikey_lol/.local/lib/python3.10/site-packages/sklearn/metrics/_classification.py:2922: UserWarning: The y_pred values do not sum to one. Starting from 1.5 thiswill result in an error.\n",
      "  warnings.warn(\n"
     ]
    },
    {
     "name": "stdout",
     "output_type": "stream",
     "text": [
      "num_samples: [2112, 4224, 6336, 8448, 10559, 12670, 14781, 16892, 19003, 21114, 23225, 25336, 27447, 29558, 31669, 33780, 35891, 38002, 40113, 42224, 44335, 46446, 48557, 50668, 52779, 54890]\n",
      "knn_accuracies: [0.5712391057218643, 0.6695244410761653, 0.7122963243652899, 0.7429897688518378, 0.7554945054945055, 0.7691360363774157, 0.7787514209928003, 0.7877510420613869, 0.7952349374763168, 0.8000189465706707, 0.8053239863584691, 0.8099658961727927, 0.8150341038272073, 0.8185865858279652, 0.821949602122016, 0.823986358469117, 0.8258336491095112, 0.82981242895036, 0.8321807502841986, 0.8336964759378552, 0.8357805987116332, 0.8382910193255021, 0.8398541114058355, 0.8411803713527851, 0.8424118984463812, 0.8434539598332702]\n",
      "lgr_accuracies: [0.7366426676771505, 0.8104395604395604, 0.8402330428192497, 0.8527851458885941, 0.8639636225843123, 0.8726316786661614, 0.879784009094354, 0.884331186055324, 0.8880257673361122, 0.8902519893899205, 0.8940886699507389, 0.8971201212580523, 0.8983042819249716, 0.900909435392194, 0.9029935581659719, 0.9041777188328912, 0.9058355437665783, 0.9072091701402046, 0.9084406972338007, 0.910240621447518, 0.9116142478211444, 0.9121826449412657, 0.9129878741947708, 0.9138878363016294, 0.9145983327017809, 0.9161614247821145]\n",
      "knn_losses: [6.29129793386976, 4.513130257780753, 3.9331587982676846, 3.5149731302320473, 3.2235603659379364, 3.02503806282649, 2.8771160315283812, 2.7684384412458245, 2.6233634277119653, 2.5374253122278354, 2.434208054932331, 2.3457035293112245, 2.274770728154711, 2.233345197143674, 2.223447498875895, 2.1956008399883205, 2.148103455399777, 2.116439101814475, 2.0802079055133023, 2.046747010971178, 2.027908695880662, 1.9923050493926489, 1.9606341853894853, 1.9459414084152173, 1.910491992423523, 1.89264473557647]\n",
      "lgr_losses: [1.3684780554067046, 0.9271987982518046, 0.7573565550524998, 0.66160376527364, 0.5979237557930648, 0.555361195668599, 0.521968925353168, 0.4964697929778308, 0.47328235041606376, 0.45636431164323327, 0.43931705836944157, 0.42634375615263886, 0.415573963603361, 0.4041870139688768, 0.3956672035773474, 0.38552185827501256, 0.37895012246699333, 0.3718635323274908, 0.3657138485674716, 0.3596178006310531, 0.3549352403391511, 0.3506897094336832, 0.3461878437757428, 0.3421840271592163, 0.3373493601627598, 0.33291310209526587]\n",
      "knn_training_times: [0.0006830692291259766, 0.0011737346649169922, 0.0015690326690673828, 0.0019927024841308594, 0.0023572444915771484, 0.0026857852935791016, 0.003070354461669922, 0.003828287124633789, 0.003988027572631836, 0.004853725433349609, 0.004773378372192383, 0.0058705806732177734, 0.005707740783691406, 0.006423234939575195, 0.0067522525787353516, 0.007079601287841797, 0.007592439651489258, 0.007714748382568359, 0.008604764938354492, 0.008798360824584961, 0.00917959213256836, 0.009288549423217773, 0.009938240051269531, 0.010100126266479492, 0.010944604873657227, 0.010703802108764648]\n",
      "lgr_training_times: [2.3986215591430664, 4.427042007446289, 5.8483405113220215, 7.475382328033447, 9.23828935623169, 11.888451099395752, 11.817423820495605, 11.712364435195923, 12.87743854522705, 14.201250553131104, 15.160300016403198, 15.379838705062866, 18.019740343093872, 18.982895135879517, 18.398792028427124, 20.4948832988739, 20.359225749969482, 21.03550362586975, 22.83714485168457, 24.008208513259888, 25.406269311904907, 25.4820499420166, 27.099191427230835, 26.310337781906128, 27.421097993850708, 27.369181632995605]\n",
      "knn_inference_times: [0.3621714115142822, 0.5278475284576416, 0.733877420425415, 0.839763879776001, 0.993302583694458, 1.1751487255096436, 1.2853302955627441, 1.4842393398284912, 1.5803146362304688, 1.8220088481903076, 1.9674711227416992, 2.103940486907959, 2.2421650886535645, 2.4844400882720947, 2.683704137802124, 2.649468421936035, 2.8881947994232178, 3.1869611740112305, 3.29239559173584, 3.410515069961548, 3.590003252029419, 3.8970179557800293, 3.900510787963867, 4.110299825668335, 4.304814577102661, 4.30873703956604]\n",
      "lgr_inference_times: [0.05351686477661133, 0.0496220588684082, 0.05375385284423828, 0.05952763557434082, 0.0487971305847168, 0.050379276275634766, 0.04938554763793945, 0.03707289695739746, 0.05933213233947754, 0.05047726631164551, 0.05240464210510254, 0.049063920974731445, 0.04932999610900879, 0.05770158767700195, 0.052603721618652344, 0.04875779151916504, 0.0522310733795166, 0.05184483528137207, 0.04898262023925781, 0.05127358436584473, 0.05565690994262695, 0.05303049087524414, 0.0491483211517334, 0.050443410873413086, 0.04869985580444336, 0.050049543380737305]\n",
      "Portion 27/40\n"
     ]
    },
    {
     "name": "stderr",
     "output_type": "stream",
     "text": [
      "/home/miikey_lol/.local/lib/python3.10/site-packages/sklearn/linear_model/_logistic.py:460: ConvergenceWarning: lbfgs failed to converge (status=1):\n",
      "STOP: TOTAL NO. of ITERATIONS REACHED LIMIT.\n",
      "\n",
      "Increase the number of iterations (max_iter) or scale the data as shown in:\n",
      "    https://scikit-learn.org/stable/modules/preprocessing.html\n",
      "Please also refer to the documentation for alternative solver options:\n",
      "    https://scikit-learn.org/stable/modules/linear_model.html#logistic-regression\n",
      "  n_iter_i = _check_optimize_result(\n",
      "/home/miikey_lol/.local/lib/python3.10/site-packages/sklearn/metrics/_classification.py:2922: UserWarning: The y_pred values do not sum to one. Starting from 1.5 thiswill result in an error.\n",
      "  warnings.warn(\n",
      "/home/miikey_lol/.local/lib/python3.10/site-packages/sklearn/metrics/_classification.py:2922: UserWarning: The y_pred values do not sum to one. Starting from 1.5 thiswill result in an error.\n",
      "  warnings.warn(\n"
     ]
    },
    {
     "name": "stdout",
     "output_type": "stream",
     "text": [
      "num_samples: [2112, 4224, 6336, 8448, 10559, 12670, 14781, 16892, 19003, 21114, 23225, 25336, 27447, 29558, 31669, 33780, 35891, 38002, 40113, 42224, 44335, 46446, 48557, 50668, 52779, 54890, 57001]\n",
      "knn_accuracies: [0.5712391057218643, 0.6695244410761653, 0.7122963243652899, 0.7429897688518378, 0.7554945054945055, 0.7691360363774157, 0.7787514209928003, 0.7877510420613869, 0.7952349374763168, 0.8000189465706707, 0.8053239863584691, 0.8099658961727927, 0.8150341038272073, 0.8185865858279652, 0.821949602122016, 0.823986358469117, 0.8258336491095112, 0.82981242895036, 0.8321807502841986, 0.8336964759378552, 0.8357805987116332, 0.8382910193255021, 0.8398541114058355, 0.8411803713527851, 0.8424118984463812, 0.8434539598332702, 0.8453012504736642]\n",
      "lgr_accuracies: [0.7366426676771505, 0.8104395604395604, 0.8402330428192497, 0.8527851458885941, 0.8639636225843123, 0.8726316786661614, 0.879784009094354, 0.884331186055324, 0.8880257673361122, 0.8902519893899205, 0.8940886699507389, 0.8971201212580523, 0.8983042819249716, 0.900909435392194, 0.9029935581659719, 0.9041777188328912, 0.9058355437665783, 0.9072091701402046, 0.9084406972338007, 0.910240621447518, 0.9116142478211444, 0.9121826449412657, 0.9129878741947708, 0.9138878363016294, 0.9145983327017809, 0.9161614247821145, 0.9169666540356195]\n",
      "knn_losses: [6.29129793386976, 4.513130257780753, 3.9331587982676846, 3.5149731302320473, 3.2235603659379364, 3.02503806282649, 2.8771160315283812, 2.7684384412458245, 2.6233634277119653, 2.5374253122278354, 2.434208054932331, 2.3457035293112245, 2.274770728154711, 2.233345197143674, 2.223447498875895, 2.1956008399883205, 2.148103455399777, 2.116439101814475, 2.0802079055133023, 2.046747010971178, 2.027908695880662, 1.9923050493926489, 1.9606341853894853, 1.9459414084152173, 1.910491992423523, 1.89264473557647, 1.8730780978167918]\n",
      "lgr_losses: [1.3684780554067046, 0.9271987982518046, 0.7573565550524998, 0.66160376527364, 0.5979237557930648, 0.555361195668599, 0.521968925353168, 0.4964697929778308, 0.47328235041606376, 0.45636431164323327, 0.43931705836944157, 0.42634375615263886, 0.415573963603361, 0.4041870139688768, 0.3956672035773474, 0.38552185827501256, 0.37895012246699333, 0.3718635323274908, 0.3657138485674716, 0.3596178006310531, 0.3549352403391511, 0.3506897094336832, 0.3461878437757428, 0.3421840271592163, 0.3373493601627598, 0.33291310209526587, 0.32988902890640376]\n",
      "knn_training_times: [0.0006830692291259766, 0.0011737346649169922, 0.0015690326690673828, 0.0019927024841308594, 0.0023572444915771484, 0.0026857852935791016, 0.003070354461669922, 0.003828287124633789, 0.003988027572631836, 0.004853725433349609, 0.004773378372192383, 0.0058705806732177734, 0.005707740783691406, 0.006423234939575195, 0.0067522525787353516, 0.007079601287841797, 0.007592439651489258, 0.007714748382568359, 0.008604764938354492, 0.008798360824584961, 0.00917959213256836, 0.009288549423217773, 0.009938240051269531, 0.010100126266479492, 0.010944604873657227, 0.010703802108764648, 0.010906696319580078]\n",
      "lgr_training_times: [2.3986215591430664, 4.427042007446289, 5.8483405113220215, 7.475382328033447, 9.23828935623169, 11.888451099395752, 11.817423820495605, 11.712364435195923, 12.87743854522705, 14.201250553131104, 15.160300016403198, 15.379838705062866, 18.019740343093872, 18.982895135879517, 18.398792028427124, 20.4948832988739, 20.359225749969482, 21.03550362586975, 22.83714485168457, 24.008208513259888, 25.406269311904907, 25.4820499420166, 27.099191427230835, 26.310337781906128, 27.421097993850708, 27.369181632995605, 27.355336904525757]\n",
      "knn_inference_times: [0.3621714115142822, 0.5278475284576416, 0.733877420425415, 0.839763879776001, 0.993302583694458, 1.1751487255096436, 1.2853302955627441, 1.4842393398284912, 1.5803146362304688, 1.8220088481903076, 1.9674711227416992, 2.103940486907959, 2.2421650886535645, 2.4844400882720947, 2.683704137802124, 2.649468421936035, 2.8881947994232178, 3.1869611740112305, 3.29239559173584, 3.410515069961548, 3.590003252029419, 3.8970179557800293, 3.900510787963867, 4.110299825668335, 4.304814577102661, 4.30873703956604, 4.639004468917847]\n",
      "lgr_inference_times: [0.05351686477661133, 0.0496220588684082, 0.05375385284423828, 0.05952763557434082, 0.0487971305847168, 0.050379276275634766, 0.04938554763793945, 0.03707289695739746, 0.05933213233947754, 0.05047726631164551, 0.05240464210510254, 0.049063920974731445, 0.04932999610900879, 0.05770158767700195, 0.052603721618652344, 0.04875779151916504, 0.0522310733795166, 0.05184483528137207, 0.04898262023925781, 0.05127358436584473, 0.05565690994262695, 0.05303049087524414, 0.0491483211517334, 0.050443410873413086, 0.04869985580444336, 0.050049543380737305, 0.051900386810302734]\n",
      "Portion 28/40\n"
     ]
    },
    {
     "name": "stderr",
     "output_type": "stream",
     "text": [
      "/home/miikey_lol/.local/lib/python3.10/site-packages/sklearn/linear_model/_logistic.py:460: ConvergenceWarning: lbfgs failed to converge (status=1):\n",
      "STOP: TOTAL NO. of ITERATIONS REACHED LIMIT.\n",
      "\n",
      "Increase the number of iterations (max_iter) or scale the data as shown in:\n",
      "    https://scikit-learn.org/stable/modules/preprocessing.html\n",
      "Please also refer to the documentation for alternative solver options:\n",
      "    https://scikit-learn.org/stable/modules/linear_model.html#logistic-regression\n",
      "  n_iter_i = _check_optimize_result(\n",
      "/home/miikey_lol/.local/lib/python3.10/site-packages/sklearn/metrics/_classification.py:2922: UserWarning: The y_pred values do not sum to one. Starting from 1.5 thiswill result in an error.\n",
      "  warnings.warn(\n",
      "/home/miikey_lol/.local/lib/python3.10/site-packages/sklearn/metrics/_classification.py:2922: UserWarning: The y_pred values do not sum to one. Starting from 1.5 thiswill result in an error.\n",
      "  warnings.warn(\n"
     ]
    },
    {
     "name": "stdout",
     "output_type": "stream",
     "text": [
      "num_samples: [2112, 4224, 6336, 8448, 10559, 12670, 14781, 16892, 19003, 21114, 23225, 25336, 27447, 29558, 31669, 33780, 35891, 38002, 40113, 42224, 44335, 46446, 48557, 50668, 52779, 54890, 57001, 59112]\n",
      "knn_accuracies: [0.5712391057218643, 0.6695244410761653, 0.7122963243652899, 0.7429897688518378, 0.7554945054945055, 0.7691360363774157, 0.7787514209928003, 0.7877510420613869, 0.7952349374763168, 0.8000189465706707, 0.8053239863584691, 0.8099658961727927, 0.8150341038272073, 0.8185865858279652, 0.821949602122016, 0.823986358469117, 0.8258336491095112, 0.82981242895036, 0.8321807502841986, 0.8336964759378552, 0.8357805987116332, 0.8382910193255021, 0.8398541114058355, 0.8411803713527851, 0.8424118984463812, 0.8434539598332702, 0.8453012504736642, 0.8460591133004927]\n",
      "lgr_accuracies: [0.7366426676771505, 0.8104395604395604, 0.8402330428192497, 0.8527851458885941, 0.8639636225843123, 0.8726316786661614, 0.879784009094354, 0.884331186055324, 0.8880257673361122, 0.8902519893899205, 0.8940886699507389, 0.8971201212580523, 0.8983042819249716, 0.900909435392194, 0.9029935581659719, 0.9041777188328912, 0.9058355437665783, 0.9072091701402046, 0.9084406972338007, 0.910240621447518, 0.9116142478211444, 0.9121826449412657, 0.9129878741947708, 0.9138878363016294, 0.9145983327017809, 0.9161614247821145, 0.9169666540356195, 0.9182455475558924]\n",
      "knn_losses: [6.29129793386976, 4.513130257780753, 3.9331587982676846, 3.5149731302320473, 3.2235603659379364, 3.02503806282649, 2.8771160315283812, 2.7684384412458245, 2.6233634277119653, 2.5374253122278354, 2.434208054932331, 2.3457035293112245, 2.274770728154711, 2.233345197143674, 2.223447498875895, 2.1956008399883205, 2.148103455399777, 2.116439101814475, 2.0802079055133023, 2.046747010971178, 2.027908695880662, 1.9923050493926489, 1.9606341853894853, 1.9459414084152173, 1.910491992423523, 1.89264473557647, 1.8730780978167918, 1.8488520155846588]\n",
      "lgr_losses: [1.3684780554067046, 0.9271987982518046, 0.7573565550524998, 0.66160376527364, 0.5979237557930648, 0.555361195668599, 0.521968925353168, 0.4964697929778308, 0.47328235041606376, 0.45636431164323327, 0.43931705836944157, 0.42634375615263886, 0.415573963603361, 0.4041870139688768, 0.3956672035773474, 0.38552185827501256, 0.37895012246699333, 0.3718635323274908, 0.3657138485674716, 0.3596178006310531, 0.3549352403391511, 0.3506897094336832, 0.3461878437757428, 0.3421840271592163, 0.3373493601627598, 0.33291310209526587, 0.32988902890640376, 0.3253175295094531]\n",
      "knn_training_times: [0.0006830692291259766, 0.0011737346649169922, 0.0015690326690673828, 0.0019927024841308594, 0.0023572444915771484, 0.0026857852935791016, 0.003070354461669922, 0.003828287124633789, 0.003988027572631836, 0.004853725433349609, 0.004773378372192383, 0.0058705806732177734, 0.005707740783691406, 0.006423234939575195, 0.0067522525787353516, 0.007079601287841797, 0.007592439651489258, 0.007714748382568359, 0.008604764938354492, 0.008798360824584961, 0.00917959213256836, 0.009288549423217773, 0.009938240051269531, 0.010100126266479492, 0.010944604873657227, 0.010703802108764648, 0.010906696319580078, 0.01153254508972168]\n",
      "lgr_training_times: [2.3986215591430664, 4.427042007446289, 5.8483405113220215, 7.475382328033447, 9.23828935623169, 11.888451099395752, 11.817423820495605, 11.712364435195923, 12.87743854522705, 14.201250553131104, 15.160300016403198, 15.379838705062866, 18.019740343093872, 18.982895135879517, 18.398792028427124, 20.4948832988739, 20.359225749969482, 21.03550362586975, 22.83714485168457, 24.008208513259888, 25.406269311904907, 25.4820499420166, 27.099191427230835, 26.310337781906128, 27.421097993850708, 27.369181632995605, 27.355336904525757, 30.44025731086731]\n",
      "knn_inference_times: [0.3621714115142822, 0.5278475284576416, 0.733877420425415, 0.839763879776001, 0.993302583694458, 1.1751487255096436, 1.2853302955627441, 1.4842393398284912, 1.5803146362304688, 1.8220088481903076, 1.9674711227416992, 2.103940486907959, 2.2421650886535645, 2.4844400882720947, 2.683704137802124, 2.649468421936035, 2.8881947994232178, 3.1869611740112305, 3.29239559173584, 3.410515069961548, 3.590003252029419, 3.8970179557800293, 3.900510787963867, 4.110299825668335, 4.304814577102661, 4.30873703956604, 4.639004468917847, 4.734544515609741]\n",
      "lgr_inference_times: [0.05351686477661133, 0.0496220588684082, 0.05375385284423828, 0.05952763557434082, 0.0487971305847168, 0.050379276275634766, 0.04938554763793945, 0.03707289695739746, 0.05933213233947754, 0.05047726631164551, 0.05240464210510254, 0.049063920974731445, 0.04932999610900879, 0.05770158767700195, 0.052603721618652344, 0.04875779151916504, 0.0522310733795166, 0.05184483528137207, 0.04898262023925781, 0.05127358436584473, 0.05565690994262695, 0.05303049087524414, 0.0491483211517334, 0.050443410873413086, 0.04869985580444336, 0.050049543380737305, 0.051900386810302734, 0.06117439270019531]\n",
      "Portion 29/40\n"
     ]
    },
    {
     "name": "stderr",
     "output_type": "stream",
     "text": [
      "/home/miikey_lol/.local/lib/python3.10/site-packages/sklearn/linear_model/_logistic.py:460: ConvergenceWarning: lbfgs failed to converge (status=1):\n",
      "STOP: TOTAL NO. of ITERATIONS REACHED LIMIT.\n",
      "\n",
      "Increase the number of iterations (max_iter) or scale the data as shown in:\n",
      "    https://scikit-learn.org/stable/modules/preprocessing.html\n",
      "Please also refer to the documentation for alternative solver options:\n",
      "    https://scikit-learn.org/stable/modules/linear_model.html#logistic-regression\n",
      "  n_iter_i = _check_optimize_result(\n",
      "/home/miikey_lol/.local/lib/python3.10/site-packages/sklearn/metrics/_classification.py:2922: UserWarning: The y_pred values do not sum to one. Starting from 1.5 thiswill result in an error.\n",
      "  warnings.warn(\n",
      "/home/miikey_lol/.local/lib/python3.10/site-packages/sklearn/metrics/_classification.py:2922: UserWarning: The y_pred values do not sum to one. Starting from 1.5 thiswill result in an error.\n",
      "  warnings.warn(\n"
     ]
    },
    {
     "name": "stdout",
     "output_type": "stream",
     "text": [
      "num_samples: [2112, 4224, 6336, 8448, 10559, 12670, 14781, 16892, 19003, 21114, 23225, 25336, 27447, 29558, 31669, 33780, 35891, 38002, 40113, 42224, 44335, 46446, 48557, 50668, 52779, 54890, 57001, 59112, 61223]\n",
      "knn_accuracies: [0.5712391057218643, 0.6695244410761653, 0.7122963243652899, 0.7429897688518378, 0.7554945054945055, 0.7691360363774157, 0.7787514209928003, 0.7877510420613869, 0.7952349374763168, 0.8000189465706707, 0.8053239863584691, 0.8099658961727927, 0.8150341038272073, 0.8185865858279652, 0.821949602122016, 0.823986358469117, 0.8258336491095112, 0.82981242895036, 0.8321807502841986, 0.8336964759378552, 0.8357805987116332, 0.8382910193255021, 0.8398541114058355, 0.8411803713527851, 0.8424118984463812, 0.8434539598332702, 0.8453012504736642, 0.8460591133004927, 0.8466275104206139]\n",
      "lgr_accuracies: [0.7366426676771505, 0.8104395604395604, 0.8402330428192497, 0.8527851458885941, 0.8639636225843123, 0.8726316786661614, 0.879784009094354, 0.884331186055324, 0.8880257673361122, 0.8902519893899205, 0.8940886699507389, 0.8971201212580523, 0.8983042819249716, 0.900909435392194, 0.9029935581659719, 0.9041777188328912, 0.9058355437665783, 0.9072091701402046, 0.9084406972338007, 0.910240621447518, 0.9116142478211444, 0.9121826449412657, 0.9129878741947708, 0.9138878363016294, 0.9145983327017809, 0.9161614247821145, 0.9169666540356195, 0.9182455475558924, 0.9189560439560439]\n",
      "knn_losses: [6.29129793386976, 4.513130257780753, 3.9331587982676846, 3.5149731302320473, 3.2235603659379364, 3.02503806282649, 2.8771160315283812, 2.7684384412458245, 2.6233634277119653, 2.5374253122278354, 2.434208054932331, 2.3457035293112245, 2.274770728154711, 2.233345197143674, 2.223447498875895, 2.1956008399883205, 2.148103455399777, 2.116439101814475, 2.0802079055133023, 2.046747010971178, 2.027908695880662, 1.9923050493926489, 1.9606341853894853, 1.9459414084152173, 1.910491992423523, 1.89264473557647, 1.8730780978167918, 1.8488520155846588, 1.824814988961832]\n",
      "lgr_losses: [1.3684780554067046, 0.9271987982518046, 0.7573565550524998, 0.66160376527364, 0.5979237557930648, 0.555361195668599, 0.521968925353168, 0.4964697929778308, 0.47328235041606376, 0.45636431164323327, 0.43931705836944157, 0.42634375615263886, 0.415573963603361, 0.4041870139688768, 0.3956672035773474, 0.38552185827501256, 0.37895012246699333, 0.3718635323274908, 0.3657138485674716, 0.3596178006310531, 0.3549352403391511, 0.3506897094336832, 0.3461878437757428, 0.3421840271592163, 0.3373493601627598, 0.33291310209526587, 0.32988902890640376, 0.3253175295094531, 0.32215920066824366]\n",
      "knn_training_times: [0.0006830692291259766, 0.0011737346649169922, 0.0015690326690673828, 0.0019927024841308594, 0.0023572444915771484, 0.0026857852935791016, 0.003070354461669922, 0.003828287124633789, 0.003988027572631836, 0.004853725433349609, 0.004773378372192383, 0.0058705806732177734, 0.005707740783691406, 0.006423234939575195, 0.0067522525787353516, 0.007079601287841797, 0.007592439651489258, 0.007714748382568359, 0.008604764938354492, 0.008798360824584961, 0.00917959213256836, 0.009288549423217773, 0.009938240051269531, 0.010100126266479492, 0.010944604873657227, 0.010703802108764648, 0.010906696319580078, 0.01153254508972168, 0.011936187744140625]\n",
      "lgr_training_times: [2.3986215591430664, 4.427042007446289, 5.8483405113220215, 7.475382328033447, 9.23828935623169, 11.888451099395752, 11.817423820495605, 11.712364435195923, 12.87743854522705, 14.201250553131104, 15.160300016403198, 15.379838705062866, 18.019740343093872, 18.982895135879517, 18.398792028427124, 20.4948832988739, 20.359225749969482, 21.03550362586975, 22.83714485168457, 24.008208513259888, 25.406269311904907, 25.4820499420166, 27.099191427230835, 26.310337781906128, 27.421097993850708, 27.369181632995605, 27.355336904525757, 30.44025731086731, 32.19022798538208]\n",
      "knn_inference_times: [0.3621714115142822, 0.5278475284576416, 0.733877420425415, 0.839763879776001, 0.993302583694458, 1.1751487255096436, 1.2853302955627441, 1.4842393398284912, 1.5803146362304688, 1.8220088481903076, 1.9674711227416992, 2.103940486907959, 2.2421650886535645, 2.4844400882720947, 2.683704137802124, 2.649468421936035, 2.8881947994232178, 3.1869611740112305, 3.29239559173584, 3.410515069961548, 3.590003252029419, 3.8970179557800293, 3.900510787963867, 4.110299825668335, 4.304814577102661, 4.30873703956604, 4.639004468917847, 4.734544515609741, 4.913253307342529]\n",
      "lgr_inference_times: [0.05351686477661133, 0.0496220588684082, 0.05375385284423828, 0.05952763557434082, 0.0487971305847168, 0.050379276275634766, 0.04938554763793945, 0.03707289695739746, 0.05933213233947754, 0.05047726631164551, 0.05240464210510254, 0.049063920974731445, 0.04932999610900879, 0.05770158767700195, 0.052603721618652344, 0.04875779151916504, 0.0522310733795166, 0.05184483528137207, 0.04898262023925781, 0.05127358436584473, 0.05565690994262695, 0.05303049087524414, 0.0491483211517334, 0.050443410873413086, 0.04869985580444336, 0.050049543380737305, 0.051900386810302734, 0.06117439270019531, 0.050547122955322266]\n",
      "Portion 30/40\n"
     ]
    },
    {
     "name": "stderr",
     "output_type": "stream",
     "text": [
      "/home/miikey_lol/.local/lib/python3.10/site-packages/sklearn/linear_model/_logistic.py:460: ConvergenceWarning: lbfgs failed to converge (status=1):\n",
      "STOP: TOTAL NO. of ITERATIONS REACHED LIMIT.\n",
      "\n",
      "Increase the number of iterations (max_iter) or scale the data as shown in:\n",
      "    https://scikit-learn.org/stable/modules/preprocessing.html\n",
      "Please also refer to the documentation for alternative solver options:\n",
      "    https://scikit-learn.org/stable/modules/linear_model.html#logistic-regression\n",
      "  n_iter_i = _check_optimize_result(\n",
      "/home/miikey_lol/.local/lib/python3.10/site-packages/sklearn/metrics/_classification.py:2922: UserWarning: The y_pred values do not sum to one. Starting from 1.5 thiswill result in an error.\n",
      "  warnings.warn(\n",
      "/home/miikey_lol/.local/lib/python3.10/site-packages/sklearn/metrics/_classification.py:2922: UserWarning: The y_pred values do not sum to one. Starting from 1.5 thiswill result in an error.\n",
      "  warnings.warn(\n"
     ]
    },
    {
     "name": "stdout",
     "output_type": "stream",
     "text": [
      "num_samples: [2112, 4224, 6336, 8448, 10559, 12670, 14781, 16892, 19003, 21114, 23225, 25336, 27447, 29558, 31669, 33780, 35891, 38002, 40113, 42224, 44335, 46446, 48557, 50668, 52779, 54890, 57001, 59112, 61223, 63334]\n",
      "knn_accuracies: [0.5712391057218643, 0.6695244410761653, 0.7122963243652899, 0.7429897688518378, 0.7554945054945055, 0.7691360363774157, 0.7787514209928003, 0.7877510420613869, 0.7952349374763168, 0.8000189465706707, 0.8053239863584691, 0.8099658961727927, 0.8150341038272073, 0.8185865858279652, 0.821949602122016, 0.823986358469117, 0.8258336491095112, 0.82981242895036, 0.8321807502841986, 0.8336964759378552, 0.8357805987116332, 0.8382910193255021, 0.8398541114058355, 0.8411803713527851, 0.8424118984463812, 0.8434539598332702, 0.8453012504736642, 0.8460591133004927, 0.8466275104206139, 0.8489010989010989]\n",
      "lgr_accuracies: [0.7366426676771505, 0.8104395604395604, 0.8402330428192497, 0.8527851458885941, 0.8639636225843123, 0.8726316786661614, 0.879784009094354, 0.884331186055324, 0.8880257673361122, 0.8902519893899205, 0.8940886699507389, 0.8971201212580523, 0.8983042819249716, 0.900909435392194, 0.9029935581659719, 0.9041777188328912, 0.9058355437665783, 0.9072091701402046, 0.9084406972338007, 0.910240621447518, 0.9116142478211444, 0.9121826449412657, 0.9129878741947708, 0.9138878363016294, 0.9145983327017809, 0.9161614247821145, 0.9169666540356195, 0.9182455475558924, 0.9189560439560439, 0.9202823039029936]\n",
      "knn_losses: [6.29129793386976, 4.513130257780753, 3.9331587982676846, 3.5149731302320473, 3.2235603659379364, 3.02503806282649, 2.8771160315283812, 2.7684384412458245, 2.6233634277119653, 2.5374253122278354, 2.434208054932331, 2.3457035293112245, 2.274770728154711, 2.233345197143674, 2.223447498875895, 2.1956008399883205, 2.148103455399777, 2.116439101814475, 2.0802079055133023, 2.046747010971178, 2.027908695880662, 1.9923050493926489, 1.9606341853894853, 1.9459414084152173, 1.910491992423523, 1.89264473557647, 1.8730780978167918, 1.8488520155846588, 1.824814988961832, 1.8282061273128778]\n",
      "lgr_losses: [1.3684780554067046, 0.9271987982518046, 0.7573565550524998, 0.66160376527364, 0.5979237557930648, 0.555361195668599, 0.521968925353168, 0.4964697929778308, 0.47328235041606376, 0.45636431164323327, 0.43931705836944157, 0.42634375615263886, 0.415573963603361, 0.4041870139688768, 0.3956672035773474, 0.38552185827501256, 0.37895012246699333, 0.3718635323274908, 0.3657138485674716, 0.3596178006310531, 0.3549352403391511, 0.3506897094336832, 0.3461878437757428, 0.3421840271592163, 0.3373493601627598, 0.33291310209526587, 0.32988902890640376, 0.3253175295094531, 0.32215920066824366, 0.31874364161333724]\n",
      "knn_training_times: [0.0006830692291259766, 0.0011737346649169922, 0.0015690326690673828, 0.0019927024841308594, 0.0023572444915771484, 0.0026857852935791016, 0.003070354461669922, 0.003828287124633789, 0.003988027572631836, 0.004853725433349609, 0.004773378372192383, 0.0058705806732177734, 0.005707740783691406, 0.006423234939575195, 0.0067522525787353516, 0.007079601287841797, 0.007592439651489258, 0.007714748382568359, 0.008604764938354492, 0.008798360824584961, 0.00917959213256836, 0.009288549423217773, 0.009938240051269531, 0.010100126266479492, 0.010944604873657227, 0.010703802108764648, 0.010906696319580078, 0.01153254508972168, 0.011936187744140625, 0.013569831848144531]\n",
      "lgr_training_times: [2.3986215591430664, 4.427042007446289, 5.8483405113220215, 7.475382328033447, 9.23828935623169, 11.888451099395752, 11.817423820495605, 11.712364435195923, 12.87743854522705, 14.201250553131104, 15.160300016403198, 15.379838705062866, 18.019740343093872, 18.982895135879517, 18.398792028427124, 20.4948832988739, 20.359225749969482, 21.03550362586975, 22.83714485168457, 24.008208513259888, 25.406269311904907, 25.4820499420166, 27.099191427230835, 26.310337781906128, 27.421097993850708, 27.369181632995605, 27.355336904525757, 30.44025731086731, 32.19022798538208, 30.532706260681152]\n",
      "knn_inference_times: [0.3621714115142822, 0.5278475284576416, 0.733877420425415, 0.839763879776001, 0.993302583694458, 1.1751487255096436, 1.2853302955627441, 1.4842393398284912, 1.5803146362304688, 1.8220088481903076, 1.9674711227416992, 2.103940486907959, 2.2421650886535645, 2.4844400882720947, 2.683704137802124, 2.649468421936035, 2.8881947994232178, 3.1869611740112305, 3.29239559173584, 3.410515069961548, 3.590003252029419, 3.8970179557800293, 3.900510787963867, 4.110299825668335, 4.304814577102661, 4.30873703956604, 4.639004468917847, 4.734544515609741, 4.913253307342529, 4.948166131973267]\n",
      "lgr_inference_times: [0.05351686477661133, 0.0496220588684082, 0.05375385284423828, 0.05952763557434082, 0.0487971305847168, 0.050379276275634766, 0.04938554763793945, 0.03707289695739746, 0.05933213233947754, 0.05047726631164551, 0.05240464210510254, 0.049063920974731445, 0.04932999610900879, 0.05770158767700195, 0.052603721618652344, 0.04875779151916504, 0.0522310733795166, 0.05184483528137207, 0.04898262023925781, 0.05127358436584473, 0.05565690994262695, 0.05303049087524414, 0.0491483211517334, 0.050443410873413086, 0.04869985580444336, 0.050049543380737305, 0.051900386810302734, 0.06117439270019531, 0.050547122955322266, 0.05433177947998047]\n",
      "Portion 31/40\n"
     ]
    },
    {
     "name": "stderr",
     "output_type": "stream",
     "text": [
      "/home/miikey_lol/.local/lib/python3.10/site-packages/sklearn/linear_model/_logistic.py:460: ConvergenceWarning: lbfgs failed to converge (status=1):\n",
      "STOP: TOTAL NO. of ITERATIONS REACHED LIMIT.\n",
      "\n",
      "Increase the number of iterations (max_iter) or scale the data as shown in:\n",
      "    https://scikit-learn.org/stable/modules/preprocessing.html\n",
      "Please also refer to the documentation for alternative solver options:\n",
      "    https://scikit-learn.org/stable/modules/linear_model.html#logistic-regression\n",
      "  n_iter_i = _check_optimize_result(\n",
      "/home/miikey_lol/.local/lib/python3.10/site-packages/sklearn/metrics/_classification.py:2922: UserWarning: The y_pred values do not sum to one. Starting from 1.5 thiswill result in an error.\n",
      "  warnings.warn(\n",
      "/home/miikey_lol/.local/lib/python3.10/site-packages/sklearn/metrics/_classification.py:2922: UserWarning: The y_pred values do not sum to one. Starting from 1.5 thiswill result in an error.\n",
      "  warnings.warn(\n"
     ]
    },
    {
     "name": "stdout",
     "output_type": "stream",
     "text": [
      "num_samples: [2112, 4224, 6336, 8448, 10559, 12670, 14781, 16892, 19003, 21114, 23225, 25336, 27447, 29558, 31669, 33780, 35891, 38002, 40113, 42224, 44335, 46446, 48557, 50668, 52779, 54890, 57001, 59112, 61223, 63334, 65445]\n",
      "knn_accuracies: [0.5712391057218643, 0.6695244410761653, 0.7122963243652899, 0.7429897688518378, 0.7554945054945055, 0.7691360363774157, 0.7787514209928003, 0.7877510420613869, 0.7952349374763168, 0.8000189465706707, 0.8053239863584691, 0.8099658961727927, 0.8150341038272073, 0.8185865858279652, 0.821949602122016, 0.823986358469117, 0.8258336491095112, 0.82981242895036, 0.8321807502841986, 0.8336964759378552, 0.8357805987116332, 0.8382910193255021, 0.8398541114058355, 0.8411803713527851, 0.8424118984463812, 0.8434539598332702, 0.8453012504736642, 0.8460591133004927, 0.8466275104206139, 0.8489010989010989, 0.8508431223948465]\n",
      "lgr_accuracies: [0.7366426676771505, 0.8104395604395604, 0.8402330428192497, 0.8527851458885941, 0.8639636225843123, 0.8726316786661614, 0.879784009094354, 0.884331186055324, 0.8880257673361122, 0.8902519893899205, 0.8940886699507389, 0.8971201212580523, 0.8983042819249716, 0.900909435392194, 0.9029935581659719, 0.9041777188328912, 0.9058355437665783, 0.9072091701402046, 0.9084406972338007, 0.910240621447518, 0.9116142478211444, 0.9121826449412657, 0.9129878741947708, 0.9138878363016294, 0.9145983327017809, 0.9161614247821145, 0.9169666540356195, 0.9182455475558924, 0.9189560439560439, 0.9202823039029936, 0.9217032967032966]\n",
      "knn_losses: [6.29129793386976, 4.513130257780753, 3.9331587982676846, 3.5149731302320473, 3.2235603659379364, 3.02503806282649, 2.8771160315283812, 2.7684384412458245, 2.6233634277119653, 2.5374253122278354, 2.434208054932331, 2.3457035293112245, 2.274770728154711, 2.233345197143674, 2.223447498875895, 2.1956008399883205, 2.148103455399777, 2.116439101814475, 2.0802079055133023, 2.046747010971178, 2.027908695880662, 1.9923050493926489, 1.9606341853894853, 1.9459414084152173, 1.910491992423523, 1.89264473557647, 1.8730780978167918, 1.8488520155846588, 1.824814988961832, 1.8282061273128778, 1.8232778654333297]\n",
      "lgr_losses: [1.3684780554067046, 0.9271987982518046, 0.7573565550524998, 0.66160376527364, 0.5979237557930648, 0.555361195668599, 0.521968925353168, 0.4964697929778308, 0.47328235041606376, 0.45636431164323327, 0.43931705836944157, 0.42634375615263886, 0.415573963603361, 0.4041870139688768, 0.3956672035773474, 0.38552185827501256, 0.37895012246699333, 0.3718635323274908, 0.3657138485674716, 0.3596178006310531, 0.3549352403391511, 0.3506897094336832, 0.3461878437757428, 0.3421840271592163, 0.3373493601627598, 0.33291310209526587, 0.32988902890640376, 0.3253175295094531, 0.32215920066824366, 0.31874364161333724, 0.31536609473111527]\n",
      "knn_training_times: [0.0006830692291259766, 0.0011737346649169922, 0.0015690326690673828, 0.0019927024841308594, 0.0023572444915771484, 0.0026857852935791016, 0.003070354461669922, 0.003828287124633789, 0.003988027572631836, 0.004853725433349609, 0.004773378372192383, 0.0058705806732177734, 0.005707740783691406, 0.006423234939575195, 0.0067522525787353516, 0.007079601287841797, 0.007592439651489258, 0.007714748382568359, 0.008604764938354492, 0.008798360824584961, 0.00917959213256836, 0.009288549423217773, 0.009938240051269531, 0.010100126266479492, 0.010944604873657227, 0.010703802108764648, 0.010906696319580078, 0.01153254508972168, 0.011936187744140625, 0.013569831848144531, 0.02112579345703125]\n",
      "lgr_training_times: [2.3986215591430664, 4.427042007446289, 5.8483405113220215, 7.475382328033447, 9.23828935623169, 11.888451099395752, 11.817423820495605, 11.712364435195923, 12.87743854522705, 14.201250553131104, 15.160300016403198, 15.379838705062866, 18.019740343093872, 18.982895135879517, 18.398792028427124, 20.4948832988739, 20.359225749969482, 21.03550362586975, 22.83714485168457, 24.008208513259888, 25.406269311904907, 25.4820499420166, 27.099191427230835, 26.310337781906128, 27.421097993850708, 27.369181632995605, 27.355336904525757, 30.44025731086731, 32.19022798538208, 30.532706260681152, 33.584569454193115]\n",
      "knn_inference_times: [0.3621714115142822, 0.5278475284576416, 0.733877420425415, 0.839763879776001, 0.993302583694458, 1.1751487255096436, 1.2853302955627441, 1.4842393398284912, 1.5803146362304688, 1.8220088481903076, 1.9674711227416992, 2.103940486907959, 2.2421650886535645, 2.4844400882720947, 2.683704137802124, 2.649468421936035, 2.8881947994232178, 3.1869611740112305, 3.29239559173584, 3.410515069961548, 3.590003252029419, 3.8970179557800293, 3.900510787963867, 4.110299825668335, 4.304814577102661, 4.30873703956604, 4.639004468917847, 4.734544515609741, 4.913253307342529, 4.948166131973267, 5.009944915771484]\n",
      "lgr_inference_times: [0.05351686477661133, 0.0496220588684082, 0.05375385284423828, 0.05952763557434082, 0.0487971305847168, 0.050379276275634766, 0.04938554763793945, 0.03707289695739746, 0.05933213233947754, 0.05047726631164551, 0.05240464210510254, 0.049063920974731445, 0.04932999610900879, 0.05770158767700195, 0.052603721618652344, 0.04875779151916504, 0.0522310733795166, 0.05184483528137207, 0.04898262023925781, 0.05127358436584473, 0.05565690994262695, 0.05303049087524414, 0.0491483211517334, 0.050443410873413086, 0.04869985580444336, 0.050049543380737305, 0.051900386810302734, 0.06117439270019531, 0.050547122955322266, 0.05433177947998047, 0.050065040588378906]\n",
      "Portion 32/40\n"
     ]
    },
    {
     "name": "stderr",
     "output_type": "stream",
     "text": [
      "/home/miikey_lol/.local/lib/python3.10/site-packages/sklearn/linear_model/_logistic.py:460: ConvergenceWarning: lbfgs failed to converge (status=1):\n",
      "STOP: TOTAL NO. of ITERATIONS REACHED LIMIT.\n",
      "\n",
      "Increase the number of iterations (max_iter) or scale the data as shown in:\n",
      "    https://scikit-learn.org/stable/modules/preprocessing.html\n",
      "Please also refer to the documentation for alternative solver options:\n",
      "    https://scikit-learn.org/stable/modules/linear_model.html#logistic-regression\n",
      "  n_iter_i = _check_optimize_result(\n",
      "/home/miikey_lol/.local/lib/python3.10/site-packages/sklearn/metrics/_classification.py:2922: UserWarning: The y_pred values do not sum to one. Starting from 1.5 thiswill result in an error.\n",
      "  warnings.warn(\n",
      "/home/miikey_lol/.local/lib/python3.10/site-packages/sklearn/metrics/_classification.py:2922: UserWarning: The y_pred values do not sum to one. Starting from 1.5 thiswill result in an error.\n",
      "  warnings.warn(\n"
     ]
    },
    {
     "name": "stdout",
     "output_type": "stream",
     "text": [
      "num_samples: [2112, 4224, 6336, 8448, 10559, 12670, 14781, 16892, 19003, 21114, 23225, 25336, 27447, 29558, 31669, 33780, 35891, 38002, 40113, 42224, 44335, 46446, 48557, 50668, 52779, 54890, 57001, 59112, 61223, 63334, 65445, 67556]\n",
      "knn_accuracies: [0.5712391057218643, 0.6695244410761653, 0.7122963243652899, 0.7429897688518378, 0.7554945054945055, 0.7691360363774157, 0.7787514209928003, 0.7877510420613869, 0.7952349374763168, 0.8000189465706707, 0.8053239863584691, 0.8099658961727927, 0.8150341038272073, 0.8185865858279652, 0.821949602122016, 0.823986358469117, 0.8258336491095112, 0.82981242895036, 0.8321807502841986, 0.8336964759378552, 0.8357805987116332, 0.8382910193255021, 0.8398541114058355, 0.8411803713527851, 0.8424118984463812, 0.8434539598332702, 0.8453012504736642, 0.8460591133004927, 0.8466275104206139, 0.8489010989010989, 0.8508431223948465, 0.8519325502084123]\n",
      "lgr_accuracies: [0.7366426676771505, 0.8104395604395604, 0.8402330428192497, 0.8527851458885941, 0.8639636225843123, 0.8726316786661614, 0.879784009094354, 0.884331186055324, 0.8880257673361122, 0.8902519893899205, 0.8940886699507389, 0.8971201212580523, 0.8983042819249716, 0.900909435392194, 0.9029935581659719, 0.9041777188328912, 0.9058355437665783, 0.9072091701402046, 0.9084406972338007, 0.910240621447518, 0.9116142478211444, 0.9121826449412657, 0.9129878741947708, 0.9138878363016294, 0.9145983327017809, 0.9161614247821145, 0.9169666540356195, 0.9182455475558924, 0.9189560439560439, 0.9202823039029936, 0.9217032967032966, 0.9207086017430846]\n",
      "knn_losses: [6.29129793386976, 4.513130257780753, 3.9331587982676846, 3.5149731302320473, 3.2235603659379364, 3.02503806282649, 2.8771160315283812, 2.7684384412458245, 2.6233634277119653, 2.5374253122278354, 2.434208054932331, 2.3457035293112245, 2.274770728154711, 2.233345197143674, 2.223447498875895, 2.1956008399883205, 2.148103455399777, 2.116439101814475, 2.0802079055133023, 2.046747010971178, 2.027908695880662, 1.9923050493926489, 1.9606341853894853, 1.9459414084152173, 1.910491992423523, 1.89264473557647, 1.8730780978167918, 1.8488520155846588, 1.824814988961832, 1.8282061273128778, 1.8232778654333297, 1.8124640211586929]\n",
      "lgr_losses: [1.3684780554067046, 0.9271987982518046, 0.7573565550524998, 0.66160376527364, 0.5979237557930648, 0.555361195668599, 0.521968925353168, 0.4964697929778308, 0.47328235041606376, 0.45636431164323327, 0.43931705836944157, 0.42634375615263886, 0.415573963603361, 0.4041870139688768, 0.3956672035773474, 0.38552185827501256, 0.37895012246699333, 0.3718635323274908, 0.3657138485674716, 0.3596178006310531, 0.3549352403391511, 0.3506897094336832, 0.3461878437757428, 0.3421840271592163, 0.3373493601627598, 0.33291310209526587, 0.32988902890640376, 0.3253175295094531, 0.32215920066824366, 0.31874364161333724, 0.31536609473111527, 0.3129084666711907]\n",
      "knn_training_times: [0.0006830692291259766, 0.0011737346649169922, 0.0015690326690673828, 0.0019927024841308594, 0.0023572444915771484, 0.0026857852935791016, 0.003070354461669922, 0.003828287124633789, 0.003988027572631836, 0.004853725433349609, 0.004773378372192383, 0.0058705806732177734, 0.005707740783691406, 0.006423234939575195, 0.0067522525787353516, 0.007079601287841797, 0.007592439651489258, 0.007714748382568359, 0.008604764938354492, 0.008798360824584961, 0.00917959213256836, 0.009288549423217773, 0.009938240051269531, 0.010100126266479492, 0.010944604873657227, 0.010703802108764648, 0.010906696319580078, 0.01153254508972168, 0.011936187744140625, 0.013569831848144531, 0.02112579345703125, 0.013273239135742188]\n",
      "lgr_training_times: [2.3986215591430664, 4.427042007446289, 5.8483405113220215, 7.475382328033447, 9.23828935623169, 11.888451099395752, 11.817423820495605, 11.712364435195923, 12.87743854522705, 14.201250553131104, 15.160300016403198, 15.379838705062866, 18.019740343093872, 18.982895135879517, 18.398792028427124, 20.4948832988739, 20.359225749969482, 21.03550362586975, 22.83714485168457, 24.008208513259888, 25.406269311904907, 25.4820499420166, 27.099191427230835, 26.310337781906128, 27.421097993850708, 27.369181632995605, 27.355336904525757, 30.44025731086731, 32.19022798538208, 30.532706260681152, 33.584569454193115, 34.3619179725647]\n",
      "knn_inference_times: [0.3621714115142822, 0.5278475284576416, 0.733877420425415, 0.839763879776001, 0.993302583694458, 1.1751487255096436, 1.2853302955627441, 1.4842393398284912, 1.5803146362304688, 1.8220088481903076, 1.9674711227416992, 2.103940486907959, 2.2421650886535645, 2.4844400882720947, 2.683704137802124, 2.649468421936035, 2.8881947994232178, 3.1869611740112305, 3.29239559173584, 3.410515069961548, 3.590003252029419, 3.8970179557800293, 3.900510787963867, 4.110299825668335, 4.304814577102661, 4.30873703956604, 4.639004468917847, 4.734544515609741, 4.913253307342529, 4.948166131973267, 5.009944915771484, 5.220839023590088]\n",
      "lgr_inference_times: [0.05351686477661133, 0.0496220588684082, 0.05375385284423828, 0.05952763557434082, 0.0487971305847168, 0.050379276275634766, 0.04938554763793945, 0.03707289695739746, 0.05933213233947754, 0.05047726631164551, 0.05240464210510254, 0.049063920974731445, 0.04932999610900879, 0.05770158767700195, 0.052603721618652344, 0.04875779151916504, 0.0522310733795166, 0.05184483528137207, 0.04898262023925781, 0.05127358436584473, 0.05565690994262695, 0.05303049087524414, 0.0491483211517334, 0.050443410873413086, 0.04869985580444336, 0.050049543380737305, 0.051900386810302734, 0.06117439270019531, 0.050547122955322266, 0.05433177947998047, 0.050065040588378906, 0.04949784278869629]\n",
      "Portion 33/40\n"
     ]
    },
    {
     "name": "stderr",
     "output_type": "stream",
     "text": [
      "/home/miikey_lol/.local/lib/python3.10/site-packages/sklearn/linear_model/_logistic.py:460: ConvergenceWarning: lbfgs failed to converge (status=1):\n",
      "STOP: TOTAL NO. of ITERATIONS REACHED LIMIT.\n",
      "\n",
      "Increase the number of iterations (max_iter) or scale the data as shown in:\n",
      "    https://scikit-learn.org/stable/modules/preprocessing.html\n",
      "Please also refer to the documentation for alternative solver options:\n",
      "    https://scikit-learn.org/stable/modules/linear_model.html#logistic-regression\n",
      "  n_iter_i = _check_optimize_result(\n",
      "/home/miikey_lol/.local/lib/python3.10/site-packages/sklearn/metrics/_classification.py:2922: UserWarning: The y_pred values do not sum to one. Starting from 1.5 thiswill result in an error.\n",
      "  warnings.warn(\n",
      "/home/miikey_lol/.local/lib/python3.10/site-packages/sklearn/metrics/_classification.py:2922: UserWarning: The y_pred values do not sum to one. Starting from 1.5 thiswill result in an error.\n",
      "  warnings.warn(\n"
     ]
    },
    {
     "name": "stdout",
     "output_type": "stream",
     "text": [
      "num_samples: [2112, 4224, 6336, 8448, 10559, 12670, 14781, 16892, 19003, 21114, 23225, 25336, 27447, 29558, 31669, 33780, 35891, 38002, 40113, 42224, 44335, 46446, 48557, 50668, 52779, 54890, 57001, 59112, 61223, 63334, 65445, 67556, 69667]\n",
      "knn_accuracies: [0.5712391057218643, 0.6695244410761653, 0.7122963243652899, 0.7429897688518378, 0.7554945054945055, 0.7691360363774157, 0.7787514209928003, 0.7877510420613869, 0.7952349374763168, 0.8000189465706707, 0.8053239863584691, 0.8099658961727927, 0.8150341038272073, 0.8185865858279652, 0.821949602122016, 0.823986358469117, 0.8258336491095112, 0.82981242895036, 0.8321807502841986, 0.8336964759378552, 0.8357805987116332, 0.8382910193255021, 0.8398541114058355, 0.8411803713527851, 0.8424118984463812, 0.8434539598332702, 0.8453012504736642, 0.8460591133004927, 0.8466275104206139, 0.8489010989010989, 0.8508431223948465, 0.8519325502084123, 0.85240621447518]\n",
      "lgr_accuracies: [0.7366426676771505, 0.8104395604395604, 0.8402330428192497, 0.8527851458885941, 0.8639636225843123, 0.8726316786661614, 0.879784009094354, 0.884331186055324, 0.8880257673361122, 0.8902519893899205, 0.8940886699507389, 0.8971201212580523, 0.8983042819249716, 0.900909435392194, 0.9029935581659719, 0.9041777188328912, 0.9058355437665783, 0.9072091701402046, 0.9084406972338007, 0.910240621447518, 0.9116142478211444, 0.9121826449412657, 0.9129878741947708, 0.9138878363016294, 0.9145983327017809, 0.9161614247821145, 0.9169666540356195, 0.9182455475558924, 0.9189560439560439, 0.9202823039029936, 0.9217032967032966, 0.9207086017430846, 0.9211348995831754]\n",
      "knn_losses: [6.29129793386976, 4.513130257780753, 3.9331587982676846, 3.5149731302320473, 3.2235603659379364, 3.02503806282649, 2.8771160315283812, 2.7684384412458245, 2.6233634277119653, 2.5374253122278354, 2.434208054932331, 2.3457035293112245, 2.274770728154711, 2.233345197143674, 2.223447498875895, 2.1956008399883205, 2.148103455399777, 2.116439101814475, 2.0802079055133023, 2.046747010971178, 2.027908695880662, 1.9923050493926489, 1.9606341853894853, 1.9459414084152173, 1.910491992423523, 1.89264473557647, 1.8730780978167918, 1.8488520155846588, 1.824814988961832, 1.8282061273128778, 1.8232778654333297, 1.8124640211586929, 1.7972350220995639]\n",
      "lgr_losses: [1.3684780554067046, 0.9271987982518046, 0.7573565550524998, 0.66160376527364, 0.5979237557930648, 0.555361195668599, 0.521968925353168, 0.4964697929778308, 0.47328235041606376, 0.45636431164323327, 0.43931705836944157, 0.42634375615263886, 0.415573963603361, 0.4041870139688768, 0.3956672035773474, 0.38552185827501256, 0.37895012246699333, 0.3718635323274908, 0.3657138485674716, 0.3596178006310531, 0.3549352403391511, 0.3506897094336832, 0.3461878437757428, 0.3421840271592163, 0.3373493601627598, 0.33291310209526587, 0.32988902890640376, 0.3253175295094531, 0.32215920066824366, 0.31874364161333724, 0.31536609473111527, 0.3129084666711907, 0.31073438887857224]\n",
      "knn_training_times: [0.0006830692291259766, 0.0011737346649169922, 0.0015690326690673828, 0.0019927024841308594, 0.0023572444915771484, 0.0026857852935791016, 0.003070354461669922, 0.003828287124633789, 0.003988027572631836, 0.004853725433349609, 0.004773378372192383, 0.0058705806732177734, 0.005707740783691406, 0.006423234939575195, 0.0067522525787353516, 0.007079601287841797, 0.007592439651489258, 0.007714748382568359, 0.008604764938354492, 0.008798360824584961, 0.00917959213256836, 0.009288549423217773, 0.009938240051269531, 0.010100126266479492, 0.010944604873657227, 0.010703802108764648, 0.010906696319580078, 0.01153254508972168, 0.011936187744140625, 0.013569831848144531, 0.02112579345703125, 0.013273239135742188, 0.014499187469482422]\n",
      "lgr_training_times: [2.3986215591430664, 4.427042007446289, 5.8483405113220215, 7.475382328033447, 9.23828935623169, 11.888451099395752, 11.817423820495605, 11.712364435195923, 12.87743854522705, 14.201250553131104, 15.160300016403198, 15.379838705062866, 18.019740343093872, 18.982895135879517, 18.398792028427124, 20.4948832988739, 20.359225749969482, 21.03550362586975, 22.83714485168457, 24.008208513259888, 25.406269311904907, 25.4820499420166, 27.099191427230835, 26.310337781906128, 27.421097993850708, 27.369181632995605, 27.355336904525757, 30.44025731086731, 32.19022798538208, 30.532706260681152, 33.584569454193115, 34.3619179725647, 36.061593532562256]\n",
      "knn_inference_times: [0.3621714115142822, 0.5278475284576416, 0.733877420425415, 0.839763879776001, 0.993302583694458, 1.1751487255096436, 1.2853302955627441, 1.4842393398284912, 1.5803146362304688, 1.8220088481903076, 1.9674711227416992, 2.103940486907959, 2.2421650886535645, 2.4844400882720947, 2.683704137802124, 2.649468421936035, 2.8881947994232178, 3.1869611740112305, 3.29239559173584, 3.410515069961548, 3.590003252029419, 3.8970179557800293, 3.900510787963867, 4.110299825668335, 4.304814577102661, 4.30873703956604, 4.639004468917847, 4.734544515609741, 4.913253307342529, 4.948166131973267, 5.009944915771484, 5.220839023590088, 5.415168046951294]\n",
      "lgr_inference_times: [0.05351686477661133, 0.0496220588684082, 0.05375385284423828, 0.05952763557434082, 0.0487971305847168, 0.050379276275634766, 0.04938554763793945, 0.03707289695739746, 0.05933213233947754, 0.05047726631164551, 0.05240464210510254, 0.049063920974731445, 0.04932999610900879, 0.05770158767700195, 0.052603721618652344, 0.04875779151916504, 0.0522310733795166, 0.05184483528137207, 0.04898262023925781, 0.05127358436584473, 0.05565690994262695, 0.05303049087524414, 0.0491483211517334, 0.050443410873413086, 0.04869985580444336, 0.050049543380737305, 0.051900386810302734, 0.06117439270019531, 0.050547122955322266, 0.05433177947998047, 0.050065040588378906, 0.04949784278869629, 0.04946184158325195]\n",
      "Portion 34/40\n"
     ]
    },
    {
     "name": "stderr",
     "output_type": "stream",
     "text": [
      "/home/miikey_lol/.local/lib/python3.10/site-packages/sklearn/linear_model/_logistic.py:460: ConvergenceWarning: lbfgs failed to converge (status=1):\n",
      "STOP: TOTAL NO. of ITERATIONS REACHED LIMIT.\n",
      "\n",
      "Increase the number of iterations (max_iter) or scale the data as shown in:\n",
      "    https://scikit-learn.org/stable/modules/preprocessing.html\n",
      "Please also refer to the documentation for alternative solver options:\n",
      "    https://scikit-learn.org/stable/modules/linear_model.html#logistic-regression\n",
      "  n_iter_i = _check_optimize_result(\n",
      "/home/miikey_lol/.local/lib/python3.10/site-packages/sklearn/metrics/_classification.py:2922: UserWarning: The y_pred values do not sum to one. Starting from 1.5 thiswill result in an error.\n",
      "  warnings.warn(\n",
      "/home/miikey_lol/.local/lib/python3.10/site-packages/sklearn/metrics/_classification.py:2922: UserWarning: The y_pred values do not sum to one. Starting from 1.5 thiswill result in an error.\n",
      "  warnings.warn(\n"
     ]
    },
    {
     "name": "stdout",
     "output_type": "stream",
     "text": [
      "num_samples: [2112, 4224, 6336, 8448, 10559, 12670, 14781, 16892, 19003, 21114, 23225, 25336, 27447, 29558, 31669, 33780, 35891, 38002, 40113, 42224, 44335, 46446, 48557, 50668, 52779, 54890, 57001, 59112, 61223, 63334, 65445, 67556, 69667, 71778]\n",
      "knn_accuracies: [0.5712391057218643, 0.6695244410761653, 0.7122963243652899, 0.7429897688518378, 0.7554945054945055, 0.7691360363774157, 0.7787514209928003, 0.7877510420613869, 0.7952349374763168, 0.8000189465706707, 0.8053239863584691, 0.8099658961727927, 0.8150341038272073, 0.8185865858279652, 0.821949602122016, 0.823986358469117, 0.8258336491095112, 0.82981242895036, 0.8321807502841986, 0.8336964759378552, 0.8357805987116332, 0.8382910193255021, 0.8398541114058355, 0.8411803713527851, 0.8424118984463812, 0.8434539598332702, 0.8453012504736642, 0.8460591133004927, 0.8466275104206139, 0.8489010989010989, 0.8508431223948465, 0.8519325502084123, 0.85240621447518, 0.8542535051155741]\n",
      "lgr_accuracies: [0.7366426676771505, 0.8104395604395604, 0.8402330428192497, 0.8527851458885941, 0.8639636225843123, 0.8726316786661614, 0.879784009094354, 0.884331186055324, 0.8880257673361122, 0.8902519893899205, 0.8940886699507389, 0.8971201212580523, 0.8983042819249716, 0.900909435392194, 0.9029935581659719, 0.9041777188328912, 0.9058355437665783, 0.9072091701402046, 0.9084406972338007, 0.910240621447518, 0.9116142478211444, 0.9121826449412657, 0.9129878741947708, 0.9138878363016294, 0.9145983327017809, 0.9161614247821145, 0.9169666540356195, 0.9182455475558924, 0.9189560439560439, 0.9202823039029936, 0.9217032967032966, 0.9207086017430846, 0.9211348995831754, 0.9215611974232664]\n",
      "knn_losses: [6.29129793386976, 4.513130257780753, 3.9331587982676846, 3.5149731302320473, 3.2235603659379364, 3.02503806282649, 2.8771160315283812, 2.7684384412458245, 2.6233634277119653, 2.5374253122278354, 2.434208054932331, 2.3457035293112245, 2.274770728154711, 2.233345197143674, 2.223447498875895, 2.1956008399883205, 2.148103455399777, 2.116439101814475, 2.0802079055133023, 2.046747010971178, 2.027908695880662, 1.9923050493926489, 1.9606341853894853, 1.9459414084152173, 1.910491992423523, 1.89264473557647, 1.8730780978167918, 1.8488520155846588, 1.824814988961832, 1.8282061273128778, 1.8232778654333297, 1.8124640211586929, 1.7972350220995639, 1.7768561257649607]\n",
      "lgr_losses: [1.3684780554067046, 0.9271987982518046, 0.7573565550524998, 0.66160376527364, 0.5979237557930648, 0.555361195668599, 0.521968925353168, 0.4964697929778308, 0.47328235041606376, 0.45636431164323327, 0.43931705836944157, 0.42634375615263886, 0.415573963603361, 0.4041870139688768, 0.3956672035773474, 0.38552185827501256, 0.37895012246699333, 0.3718635323274908, 0.3657138485674716, 0.3596178006310531, 0.3549352403391511, 0.3506897094336832, 0.3461878437757428, 0.3421840271592163, 0.3373493601627598, 0.33291310209526587, 0.32988902890640376, 0.3253175295094531, 0.32215920066824366, 0.31874364161333724, 0.31536609473111527, 0.3129084666711907, 0.31073438887857224, 0.3090865808488285]\n",
      "knn_training_times: [0.0006830692291259766, 0.0011737346649169922, 0.0015690326690673828, 0.0019927024841308594, 0.0023572444915771484, 0.0026857852935791016, 0.003070354461669922, 0.003828287124633789, 0.003988027572631836, 0.004853725433349609, 0.004773378372192383, 0.0058705806732177734, 0.005707740783691406, 0.006423234939575195, 0.0067522525787353516, 0.007079601287841797, 0.007592439651489258, 0.007714748382568359, 0.008604764938354492, 0.008798360824584961, 0.00917959213256836, 0.009288549423217773, 0.009938240051269531, 0.010100126266479492, 0.010944604873657227, 0.010703802108764648, 0.010906696319580078, 0.01153254508972168, 0.011936187744140625, 0.013569831848144531, 0.02112579345703125, 0.013273239135742188, 0.014499187469482422, 0.014857292175292969]\n",
      "lgr_training_times: [2.3986215591430664, 4.427042007446289, 5.8483405113220215, 7.475382328033447, 9.23828935623169, 11.888451099395752, 11.817423820495605, 11.712364435195923, 12.87743854522705, 14.201250553131104, 15.160300016403198, 15.379838705062866, 18.019740343093872, 18.982895135879517, 18.398792028427124, 20.4948832988739, 20.359225749969482, 21.03550362586975, 22.83714485168457, 24.008208513259888, 25.406269311904907, 25.4820499420166, 27.099191427230835, 26.310337781906128, 27.421097993850708, 27.369181632995605, 27.355336904525757, 30.44025731086731, 32.19022798538208, 30.532706260681152, 33.584569454193115, 34.3619179725647, 36.061593532562256, 36.91121006011963]\n",
      "knn_inference_times: [0.3621714115142822, 0.5278475284576416, 0.733877420425415, 0.839763879776001, 0.993302583694458, 1.1751487255096436, 1.2853302955627441, 1.4842393398284912, 1.5803146362304688, 1.8220088481903076, 1.9674711227416992, 2.103940486907959, 2.2421650886535645, 2.4844400882720947, 2.683704137802124, 2.649468421936035, 2.8881947994232178, 3.1869611740112305, 3.29239559173584, 3.410515069961548, 3.590003252029419, 3.8970179557800293, 3.900510787963867, 4.110299825668335, 4.304814577102661, 4.30873703956604, 4.639004468917847, 4.734544515609741, 4.913253307342529, 4.948166131973267, 5.009944915771484, 5.220839023590088, 5.415168046951294, 5.799958944320679]\n",
      "lgr_inference_times: [0.05351686477661133, 0.0496220588684082, 0.05375385284423828, 0.05952763557434082, 0.0487971305847168, 0.050379276275634766, 0.04938554763793945, 0.03707289695739746, 0.05933213233947754, 0.05047726631164551, 0.05240464210510254, 0.049063920974731445, 0.04932999610900879, 0.05770158767700195, 0.052603721618652344, 0.04875779151916504, 0.0522310733795166, 0.05184483528137207, 0.04898262023925781, 0.05127358436584473, 0.05565690994262695, 0.05303049087524414, 0.0491483211517334, 0.050443410873413086, 0.04869985580444336, 0.050049543380737305, 0.051900386810302734, 0.06117439270019531, 0.050547122955322266, 0.05433177947998047, 0.050065040588378906, 0.04949784278869629, 0.04946184158325195, 0.05100750923156738]\n",
      "Portion 35/40\n"
     ]
    },
    {
     "name": "stderr",
     "output_type": "stream",
     "text": [
      "/home/miikey_lol/.local/lib/python3.10/site-packages/sklearn/linear_model/_logistic.py:460: ConvergenceWarning: lbfgs failed to converge (status=1):\n",
      "STOP: TOTAL NO. of ITERATIONS REACHED LIMIT.\n",
      "\n",
      "Increase the number of iterations (max_iter) or scale the data as shown in:\n",
      "    https://scikit-learn.org/stable/modules/preprocessing.html\n",
      "Please also refer to the documentation for alternative solver options:\n",
      "    https://scikit-learn.org/stable/modules/linear_model.html#logistic-regression\n",
      "  n_iter_i = _check_optimize_result(\n",
      "/home/miikey_lol/.local/lib/python3.10/site-packages/sklearn/metrics/_classification.py:2922: UserWarning: The y_pred values do not sum to one. Starting from 1.5 thiswill result in an error.\n",
      "  warnings.warn(\n",
      "/home/miikey_lol/.local/lib/python3.10/site-packages/sklearn/metrics/_classification.py:2922: UserWarning: The y_pred values do not sum to one. Starting from 1.5 thiswill result in an error.\n",
      "  warnings.warn(\n"
     ]
    },
    {
     "name": "stdout",
     "output_type": "stream",
     "text": [
      "num_samples: [2112, 4224, 6336, 8448, 10559, 12670, 14781, 16892, 19003, 21114, 23225, 25336, 27447, 29558, 31669, 33780, 35891, 38002, 40113, 42224, 44335, 46446, 48557, 50668, 52779, 54890, 57001, 59112, 61223, 63334, 65445, 67556, 69667, 71778, 73889]\n",
      "knn_accuracies: [0.5712391057218643, 0.6695244410761653, 0.7122963243652899, 0.7429897688518378, 0.7554945054945055, 0.7691360363774157, 0.7787514209928003, 0.7877510420613869, 0.7952349374763168, 0.8000189465706707, 0.8053239863584691, 0.8099658961727927, 0.8150341038272073, 0.8185865858279652, 0.821949602122016, 0.823986358469117, 0.8258336491095112, 0.82981242895036, 0.8321807502841986, 0.8336964759378552, 0.8357805987116332, 0.8382910193255021, 0.8398541114058355, 0.8411803713527851, 0.8424118984463812, 0.8434539598332702, 0.8453012504736642, 0.8460591133004927, 0.8466275104206139, 0.8489010989010989, 0.8508431223948465, 0.8519325502084123, 0.85240621447518, 0.8542535051155741, 0.8562428950359985]\n",
      "lgr_accuracies: [0.7366426676771505, 0.8104395604395604, 0.8402330428192497, 0.8527851458885941, 0.8639636225843123, 0.8726316786661614, 0.879784009094354, 0.884331186055324, 0.8880257673361122, 0.8902519893899205, 0.8940886699507389, 0.8971201212580523, 0.8983042819249716, 0.900909435392194, 0.9029935581659719, 0.9041777188328912, 0.9058355437665783, 0.9072091701402046, 0.9084406972338007, 0.910240621447518, 0.9116142478211444, 0.9121826449412657, 0.9129878741947708, 0.9138878363016294, 0.9145983327017809, 0.9161614247821145, 0.9169666540356195, 0.9182455475558924, 0.9189560439560439, 0.9202823039029936, 0.9217032967032966, 0.9207086017430846, 0.9211348995831754, 0.9215611974232664, 0.9219401288366805]\n",
      "knn_losses: [6.29129793386976, 4.513130257780753, 3.9331587982676846, 3.5149731302320473, 3.2235603659379364, 3.02503806282649, 2.8771160315283812, 2.7684384412458245, 2.6233634277119653, 2.5374253122278354, 2.434208054932331, 2.3457035293112245, 2.274770728154711, 2.233345197143674, 2.223447498875895, 2.1956008399883205, 2.148103455399777, 2.116439101814475, 2.0802079055133023, 2.046747010971178, 2.027908695880662, 1.9923050493926489, 1.9606341853894853, 1.9459414084152173, 1.910491992423523, 1.89264473557647, 1.8730780978167918, 1.8488520155846588, 1.824814988961832, 1.8282061273128778, 1.8232778654333297, 1.8124640211586929, 1.7972350220995639, 1.7768561257649607, 1.7548917101957862]\n",
      "lgr_losses: [1.3684780554067046, 0.9271987982518046, 0.7573565550524998, 0.66160376527364, 0.5979237557930648, 0.555361195668599, 0.521968925353168, 0.4964697929778308, 0.47328235041606376, 0.45636431164323327, 0.43931705836944157, 0.42634375615263886, 0.415573963603361, 0.4041870139688768, 0.3956672035773474, 0.38552185827501256, 0.37895012246699333, 0.3718635323274908, 0.3657138485674716, 0.3596178006310531, 0.3549352403391511, 0.3506897094336832, 0.3461878437757428, 0.3421840271592163, 0.3373493601627598, 0.33291310209526587, 0.32988902890640376, 0.3253175295094531, 0.32215920066824366, 0.31874364161333724, 0.31536609473111527, 0.3129084666711907, 0.31073438887857224, 0.3090865808488285, 0.30715894723502213]\n",
      "knn_training_times: [0.0006830692291259766, 0.0011737346649169922, 0.0015690326690673828, 0.0019927024841308594, 0.0023572444915771484, 0.0026857852935791016, 0.003070354461669922, 0.003828287124633789, 0.003988027572631836, 0.004853725433349609, 0.004773378372192383, 0.0058705806732177734, 0.005707740783691406, 0.006423234939575195, 0.0067522525787353516, 0.007079601287841797, 0.007592439651489258, 0.007714748382568359, 0.008604764938354492, 0.008798360824584961, 0.00917959213256836, 0.009288549423217773, 0.009938240051269531, 0.010100126266479492, 0.010944604873657227, 0.010703802108764648, 0.010906696319580078, 0.01153254508972168, 0.011936187744140625, 0.013569831848144531, 0.02112579345703125, 0.013273239135742188, 0.014499187469482422, 0.014857292175292969, 0.014634132385253906]\n",
      "lgr_training_times: [2.3986215591430664, 4.427042007446289, 5.8483405113220215, 7.475382328033447, 9.23828935623169, 11.888451099395752, 11.817423820495605, 11.712364435195923, 12.87743854522705, 14.201250553131104, 15.160300016403198, 15.379838705062866, 18.019740343093872, 18.982895135879517, 18.398792028427124, 20.4948832988739, 20.359225749969482, 21.03550362586975, 22.83714485168457, 24.008208513259888, 25.406269311904907, 25.4820499420166, 27.099191427230835, 26.310337781906128, 27.421097993850708, 27.369181632995605, 27.355336904525757, 30.44025731086731, 32.19022798538208, 30.532706260681152, 33.584569454193115, 34.3619179725647, 36.061593532562256, 36.91121006011963, 36.43148875236511]\n",
      "knn_inference_times: [0.3621714115142822, 0.5278475284576416, 0.733877420425415, 0.839763879776001, 0.993302583694458, 1.1751487255096436, 1.2853302955627441, 1.4842393398284912, 1.5803146362304688, 1.8220088481903076, 1.9674711227416992, 2.103940486907959, 2.2421650886535645, 2.4844400882720947, 2.683704137802124, 2.649468421936035, 2.8881947994232178, 3.1869611740112305, 3.29239559173584, 3.410515069961548, 3.590003252029419, 3.8970179557800293, 3.900510787963867, 4.110299825668335, 4.304814577102661, 4.30873703956604, 4.639004468917847, 4.734544515609741, 4.913253307342529, 4.948166131973267, 5.009944915771484, 5.220839023590088, 5.415168046951294, 5.799958944320679, 5.757781028747559]\n",
      "lgr_inference_times: [0.05351686477661133, 0.0496220588684082, 0.05375385284423828, 0.05952763557434082, 0.0487971305847168, 0.050379276275634766, 0.04938554763793945, 0.03707289695739746, 0.05933213233947754, 0.05047726631164551, 0.05240464210510254, 0.049063920974731445, 0.04932999610900879, 0.05770158767700195, 0.052603721618652344, 0.04875779151916504, 0.0522310733795166, 0.05184483528137207, 0.04898262023925781, 0.05127358436584473, 0.05565690994262695, 0.05303049087524414, 0.0491483211517334, 0.050443410873413086, 0.04869985580444336, 0.050049543380737305, 0.051900386810302734, 0.06117439270019531, 0.050547122955322266, 0.05433177947998047, 0.050065040588378906, 0.04949784278869629, 0.04946184158325195, 0.05100750923156738, 0.04938530921936035]\n",
      "Portion 36/40\n"
     ]
    },
    {
     "name": "stderr",
     "output_type": "stream",
     "text": [
      "/home/miikey_lol/.local/lib/python3.10/site-packages/sklearn/linear_model/_logistic.py:460: ConvergenceWarning: lbfgs failed to converge (status=1):\n",
      "STOP: TOTAL NO. of ITERATIONS REACHED LIMIT.\n",
      "\n",
      "Increase the number of iterations (max_iter) or scale the data as shown in:\n",
      "    https://scikit-learn.org/stable/modules/preprocessing.html\n",
      "Please also refer to the documentation for alternative solver options:\n",
      "    https://scikit-learn.org/stable/modules/linear_model.html#logistic-regression\n",
      "  n_iter_i = _check_optimize_result(\n",
      "/home/miikey_lol/.local/lib/python3.10/site-packages/sklearn/metrics/_classification.py:2922: UserWarning: The y_pred values do not sum to one. Starting from 1.5 thiswill result in an error.\n",
      "  warnings.warn(\n",
      "/home/miikey_lol/.local/lib/python3.10/site-packages/sklearn/metrics/_classification.py:2922: UserWarning: The y_pred values do not sum to one. Starting from 1.5 thiswill result in an error.\n",
      "  warnings.warn(\n"
     ]
    },
    {
     "name": "stdout",
     "output_type": "stream",
     "text": [
      "num_samples: [2112, 4224, 6336, 8448, 10559, 12670, 14781, 16892, 19003, 21114, 23225, 25336, 27447, 29558, 31669, 33780, 35891, 38002, 40113, 42224, 44335, 46446, 48557, 50668, 52779, 54890, 57001, 59112, 61223, 63334, 65445, 67556, 69667, 71778, 73889, 76000]\n",
      "knn_accuracies: [0.5712391057218643, 0.6695244410761653, 0.7122963243652899, 0.7429897688518378, 0.7554945054945055, 0.7691360363774157, 0.7787514209928003, 0.7877510420613869, 0.7952349374763168, 0.8000189465706707, 0.8053239863584691, 0.8099658961727927, 0.8150341038272073, 0.8185865858279652, 0.821949602122016, 0.823986358469117, 0.8258336491095112, 0.82981242895036, 0.8321807502841986, 0.8336964759378552, 0.8357805987116332, 0.8382910193255021, 0.8398541114058355, 0.8411803713527851, 0.8424118984463812, 0.8434539598332702, 0.8453012504736642, 0.8460591133004927, 0.8466275104206139, 0.8489010989010989, 0.8508431223948465, 0.8519325502084123, 0.85240621447518, 0.8542535051155741, 0.8562428950359985, 0.8570481242895036]\n",
      "lgr_accuracies: [0.7366426676771505, 0.8104395604395604, 0.8402330428192497, 0.8527851458885941, 0.8639636225843123, 0.8726316786661614, 0.879784009094354, 0.884331186055324, 0.8880257673361122, 0.8902519893899205, 0.8940886699507389, 0.8971201212580523, 0.8983042819249716, 0.900909435392194, 0.9029935581659719, 0.9041777188328912, 0.9058355437665783, 0.9072091701402046, 0.9084406972338007, 0.910240621447518, 0.9116142478211444, 0.9121826449412657, 0.9129878741947708, 0.9138878363016294, 0.9145983327017809, 0.9161614247821145, 0.9169666540356195, 0.9182455475558924, 0.9189560439560439, 0.9202823039029936, 0.9217032967032966, 0.9207086017430846, 0.9211348995831754, 0.9215611974232664, 0.9219401288366805, 0.9226032588101554]\n",
      "knn_losses: [6.29129793386976, 4.513130257780753, 3.9331587982676846, 3.5149731302320473, 3.2235603659379364, 3.02503806282649, 2.8771160315283812, 2.7684384412458245, 2.6233634277119653, 2.5374253122278354, 2.434208054932331, 2.3457035293112245, 2.274770728154711, 2.233345197143674, 2.223447498875895, 2.1956008399883205, 2.148103455399777, 2.116439101814475, 2.0802079055133023, 2.046747010971178, 2.027908695880662, 1.9923050493926489, 1.9606341853894853, 1.9459414084152173, 1.910491992423523, 1.89264473557647, 1.8730780978167918, 1.8488520155846588, 1.824814988961832, 1.8282061273128778, 1.8232778654333297, 1.8124640211586929, 1.7972350220995639, 1.7768561257649607, 1.7548917101957862, 1.738608701906349]\n",
      "lgr_losses: [1.3684780554067046, 0.9271987982518046, 0.7573565550524998, 0.66160376527364, 0.5979237557930648, 0.555361195668599, 0.521968925353168, 0.4964697929778308, 0.47328235041606376, 0.45636431164323327, 0.43931705836944157, 0.42634375615263886, 0.415573963603361, 0.4041870139688768, 0.3956672035773474, 0.38552185827501256, 0.37895012246699333, 0.3718635323274908, 0.3657138485674716, 0.3596178006310531, 0.3549352403391511, 0.3506897094336832, 0.3461878437757428, 0.3421840271592163, 0.3373493601627598, 0.33291310209526587, 0.32988902890640376, 0.3253175295094531, 0.32215920066824366, 0.31874364161333724, 0.31536609473111527, 0.3129084666711907, 0.31073438887857224, 0.3090865808488285, 0.30715894723502213, 0.30512021711411896]\n",
      "knn_training_times: [0.0006830692291259766, 0.0011737346649169922, 0.0015690326690673828, 0.0019927024841308594, 0.0023572444915771484, 0.0026857852935791016, 0.003070354461669922, 0.003828287124633789, 0.003988027572631836, 0.004853725433349609, 0.004773378372192383, 0.0058705806732177734, 0.005707740783691406, 0.006423234939575195, 0.0067522525787353516, 0.007079601287841797, 0.007592439651489258, 0.007714748382568359, 0.008604764938354492, 0.008798360824584961, 0.00917959213256836, 0.009288549423217773, 0.009938240051269531, 0.010100126266479492, 0.010944604873657227, 0.010703802108764648, 0.010906696319580078, 0.01153254508972168, 0.011936187744140625, 0.013569831848144531, 0.02112579345703125, 0.013273239135742188, 0.014499187469482422, 0.014857292175292969, 0.014634132385253906, 0.016870975494384766]\n",
      "lgr_training_times: [2.3986215591430664, 4.427042007446289, 5.8483405113220215, 7.475382328033447, 9.23828935623169, 11.888451099395752, 11.817423820495605, 11.712364435195923, 12.87743854522705, 14.201250553131104, 15.160300016403198, 15.379838705062866, 18.019740343093872, 18.982895135879517, 18.398792028427124, 20.4948832988739, 20.359225749969482, 21.03550362586975, 22.83714485168457, 24.008208513259888, 25.406269311904907, 25.4820499420166, 27.099191427230835, 26.310337781906128, 27.421097993850708, 27.369181632995605, 27.355336904525757, 30.44025731086731, 32.19022798538208, 30.532706260681152, 33.584569454193115, 34.3619179725647, 36.061593532562256, 36.91121006011963, 36.43148875236511, 38.401285886764526]\n",
      "knn_inference_times: [0.3621714115142822, 0.5278475284576416, 0.733877420425415, 0.839763879776001, 0.993302583694458, 1.1751487255096436, 1.2853302955627441, 1.4842393398284912, 1.5803146362304688, 1.8220088481903076, 1.9674711227416992, 2.103940486907959, 2.2421650886535645, 2.4844400882720947, 2.683704137802124, 2.649468421936035, 2.8881947994232178, 3.1869611740112305, 3.29239559173584, 3.410515069961548, 3.590003252029419, 3.8970179557800293, 3.900510787963867, 4.110299825668335, 4.304814577102661, 4.30873703956604, 4.639004468917847, 4.734544515609741, 4.913253307342529, 4.948166131973267, 5.009944915771484, 5.220839023590088, 5.415168046951294, 5.799958944320679, 5.757781028747559, 6.18490743637085]\n",
      "lgr_inference_times: [0.05351686477661133, 0.0496220588684082, 0.05375385284423828, 0.05952763557434082, 0.0487971305847168, 0.050379276275634766, 0.04938554763793945, 0.03707289695739746, 0.05933213233947754, 0.05047726631164551, 0.05240464210510254, 0.049063920974731445, 0.04932999610900879, 0.05770158767700195, 0.052603721618652344, 0.04875779151916504, 0.0522310733795166, 0.05184483528137207, 0.04898262023925781, 0.05127358436584473, 0.05565690994262695, 0.05303049087524414, 0.0491483211517334, 0.050443410873413086, 0.04869985580444336, 0.050049543380737305, 0.051900386810302734, 0.06117439270019531, 0.050547122955322266, 0.05433177947998047, 0.050065040588378906, 0.04949784278869629, 0.04946184158325195, 0.05100750923156738, 0.04938530921936035, 0.06287240982055664]\n",
      "Portion 37/40\n"
     ]
    },
    {
     "name": "stderr",
     "output_type": "stream",
     "text": [
      "/home/miikey_lol/.local/lib/python3.10/site-packages/sklearn/linear_model/_logistic.py:460: ConvergenceWarning: lbfgs failed to converge (status=1):\n",
      "STOP: TOTAL NO. of ITERATIONS REACHED LIMIT.\n",
      "\n",
      "Increase the number of iterations (max_iter) or scale the data as shown in:\n",
      "    https://scikit-learn.org/stable/modules/preprocessing.html\n",
      "Please also refer to the documentation for alternative solver options:\n",
      "    https://scikit-learn.org/stable/modules/linear_model.html#logistic-regression\n",
      "  n_iter_i = _check_optimize_result(\n",
      "/home/miikey_lol/.local/lib/python3.10/site-packages/sklearn/metrics/_classification.py:2922: UserWarning: The y_pred values do not sum to one. Starting from 1.5 thiswill result in an error.\n",
      "  warnings.warn(\n",
      "/home/miikey_lol/.local/lib/python3.10/site-packages/sklearn/metrics/_classification.py:2922: UserWarning: The y_pred values do not sum to one. Starting from 1.5 thiswill result in an error.\n",
      "  warnings.warn(\n"
     ]
    },
    {
     "name": "stdout",
     "output_type": "stream",
     "text": [
      "num_samples: [2112, 4224, 6336, 8448, 10559, 12670, 14781, 16892, 19003, 21114, 23225, 25336, 27447, 29558, 31669, 33780, 35891, 38002, 40113, 42224, 44335, 46446, 48557, 50668, 52779, 54890, 57001, 59112, 61223, 63334, 65445, 67556, 69667, 71778, 73889, 76000, 78111]\n",
      "knn_accuracies: [0.5712391057218643, 0.6695244410761653, 0.7122963243652899, 0.7429897688518378, 0.7554945054945055, 0.7691360363774157, 0.7787514209928003, 0.7877510420613869, 0.7952349374763168, 0.8000189465706707, 0.8053239863584691, 0.8099658961727927, 0.8150341038272073, 0.8185865858279652, 0.821949602122016, 0.823986358469117, 0.8258336491095112, 0.82981242895036, 0.8321807502841986, 0.8336964759378552, 0.8357805987116332, 0.8382910193255021, 0.8398541114058355, 0.8411803713527851, 0.8424118984463812, 0.8434539598332702, 0.8453012504736642, 0.8460591133004927, 0.8466275104206139, 0.8489010989010989, 0.8508431223948465, 0.8519325502084123, 0.85240621447518, 0.8542535051155741, 0.8562428950359985, 0.8570481242895036, 0.857379689276241]\n",
      "lgr_accuracies: [0.7366426676771505, 0.8104395604395604, 0.8402330428192497, 0.8527851458885941, 0.8639636225843123, 0.8726316786661614, 0.879784009094354, 0.884331186055324, 0.8880257673361122, 0.8902519893899205, 0.8940886699507389, 0.8971201212580523, 0.8983042819249716, 0.900909435392194, 0.9029935581659719, 0.9041777188328912, 0.9058355437665783, 0.9072091701402046, 0.9084406972338007, 0.910240621447518, 0.9116142478211444, 0.9121826449412657, 0.9129878741947708, 0.9138878363016294, 0.9145983327017809, 0.9161614247821145, 0.9169666540356195, 0.9182455475558924, 0.9189560439560439, 0.9202823039029936, 0.9217032967032966, 0.9207086017430846, 0.9211348995831754, 0.9215611974232664, 0.9219401288366805, 0.9226032588101554, 0.9230769230769231]\n",
      "knn_losses: [6.29129793386976, 4.513130257780753, 3.9331587982676846, 3.5149731302320473, 3.2235603659379364, 3.02503806282649, 2.8771160315283812, 2.7684384412458245, 2.6233634277119653, 2.5374253122278354, 2.434208054932331, 2.3457035293112245, 2.274770728154711, 2.233345197143674, 2.223447498875895, 2.1956008399883205, 2.148103455399777, 2.116439101814475, 2.0802079055133023, 2.046747010971178, 2.027908695880662, 1.9923050493926489, 1.9606341853894853, 1.9459414084152173, 1.910491992423523, 1.89264473557647, 1.8730780978167918, 1.8488520155846588, 1.824814988961832, 1.8282061273128778, 1.8232778654333297, 1.8124640211586929, 1.7972350220995639, 1.7768561257649607, 1.7548917101957862, 1.738608701906349, 1.7304079296475676]\n",
      "lgr_losses: [1.3684780554067046, 0.9271987982518046, 0.7573565550524998, 0.66160376527364, 0.5979237557930648, 0.555361195668599, 0.521968925353168, 0.4964697929778308, 0.47328235041606376, 0.45636431164323327, 0.43931705836944157, 0.42634375615263886, 0.415573963603361, 0.4041870139688768, 0.3956672035773474, 0.38552185827501256, 0.37895012246699333, 0.3718635323274908, 0.3657138485674716, 0.3596178006310531, 0.3549352403391511, 0.3506897094336832, 0.3461878437757428, 0.3421840271592163, 0.3373493601627598, 0.33291310209526587, 0.32988902890640376, 0.3253175295094531, 0.32215920066824366, 0.31874364161333724, 0.31536609473111527, 0.3129084666711907, 0.31073438887857224, 0.3090865808488285, 0.30715894723502213, 0.30512021711411896, 0.3022162651821244]\n",
      "knn_training_times: [0.0006830692291259766, 0.0011737346649169922, 0.0015690326690673828, 0.0019927024841308594, 0.0023572444915771484, 0.0026857852935791016, 0.003070354461669922, 0.003828287124633789, 0.003988027572631836, 0.004853725433349609, 0.004773378372192383, 0.0058705806732177734, 0.005707740783691406, 0.006423234939575195, 0.0067522525787353516, 0.007079601287841797, 0.007592439651489258, 0.007714748382568359, 0.008604764938354492, 0.008798360824584961, 0.00917959213256836, 0.009288549423217773, 0.009938240051269531, 0.010100126266479492, 0.010944604873657227, 0.010703802108764648, 0.010906696319580078, 0.01153254508972168, 0.011936187744140625, 0.013569831848144531, 0.02112579345703125, 0.013273239135742188, 0.014499187469482422, 0.014857292175292969, 0.014634132385253906, 0.016870975494384766, 0.015714168548583984]\n",
      "lgr_training_times: [2.3986215591430664, 4.427042007446289, 5.8483405113220215, 7.475382328033447, 9.23828935623169, 11.888451099395752, 11.817423820495605, 11.712364435195923, 12.87743854522705, 14.201250553131104, 15.160300016403198, 15.379838705062866, 18.019740343093872, 18.982895135879517, 18.398792028427124, 20.4948832988739, 20.359225749969482, 21.03550362586975, 22.83714485168457, 24.008208513259888, 25.406269311904907, 25.4820499420166, 27.099191427230835, 26.310337781906128, 27.421097993850708, 27.369181632995605, 27.355336904525757, 30.44025731086731, 32.19022798538208, 30.532706260681152, 33.584569454193115, 34.3619179725647, 36.061593532562256, 36.91121006011963, 36.43148875236511, 38.401285886764526, 37.06825494766235]\n",
      "knn_inference_times: [0.3621714115142822, 0.5278475284576416, 0.733877420425415, 0.839763879776001, 0.993302583694458, 1.1751487255096436, 1.2853302955627441, 1.4842393398284912, 1.5803146362304688, 1.8220088481903076, 1.9674711227416992, 2.103940486907959, 2.2421650886535645, 2.4844400882720947, 2.683704137802124, 2.649468421936035, 2.8881947994232178, 3.1869611740112305, 3.29239559173584, 3.410515069961548, 3.590003252029419, 3.8970179557800293, 3.900510787963867, 4.110299825668335, 4.304814577102661, 4.30873703956604, 4.639004468917847, 4.734544515609741, 4.913253307342529, 4.948166131973267, 5.009944915771484, 5.220839023590088, 5.415168046951294, 5.799958944320679, 5.757781028747559, 6.18490743637085, 6.170290231704712]\n",
      "lgr_inference_times: [0.05351686477661133, 0.0496220588684082, 0.05375385284423828, 0.05952763557434082, 0.0487971305847168, 0.050379276275634766, 0.04938554763793945, 0.03707289695739746, 0.05933213233947754, 0.05047726631164551, 0.05240464210510254, 0.049063920974731445, 0.04932999610900879, 0.05770158767700195, 0.052603721618652344, 0.04875779151916504, 0.0522310733795166, 0.05184483528137207, 0.04898262023925781, 0.05127358436584473, 0.05565690994262695, 0.05303049087524414, 0.0491483211517334, 0.050443410873413086, 0.04869985580444336, 0.050049543380737305, 0.051900386810302734, 0.06117439270019531, 0.050547122955322266, 0.05433177947998047, 0.050065040588378906, 0.04949784278869629, 0.04946184158325195, 0.05100750923156738, 0.04938530921936035, 0.06287240982055664, 0.05116438865661621]\n",
      "Portion 38/40\n"
     ]
    },
    {
     "name": "stderr",
     "output_type": "stream",
     "text": [
      "/home/miikey_lol/.local/lib/python3.10/site-packages/sklearn/linear_model/_logistic.py:460: ConvergenceWarning: lbfgs failed to converge (status=1):\n",
      "STOP: TOTAL NO. of ITERATIONS REACHED LIMIT.\n",
      "\n",
      "Increase the number of iterations (max_iter) or scale the data as shown in:\n",
      "    https://scikit-learn.org/stable/modules/preprocessing.html\n",
      "Please also refer to the documentation for alternative solver options:\n",
      "    https://scikit-learn.org/stable/modules/linear_model.html#logistic-regression\n",
      "  n_iter_i = _check_optimize_result(\n",
      "/home/miikey_lol/.local/lib/python3.10/site-packages/sklearn/metrics/_classification.py:2922: UserWarning: The y_pred values do not sum to one. Starting from 1.5 thiswill result in an error.\n",
      "  warnings.warn(\n",
      "/home/miikey_lol/.local/lib/python3.10/site-packages/sklearn/metrics/_classification.py:2922: UserWarning: The y_pred values do not sum to one. Starting from 1.5 thiswill result in an error.\n",
      "  warnings.warn(\n"
     ]
    },
    {
     "name": "stdout",
     "output_type": "stream",
     "text": [
      "num_samples: [2112, 4224, 6336, 8448, 10559, 12670, 14781, 16892, 19003, 21114, 23225, 25336, 27447, 29558, 31669, 33780, 35891, 38002, 40113, 42224, 44335, 46446, 48557, 50668, 52779, 54890, 57001, 59112, 61223, 63334, 65445, 67556, 69667, 71778, 73889, 76000, 78111, 80222]\n",
      "knn_accuracies: [0.5712391057218643, 0.6695244410761653, 0.7122963243652899, 0.7429897688518378, 0.7554945054945055, 0.7691360363774157, 0.7787514209928003, 0.7877510420613869, 0.7952349374763168, 0.8000189465706707, 0.8053239863584691, 0.8099658961727927, 0.8150341038272073, 0.8185865858279652, 0.821949602122016, 0.823986358469117, 0.8258336491095112, 0.82981242895036, 0.8321807502841986, 0.8336964759378552, 0.8357805987116332, 0.8382910193255021, 0.8398541114058355, 0.8411803713527851, 0.8424118984463812, 0.8434539598332702, 0.8453012504736642, 0.8460591133004927, 0.8466275104206139, 0.8489010989010989, 0.8508431223948465, 0.8519325502084123, 0.85240621447518, 0.8542535051155741, 0.8562428950359985, 0.8570481242895036, 0.857379689276241, 0.8580428192497158]\n",
      "lgr_accuracies: [0.7366426676771505, 0.8104395604395604, 0.8402330428192497, 0.8527851458885941, 0.8639636225843123, 0.8726316786661614, 0.879784009094354, 0.884331186055324, 0.8880257673361122, 0.8902519893899205, 0.8940886699507389, 0.8971201212580523, 0.8983042819249716, 0.900909435392194, 0.9029935581659719, 0.9041777188328912, 0.9058355437665783, 0.9072091701402046, 0.9084406972338007, 0.910240621447518, 0.9116142478211444, 0.9121826449412657, 0.9129878741947708, 0.9138878363016294, 0.9145983327017809, 0.9161614247821145, 0.9169666540356195, 0.9182455475558924, 0.9189560439560439, 0.9202823039029936, 0.9217032967032966, 0.9207086017430846, 0.9211348995831754, 0.9215611974232664, 0.9219401288366805, 0.9226032588101554, 0.9230769230769231, 0.9239768851837817]\n",
      "knn_losses: [6.29129793386976, 4.513130257780753, 3.9331587982676846, 3.5149731302320473, 3.2235603659379364, 3.02503806282649, 2.8771160315283812, 2.7684384412458245, 2.6233634277119653, 2.5374253122278354, 2.434208054932331, 2.3457035293112245, 2.274770728154711, 2.233345197143674, 2.223447498875895, 2.1956008399883205, 2.148103455399777, 2.116439101814475, 2.0802079055133023, 2.046747010971178, 2.027908695880662, 1.9923050493926489, 1.9606341853894853, 1.9459414084152173, 1.910491992423523, 1.89264473557647, 1.8730780978167918, 1.8488520155846588, 1.824814988961832, 1.8282061273128778, 1.8232778654333297, 1.8124640211586929, 1.7972350220995639, 1.7768561257649607, 1.7548917101957862, 1.738608701906349, 1.7304079296475676, 1.7214529760856347]\n",
      "lgr_losses: [1.3684780554067046, 0.9271987982518046, 0.7573565550524998, 0.66160376527364, 0.5979237557930648, 0.555361195668599, 0.521968925353168, 0.4964697929778308, 0.47328235041606376, 0.45636431164323327, 0.43931705836944157, 0.42634375615263886, 0.415573963603361, 0.4041870139688768, 0.3956672035773474, 0.38552185827501256, 0.37895012246699333, 0.3718635323274908, 0.3657138485674716, 0.3596178006310531, 0.3549352403391511, 0.3506897094336832, 0.3461878437757428, 0.3421840271592163, 0.3373493601627598, 0.33291310209526587, 0.32988902890640376, 0.3253175295094531, 0.32215920066824366, 0.31874364161333724, 0.31536609473111527, 0.3129084666711907, 0.31073438887857224, 0.3090865808488285, 0.30715894723502213, 0.30512021711411896, 0.3022162651821244, 0.29993455423104387]\n",
      "knn_training_times: [0.0006830692291259766, 0.0011737346649169922, 0.0015690326690673828, 0.0019927024841308594, 0.0023572444915771484, 0.0026857852935791016, 0.003070354461669922, 0.003828287124633789, 0.003988027572631836, 0.004853725433349609, 0.004773378372192383, 0.0058705806732177734, 0.005707740783691406, 0.006423234939575195, 0.0067522525787353516, 0.007079601287841797, 0.007592439651489258, 0.007714748382568359, 0.008604764938354492, 0.008798360824584961, 0.00917959213256836, 0.009288549423217773, 0.009938240051269531, 0.010100126266479492, 0.010944604873657227, 0.010703802108764648, 0.010906696319580078, 0.01153254508972168, 0.011936187744140625, 0.013569831848144531, 0.02112579345703125, 0.013273239135742188, 0.014499187469482422, 0.014857292175292969, 0.014634132385253906, 0.016870975494384766, 0.015714168548583984, 0.016663312911987305]\n",
      "lgr_training_times: [2.3986215591430664, 4.427042007446289, 5.8483405113220215, 7.475382328033447, 9.23828935623169, 11.888451099395752, 11.817423820495605, 11.712364435195923, 12.87743854522705, 14.201250553131104, 15.160300016403198, 15.379838705062866, 18.019740343093872, 18.982895135879517, 18.398792028427124, 20.4948832988739, 20.359225749969482, 21.03550362586975, 22.83714485168457, 24.008208513259888, 25.406269311904907, 25.4820499420166, 27.099191427230835, 26.310337781906128, 27.421097993850708, 27.369181632995605, 27.355336904525757, 30.44025731086731, 32.19022798538208, 30.532706260681152, 33.584569454193115, 34.3619179725647, 36.061593532562256, 36.91121006011963, 36.43148875236511, 38.401285886764526, 37.06825494766235, 39.96877312660217]\n",
      "knn_inference_times: [0.3621714115142822, 0.5278475284576416, 0.733877420425415, 0.839763879776001, 0.993302583694458, 1.1751487255096436, 1.2853302955627441, 1.4842393398284912, 1.5803146362304688, 1.8220088481903076, 1.9674711227416992, 2.103940486907959, 2.2421650886535645, 2.4844400882720947, 2.683704137802124, 2.649468421936035, 2.8881947994232178, 3.1869611740112305, 3.29239559173584, 3.410515069961548, 3.590003252029419, 3.8970179557800293, 3.900510787963867, 4.110299825668335, 4.304814577102661, 4.30873703956604, 4.639004468917847, 4.734544515609741, 4.913253307342529, 4.948166131973267, 5.009944915771484, 5.220839023590088, 5.415168046951294, 5.799958944320679, 5.757781028747559, 6.18490743637085, 6.170290231704712, 6.371239185333252]\n",
      "lgr_inference_times: [0.05351686477661133, 0.0496220588684082, 0.05375385284423828, 0.05952763557434082, 0.0487971305847168, 0.050379276275634766, 0.04938554763793945, 0.03707289695739746, 0.05933213233947754, 0.05047726631164551, 0.05240464210510254, 0.049063920974731445, 0.04932999610900879, 0.05770158767700195, 0.052603721618652344, 0.04875779151916504, 0.0522310733795166, 0.05184483528137207, 0.04898262023925781, 0.05127358436584473, 0.05565690994262695, 0.05303049087524414, 0.0491483211517334, 0.050443410873413086, 0.04869985580444336, 0.050049543380737305, 0.051900386810302734, 0.06117439270019531, 0.050547122955322266, 0.05433177947998047, 0.050065040588378906, 0.04949784278869629, 0.04946184158325195, 0.05100750923156738, 0.04938530921936035, 0.06287240982055664, 0.05116438865661621, 0.04968738555908203]\n",
      "Portion 39/40\n"
     ]
    },
    {
     "name": "stderr",
     "output_type": "stream",
     "text": [
      "/home/miikey_lol/.local/lib/python3.10/site-packages/sklearn/linear_model/_logistic.py:460: ConvergenceWarning: lbfgs failed to converge (status=1):\n",
      "STOP: TOTAL NO. of ITERATIONS REACHED LIMIT.\n",
      "\n",
      "Increase the number of iterations (max_iter) or scale the data as shown in:\n",
      "    https://scikit-learn.org/stable/modules/preprocessing.html\n",
      "Please also refer to the documentation for alternative solver options:\n",
      "    https://scikit-learn.org/stable/modules/linear_model.html#logistic-regression\n",
      "  n_iter_i = _check_optimize_result(\n",
      "/home/miikey_lol/.local/lib/python3.10/site-packages/sklearn/metrics/_classification.py:2922: UserWarning: The y_pred values do not sum to one. Starting from 1.5 thiswill result in an error.\n",
      "  warnings.warn(\n",
      "/home/miikey_lol/.local/lib/python3.10/site-packages/sklearn/metrics/_classification.py:2922: UserWarning: The y_pred values do not sum to one. Starting from 1.5 thiswill result in an error.\n",
      "  warnings.warn(\n"
     ]
    },
    {
     "name": "stdout",
     "output_type": "stream",
     "text": [
      "num_samples: [2112, 4224, 6336, 8448, 10559, 12670, 14781, 16892, 19003, 21114, 23225, 25336, 27447, 29558, 31669, 33780, 35891, 38002, 40113, 42224, 44335, 46446, 48557, 50668, 52779, 54890, 57001, 59112, 61223, 63334, 65445, 67556, 69667, 71778, 73889, 76000, 78111, 80222, 82333]\n",
      "knn_accuracies: [0.5712391057218643, 0.6695244410761653, 0.7122963243652899, 0.7429897688518378, 0.7554945054945055, 0.7691360363774157, 0.7787514209928003, 0.7877510420613869, 0.7952349374763168, 0.8000189465706707, 0.8053239863584691, 0.8099658961727927, 0.8150341038272073, 0.8185865858279652, 0.821949602122016, 0.823986358469117, 0.8258336491095112, 0.82981242895036, 0.8321807502841986, 0.8336964759378552, 0.8357805987116332, 0.8382910193255021, 0.8398541114058355, 0.8411803713527851, 0.8424118984463812, 0.8434539598332702, 0.8453012504736642, 0.8460591133004927, 0.8466275104206139, 0.8489010989010989, 0.8508431223948465, 0.8519325502084123, 0.85240621447518, 0.8542535051155741, 0.8562428950359985, 0.8570481242895036, 0.857379689276241, 0.8580428192497158, 0.8586112163698371]\n",
      "lgr_accuracies: [0.7366426676771505, 0.8104395604395604, 0.8402330428192497, 0.8527851458885941, 0.8639636225843123, 0.8726316786661614, 0.879784009094354, 0.884331186055324, 0.8880257673361122, 0.8902519893899205, 0.8940886699507389, 0.8971201212580523, 0.8983042819249716, 0.900909435392194, 0.9029935581659719, 0.9041777188328912, 0.9058355437665783, 0.9072091701402046, 0.9084406972338007, 0.910240621447518, 0.9116142478211444, 0.9121826449412657, 0.9129878741947708, 0.9138878363016294, 0.9145983327017809, 0.9161614247821145, 0.9169666540356195, 0.9182455475558924, 0.9189560439560439, 0.9202823039029936, 0.9217032967032966, 0.9207086017430846, 0.9211348995831754, 0.9215611974232664, 0.9219401288366805, 0.9226032588101554, 0.9230769230769231, 0.9239768851837817, 0.9240716180371353]\n",
      "knn_losses: [6.29129793386976, 4.513130257780753, 3.9331587982676846, 3.5149731302320473, 3.2235603659379364, 3.02503806282649, 2.8771160315283812, 2.7684384412458245, 2.6233634277119653, 2.5374253122278354, 2.434208054932331, 2.3457035293112245, 2.274770728154711, 2.233345197143674, 2.223447498875895, 2.1956008399883205, 2.148103455399777, 2.116439101814475, 2.0802079055133023, 2.046747010971178, 2.027908695880662, 1.9923050493926489, 1.9606341853894853, 1.9459414084152173, 1.910491992423523, 1.89264473557647, 1.8730780978167918, 1.8488520155846588, 1.824814988961832, 1.8282061273128778, 1.8232778654333297, 1.8124640211586929, 1.7972350220995639, 1.7768561257649607, 1.7548917101957862, 1.738608701906349, 1.7304079296475676, 1.7214529760856347, 1.7036464878997293]\n",
      "lgr_losses: [1.3684780554067046, 0.9271987982518046, 0.7573565550524998, 0.66160376527364, 0.5979237557930648, 0.555361195668599, 0.521968925353168, 0.4964697929778308, 0.47328235041606376, 0.45636431164323327, 0.43931705836944157, 0.42634375615263886, 0.415573963603361, 0.4041870139688768, 0.3956672035773474, 0.38552185827501256, 0.37895012246699333, 0.3718635323274908, 0.3657138485674716, 0.3596178006310531, 0.3549352403391511, 0.3506897094336832, 0.3461878437757428, 0.3421840271592163, 0.3373493601627598, 0.33291310209526587, 0.32988902890640376, 0.3253175295094531, 0.32215920066824366, 0.31874364161333724, 0.31536609473111527, 0.3129084666711907, 0.31073438887857224, 0.3090865808488285, 0.30715894723502213, 0.30512021711411896, 0.3022162651821244, 0.29993455423104387, 0.2983682393721714]\n",
      "knn_training_times: [0.0006830692291259766, 0.0011737346649169922, 0.0015690326690673828, 0.0019927024841308594, 0.0023572444915771484, 0.0026857852935791016, 0.003070354461669922, 0.003828287124633789, 0.003988027572631836, 0.004853725433349609, 0.004773378372192383, 0.0058705806732177734, 0.005707740783691406, 0.006423234939575195, 0.0067522525787353516, 0.007079601287841797, 0.007592439651489258, 0.007714748382568359, 0.008604764938354492, 0.008798360824584961, 0.00917959213256836, 0.009288549423217773, 0.009938240051269531, 0.010100126266479492, 0.010944604873657227, 0.010703802108764648, 0.010906696319580078, 0.01153254508972168, 0.011936187744140625, 0.013569831848144531, 0.02112579345703125, 0.013273239135742188, 0.014499187469482422, 0.014857292175292969, 0.014634132385253906, 0.016870975494384766, 0.015714168548583984, 0.016663312911987305, 0.01762247085571289]\n",
      "lgr_training_times: [2.3986215591430664, 4.427042007446289, 5.8483405113220215, 7.475382328033447, 9.23828935623169, 11.888451099395752, 11.817423820495605, 11.712364435195923, 12.87743854522705, 14.201250553131104, 15.160300016403198, 15.379838705062866, 18.019740343093872, 18.982895135879517, 18.398792028427124, 20.4948832988739, 20.359225749969482, 21.03550362586975, 22.83714485168457, 24.008208513259888, 25.406269311904907, 25.4820499420166, 27.099191427230835, 26.310337781906128, 27.421097993850708, 27.369181632995605, 27.355336904525757, 30.44025731086731, 32.19022798538208, 30.532706260681152, 33.584569454193115, 34.3619179725647, 36.061593532562256, 36.91121006011963, 36.43148875236511, 38.401285886764526, 37.06825494766235, 39.96877312660217, 43.394932985305786]\n",
      "knn_inference_times: [0.3621714115142822, 0.5278475284576416, 0.733877420425415, 0.839763879776001, 0.993302583694458, 1.1751487255096436, 1.2853302955627441, 1.4842393398284912, 1.5803146362304688, 1.8220088481903076, 1.9674711227416992, 2.103940486907959, 2.2421650886535645, 2.4844400882720947, 2.683704137802124, 2.649468421936035, 2.8881947994232178, 3.1869611740112305, 3.29239559173584, 3.410515069961548, 3.590003252029419, 3.8970179557800293, 3.900510787963867, 4.110299825668335, 4.304814577102661, 4.30873703956604, 4.639004468917847, 4.734544515609741, 4.913253307342529, 4.948166131973267, 5.009944915771484, 5.220839023590088, 5.415168046951294, 5.799958944320679, 5.757781028747559, 6.18490743637085, 6.170290231704712, 6.371239185333252, 6.363522052764893]\n",
      "lgr_inference_times: [0.05351686477661133, 0.0496220588684082, 0.05375385284423828, 0.05952763557434082, 0.0487971305847168, 0.050379276275634766, 0.04938554763793945, 0.03707289695739746, 0.05933213233947754, 0.05047726631164551, 0.05240464210510254, 0.049063920974731445, 0.04932999610900879, 0.05770158767700195, 0.052603721618652344, 0.04875779151916504, 0.0522310733795166, 0.05184483528137207, 0.04898262023925781, 0.05127358436584473, 0.05565690994262695, 0.05303049087524414, 0.0491483211517334, 0.050443410873413086, 0.04869985580444336, 0.050049543380737305, 0.051900386810302734, 0.06117439270019531, 0.050547122955322266, 0.05433177947998047, 0.050065040588378906, 0.04949784278869629, 0.04946184158325195, 0.05100750923156738, 0.04938530921936035, 0.06287240982055664, 0.05116438865661621, 0.04968738555908203, 0.07128453254699707]\n",
      "Portion 40/40\n"
     ]
    },
    {
     "name": "stderr",
     "output_type": "stream",
     "text": [
      "/home/miikey_lol/.local/lib/python3.10/site-packages/sklearn/linear_model/_logistic.py:460: ConvergenceWarning: lbfgs failed to converge (status=1):\n",
      "STOP: TOTAL NO. of ITERATIONS REACHED LIMIT.\n",
      "\n",
      "Increase the number of iterations (max_iter) or scale the data as shown in:\n",
      "    https://scikit-learn.org/stable/modules/preprocessing.html\n",
      "Please also refer to the documentation for alternative solver options:\n",
      "    https://scikit-learn.org/stable/modules/linear_model.html#logistic-regression\n",
      "  n_iter_i = _check_optimize_result(\n",
      "/home/miikey_lol/.local/lib/python3.10/site-packages/sklearn/metrics/_classification.py:2922: UserWarning: The y_pred values do not sum to one. Starting from 1.5 thiswill result in an error.\n",
      "  warnings.warn(\n",
      "/home/miikey_lol/.local/lib/python3.10/site-packages/sklearn/metrics/_classification.py:2922: UserWarning: The y_pred values do not sum to one. Starting from 1.5 thiswill result in an error.\n",
      "  warnings.warn(\n"
     ]
    },
    {
     "name": "stdout",
     "output_type": "stream",
     "text": [
      "num_samples: [2112, 4224, 6336, 8448, 10559, 12670, 14781, 16892, 19003, 21114, 23225, 25336, 27447, 29558, 31669, 33780, 35891, 38002, 40113, 42224, 44335, 46446, 48557, 50668, 52779, 54890, 57001, 59112, 61223, 63334, 65445, 67556, 69667, 71778, 73889, 76000, 78111, 80222, 82333, 84444]\n",
      "knn_accuracies: [0.5712391057218643, 0.6695244410761653, 0.7122963243652899, 0.7429897688518378, 0.7554945054945055, 0.7691360363774157, 0.7787514209928003, 0.7877510420613869, 0.7952349374763168, 0.8000189465706707, 0.8053239863584691, 0.8099658961727927, 0.8150341038272073, 0.8185865858279652, 0.821949602122016, 0.823986358469117, 0.8258336491095112, 0.82981242895036, 0.8321807502841986, 0.8336964759378552, 0.8357805987116332, 0.8382910193255021, 0.8398541114058355, 0.8411803713527851, 0.8424118984463812, 0.8434539598332702, 0.8453012504736642, 0.8460591133004927, 0.8466275104206139, 0.8489010989010989, 0.8508431223948465, 0.8519325502084123, 0.85240621447518, 0.8542535051155741, 0.8562428950359985, 0.8570481242895036, 0.857379689276241, 0.8580428192497158, 0.8586112163698371, 0.859463812050019]\n",
      "lgr_accuracies: [0.7366426676771505, 0.8104395604395604, 0.8402330428192497, 0.8527851458885941, 0.8639636225843123, 0.8726316786661614, 0.879784009094354, 0.884331186055324, 0.8880257673361122, 0.8902519893899205, 0.8940886699507389, 0.8971201212580523, 0.8983042819249716, 0.900909435392194, 0.9029935581659719, 0.9041777188328912, 0.9058355437665783, 0.9072091701402046, 0.9084406972338007, 0.910240621447518, 0.9116142478211444, 0.9121826449412657, 0.9129878741947708, 0.9138878363016294, 0.9145983327017809, 0.9161614247821145, 0.9169666540356195, 0.9182455475558924, 0.9189560439560439, 0.9202823039029936, 0.9217032967032966, 0.9207086017430846, 0.9211348995831754, 0.9215611974232664, 0.9219401288366805, 0.9226032588101554, 0.9230769230769231, 0.9239768851837817, 0.9240716180371353, 0.9239768851837817]\n",
      "knn_losses: [6.29129793386976, 4.513130257780753, 3.9331587982676846, 3.5149731302320473, 3.2235603659379364, 3.02503806282649, 2.8771160315283812, 2.7684384412458245, 2.6233634277119653, 2.5374253122278354, 2.434208054932331, 2.3457035293112245, 2.274770728154711, 2.233345197143674, 2.223447498875895, 2.1956008399883205, 2.148103455399777, 2.116439101814475, 2.0802079055133023, 2.046747010971178, 2.027908695880662, 1.9923050493926489, 1.9606341853894853, 1.9459414084152173, 1.910491992423523, 1.89264473557647, 1.8730780978167918, 1.8488520155846588, 1.824814988961832, 1.8282061273128778, 1.8232778654333297, 1.8124640211586929, 1.7972350220995639, 1.7768561257649607, 1.7548917101957862, 1.738608701906349, 1.7304079296475676, 1.7214529760856347, 1.7036464878997293, 1.7044595336526427]\n",
      "lgr_losses: [1.3684780554067046, 0.9271987982518046, 0.7573565550524998, 0.66160376527364, 0.5979237557930648, 0.555361195668599, 0.521968925353168, 0.4964697929778308, 0.47328235041606376, 0.45636431164323327, 0.43931705836944157, 0.42634375615263886, 0.415573963603361, 0.4041870139688768, 0.3956672035773474, 0.38552185827501256, 0.37895012246699333, 0.3718635323274908, 0.3657138485674716, 0.3596178006310531, 0.3549352403391511, 0.3506897094336832, 0.3461878437757428, 0.3421840271592163, 0.3373493601627598, 0.33291310209526587, 0.32988902890640376, 0.3253175295094531, 0.32215920066824366, 0.31874364161333724, 0.31536609473111527, 0.3129084666711907, 0.31073438887857224, 0.3090865808488285, 0.30715894723502213, 0.30512021711411896, 0.3022162651821244, 0.29993455423104387, 0.2983682393721714, 0.296973168609801]\n",
      "knn_training_times: [0.0006830692291259766, 0.0011737346649169922, 0.0015690326690673828, 0.0019927024841308594, 0.0023572444915771484, 0.0026857852935791016, 0.003070354461669922, 0.003828287124633789, 0.003988027572631836, 0.004853725433349609, 0.004773378372192383, 0.0058705806732177734, 0.005707740783691406, 0.006423234939575195, 0.0067522525787353516, 0.007079601287841797, 0.007592439651489258, 0.007714748382568359, 0.008604764938354492, 0.008798360824584961, 0.00917959213256836, 0.009288549423217773, 0.009938240051269531, 0.010100126266479492, 0.010944604873657227, 0.010703802108764648, 0.010906696319580078, 0.01153254508972168, 0.011936187744140625, 0.013569831848144531, 0.02112579345703125, 0.013273239135742188, 0.014499187469482422, 0.014857292175292969, 0.014634132385253906, 0.016870975494384766, 0.015714168548583984, 0.016663312911987305, 0.01762247085571289, 0.01669478416442871]\n",
      "lgr_training_times: [2.3986215591430664, 4.427042007446289, 5.8483405113220215, 7.475382328033447, 9.23828935623169, 11.888451099395752, 11.817423820495605, 11.712364435195923, 12.87743854522705, 14.201250553131104, 15.160300016403198, 15.379838705062866, 18.019740343093872, 18.982895135879517, 18.398792028427124, 20.4948832988739, 20.359225749969482, 21.03550362586975, 22.83714485168457, 24.008208513259888, 25.406269311904907, 25.4820499420166, 27.099191427230835, 26.310337781906128, 27.421097993850708, 27.369181632995605, 27.355336904525757, 30.44025731086731, 32.19022798538208, 30.532706260681152, 33.584569454193115, 34.3619179725647, 36.061593532562256, 36.91121006011963, 36.43148875236511, 38.401285886764526, 37.06825494766235, 39.96877312660217, 43.394932985305786, 42.39249920845032]\n",
      "knn_inference_times: [0.3621714115142822, 0.5278475284576416, 0.733877420425415, 0.839763879776001, 0.993302583694458, 1.1751487255096436, 1.2853302955627441, 1.4842393398284912, 1.5803146362304688, 1.8220088481903076, 1.9674711227416992, 2.103940486907959, 2.2421650886535645, 2.4844400882720947, 2.683704137802124, 2.649468421936035, 2.8881947994232178, 3.1869611740112305, 3.29239559173584, 3.410515069961548, 3.590003252029419, 3.8970179557800293, 3.900510787963867, 4.110299825668335, 4.304814577102661, 4.30873703956604, 4.639004468917847, 4.734544515609741, 4.913253307342529, 4.948166131973267, 5.009944915771484, 5.220839023590088, 5.415168046951294, 5.799958944320679, 5.757781028747559, 6.18490743637085, 6.170290231704712, 6.371239185333252, 6.363522052764893, 6.742333889007568]\n",
      "lgr_inference_times: [0.05351686477661133, 0.0496220588684082, 0.05375385284423828, 0.05952763557434082, 0.0487971305847168, 0.050379276275634766, 0.04938554763793945, 0.03707289695739746, 0.05933213233947754, 0.05047726631164551, 0.05240464210510254, 0.049063920974731445, 0.04932999610900879, 0.05770158767700195, 0.052603721618652344, 0.04875779151916504, 0.0522310733795166, 0.05184483528137207, 0.04898262023925781, 0.05127358436584473, 0.05565690994262695, 0.05303049087524414, 0.0491483211517334, 0.050443410873413086, 0.04869985580444336, 0.050049543380737305, 0.051900386810302734, 0.06117439270019531, 0.050547122955322266, 0.05433177947998047, 0.050065040588378906, 0.04949784278869629, 0.04946184158325195, 0.05100750923156738, 0.04938530921936035, 0.06287240982055664, 0.05116438865661621, 0.04968738555908203, 0.07128453254699707, 0.05599069595336914]\n"
     ]
    }
   ],
   "source": [
    "import time\n",
    "from sklearn.metrics import log_loss\n",
    "\n",
    "train_images, val_images, train_labels, val_labels = train_test_split(train_features, y_train_int, test_size=0.2, random_state=SEED, stratify=y_train_int)\n",
    "\n",
    "k = 40\n",
    "kfold = KFold(n_splits=k, shuffle=True, random_state=SEED)\n",
    "\n",
    "knn = KNeighborsClassifier(metric='euclidean', n_neighbors=10, weights='distance')\n",
    "lgr = LogisticRegression(C=5, multi_class='multinomial', penalty='l2', solver='lbfgs')\n",
    "\n",
    "num_samples = []\n",
    "knn_accuracies = []\n",
    "lgr_accuracies = []\n",
    "knn_losses = []\n",
    "lgr_losses = []\n",
    "knn_training_times = []\n",
    "lgr_training_times = []\n",
    "knn_inference_times = []\n",
    "lgr_inference_times = []\n",
    "fitted = None\n",
    "\n",
    "# Really hacky and stupid way to train the models on increasingly more portions of the dataset\n",
    "for i, (useless_idxs, idxs) in enumerate(kfold.split(train_images, train_labels)):\n",
    "    print(f\"Portion {i + 1}/{k}\")\n",
    "    \n",
    "    if not fitted:\n",
    "        fitted = train_images[idxs], train_labels[idxs]\n",
    "    else:\n",
    "        fitted = np.concatenate((fitted[0], train_images[idxs])), np.concatenate((fitted[1], train_labels[idxs]))\n",
    "    \n",
    "    num_samples.append(len(fitted[0]))\n",
    "    \n",
    "    # Get the training times\n",
    "    start_time = time.time()\n",
    "    knn.fit(fitted[0], fitted[1])\n",
    "    end_time = time.time()\n",
    "    knn_training_times.append(end_time - start_time)\n",
    "    \n",
    "    start_time = time.time()\n",
    "    lgr.fit(fitted[0], fitted[1])\n",
    "    end_time = time.time()\n",
    "    lgr_training_times.append(end_time - start_time)\n",
    "    \n",
    "    # Get the inference times\n",
    "    start_time = time.time()\n",
    "    knn.predict(val_images)\n",
    "    end_time = time.time()\n",
    "    knn_inference_times.append(end_time - start_time)\n",
    "    \n",
    "    start_time = time.time()\n",
    "    lgr.predict(val_images)\n",
    "    end_time = time.time()\n",
    "    lgr_inference_times.append(end_time - start_time)\n",
    "    \n",
    "    \n",
    "    # Get the cross-entropy loss for each model\n",
    "    knn_probs = knn.predict_proba(val_images)\n",
    "    log_reg_probs = lgr.predict_proba(val_images)\n",
    "    knn_loss = log_loss(val_labels, knn_probs)\n",
    "    lgr_loss = log_loss(val_labels, log_reg_probs)\n",
    "    knn_losses.append(knn_loss)\n",
    "    lgr_losses.append(lgr_loss)\n",
    "    \n",
    "    # Get the accuracies\n",
    "    knn_accuracy = knn.score(val_images, val_labels)\n",
    "    lgr_accuracy = lgr.score(val_images, val_labels)\n",
    "    \n",
    "    knn_accuracies.append(knn_accuracy)\n",
    "    lgr_accuracies.append(lgr_accuracy)\n",
    "    \n",
    "    print(\"num_samples:\", num_samples)\n",
    "    print(\"knn_accuracies:\", knn_accuracies)\n",
    "    print(\"lgr_accuracies:\", lgr_accuracies)\n",
    "    print(\"knn_losses:\", knn_losses)\n",
    "    print(\"lgr_losses:\", lgr_losses)\n",
    "    print(\"knn_training_times:\", knn_training_times)\n",
    "    print(\"lgr_training_times:\", lgr_training_times)\n",
    "    print(\"knn_inference_times:\", knn_inference_times)\n",
    "    print(\"lgr_inference_times:\", lgr_inference_times)\n"
   ]
  },
  {
   "cell_type": "code",
   "execution_count": 112,
   "metadata": {},
   "outputs": [
    {
     "data": {
      "image/png": "[encoded data removed]",
      "text/plain": [
       "<Figure size 900x900 with 4 Axes>"
      ]
     },
     "metadata": {},
     "output_type": "display_data"
    }
   ],
   "source": [
    "import matplotlib.pyplot as plt\n",
    "\n",
    "fig, axs = plt.subplots(2, 2, figsize=(9, 9))\n",
    "\n",
    "# Plot the first value array\n",
    "axs[0, 0].plot(np.array(num_samples) / 1000, knn_accuracies)\n",
    "axs[0, 0].plot(np.array(num_samples) / 1000, lgr_accuracies)\n",
    "axs[0, 0].set_title('Validation Accuracy')\n",
    "axs[0, 0].set_xlabel('Number of Samples (1000s)')\n",
    "axs[0, 0].set_ylabel('Accuracy')\n",
    "axs[0, 0].set_ylim((0.55, 1))\n",
    "axs[0, 0].legend(['kNN', 'Logistic Regression'], loc='upper left')\n",
    "\n",
    "# Plot the second value array\n",
    "axs[0, 1].plot(np.array(num_samples) / 1000, knn_losses)\n",
    "axs[0, 1].plot(np.array(num_samples) / 1000, lgr_losses)\n",
    "axs[0, 1].set_title('Cross-entropy Loss')\n",
    "axs[0, 1].set_xlabel('Number of Samples (1000s)')\n",
    "axs[0, 1].set_ylabel('Loss')\n",
    "axs[0, 1].legend(['kNN', 'Logistic Regression'])\n",
    "\n",
    "# Plot the third value array\n",
    "axs[1, 0].plot(np.array(num_samples) / 1000, np.log10(np.array(knn_training_times)))\n",
    "axs[1, 0].plot(np.array(num_samples) / 1000, np.log10(np.array(lgr_training_times)))\n",
    "axs[1, 0].set_title('Training Time')\n",
    "axs[1, 0].set_xlabel('Number of Samples (1000s)')\n",
    "axs[1, 0].set_ylabel('Training Time (s)')\n",
    "axs[1, 0].set_ylim((-3.4, 2.5))\n",
    "axs[1, 0].legend(['kNN', 'Logistic Regression'])\n",
    "\n",
    "# Plot the fourth value array\n",
    "axs[1, 1].plot(np.array(num_samples) / 1000, np.log10(np.array(knn_inference_times)))\n",
    "axs[1, 1].plot(np.array(num_samples) / 1000, np.log10(np.array(lgr_inference_times)))\n",
    "axs[1, 1].set_title('Inference Time')\n",
    "axs[1, 1].set_xlabel('Number of Samples (1000s)')\n",
    "axs[1, 1].set_ylabel('Inference Time (s)')\n",
    "axs[1, 1].set_ylim((-1.5, 1))\n",
    "axs[1, 1].legend(['kNN', 'Logistic Regression'])\n",
    "\n",
    "plt.tight_layout()\n",
    "plt.savefig(f\"{PLOT_DIR}model_eval.svg\")\n",
    "plt.show()"
   ]
  },
  {
   "cell_type": "markdown",
   "metadata": {},
   "source": [
    "# Extra models"
   ]
  },
  {
   "cell_type": "code",
   "execution_count": 14,
   "metadata": {},
   "outputs": [
    {
     "name": "stderr",
     "output_type": "stream",
     "text": [
      "[Parallel(n_jobs=-1)]: Using backend ThreadingBackend with 16 concurrent workers.\n",
      "[Parallel(n_jobs=-1)]: Done  18 tasks      | elapsed:   16.0s\n",
      "[Parallel(n_jobs=-1)]: Done 100 out of 100 | elapsed:   54.8s finished\n"
     ]
    },
    {
     "data": {
      "text/html": [
       "<style>#sk-container-id-3 {color: black;}#sk-container-id-3 pre{padding: 0;}#sk-container-id-3 div.sk-toggleable {background-color: white;}#sk-container-id-3 label.sk-toggleable__label {cursor: pointer;display: block;width: 100%;margin-bottom: 0;padding: 0.3em;box-sizing: border-box;text-align: center;}#sk-container-id-3 label.sk-toggleable__label-arrow:before {content: \"▸\";float: left;margin-right: 0.25em;color: #696969;}#sk-container-id-3 label.sk-toggleable__label-arrow:hover:before {color: black;}#sk-container-id-3 div.sk-estimator:hover label.sk-toggleable__label-arrow:before {color: black;}#sk-container-id-3 div.sk-toggleable__content {max-height: 0;max-width: 0;overflow: hidden;text-align: left;background-color: #f0f8ff;}#sk-container-id-3 div.sk-toggleable__content pre {margin: 0.2em;color: black;border-radius: 0.25em;background-color: #f0f8ff;}#sk-container-id-3 input.sk-toggleable__control:checked~div.sk-toggleable__content {max-height: 200px;max-width: 100%;overflow: auto;}#sk-container-id-3 input.sk-toggleable__control:checked~label.sk-toggleable__label-arrow:before {content: \"▾\";}#sk-container-id-3 div.sk-estimator input.sk-toggleable__control:checked~label.sk-toggleable__label {background-color: #d4ebff;}#sk-container-id-3 div.sk-label input.sk-toggleable__control:checked~label.sk-toggleable__label {background-color: #d4ebff;}#sk-container-id-3 input.sk-hidden--visually {border: 0;clip: rect(1px 1px 1px 1px);clip: rect(1px, 1px, 1px, 1px);height: 1px;margin: -1px;overflow: hidden;padding: 0;position: absolute;width: 1px;}#sk-container-id-3 div.sk-estimator {font-family: monospace;background-color: #f0f8ff;border: 1px dotted black;border-radius: 0.25em;box-sizing: border-box;margin-bottom: 0.5em;}#sk-container-id-3 div.sk-estimator:hover {background-color: #d4ebff;}#sk-container-id-3 div.sk-parallel-item::after {content: \"\";width: 100%;border-bottom: 1px solid gray;flex-grow: 1;}#sk-container-id-3 div.sk-label:hover label.sk-toggleable__label {background-color: #d4ebff;}#sk-container-id-3 div.sk-serial::before {content: \"\";position: absolute;border-left: 1px solid gray;box-sizing: border-box;top: 0;bottom: 0;left: 50%;z-index: 0;}#sk-container-id-3 div.sk-serial {display: flex;flex-direction: column;align-items: center;background-color: white;padding-right: 0.2em;padding-left: 0.2em;position: relative;}#sk-container-id-3 div.sk-item {position: relative;z-index: 1;}#sk-container-id-3 div.sk-parallel {display: flex;align-items: stretch;justify-content: center;background-color: white;position: relative;}#sk-container-id-3 div.sk-item::before, #sk-container-id-3 div.sk-parallel-item::before {content: \"\";position: absolute;border-left: 1px solid gray;box-sizing: border-box;top: 0;bottom: 0;left: 50%;z-index: -1;}#sk-container-id-3 div.sk-parallel-item {display: flex;flex-direction: column;z-index: 1;position: relative;background-color: white;}#sk-container-id-3 div.sk-parallel-item:first-child::after {align-self: flex-end;width: 50%;}#sk-container-id-3 div.sk-parallel-item:last-child::after {align-self: flex-start;width: 50%;}#sk-container-id-3 div.sk-parallel-item:only-child::after {width: 0;}#sk-container-id-3 div.sk-dashed-wrapped {border: 1px dashed gray;margin: 0 0.4em 0.5em 0.4em;box-sizing: border-box;padding-bottom: 0.4em;background-color: white;}#sk-container-id-3 div.sk-label label {font-family: monospace;font-weight: bold;display: inline-block;line-height: 1.2em;}#sk-container-id-3 div.sk-label-container {text-align: center;}#sk-container-id-3 div.sk-container {/* jupyter's `normalize.less` sets `[hidden] { display: none; }` but bootstrap.min.css set `[hidden] { display: none !important; }` so we also need the `!important` here to be able to override the default hidden behavior on the sphinx rendered scikit-learn.org. See: https://github.com/scikit-learn/scikit-learn/issues/21755 */display: inline-block !important;position: relative;}#sk-container-id-3 div.sk-text-repr-fallback {display: none;}</style><div id=\"sk-container-id-3\" class=\"sk-top-container\"><div class=\"sk-text-repr-fallback\"><pre>RandomForestClassifier(n_jobs=-1, random_state=42, verbose=1)</pre><b>In a Jupyter environment, please rerun this cell to show the HTML representation or trust the notebook. <br />On GitHub, the HTML representation is unable to render, please try loading this page with nbviewer.org.</b></div><div class=\"sk-container\" hidden><div class=\"sk-item\"><div class=\"sk-estimator sk-toggleable\"><input class=\"sk-toggleable__control sk-hidden--visually\" id=\"sk-estimator-id-5\" type=\"checkbox\" checked><label for=\"sk-estimator-id-5\" class=\"sk-toggleable__label sk-toggleable__label-arrow\">RandomForestClassifier</label><div class=\"sk-toggleable__content\"><pre>RandomForestClassifier(n_jobs=-1, random_state=42, verbose=1)</pre></div></div></div></div></div>"
      ],
      "text/plain": [
       "RandomForestClassifier(n_jobs=-1, random_state=42, verbose=1)"
      ]
     },
     "execution_count": 14,
     "metadata": {},
     "output_type": "execute_result"
    }
   ],
   "source": [
    "from sklearn.ensemble import RandomForestClassifier\n",
    "rf = RandomForestClassifier(n_estimators=100, random_state=42, verbose=1, n_jobs=-1)\n",
    "rf.fit(train_features, y_train)"
   ]
  },
  {
   "cell_type": "code",
   "execution_count": 15,
   "metadata": {},
   "outputs": [
    {
     "name": "stderr",
     "output_type": "stream",
     "text": [
      "[Parallel(n_jobs=16)]: Using backend ThreadingBackend with 16 concurrent workers.\n",
      "[Parallel(n_jobs=16)]: Done  18 tasks      | elapsed:    0.4s\n"
     ]
    },
    {
     "name": "stdout",
     "output_type": "stream",
     "text": [
      "Random Forest Accuracy: 0.8707086017430845\n"
     ]
    },
    {
     "name": "stderr",
     "output_type": "stream",
     "text": [
      "[Parallel(n_jobs=16)]: Done 100 out of 100 | elapsed:    1.5s finished\n"
     ]
    }
   ],
   "source": [
    "rf_score = rf.score(test_features, y_test)\n",
    "print(f\"Random Forest Accuracy: {rf_score}\")"
   ]
  },
  {
   "cell_type": "code",
   "execution_count": 8,
   "metadata": {},
   "outputs": [
    {
     "name": "stdout",
     "output_type": "stream",
     "text": [
      "Fitting 2 folds for each of 18 candidates, totalling 36 fits\n"
     ]
    },
    {
     "data": {
      "text/html": [
       "<style>#sk-container-id-1 {color: black;}#sk-container-id-1 pre{padding: 0;}#sk-container-id-1 div.sk-toggleable {background-color: white;}#sk-container-id-1 label.sk-toggleable__label {cursor: pointer;display: block;width: 100%;margin-bottom: 0;padding: 0.3em;box-sizing: border-box;text-align: center;}#sk-container-id-1 label.sk-toggleable__label-arrow:before {content: \"▸\";float: left;margin-right: 0.25em;color: #696969;}#sk-container-id-1 label.sk-toggleable__label-arrow:hover:before {color: black;}#sk-container-id-1 div.sk-estimator:hover label.sk-toggleable__label-arrow:before {color: black;}#sk-container-id-1 div.sk-toggleable__content {max-height: 0;max-width: 0;overflow: hidden;text-align: left;background-color: #f0f8ff;}#sk-container-id-1 div.sk-toggleable__content pre {margin: 0.2em;color: black;border-radius: 0.25em;background-color: #f0f8ff;}#sk-container-id-1 input.sk-toggleable__control:checked~div.sk-toggleable__content {max-height: 200px;max-width: 100%;overflow: auto;}#sk-container-id-1 input.sk-toggleable__control:checked~label.sk-toggleable__label-arrow:before {content: \"▾\";}#sk-container-id-1 div.sk-estimator input.sk-toggleable__control:checked~label.sk-toggleable__label {background-color: #d4ebff;}#sk-container-id-1 div.sk-label input.sk-toggleable__control:checked~label.sk-toggleable__label {background-color: #d4ebff;}#sk-container-id-1 input.sk-hidden--visually {border: 0;clip: rect(1px 1px 1px 1px);clip: rect(1px, 1px, 1px, 1px);height: 1px;margin: -1px;overflow: hidden;padding: 0;position: absolute;width: 1px;}#sk-container-id-1 div.sk-estimator {font-family: monospace;background-color: #f0f8ff;border: 1px dotted black;border-radius: 0.25em;box-sizing: border-box;margin-bottom: 0.5em;}#sk-container-id-1 div.sk-estimator:hover {background-color: #d4ebff;}#sk-container-id-1 div.sk-parallel-item::after {content: \"\";width: 100%;border-bottom: 1px solid gray;flex-grow: 1;}#sk-container-id-1 div.sk-label:hover label.sk-toggleable__label {background-color: #d4ebff;}#sk-container-id-1 div.sk-serial::before {content: \"\";position: absolute;border-left: 1px solid gray;box-sizing: border-box;top: 0;bottom: 0;left: 50%;z-index: 0;}#sk-container-id-1 div.sk-serial {display: flex;flex-direction: column;align-items: center;background-color: white;padding-right: 0.2em;padding-left: 0.2em;position: relative;}#sk-container-id-1 div.sk-item {position: relative;z-index: 1;}#sk-container-id-1 div.sk-parallel {display: flex;align-items: stretch;justify-content: center;background-color: white;position: relative;}#sk-container-id-1 div.sk-item::before, #sk-container-id-1 div.sk-parallel-item::before {content: \"\";position: absolute;border-left: 1px solid gray;box-sizing: border-box;top: 0;bottom: 0;left: 50%;z-index: -1;}#sk-container-id-1 div.sk-parallel-item {display: flex;flex-direction: column;z-index: 1;position: relative;background-color: white;}#sk-container-id-1 div.sk-parallel-item:first-child::after {align-self: flex-end;width: 50%;}#sk-container-id-1 div.sk-parallel-item:last-child::after {align-self: flex-start;width: 50%;}#sk-container-id-1 div.sk-parallel-item:only-child::after {width: 0;}#sk-container-id-1 div.sk-dashed-wrapped {border: 1px dashed gray;margin: 0 0.4em 0.5em 0.4em;box-sizing: border-box;padding-bottom: 0.4em;background-color: white;}#sk-container-id-1 div.sk-label label {font-family: monospace;font-weight: bold;display: inline-block;line-height: 1.2em;}#sk-container-id-1 div.sk-label-container {text-align: center;}#sk-container-id-1 div.sk-container {/* jupyter's `normalize.less` sets `[hidden] { display: none; }` but bootstrap.min.css set `[hidden] { display: none !important; }` so we also need the `!important` here to be able to override the default hidden behavior on the sphinx rendered scikit-learn.org. See: https://github.com/scikit-learn/scikit-learn/issues/21755 */display: inline-block !important;position: relative;}#sk-container-id-1 div.sk-text-repr-fallback {display: none;}</style><div id=\"sk-container-id-1\" class=\"sk-top-container\"><div class=\"sk-text-repr-fallback\"><pre>GridSearchCV(cv=2, estimator=SVC(),\n",
       "             param_grid={&#x27;C&#x27;: [0.1, 1, 10], &#x27;gamma&#x27;: [&#x27;scale&#x27;, &#x27;auto&#x27;],\n",
       "                         &#x27;kernel&#x27;: [&#x27;linear&#x27;, &#x27;rbf&#x27;, &#x27;poly&#x27;]},\n",
       "             verbose=1)</pre><b>In a Jupyter environment, please rerun this cell to show the HTML representation or trust the notebook. <br />On GitHub, the HTML representation is unable to render, please try loading this page with nbviewer.org.</b></div><div class=\"sk-container\" hidden><div class=\"sk-item sk-dashed-wrapped\"><div class=\"sk-label-container\"><div class=\"sk-label sk-toggleable\"><input class=\"sk-toggleable__control sk-hidden--visually\" id=\"sk-estimator-id-1\" type=\"checkbox\" ><label for=\"sk-estimator-id-1\" class=\"sk-toggleable__label sk-toggleable__label-arrow\">GridSearchCV</label><div class=\"sk-toggleable__content\"><pre>GridSearchCV(cv=2, estimator=SVC(),\n",
       "             param_grid={&#x27;C&#x27;: [0.1, 1, 10], &#x27;gamma&#x27;: [&#x27;scale&#x27;, &#x27;auto&#x27;],\n",
       "                         &#x27;kernel&#x27;: [&#x27;linear&#x27;, &#x27;rbf&#x27;, &#x27;poly&#x27;]},\n",
       "             verbose=1)</pre></div></div></div><div class=\"sk-parallel\"><div class=\"sk-parallel-item\"><div class=\"sk-item\"><div class=\"sk-label-container\"><div class=\"sk-label sk-toggleable\"><input class=\"sk-toggleable__control sk-hidden--visually\" id=\"sk-estimator-id-2\" type=\"checkbox\" ><label for=\"sk-estimator-id-2\" class=\"sk-toggleable__label sk-toggleable__label-arrow\">estimator: SVC</label><div class=\"sk-toggleable__content\"><pre>SVC()</pre></div></div></div><div class=\"sk-serial\"><div class=\"sk-item\"><div class=\"sk-estimator sk-toggleable\"><input class=\"sk-toggleable__control sk-hidden--visually\" id=\"sk-estimator-id-3\" type=\"checkbox\" ><label for=\"sk-estimator-id-3\" class=\"sk-toggleable__label sk-toggleable__label-arrow\">SVC</label><div class=\"sk-toggleable__content\"><pre>SVC()</pre></div></div></div></div></div></div></div></div></div></div>"
      ],
      "text/plain": [
       "GridSearchCV(cv=2, estimator=SVC(),\n",
       "             param_grid={'C': [0.1, 1, 10], 'gamma': ['scale', 'auto'],\n",
       "                         'kernel': ['linear', 'rbf', 'poly']},\n",
       "             verbose=1)"
      ]
     },
     "execution_count": 8,
     "metadata": {},
     "output_type": "execute_result"
    }
   ],
   "source": [
    "from sklearn.svm import SVC\n",
    "from sklearn.model_selection import GridSearchCV\n",
    "# Define the parameter grid for grid search\n",
    "param_grid = {\n",
    "    'C': [0.1, 1, 10],\n",
    "    'kernel': ['linear', 'rbf', 'poly'],\n",
    "    'gamma': ['scale', 'auto']\n",
    "}\n",
    "\n",
    "# Create an instance of the SVM classifier\n",
    "svm_classifier = SVC()\n",
    "\n",
    "# Create an instance of GridSearchCV\n",
    "grid_search = GridSearchCV(svm_classifier, param_grid, cv=2, verbose=1)\n",
    "\n",
    "# Fit the classifier to the training data using grid search\n",
    "grid_search.fit(train_features, y_train)"
   ]
  },
  {
   "cell_type": "code",
   "execution_count": 9,
   "metadata": {},
   "outputs": [
    {
     "name": "stdout",
     "output_type": "stream",
     "text": [
      "Best Parameters: {'C': 10, 'gamma': 'scale', 'kernel': 'rbf'}\n",
      "Best Score: 0.9421918223502217\n"
     ]
    }
   ],
   "source": [
    "# Print the best parameters and best score\n",
    "print(\"Best Parameters:\", grid_search.best_params_)\n",
    "print(\"Best Score:\", grid_search.best_score_)"
   ]
  },
  {
   "cell_type": "code",
   "execution_count": 56,
   "metadata": {},
   "outputs": [],
   "source": [
    "from sklearn.svm import SVC\n",
    "svm_classifier = SVC(C=10, gamma='scale', kernel='rbf')\n",
    "svm_classifier.fit(train_features, y_train)\n",
    "# Predict the labels for the test data using the best estimator\n",
    "svm_predictions = svm_classifier.predict(test_features)"
   ]
  },
  {
   "cell_type": "code",
   "execution_count": null,
   "metadata": {},
   "outputs": [
    {
     "name": "stdout",
     "output_type": "stream",
     "text": [
      "Accuracy: 0.951951496779083\n",
      "F1 Score: 0.9520046665214275\n"
     ]
    }
   ],
   "source": [
    "# Calculate the accuracy score\n",
    "accuracy = accuracy_score(y_test, svm_predictions)\n",
    "\n",
    "# Calculate the f1 score\n",
    "f1 = f1_score(y_test, svm_predictions, average='weighted')\n",
    "\n",
    "# Print the accuracy and f1 score report\n",
    "print(f\"Accuracy: {accuracy}\")\n",
    "print(f\"F1 Score: {f1}\")"
   ]
  }
 ],
 "metadata": {
  "kernelspec": {
   "display_name": "Python 3",
   "language": "python",
   "name": "python3"
  },
  "language_info": {
   "codemirror_mode": {
    "name": "ipython",
    "version": 3
   },
   "file_extension": ".py",
   "mimetype": "text/x-python",
   "name": "python",
   "nbconvert_exporter": "python",
   "pygments_lexer": "ipython3",
   "version": "3.10.12"
  }
 },
 "nbformat": 4,
 "nbformat_minor": 2
}
