{
 "cells": [
  {
   "cell_type": "markdown",
   "metadata": {},
   "source": [
    "# Project setup"
   ]
  },
  {
   "cell_type": "markdown",
   "metadata": {},
   "source": [
    "Import necessary libraries"
   ]
  },
  {
   "cell_type": "code",
   "execution_count": 105,
   "metadata": {},
   "outputs": [],
   "source": [
    "# System\n",
    "import os\n",
    "import shutil\n",
    "\n",
    "# Image handling\n",
    "from PIL import Image\n",
    "\n",
    "# Numerical\n",
    "import numpy as np\n",
    "import pandas as pd\n",
    "\n",
    "# Reproducability\n",
    "import random\n",
    "random.seed(42)\n",
    "\n",
    "# Plotting\n",
    "import matplotlib.pyplot as plt\n",
    "import seaborn as sns"
   ]
  },
  {
   "cell_type": "markdown",
   "metadata": {},
   "source": [
    "First we establish the directory to where our data is stored, and where we ultimately want to store our cleaned, preprocessed data."
   ]
  },
  {
   "cell_type": "code",
   "execution_count": 106,
   "metadata": {},
   "outputs": [],
   "source": [
    "DIR = 'chinese-handwriting-recognition-hsk-1/chinese-handwriting/'\n",
    "\n",
    "TRAIN_DIR = os.path.join(DIR, 'CASIA-HWDB_Train/Train/')\n",
    "TEST_DIR = os.path.join(DIR, 'CASIA-HWDB_Test/Test/')\n",
    "\n",
    "DATA_DIR = 'data/'"
   ]
  },
  {
   "cell_type": "markdown",
   "metadata": {},
   "source": [
    "# Data investigation"
   ]
  },
  {
   "cell_type": "markdown",
   "metadata": {},
   "source": [
    "First lets have a look at how many data classes we have in the dataset. The dataset has been split into test and train already so lets check how many classes we have in each."
   ]
  },
  {
   "cell_type": "code",
   "execution_count": 107,
   "metadata": {},
   "outputs": [
    {
     "name": "stdout",
     "output_type": "stream",
     "text": [
      "178 {'午', '起', '个', '杯', '少', '工', '十', '坐', '九', '书', '几', '些', '觉', '店', '开', '猫', '下', '气', '妈', '水', '名', '五', '很', '呢', '什', '零', '椅', '热', '么', '他', '苹', '好', '里', '能', '谁', '我', '你', '在', '喂', '们', '三', '米', '吗', '钱', '对', '出', '亮', '雨', '谢', '欢', '买', '岁', '字', '天', '八', '想', '太', '做', '服', '菜', '七', '四', '说', '爸', '睡', '来', '语', '识', '馆', '月', '回', '喜', '姐', '不', '面', '分', '京', '影', '生', '认', '高', '怎', '衣', '茶', '爱', '租', '一', '友', '饭', '小', '飞', '机', '二', '桌', '打', '读', '住', '上', '现', '和', '家', '写', '商', '块', '东', '漂', '请', '候', '是', '六', '明', '女', '国', '钟', '习', '视', '见', '今', '她', '这', '车', '系', '看', '医', '院', '都', '叫', '狗', '儿', '昨', '同', '后', '汉', '去', '哪', '话', '那', '学', '本', '先', '有', '没', '点', '喝', '中', '期', '日', '西', '老', '客', '关', '校', '朋', '作', '兴', '人', '了', '吃', '听', '会', '前', '果', '站', '年', '再', '子', '样', '星', '冷', '的', '师', '北', '脑', '多', '火', '时', '电', '大'}\n",
      "178 {'午', '起', '个', '杯', '少', '工', '十', '坐', '九', '书', '几', '些', '觉', '店', '开', '猫', '下', '气', '妈', '水', '名', '五', '很', '呢', '什', '零', '椅', '热', '么', '他', '苹', '好', '里', '能', '谁', '我', '你', '在', '喂', '们', '三', '米', '吗', '钱', '对', '出', '亮', '雨', '谢', '欢', '买', '岁', '字', '天', '八', '想', '太', '做', '服', '菜', '七', '四', '说', '爸', '睡', '来', '语', '识', '馆', '月', '回', '喜', '姐', '不', '面', '分', '京', '影', '生', '认', '高', '怎', '衣', '茶', '爱', '租', '一', '友', '饭', '小', '飞', '机', '二', '桌', '打', '读', '住', '上', '现', '和', '家', '写', '商', '块', '东', '漂', '请', '候', '是', '六', '明', '女', '国', '钟', '习', '视', '见', '今', '她', '这', '车', '系', '看', '医', '院', '都', '叫', '狗', '儿', '昨', '同', '后', '汉', '去', '哪', '话', '那', '学', '本', '先', '有', '没', '点', '喝', '中', '期', '日', '西', '老', '客', '关', '校', '朋', '作', '兴', '人', '了', '吃', '听', '会', '前', '果', '站', '年', '再', '子', '样', '星', '冷', '的', '师', '北', '脑', '多', '火', '时', '电', '大'}\n",
      "The same classes are in each folder\n"
     ]
    }
   ],
   "source": [
    "image_classes_train = set(os.listdir(TRAIN_DIR))\n",
    "image_classes_test = set(os.listdir(TEST_DIR))\n",
    "print(len(image_classes_train), image_classes_train)\n",
    "print(len(image_classes_test), image_classes_test)\n",
    "\n",
    "if image_classes_train == image_classes_test:\n",
    "    print('The same classes are in each folder')\n",
    "    image_classes = set(['零', '一', '二'])\n",
    "    # image_classes = set(['零', '一', '二', '三', '四', '五', '六', '七', '八', '九', '十'])\n",
    "    # image_classes = image_classes_train\n",
    "else:\n",
    "    print('The two folders contain different classes')\n"
   ]
  },
  {
   "cell_type": "markdown",
   "metadata": {},
   "source": [
    "Next, lets combine the the train and test data into one directory for simplicity.\n",
    "\n",
    "We start by creating a new directory for our preprocessed data."
   ]
  },
  {
   "cell_type": "code",
   "execution_count": 108,
   "metadata": {},
   "outputs": [],
   "source": [
    "# Remove old data\n",
    "if os.path.exists(DATA_DIR):\n",
    "    shutil.rmtree(DATA_DIR)\n",
    "    \n",
    "#Create the new directory\n",
    "os.mkdir(DATA_DIR)"
   ]
  },
  {
   "cell_type": "markdown",
   "metadata": {},
   "source": [
    "Now let's combine the train and test data into one directory. This is specified by the `DATA_DIR` variable."
   ]
  },
  {
   "cell_type": "code",
   "execution_count": 109,
   "metadata": {},
   "outputs": [],
   "source": [
    "# Copy train directory into combined folder\n",
    "for image_class in image_classes:\n",
    "    source_path = os.path.join(TRAIN_DIR, image_class)\n",
    "    destination_path = os.path.join(DATA_DIR, image_class)\n",
    "    shutil.copytree(source_path, destination_path)\n",
    "\n",
    "# Count how many images in each class in train set\n",
    "class_counts = {}\n",
    "for image_class in image_classes:\n",
    "    path = os.path.join(DATA_DIR, image_class)\n",
    "    class_counts[image_class] = len(os.listdir(path))\n",
    "\n",
    "# Copy all the images in the test directory into combined folder under an consistent name\n",
    "for image_class in image_classes:\n",
    "    source_path = os.path.join(TEST_DIR, image_class)\n",
    "    destination_path = os.path.join(DATA_DIR, image_class)\n",
    "    \n",
    "    for filename in os.listdir(source_path):\n",
    "        class_counts[image_class] += 1\n",
    "        new_filename = f\"{class_counts[image_class]}.png\"\n",
    "        shutil.copy(os.path.join(source_path, filename), os.path.join(destination_path, new_filename))\n",
    "        "
   ]
  },
  {
   "cell_type": "markdown",
   "metadata": {},
   "source": [
    "Now lets check how many images we have in each class and see how balanced the classes are."
   ]
  },
  {
   "cell_type": "code",
   "execution_count": 110,
   "metadata": {},
   "outputs": [
    {
     "name": "stdout",
     "output_type": "stream",
     "text": [
      "  Character  Count\n",
      "0         二    744\n",
      "1         一    745\n",
      "2         零    732\n",
      "            Count\n",
      "count    3.000000\n",
      "mean   740.333333\n",
      "std      7.234178\n",
      "min    732.000000\n",
      "5%     733.200000\n",
      "25%    738.000000\n",
      "50%    744.000000\n",
      "75%    744.500000\n",
      "95%    744.900000\n",
      "max    745.000000\n"
     ]
    }
   ],
   "source": [
    "df_class_counts = pd.DataFrame.from_dict(class_counts, orient='index', columns=['Count'])\n",
    "df_class_counts.reset_index(inplace=True)\n",
    "df_class_counts.columns = ['Character', 'Count']\n",
    "\n",
    "print(df_class_counts)\n",
    "print(df_class_counts.describe([0.05, 0.25, 0.75, 0.95]))"
   ]
  },
  {
   "cell_type": "markdown",
   "metadata": {},
   "source": [
    "From this we can see that the classes are fairly balanced, let's quickly have a look at the slight imbalance in the classes.\n",
    "We can arbitrarily choose a balance metric such as outside the range of 2 standard deviations from the mean."
   ]
  },
  {
   "cell_type": "code",
   "execution_count": 111,
   "metadata": {},
   "outputs": [
    {
     "name": "stdout",
     "output_type": "stream",
     "text": [
      "Empty DataFrame\n",
      "Columns: [Character, Count]\n",
      "Index: []\n"
     ]
    }
   ],
   "source": [
    "mean = df_class_counts['Count'].mean()\n",
    "std = df_class_counts['Count'].std()\n",
    "threshold = 2 * std\n",
    "\n",
    "outlier_counts = df_class_counts[np.abs(df_class_counts['Count'] - mean) > threshold]\n",
    "print(outlier_counts)"
   ]
  },
  {
   "cell_type": "markdown",
   "metadata": {},
   "source": [
    "As we can see, the imbalance is very minimal. For now we can move on to the next step, and revisit this if the performance of our model is being affected by this imbalance."
   ]
  },
  {
   "cell_type": "markdown",
   "metadata": {},
   "source": [
    "# Data Pre-processing"
   ]
  },
  {
   "cell_type": "markdown",
   "metadata": {},
   "source": [
    "First lets iterate through all the images and and confirm they are all `.png` and black & white "
   ]
  },
  {
   "cell_type": "code",
   "execution_count": 112,
   "metadata": {},
   "outputs": [],
   "source": [
    "# Loop through each subdirectory and file in the directory\n",
    "for subdir, dirs, files in os.walk(DATA_DIR):\n",
    "    for filename in files:\n",
    "        if filename.lower().endswith('.png'):\n",
    "            # Construct the full path\n",
    "            file_path = os.path.join(subdir, filename)\n",
    "\n",
    "            # Open the image\n",
    "            with Image.open(file_path) as img:\n",
    "                # Check if the image is not grayscale\n",
    "                if img.mode != 'L':\n",
    "                    print(f\"{file_path} is not a black and white image.\")\n",
    "        else:\n",
    "            print(\"Not a png file: \")"
   ]
  },
  {
   "cell_type": "markdown",
   "metadata": {},
   "source": [
    "Next let's iterate through all the images and check if any have an aspect ratio that is not 1:1."
   ]
  },
  {
   "cell_type": "code",
   "execution_count": 113,
   "metadata": {},
   "outputs": [],
   "source": [
    "image_sizes = []\n",
    "\n",
    "# Iterate through all the images and check if any do not have a 1:1 aspect ratio\n",
    "for subdir, dirs, files in os.walk(DATA_DIR):\n",
    "    for filename in files:\n",
    "        file_path = os.path.join(subdir, filename)\n",
    "        with Image.open(file_path) as img:\n",
    "            image_sizes.append(img.size[0])\n",
    "            \n",
    "            if img.size[0] != img.size[1]:\n",
    "                print(file_path, img.size)"
   ]
  },
  {
   "cell_type": "markdown",
   "metadata": {},
   "source": [
    "Since all the images are square, this makes it easier to investigate their image sizes."
   ]
  },
  {
   "cell_type": "code",
   "execution_count": 114,
   "metadata": {},
   "outputs": [
    {
     "name": "stdout",
     "output_type": "stream",
     "text": [
      "Smallest dimension: 14\n"
     ]
    },
    {
     "data": {
      "image/png": "[encoded data removed]",
      "text/plain": [
       "<Figure size 1200x600 with 1 Axes>"
      ]
     },
     "metadata": {},
     "output_type": "display_data"
    }
   ],
   "source": [
    "print(f\"Smallest dimension: {min(image_sizes)}\")\n",
    "\n",
    "# Plotting\n",
    "plt.figure(figsize=(12, 6))\n",
    "plt.subplot(1, 2, 1)\n",
    "sns.histplot(image_sizes)\n",
    "plt.title('Distribution of Image dimensions')\n",
    "plt.xlabel('Dimension')\n",
    "plt.tight_layout()\n",
    "plt.show()"
   ]
  },
  {
   "cell_type": "markdown",
   "metadata": {},
   "source": [
    "As you can see from the graph, the images are not all the same size. This will cause issues when we try to train the model, so we need to resize all the images to the same size. Additionally one of the images is only 3x3 which is way too small to be useful, so we will remove that image."
   ]
  },
  {
   "cell_type": "code",
   "execution_count": 115,
   "metadata": {},
   "outputs": [],
   "source": [
    "# Iterate through all the images and resize to a fixed size\n",
    "for subdir, dirs, files in os.walk(DATA_DIR):\n",
    "    for filename in files:\n",
    "        file_path = os.path.join(subdir, filename)\n",
    "        with Image.open(file_path) as img:\n",
    "            current_size = img.size\n",
    "            if img.size[0] < 5:\n",
    "                os.remove(file_path)\n",
    "            \n",
    "            target_size = 48\n",
    "            \n",
    "            resized_img = img.resize((target_size, target_size))\n",
    "            resized_img.save(file_path)"
   ]
  },
  {
   "cell_type": "markdown",
   "metadata": {},
   "source": [
    "# Data Augmentation"
   ]
  },
  {
   "cell_type": "markdown",
   "metadata": {},
   "source": [
    "Now that all the images are the same size, we can begin with augmenting the images. This will involve randomly flipping rotating the images to create more data for the model to train on and prevent overfitting.\n",
    "Note, there are many more augmentation techniques that can be used such as scaling, randomly cropping, randomly erasing, distorting, and blurring, but for now we will only use rotation and flipping."
   ]
  },
  {
   "cell_type": "code",
   "execution_count": 116,
   "metadata": {},
   "outputs": [],
   "source": [
    "# How many augmented images should be generated as a percentage of the current\n",
    "percent_augmented = 0.2 # 0 to 1\n",
    "augments = [(0, 90), (0, 180), (0, 270), (1, 0), (1, 90), (1, 180), (1, 270)]\n",
    "\n",
    "# Iterate through all the images and resize to a fixed size\n",
    "for subdir, dirs, files in os.walk(DATA_DIR):\n",
    "    for filename in files:\n",
    "        file_path = os.path.join(subdir, filename)\n",
    "        with Image.open(file_path) as img:\n",
    "            if random.random() <= percent_augmented:\n",
    "                augmented_img = img\n",
    "\n",
    "                augment = random.choice(augments)\n",
    "\n",
    "                if augment[0]:\n",
    "                    augmented_img = augmented_img.transpose(Image.FLIP_LEFT_RIGHT)\n",
    "                if augment[1]:\n",
    "                    augmented_img = augmented_img.rotate(augment[1])\n",
    "\n",
    "                name, extension = filename.rsplit('.', 1)\n",
    "                save_file_path = os.path.join(subdir, f\"{name}.aug.{extension}\")\n",
    "\n",
    "                augmented_img.save(save_file_path)"
   ]
  },
  {
   "cell_type": "code",
   "execution_count": 117,
   "metadata": {},
   "outputs": [
    {
     "name": "stdout",
     "output_type": "stream",
     "text": [
      "Number of .png files in the data directory: 2647\n",
      "Number of .aug.png files in the data directory: 426\n"
     ]
    }
   ],
   "source": [
    "import glob\n",
    "\n",
    "png_files = glob.glob(f\"{DATA_DIR}/**/*.png\", recursive=True)\n",
    "aug_png_files = glob.glob(f\"{DATA_DIR}/**/*.aug.png\", recursive=True)\n",
    "\n",
    "print(f\"Number of .png files in the data directory: {len(png_files)}\")\n",
    "print(f\"Number of .aug.png files in the data directory: {len(aug_png_files)}\")"
   ]
  },
  {
   "cell_type": "markdown",
   "metadata": {},
   "source": [
    "# Feature Extraction"
   ]
  },
  {
   "cell_type": "code",
   "execution_count": 118,
   "metadata": {},
   "outputs": [],
   "source": [
    "import torch\n",
    "import torchvision.models as models\n",
    "\n",
    "import torchvision.transforms.v2 as transforms\n",
    "from torchvision.datasets import ImageFolder\n",
    "from torch.utils.data import DataLoader"
   ]
  },
  {
   "cell_type": "code",
   "execution_count": 119,
   "metadata": {},
   "outputs": [
    {
     "name": "stderr",
     "output_type": "stream",
     "text": [
      "/home/miikey_lol/.local/lib/python3.10/site-packages/torchvision/models/_utils.py:208: UserWarning: The parameter 'pretrained' is deprecated since 0.13 and may be removed in the future, please use 'weights' instead.\n",
      "  warnings.warn(\n",
      "/home/miikey_lol/.local/lib/python3.10/site-packages/torchvision/models/_utils.py:223: UserWarning: Arguments other than a weight enum or `None` for 'weights' are deprecated since 0.13 and may be removed in the future. The current behavior is equivalent to passing `weights=ResNet50_Weights.IMAGENET1K_V1`. You can also use `weights=ResNet50_Weights.DEFAULT` to get the most up-to-date weights.\n",
      "  warnings.warn(msg)\n"
     ]
    }
   ],
   "source": [
    "# Load pre-trained ResNet\n",
    "resnet = models.resnet50(pretrained=True)\n",
    "\n",
    "# Remove the last fully connected layer for feature extraction\n",
    "resnet = torch.nn.Sequential(*(list(resnet.children())[:-1]))\n",
    "\n",
    "# Set model to evaluation mode\n",
    "resnet.eval()\n",
    "\n",
    "# Define image transformations\n",
    "transform = transforms.Compose([\n",
    "    transforms.Resize(256),\n",
    "    transforms.CenterCrop(224),\n",
    "    transforms.ToTensor(),\n",
    "    transforms.Normalize(mean=[0.485, 0.456, 0.406], std=[0.229, 0.224, 0.225]),\n",
    "])"
   ]
  },
  {
   "cell_type": "code",
   "execution_count": 120,
   "metadata": {},
   "outputs": [
    {
     "name": "stdout",
     "output_type": "stream",
     "text": [
      "Processed batch 1/83\n",
      "Processed batch 2/83\n",
      "Processed batch 3/83\n",
      "Processed batch 4/83\n",
      "Processed batch 5/83\n",
      "Processed batch 6/83\n",
      "Processed batch 7/83\n",
      "Processed batch 8/83\n",
      "Processed batch 9/83\n",
      "Processed batch 10/83\n",
      "Processed batch 11/83\n",
      "Processed batch 12/83\n",
      "Processed batch 13/83\n",
      "Processed batch 14/83\n",
      "Processed batch 15/83\n",
      "Processed batch 16/83\n",
      "Processed batch 17/83\n",
      "Processed batch 18/83\n",
      "Processed batch 19/83\n",
      "Processed batch 20/83\n",
      "Processed batch 21/83\n",
      "Processed batch 22/83\n",
      "Processed batch 23/83\n",
      "Processed batch 24/83\n",
      "Processed batch 25/83\n",
      "Processed batch 26/83\n",
      "Processed batch 27/83\n",
      "Processed batch 28/83\n",
      "Processed batch 29/83\n",
      "Processed batch 30/83\n",
      "Processed batch 31/83\n",
      "Processed batch 32/83\n",
      "Processed batch 33/83\n",
      "Processed batch 34/83\n",
      "Processed batch 35/83\n",
      "Processed batch 36/83\n",
      "Processed batch 37/83\n",
      "Processed batch 38/83\n",
      "Processed batch 39/83\n",
      "Processed batch 40/83\n",
      "Processed batch 41/83\n",
      "Processed batch 42/83\n",
      "Processed batch 43/83\n",
      "Processed batch 44/83\n",
      "Processed batch 45/83\n",
      "Processed batch 46/83\n",
      "Processed batch 47/83\n",
      "Processed batch 48/83\n",
      "Processed batch 49/83\n",
      "Processed batch 50/83\n",
      "Processed batch 51/83\n",
      "Processed batch 52/83\n",
      "Processed batch 53/83\n",
      "Processed batch 54/83\n",
      "Processed batch 55/83\n",
      "Processed batch 56/83\n",
      "Processed batch 57/83\n",
      "Processed batch 58/83\n",
      "Processed batch 59/83\n",
      "Processed batch 60/83\n",
      "Processed batch 61/83\n",
      "Processed batch 62/83\n",
      "Processed batch 63/83\n",
      "Processed batch 64/83\n",
      "Processed batch 65/83\n",
      "Processed batch 66/83\n",
      "Processed batch 67/83\n",
      "Processed batch 68/83\n",
      "Processed batch 69/83\n",
      "Processed batch 70/83\n",
      "Processed batch 71/83\n",
      "Processed batch 72/83\n",
      "Processed batch 73/83\n",
      "Processed batch 74/83\n",
      "Processed batch 75/83\n",
      "Processed batch 76/83\n",
      "Processed batch 77/83\n",
      "Processed batch 78/83\n",
      "Processed batch 79/83\n",
      "Processed batch 80/83\n",
      "Processed batch 81/83\n",
      "Processed batch 82/83\n",
      "Processed batch 83/83\n"
     ]
    },
    {
     "name": "stderr",
     "output_type": "stream",
     "text": [
      "Exception ignored in: <function ZipFile.__del__ at 0x7f315fefd1b0>\n",
      "Traceback (most recent call last):\n",
      "  File \"/usr/lib/python3.10/zipfile.py\", line 1821, in __del__\n",
      "    self.close()\n",
      "  File \"/usr/lib/python3.10/zipfile.py\", line 1838, in close\n",
      "    self.fp.seek(self.start_dir)\n",
      "ValueError: seek of closed file\n"
     ]
    },
    {
     "ename": "KeyboardInterrupt",
     "evalue": "",
     "output_type": "error",
     "traceback": [
      "\u001b[0;31m---------------------------------------------------------------------------\u001b[0m",
      "\u001b[0;31mKeyboardInterrupt\u001b[0m                         Traceback (most recent call last)",
      "Cell \u001b[0;32mIn[120], line 42\u001b[0m\n\u001b[1;32m     39\u001b[0m output_file \u001b[38;5;241m=\u001b[39m \u001b[38;5;124m'\u001b[39m\u001b[38;5;124mfeatures.xlsx\u001b[39m\u001b[38;5;124m'\u001b[39m\n\u001b[1;32m     41\u001b[0m \u001b[38;5;66;03m# Save the DataFrame to Excel\u001b[39;00m\n\u001b[0;32m---> 42\u001b[0m \u001b[43mdf_features\u001b[49m\u001b[38;5;241;43m.\u001b[39;49m\u001b[43mto_excel\u001b[49m\u001b[43m(\u001b[49m\u001b[43moutput_file\u001b[49m\u001b[43m,\u001b[49m\u001b[43m \u001b[49m\u001b[43mindex\u001b[49m\u001b[38;5;241;43m=\u001b[39;49m\u001b[38;5;28;43;01mFalse\u001b[39;49;00m\u001b[43m)\u001b[49m\n",
      "File \u001b[0;32m~/.local/lib/python3.10/site-packages/pandas/core/generic.py:2345\u001b[0m, in \u001b[0;36mNDFrame.to_excel\u001b[0;34m(self, excel_writer, sheet_name, na_rep, float_format, columns, header, index, index_label, startrow, startcol, engine, merge_cells, inf_rep, freeze_panes, storage_options, engine_kwargs)\u001b[0m\n\u001b[1;32m   2332\u001b[0m \u001b[38;5;28;01mfrom\u001b[39;00m \u001b[38;5;21;01mpandas\u001b[39;00m\u001b[38;5;21;01m.\u001b[39;00m\u001b[38;5;21;01mio\u001b[39;00m\u001b[38;5;21;01m.\u001b[39;00m\u001b[38;5;21;01mformats\u001b[39;00m\u001b[38;5;21;01m.\u001b[39;00m\u001b[38;5;21;01mexcel\u001b[39;00m \u001b[38;5;28;01mimport\u001b[39;00m ExcelFormatter\n\u001b[1;32m   2334\u001b[0m formatter \u001b[38;5;241m=\u001b[39m ExcelFormatter(\n\u001b[1;32m   2335\u001b[0m     df,\n\u001b[1;32m   2336\u001b[0m     na_rep\u001b[38;5;241m=\u001b[39mna_rep,\n\u001b[0;32m   (...)\u001b[0m\n\u001b[1;32m   2343\u001b[0m     inf_rep\u001b[38;5;241m=\u001b[39minf_rep,\n\u001b[1;32m   2344\u001b[0m )\n\u001b[0;32m-> 2345\u001b[0m \u001b[43mformatter\u001b[49m\u001b[38;5;241;43m.\u001b[39;49m\u001b[43mwrite\u001b[49m\u001b[43m(\u001b[49m\n\u001b[1;32m   2346\u001b[0m \u001b[43m    \u001b[49m\u001b[43mexcel_writer\u001b[49m\u001b[43m,\u001b[49m\n\u001b[1;32m   2347\u001b[0m \u001b[43m    \u001b[49m\u001b[43msheet_name\u001b[49m\u001b[38;5;241;43m=\u001b[39;49m\u001b[43msheet_name\u001b[49m\u001b[43m,\u001b[49m\n\u001b[1;32m   2348\u001b[0m \u001b[43m    \u001b[49m\u001b[43mstartrow\u001b[49m\u001b[38;5;241;43m=\u001b[39;49m\u001b[43mstartrow\u001b[49m\u001b[43m,\u001b[49m\n\u001b[1;32m   2349\u001b[0m \u001b[43m    \u001b[49m\u001b[43mstartcol\u001b[49m\u001b[38;5;241;43m=\u001b[39;49m\u001b[43mstartcol\u001b[49m\u001b[43m,\u001b[49m\n\u001b[1;32m   2350\u001b[0m \u001b[43m    \u001b[49m\u001b[43mfreeze_panes\u001b[49m\u001b[38;5;241;43m=\u001b[39;49m\u001b[43mfreeze_panes\u001b[49m\u001b[43m,\u001b[49m\n\u001b[1;32m   2351\u001b[0m \u001b[43m    \u001b[49m\u001b[43mengine\u001b[49m\u001b[38;5;241;43m=\u001b[39;49m\u001b[43mengine\u001b[49m\u001b[43m,\u001b[49m\n\u001b[1;32m   2352\u001b[0m \u001b[43m    \u001b[49m\u001b[43mstorage_options\u001b[49m\u001b[38;5;241;43m=\u001b[39;49m\u001b[43mstorage_options\u001b[49m\u001b[43m,\u001b[49m\n\u001b[1;32m   2353\u001b[0m \u001b[43m    \u001b[49m\u001b[43mengine_kwargs\u001b[49m\u001b[38;5;241;43m=\u001b[39;49m\u001b[43mengine_kwargs\u001b[49m\u001b[43m,\u001b[49m\n\u001b[1;32m   2354\u001b[0m \u001b[43m\u001b[49m\u001b[43m)\u001b[49m\n",
      "File \u001b[0;32m~/.local/lib/python3.10/site-packages/pandas/io/formats/excel.py:955\u001b[0m, in \u001b[0;36mExcelFormatter.write\u001b[0;34m(self, writer, sheet_name, startrow, startcol, freeze_panes, engine, storage_options, engine_kwargs)\u001b[0m\n\u001b[1;32m    952\u001b[0m     need_save \u001b[38;5;241m=\u001b[39m \u001b[38;5;28;01mTrue\u001b[39;00m\n\u001b[1;32m    954\u001b[0m \u001b[38;5;28;01mtry\u001b[39;00m:\n\u001b[0;32m--> 955\u001b[0m     \u001b[43mwriter\u001b[49m\u001b[38;5;241;43m.\u001b[39;49m\u001b[43m_write_cells\u001b[49m\u001b[43m(\u001b[49m\n\u001b[1;32m    956\u001b[0m \u001b[43m        \u001b[49m\u001b[43mformatted_cells\u001b[49m\u001b[43m,\u001b[49m\n\u001b[1;32m    957\u001b[0m \u001b[43m        \u001b[49m\u001b[43msheet_name\u001b[49m\u001b[43m,\u001b[49m\n\u001b[1;32m    958\u001b[0m \u001b[43m        \u001b[49m\u001b[43mstartrow\u001b[49m\u001b[38;5;241;43m=\u001b[39;49m\u001b[43mstartrow\u001b[49m\u001b[43m,\u001b[49m\n\u001b[1;32m    959\u001b[0m \u001b[43m        \u001b[49m\u001b[43mstartcol\u001b[49m\u001b[38;5;241;43m=\u001b[39;49m\u001b[43mstartcol\u001b[49m\u001b[43m,\u001b[49m\n\u001b[1;32m    960\u001b[0m \u001b[43m        \u001b[49m\u001b[43mfreeze_panes\u001b[49m\u001b[38;5;241;43m=\u001b[39;49m\u001b[43mfreeze_panes\u001b[49m\u001b[43m,\u001b[49m\n\u001b[1;32m    961\u001b[0m \u001b[43m    \u001b[49m\u001b[43m)\u001b[49m\n\u001b[1;32m    962\u001b[0m \u001b[38;5;28;01mfinally\u001b[39;00m:\n\u001b[1;32m    963\u001b[0m     \u001b[38;5;66;03m# make sure to close opened file handles\u001b[39;00m\n\u001b[1;32m    964\u001b[0m     \u001b[38;5;28;01mif\u001b[39;00m need_save:\n",
      "File \u001b[0;32m~/.local/lib/python3.10/site-packages/pandas/io/excel/_xlsxwriter.py:262\u001b[0m, in \u001b[0;36mXlsxWriter._write_cells\u001b[0;34m(self, cells, sheet_name, startrow, startcol, freeze_panes)\u001b[0m\n\u001b[1;32m    259\u001b[0m \u001b[38;5;28;01mif\u001b[39;00m validate_freeze_panes(freeze_panes):\n\u001b[1;32m    260\u001b[0m     wks\u001b[38;5;241m.\u001b[39mfreeze_panes(\u001b[38;5;241m*\u001b[39m(freeze_panes))\n\u001b[0;32m--> 262\u001b[0m \u001b[38;5;28;01mfor\u001b[39;00m cell \u001b[38;5;129;01min\u001b[39;00m cells:\n\u001b[1;32m    263\u001b[0m     val, fmt \u001b[38;5;241m=\u001b[39m \u001b[38;5;28mself\u001b[39m\u001b[38;5;241m.\u001b[39m_value_with_fmt(cell\u001b[38;5;241m.\u001b[39mval)\n\u001b[1;32m    265\u001b[0m     stylekey \u001b[38;5;241m=\u001b[39m json\u001b[38;5;241m.\u001b[39mujson_dumps(cell\u001b[38;5;241m.\u001b[39mstyle)\n",
      "File \u001b[0;32m~/.local/lib/python3.10/site-packages/pandas/io/formats/excel.py:889\u001b[0m, in \u001b[0;36mExcelFormatter.get_formatted_cells\u001b[0;34m(self)\u001b[0m\n\u001b[1;32m    888\u001b[0m \u001b[38;5;28;01mdef\u001b[39;00m \u001b[38;5;21mget_formatted_cells\u001b[39m(\u001b[38;5;28mself\u001b[39m) \u001b[38;5;241m-\u001b[39m\u001b[38;5;241m>\u001b[39m Iterable[ExcelCell]:\n\u001b[0;32m--> 889\u001b[0m     \u001b[38;5;28;01mfor\u001b[39;00m cell \u001b[38;5;129;01min\u001b[39;00m itertools\u001b[38;5;241m.\u001b[39mchain(\u001b[38;5;28mself\u001b[39m\u001b[38;5;241m.\u001b[39m_format_header(), \u001b[38;5;28mself\u001b[39m\u001b[38;5;241m.\u001b[39m_format_body()):\n\u001b[1;32m    890\u001b[0m         cell\u001b[38;5;241m.\u001b[39mval \u001b[38;5;241m=\u001b[39m \u001b[38;5;28mself\u001b[39m\u001b[38;5;241m.\u001b[39m_format_value(cell\u001b[38;5;241m.\u001b[39mval)\n\u001b[1;32m    891\u001b[0m         \u001b[38;5;28;01myield\u001b[39;00m cell\n",
      "File \u001b[0;32m~/.local/lib/python3.10/site-packages/pandas/io/formats/excel.py:786\u001b[0m, in \u001b[0;36mExcelFormatter._format_regular_rows\u001b[0;34m(self)\u001b[0m\n\u001b[1;32m    783\u001b[0m \u001b[38;5;28;01melse\u001b[39;00m:\n\u001b[1;32m    784\u001b[0m     coloffset \u001b[38;5;241m=\u001b[39m \u001b[38;5;241m0\u001b[39m\n\u001b[0;32m--> 786\u001b[0m \u001b[38;5;28;01myield from\u001b[39;00m \u001b[38;5;28mself\u001b[39m\u001b[38;5;241m.\u001b[39m_generate_body(coloffset)\n",
      "File \u001b[0;32m~/.local/lib/python3.10/site-packages/pandas/io/formats/excel.py:882\u001b[0m, in \u001b[0;36mExcelFormatter._generate_body\u001b[0;34m(self, coloffset)\u001b[0m\n\u001b[1;32m    875\u001b[0m series \u001b[38;5;241m=\u001b[39m \u001b[38;5;28mself\u001b[39m\u001b[38;5;241m.\u001b[39mdf\u001b[38;5;241m.\u001b[39miloc[:, colidx]\n\u001b[1;32m    876\u001b[0m \u001b[38;5;28;01mfor\u001b[39;00m i, val \u001b[38;5;129;01min\u001b[39;00m \u001b[38;5;28menumerate\u001b[39m(series):\n\u001b[1;32m    877\u001b[0m     \u001b[38;5;28;01myield\u001b[39;00m CssExcelCell(\n\u001b[1;32m    878\u001b[0m         row\u001b[38;5;241m=\u001b[39m\u001b[38;5;28mself\u001b[39m\u001b[38;5;241m.\u001b[39mrowcounter \u001b[38;5;241m+\u001b[39m i,\n\u001b[1;32m    879\u001b[0m         col\u001b[38;5;241m=\u001b[39mcolidx \u001b[38;5;241m+\u001b[39m coloffset,\n\u001b[1;32m    880\u001b[0m         val\u001b[38;5;241m=\u001b[39mval,\n\u001b[1;32m    881\u001b[0m         style\u001b[38;5;241m=\u001b[39m\u001b[38;5;28;01mNone\u001b[39;00m,\n\u001b[0;32m--> 882\u001b[0m         css_styles\u001b[38;5;241m=\u001b[39m\u001b[38;5;28;43mgetattr\u001b[39;49m\u001b[43m(\u001b[49m\u001b[38;5;28;43mself\u001b[39;49m\u001b[38;5;241;43m.\u001b[39;49m\u001b[43mstyler\u001b[49m\u001b[43m,\u001b[49m\u001b[43m \u001b[49m\u001b[38;5;124;43m\"\u001b[39;49m\u001b[38;5;124;43mctx\u001b[39;49m\u001b[38;5;124;43m\"\u001b[39;49m\u001b[43m,\u001b[49m\u001b[43m \u001b[49m\u001b[38;5;28;43;01mNone\u001b[39;49;00m\u001b[43m)\u001b[49m,\n\u001b[1;32m    883\u001b[0m         css_row\u001b[38;5;241m=\u001b[39mi,\n\u001b[1;32m    884\u001b[0m         css_col\u001b[38;5;241m=\u001b[39mcolidx,\n\u001b[1;32m    885\u001b[0m         css_converter\u001b[38;5;241m=\u001b[39m\u001b[38;5;28mself\u001b[39m\u001b[38;5;241m.\u001b[39mstyle_converter,\n\u001b[1;32m    886\u001b[0m     )\n",
      "\u001b[0;31mKeyboardInterrupt\u001b[0m: "
     ]
    }
   ],
   "source": [
    "# Load images with augmentation\n",
    "dataset = ImageFolder(root=DATA_DIR, transform=transform)\n",
    "data_loader = DataLoader(dataset, batch_size=32, shuffle=False)\n",
    "\n",
    "features = []\n",
    "labels = []\n",
    "\n",
    "for i, (inputs, label_batch) in enumerate(data_loader):\n",
    "    # Move inputs to the appropriate device (GPU if available)\n",
    "    inputs = inputs.to(torch.device(\"cuda\" if torch.cuda.is_available() else \"cpu\"))\n",
    "\n",
    "    # Forward pass, get the features\n",
    "    with torch.no_grad():\n",
    "        output = resnet(inputs)\n",
    "\n",
    "    # Convert output to the desired format and store\n",
    "    feature_batch = output.cpu().detach().numpy().flatten().reshape(-1, 2048) # Adjust shape based on the model\n",
    "    features.extend(feature_batch)\n",
    "\n",
    "    # Store labels\n",
    "    labels.extend(label_batch.numpy())\n",
    "    \n",
    "    # Print progress\n",
    "    print(f\"Processed batch {i+1}/{len(data_loader)}\")\n",
    "\n",
    "# `features` now contains the extracted features for each image\n",
    "\n",
    "# Convert the features list to a pandas DataFrame\n",
    "df_features = pd.DataFrame(features)\n",
    "df_features['label'] = labels\n",
    "\n",
    "# Get the mapping of class indices to class names\n",
    "idx_to_class = {v: k for k, v in dataset.class_to_idx.items()}\n",
    "\n",
    "# Map the numeric labels to class names\n",
    "df_features['character'] = df_features['label'].map(idx_to_class)\n",
    "\n",
    "# Define the output file path\n",
    "output_file = 'features.xlsx'\n",
    "\n",
    "# Save the DataFrame to Excel\n",
    "df_features.to_excel(output_file, index=False)\n"
   ]
  },
  {
   "cell_type": "code",
   "execution_count": 122,
   "metadata": {},
   "outputs": [],
   "source": [
    "df_features[:84*32].to_excel(output_file)"
   ]
  }
 ],
 "metadata": {
  "kernelspec": {
   "display_name": "Python 3",
   "language": "python",
   "name": "python3"
  },
  "language_info": {
   "codemirror_mode": {
    "name": "ipython",
    "version": 3
   },
   "file_extension": ".py",
   "mimetype": "text/x-python",
   "name": "python",
   "nbconvert_exporter": "python",
   "pygments_lexer": "ipython3",
   "version": "3.10.12"
  }
 },
 "nbformat": 4,
 "nbformat_minor": 2
}
