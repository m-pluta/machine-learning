{
 "cells": [
  {
   "cell_type": "markdown",
   "metadata": {},
   "source": [
    "# Project setup"
   ]
  },
  {
   "cell_type": "markdown",
   "metadata": {},
   "source": [
    "Import necessary libraries"
   ]
  },
  {
   "cell_type": "code",
   "execution_count": 1,
   "metadata": {},
   "outputs": [
    {
     "name": "stderr",
     "output_type": "stream",
     "text": [
      "/home/miikey_lol/.local/lib/python3.10/site-packages/matplotlib/projections/__init__.py:63: UserWarning: Unable to import Axes3D. This may be due to multiple versions of Matplotlib being installed (e.g. as a system package and as a pip package). As a result, the 3D projection is not available.\n",
      "  warnings.warn(\"Unable to import Axes3D. This may be due to multiple versions of \"\n",
      "2024-01-22 05:05:40.204538: E external/local_xla/xla/stream_executor/cuda/cuda_dnn.cc:9261] Unable to register cuDNN factory: Attempting to register factory for plugin cuDNN when one has already been registered\n",
      "2024-01-22 05:05:40.204581: E external/local_xla/xla/stream_executor/cuda/cuda_fft.cc:607] Unable to register cuFFT factory: Attempting to register factory for plugin cuFFT when one has already been registered\n",
      "2024-01-22 05:05:40.205252: E external/local_xla/xla/stream_executor/cuda/cuda_blas.cc:1515] Unable to register cuBLAS factory: Attempting to register factory for plugin cuBLAS when one has already been registered\n",
      "2024-01-22 05:05:40.209046: I tensorflow/core/platform/cpu_feature_guard.cc:182] This TensorFlow binary is optimized to use available CPU instructions in performance-critical operations.\n",
      "To enable the following instructions: AVX2 FMA, in other operations, rebuild TensorFlow with the appropriate compiler flags.\n",
      "2024-01-22 05:05:40.807844: W tensorflow/compiler/tf2tensorrt/utils/py_utils.cc:38] TF-TRT Warning: Could not find TensorRT\n"
     ]
    }
   ],
   "source": [
    "# System\n",
    "import os\n",
    "import shutil\n",
    "import glob\n",
    "\n",
    "# Image handling\n",
    "from PIL import Image, ImageOps\n",
    "\n",
    "# Numerical\n",
    "import numpy as np\n",
    "import pandas as pd\n",
    "import random\n",
    "\n",
    "# Plotting\n",
    "import matplotlib.pyplot as plt\n",
    "import seaborn as sns\n",
    "\n",
    "# CNN\n",
    "from keras.utils import to_categorical, set_random_seed\n",
    "from keras.models import Sequential, load_model, Model\n",
    "from keras.layers import Input, Conv2D, MaxPooling2D, Flatten, Dense, BatchNormalization, Dropout\n",
    "from keras.optimizers import Adam\n",
    "from keras.callbacks import EarlyStopping\n",
    "\n",
    "# Tuning\n",
    "import keras_tuner as kt\n",
    "\n",
    "# Machine Learning\n",
    "from sklearn.calibration import LabelEncoder\n",
    "from sklearn.model_selection import train_test_split, KFold, GridSearchCV\n",
    "from sklearn.linear_model import LogisticRegression\n",
    "from sklearn.neighbors import KNeighborsClassifier\n",
    "from sklearn.metrics import classification_report, accuracy_score, f1_score"
   ]
  },
  {
   "cell_type": "code",
   "execution_count": 2,
   "metadata": {},
   "outputs": [],
   "source": [
    "SEED = 42\n",
    "random.seed(SEED)\n",
    "set_random_seed(SEED)\n",
    "np.random.seed(SEED)"
   ]
  },
  {
   "cell_type": "markdown",
   "metadata": {},
   "source": [
    "First we establish the directory to where our data is stored, and where we ultimately want to store our cleaned, preprocessed data."
   ]
  },
  {
   "cell_type": "code",
   "execution_count": 3,
   "metadata": {},
   "outputs": [],
   "source": [
    "INIT_DIR = 'chinese-handwriting-recognition-hsk-1/chinese-handwriting/'\n",
    "\n",
    "INIT_TRAIN_DIR = os.path.join(INIT_DIR, 'CASIA-HWDB_Train/Train/')\n",
    "INIT_TEST_DIR = os.path.join(INIT_DIR, 'CASIA-HWDB_Test/Test/')\n",
    "\n",
    "DIR = 'data/'"
   ]
  },
  {
   "cell_type": "markdown",
   "metadata": {},
   "source": [
    "# Data investigation"
   ]
  },
  {
   "cell_type": "markdown",
   "metadata": {},
   "source": [
    "First lets have a look at how many data classes we have in the dataset. The dataset has been split into test and train already so lets check how many classes we have in each."
   ]
  },
  {
   "cell_type": "code",
   "execution_count": 4,
   "metadata": {},
   "outputs": [
    {
     "name": "stdout",
     "output_type": "stream",
     "text": [
      "The same classes are in each folder\n"
     ]
    }
   ],
   "source": [
    "image_classes = os.listdir(INIT_TRAIN_DIR)\n",
    "\n",
    "if image_classes == os.listdir(INIT_TEST_DIR):\n",
    "    print('The same classes are in each folder')\n",
    "else:\n",
    "    print('The two folders contain different classes')"
   ]
  },
  {
   "cell_type": "code",
   "execution_count": 5,
   "metadata": {},
   "outputs": [],
   "source": [
    "# # image_classes = ['零', '一', '二']\n",
    "# # image_classes = ['零', '一', '二', '三', '四', '五', '六', '七', '八', '九', '十']\n",
    "# # image_classes = image_classes_train[:20]\n",
    "# image_classes = random.sample(image_classes, 50)\n",
    "# # image_classes = image_classes_train"
   ]
  },
  {
   "cell_type": "markdown",
   "metadata": {},
   "source": [
    "Next, lets combine the the train and test data into one directory for simplicity.\n",
    "\n",
    "We start by creating a new directory for our preprocessed data."
   ]
  },
  {
   "cell_type": "code",
   "execution_count": 6,
   "metadata": {},
   "outputs": [],
   "source": [
    "# Remove old data\n",
    "if os.path.exists(DIR):\n",
    "    shutil.rmtree(DIR)\n",
    "    \n",
    "#Create the new directory\n",
    "os.mkdir(DIR)\n",
    "for image_class in image_classes:\n",
    "    path = os.path.join(DIR, image_class)\n",
    "    os.makedirs(path)"
   ]
  },
  {
   "cell_type": "markdown",
   "metadata": {},
   "source": [
    "Now let's combine the train and test data into one directory. This is specified by the `DIR` variable."
   ]
  },
  {
   "cell_type": "code",
   "execution_count": 7,
   "metadata": {},
   "outputs": [],
   "source": [
    "def combineDirectories():\n",
    "    for image_class in image_classes:\n",
    "        images = []\n",
    "\n",
    "        # Fetch images from train dir\n",
    "        train_path = os.path.join(INIT_TRAIN_DIR, image_class)\n",
    "        images += [os.path.join(train_path, file) for file in os.listdir(train_path)]\n",
    "\n",
    "        # Fetch images from test dir\n",
    "        test_path = os.path.join(INIT_TEST_DIR, image_class)\n",
    "        images += [os.path.join(test_path, file) for file in os.listdir(test_path)]\n",
    "\n",
    "        # Iterate over the splits and images and copy them to the data directory\n",
    "        for i, image in enumerate(images):\n",
    "            new_filename = f\"{i+1}.png\"\n",
    "            destination_path = os.path.join(DIR, image_class, new_filename)\n",
    "            shutil.copy(image, destination_path)\n",
    "            \n",
    "combineDirectories()"
   ]
  },
  {
   "cell_type": "markdown",
   "metadata": {},
   "source": [
    "# Data Pre-processing"
   ]
  },
  {
   "cell_type": "markdown",
   "metadata": {},
   "source": [
    "First lets iterate through all the images and and confirm they are all `.png` and black & white "
   ]
  },
  {
   "cell_type": "code",
   "execution_count": 8,
   "metadata": {},
   "outputs": [],
   "source": [
    "def checkGrayscale():\n",
    "    # Loop through each subdirectory and file in the directory\n",
    "    for subdir, dirs, images in os.walk(DIR):\n",
    "        for image in images:\n",
    "            if image.lower().endswith('.png'):\n",
    "                file_path = os.path.join(subdir, image)\n",
    "\n",
    "                with Image.open(file_path) as img:\n",
    "                    if img.mode != 'L':\n",
    "                        print(f\"{file_path} is not grayscale.\")\n",
    "            else:\n",
    "                print(\"Not a png file: \")\n",
    "checkGrayscale()"
   ]
  },
  {
   "cell_type": "markdown",
   "metadata": {},
   "source": [
    "Next let's iterate through all the images and check if any have an aspect ratio that is not 1:1."
   ]
  },
  {
   "cell_type": "code",
   "execution_count": 9,
   "metadata": {},
   "outputs": [],
   "source": [
    "def checkAspectRatios():\n",
    "    image_sizes = []\n",
    "\n",
    "    # Iterate through all the images and check if any do not have a 1:1 aspect ratio\n",
    "    for subdir, dirs, images in os.walk(DIR):\n",
    "        for image in images:\n",
    "            file_path = os.path.join(subdir, image)\n",
    "            with Image.open(file_path) as img:\n",
    "                image_sizes.append(img.size[0])\n",
    "\n",
    "                if img.size[0] != img.size[1]:\n",
    "                    print(file_path, img.size)\n",
    "                    \n",
    "    return image_sizes\n",
    "                    \n",
    "image_sizes = checkAspectRatios()"
   ]
  },
  {
   "cell_type": "markdown",
   "metadata": {},
   "source": [
    "Since all the images are square, this makes it easier to investigate their image sizes."
   ]
  },
  {
   "cell_type": "code",
   "execution_count": 10,
   "metadata": {},
   "outputs": [
    {
     "name": "stdout",
     "output_type": "stream",
     "text": [
      "Smallest dimension: 3\n"
     ]
    },
    {
     "data": {
      "image/png": "[encoded data removed]",
      "text/plain": [
       "<Figure size 500x500 with 1 Axes>"
      ]
     },
     "metadata": {},
     "output_type": "display_data"
    }
   ],
   "source": [
    "print(f\"Smallest dimension: {min(image_sizes)}\")\n",
    "\n",
    "# Plotting\n",
    "sns.displot(image_sizes)\n",
    "plt.xlabel('Dimension')\n",
    "plt.ylabel('Frequency')\n",
    "plt.tight_layout()\n",
    "plt.show()"
   ]
  },
  {
   "cell_type": "markdown",
   "metadata": {},
   "source": [
    "As you can see from the graph, the images are not all the same size. This will cause issues when we try to train the model, so we need to resize all the images to the same size. Additionally one of the images is only 3x3 which is way too small to be useful, so we will enforce a minimum image size."
   ]
  },
  {
   "cell_type": "code",
   "execution_count": 11,
   "metadata": {},
   "outputs": [],
   "source": [
    "MIN_IMAGE_SIZE = 20\n",
    "IMAGE_SIZE = 48\n",
    "\n",
    "def resizeImages():\n",
    "    # Iterate through all the images and resize to a fixed size\n",
    "    for subdir, dirs, images in os.walk(DIR):\n",
    "        for image in images:\n",
    "            file_path = os.path.join(subdir, image)\n",
    "            with Image.open(file_path) as img:\n",
    "                current_size = img.size[0]\n",
    "                if current_size < MIN_IMAGE_SIZE:\n",
    "                    os.remove(file_path)\n",
    "                    continue\n",
    "                \n",
    "                if current_size != IMAGE_SIZE:\n",
    "                    img = img.resize((IMAGE_SIZE, IMAGE_SIZE), Image.Resampling.LANCZOS)\n",
    "                \n",
    "                img = ImageOps.invert(img)\n",
    "                img.save(file_path)\n",
    "                \n",
    "resizeImages()"
   ]
  },
  {
   "cell_type": "markdown",
   "metadata": {},
   "source": [
    "Now lets check how many images we have in each class and see how balanced the classes are."
   ]
  },
  {
   "cell_type": "code",
   "execution_count": 12,
   "metadata": {},
   "outputs": [
    {
     "data": {
      "image/png": "[encoded data removed]",
      "text/plain": [
       "<Figure size 500x500 with 1 Axes>"
      ]
     },
     "metadata": {},
     "output_type": "display_data"
    },
    {
     "name": "stdout",
     "output_type": "stream",
     "text": [
      "            Count\n",
      "count  178.000000\n",
      "mean   741.269663\n",
      "std      3.031898\n",
      "min    721.000000\n",
      "5%     737.000000\n",
      "25%    740.000000\n",
      "50%    741.000000\n",
      "75%    743.000000\n",
      "95%    746.000000\n",
      "max    748.000000\n"
     ]
    }
   ],
   "source": [
    "def get_class_counts():\n",
    "    class_counts = {}\n",
    "    \n",
    "    for subdir in glob.glob(os.path.join(DIR, '*')):\n",
    "        file_count = len(glob.glob(os.path.join(subdir, '*')))\n",
    "        class_counts[subdir.split('/')[-1]] = file_count\n",
    "\n",
    "    return pd.DataFrame.from_dict(class_counts, orient='index', columns=['Count'])\n",
    "\n",
    "df_class_counts = get_class_counts() \n",
    "\n",
    "sns.displot(list(df_class_counts['Count']))\n",
    "plt.xlabel('Samples per class')\n",
    "plt.ylabel('Class count')\n",
    "plt.tight_layout()\n",
    "plt.show()\n",
    "\n",
    "print(df_class_counts.describe([0.05, 0.25, 0.75, 0.95]))"
   ]
  },
  {
   "cell_type": "markdown",
   "metadata": {},
   "source": [
    "From this we can see that the classes are fairly balanced, let's quickly have a look at the slight imbalance in the classes.\n",
    "We can arbitrarily choose a balance metric such as outside the range of 2 standard deviations from the mean."
   ]
  },
  {
   "cell_type": "code",
   "execution_count": 13,
   "metadata": {},
   "outputs": [
    {
     "name": "stdout",
     "output_type": "stream",
     "text": [
      "   Count\n",
      "月    748\n",
      "零    732\n",
      "四    734\n",
      "样    721\n",
      "老    734\n",
      "六    733\n"
     ]
    }
   ],
   "source": [
    "df_class_counts = get_class_counts() \n",
    "\n",
    "mean = df_class_counts['Count'].mean()\n",
    "std = df_class_counts['Count'].std()\n",
    "threshold = 2 * std\n",
    "\n",
    "outlier_counts = df_class_counts[np.abs(df_class_counts['Count'] - mean) > threshold]\n",
    "print(outlier_counts)"
   ]
  },
  {
   "cell_type": "markdown",
   "metadata": {},
   "source": [
    "As we can see, the imbalance is minimal. Because of this, we will not be using any class balancing techniques."
   ]
  },
  {
   "cell_type": "markdown",
   "metadata": {},
   "source": [
    "Let's have a look some examples of the images in the dataset."
   ]
  },
  {
   "cell_type": "code",
   "execution_count": 14,
   "metadata": {},
   "outputs": [
    {
     "data": {
      "image/png": "[encoded data removed]",
      "text/plain": [
       "<Figure size 800x800 with 4 Axes>"
      ]
     },
     "metadata": {},
     "output_type": "display_data"
    }
   ],
   "source": [
    "import glob\n",
    "\n",
    "# Get list of all .png images in the directory and its subdirectories\n",
    "images = glob.glob(os.path.join(DIR, '**', '*.png'), recursive=True)\n",
    "\n",
    "# Randomly select num_images images\n",
    "random_images = random.sample(images, 4)\n",
    "\n",
    "fig, axs = plt.subplots(2, 2, figsize=(8, 8))\n",
    "\n",
    "# Set the font for the plot\n",
    "import matplotlib.font_manager as fm\n",
    "font_path = 'NotoSansCJKsc-Regular.otf'\n",
    "prop = fm.FontProperties(fname=font_path)\n",
    "\n",
    "for i in range(2):\n",
    "    for j in range(2):\n",
    "        img_path = random_images[2 * i + j]\n",
    "        img = Image.open(img_path)\n",
    "        axs[i][j].imshow(img)\n",
    "        axs[i][j].set_title(f\"Character: {img_path.split('/')[1]}\", fontproperties=prop,fontsize = 13)"
   ]
  },
  {
   "cell_type": "markdown",
   "metadata": {},
   "source": [
    "# NumPy Array Conversion\n",
    "\n",
    "Now we can convert all the images into one single numpy array with the corresponding labels for each image."
   ]
  },
  {
   "cell_type": "code",
   "execution_count": 15,
   "metadata": {},
   "outputs": [],
   "source": [
    "def get_numpy_data(classes):\n",
    "    images = []\n",
    "    labels = []\n",
    "    for image_class in classes:\n",
    "        path = os.path.join(DIR, image_class)\n",
    "        for image in os.listdir(path):\n",
    "            image_path = os.path.join(path, image)\n",
    "\n",
    "            img = Image.open(image_path)\n",
    "            img_array = np.array(img)\n",
    "\n",
    "            images.append(img_array)\n",
    "            labels.append(image_class)\n",
    "            \n",
    "    return np.array(images), np.array(labels)"
   ]
  },
  {
   "cell_type": "markdown",
   "metadata": {},
   "source": [
    "Now we can convert the python lists into numpy arrays."
   ]
  },
  {
   "cell_type": "code",
   "execution_count": 16,
   "metadata": {},
   "outputs": [],
   "source": [
    "# random_image_classes = random.sample(image_classes, 50)\n",
    "\n",
    "images, labels = get_numpy_data(image_classes)"
   ]
  },
  {
   "cell_type": "markdown",
   "metadata": {},
   "source": [
    "And finally we can save the numpy arrays to the root directory."
   ]
  },
  {
   "cell_type": "code",
   "execution_count": 17,
   "metadata": {},
   "outputs": [],
   "source": [
    "np.save('images.npy', images)\n",
    "np.save('labels.npy', labels)"
   ]
  },
  {
   "cell_type": "markdown",
   "metadata": {},
   "source": [
    "## Split the samples into train and test sets and one-hot encode the labels"
   ]
  },
  {
   "cell_type": "code",
   "execution_count": 18,
   "metadata": {},
   "outputs": [],
   "source": [
    "images = np.load('images.npy').astype(\"float32\") / 255\n",
    "labels = np.load('labels.npy')\n",
    "\n",
    "X_train, X_test, y_train, y_test = train_test_split(images, labels, test_size=0.2, random_state=SEED, stratify=labels)\n",
    "\n",
    "encoder = LabelEncoder().fit(np.concatenate((y_train, y_test)))\n",
    "\n",
    "def encode_labels(encoder: LabelEncoder, labels):\n",
    "    integer_labels = encoder.transform(labels)\n",
    "    ohe_labels = to_categorical(integer_labels)\n",
    "    return integer_labels, ohe_labels\n",
    "\n",
    "y_train_int, y_train_ohe = encode_labels(encoder, y_train)\n",
    "y_test_int, y_test_ohe = encode_labels(encoder, y_test)\n",
    "\n",
    "NUM_CLASSES = y_train_ohe.shape[1]"
   ]
  },
  {
   "cell_type": "markdown",
   "metadata": {},
   "source": [
    "## General information about input tensors"
   ]
  },
  {
   "cell_type": "code",
   "execution_count": 19,
   "metadata": {},
   "outputs": [
    {
     "name": "stdout",
     "output_type": "stream",
     "text": [
      "(105556, 48, 48)\n",
      "(26390, 48, 48)\n",
      "(105556,)\n",
      "(26390,)\n",
      "(105556, 178)\n",
      "(26390, 178)\n",
      "(105556,)\n",
      "(26390,)\n"
     ]
    }
   ],
   "source": [
    "print(X_train.shape)\n",
    "print(X_test.shape)\n",
    "\n",
    "print(y_train_int.shape)\n",
    "print(y_test_int.shape)\n",
    "\n",
    "print(y_train_ohe.shape)\n",
    "print(y_test_ohe.shape)\n",
    "\n",
    "print(y_train.shape)\n",
    "print(y_test.shape)"
   ]
  },
  {
   "cell_type": "markdown",
   "metadata": {},
   "source": [
    "# Define the model"
   ]
  },
  {
   "cell_type": "code",
   "execution_count": 20,
   "metadata": {},
   "outputs": [],
   "source": [
    "def getCNNModel(hp):\n",
    "    model = Sequential([\n",
    "        Input(shape=(IMAGE_SIZE, IMAGE_SIZE, 1)),\n",
    "        \n",
    "        Conv2D(hp.Int('conv_1_filters', min_value=8, max_value=32, step=8), kernel_size=3, activation='relu'),\n",
    "        BatchNormalization(),\n",
    "        MaxPooling2D(2, 2),\n",
    "        Dropout(hp.Float('dropout_1', min_value=0.0, max_value=0.5, step=0.1)),\n",
    "        \n",
    "        Conv2D(hp.Int('conv_2_filters', min_value=16, max_value=64, step=16), kernel_size=3, activation='relu'),\n",
    "        BatchNormalization(),\n",
    "        MaxPooling2D(2, 2),\n",
    "        Dropout(hp.Float('dropout_2', min_value=0.0, max_value=0.5, step=0.1)),\n",
    "        \n",
    "        Conv2D(hp.Int('conv_3_filters', min_value=32, max_value=128, step=32), kernel_size=2, activation='relu'),\n",
    "        MaxPooling2D(2, 2),\n",
    "        Dropout(hp.Float('dropout_3', min_value=0.0, max_value=0.5, step=0.1)),\n",
    "        \n",
    "        Flatten(),\n",
    "        Dense(units=hp.Int('dense_units', min_value=128, max_value=1024, step=128), activation='relu'),\n",
    "        Dropout(hp.Float('dropout_4', min_value=0.0, max_value=0.7, step=0.1)),\n",
    "        Dense(units=NUM_CLASSES, activation='softmax')\n",
    "    ])\n",
    "\n",
    "    # Compile the model\n",
    "    model.compile(\n",
    "        optimizer=Adam(\n",
    "            hp.Choice('learning_rate', values=[1e-2, 5e-3, 1e-3, 5e-4, 1e-4])),\n",
    "        loss='categorical_crossentropy',\n",
    "        metrics=['accuracy'])\n",
    "\n",
    "    return model"
   ]
  },
  {
   "cell_type": "markdown",
   "metadata": {},
   "source": [
    "# Define the hyperparameter tuner"
   ]
  },
  {
   "cell_type": "code",
   "execution_count": 21,
   "metadata": {},
   "outputs": [
    {
     "name": "stdout",
     "output_type": "stream",
     "text": [
      "Reloading Tuner from hyperband/cnn_tuning20/tuner0.json\n"
     ]
    }
   ],
   "source": [
    "# from keras.callbacks import LearningRateScheduler\n",
    "from keras.callbacks import ModelCheckpoint\n",
    "\n",
    "tuner = kt.Hyperband(\n",
    "    getCNNModel,\n",
    "    objective='val_accuracy',\n",
    "    max_epochs=15,\n",
    "    directory='hyperband',\n",
    "    project_name='cnn_tuning20')\n",
    "\n",
    "# annealer = LearningRateScheduler(\n",
    "#     lambda x: 1e-3 * 0.99 ** (2 * x))\n",
    "stop_early = EarlyStopping(\n",
    "    monitor='loss',\n",
    "    patience=5)\n",
    "checkpoint = ModelCheckpoint(\n",
    "    'best_model.h5',\n",
    "    monitor='val_accuracy',\n",
    "    verbose=0,\n",
    "    save_best_only=True)\n",
    "\n",
    "tuner.search(\n",
    "    X_train, y_train_ohe,\n",
    "    validation_split=0.2,\n",
    "    callbacks=[stop_early, checkpoint],\n",
    "    epochs=30, batch_size=128)"
   ]
  },
  {
   "cell_type": "markdown",
   "metadata": {},
   "source": [
    "## Output the optimal hyperparameters"
   ]
  },
  {
   "cell_type": "code",
   "execution_count": 22,
   "metadata": {},
   "outputs": [
    {
     "name": "stdout",
     "output_type": "stream",
     "text": [
      "Best hyperparameters: {'conv_1_filters': 16, 'dropout_1': 0.1, 'conv_2_filters': 32, 'dropout_2': 0.0, 'dropout_3': 0.2, 'dense_units': 640, 'dropout_4': 0.30000000000000004, 'learning_rate': 0.001, 'tuner/epochs': 15, 'tuner/initial_epoch': 5, 'tuner/bracket': 1, 'tuner/round': 1, 'tuner/trial_id': '0021'}\n"
     ]
    }
   ],
   "source": [
    "best_hps = tuner.get_best_hyperparameters(num_trials=1)[0]\n",
    "print(f\"Best hyperparameters: {best_hps.values}\")"
   ]
  },
  {
   "cell_type": "markdown",
   "metadata": {},
   "source": [
    "## Cross validate the optimal hyperparameters"
   ]
  },
  {
   "cell_type": "code",
   "execution_count": 23,
   "metadata": {},
   "outputs": [
    {
     "name": "stdout",
     "output_type": "stream",
     "text": [
      "Fold 1/10\n",
      "Epoch 1/15\n",
      "1485/1485 [==============================] - 28s 19ms/step - loss: 0.7607 - accuracy: 0.7886 - val_loss: 0.3398 - val_accuracy: 0.9020\n",
      "Epoch 2/15\n",
      "1485/1485 [==============================] - 28s 19ms/step - loss: 0.6835 - accuracy: 0.8081 - val_loss: 0.3122 - val_accuracy: 0.9128\n",
      "Epoch 3/15\n",
      "1485/1485 [==============================] - 28s 19ms/step - loss: 0.6753 - accuracy: 0.8101 - val_loss: 0.5512 - val_accuracy: 0.8414\n",
      "Epoch 4/15\n",
      "1485/1485 [==============================] - 28s 19ms/step - loss: 0.6642 - accuracy: 0.8141 - val_loss: 0.3278 - val_accuracy: 0.9037\n",
      "Epoch 5/15\n",
      "1485/1485 [==============================] - 27s 18ms/step - loss: 0.6471 - accuracy: 0.8192 - val_loss: 1.1822 - val_accuracy: 0.6893\n",
      "Epoch 6/15\n",
      "1485/1485 [==============================] - 27s 18ms/step - loss: 0.6411 - accuracy: 0.8205 - val_loss: 0.3588 - val_accuracy: 0.8960\n",
      "Epoch 7/15\n",
      "1485/1485 [==============================] - 27s 18ms/step - loss: 0.6387 - accuracy: 0.8230 - val_loss: 0.3563 - val_accuracy: 0.9022\n",
      "Epoch 8/15\n",
      "1485/1485 [==============================] - 27s 18ms/step - loss: 0.6312 - accuracy: 0.8243 - val_loss: 0.3741 - val_accuracy: 0.8927\n",
      "Epoch 9/15\n",
      "1485/1485 [==============================] - 27s 18ms/step - loss: 0.6360 - accuracy: 0.8235 - val_loss: 0.3286 - val_accuracy: 0.9074\n",
      "Epoch 10/15\n",
      "1485/1485 [==============================] - 27s 18ms/step - loss: 0.6367 - accuracy: 0.8241 - val_loss: 0.3279 - val_accuracy: 0.9089\n",
      "Epoch 11/15\n",
      "1485/1485 [==============================] - 27s 18ms/step - loss: 0.6241 - accuracy: 0.8285 - val_loss: 0.3529 - val_accuracy: 0.8993\n",
      "Epoch 12/15\n",
      "1485/1485 [==============================] - 27s 18ms/step - loss: 0.6198 - accuracy: 0.8276 - val_loss: 0.3197 - val_accuracy: 0.9086\n",
      "Epoch 13/15\n",
      "1485/1485 [==============================] - 28s 19ms/step - loss: 0.6207 - accuracy: 0.8304 - val_loss: 0.3160 - val_accuracy: 0.9101\n",
      "Epoch 14/15\n",
      "1485/1485 [==============================] - 28s 19ms/step - loss: 0.6232 - accuracy: 0.8286 - val_loss: 0.3032 - val_accuracy: 0.9164\n",
      "Epoch 15/15\n",
      "1485/1485 [==============================] - 28s 19ms/step - loss: 0.6135 - accuracy: 0.8297 - val_loss: 0.3308 - val_accuracy: 0.9099\n",
      "Best epoch: 14, Val_accuracy: 0.9163509011268616\n",
      "Fold 2/10\n",
      "Epoch 1/15\n",
      "1485/1485 [==============================] - 28s 18ms/step - loss: 0.7605 - accuracy: 0.7874 - val_loss: 0.3324 - val_accuracy: 0.9088\n",
      "Epoch 2/15\n",
      "1485/1485 [==============================] - 27s 18ms/step - loss: 0.6962 - accuracy: 0.8052 - val_loss: 0.2985 - val_accuracy: 0.9146\n",
      "Epoch 3/15\n",
      "1485/1485 [==============================] - 27s 18ms/step - loss: 0.6697 - accuracy: 0.8127 - val_loss: 0.3183 - val_accuracy: 0.9060\n",
      "Epoch 4/15\n",
      "1485/1485 [==============================] - 27s 18ms/step - loss: 0.6635 - accuracy: 0.8148 - val_loss: 0.3644 - val_accuracy: 0.8939\n",
      "Epoch 5/15\n",
      "1485/1485 [==============================] - 28s 19ms/step - loss: 0.6539 - accuracy: 0.8169 - val_loss: 0.3224 - val_accuracy: 0.9086\n",
      "Epoch 6/15\n",
      "1485/1485 [==============================] - 27s 18ms/step - loss: 0.6418 - accuracy: 0.8211 - val_loss: 0.3392 - val_accuracy: 0.9024\n",
      "Epoch 7/15\n",
      "1485/1485 [==============================] - 27s 18ms/step - loss: 0.6348 - accuracy: 0.8239 - val_loss: 0.3857 - val_accuracy: 0.8882\n",
      "Epoch 8/15\n",
      "1485/1485 [==============================] - 27s 18ms/step - loss: 0.6327 - accuracy: 0.8243 - val_loss: 0.3259 - val_accuracy: 0.9100\n",
      "Epoch 9/15\n",
      "1485/1485 [==============================] - 27s 18ms/step - loss: 0.6291 - accuracy: 0.8259 - val_loss: 0.3226 - val_accuracy: 0.9070\n",
      "Epoch 10/15\n",
      "1485/1485 [==============================] - 27s 18ms/step - loss: 0.6353 - accuracy: 0.8237 - val_loss: 0.3267 - val_accuracy: 0.9095\n",
      "Epoch 11/15\n",
      "1485/1485 [==============================] - 27s 18ms/step - loss: 0.6137 - accuracy: 0.8304 - val_loss: 0.4095 - val_accuracy: 0.8805\n",
      "Epoch 12/15\n",
      "1485/1485 [==============================] - 27s 18ms/step - loss: 0.6217 - accuracy: 0.8289 - val_loss: 0.7942 - val_accuracy: 0.7755\n",
      "Epoch 13/15\n",
      "1485/1485 [==============================] - 27s 18ms/step - loss: 0.6168 - accuracy: 0.8284 - val_loss: 0.3530 - val_accuracy: 0.9006\n",
      "Epoch 14/15\n",
      "1485/1485 [==============================] - 27s 18ms/step - loss: 0.6150 - accuracy: 0.8317 - val_loss: 0.3379 - val_accuracy: 0.9038\n",
      "Epoch 15/15\n",
      "1485/1485 [==============================] - 27s 18ms/step - loss: 0.6014 - accuracy: 0.8331 - val_loss: 0.3662 - val_accuracy: 0.8984\n",
      "Best epoch: 2, Val_accuracy: 0.9145509600639343\n",
      "Fold 3/10\n",
      "Epoch 1/15\n",
      "1485/1485 [==============================] - 28s 19ms/step - loss: 0.7569 - accuracy: 0.7894 - val_loss: 0.3155 - val_accuracy: 0.9182\n",
      "Epoch 2/15\n",
      "1485/1485 [==============================] - 27s 18ms/step - loss: 0.6917 - accuracy: 0.8057 - val_loss: 0.3540 - val_accuracy: 0.9064\n",
      "Epoch 3/15\n",
      "1485/1485 [==============================] - 27s 18ms/step - loss: 0.6705 - accuracy: 0.8125 - val_loss: 0.3033 - val_accuracy: 0.9119\n",
      "Epoch 4/15\n",
      "1485/1485 [==============================] - 27s 18ms/step - loss: 0.6608 - accuracy: 0.8138 - val_loss: 0.2957 - val_accuracy: 0.9151\n",
      "Epoch 5/15\n",
      "1485/1485 [==============================] - 28s 19ms/step - loss: 0.6465 - accuracy: 0.8197 - val_loss: 0.3146 - val_accuracy: 0.9115\n",
      "Epoch 6/15\n",
      "1485/1485 [==============================] - 27s 18ms/step - loss: 0.6439 - accuracy: 0.8201 - val_loss: 0.4009 - val_accuracy: 0.8887\n",
      "Epoch 7/15\n",
      "1485/1485 [==============================] - 27s 18ms/step - loss: 0.6473 - accuracy: 0.8203 - val_loss: 0.3686 - val_accuracy: 0.8890\n",
      "Epoch 8/15\n",
      "1485/1485 [==============================] - 26s 18ms/step - loss: 0.6244 - accuracy: 0.8251 - val_loss: 0.3472 - val_accuracy: 0.8995\n",
      "Epoch 9/15\n",
      "1485/1485 [==============================] - 26s 18ms/step - loss: 0.6272 - accuracy: 0.8250 - val_loss: 0.3189 - val_accuracy: 0.9087\n",
      "Epoch 10/15\n",
      "1485/1485 [==============================] - 26s 17ms/step - loss: 0.6260 - accuracy: 0.8246 - val_loss: 0.2769 - val_accuracy: 0.9180\n",
      "Epoch 11/15\n",
      "1485/1485 [==============================] - 26s 17ms/step - loss: 0.6196 - accuracy: 0.8268 - val_loss: 0.3194 - val_accuracy: 0.9089\n",
      "Epoch 12/15\n",
      "1485/1485 [==============================] - 26s 17ms/step - loss: 0.6226 - accuracy: 0.8277 - val_loss: 0.3106 - val_accuracy: 0.9093\n",
      "Epoch 13/15\n",
      "1485/1485 [==============================] - 26s 17ms/step - loss: 0.6178 - accuracy: 0.8299 - val_loss: 0.2886 - val_accuracy: 0.9191\n",
      "Epoch 14/15\n",
      "1485/1485 [==============================] - 26s 17ms/step - loss: 0.6220 - accuracy: 0.8270 - val_loss: 0.3185 - val_accuracy: 0.9111\n",
      "Epoch 15/15\n",
      "1485/1485 [==============================] - 26s 17ms/step - loss: 0.6199 - accuracy: 0.8288 - val_loss: 0.3441 - val_accuracy: 0.8987\n",
      "Best epoch: 13, Val_accuracy: 0.9190981388092041\n",
      "Fold 4/10\n",
      "Epoch 1/15\n",
      "1485/1485 [==============================] - 27s 18ms/step - loss: 0.7567 - accuracy: 0.7890 - val_loss: 0.3555 - val_accuracy: 0.8993\n",
      "Epoch 2/15\n",
      "1485/1485 [==============================] - 26s 17ms/step - loss: 0.6786 - accuracy: 0.8102 - val_loss: 0.3564 - val_accuracy: 0.9005\n",
      "Epoch 3/15\n",
      "1485/1485 [==============================] - 26s 17ms/step - loss: 0.6753 - accuracy: 0.8114 - val_loss: 0.3299 - val_accuracy: 0.9062\n",
      "Epoch 4/15\n",
      "1485/1485 [==============================] - 26s 17ms/step - loss: 0.6544 - accuracy: 0.8173 - val_loss: 0.3421 - val_accuracy: 0.9005\n",
      "Epoch 5/15\n",
      "1485/1485 [==============================] - 26s 17ms/step - loss: 0.6444 - accuracy: 0.8185 - val_loss: 0.3463 - val_accuracy: 0.9002\n",
      "Epoch 6/15\n",
      "1485/1485 [==============================] - 26s 17ms/step - loss: 0.6418 - accuracy: 0.8199 - val_loss: 0.4112 - val_accuracy: 0.8887\n",
      "Epoch 7/15\n",
      "1485/1485 [==============================] - 26s 17ms/step - loss: 0.6349 - accuracy: 0.8215 - val_loss: 0.3424 - val_accuracy: 0.9125\n",
      "Epoch 8/15\n",
      "1485/1485 [==============================] - 26s 17ms/step - loss: 0.6319 - accuracy: 0.8245 - val_loss: 0.3515 - val_accuracy: 0.9015\n",
      "Epoch 9/15\n",
      "1485/1485 [==============================] - 26s 17ms/step - loss: 0.6335 - accuracy: 0.8240 - val_loss: 0.3191 - val_accuracy: 0.9097\n",
      "Epoch 10/15\n",
      "1485/1485 [==============================] - 26s 17ms/step - loss: 0.6312 - accuracy: 0.8256 - val_loss: 0.3636 - val_accuracy: 0.9020\n",
      "Epoch 11/15\n",
      "1485/1485 [==============================] - 26s 17ms/step - loss: 0.6198 - accuracy: 0.8276 - val_loss: 0.3321 - val_accuracy: 0.9059\n",
      "Epoch 12/15\n",
      "1485/1485 [==============================] - 26s 17ms/step - loss: 0.6240 - accuracy: 0.8272 - val_loss: 0.3208 - val_accuracy: 0.9111\n",
      "Epoch 13/15\n",
      "1485/1485 [==============================] - 26s 17ms/step - loss: 0.6154 - accuracy: 0.8297 - val_loss: 0.3533 - val_accuracy: 0.9025\n",
      "Epoch 14/15\n",
      "1485/1485 [==============================] - 26s 17ms/step - loss: 0.6071 - accuracy: 0.8329 - val_loss: 0.3149 - val_accuracy: 0.9140\n",
      "Epoch 15/15\n",
      "1485/1485 [==============================] - 26s 17ms/step - loss: 0.6179 - accuracy: 0.8303 - val_loss: 0.3233 - val_accuracy: 0.9126\n",
      "Best epoch: 14, Val_accuracy: 0.9139825701713562\n",
      "Fold 5/10\n",
      "Epoch 1/15\n",
      "1485/1485 [==============================] - 27s 18ms/step - loss: 0.7537 - accuracy: 0.7894 - val_loss: 0.3110 - val_accuracy: 0.9116\n",
      "Epoch 2/15\n",
      "1485/1485 [==============================] - 26s 17ms/step - loss: 0.6836 - accuracy: 0.8088 - val_loss: 0.3342 - val_accuracy: 0.9055\n",
      "Epoch 3/15\n",
      "1485/1485 [==============================] - 26s 17ms/step - loss: 0.6770 - accuracy: 0.8098 - val_loss: 0.3326 - val_accuracy: 0.9091\n",
      "Epoch 4/15\n",
      "1485/1485 [==============================] - 26s 17ms/step - loss: 0.6589 - accuracy: 0.8147 - val_loss: 0.3094 - val_accuracy: 0.9148\n",
      "Epoch 5/15\n",
      "1485/1485 [==============================] - 26s 17ms/step - loss: 0.6582 - accuracy: 0.8165 - val_loss: 0.3570 - val_accuracy: 0.8974\n",
      "Epoch 6/15\n",
      "1485/1485 [==============================] - 26s 17ms/step - loss: 0.6395 - accuracy: 0.8212 - val_loss: 0.6150 - val_accuracy: 0.8297\n",
      "Epoch 7/15\n",
      "1485/1485 [==============================] - 26s 17ms/step - loss: 0.6394 - accuracy: 0.8220 - val_loss: 0.3439 - val_accuracy: 0.9021\n",
      "Epoch 8/15\n",
      "1485/1485 [==============================] - 26s 17ms/step - loss: 0.6281 - accuracy: 0.8256 - val_loss: 0.3153 - val_accuracy: 0.9129\n",
      "Epoch 9/15\n",
      "1485/1485 [==============================] - 26s 17ms/step - loss: 0.6222 - accuracy: 0.8263 - val_loss: 0.3675 - val_accuracy: 0.8965\n",
      "Epoch 10/15\n",
      "1485/1485 [==============================] - 26s 17ms/step - loss: 0.6363 - accuracy: 0.8229 - val_loss: 0.3428 - val_accuracy: 0.9092\n",
      "Epoch 11/15\n",
      "1485/1485 [==============================] - 26s 17ms/step - loss: 0.6321 - accuracy: 0.8261 - val_loss: 0.3482 - val_accuracy: 0.9037\n",
      "Epoch 12/15\n",
      "1485/1485 [==============================] - 26s 17ms/step - loss: 0.6280 - accuracy: 0.8281 - val_loss: 0.3252 - val_accuracy: 0.9083\n",
      "Epoch 13/15\n",
      "1485/1485 [==============================] - 26s 17ms/step - loss: 0.6194 - accuracy: 0.8266 - val_loss: 0.3216 - val_accuracy: 0.9138\n",
      "Epoch 14/15\n",
      "1485/1485 [==============================] - 26s 17ms/step - loss: 0.6191 - accuracy: 0.8300 - val_loss: 0.3292 - val_accuracy: 0.9077\n",
      "Epoch 15/15\n",
      "1485/1485 [==============================] - 26s 17ms/step - loss: 0.6198 - accuracy: 0.8307 - val_loss: 0.3373 - val_accuracy: 0.9055\n",
      "Best epoch: 4, Val_accuracy: 0.9148351550102234\n",
      "Fold 6/10\n",
      "Epoch 1/15\n",
      "1485/1485 [==============================] - 27s 18ms/step - loss: 0.7736 - accuracy: 0.7855 - val_loss: 0.3036 - val_accuracy: 0.9140\n",
      "Epoch 2/15\n",
      "1485/1485 [==============================] - 26s 18ms/step - loss: 0.6811 - accuracy: 0.8086 - val_loss: 0.4027 - val_accuracy: 0.8869\n",
      "Epoch 3/15\n",
      "1485/1485 [==============================] - 26s 17ms/step - loss: 0.6718 - accuracy: 0.8106 - val_loss: 0.3472 - val_accuracy: 0.9064\n",
      "Epoch 4/15\n",
      "1485/1485 [==============================] - 26s 18ms/step - loss: 0.6575 - accuracy: 0.8154 - val_loss: 0.6314 - val_accuracy: 0.8221\n",
      "Epoch 5/15\n",
      "1485/1485 [==============================] - 26s 18ms/step - loss: 0.6562 - accuracy: 0.8167 - val_loss: 0.3769 - val_accuracy: 0.8960\n",
      "Epoch 6/15\n",
      "1485/1485 [==============================] - 26s 17ms/step - loss: 0.6473 - accuracy: 0.8181 - val_loss: 0.3266 - val_accuracy: 0.9052\n",
      "Epoch 7/15\n",
      "1485/1485 [==============================] - 26s 17ms/step - loss: 0.6382 - accuracy: 0.8210 - val_loss: 0.3499 - val_accuracy: 0.9020\n",
      "Epoch 8/15\n",
      "1485/1485 [==============================] - 26s 17ms/step - loss: 0.6293 - accuracy: 0.8235 - val_loss: 0.3472 - val_accuracy: 0.9018\n",
      "Epoch 9/15\n",
      "1485/1485 [==============================] - 26s 17ms/step - loss: 0.6361 - accuracy: 0.8245 - val_loss: 0.3166 - val_accuracy: 0.9127\n",
      "Epoch 10/15\n",
      "1485/1485 [==============================] - 26s 18ms/step - loss: 0.6291 - accuracy: 0.8260 - val_loss: 0.4029 - val_accuracy: 0.8898\n",
      "Epoch 11/15\n",
      "1485/1485 [==============================] - 26s 18ms/step - loss: 0.6312 - accuracy: 0.8260 - val_loss: 0.3947 - val_accuracy: 0.8894\n",
      "Epoch 12/15\n",
      "1485/1485 [==============================] - 26s 18ms/step - loss: 0.6364 - accuracy: 0.8247 - val_loss: 0.3979 - val_accuracy: 0.8934\n",
      "Epoch 13/15\n",
      "1485/1485 [==============================] - 26s 18ms/step - loss: 0.6182 - accuracy: 0.8297 - val_loss: 0.3314 - val_accuracy: 0.9093\n",
      "Epoch 14/15\n",
      "1485/1485 [==============================] - 26s 18ms/step - loss: 0.6247 - accuracy: 0.8274 - val_loss: 0.4405 - val_accuracy: 0.8770\n",
      "Epoch 15/15\n",
      "1485/1485 [==============================] - 26s 18ms/step - loss: 0.6171 - accuracy: 0.8292 - val_loss: 0.3887 - val_accuracy: 0.8910\n",
      "Best epoch: 1, Val_accuracy: 0.9139825701713562\n",
      "Fold 7/10\n",
      "Epoch 1/15\n",
      "1485/1485 [==============================] - 27s 18ms/step - loss: 0.7604 - accuracy: 0.7878 - val_loss: 0.3450 - val_accuracy: 0.9009\n",
      "Epoch 2/15\n",
      "1485/1485 [==============================] - 26s 18ms/step - loss: 0.6864 - accuracy: 0.8077 - val_loss: 0.3156 - val_accuracy: 0.9101\n",
      "Epoch 3/15\n",
      "1485/1485 [==============================] - 26s 17ms/step - loss: 0.6754 - accuracy: 0.8099 - val_loss: 0.3255 - val_accuracy: 0.9116\n",
      "Epoch 4/15\n",
      "1485/1485 [==============================] - 26s 17ms/step - loss: 0.6578 - accuracy: 0.8160 - val_loss: 0.3173 - val_accuracy: 0.9131\n",
      "Epoch 5/15\n",
      "1485/1485 [==============================] - 26s 18ms/step - loss: 0.6568 - accuracy: 0.8183 - val_loss: 0.3419 - val_accuracy: 0.9026\n",
      "Epoch 6/15\n",
      "1485/1485 [==============================] - 26s 18ms/step - loss: 0.6416 - accuracy: 0.8206 - val_loss: 0.3396 - val_accuracy: 0.9037\n",
      "Epoch 7/15\n",
      "1485/1485 [==============================] - 26s 18ms/step - loss: 0.6396 - accuracy: 0.8211 - val_loss: 0.3242 - val_accuracy: 0.9088\n",
      "Epoch 8/15\n",
      "1485/1485 [==============================] - 26s 18ms/step - loss: 0.6388 - accuracy: 0.8231 - val_loss: 0.3127 - val_accuracy: 0.9136\n",
      "Epoch 9/15\n",
      "1485/1485 [==============================] - 26s 18ms/step - loss: 0.6269 - accuracy: 0.8258 - val_loss: 0.4646 - val_accuracy: 0.8712\n",
      "Epoch 10/15\n",
      "1485/1485 [==============================] - 26s 18ms/step - loss: 0.6233 - accuracy: 0.8250 - val_loss: 0.3111 - val_accuracy: 0.9123\n",
      "Epoch 11/15\n",
      "1485/1485 [==============================] - 26s 18ms/step - loss: 0.6226 - accuracy: 0.8263 - val_loss: 0.5105 - val_accuracy: 0.8546\n",
      "Epoch 12/15\n",
      "1485/1485 [==============================] - 26s 18ms/step - loss: 0.6201 - accuracy: 0.8285 - val_loss: 0.3798 - val_accuracy: 0.8945\n",
      "Epoch 13/15\n",
      "1485/1485 [==============================] - 26s 18ms/step - loss: 0.6172 - accuracy: 0.8314 - val_loss: 0.3323 - val_accuracy: 0.9071\n",
      "Epoch 14/15\n",
      "1485/1485 [==============================] - 26s 18ms/step - loss: 0.6195 - accuracy: 0.8307 - val_loss: 0.3342 - val_accuracy: 0.9059\n",
      "Epoch 15/15\n",
      "1485/1485 [==============================] - 26s 18ms/step - loss: 0.6227 - accuracy: 0.8289 - val_loss: 0.3718 - val_accuracy: 0.8964\n",
      "Best epoch: 8, Val_accuracy: 0.91359543800354\n",
      "Fold 8/10\n",
      "Epoch 1/15\n",
      "1485/1485 [==============================] - 27s 18ms/step - loss: 0.7549 - accuracy: 0.7886 - val_loss: 0.3117 - val_accuracy: 0.9089\n",
      "Epoch 2/15\n",
      "1485/1485 [==============================] - 26s 18ms/step - loss: 0.6953 - accuracy: 0.8060 - val_loss: 0.3723 - val_accuracy: 0.8912\n",
      "Epoch 3/15\n",
      "1485/1485 [==============================] - 26s 18ms/step - loss: 0.6723 - accuracy: 0.8122 - val_loss: 0.3083 - val_accuracy: 0.9130\n",
      "Epoch 4/15\n",
      "1485/1485 [==============================] - 26s 18ms/step - loss: 0.6637 - accuracy: 0.8143 - val_loss: 0.3644 - val_accuracy: 0.8983\n",
      "Epoch 5/15\n",
      "1485/1485 [==============================] - 26s 18ms/step - loss: 0.6534 - accuracy: 0.8168 - val_loss: 0.7967 - val_accuracy: 0.7764\n",
      "Epoch 6/15\n",
      "1485/1485 [==============================] - 26s 18ms/step - loss: 0.6484 - accuracy: 0.8183 - val_loss: 0.3102 - val_accuracy: 0.9118\n",
      "Epoch 7/15\n",
      "1485/1485 [==============================] - 26s 17ms/step - loss: 0.6395 - accuracy: 0.8217 - val_loss: 0.3168 - val_accuracy: 0.9145\n",
      "Epoch 8/15\n",
      "1485/1485 [==============================] - 26s 17ms/step - loss: 0.6336 - accuracy: 0.8222 - val_loss: 0.3324 - val_accuracy: 0.9082\n",
      "Epoch 9/15\n",
      "1485/1485 [==============================] - 26s 17ms/step - loss: 0.6307 - accuracy: 0.8253 - val_loss: 0.5127 - val_accuracy: 0.8505\n",
      "Epoch 10/15\n",
      "1485/1485 [==============================] - 26s 17ms/step - loss: 0.6228 - accuracy: 0.8269 - val_loss: 0.3007 - val_accuracy: 0.9115\n",
      "Epoch 11/15\n",
      "1485/1485 [==============================] - 26s 17ms/step - loss: 0.6214 - accuracy: 0.8283 - val_loss: 0.3030 - val_accuracy: 0.9115\n",
      "Epoch 12/15\n",
      "1485/1485 [==============================] - 26s 17ms/step - loss: 0.6292 - accuracy: 0.8272 - val_loss: 0.3280 - val_accuracy: 0.9071\n",
      "Epoch 13/15\n",
      "1485/1485 [==============================] - 26s 18ms/step - loss: 0.6111 - accuracy: 0.8326 - val_loss: 0.3724 - val_accuracy: 0.8978\n",
      "Epoch 14/15\n",
      "1485/1485 [==============================] - 26s 18ms/step - loss: 0.6330 - accuracy: 0.8257 - val_loss: 0.3420 - val_accuracy: 0.9025\n",
      "Epoch 15/15\n",
      "1485/1485 [==============================] - 26s 18ms/step - loss: 0.6096 - accuracy: 0.8312 - val_loss: 0.3302 - val_accuracy: 0.9063\n",
      "Best epoch: 7, Val_accuracy: 0.9145428538322449\n",
      "Fold 9/10\n",
      "Epoch 1/15\n",
      "1485/1485 [==============================] - 27s 18ms/step - loss: 0.7560 - accuracy: 0.7904 - val_loss: 0.4656 - val_accuracy: 0.8647\n",
      "Epoch 2/15\n",
      "1485/1485 [==============================] - 27s 18ms/step - loss: 0.6956 - accuracy: 0.8056 - val_loss: 0.3425 - val_accuracy: 0.9037\n",
      "Epoch 3/15\n",
      "1485/1485 [==============================] - 27s 18ms/step - loss: 0.6679 - accuracy: 0.8125 - val_loss: 0.3290 - val_accuracy: 0.9054\n",
      "Epoch 4/15\n",
      "1485/1485 [==============================] - 26s 18ms/step - loss: 0.6559 - accuracy: 0.8162 - val_loss: 0.3422 - val_accuracy: 0.9055\n",
      "Epoch 5/15\n",
      "1485/1485 [==============================] - 26s 18ms/step - loss: 0.6524 - accuracy: 0.8163 - val_loss: 0.3592 - val_accuracy: 0.8977\n",
      "Epoch 6/15\n",
      "1485/1485 [==============================] - 26s 18ms/step - loss: 0.6437 - accuracy: 0.8208 - val_loss: 0.4822 - val_accuracy: 0.8656\n",
      "Epoch 7/15\n",
      "1485/1485 [==============================] - 26s 17ms/step - loss: 0.6385 - accuracy: 0.8230 - val_loss: 0.3219 - val_accuracy: 0.9130\n",
      "Epoch 8/15\n",
      "1485/1485 [==============================] - 26s 17ms/step - loss: 0.6352 - accuracy: 0.8234 - val_loss: 0.3279 - val_accuracy: 0.9156\n",
      "Epoch 9/15\n",
      "1485/1485 [==============================] - 26s 17ms/step - loss: 0.6366 - accuracy: 0.8239 - val_loss: 0.3629 - val_accuracy: 0.8996\n",
      "Epoch 10/15\n",
      "1485/1485 [==============================] - 26s 18ms/step - loss: 0.6340 - accuracy: 0.8248 - val_loss: 0.5521 - val_accuracy: 0.8487\n",
      "Epoch 11/15\n",
      "1485/1485 [==============================] - 26s 17ms/step - loss: 0.6186 - accuracy: 0.8289 - val_loss: 0.3233 - val_accuracy: 0.9123\n",
      "Epoch 12/15\n",
      "1485/1485 [==============================] - 26s 17ms/step - loss: 0.6202 - accuracy: 0.8283 - val_loss: 0.3049 - val_accuracy: 0.9143\n",
      "Epoch 13/15\n",
      "1485/1485 [==============================] - 26s 17ms/step - loss: 0.6293 - accuracy: 0.8263 - val_loss: 0.3342 - val_accuracy: 0.9072\n",
      "Epoch 14/15\n",
      "1485/1485 [==============================] - 26s 17ms/step - loss: 0.6214 - accuracy: 0.8304 - val_loss: 0.3488 - val_accuracy: 0.9034\n",
      "Epoch 15/15\n",
      "1485/1485 [==============================] - 26s 17ms/step - loss: 0.6063 - accuracy: 0.8327 - val_loss: 0.4471 - val_accuracy: 0.8757\n",
      "Best epoch: 8, Val_accuracy: 0.9155850410461426\n",
      "Fold 10/10\n",
      "Epoch 1/15\n",
      "1485/1485 [==============================] - 27s 18ms/step - loss: 0.7588 - accuracy: 0.7888 - val_loss: 0.3990 - val_accuracy: 0.8913\n",
      "Epoch 2/15\n",
      "1485/1485 [==============================] - 26s 18ms/step - loss: 0.6988 - accuracy: 0.8061 - val_loss: 0.3327 - val_accuracy: 0.9070\n",
      "Epoch 3/15\n",
      "1485/1485 [==============================] - 26s 18ms/step - loss: 0.6703 - accuracy: 0.8119 - val_loss: 0.3115 - val_accuracy: 0.9077\n",
      "Epoch 4/15\n",
      "1485/1485 [==============================] - 26s 18ms/step - loss: 0.6582 - accuracy: 0.8161 - val_loss: 0.2962 - val_accuracy: 0.9141\n",
      "Epoch 5/15\n",
      "1485/1485 [==============================] - 26s 18ms/step - loss: 0.6595 - accuracy: 0.8160 - val_loss: 0.3001 - val_accuracy: 0.9144\n",
      "Epoch 6/15\n",
      "1485/1485 [==============================] - 26s 18ms/step - loss: 0.6475 - accuracy: 0.8194 - val_loss: 0.3340 - val_accuracy: 0.9077\n",
      "Epoch 7/15\n",
      "1485/1485 [==============================] - 26s 18ms/step - loss: 0.6363 - accuracy: 0.8223 - val_loss: 0.3070 - val_accuracy: 0.9122\n",
      "Epoch 8/15\n",
      "1485/1485 [==============================] - 26s 18ms/step - loss: 0.6457 - accuracy: 0.8215 - val_loss: 0.3485 - val_accuracy: 0.8990\n",
      "Epoch 9/15\n",
      "1485/1485 [==============================] - 27s 18ms/step - loss: 0.6365 - accuracy: 0.8226 - val_loss: 0.3728 - val_accuracy: 0.8931\n",
      "Epoch 10/15\n",
      "1485/1485 [==============================] - 27s 18ms/step - loss: 0.6313 - accuracy: 0.8234 - val_loss: 0.3235 - val_accuracy: 0.9076\n",
      "Epoch 11/15\n",
      "1485/1485 [==============================] - 26s 18ms/step - loss: 0.6266 - accuracy: 0.8262 - val_loss: 0.4478 - val_accuracy: 0.8687\n",
      "Epoch 12/15\n",
      "1485/1485 [==============================] - 26s 18ms/step - loss: 0.6228 - accuracy: 0.8282 - val_loss: 0.3079 - val_accuracy: 0.9090\n",
      "Epoch 13/15\n",
      "1485/1485 [==============================] - 26s 18ms/step - loss: 0.6152 - accuracy: 0.8301 - val_loss: 0.3077 - val_accuracy: 0.9124\n",
      "Epoch 14/15\n",
      "1485/1485 [==============================] - 26s 18ms/step - loss: 0.6108 - accuracy: 0.8313 - val_loss: 0.3090 - val_accuracy: 0.9123\n",
      "Epoch 15/15\n",
      "1485/1485 [==============================] - 27s 18ms/step - loss: 0.6161 - accuracy: 0.8296 - val_loss: 0.3560 - val_accuracy: 0.8962\n",
      "Best epoch: 5, Val_accuracy: 0.9144481420516968\n"
     ]
    }
   ],
   "source": [
    "k = 10\n",
    "kfold = KFold(n_splits=k, shuffle=True, random_state=42)\n",
    "fold_history = []\n",
    "\n",
    "for i, (train_idxs, val_idxs) in enumerate(kfold.split(X_train, y_train_ohe)):\n",
    "    print(f\"Fold {i + 1}/{k}\")\n",
    "    \n",
    "    model = load_model('best_model.h5')\n",
    "    \n",
    "    history = model.fit(\n",
    "        X_train[train_idxs],\n",
    "        y_train_ohe[train_idxs],\n",
    "        validation_data=(X_train[val_idxs], y_train_ohe[val_idxs]),\n",
    "        epochs=15,\n",
    "        batch_size=64\n",
    "    )\n",
    "    val_acc_per_epoch = history.history['val_accuracy']\n",
    "    best_epoch = val_acc_per_epoch.index(max(val_acc_per_epoch)) + 1\n",
    "    print(f'Best epoch: {best_epoch}, Val_accuracy: {max(val_acc_per_epoch)}')\n",
    "    fold_history.append(history)"
   ]
  },
  {
   "cell_type": "markdown",
   "metadata": {},
   "source": [
    "# Perform feature extraction"
   ]
  },
  {
   "cell_type": "code",
   "execution_count": 24,
   "metadata": {},
   "outputs": [
    {
     "name": "stdout",
     "output_type": "stream",
     "text": [
      "3299/3299 [==============================] - 8s 2ms/step\n",
      "825/825 [==============================] - 2s 2ms/step\n"
     ]
    }
   ],
   "source": [
    "full_model = load_model('best_model.h5')\n",
    "feature_model = Model(inputs=full_model.input, outputs=full_model.layers[-4].output)\n",
    "\n",
    "train_features = feature_model.predict(X_train)\n",
    "test_features = feature_model.predict(X_test)"
   ]
  },
  {
   "cell_type": "code",
   "execution_count": 25,
   "metadata": {},
   "outputs": [
    {
     "name": "stdout",
     "output_type": "stream",
     "text": [
      "(105556, 512)\n",
      "(26390, 512)\n"
     ]
    }
   ],
   "source": [
    "print(train_features.shape)\n",
    "print(test_features.shape)"
   ]
  },
  {
   "cell_type": "markdown",
   "metadata": {},
   "source": [
    "# Grid Search Logistic Regression Hyperparameters"
   ]
  },
  {
   "cell_type": "code",
   "execution_count": 29,
   "metadata": {},
   "outputs": [
    {
     "ename": "KeyboardInterrupt",
     "evalue": "",
     "output_type": "error",
     "traceback": [
      "\u001b[0;31m---------------------------------------------------------------------------\u001b[0m",
      "\u001b[0;31mKeyboardInterrupt\u001b[0m                         Traceback (most recent call last)",
      "Cell \u001b[0;32mIn[29], line 14\u001b[0m\n\u001b[1;32m      7\u001b[0m logistic_regressor \u001b[38;5;241m=\u001b[39m LogisticRegression(\n\u001b[1;32m      8\u001b[0m     class_weight\u001b[38;5;241m=\u001b[39m\u001b[38;5;124m'\u001b[39m\u001b[38;5;124mbalanced\u001b[39m\u001b[38;5;124m'\u001b[39m,\n\u001b[1;32m      9\u001b[0m     max_iter\u001b[38;5;241m=\u001b[39m\u001b[38;5;241m200\u001b[39m,\n\u001b[1;32m     10\u001b[0m     n_jobs\u001b[38;5;241m=\u001b[39m\u001b[38;5;241m-\u001b[39m\u001b[38;5;241m1\u001b[39m,\n\u001b[1;32m     11\u001b[0m     random_state\u001b[38;5;241m=\u001b[39m\u001b[38;5;241m42\u001b[39m)\n\u001b[1;32m     13\u001b[0m log_grid_search \u001b[38;5;241m=\u001b[39m GridSearchCV(logistic_regressor, param_grid, cv\u001b[38;5;241m=\u001b[39m\u001b[38;5;241m5\u001b[39m, scoring\u001b[38;5;241m=\u001b[39m\u001b[38;5;124m'\u001b[39m\u001b[38;5;124maccuracy\u001b[39m\u001b[38;5;124m'\u001b[39m)\n\u001b[0;32m---> 14\u001b[0m \u001b[43mlog_grid_search\u001b[49m\u001b[38;5;241;43m.\u001b[39;49m\u001b[43mfit\u001b[49m\u001b[43m(\u001b[49m\u001b[43mtrain_features\u001b[49m\u001b[43m,\u001b[49m\u001b[43m \u001b[49m\u001b[43my_train_int\u001b[49m\u001b[43m)\u001b[49m\n\u001b[1;32m     16\u001b[0m \u001b[38;5;28mprint\u001b[39m(\u001b[38;5;124m\"\u001b[39m\u001b[38;5;124mBest parameters:\u001b[39m\u001b[38;5;124m\"\u001b[39m, log_grid_search\u001b[38;5;241m.\u001b[39mbest_params_)\n\u001b[1;32m     17\u001b[0m \u001b[38;5;28mprint\u001b[39m(\u001b[38;5;124m\"\u001b[39m\u001b[38;5;124mBest score:\u001b[39m\u001b[38;5;124m\"\u001b[39m, log_grid_search\u001b[38;5;241m.\u001b[39mbest_score_)\n",
      "File \u001b[0;32m~/.local/lib/python3.10/site-packages/sklearn/base.py:1152\u001b[0m, in \u001b[0;36m_fit_context.<locals>.decorator.<locals>.wrapper\u001b[0;34m(estimator, *args, **kwargs)\u001b[0m\n\u001b[1;32m   1145\u001b[0m     estimator\u001b[38;5;241m.\u001b[39m_validate_params()\n\u001b[1;32m   1147\u001b[0m \u001b[38;5;28;01mwith\u001b[39;00m config_context(\n\u001b[1;32m   1148\u001b[0m     skip_parameter_validation\u001b[38;5;241m=\u001b[39m(\n\u001b[1;32m   1149\u001b[0m         prefer_skip_nested_validation \u001b[38;5;129;01mor\u001b[39;00m global_skip_validation\n\u001b[1;32m   1150\u001b[0m     )\n\u001b[1;32m   1151\u001b[0m ):\n\u001b[0;32m-> 1152\u001b[0m     \u001b[38;5;28;01mreturn\u001b[39;00m \u001b[43mfit_method\u001b[49m\u001b[43m(\u001b[49m\u001b[43mestimator\u001b[49m\u001b[43m,\u001b[49m\u001b[43m \u001b[49m\u001b[38;5;241;43m*\u001b[39;49m\u001b[43margs\u001b[49m\u001b[43m,\u001b[49m\u001b[43m \u001b[49m\u001b[38;5;241;43m*\u001b[39;49m\u001b[38;5;241;43m*\u001b[39;49m\u001b[43mkwargs\u001b[49m\u001b[43m)\u001b[49m\n",
      "File \u001b[0;32m~/.local/lib/python3.10/site-packages/sklearn/model_selection/_search.py:898\u001b[0m, in \u001b[0;36mBaseSearchCV.fit\u001b[0;34m(self, X, y, groups, **fit_params)\u001b[0m\n\u001b[1;32m    892\u001b[0m     results \u001b[38;5;241m=\u001b[39m \u001b[38;5;28mself\u001b[39m\u001b[38;5;241m.\u001b[39m_format_results(\n\u001b[1;32m    893\u001b[0m         all_candidate_params, n_splits, all_out, all_more_results\n\u001b[1;32m    894\u001b[0m     )\n\u001b[1;32m    896\u001b[0m     \u001b[38;5;28;01mreturn\u001b[39;00m results\n\u001b[0;32m--> 898\u001b[0m \u001b[38;5;28;43mself\u001b[39;49m\u001b[38;5;241;43m.\u001b[39;49m\u001b[43m_run_search\u001b[49m\u001b[43m(\u001b[49m\u001b[43mevaluate_candidates\u001b[49m\u001b[43m)\u001b[49m\n\u001b[1;32m    900\u001b[0m \u001b[38;5;66;03m# multimetric is determined here because in the case of a callable\u001b[39;00m\n\u001b[1;32m    901\u001b[0m \u001b[38;5;66;03m# self.scoring the return type is only known after calling\u001b[39;00m\n\u001b[1;32m    902\u001b[0m first_test_score \u001b[38;5;241m=\u001b[39m all_out[\u001b[38;5;241m0\u001b[39m][\u001b[38;5;124m\"\u001b[39m\u001b[38;5;124mtest_scores\u001b[39m\u001b[38;5;124m\"\u001b[39m]\n",
      "File \u001b[0;32m~/.local/lib/python3.10/site-packages/sklearn/model_selection/_search.py:1422\u001b[0m, in \u001b[0;36mGridSearchCV._run_search\u001b[0;34m(self, evaluate_candidates)\u001b[0m\n\u001b[1;32m   1420\u001b[0m \u001b[38;5;28;01mdef\u001b[39;00m \u001b[38;5;21m_run_search\u001b[39m(\u001b[38;5;28mself\u001b[39m, evaluate_candidates):\n\u001b[1;32m   1421\u001b[0m \u001b[38;5;250m    \u001b[39m\u001b[38;5;124;03m\"\"\"Search all candidates in param_grid\"\"\"\u001b[39;00m\n\u001b[0;32m-> 1422\u001b[0m     \u001b[43mevaluate_candidates\u001b[49m\u001b[43m(\u001b[49m\u001b[43mParameterGrid\u001b[49m\u001b[43m(\u001b[49m\u001b[38;5;28;43mself\u001b[39;49m\u001b[38;5;241;43m.\u001b[39;49m\u001b[43mparam_grid\u001b[49m\u001b[43m)\u001b[49m\u001b[43m)\u001b[49m\n",
      "File \u001b[0;32m~/.local/lib/python3.10/site-packages/sklearn/model_selection/_search.py:845\u001b[0m, in \u001b[0;36mBaseSearchCV.fit.<locals>.evaluate_candidates\u001b[0;34m(candidate_params, cv, more_results)\u001b[0m\n\u001b[1;32m    837\u001b[0m \u001b[38;5;28;01mif\u001b[39;00m \u001b[38;5;28mself\u001b[39m\u001b[38;5;241m.\u001b[39mverbose \u001b[38;5;241m>\u001b[39m \u001b[38;5;241m0\u001b[39m:\n\u001b[1;32m    838\u001b[0m     \u001b[38;5;28mprint\u001b[39m(\n\u001b[1;32m    839\u001b[0m         \u001b[38;5;124m\"\u001b[39m\u001b[38;5;124mFitting \u001b[39m\u001b[38;5;132;01m{0}\u001b[39;00m\u001b[38;5;124m folds for each of \u001b[39m\u001b[38;5;132;01m{1}\u001b[39;00m\u001b[38;5;124m candidates,\u001b[39m\u001b[38;5;124m\"\u001b[39m\n\u001b[1;32m    840\u001b[0m         \u001b[38;5;124m\"\u001b[39m\u001b[38;5;124m totalling \u001b[39m\u001b[38;5;132;01m{2}\u001b[39;00m\u001b[38;5;124m fits\u001b[39m\u001b[38;5;124m\"\u001b[39m\u001b[38;5;241m.\u001b[39mformat(\n\u001b[1;32m    841\u001b[0m             n_splits, n_candidates, n_candidates \u001b[38;5;241m*\u001b[39m n_splits\n\u001b[1;32m    842\u001b[0m         )\n\u001b[1;32m    843\u001b[0m     )\n\u001b[0;32m--> 845\u001b[0m out \u001b[38;5;241m=\u001b[39m \u001b[43mparallel\u001b[49m\u001b[43m(\u001b[49m\n\u001b[1;32m    846\u001b[0m \u001b[43m    \u001b[49m\u001b[43mdelayed\u001b[49m\u001b[43m(\u001b[49m\u001b[43m_fit_and_score\u001b[49m\u001b[43m)\u001b[49m\u001b[43m(\u001b[49m\n\u001b[1;32m    847\u001b[0m \u001b[43m        \u001b[49m\u001b[43mclone\u001b[49m\u001b[43m(\u001b[49m\u001b[43mbase_estimator\u001b[49m\u001b[43m)\u001b[49m\u001b[43m,\u001b[49m\n\u001b[1;32m    848\u001b[0m \u001b[43m        \u001b[49m\u001b[43mX\u001b[49m\u001b[43m,\u001b[49m\n\u001b[1;32m    849\u001b[0m \u001b[43m        \u001b[49m\u001b[43my\u001b[49m\u001b[43m,\u001b[49m\n\u001b[1;32m    850\u001b[0m \u001b[43m        \u001b[49m\u001b[43mtrain\u001b[49m\u001b[38;5;241;43m=\u001b[39;49m\u001b[43mtrain\u001b[49m\u001b[43m,\u001b[49m\n\u001b[1;32m    851\u001b[0m \u001b[43m        \u001b[49m\u001b[43mtest\u001b[49m\u001b[38;5;241;43m=\u001b[39;49m\u001b[43mtest\u001b[49m\u001b[43m,\u001b[49m\n\u001b[1;32m    852\u001b[0m \u001b[43m        \u001b[49m\u001b[43mparameters\u001b[49m\u001b[38;5;241;43m=\u001b[39;49m\u001b[43mparameters\u001b[49m\u001b[43m,\u001b[49m\n\u001b[1;32m    853\u001b[0m \u001b[43m        \u001b[49m\u001b[43msplit_progress\u001b[49m\u001b[38;5;241;43m=\u001b[39;49m\u001b[43m(\u001b[49m\u001b[43msplit_idx\u001b[49m\u001b[43m,\u001b[49m\u001b[43m \u001b[49m\u001b[43mn_splits\u001b[49m\u001b[43m)\u001b[49m\u001b[43m,\u001b[49m\n\u001b[1;32m    854\u001b[0m \u001b[43m        \u001b[49m\u001b[43mcandidate_progress\u001b[49m\u001b[38;5;241;43m=\u001b[39;49m\u001b[43m(\u001b[49m\u001b[43mcand_idx\u001b[49m\u001b[43m,\u001b[49m\u001b[43m \u001b[49m\u001b[43mn_candidates\u001b[49m\u001b[43m)\u001b[49m\u001b[43m,\u001b[49m\n\u001b[1;32m    855\u001b[0m \u001b[43m        \u001b[49m\u001b[38;5;241;43m*\u001b[39;49m\u001b[38;5;241;43m*\u001b[39;49m\u001b[43mfit_and_score_kwargs\u001b[49m\u001b[43m,\u001b[49m\n\u001b[1;32m    856\u001b[0m \u001b[43m    \u001b[49m\u001b[43m)\u001b[49m\n\u001b[1;32m    857\u001b[0m \u001b[43m    \u001b[49m\u001b[38;5;28;43;01mfor\u001b[39;49;00m\u001b[43m \u001b[49m\u001b[43m(\u001b[49m\u001b[43mcand_idx\u001b[49m\u001b[43m,\u001b[49m\u001b[43m \u001b[49m\u001b[43mparameters\u001b[49m\u001b[43m)\u001b[49m\u001b[43m,\u001b[49m\u001b[43m \u001b[49m\u001b[43m(\u001b[49m\u001b[43msplit_idx\u001b[49m\u001b[43m,\u001b[49m\u001b[43m \u001b[49m\u001b[43m(\u001b[49m\u001b[43mtrain\u001b[49m\u001b[43m,\u001b[49m\u001b[43m \u001b[49m\u001b[43mtest\u001b[49m\u001b[43m)\u001b[49m\u001b[43m)\u001b[49m\u001b[43m \u001b[49m\u001b[38;5;129;43;01min\u001b[39;49;00m\u001b[43m \u001b[49m\u001b[43mproduct\u001b[49m\u001b[43m(\u001b[49m\n\u001b[1;32m    858\u001b[0m \u001b[43m        \u001b[49m\u001b[38;5;28;43menumerate\u001b[39;49m\u001b[43m(\u001b[49m\u001b[43mcandidate_params\u001b[49m\u001b[43m)\u001b[49m\u001b[43m,\u001b[49m\u001b[43m \u001b[49m\u001b[38;5;28;43menumerate\u001b[39;49m\u001b[43m(\u001b[49m\u001b[43mcv\u001b[49m\u001b[38;5;241;43m.\u001b[39;49m\u001b[43msplit\u001b[49m\u001b[43m(\u001b[49m\u001b[43mX\u001b[49m\u001b[43m,\u001b[49m\u001b[43m \u001b[49m\u001b[43my\u001b[49m\u001b[43m,\u001b[49m\u001b[43m \u001b[49m\u001b[43mgroups\u001b[49m\u001b[43m)\u001b[49m\u001b[43m)\u001b[49m\n\u001b[1;32m    859\u001b[0m \u001b[43m    \u001b[49m\u001b[43m)\u001b[49m\n\u001b[1;32m    860\u001b[0m \u001b[43m\u001b[49m\u001b[43m)\u001b[49m\n\u001b[1;32m    862\u001b[0m \u001b[38;5;28;01mif\u001b[39;00m \u001b[38;5;28mlen\u001b[39m(out) \u001b[38;5;241m<\u001b[39m \u001b[38;5;241m1\u001b[39m:\n\u001b[1;32m    863\u001b[0m     \u001b[38;5;28;01mraise\u001b[39;00m \u001b[38;5;167;01mValueError\u001b[39;00m(\n\u001b[1;32m    864\u001b[0m         \u001b[38;5;124m\"\u001b[39m\u001b[38;5;124mNo fits were performed. \u001b[39m\u001b[38;5;124m\"\u001b[39m\n\u001b[1;32m    865\u001b[0m         \u001b[38;5;124m\"\u001b[39m\u001b[38;5;124mWas the CV iterator empty? \u001b[39m\u001b[38;5;124m\"\u001b[39m\n\u001b[1;32m    866\u001b[0m         \u001b[38;5;124m\"\u001b[39m\u001b[38;5;124mWere there no candidates?\u001b[39m\u001b[38;5;124m\"\u001b[39m\n\u001b[1;32m    867\u001b[0m     )\n",
      "File \u001b[0;32m~/.local/lib/python3.10/site-packages/sklearn/utils/parallel.py:65\u001b[0m, in \u001b[0;36mParallel.__call__\u001b[0;34m(self, iterable)\u001b[0m\n\u001b[1;32m     60\u001b[0m config \u001b[38;5;241m=\u001b[39m get_config()\n\u001b[1;32m     61\u001b[0m iterable_with_config \u001b[38;5;241m=\u001b[39m (\n\u001b[1;32m     62\u001b[0m     (_with_config(delayed_func, config), args, kwargs)\n\u001b[1;32m     63\u001b[0m     \u001b[38;5;28;01mfor\u001b[39;00m delayed_func, args, kwargs \u001b[38;5;129;01min\u001b[39;00m iterable\n\u001b[1;32m     64\u001b[0m )\n\u001b[0;32m---> 65\u001b[0m \u001b[38;5;28;01mreturn\u001b[39;00m \u001b[38;5;28;43msuper\u001b[39;49m\u001b[43m(\u001b[49m\u001b[43m)\u001b[49m\u001b[38;5;241;43m.\u001b[39;49m\u001b[38;5;21;43m__call__\u001b[39;49m\u001b[43m(\u001b[49m\u001b[43miterable_with_config\u001b[49m\u001b[43m)\u001b[49m\n",
      "File \u001b[0;32m~/.local/lib/python3.10/site-packages/joblib/parallel.py:1863\u001b[0m, in \u001b[0;36mParallel.__call__\u001b[0;34m(self, iterable)\u001b[0m\n\u001b[1;32m   1861\u001b[0m     output \u001b[38;5;241m=\u001b[39m \u001b[38;5;28mself\u001b[39m\u001b[38;5;241m.\u001b[39m_get_sequential_output(iterable)\n\u001b[1;32m   1862\u001b[0m     \u001b[38;5;28mnext\u001b[39m(output)\n\u001b[0;32m-> 1863\u001b[0m     \u001b[38;5;28;01mreturn\u001b[39;00m output \u001b[38;5;28;01mif\u001b[39;00m \u001b[38;5;28mself\u001b[39m\u001b[38;5;241m.\u001b[39mreturn_generator \u001b[38;5;28;01melse\u001b[39;00m \u001b[38;5;28;43mlist\u001b[39;49m\u001b[43m(\u001b[49m\u001b[43moutput\u001b[49m\u001b[43m)\u001b[49m\n\u001b[1;32m   1865\u001b[0m \u001b[38;5;66;03m# Let's create an ID that uniquely identifies the current call. If the\u001b[39;00m\n\u001b[1;32m   1866\u001b[0m \u001b[38;5;66;03m# call is interrupted early and that the same instance is immediately\u001b[39;00m\n\u001b[1;32m   1867\u001b[0m \u001b[38;5;66;03m# re-used, this id will be used to prevent workers that were\u001b[39;00m\n\u001b[1;32m   1868\u001b[0m \u001b[38;5;66;03m# concurrently finalizing a task from the previous call to run the\u001b[39;00m\n\u001b[1;32m   1869\u001b[0m \u001b[38;5;66;03m# callback.\u001b[39;00m\n\u001b[1;32m   1870\u001b[0m \u001b[38;5;28;01mwith\u001b[39;00m \u001b[38;5;28mself\u001b[39m\u001b[38;5;241m.\u001b[39m_lock:\n",
      "File \u001b[0;32m~/.local/lib/python3.10/site-packages/joblib/parallel.py:1792\u001b[0m, in \u001b[0;36mParallel._get_sequential_output\u001b[0;34m(self, iterable)\u001b[0m\n\u001b[1;32m   1790\u001b[0m \u001b[38;5;28mself\u001b[39m\u001b[38;5;241m.\u001b[39mn_dispatched_batches \u001b[38;5;241m+\u001b[39m\u001b[38;5;241m=\u001b[39m \u001b[38;5;241m1\u001b[39m\n\u001b[1;32m   1791\u001b[0m \u001b[38;5;28mself\u001b[39m\u001b[38;5;241m.\u001b[39mn_dispatched_tasks \u001b[38;5;241m+\u001b[39m\u001b[38;5;241m=\u001b[39m \u001b[38;5;241m1\u001b[39m\n\u001b[0;32m-> 1792\u001b[0m res \u001b[38;5;241m=\u001b[39m \u001b[43mfunc\u001b[49m\u001b[43m(\u001b[49m\u001b[38;5;241;43m*\u001b[39;49m\u001b[43margs\u001b[49m\u001b[43m,\u001b[49m\u001b[43m \u001b[49m\u001b[38;5;241;43m*\u001b[39;49m\u001b[38;5;241;43m*\u001b[39;49m\u001b[43mkwargs\u001b[49m\u001b[43m)\u001b[49m\n\u001b[1;32m   1793\u001b[0m \u001b[38;5;28mself\u001b[39m\u001b[38;5;241m.\u001b[39mn_completed_tasks \u001b[38;5;241m+\u001b[39m\u001b[38;5;241m=\u001b[39m \u001b[38;5;241m1\u001b[39m\n\u001b[1;32m   1794\u001b[0m \u001b[38;5;28mself\u001b[39m\u001b[38;5;241m.\u001b[39mprint_progress()\n",
      "File \u001b[0;32m~/.local/lib/python3.10/site-packages/sklearn/utils/parallel.py:127\u001b[0m, in \u001b[0;36m_FuncWrapper.__call__\u001b[0;34m(self, *args, **kwargs)\u001b[0m\n\u001b[1;32m    125\u001b[0m     config \u001b[38;5;241m=\u001b[39m {}\n\u001b[1;32m    126\u001b[0m \u001b[38;5;28;01mwith\u001b[39;00m config_context(\u001b[38;5;241m*\u001b[39m\u001b[38;5;241m*\u001b[39mconfig):\n\u001b[0;32m--> 127\u001b[0m     \u001b[38;5;28;01mreturn\u001b[39;00m \u001b[38;5;28;43mself\u001b[39;49m\u001b[38;5;241;43m.\u001b[39;49m\u001b[43mfunction\u001b[49m\u001b[43m(\u001b[49m\u001b[38;5;241;43m*\u001b[39;49m\u001b[43margs\u001b[49m\u001b[43m,\u001b[49m\u001b[43m \u001b[49m\u001b[38;5;241;43m*\u001b[39;49m\u001b[38;5;241;43m*\u001b[39;49m\u001b[43mkwargs\u001b[49m\u001b[43m)\u001b[49m\n",
      "File \u001b[0;32m~/.local/lib/python3.10/site-packages/sklearn/model_selection/_validation.py:729\u001b[0m, in \u001b[0;36m_fit_and_score\u001b[0;34m(estimator, X, y, scorer, train, test, verbose, parameters, fit_params, return_train_score, return_parameters, return_n_test_samples, return_times, return_estimator, split_progress, candidate_progress, error_score)\u001b[0m\n\u001b[1;32m    727\u001b[0m         estimator\u001b[38;5;241m.\u001b[39mfit(X_train, \u001b[38;5;241m*\u001b[39m\u001b[38;5;241m*\u001b[39mfit_params)\n\u001b[1;32m    728\u001b[0m     \u001b[38;5;28;01melse\u001b[39;00m:\n\u001b[0;32m--> 729\u001b[0m         \u001b[43mestimator\u001b[49m\u001b[38;5;241;43m.\u001b[39;49m\u001b[43mfit\u001b[49m\u001b[43m(\u001b[49m\u001b[43mX_train\u001b[49m\u001b[43m,\u001b[49m\u001b[43m \u001b[49m\u001b[43my_train\u001b[49m\u001b[43m,\u001b[49m\u001b[43m \u001b[49m\u001b[38;5;241;43m*\u001b[39;49m\u001b[38;5;241;43m*\u001b[39;49m\u001b[43mfit_params\u001b[49m\u001b[43m)\u001b[49m\n\u001b[1;32m    731\u001b[0m \u001b[38;5;28;01mexcept\u001b[39;00m \u001b[38;5;167;01mException\u001b[39;00m:\n\u001b[1;32m    732\u001b[0m     \u001b[38;5;66;03m# Note fit time as time until error\u001b[39;00m\n\u001b[1;32m    733\u001b[0m     fit_time \u001b[38;5;241m=\u001b[39m time\u001b[38;5;241m.\u001b[39mtime() \u001b[38;5;241m-\u001b[39m start_time\n",
      "File \u001b[0;32m~/.local/lib/python3.10/site-packages/sklearn/base.py:1152\u001b[0m, in \u001b[0;36m_fit_context.<locals>.decorator.<locals>.wrapper\u001b[0;34m(estimator, *args, **kwargs)\u001b[0m\n\u001b[1;32m   1145\u001b[0m     estimator\u001b[38;5;241m.\u001b[39m_validate_params()\n\u001b[1;32m   1147\u001b[0m \u001b[38;5;28;01mwith\u001b[39;00m config_context(\n\u001b[1;32m   1148\u001b[0m     skip_parameter_validation\u001b[38;5;241m=\u001b[39m(\n\u001b[1;32m   1149\u001b[0m         prefer_skip_nested_validation \u001b[38;5;129;01mor\u001b[39;00m global_skip_validation\n\u001b[1;32m   1150\u001b[0m     )\n\u001b[1;32m   1151\u001b[0m ):\n\u001b[0;32m-> 1152\u001b[0m     \u001b[38;5;28;01mreturn\u001b[39;00m \u001b[43mfit_method\u001b[49m\u001b[43m(\u001b[49m\u001b[43mestimator\u001b[49m\u001b[43m,\u001b[49m\u001b[43m \u001b[49m\u001b[38;5;241;43m*\u001b[39;49m\u001b[43margs\u001b[49m\u001b[43m,\u001b[49m\u001b[43m \u001b[49m\u001b[38;5;241;43m*\u001b[39;49m\u001b[38;5;241;43m*\u001b[39;49m\u001b[43mkwargs\u001b[49m\u001b[43m)\u001b[49m\n",
      "File \u001b[0;32m~/.local/lib/python3.10/site-packages/sklearn/linear_model/_logistic.py:1303\u001b[0m, in \u001b[0;36mLogisticRegression.fit\u001b[0;34m(self, X, y, sample_weight)\u001b[0m\n\u001b[1;32m   1300\u001b[0m \u001b[38;5;28;01melse\u001b[39;00m:\n\u001b[1;32m   1301\u001b[0m     n_threads \u001b[38;5;241m=\u001b[39m \u001b[38;5;241m1\u001b[39m\n\u001b[0;32m-> 1303\u001b[0m fold_coefs_ \u001b[38;5;241m=\u001b[39m \u001b[43mParallel\u001b[49m\u001b[43m(\u001b[49m\u001b[43mn_jobs\u001b[49m\u001b[38;5;241;43m=\u001b[39;49m\u001b[38;5;28;43mself\u001b[39;49m\u001b[38;5;241;43m.\u001b[39;49m\u001b[43mn_jobs\u001b[49m\u001b[43m,\u001b[49m\u001b[43m \u001b[49m\u001b[43mverbose\u001b[49m\u001b[38;5;241;43m=\u001b[39;49m\u001b[38;5;28;43mself\u001b[39;49m\u001b[38;5;241;43m.\u001b[39;49m\u001b[43mverbose\u001b[49m\u001b[43m,\u001b[49m\u001b[43m \u001b[49m\u001b[43mprefer\u001b[49m\u001b[38;5;241;43m=\u001b[39;49m\u001b[43mprefer\u001b[49m\u001b[43m)\u001b[49m\u001b[43m(\u001b[49m\n\u001b[1;32m   1304\u001b[0m \u001b[43m    \u001b[49m\u001b[43mpath_func\u001b[49m\u001b[43m(\u001b[49m\n\u001b[1;32m   1305\u001b[0m \u001b[43m        \u001b[49m\u001b[43mX\u001b[49m\u001b[43m,\u001b[49m\n\u001b[1;32m   1306\u001b[0m \u001b[43m        \u001b[49m\u001b[43my\u001b[49m\u001b[43m,\u001b[49m\n\u001b[1;32m   1307\u001b[0m \u001b[43m        \u001b[49m\u001b[43mpos_class\u001b[49m\u001b[38;5;241;43m=\u001b[39;49m\u001b[43mclass_\u001b[49m\u001b[43m,\u001b[49m\n\u001b[1;32m   1308\u001b[0m \u001b[43m        \u001b[49m\u001b[43mCs\u001b[49m\u001b[38;5;241;43m=\u001b[39;49m\u001b[43m[\u001b[49m\u001b[43mC_\u001b[49m\u001b[43m]\u001b[49m\u001b[43m,\u001b[49m\n\u001b[1;32m   1309\u001b[0m \u001b[43m        \u001b[49m\u001b[43ml1_ratio\u001b[49m\u001b[38;5;241;43m=\u001b[39;49m\u001b[38;5;28;43mself\u001b[39;49m\u001b[38;5;241;43m.\u001b[39;49m\u001b[43ml1_ratio\u001b[49m\u001b[43m,\u001b[49m\n\u001b[1;32m   1310\u001b[0m \u001b[43m        \u001b[49m\u001b[43mfit_intercept\u001b[49m\u001b[38;5;241;43m=\u001b[39;49m\u001b[38;5;28;43mself\u001b[39;49m\u001b[38;5;241;43m.\u001b[39;49m\u001b[43mfit_intercept\u001b[49m\u001b[43m,\u001b[49m\n\u001b[1;32m   1311\u001b[0m \u001b[43m        \u001b[49m\u001b[43mtol\u001b[49m\u001b[38;5;241;43m=\u001b[39;49m\u001b[38;5;28;43mself\u001b[39;49m\u001b[38;5;241;43m.\u001b[39;49m\u001b[43mtol\u001b[49m\u001b[43m,\u001b[49m\n\u001b[1;32m   1312\u001b[0m \u001b[43m        \u001b[49m\u001b[43mverbose\u001b[49m\u001b[38;5;241;43m=\u001b[39;49m\u001b[38;5;28;43mself\u001b[39;49m\u001b[38;5;241;43m.\u001b[39;49m\u001b[43mverbose\u001b[49m\u001b[43m,\u001b[49m\n\u001b[1;32m   1313\u001b[0m \u001b[43m        \u001b[49m\u001b[43msolver\u001b[49m\u001b[38;5;241;43m=\u001b[39;49m\u001b[43msolver\u001b[49m\u001b[43m,\u001b[49m\n\u001b[1;32m   1314\u001b[0m \u001b[43m        \u001b[49m\u001b[43mmulti_class\u001b[49m\u001b[38;5;241;43m=\u001b[39;49m\u001b[43mmulti_class\u001b[49m\u001b[43m,\u001b[49m\n\u001b[1;32m   1315\u001b[0m \u001b[43m        \u001b[49m\u001b[43mmax_iter\u001b[49m\u001b[38;5;241;43m=\u001b[39;49m\u001b[38;5;28;43mself\u001b[39;49m\u001b[38;5;241;43m.\u001b[39;49m\u001b[43mmax_iter\u001b[49m\u001b[43m,\u001b[49m\n\u001b[1;32m   1316\u001b[0m \u001b[43m        \u001b[49m\u001b[43mclass_weight\u001b[49m\u001b[38;5;241;43m=\u001b[39;49m\u001b[38;5;28;43mself\u001b[39;49m\u001b[38;5;241;43m.\u001b[39;49m\u001b[43mclass_weight\u001b[49m\u001b[43m,\u001b[49m\n\u001b[1;32m   1317\u001b[0m \u001b[43m        \u001b[49m\u001b[43mcheck_input\u001b[49m\u001b[38;5;241;43m=\u001b[39;49m\u001b[38;5;28;43;01mFalse\u001b[39;49;00m\u001b[43m,\u001b[49m\n\u001b[1;32m   1318\u001b[0m \u001b[43m        \u001b[49m\u001b[43mrandom_state\u001b[49m\u001b[38;5;241;43m=\u001b[39;49m\u001b[38;5;28;43mself\u001b[39;49m\u001b[38;5;241;43m.\u001b[39;49m\u001b[43mrandom_state\u001b[49m\u001b[43m,\u001b[49m\n\u001b[1;32m   1319\u001b[0m \u001b[43m        \u001b[49m\u001b[43mcoef\u001b[49m\u001b[38;5;241;43m=\u001b[39;49m\u001b[43mwarm_start_coef_\u001b[49m\u001b[43m,\u001b[49m\n\u001b[1;32m   1320\u001b[0m \u001b[43m        \u001b[49m\u001b[43mpenalty\u001b[49m\u001b[38;5;241;43m=\u001b[39;49m\u001b[43mpenalty\u001b[49m\u001b[43m,\u001b[49m\n\u001b[1;32m   1321\u001b[0m \u001b[43m        \u001b[49m\u001b[43mmax_squared_sum\u001b[49m\u001b[38;5;241;43m=\u001b[39;49m\u001b[43mmax_squared_sum\u001b[49m\u001b[43m,\u001b[49m\n\u001b[1;32m   1322\u001b[0m \u001b[43m        \u001b[49m\u001b[43msample_weight\u001b[49m\u001b[38;5;241;43m=\u001b[39;49m\u001b[43msample_weight\u001b[49m\u001b[43m,\u001b[49m\n\u001b[1;32m   1323\u001b[0m \u001b[43m        \u001b[49m\u001b[43mn_threads\u001b[49m\u001b[38;5;241;43m=\u001b[39;49m\u001b[43mn_threads\u001b[49m\u001b[43m,\u001b[49m\n\u001b[1;32m   1324\u001b[0m \u001b[43m    \u001b[49m\u001b[43m)\u001b[49m\n\u001b[1;32m   1325\u001b[0m \u001b[43m    \u001b[49m\u001b[38;5;28;43;01mfor\u001b[39;49;00m\u001b[43m \u001b[49m\u001b[43mclass_\u001b[49m\u001b[43m,\u001b[49m\u001b[43m \u001b[49m\u001b[43mwarm_start_coef_\u001b[49m\u001b[43m \u001b[49m\u001b[38;5;129;43;01min\u001b[39;49;00m\u001b[43m \u001b[49m\u001b[38;5;28;43mzip\u001b[39;49m\u001b[43m(\u001b[49m\u001b[43mclasses_\u001b[49m\u001b[43m,\u001b[49m\u001b[43m \u001b[49m\u001b[43mwarm_start_coef\u001b[49m\u001b[43m)\u001b[49m\n\u001b[1;32m   1326\u001b[0m \u001b[43m\u001b[49m\u001b[43m)\u001b[49m\n\u001b[1;32m   1328\u001b[0m fold_coefs_, _, n_iter_ \u001b[38;5;241m=\u001b[39m \u001b[38;5;28mzip\u001b[39m(\u001b[38;5;241m*\u001b[39mfold_coefs_)\n\u001b[1;32m   1329\u001b[0m \u001b[38;5;28mself\u001b[39m\u001b[38;5;241m.\u001b[39mn_iter_ \u001b[38;5;241m=\u001b[39m np\u001b[38;5;241m.\u001b[39masarray(n_iter_, dtype\u001b[38;5;241m=\u001b[39mnp\u001b[38;5;241m.\u001b[39mint32)[:, \u001b[38;5;241m0\u001b[39m]\n",
      "File \u001b[0;32m~/.local/lib/python3.10/site-packages/sklearn/utils/parallel.py:65\u001b[0m, in \u001b[0;36mParallel.__call__\u001b[0;34m(self, iterable)\u001b[0m\n\u001b[1;32m     60\u001b[0m config \u001b[38;5;241m=\u001b[39m get_config()\n\u001b[1;32m     61\u001b[0m iterable_with_config \u001b[38;5;241m=\u001b[39m (\n\u001b[1;32m     62\u001b[0m     (_with_config(delayed_func, config), args, kwargs)\n\u001b[1;32m     63\u001b[0m     \u001b[38;5;28;01mfor\u001b[39;00m delayed_func, args, kwargs \u001b[38;5;129;01min\u001b[39;00m iterable\n\u001b[1;32m     64\u001b[0m )\n\u001b[0;32m---> 65\u001b[0m \u001b[38;5;28;01mreturn\u001b[39;00m \u001b[38;5;28;43msuper\u001b[39;49m\u001b[43m(\u001b[49m\u001b[43m)\u001b[49m\u001b[38;5;241;43m.\u001b[39;49m\u001b[38;5;21;43m__call__\u001b[39;49m\u001b[43m(\u001b[49m\u001b[43miterable_with_config\u001b[49m\u001b[43m)\u001b[49m\n",
      "File \u001b[0;32m~/.local/lib/python3.10/site-packages/joblib/parallel.py:1952\u001b[0m, in \u001b[0;36mParallel.__call__\u001b[0;34m(self, iterable)\u001b[0m\n\u001b[1;32m   1946\u001b[0m \u001b[38;5;66;03m# The first item from the output is blank, but it makes the interpreter\u001b[39;00m\n\u001b[1;32m   1947\u001b[0m \u001b[38;5;66;03m# progress until it enters the Try/Except block of the generator and\u001b[39;00m\n\u001b[1;32m   1948\u001b[0m \u001b[38;5;66;03m# reach the first `yield` statement. This starts the aynchronous\u001b[39;00m\n\u001b[1;32m   1949\u001b[0m \u001b[38;5;66;03m# dispatch of the tasks to the workers.\u001b[39;00m\n\u001b[1;32m   1950\u001b[0m \u001b[38;5;28mnext\u001b[39m(output)\n\u001b[0;32m-> 1952\u001b[0m \u001b[38;5;28;01mreturn\u001b[39;00m output \u001b[38;5;28;01mif\u001b[39;00m \u001b[38;5;28mself\u001b[39m\u001b[38;5;241m.\u001b[39mreturn_generator \u001b[38;5;28;01melse\u001b[39;00m \u001b[38;5;28;43mlist\u001b[39;49m\u001b[43m(\u001b[49m\u001b[43moutput\u001b[49m\u001b[43m)\u001b[49m\n",
      "File \u001b[0;32m~/.local/lib/python3.10/site-packages/joblib/parallel.py:1595\u001b[0m, in \u001b[0;36mParallel._get_outputs\u001b[0;34m(self, iterator, pre_dispatch)\u001b[0m\n\u001b[1;32m   1592\u001b[0m     \u001b[38;5;28;01myield\u001b[39;00m\n\u001b[1;32m   1594\u001b[0m     \u001b[38;5;28;01mwith\u001b[39;00m \u001b[38;5;28mself\u001b[39m\u001b[38;5;241m.\u001b[39m_backend\u001b[38;5;241m.\u001b[39mretrieval_context():\n\u001b[0;32m-> 1595\u001b[0m         \u001b[38;5;28;01myield from\u001b[39;00m \u001b[38;5;28mself\u001b[39m\u001b[38;5;241m.\u001b[39m_retrieve()\n\u001b[1;32m   1597\u001b[0m \u001b[38;5;28;01mexcept\u001b[39;00m \u001b[38;5;167;01mGeneratorExit\u001b[39;00m:\n\u001b[1;32m   1598\u001b[0m     \u001b[38;5;66;03m# The generator has been garbage collected before being fully\u001b[39;00m\n\u001b[1;32m   1599\u001b[0m     \u001b[38;5;66;03m# consumed. This aborts the remaining tasks if possible and warn\u001b[39;00m\n\u001b[1;32m   1600\u001b[0m     \u001b[38;5;66;03m# the user if necessary.\u001b[39;00m\n\u001b[1;32m   1601\u001b[0m     \u001b[38;5;28mself\u001b[39m\u001b[38;5;241m.\u001b[39m_exception \u001b[38;5;241m=\u001b[39m \u001b[38;5;28;01mTrue\u001b[39;00m\n",
      "File \u001b[0;32m~/.local/lib/python3.10/site-packages/joblib/parallel.py:1707\u001b[0m, in \u001b[0;36mParallel._retrieve\u001b[0;34m(self)\u001b[0m\n\u001b[1;32m   1702\u001b[0m \u001b[38;5;66;03m# If the next job is not ready for retrieval yet, we just wait for\u001b[39;00m\n\u001b[1;32m   1703\u001b[0m \u001b[38;5;66;03m# async callbacks to progress.\u001b[39;00m\n\u001b[1;32m   1704\u001b[0m \u001b[38;5;28;01mif\u001b[39;00m ((\u001b[38;5;28mlen\u001b[39m(\u001b[38;5;28mself\u001b[39m\u001b[38;5;241m.\u001b[39m_jobs) \u001b[38;5;241m==\u001b[39m \u001b[38;5;241m0\u001b[39m) \u001b[38;5;129;01mor\u001b[39;00m\n\u001b[1;32m   1705\u001b[0m     (\u001b[38;5;28mself\u001b[39m\u001b[38;5;241m.\u001b[39m_jobs[\u001b[38;5;241m0\u001b[39m]\u001b[38;5;241m.\u001b[39mget_status(\n\u001b[1;32m   1706\u001b[0m         timeout\u001b[38;5;241m=\u001b[39m\u001b[38;5;28mself\u001b[39m\u001b[38;5;241m.\u001b[39mtimeout) \u001b[38;5;241m==\u001b[39m TASK_PENDING)):\n\u001b[0;32m-> 1707\u001b[0m     \u001b[43mtime\u001b[49m\u001b[38;5;241;43m.\u001b[39;49m\u001b[43msleep\u001b[49m\u001b[43m(\u001b[49m\u001b[38;5;241;43m0.01\u001b[39;49m\u001b[43m)\u001b[49m\n\u001b[1;32m   1708\u001b[0m     \u001b[38;5;28;01mcontinue\u001b[39;00m\n\u001b[1;32m   1710\u001b[0m \u001b[38;5;66;03m# We need to be careful: the job list can be filling up as\u001b[39;00m\n\u001b[1;32m   1711\u001b[0m \u001b[38;5;66;03m# we empty it and Python list are not thread-safe by\u001b[39;00m\n\u001b[1;32m   1712\u001b[0m \u001b[38;5;66;03m# default hence the use of the lock\u001b[39;00m\n",
      "\u001b[0;31mKeyboardInterrupt\u001b[0m: "
     ]
    }
   ],
   "source": [
    "param_grid = {\n",
    "    'solver': ['newton-cg', 'sag', 'saga', 'lbfgs'],\n",
    "    'penalty': ['l1', 'l2', 'elasticnet'],\n",
    "    'C': [10, 5, 1, 0.5, 0.1]\n",
    "}\n",
    "\n",
    "logistic_regressor = LogisticRegression(\n",
    "    class_weight='balanced',\n",
    "    max_iter=200,\n",
    "    n_jobs=-1,\n",
    "    random_state=42)\n",
    "\n",
    "log_grid_search = GridSearchCV(logistic_regressor, param_grid, cv=5, scoring='accuracy')\n",
    "log_grid_search.fit(train_features, y_train_int)\n",
    "\n",
    "print(\"Best parameters:\", log_grid_search.best_params_)\n",
    "print(\"Best score:\", log_grid_search.best_score_)"
   ]
  },
  {
   "cell_type": "code",
   "execution_count": null,
   "metadata": {},
   "outputs": [
    {
     "name": "stdout",
     "output_type": "stream",
     "text": [
      "              precision    recall  f1-score   support\n",
      "\n",
      "           一     0.9673    0.9933    0.9801       149\n",
      "           七     0.9184    0.9122    0.9153       148\n",
      "           三     0.9662    0.9662    0.9662       148\n",
      "           上     0.9597    0.9662    0.9630       148\n",
      "           下     0.9299    0.9799    0.9542       149\n",
      "           不     0.9463    0.9463    0.9463       149\n",
      "           东     0.8768    0.8121    0.8432       149\n",
      "           个     0.9658    0.9463    0.9559       149\n",
      "           中     0.8874    0.9054    0.8963       148\n",
      "           么     0.9286    0.9728    0.9502       147\n",
      "           九     0.9145    0.9329    0.9236       149\n",
      "           习     0.9333    0.9396    0.9365       149\n",
      "           书     0.9216    0.9527    0.9369       148\n",
      "           买     0.8758    0.9054    0.8904       148\n",
      "           了     0.9474    0.9730    0.9600       148\n",
      "           二     0.9423    0.9866    0.9639       149\n",
      "           五     0.9632    0.8851    0.9225       148\n",
      "           些     0.9600    0.9796    0.9697       147\n",
      "           京     0.9214    0.8658    0.8927       149\n",
      "           亮     0.9007    0.9189    0.9097       148\n",
      "           人     0.9051    0.9662    0.9346       148\n",
      "           什     0.9592    0.9527    0.9559       148\n",
      "           今     0.9108    0.9597    0.9346       149\n",
      "           他     0.9195    0.9257    0.9226       148\n",
      "           们     0.9524    0.9524    0.9524       147\n",
      "           会     0.9315    0.9189    0.9252       148\n",
      "           住     0.8824    0.9122    0.8970       148\n",
      "           作     0.8910    0.9329    0.9115       149\n",
      "           你     0.9184    0.9122    0.9153       148\n",
      "           候     0.9655    0.9459    0.9556       148\n",
      "           做     0.8981    0.9463    0.9216       149\n",
      "           儿     0.8049    0.8859    0.8435       149\n",
      "           先     0.8803    0.8389    0.8591       149\n",
      "           八     0.9400    0.9463    0.9431       149\n",
      "           六     0.9167    0.9041    0.9103       146\n",
      "           关     0.9392    0.9329    0.9360       149\n",
      "           兴     0.9448    0.9257    0.9352       148\n",
      "           再     0.9013    0.9195    0.9103       149\n",
      "           写     0.9034    0.8792    0.8912       149\n",
      "           冷     0.9172    0.8986    0.9078       148\n",
      "           几     0.8623    0.8041    0.8322       148\n",
      "           出     0.9020    0.9262    0.9139       149\n",
      "           分     0.9362    0.8919    0.9135       148\n",
      "           前     0.9416    0.9797    0.9603       148\n",
      "           北     0.9054    0.8993    0.9024       149\n",
      "           医     0.9660    0.9530    0.9595       149\n",
      "           十     0.9452    0.9324    0.9388       148\n",
      "           午     0.8627    0.8859    0.8742       149\n",
      "           去     0.9241    0.9054    0.9147       148\n",
      "           友     0.9379    0.9128    0.9252       149\n",
      "           叫     0.9404    0.9530    0.9467       149\n",
      "           吃     0.9605    0.9799    0.9701       149\n",
      "           同     0.8725    0.8784    0.8754       148\n",
      "           名     0.8280    0.8784    0.8525       148\n",
      "           后     0.8966    0.8784    0.8874       148\n",
      "           吗     0.9189    0.9189    0.9189       148\n",
      "           听     0.9510    0.9189    0.9347       148\n",
      "           呢     0.9448    0.9257    0.9352       148\n",
      "           和     0.9110    0.8986    0.9048       148\n",
      "           哪     0.9589    0.9459    0.9524       148\n",
      "           商     0.9071    0.8581    0.8819       148\n",
      "           喂     0.9595    0.9595    0.9595       148\n",
      "           喜     0.9860    0.9527    0.9691       148\n",
      "           喝     0.9139    0.9324    0.9231       148\n",
      "           四     0.8600    0.8776    0.8687       147\n",
      "           回     0.8462    0.8176    0.8316       148\n",
      "           国     0.8874    0.9054    0.8963       148\n",
      "           在     0.9116    0.8993    0.9054       149\n",
      "           坐     0.8940    0.9060    0.9000       149\n",
      "           块     0.9784    0.9189    0.9477       148\n",
      "           多     0.8471    0.8986    0.8721       148\n",
      "           大     0.8269    0.8658    0.8459       149\n",
      "           天     0.9116    0.9054    0.9085       148\n",
      "           太     0.8940    0.9122    0.9030       148\n",
      "           女     0.8354    0.8919    0.8627       148\n",
      "           她     0.9296    0.8919    0.9103       148\n",
      "           好     0.8503    0.8446    0.8475       148\n",
      "           妈     0.8784    0.8844    0.8814       147\n",
      "           姐     0.9048    0.8986    0.9017       148\n",
      "           子     0.8954    0.9257    0.9103       148\n",
      "           字     0.8366    0.8707    0.8533       147\n",
      "           学     0.8456    0.8456    0.8456       149\n",
      "           客     0.9060    0.9122    0.9091       148\n",
      "           家     0.9041    0.8919    0.8980       148\n",
      "           对     0.9281    0.9595    0.9435       148\n",
      "           小     0.9252    0.9189    0.9220       148\n",
      "           少     0.9281    0.9595    0.9435       148\n",
      "           岁     0.9527    0.9527    0.9527       148\n",
      "           工     0.9638    0.8986    0.9301       148\n",
      "           师     0.9592    0.9527    0.9559       148\n",
      "           年     0.8377    0.8658    0.8515       149\n",
      "           店     0.9338    0.9527    0.9431       148\n",
      "           开     0.9722    0.9396    0.9556       149\n",
      "           影     0.9787    0.9262    0.9517       149\n",
      "           很     0.9467    0.9530    0.9498       149\n",
      "           怎     0.9299    0.9799    0.9542       149\n",
      "           想     0.9362    0.8859    0.9103       149\n",
      "           我     0.9051    0.9597    0.9316       149\n",
      "           打     0.9267    0.9392    0.9329       148\n",
      "           日     0.8101    0.8649    0.8366       148\n",
      "           时     0.9073    0.9257    0.9164       148\n",
      "           明     0.8288    0.8176    0.8231       148\n",
      "           星     0.9203    0.8581    0.8881       148\n",
      "           昨     0.9375    0.9122    0.9247       148\n",
      "           是     0.8516    0.8859    0.8684       149\n",
      "           月     0.8301    0.8467    0.8383       150\n",
      "           有     0.9388    0.9262    0.9324       149\n",
      "           朋     0.8012    0.8716    0.8350       148\n",
      "           服     0.9262    0.9262    0.9262       149\n",
      "           期     0.9732    0.9797    0.9764       148\n",
      "           本     0.8851    0.8792    0.8822       149\n",
      "           机     0.9710    0.9054    0.9371       148\n",
      "           来     0.8291    0.8851    0.8562       148\n",
      "           杯     0.9456    0.9329    0.9392       149\n",
      "           果     0.8936    0.8514    0.8720       148\n",
      "           校     0.9167    0.8919    0.9041       148\n",
      "           样     0.9712    0.9375    0.9541       144\n",
      "           桌     0.9262    0.9324    0.9293       148\n",
      "           椅     0.9477    0.9732    0.9603       149\n",
      "           欢     0.8868    0.9527    0.9186       148\n",
      "           气     0.9433    0.8926    0.9172       149\n",
      "           水     0.8824    0.9122    0.8970       148\n",
      "           汉     0.9514    0.9257    0.9384       148\n",
      "           没     0.9270    0.8581    0.8912       148\n",
      "           漂     0.8981    0.9527    0.9246       148\n",
      "           火     0.9122    0.9122    0.9122       148\n",
      "           点     0.9139    0.9324    0.9231       148\n",
      "           热     0.8931    0.9595    0.9251       148\n",
      "           爱     0.9145    0.9329    0.9236       149\n",
      "           爸     0.9533    0.9662    0.9597       148\n",
      "           狗     0.9517    0.9262    0.9388       149\n",
      "           猫     0.9658    0.9527    0.9592       148\n",
      "           现     0.8367    0.8311    0.8339       148\n",
      "           生     0.8212    0.8378    0.8294       148\n",
      "           电     0.9231    0.8919    0.9072       148\n",
      "           的     0.8601    0.8255    0.8425       149\n",
      "           看     0.9073    0.9195    0.9133       149\n",
      "           睡     0.9643    0.9122    0.9375       148\n",
      "           租     0.9231    0.8919    0.9072       148\n",
      "           站     0.9592    0.9463    0.9527       149\n",
      "           米     0.8355    0.8523    0.8439       149\n",
      "           系     0.9013    0.9195    0.9103       149\n",
      "           老     0.8940    0.9184    0.9060       147\n",
      "           能     0.9514    0.9257    0.9384       148\n",
      "           脑     0.9375    0.9122    0.9247       148\n",
      "           苹     0.9013    0.9257    0.9133       148\n",
      "           茶     0.9079    0.9324    0.9200       148\n",
      "           菜     0.8776    0.8658    0.8716       149\n",
      "           衣     0.9020    0.9262    0.9139       149\n",
      "           西     0.9034    0.8851    0.8942       148\n",
      "           见     0.8973    0.8851    0.8912       148\n",
      "           视     0.9504    0.9054    0.9273       148\n",
      "           觉     0.9568    0.8986    0.9268       148\n",
      "           认     0.9477    0.9797    0.9635       148\n",
      "           识     0.8544    0.9122    0.8824       148\n",
      "           话     0.9155    0.8784    0.8966       148\n",
      "           语     0.9281    0.8658    0.8958       149\n",
      "           说     0.8766    0.9122    0.8940       148\n",
      "           请     0.9315    0.9189    0.9252       148\n",
      "           读     0.9329    0.9392    0.9360       148\n",
      "           谁     0.9783    0.9122    0.9441       148\n",
      "           谢     0.9792    0.9527    0.9658       148\n",
      "           起     0.9527    0.9527    0.9527       148\n",
      "           车     0.8611    0.8322    0.8464       149\n",
      "           这     0.9286    0.8784    0.9028       148\n",
      "           那     0.9595    0.9595    0.9595       148\n",
      "           都     0.9784    0.9189    0.9477       148\n",
      "           里     0.8421    0.8649    0.8533       148\n",
      "           钟     0.9295    0.9732    0.9508       149\n",
      "           钱     0.9429    0.8919    0.9167       148\n",
      "           院     0.9315    0.9128    0.9220       149\n",
      "           雨     0.9122    0.9060    0.9091       149\n",
      "           零     0.9722    0.9589    0.9655       146\n",
      "           面     0.9216    0.9527    0.9369       148\n",
      "           飞     1.0000    0.9730    0.9863       148\n",
      "           饭     0.9241    0.9054    0.9147       148\n",
      "           馆     0.9662    0.9597    0.9630       149\n",
      "           高     0.8776    0.8658    0.8716       149\n",
      "\n",
      "    accuracy                         0.9148     26390\n",
      "   macro avg     0.9156    0.9148    0.9149     26390\n",
      "weighted avg     0.9155    0.9148    0.9149     26390\n",
      "\n"
     ]
    }
   ],
   "source": [
    "logistic_regressor = log_grid_search.best_estimator_\n",
    "log_predictions = logistic_regressor.predict(test_features)\n",
    "report = classification_report(y_test, encoder.inverse_transform(log_predictions), digits=4)\n",
    "print(report)"
   ]
  },
  {
   "cell_type": "markdown",
   "metadata": {},
   "source": [
    "# Grid Search kNN Hyperparameters"
   ]
  },
  {
   "cell_type": "code",
   "execution_count": 30,
   "metadata": {},
   "outputs": [],
   "source": [
    "param_grid = {\n",
    "    'n_neighbors': [*range(10, 18, 1)],\n",
    "    'weights': ['uniform', 'distance'],\n",
    "    'metric': ['euclidean', 'manhattan', 'minkowski']\n",
    "}\n",
    "\n",
    "knn = KNeighborsClassifier()\n",
    "\n",
    "knn_grid_search = GridSearchCV(knn, param_grid, cv=5, scoring='accuracy')\n",
    "knn_grid_search.fit(train_features, y_train_int)\n",
    "\n",
    "print(\"Best parameters:\", knn_grid_search.best_params_)\n",
    "\n",
    "print(\"Best score:\", knn_grid_search.best_score_)"
   ]
  },
  {
   "cell_type": "markdown",
   "metadata": {},
   "source": [
    "# Graph of kNN Accuracy and F1 Score against k"
   ]
  },
  {
   "cell_type": "code",
   "execution_count": null,
   "metadata": {},
   "outputs": [],
   "source": [
    "f1s = []\n",
    "accuracys = []\n",
    "\n",
    "for i in range(2, 50, 1):\n",
    "    # Create an instance of the KNN classifier\n",
    "    knn = KNeighborsClassifier(**knn_grid_search.best_params_, n_jobs=-1)\n",
    "\n",
    "    # Fit the classifier to the training data\n",
    "    knn.fit(train_features, y_train)\n",
    "    \n",
    "    # Predict the labels for the test data\n",
    "    knn_predictions = knn.predict(test_features)\n",
    "    \n",
    "    # Calculate the accuracy score\n",
    "    accuracys.append(accuracy_score(y_test, knn_predictions))\n",
    "\n",
    "    # Calculate the f1 score\n",
    "    f1s.append(f1_score(y_test, knn_predictions, average='weighted'))\n",
    "    \n",
    "    print(f\"k={i}, {accuracys[-1]}, {f1s[-1]}\")"
   ]
  },
  {
   "cell_type": "code",
   "execution_count": null,
   "metadata": {},
   "outputs": [],
   "source": [
    "STEP = 3\n",
    "k_values = range(2, 50, STEP)\n",
    "fig, (ax1, ax2) = plt.subplots(1, 2, figsize=(10, 4))\n",
    "\n",
    "ax1.plot(k_values, f1s[::STEP])\n",
    "ax1.set_xlabel('k')\n",
    "ax1.set_ylabel('F1 Score')\n",
    "\n",
    "ax2.plot(k_values, accuracys[::STEP])\n",
    "ax2.set_xlabel('k')\n",
    "ax2.set_ylabel('Accuracy')\n",
    "\n",
    "plt.tight_layout()\n",
    "plt.show()\n"
   ]
  },
  {
   "cell_type": "markdown",
   "metadata": {},
   "source": [
    "# Extra models"
   ]
  },
  {
   "cell_type": "code",
   "execution_count": 14,
   "metadata": {},
   "outputs": [
    {
     "name": "stderr",
     "output_type": "stream",
     "text": [
      "[Parallel(n_jobs=-1)]: Using backend ThreadingBackend with 16 concurrent workers.\n",
      "[Parallel(n_jobs=-1)]: Done  18 tasks      | elapsed:   16.0s\n",
      "[Parallel(n_jobs=-1)]: Done 100 out of 100 | elapsed:   54.8s finished\n"
     ]
    },
    {
     "data": {
      "text/html": [
       "<style>#sk-container-id-3 {color: black;}#sk-container-id-3 pre{padding: 0;}#sk-container-id-3 div.sk-toggleable {background-color: white;}#sk-container-id-3 label.sk-toggleable__label {cursor: pointer;display: block;width: 100%;margin-bottom: 0;padding: 0.3em;box-sizing: border-box;text-align: center;}#sk-container-id-3 label.sk-toggleable__label-arrow:before {content: \"▸\";float: left;margin-right: 0.25em;color: #696969;}#sk-container-id-3 label.sk-toggleable__label-arrow:hover:before {color: black;}#sk-container-id-3 div.sk-estimator:hover label.sk-toggleable__label-arrow:before {color: black;}#sk-container-id-3 div.sk-toggleable__content {max-height: 0;max-width: 0;overflow: hidden;text-align: left;background-color: #f0f8ff;}#sk-container-id-3 div.sk-toggleable__content pre {margin: 0.2em;color: black;border-radius: 0.25em;background-color: #f0f8ff;}#sk-container-id-3 input.sk-toggleable__control:checked~div.sk-toggleable__content {max-height: 200px;max-width: 100%;overflow: auto;}#sk-container-id-3 input.sk-toggleable__control:checked~label.sk-toggleable__label-arrow:before {content: \"▾\";}#sk-container-id-3 div.sk-estimator input.sk-toggleable__control:checked~label.sk-toggleable__label {background-color: #d4ebff;}#sk-container-id-3 div.sk-label input.sk-toggleable__control:checked~label.sk-toggleable__label {background-color: #d4ebff;}#sk-container-id-3 input.sk-hidden--visually {border: 0;clip: rect(1px 1px 1px 1px);clip: rect(1px, 1px, 1px, 1px);height: 1px;margin: -1px;overflow: hidden;padding: 0;position: absolute;width: 1px;}#sk-container-id-3 div.sk-estimator {font-family: monospace;background-color: #f0f8ff;border: 1px dotted black;border-radius: 0.25em;box-sizing: border-box;margin-bottom: 0.5em;}#sk-container-id-3 div.sk-estimator:hover {background-color: #d4ebff;}#sk-container-id-3 div.sk-parallel-item::after {content: \"\";width: 100%;border-bottom: 1px solid gray;flex-grow: 1;}#sk-container-id-3 div.sk-label:hover label.sk-toggleable__label {background-color: #d4ebff;}#sk-container-id-3 div.sk-serial::before {content: \"\";position: absolute;border-left: 1px solid gray;box-sizing: border-box;top: 0;bottom: 0;left: 50%;z-index: 0;}#sk-container-id-3 div.sk-serial {display: flex;flex-direction: column;align-items: center;background-color: white;padding-right: 0.2em;padding-left: 0.2em;position: relative;}#sk-container-id-3 div.sk-item {position: relative;z-index: 1;}#sk-container-id-3 div.sk-parallel {display: flex;align-items: stretch;justify-content: center;background-color: white;position: relative;}#sk-container-id-3 div.sk-item::before, #sk-container-id-3 div.sk-parallel-item::before {content: \"\";position: absolute;border-left: 1px solid gray;box-sizing: border-box;top: 0;bottom: 0;left: 50%;z-index: -1;}#sk-container-id-3 div.sk-parallel-item {display: flex;flex-direction: column;z-index: 1;position: relative;background-color: white;}#sk-container-id-3 div.sk-parallel-item:first-child::after {align-self: flex-end;width: 50%;}#sk-container-id-3 div.sk-parallel-item:last-child::after {align-self: flex-start;width: 50%;}#sk-container-id-3 div.sk-parallel-item:only-child::after {width: 0;}#sk-container-id-3 div.sk-dashed-wrapped {border: 1px dashed gray;margin: 0 0.4em 0.5em 0.4em;box-sizing: border-box;padding-bottom: 0.4em;background-color: white;}#sk-container-id-3 div.sk-label label {font-family: monospace;font-weight: bold;display: inline-block;line-height: 1.2em;}#sk-container-id-3 div.sk-label-container {text-align: center;}#sk-container-id-3 div.sk-container {/* jupyter's `normalize.less` sets `[hidden] { display: none; }` but bootstrap.min.css set `[hidden] { display: none !important; }` so we also need the `!important` here to be able to override the default hidden behavior on the sphinx rendered scikit-learn.org. See: https://github.com/scikit-learn/scikit-learn/issues/21755 */display: inline-block !important;position: relative;}#sk-container-id-3 div.sk-text-repr-fallback {display: none;}</style><div id=\"sk-container-id-3\" class=\"sk-top-container\"><div class=\"sk-text-repr-fallback\"><pre>RandomForestClassifier(n_jobs=-1, random_state=42, verbose=1)</pre><b>In a Jupyter environment, please rerun this cell to show the HTML representation or trust the notebook. <br />On GitHub, the HTML representation is unable to render, please try loading this page with nbviewer.org.</b></div><div class=\"sk-container\" hidden><div class=\"sk-item\"><div class=\"sk-estimator sk-toggleable\"><input class=\"sk-toggleable__control sk-hidden--visually\" id=\"sk-estimator-id-5\" type=\"checkbox\" checked><label for=\"sk-estimator-id-5\" class=\"sk-toggleable__label sk-toggleable__label-arrow\">RandomForestClassifier</label><div class=\"sk-toggleable__content\"><pre>RandomForestClassifier(n_jobs=-1, random_state=42, verbose=1)</pre></div></div></div></div></div>"
      ],
      "text/plain": [
       "RandomForestClassifier(n_jobs=-1, random_state=42, verbose=1)"
      ]
     },
     "execution_count": 14,
     "metadata": {},
     "output_type": "execute_result"
    }
   ],
   "source": [
    "from sklearn.ensemble import RandomForestClassifier\n",
    "rf = RandomForestClassifier(n_estimators=100, random_state=42, verbose=1, n_jobs=-1)\n",
    "rf.fit(train_features, y_train)"
   ]
  },
  {
   "cell_type": "code",
   "execution_count": 15,
   "metadata": {},
   "outputs": [
    {
     "name": "stderr",
     "output_type": "stream",
     "text": [
      "[Parallel(n_jobs=16)]: Using backend ThreadingBackend with 16 concurrent workers.\n",
      "[Parallel(n_jobs=16)]: Done  18 tasks      | elapsed:    0.4s\n"
     ]
    },
    {
     "name": "stdout",
     "output_type": "stream",
     "text": [
      "Random Forest Accuracy: 0.8707086017430845\n"
     ]
    },
    {
     "name": "stderr",
     "output_type": "stream",
     "text": [
      "[Parallel(n_jobs=16)]: Done 100 out of 100 | elapsed:    1.5s finished\n"
     ]
    }
   ],
   "source": [
    "rf_score = rf.score(test_features, y_test)\n",
    "print(f\"Random Forest Accuracy: {rf_score}\")"
   ]
  },
  {
   "cell_type": "code",
   "execution_count": 8,
   "metadata": {},
   "outputs": [
    {
     "name": "stdout",
     "output_type": "stream",
     "text": [
      "Fitting 2 folds for each of 18 candidates, totalling 36 fits\n"
     ]
    },
    {
     "data": {
      "text/html": [
       "<style>#sk-container-id-1 {color: black;}#sk-container-id-1 pre{padding: 0;}#sk-container-id-1 div.sk-toggleable {background-color: white;}#sk-container-id-1 label.sk-toggleable__label {cursor: pointer;display: block;width: 100%;margin-bottom: 0;padding: 0.3em;box-sizing: border-box;text-align: center;}#sk-container-id-1 label.sk-toggleable__label-arrow:before {content: \"▸\";float: left;margin-right: 0.25em;color: #696969;}#sk-container-id-1 label.sk-toggleable__label-arrow:hover:before {color: black;}#sk-container-id-1 div.sk-estimator:hover label.sk-toggleable__label-arrow:before {color: black;}#sk-container-id-1 div.sk-toggleable__content {max-height: 0;max-width: 0;overflow: hidden;text-align: left;background-color: #f0f8ff;}#sk-container-id-1 div.sk-toggleable__content pre {margin: 0.2em;color: black;border-radius: 0.25em;background-color: #f0f8ff;}#sk-container-id-1 input.sk-toggleable__control:checked~div.sk-toggleable__content {max-height: 200px;max-width: 100%;overflow: auto;}#sk-container-id-1 input.sk-toggleable__control:checked~label.sk-toggleable__label-arrow:before {content: \"▾\";}#sk-container-id-1 div.sk-estimator input.sk-toggleable__control:checked~label.sk-toggleable__label {background-color: #d4ebff;}#sk-container-id-1 div.sk-label input.sk-toggleable__control:checked~label.sk-toggleable__label {background-color: #d4ebff;}#sk-container-id-1 input.sk-hidden--visually {border: 0;clip: rect(1px 1px 1px 1px);clip: rect(1px, 1px, 1px, 1px);height: 1px;margin: -1px;overflow: hidden;padding: 0;position: absolute;width: 1px;}#sk-container-id-1 div.sk-estimator {font-family: monospace;background-color: #f0f8ff;border: 1px dotted black;border-radius: 0.25em;box-sizing: border-box;margin-bottom: 0.5em;}#sk-container-id-1 div.sk-estimator:hover {background-color: #d4ebff;}#sk-container-id-1 div.sk-parallel-item::after {content: \"\";width: 100%;border-bottom: 1px solid gray;flex-grow: 1;}#sk-container-id-1 div.sk-label:hover label.sk-toggleable__label {background-color: #d4ebff;}#sk-container-id-1 div.sk-serial::before {content: \"\";position: absolute;border-left: 1px solid gray;box-sizing: border-box;top: 0;bottom: 0;left: 50%;z-index: 0;}#sk-container-id-1 div.sk-serial {display: flex;flex-direction: column;align-items: center;background-color: white;padding-right: 0.2em;padding-left: 0.2em;position: relative;}#sk-container-id-1 div.sk-item {position: relative;z-index: 1;}#sk-container-id-1 div.sk-parallel {display: flex;align-items: stretch;justify-content: center;background-color: white;position: relative;}#sk-container-id-1 div.sk-item::before, #sk-container-id-1 div.sk-parallel-item::before {content: \"\";position: absolute;border-left: 1px solid gray;box-sizing: border-box;top: 0;bottom: 0;left: 50%;z-index: -1;}#sk-container-id-1 div.sk-parallel-item {display: flex;flex-direction: column;z-index: 1;position: relative;background-color: white;}#sk-container-id-1 div.sk-parallel-item:first-child::after {align-self: flex-end;width: 50%;}#sk-container-id-1 div.sk-parallel-item:last-child::after {align-self: flex-start;width: 50%;}#sk-container-id-1 div.sk-parallel-item:only-child::after {width: 0;}#sk-container-id-1 div.sk-dashed-wrapped {border: 1px dashed gray;margin: 0 0.4em 0.5em 0.4em;box-sizing: border-box;padding-bottom: 0.4em;background-color: white;}#sk-container-id-1 div.sk-label label {font-family: monospace;font-weight: bold;display: inline-block;line-height: 1.2em;}#sk-container-id-1 div.sk-label-container {text-align: center;}#sk-container-id-1 div.sk-container {/* jupyter's `normalize.less` sets `[hidden] { display: none; }` but bootstrap.min.css set `[hidden] { display: none !important; }` so we also need the `!important` here to be able to override the default hidden behavior on the sphinx rendered scikit-learn.org. See: https://github.com/scikit-learn/scikit-learn/issues/21755 */display: inline-block !important;position: relative;}#sk-container-id-1 div.sk-text-repr-fallback {display: none;}</style><div id=\"sk-container-id-1\" class=\"sk-top-container\"><div class=\"sk-text-repr-fallback\"><pre>GridSearchCV(cv=2, estimator=SVC(),\n",
       "             param_grid={&#x27;C&#x27;: [0.1, 1, 10], &#x27;gamma&#x27;: [&#x27;scale&#x27;, &#x27;auto&#x27;],\n",
       "                         &#x27;kernel&#x27;: [&#x27;linear&#x27;, &#x27;rbf&#x27;, &#x27;poly&#x27;]},\n",
       "             verbose=1)</pre><b>In a Jupyter environment, please rerun this cell to show the HTML representation or trust the notebook. <br />On GitHub, the HTML representation is unable to render, please try loading this page with nbviewer.org.</b></div><div class=\"sk-container\" hidden><div class=\"sk-item sk-dashed-wrapped\"><div class=\"sk-label-container\"><div class=\"sk-label sk-toggleable\"><input class=\"sk-toggleable__control sk-hidden--visually\" id=\"sk-estimator-id-1\" type=\"checkbox\" ><label for=\"sk-estimator-id-1\" class=\"sk-toggleable__label sk-toggleable__label-arrow\">GridSearchCV</label><div class=\"sk-toggleable__content\"><pre>GridSearchCV(cv=2, estimator=SVC(),\n",
       "             param_grid={&#x27;C&#x27;: [0.1, 1, 10], &#x27;gamma&#x27;: [&#x27;scale&#x27;, &#x27;auto&#x27;],\n",
       "                         &#x27;kernel&#x27;: [&#x27;linear&#x27;, &#x27;rbf&#x27;, &#x27;poly&#x27;]},\n",
       "             verbose=1)</pre></div></div></div><div class=\"sk-parallel\"><div class=\"sk-parallel-item\"><div class=\"sk-item\"><div class=\"sk-label-container\"><div class=\"sk-label sk-toggleable\"><input class=\"sk-toggleable__control sk-hidden--visually\" id=\"sk-estimator-id-2\" type=\"checkbox\" ><label for=\"sk-estimator-id-2\" class=\"sk-toggleable__label sk-toggleable__label-arrow\">estimator: SVC</label><div class=\"sk-toggleable__content\"><pre>SVC()</pre></div></div></div><div class=\"sk-serial\"><div class=\"sk-item\"><div class=\"sk-estimator sk-toggleable\"><input class=\"sk-toggleable__control sk-hidden--visually\" id=\"sk-estimator-id-3\" type=\"checkbox\" ><label for=\"sk-estimator-id-3\" class=\"sk-toggleable__label sk-toggleable__label-arrow\">SVC</label><div class=\"sk-toggleable__content\"><pre>SVC()</pre></div></div></div></div></div></div></div></div></div></div>"
      ],
      "text/plain": [
       "GridSearchCV(cv=2, estimator=SVC(),\n",
       "             param_grid={'C': [0.1, 1, 10], 'gamma': ['scale', 'auto'],\n",
       "                         'kernel': ['linear', 'rbf', 'poly']},\n",
       "             verbose=1)"
      ]
     },
     "execution_count": 8,
     "metadata": {},
     "output_type": "execute_result"
    }
   ],
   "source": [
    "from sklearn.svm import SVC\n",
    "from sklearn.model_selection import GridSearchCV\n",
    "# Define the parameter grid for grid search\n",
    "param_grid = {\n",
    "    'C': [0.1, 1, 10],\n",
    "    'kernel': ['linear', 'rbf', 'poly'],\n",
    "    'gamma': ['scale', 'auto']\n",
    "}\n",
    "\n",
    "# Create an instance of the SVM classifier\n",
    "svm_classifier = SVC()\n",
    "\n",
    "# Create an instance of GridSearchCV\n",
    "grid_search = GridSearchCV(svm_classifier, param_grid, cv=2, verbose=1)\n",
    "\n",
    "# Fit the classifier to the training data using grid search\n",
    "grid_search.fit(train_features, y_train)"
   ]
  },
  {
   "cell_type": "code",
   "execution_count": 9,
   "metadata": {},
   "outputs": [
    {
     "name": "stdout",
     "output_type": "stream",
     "text": [
      "Best Parameters: {'C': 10, 'gamma': 'scale', 'kernel': 'rbf'}\n",
      "Best Score: 0.9421918223502217\n"
     ]
    }
   ],
   "source": [
    "# Print the best parameters and best score\n",
    "print(\"Best Parameters:\", grid_search.best_params_)\n",
    "print(\"Best Score:\", grid_search.best_score_)"
   ]
  },
  {
   "cell_type": "code",
   "execution_count": 56,
   "metadata": {},
   "outputs": [],
   "source": [
    "from sklearn.svm import SVC\n",
    "svm_classifier = SVC(C=10, gamma='scale', kernel='rbf')\n",
    "svm_classifier.fit(train_features, y_train)\n",
    "# Predict the labels for the test data using the best estimator\n",
    "svm_predictions = svm_classifier.predict(test_features)"
   ]
  },
  {
   "cell_type": "code",
   "execution_count": null,
   "metadata": {},
   "outputs": [
    {
     "name": "stdout",
     "output_type": "stream",
     "text": [
      "Accuracy: 0.951951496779083\n",
      "F1 Score: 0.9520046665214275\n"
     ]
    }
   ],
   "source": [
    "# Calculate the accuracy score\n",
    "accuracy = accuracy_score(y_test, svm_predictions)\n",
    "\n",
    "# Calculate the f1 score\n",
    "f1 = f1_score(y_test, svm_predictions, average='weighted')\n",
    "\n",
    "# Print the accuracy and f1 score report\n",
    "print(f\"Accuracy: {accuracy}\")\n",
    "print(f\"F1 Score: {f1}\")"
   ]
  }
 ],
 "metadata": {
  "kernelspec": {
   "display_name": "Python 3",
   "language": "python",
   "name": "python3"
  },
  "language_info": {
   "codemirror_mode": {
    "name": "ipython",
    "version": 3
   },
   "file_extension": ".py",
   "mimetype": "text/x-python",
   "name": "python",
   "nbconvert_exporter": "python",
   "pygments_lexer": "ipython3",
   "version": "3.10.12"
  }
 },
 "nbformat": 4,
 "nbformat_minor": 2
}
