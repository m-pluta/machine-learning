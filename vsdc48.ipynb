{
 "cells": [
  {
   "cell_type": "markdown",
   "metadata": {},
   "source": [
    "# Project setup"
   ]
  },
  {
   "cell_type": "markdown",
   "metadata": {},
   "source": [
    "Import necessary libraries"
   ]
  },
  {
   "cell_type": "code",
   "execution_count": 181,
   "metadata": {},
   "outputs": [],
   "source": [
    "# System\n",
    "import os\n",
    "import shutil\n",
    "\n",
    "# Image handling\n",
    "from PIL import Image\n",
    "\n",
    "# Numerical\n",
    "import numpy as np\n",
    "import pandas as pd\n",
    "\n",
    "# Reproducability\n",
    "import random\n",
    "random.seed(42)\n",
    "\n",
    "# Plotting\n",
    "import matplotlib.pyplot as plt\n",
    "import seaborn as sns"
   ]
  },
  {
   "cell_type": "markdown",
   "metadata": {},
   "source": [
    "First we establish the directory to where our data is stored, and where we ultimately want to store our cleaned, preprocessed data."
   ]
  },
  {
   "cell_type": "code",
   "execution_count": 182,
   "metadata": {},
   "outputs": [],
   "source": [
    "DIR = 'chinese-handwriting-recognition-hsk-1/chinese-handwriting/'\n",
    "\n",
    "TRAIN_DIR = os.path.join(DIR, 'CASIA-HWDB_Train/Train/')\n",
    "TEST_DIR = os.path.join(DIR, 'CASIA-HWDB_Test/Test/')\n",
    "\n",
    "DATA_DIR = 'data/'"
   ]
  },
  {
   "cell_type": "markdown",
   "metadata": {},
   "source": [
    "# Data investigation"
   ]
  },
  {
   "cell_type": "markdown",
   "metadata": {},
   "source": [
    "First lets have a look at how many data classes we have in the dataset. The dataset has been split into test and train already so lets check how many classes we have in each."
   ]
  },
  {
   "cell_type": "code",
   "execution_count": 183,
   "metadata": {},
   "outputs": [
    {
     "name": "stdout",
     "output_type": "stream",
     "text": [
      "178 {'这', '他', '月', '好', '零', '写', '店', '视', '桌', '睡', '亮', '很', '十', '四', '爸', '关', '开', '老', '院', '年', '小', '少', '在', '果', '看', '姐', '学', '商', '飞', '谢', '医', '国', '前', '昨', '钱', '多', '出', '呢', '再', '哪', '没', '几', '期', '狗', '明', '三', '本', '杯', '她', '话', '些', '面', '友', '中', '见', '坐', '高', '们', '听', '客', '二', '儿', '系', '去', '京', '师', '六', '那', '先', '子', '习', '家', '对', '米', '上', '认', '吃', '回', '水', '西', '谁', '后', '北', '吗', '午', '朋', '热', '的', '块', '喂', '今', '分', '星', '字', '汉', '有', '火', '喝', '名', '东', '七', '影', '是', '太', '校', '茶', '语', '日', '租', '做', '大', '生', '现', '钟', '怎', '我', '下', '脑', '欢', '喜', '猫', '来', '爱', '打', '说', '识', '车', '妈', '馆', '么', '你', '作', '叫', '岁', '雨', '五', '衣', '漂', '都', '个', '样', '请', '里', '工', '了', '起', '服', '机', '想', '冷', '住', '苹', '觉', '同', '一', '和', '人', '点', '电', '时', '书', '九', '饭', '能', '女', '八', '天', '候', '什', '读', '会', '兴', '不', '菜', '椅', '站', '气', '买'}\n",
      "178 {'这', '他', '月', '好', '零', '写', '店', '视', '桌', '睡', '亮', '很', '十', '四', '爸', '关', '开', '老', '院', '年', '小', '少', '在', '果', '看', '姐', '学', '商', '飞', '谢', '医', '国', '前', '昨', '钱', '多', '出', '呢', '再', '哪', '没', '几', '期', '狗', '明', '三', '本', '杯', '她', '话', '些', '面', '友', '中', '见', '坐', '高', '们', '听', '客', '二', '儿', '系', '去', '京', '师', '六', '那', '先', '子', '习', '家', '对', '米', '上', '认', '吃', '回', '水', '西', '谁', '后', '北', '吗', '午', '朋', '热', '的', '块', '喂', '今', '分', '星', '字', '汉', '有', '火', '喝', '名', '东', '七', '影', '是', '太', '校', '茶', '语', '日', '租', '做', '大', '生', '现', '钟', '怎', '我', '下', '脑', '欢', '喜', '猫', '来', '爱', '打', '说', '识', '车', '妈', '馆', '么', '你', '作', '叫', '岁', '雨', '五', '衣', '漂', '都', '个', '样', '请', '里', '工', '了', '起', '服', '机', '想', '冷', '住', '苹', '觉', '同', '一', '和', '人', '点', '电', '时', '书', '九', '饭', '能', '女', '八', '天', '候', '什', '读', '会', '兴', '不', '菜', '椅', '站', '气', '买'}\n",
      "The same classes are in each folder\n"
     ]
    }
   ],
   "source": [
    "image_classes_train = set(os.listdir(TRAIN_DIR))\n",
    "image_classes_test = set(os.listdir(TEST_DIR))\n",
    "print(len(image_classes_train), image_classes_train)\n",
    "print(len(image_classes_test), image_classes_test)\n",
    "\n",
    "if image_classes_train == image_classes_test:\n",
    "    print('The same classes are in each folder')\n",
    "    # image_classes = set(['零', '一', '二'])\n",
    "    image_classes = set(['零', '一', '二', '三', '四', '五', '六', '七', '八', '九', '十'])\n",
    "    # image_classes = image_classes_train\n",
    "else:\n",
    "    print('The two folders contain different classes')\n"
   ]
  },
  {
   "cell_type": "markdown",
   "metadata": {},
   "source": [
    "Next, lets combine the the train and test data into one directory for simplicity.\n",
    "\n",
    "We start by creating a new directory for our preprocessed data."
   ]
  },
  {
   "cell_type": "code",
   "execution_count": 184,
   "metadata": {},
   "outputs": [],
   "source": [
    "# Remove old data\n",
    "if os.path.exists(DATA_DIR):\n",
    "    shutil.rmtree(DATA_DIR)\n",
    "    \n",
    "#Create the new directory\n",
    "os.mkdir(DATA_DIR)\n",
    "for dir in ('train', 'test', 'val'):\n",
    "    for image_class in image_classes:\n",
    "        path = os.path.join(DATA_DIR, dir, image_class)\n",
    "        os.makedirs(path)"
   ]
  },
  {
   "cell_type": "markdown",
   "metadata": {},
   "source": [
    "Now let's combine the train and test data into one directory. This is specified by the `DATA_DIR` variable."
   ]
  },
  {
   "cell_type": "code",
   "execution_count": 185,
   "metadata": {},
   "outputs": [],
   "source": [
    "# Store how many of each class there are\n",
    "class_counts = {}\n",
    "max_images_per_class = 50\n",
    "\n",
    "TRAIN_SPLIT = 0.70\n",
    "TEST_SPLIT  = 0.15\n",
    "VAL_SPLIT   = 0.15\n",
    "\n",
    "for image_class in image_classes:\n",
    "    images = []\n",
    "\n",
    "    # Fetch images from train dir\n",
    "    train_path = os.path.join(TRAIN_DIR, image_class)\n",
    "    images += [os.path.join(train_path, file) for file in os.listdir(train_path)]\n",
    "\n",
    "    # Fetch images from test dir\n",
    "    test_path = os.path.join(TEST_DIR, image_class)\n",
    "    images += [os.path.join(test_path, file) for file in os.listdir(test_path)]\n",
    "\n",
    "    # Update class_counts\n",
    "    num_images = min(len(images), max_images_per_class)\n",
    "    class_counts[image_class] = num_images\n",
    "\n",
    "    # Select the images\n",
    "    # images = images[:num_images]\n",
    "    images = random.choices(images, k=num_images)\n",
    "\n",
    "    # Define the bounds of the splits\n",
    "    train = ('train', 0, int(TRAIN_SPLIT*num_images))\n",
    "    test = ('test', train[2], train[2] + int(TEST_SPLIT*num_images))\n",
    "    val = ('val', test[2], num_images)\n",
    "    splits = (train, test, val)\n",
    "\n",
    "    # Iterate over the splits and images and copy them to the data directory\n",
    "    for split in splits:\n",
    "        for i, image in enumerate(images[split[1]:split[2]]):\n",
    "            new_filename = f\"{i+1}.png\"\n",
    "            destination_path = os.path.join(DATA_DIR, split[0], image_class, new_filename)\n",
    "            shutil.copy(image, destination_path)"
   ]
  },
  {
   "cell_type": "markdown",
   "metadata": {},
   "source": [
    "Now lets check how many images we have in each class and see how balanced the classes are."
   ]
  },
  {
   "cell_type": "code",
   "execution_count": 186,
   "metadata": {},
   "outputs": [
    {
     "name": "stdout",
     "output_type": "stream",
     "text": [
      "   Character  Count\n",
      "0          九     50\n",
      "1          零     50\n",
      "2          八     50\n",
      "3          一     50\n",
      "4          十     50\n",
      "5          四     50\n",
      "6          六     50\n",
      "7          七     50\n",
      "8          二     50\n",
      "9          五     50\n",
      "10         三     50\n",
      "       Count\n",
      "count   11.0\n",
      "mean    50.0\n",
      "std      0.0\n",
      "min     50.0\n",
      "5%      50.0\n",
      "25%     50.0\n",
      "50%     50.0\n",
      "75%     50.0\n",
      "95%     50.0\n",
      "max     50.0\n"
     ]
    }
   ],
   "source": [
    "df_class_counts = pd.DataFrame.from_dict(class_counts, orient='index', columns=['Count'])\n",
    "df_class_counts.reset_index(inplace=True)\n",
    "df_class_counts.columns = ['Character', 'Count']\n",
    "\n",
    "print(df_class_counts)\n",
    "print(df_class_counts.describe([0.05, 0.25, 0.75, 0.95]))"
   ]
  },
  {
   "cell_type": "markdown",
   "metadata": {},
   "source": [
    "From this we can see that the classes are fairly balanced, let's quickly have a look at the slight imbalance in the classes.\n",
    "We can arbitrarily choose a balance metric such as outside the range of 2 standard deviations from the mean."
   ]
  },
  {
   "cell_type": "code",
   "execution_count": 187,
   "metadata": {},
   "outputs": [
    {
     "name": "stdout",
     "output_type": "stream",
     "text": [
      "Empty DataFrame\n",
      "Columns: [Character, Count]\n",
      "Index: []\n"
     ]
    }
   ],
   "source": [
    "mean = df_class_counts['Count'].mean()\n",
    "std = df_class_counts['Count'].std()\n",
    "threshold = 2 * std\n",
    "\n",
    "outlier_counts = df_class_counts[np.abs(df_class_counts['Count'] - mean) > threshold]\n",
    "print(outlier_counts)"
   ]
  },
  {
   "cell_type": "markdown",
   "metadata": {},
   "source": [
    "As we can see, the imbalance is very minimal. For now we can move on to the next step, and revisit this if the performance of our model is being affected by this imbalance."
   ]
  },
  {
   "cell_type": "markdown",
   "metadata": {},
   "source": [
    "# Data Pre-processing"
   ]
  },
  {
   "cell_type": "markdown",
   "metadata": {},
   "source": [
    "First lets iterate through all the images and and confirm they are all `.png` and black & white "
   ]
  },
  {
   "cell_type": "code",
   "execution_count": 188,
   "metadata": {},
   "outputs": [],
   "source": [
    "# Loop through each subdirectory and file in the directory\n",
    "for subdir, dirs, images in os.walk(DATA_DIR):\n",
    "    for image in images:\n",
    "        if image.lower().endswith('.png'):\n",
    "            # Construct the full path\n",
    "            file_path = os.path.join(subdir, image)\n",
    "\n",
    "            # Open the image\n",
    "            with Image.open(file_path) as img:\n",
    "                # Check if the image is not grayscale\n",
    "                if img.mode != 'L':\n",
    "                    print(f\"{file_path} is not a black and white image.\")\n",
    "        else:\n",
    "            print(\"Not a png file: \")"
   ]
  },
  {
   "cell_type": "markdown",
   "metadata": {},
   "source": [
    "Next let's iterate through all the images and check if any have an aspect ratio that is not 1:1."
   ]
  },
  {
   "cell_type": "code",
   "execution_count": 189,
   "metadata": {},
   "outputs": [],
   "source": [
    "image_sizes = []\n",
    "\n",
    "# Iterate through all the images and check if any do not have a 1:1 aspect ratio\n",
    "for subdir, dirs, images in os.walk(DATA_DIR):\n",
    "    for image in images:\n",
    "        file_path = os.path.join(subdir, image)\n",
    "        with Image.open(file_path) as img:\n",
    "            image_sizes.append(img.size[0])\n",
    "            \n",
    "            if img.size[0] != img.size[1]:\n",
    "                print(file_path, img.size)"
   ]
  },
  {
   "cell_type": "markdown",
   "metadata": {},
   "source": [
    "Since all the images are square, this makes it easier to investigate their image sizes."
   ]
  },
  {
   "cell_type": "code",
   "execution_count": 190,
   "metadata": {},
   "outputs": [
    {
     "name": "stdout",
     "output_type": "stream",
     "text": [
      "Smallest dimension: 26\n"
     ]
    },
    {
     "data": {
      "image/png": "[encoded data removed]",
      "text/plain": [
       "<Figure size 1200x600 with 1 Axes>"
      ]
     },
     "metadata": {},
     "output_type": "display_data"
    }
   ],
   "source": [
    "print(f\"Smallest dimension: {min(image_sizes)}\")\n",
    "\n",
    "# Plotting\n",
    "plt.figure(figsize=(12, 6))\n",
    "plt.subplot(1, 2, 1)\n",
    "sns.histplot(image_sizes)\n",
    "plt.title('Distribution of Image dimensions')\n",
    "plt.xlabel('Dimension')\n",
    "plt.tight_layout()\n",
    "plt.show()"
   ]
  },
  {
   "cell_type": "markdown",
   "metadata": {},
   "source": [
    "As you can see from the graph, the images are not all the same size. This will cause issues when we try to train the model, so we need to resize all the images to the same size. Additionally one of the images is only 3x3 which is way too small to be useful, so we will remove that image."
   ]
  },
  {
   "cell_type": "code",
   "execution_count": 191,
   "metadata": {},
   "outputs": [],
   "source": [
    "# Iterate through all the images and resize to a fixed size\n",
    "for subdir, dirs, images in os.walk(DATA_DIR):\n",
    "    for image in images:\n",
    "        file_path = os.path.join(subdir, image)\n",
    "        with Image.open(file_path) as img:\n",
    "            current_size = img.size\n",
    "            if img.size[0] < 5:\n",
    "                os.remove(file_path)\n",
    "            \n",
    "            target_size = 50\n",
    "            \n",
    "            resized_img = img.resize((target_size, target_size))\n",
    "            resized_img.save(file_path)"
   ]
  },
  {
   "cell_type": "markdown",
   "metadata": {},
   "source": [
    "# Data Augmentation"
   ]
  },
  {
   "cell_type": "markdown",
   "metadata": {},
   "source": [
    "Now that all the images are the same size, we can begin with augmenting the images. This will involve randomly flipping rotating the images to create more data for the model to train on and prevent overfitting.\n",
    "Note, there are many more augmentation techniques that can be used such as scaling, randomly cropping, randomly erasing, distorting, and blurring, but for now we will only use rotation and flipping."
   ]
  },
  {
   "cell_type": "code",
   "execution_count": 192,
   "metadata": {},
   "outputs": [],
   "source": [
    "# How many augmented images should be generated as a percentage of the current\n",
    "percent_augmented = 0.5 # 0 to 1\n",
    "augments = [(0, 90), (0, 180), (0, 270), (1, 0), (1, 90), (1, 180), (1, 270)]\n",
    "\n",
    "train_dir = os.path.join(DATA_DIR, 'train')\n",
    "\n",
    "# Iterate through all the images and resize to a fixed size\n",
    "for subdir, dirs, images in os.walk(train_dir):\n",
    "    for image in images:\n",
    "        file_path = os.path.join(subdir, image)\n",
    "        with Image.open(file_path) as img:\n",
    "            if random.random() <= percent_augmented:\n",
    "                augmented_img = img\n",
    "\n",
    "                augment = random.choice(augments)\n",
    "\n",
    "                if augment[0]:\n",
    "                    augmented_img = augmented_img.transpose(Image.FLIP_LEFT_RIGHT)\n",
    "                if augment[1]:\n",
    "                    augmented_img = augmented_img.rotate(augment[1])\n",
    "\n",
    "                name, extension = image.rsplit('.', 1)\n",
    "                save_file_path = os.path.join(subdir, f\"{name}.aug.{extension}\")\n",
    "\n",
    "                augmented_img.save(save_file_path)"
   ]
  },
  {
   "cell_type": "code",
   "execution_count": 103,
   "metadata": {},
   "outputs": [
    {
     "name": "stdout",
     "output_type": "stream",
     "text": [
      "Number of .png files in the data directory: 762\n",
      "Number of .aug.png files in the data directory: 212\n"
     ]
    }
   ],
   "source": [
    "import glob\n",
    "\n",
    "png_files = glob.glob(f\"{DATA_DIR}/**/*.png\", recursive=True)\n",
    "aug_png_files = glob.glob(f\"{DATA_DIR}/**/*.aug.png\", recursive=True)\n",
    "\n",
    "print(f\"Number of .png files in the data directory: {len(png_files)}\")\n",
    "print(f\"Number of .aug.png files in the data directory: {len(aug_png_files)}\")"
   ]
  },
  {
   "cell_type": "markdown",
   "metadata": {},
   "source": [
    "# Feature Extraction"
   ]
  },
  {
   "cell_type": "code",
   "execution_count": 22,
   "metadata": {},
   "outputs": [],
   "source": [
    "import torch\n",
    "import torchvision.models as models\n",
    "\n",
    "import torchvision.transforms.v2 as transforms\n",
    "from torchvision.datasets import ImageFolder\n",
    "from torch.utils.data import DataLoader"
   ]
  },
  {
   "cell_type": "code",
   "execution_count": 23,
   "metadata": {},
   "outputs": [
    {
     "name": "stderr",
     "output_type": "stream",
     "text": [
      "/home/miikey_lol/.local/lib/python3.10/site-packages/torchvision/models/_utils.py:208: UserWarning: The parameter 'pretrained' is deprecated since 0.13 and may be removed in the future, please use 'weights' instead.\n",
      "  warnings.warn(\n",
      "/home/miikey_lol/.local/lib/python3.10/site-packages/torchvision/models/_utils.py:223: UserWarning: Arguments other than a weight enum or `None` for 'weights' are deprecated since 0.13 and may be removed in the future. The current behavior is equivalent to passing `weights=ResNet50_Weights.IMAGENET1K_V1`. You can also use `weights=ResNet50_Weights.DEFAULT` to get the most up-to-date weights.\n",
      "  warnings.warn(msg)\n",
      "/home/miikey_lol/.local/lib/python3.10/site-packages/torchvision/transforms/v2/_deprecated.py:43: UserWarning: The transform `ToTensor()` is deprecated and will be removed in a future release. Instead, please use `v2.Compose([v2.ToImage(), v2.ToDtype(torch.float32, scale=True)])`.\n",
      "  warnings.warn(\n"
     ]
    }
   ],
   "source": [
    "# Load pre-trained ResNet\n",
    "resnet = models.resnet50(pretrained=True)\n",
    "\n",
    "# Remove the last fully connected layer for feature extraction\n",
    "resnet = torch.nn.Sequential(*(list(resnet.children())[:-1]))\n",
    "\n",
    "# Set model to evaluation mode\n",
    "resnet.eval()\n",
    "\n",
    "# Define image transformations\n",
    "transform = transforms.Compose([\n",
    "    transforms.Resize(256),\n",
    "    transforms.CenterCrop(224),\n",
    "    transforms.ToTensor(),\n",
    "    transforms.Normalize(mean=[0.485, 0.456, 0.406], std=[0.229, 0.224, 0.225]),\n",
    "])"
   ]
  },
  {
   "cell_type": "code",
   "execution_count": 24,
   "metadata": {},
   "outputs": [
    {
     "name": "stdout",
     "output_type": "stream",
     "text": [
      "Processed batch 1/35\n",
      "Processed batch 2/35\n",
      "Processed batch 3/35\n",
      "Processed batch 4/35\n",
      "Processed batch 5/35\n",
      "Processed batch 6/35\n",
      "Processed batch 7/35\n",
      "Processed batch 8/35\n",
      "Processed batch 9/35\n",
      "Processed batch 10/35\n",
      "Processed batch 11/35\n",
      "Processed batch 12/35\n",
      "Processed batch 13/35\n",
      "Processed batch 14/35\n",
      "Processed batch 15/35\n",
      "Processed batch 16/35\n",
      "Processed batch 17/35\n",
      "Processed batch 18/35\n",
      "Processed batch 19/35\n",
      "Processed batch 20/35\n",
      "Processed batch 21/35\n",
      "Processed batch 22/35\n",
      "Processed batch 23/35\n",
      "Processed batch 24/35\n",
      "Processed batch 25/35\n",
      "Processed batch 26/35\n",
      "Processed batch 27/35\n",
      "Processed batch 28/35\n",
      "Processed batch 29/35\n",
      "Processed batch 30/35\n",
      "Processed batch 31/35\n",
      "Processed batch 32/35\n",
      "Processed batch 33/35\n",
      "Processed batch 34/35\n",
      "Processed batch 35/35\n"
     ]
    }
   ],
   "source": [
    "# Load images with augmentation\n",
    "dataset = ImageFolder(root=DATA_DIR, transform=transform)\n",
    "data_loader = DataLoader(dataset, batch_size=32, shuffle=False)\n",
    "\n",
    "features = []\n",
    "labels = []\n",
    "\n",
    "for i, (inputs, label_batch) in enumerate(data_loader):\n",
    "    # Move inputs to the appropriate device (GPU if available)\n",
    "    inputs = inputs.to(torch.device(\"cuda\" if torch.cuda.is_available() else \"cpu\"))\n",
    "\n",
    "    # Forward pass, get the features\n",
    "    with torch.no_grad():\n",
    "        output = resnet(inputs)\n",
    "\n",
    "    # Convert output to the desired format and store\n",
    "    feature_batch = output.cpu().detach().numpy().flatten().reshape(-1, 2048) # Adjust shape based on the model\n",
    "    features.extend(feature_batch)\n",
    "\n",
    "    # Store labels\n",
    "    labels.extend(label_batch.numpy())\n",
    "    \n",
    "    # Print progress\n",
    "    print(f\"Processed batch {i+1}/{len(data_loader)}\")\n",
    "\n",
    "# `features` now contains the extracted features for each image\n",
    "\n",
    "# Convert the features list to a pandas DataFrame\n",
    "df_features = pd.DataFrame(features)\n",
    "df_features['label'] = labels\n",
    "\n",
    "# Get the mapping of class indices to class names\n",
    "idx_to_class = {v: k for k, v in dataset.class_to_idx.items()}\n",
    "\n",
    "# Map the numeric labels to class names\n",
    "df_features['character'] = df_features['label'].map(idx_to_class)\n",
    "\n",
    "# Define the output file path\n",
    "output_file = 'features.xlsx'\n",
    "\n",
    "# Save the DataFrame to Excel\n",
    "df_features.to_excel(output_file, index=False)\n"
   ]
  },
  {
   "cell_type": "code",
   "execution_count": 25,
   "metadata": {},
   "outputs": [],
   "source": [
    "df_features[:84*32].to_excel(output_file)"
   ]
  },
  {
   "cell_type": "code",
   "execution_count": 26,
   "metadata": {},
   "outputs": [],
   "source": [
    "# Convert DataFrame to NumPy array\n",
    "array = df_features.values\n",
    "\n",
    "# Save as .npy file\n",
    "np.save('df_features.npy', array)"
   ]
  }
 ],
 "metadata": {
  "kernelspec": {
   "display_name": "Python 3",
   "language": "python",
   "name": "python3"
  },
  "language_info": {
   "codemirror_mode": {
    "name": "ipython",
    "version": 3
   },
   "file_extension": ".py",
   "mimetype": "text/x-python",
   "name": "python",
   "nbconvert_exporter": "python",
   "pygments_lexer": "ipython3",
   "version": "3.10.12"
  }
 },
 "nbformat": 4,
 "nbformat_minor": 2
}
