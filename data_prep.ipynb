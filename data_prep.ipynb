{
 "cells": [
  {
   "cell_type": "markdown",
   "metadata": {},
   "source": [
    "# Project setup"
   ]
  },
  {
   "cell_type": "markdown",
   "metadata": {},
   "source": [
    "Import necessary libraries"
   ]
  },
  {
   "cell_type": "code",
   "execution_count": 400,
   "metadata": {},
   "outputs": [],
   "source": [
    "# System\n",
    "import os\n",
    "import shutil\n",
    "import glob\n",
    "\n",
    "# Image handling\n",
    "from PIL import Image, ImageOps\n",
    "\n",
    "# Numerical\n",
    "import numpy as np\n",
    "import pandas as pd\n",
    "\n",
    "# Reproducability\n",
    "import random\n",
    "random.seed(42)\n",
    "\n",
    "# Plotting\n",
    "import matplotlib.pyplot as plt\n",
    "import seaborn as sns"
   ]
  },
  {
   "cell_type": "markdown",
   "metadata": {},
   "source": [
    "First we establish the directory to where our data is stored, and where we ultimately want to store our cleaned, preprocessed data."
   ]
  },
  {
   "cell_type": "code",
   "execution_count": 401,
   "metadata": {},
   "outputs": [],
   "source": [
    "INIT_DIR = 'chinese-handwriting-recognition-hsk-1/chinese-handwriting/'\n",
    "\n",
    "INIT_TRAIN_DIR = os.path.join(INIT_DIR, 'CASIA-HWDB_Train/Train/')\n",
    "INIT_TEST_DIR = os.path.join(INIT_DIR, 'CASIA-HWDB_Test/Test/')\n",
    "\n",
    "DIR = 'data/'"
   ]
  },
  {
   "cell_type": "markdown",
   "metadata": {},
   "source": [
    "# Data investigation"
   ]
  },
  {
   "cell_type": "markdown",
   "metadata": {},
   "source": [
    "First lets have a look at how many data classes we have in the dataset. The dataset has been split into test and train already so lets check how many classes we have in each."
   ]
  },
  {
   "cell_type": "code",
   "execution_count": 402,
   "metadata": {},
   "outputs": [
    {
     "name": "stdout",
     "output_type": "stream",
     "text": [
      "178 ['十', '姐', '九', '分', '电', '家', '车', '喝', '师', '识', '认', '钱', '工', '书', '是', '月', '水', '习', '小', '话', '吃', '里', '猫', '些', '京', '喜', '商', '后', '名', '候', '看', '昨', '现', '高', '的', '五', '天', '爸', '飞', '那', '饭', '点', '岁', '三', '西', '喂', '学', '二', '来', '本', '馆', '零', '们', '东', '米', '汉', '呢', '校', '觉', '个', '哪', '服', '前', '椅', '苹', '租', '年', '明', '朋', '你', '他', '友', '四', '系', '好', '样', '杯', '日', '打', '午', '一', '再', '能', '怎', '老', '什', '起', '钟', '谁', '大', '回', '漂', '狗', '有', '都', '亮', '先', '时', '女', '雨', '菜', '欢', '视', '我', '语', '少', '同', '气', '衣', '热', '谢', '会', '出', '生', '下', '客', '买', '叫', '面', '多', '住', '子', '没', '七', '听', '火', '妈', '想', '作', '太', '影', '站', '写', '做', '她', '茶', '果', '字', '爱', '这', '期', '桌', '在', '见', '开', '上', '了', '几', '店', '院', '关', '么', '吗', '人', '说', '八', '脑', '六', '国', '坐', '请', '中', '兴', '冷', '去', '医', '星', '儿', '北', '不', '和', '读', '很', '睡', '块', '今', '机', '对']\n",
      "178 ['十', '姐', '九', '分', '电', '家', '车', '喝', '师', '识', '认', '钱', '工', '书', '是', '月', '水', '习', '小', '话', '吃', '里', '猫', '些', '京', '喜', '商', '后', '名', '候', '看', '昨', '现', '高', '的', '五', '天', '爸', '飞', '那', '饭', '点', '岁', '三', '西', '喂', '学', '二', '来', '本', '馆', '零', '们', '东', '米', '汉', '呢', '校', '觉', '个', '哪', '服', '前', '椅', '苹', '租', '年', '明', '朋', '你', '他', '友', '四', '系', '好', '样', '杯', '日', '打', '午', '一', '再', '能', '怎', '老', '什', '起', '钟', '谁', '大', '回', '漂', '狗', '有', '都', '亮', '先', '时', '女', '雨', '菜', '欢', '视', '我', '语', '少', '同', '气', '衣', '热', '谢', '会', '出', '生', '下', '客', '买', '叫', '面', '多', '住', '子', '没', '七', '听', '火', '妈', '想', '作', '太', '影', '站', '写', '做', '她', '茶', '果', '字', '爱', '这', '期', '桌', '在', '见', '开', '上', '了', '几', '店', '院', '关', '么', '吗', '人', '说', '八', '脑', '六', '国', '坐', '请', '中', '兴', '冷', '去', '医', '星', '儿', '北', '不', '和', '读', '很', '睡', '块', '今', '机', '对']\n",
      "The same classes are in each folder\n"
     ]
    }
   ],
   "source": [
    "image_classes_train = os.listdir(INIT_TRAIN_DIR)\n",
    "image_classes_test = os.listdir(INIT_TEST_DIR)\n",
    "print(len(image_classes_train), image_classes_train)\n",
    "print(len(image_classes_test), image_classes_test)\n",
    "\n",
    "if image_classes_train == image_classes_test:\n",
    "    print('The same classes are in each folder')\n",
    "    # image_classes = ['零', '一', '二']\n",
    "    # image_classes = ['零', '一', '二', '三', '四', '五', '六', '七', '八', '九', '十']\n",
    "    # image_classes = image_classes_train[:20]\n",
    "    # image_classes = random.sample(image_classes_train, 75)\n",
    "    image_classes = image_classes_train\n",
    "else:\n",
    "    print('The two folders contain different classes')"
   ]
  },
  {
   "cell_type": "markdown",
   "metadata": {},
   "source": [
    "Next, lets combine the the train and test data into one directory for simplicity.\n",
    "\n",
    "We start by creating a new directory for our preprocessed data."
   ]
  },
  {
   "cell_type": "code",
   "execution_count": 403,
   "metadata": {},
   "outputs": [],
   "source": [
    "# Remove old data\n",
    "if os.path.exists(DIR):\n",
    "    shutil.rmtree(DIR)\n",
    "    \n",
    "#Create the new directory\n",
    "os.mkdir(DIR)\n",
    "for image_class in image_classes:\n",
    "    path = os.path.join(DIR, image_class)\n",
    "    os.makedirs(path)"
   ]
  },
  {
   "cell_type": "markdown",
   "metadata": {},
   "source": [
    "Now let's combine the train and test data into one directory. This is specified by the `DIR` variable."
   ]
  },
  {
   "cell_type": "code",
   "execution_count": 404,
   "metadata": {},
   "outputs": [],
   "source": [
    "for image_class in image_classes:\n",
    "    images = []\n",
    "\n",
    "    # Fetch images from train dir\n",
    "    train_path = os.path.join(INIT_TRAIN_DIR, image_class)\n",
    "    images += [os.path.join(train_path, file) for file in os.listdir(train_path)]\n",
    "\n",
    "    # Fetch images from test dir\n",
    "    test_path = os.path.join(INIT_TEST_DIR, image_class)\n",
    "    images += [os.path.join(test_path, file) for file in os.listdir(test_path)]\n",
    "\n",
    "    # Iterate over the splits and images and copy them to the data directory\n",
    "    for i, image in enumerate(images):\n",
    "        new_filename = f\"{i+1}.png\"\n",
    "        destination_path = os.path.join(DIR, image_class, new_filename)\n",
    "        shutil.copy(image, destination_path)"
   ]
  },
  {
   "cell_type": "markdown",
   "metadata": {},
   "source": [
    "# Data Pre-processing"
   ]
  },
  {
   "cell_type": "markdown",
   "metadata": {},
   "source": [
    "First lets iterate through all the images and and confirm they are all `.png` and black & white "
   ]
  },
  {
   "cell_type": "code",
   "execution_count": 405,
   "metadata": {},
   "outputs": [],
   "source": [
    "# Loop through each subdirectory and file in the directory\n",
    "for subdir, dirs, images in os.walk(DIR):\n",
    "    for image in images:\n",
    "        if image.lower().endswith('.png'):\n",
    "            file_path = os.path.join(subdir, image)\n",
    "\n",
    "            with Image.open(file_path) as img:\n",
    "                if img.mode != 'L':\n",
    "                    print(f\"{file_path} is not grayscale.\")\n",
    "        else:\n",
    "            print(\"Not a png file: \")"
   ]
  },
  {
   "cell_type": "markdown",
   "metadata": {},
   "source": [
    "Next let's iterate through all the images and check if any have an aspect ratio that is not 1:1."
   ]
  },
  {
   "cell_type": "code",
   "execution_count": 406,
   "metadata": {},
   "outputs": [],
   "source": [
    "image_sizes = []\n",
    "\n",
    "# Iterate through all the images and check if any do not have a 1:1 aspect ratio\n",
    "for subdir, dirs, images in os.walk(DIR):\n",
    "    for image in images:\n",
    "        file_path = os.path.join(subdir, image)\n",
    "        with Image.open(file_path) as img:\n",
    "            image_sizes.append(img.size[0])\n",
    "\n",
    "            if img.size[0] != img.size[1]:\n",
    "                print(file_path, img.size)"
   ]
  },
  {
   "cell_type": "markdown",
   "metadata": {},
   "source": [
    "Since all the images are square, this makes it easier to investigate their image sizes."
   ]
  },
  {
   "cell_type": "code",
   "execution_count": 407,
   "metadata": {},
   "outputs": [
    {
     "name": "stdout",
     "output_type": "stream",
     "text": [
      "Smallest dimension: 3\n"
     ]
    },
    {
     "data": {
      "image/png": "[encoded data removed]",
      "text/plain": [
       "<Figure size 500x500 with 1 Axes>"
      ]
     },
     "metadata": {},
     "output_type": "display_data"
    }
   ],
   "source": [
    "print(f\"Smallest dimension: {min(image_sizes)}\")\n",
    "\n",
    "# Plotting\n",
    "sns.displot(image_sizes)\n",
    "plt.xlabel('Dimension')\n",
    "plt.ylabel('Frequency')\n",
    "plt.tight_layout()\n",
    "plt.show()"
   ]
  },
  {
   "cell_type": "markdown",
   "metadata": {},
   "source": [
    "As you can see from the graph, the images are not all the same size. This will cause issues when we try to train the model, so we need to resize all the images to the same size. Additionally one of the images is only 3x3 which is way too small to be useful, so we will enforce a minimum image size."
   ]
  },
  {
   "cell_type": "code",
   "execution_count": 408,
   "metadata": {},
   "outputs": [],
   "source": [
    "# def resize_with_padding(img, new_size, padding):\n",
    "#     content_size = (new_size - 2 * padding, new_size - 2 * padding)\n",
    "#     resized_img = img.resize(content_size)\n",
    "#     new_img = Image.new(\"L\", (new_size, new_size), (255))\n",
    "#     new_img.paste(resized_img, (padding, padding))\n",
    "#     return new_img\n",
    "\n",
    "MIN_IMAGE_SIZE = 24\n",
    "IMAGE_SIZE = 64\n",
    "# PADDING = 0\n",
    "\n",
    "# Iterate through all the images and resize to a fixed size\n",
    "for subdir, dirs, images in os.walk(DIR):\n",
    "    for image in images:\n",
    "        file_path = os.path.join(subdir, image)\n",
    "        with Image.open(file_path) as img:\n",
    "            current_size = img.size[0]\n",
    "            if current_size == IMAGE_SIZE:\n",
    "                continue\n",
    "                \n",
    "            if current_size < MIN_IMAGE_SIZE:\n",
    "                os.remove(file_path)\n",
    "                continue\n",
    "            \n",
    "            resized_img = img.resize((IMAGE_SIZE, IMAGE_SIZE), Image.Resampling.LANCZOS)\n",
    "            resized_img.save(file_path)"
   ]
  },
  {
   "cell_type": "markdown",
   "metadata": {},
   "source": [
    "Now lets check how many images we have in each class and see how balanced the classes are."
   ]
  },
  {
   "cell_type": "code",
   "execution_count": 409,
   "metadata": {},
   "outputs": [
    {
     "data": {
      "image/png": "[encoded data removed]",
      "text/plain": [
       "<Figure size 500x500 with 1 Axes>"
      ]
     },
     "metadata": {},
     "output_type": "display_data"
    },
    {
     "name": "stdout",
     "output_type": "stream",
     "text": [
      "            Count\n",
      "count  178.000000\n",
      "mean   741.252809\n",
      "std      3.030563\n",
      "min    721.000000\n",
      "5%     737.000000\n",
      "25%    740.000000\n",
      "50%    741.000000\n",
      "75%    743.000000\n",
      "95%    746.000000\n",
      "max    748.000000\n"
     ]
    }
   ],
   "source": [
    "def get_class_counts():\n",
    "    class_counts = {}\n",
    "    \n",
    "    for subdir in glob.glob(os.path.join(DIR, '*')):\n",
    "        file_count = len(glob.glob(os.path.join(subdir, '*')))\n",
    "        class_counts[subdir.split('/')[-1]] = file_count\n",
    "\n",
    "    return pd.DataFrame.from_dict(class_counts, orient='index', columns=['Count'])\n",
    "\n",
    "df_class_counts = get_class_counts() \n",
    "\n",
    "sns.displot(list(df_class_counts['Count']))\n",
    "plt.xlabel('Samples per class')\n",
    "plt.ylabel('Class count')\n",
    "plt.tight_layout()\n",
    "plt.show()\n",
    "\n",
    "print(df_class_counts.describe([0.05, 0.25, 0.75, 0.95]))"
   ]
  },
  {
   "cell_type": "markdown",
   "metadata": {},
   "source": [
    "From this we can see that the classes are fairly balanced, let's quickly have a look at the slight imbalance in the classes.\n",
    "We can arbitrarily choose a balance metric such as outside the range of 2 standard deviations from the mean."
   ]
  },
  {
   "cell_type": "code",
   "execution_count": 278,
   "metadata": {},
   "outputs": [
    {
     "name": "stdout",
     "output_type": "stream",
     "text": [
      "   Count\n",
      "月    748\n",
      "零    732\n",
      "四    734\n",
      "样    721\n",
      "老    734\n",
      "六    733\n"
     ]
    }
   ],
   "source": [
    "df_class_counts = get_class_counts() \n",
    "\n",
    "mean = df_class_counts['Count'].mean()\n",
    "std = df_class_counts['Count'].std()\n",
    "threshold = 2 * std\n",
    "\n",
    "outlier_counts = df_class_counts[np.abs(df_class_counts['Count'] - mean) > threshold]\n",
    "print(outlier_counts)"
   ]
  },
  {
   "cell_type": "markdown",
   "metadata": {},
   "source": [
    "As we can see, the imbalance is minimal. For simplicity we will balance the classes by removing the excess images from the classes with more images than the minimum."
   ]
  },
  {
   "cell_type": "code",
   "execution_count": 279,
   "metadata": {},
   "outputs": [
    {
     "data": {
      "text/plain": [
       "720"
      ]
     },
     "execution_count": 279,
     "metadata": {},
     "output_type": "execute_result"
    }
   ],
   "source": [
    "minimum_count = df_class_counts['Count'].min()\n",
    "SAMPLES_PER_CLASS = minimum_count - (minimum_count % 10)\n",
    "SAMPLES_PER_CLASS"
   ]
  },
  {
   "cell_type": "markdown",
   "metadata": {},
   "source": [
    "Let's have a look some examples of the images in the dataset."
   ]
  },
  {
   "cell_type": "code",
   "execution_count": 343,
   "metadata": {},
   "outputs": [
    {
     "data": {
      "image/png": "[encoded data removed]",
      "text/plain": [
       "<Figure size 800x800 with 4 Axes>"
      ]
     },
     "metadata": {},
     "output_type": "display_data"
    }
   ],
   "source": [
    "import glob\n",
    "\n",
    "# Get list of all .png images in the directory and its subdirectories\n",
    "images = glob.glob(os.path.join(DIR, '**', '*.png'), recursive=True)\n",
    "\n",
    "# Randomly select num_images images\n",
    "random_images = random.sample(images, 4)\n",
    "\n",
    "fig, axs = plt.subplots(2, 2, figsize=(8, 8))\n",
    "\n",
    "# Set the font for the plot\n",
    "import matplotlib.font_manager as fm\n",
    "font_path = 'NotoSansCJKsc-Regular.otf'\n",
    "prop = fm.FontProperties(fname=font_path)\n",
    "\n",
    "for i in range(2):\n",
    "    for j in range(2):\n",
    "        img_path = random_images[2 * i + j]\n",
    "        img = Image.open(img_path)\n",
    "        img = ImageOps.invert(img)\n",
    "        axs[i][j].imshow(img)\n",
    "        axs[i][j].set_title(f\"Character: {img_path.split('/')[1]}\", fontproperties=prop,fontsize = 13)"
   ]
  },
  {
   "cell_type": "markdown",
   "metadata": {},
   "source": [
    "# NumPy Array Conversion\n",
    "\n",
    "Now we can convert all the images into one single numpy array with the corresponding labels for each image."
   ]
  },
  {
   "cell_type": "code",
   "execution_count": 281,
   "metadata": {},
   "outputs": [],
   "source": [
    "image_list = []\n",
    "label_list = []\n",
    "\n",
    "for subdir, dirs, files in os.walk(DIR):\n",
    "    if not files:\n",
    "        continue\n",
    "    \n",
    "    for i in range(SAMPLES_PER_CLASS):\n",
    "        file = files[i]\n",
    "        \n",
    "        file_path = os.path.join(subdir, file)\n",
    "        label = subdir.split('/')[-1]\n",
    "\n",
    "        img = Image.open(file_path)\n",
    "        img_array = np.array(img)\n",
    "\n",
    "        image_list.append(img_array)\n",
    "        label_list.append(label)\n"
   ]
  },
  {
   "cell_type": "markdown",
   "metadata": {},
   "source": [
    "Now we can convert the python lists into numpy arrays."
   ]
  },
  {
   "cell_type": "code",
   "execution_count": 282,
   "metadata": {},
   "outputs": [],
   "source": [
    "image_array = np.array(image_list)\n",
    "label_array = np.array(label_list)"
   ]
  },
  {
   "cell_type": "markdown",
   "metadata": {},
   "source": [
    "And finally we can save the numpy arrays to the root directory."
   ]
  },
  {
   "cell_type": "code",
   "execution_count": 283,
   "metadata": {},
   "outputs": [],
   "source": [
    "np.save('images.npy', image_array)\n",
    "np.save('labels.npy', label_array)"
   ]
  }
 ],
 "metadata": {
  "kernelspec": {
   "display_name": "Python 3",
   "language": "python",
   "name": "python3"
  },
  "language_info": {
   "codemirror_mode": {
    "name": "ipython",
    "version": 3
   },
   "file_extension": ".py",
   "mimetype": "text/x-python",
   "name": "python",
   "nbconvert_exporter": "python",
   "pygments_lexer": "ipython3",
   "version": "3.10.12"
  }
 },
 "nbformat": 4,
 "nbformat_minor": 2
}
