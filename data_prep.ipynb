{
 "cells": [
  {
   "cell_type": "markdown",
   "metadata": {},
   "source": [
    "# Project setup"
   ]
  },
  {
   "cell_type": "markdown",
   "metadata": {},
   "source": [
    "Import necessary libraries"
   ]
  },
  {
   "cell_type": "code",
   "execution_count": 1,
   "metadata": {},
   "outputs": [],
   "source": [
    "# System\n",
    "import os\n",
    "import shutil\n",
    "import glob\n",
    "\n",
    "# Image handling\n",
    "from PIL import Image, ImageOps\n",
    "\n",
    "# Numerical\n",
    "import numpy as np\n",
    "import pandas as pd\n",
    "\n",
    "# Reproducability\n",
    "import random\n",
    "random.seed(42)\n",
    "\n",
    "# Plotting\n",
    "import matplotlib.pyplot as plt\n",
    "import seaborn as sns"
   ]
  },
  {
   "cell_type": "markdown",
   "metadata": {},
   "source": [
    "First we establish the directory to where our data is stored, and where we ultimately want to store our cleaned, preprocessed data."
   ]
  },
  {
   "cell_type": "code",
   "execution_count": 2,
   "metadata": {},
   "outputs": [],
   "source": [
    "INIT_DIR = 'chinese-handwriting-recognition-hsk-1/chinese-handwriting/'\n",
    "\n",
    "INIT_TRAIN_DIR = os.path.join(INIT_DIR, 'CASIA-HWDB_Train/Train/')\n",
    "INIT_TEST_DIR = os.path.join(INIT_DIR, 'CASIA-HWDB_Test/Test/')\n",
    "\n",
    "DIR = 'data/'"
   ]
  },
  {
   "cell_type": "markdown",
   "metadata": {},
   "source": [
    "# Data investigation"
   ]
  },
  {
   "cell_type": "markdown",
   "metadata": {},
   "source": [
    "First lets have a look at how many data classes we have in the dataset. The dataset has been split into test and train already so lets check how many classes we have in each."
   ]
  },
  {
   "cell_type": "code",
   "execution_count": 3,
   "metadata": {},
   "outputs": [
    {
     "name": "stdout",
     "output_type": "stream",
     "text": [
      "178 ['火', '分', '水', '谁', '工', '么', '喜', '七', '月', '租', '姐', '读', '喂', '坐', '商', '汉', '吃', '店', '了', '叫', '作', '说', '写', '兴', '字', '中', '车', '做', '书', '后', '年', '话', '多', '零', '喝', '关', '块', '日', '好', '漂', '苹', '在', '六', '那', '生', '他', '京', '狗', '点', '少', '会', '北', '起', '些', '欢', '明', '候', '是', '果', '买', '里', '子', '昨', '菜', '雨', '站', '谢', '杯', '十', '都', '高', '校', '能', '椅', '没', '们', '机', '午', '视', '有', '九', '语', '打', '同', '再', '人', '上', '和', '妈', '师', '一', '猫', '电', '呢', '桌', '钟', '气', '听', '你', '识', '前', '小', '影', '这', '很', '吗', '朋', '星', '老', '请', '期', '认', '今', '开', '下', '的', '学', '本', '亮', '钱', '先', '见', '爸', '飞', '院', '友', '二', '天', '服', '哪', '怎', '西', '四', '睡', '岁', '名', '样', '回', '医', '家', '习', '出', '国', '看', '八', '冷', '觉', '衣', '馆', '系', '米', '住', '饭', '三', '东', '去', '现', '时', '热', '面', '对', '茶', '脑', '想', '她', '太', '大', '来', '个', '儿', '五', '我', '女', '爱', '什', '几', '不', '客']\n",
      "178 ['火', '分', '水', '谁', '工', '么', '喜', '七', '月', '租', '姐', '读', '喂', '坐', '商', '汉', '吃', '店', '了', '叫', '作', '说', '写', '兴', '字', '中', '车', '做', '书', '后', '年', '话', '多', '零', '喝', '关', '块', '日', '好', '漂', '苹', '在', '六', '那', '生', '他', '京', '狗', '点', '少', '会', '北', '起', '些', '欢', '明', '候', '是', '果', '买', '里', '子', '昨', '菜', '雨', '站', '谢', '杯', '十', '都', '高', '校', '能', '椅', '没', '们', '机', '午', '视', '有', '九', '语', '打', '同', '再', '人', '上', '和', '妈', '师', '一', '猫', '电', '呢', '桌', '钟', '气', '听', '你', '识', '前', '小', '影', '这', '很', '吗', '朋', '星', '老', '请', '期', '认', '今', '开', '下', '的', '学', '本', '亮', '钱', '先', '见', '爸', '飞', '院', '友', '二', '天', '服', '哪', '怎', '西', '四', '睡', '岁', '名', '样', '回', '医', '家', '习', '出', '国', '看', '八', '冷', '觉', '衣', '馆', '系', '米', '住', '饭', '三', '东', '去', '现', '时', '热', '面', '对', '茶', '脑', '想', '她', '太', '大', '来', '个', '儿', '五', '我', '女', '爱', '什', '几', '不', '客']\n",
      "The same classes are in each folder\n"
     ]
    }
   ],
   "source": [
    "image_classes_train = os.listdir(INIT_TRAIN_DIR)\n",
    "image_classes_test = os.listdir(INIT_TEST_DIR)\n",
    "print(len(image_classes_train), image_classes_train)\n",
    "print(len(image_classes_test), image_classes_test)\n",
    "\n",
    "if image_classes_train == image_classes_test:\n",
    "    print('The same classes are in each folder')\n",
    "    # image_classes = ['零', '一', '二']\n",
    "    # image_classes = ['零', '一', '二', '三', '四', '五', '六', '七', '八', '九', '十']\n",
    "    image_classes = image_classes_train[:100]\n",
    "    # image_classes = image_classes_train\n",
    "else:\n",
    "    print('The two folders contain different classes')"
   ]
  },
  {
   "cell_type": "markdown",
   "metadata": {},
   "source": [
    "Next, lets combine the the train and test data into one directory for simplicity.\n",
    "\n",
    "We start by creating a new directory for our preprocessed data."
   ]
  },
  {
   "cell_type": "code",
   "execution_count": 4,
   "metadata": {},
   "outputs": [],
   "source": [
    "# Remove old data\n",
    "if os.path.exists(DIR):\n",
    "    shutil.rmtree(DIR)\n",
    "    \n",
    "#Create the new directory\n",
    "os.mkdir(DIR)\n",
    "for image_class in image_classes:\n",
    "    path = os.path.join(DIR, image_class)\n",
    "    os.makedirs(path)"
   ]
  },
  {
   "cell_type": "markdown",
   "metadata": {},
   "source": [
    "Now let's combine the train and test data into one directory. This is specified by the `DIR` variable."
   ]
  },
  {
   "cell_type": "code",
   "execution_count": 5,
   "metadata": {},
   "outputs": [],
   "source": [
    "for image_class in image_classes:\n",
    "    images = []\n",
    "\n",
    "    # Fetch images from train dir\n",
    "    train_path = os.path.join(INIT_TRAIN_DIR, image_class)\n",
    "    images += [os.path.join(train_path, file) for file in os.listdir(train_path)]\n",
    "\n",
    "    # Fetch images from test dir\n",
    "    test_path = os.path.join(INIT_TEST_DIR, image_class)\n",
    "    images += [os.path.join(test_path, file) for file in os.listdir(test_path)]\n",
    "\n",
    "    # Iterate over the splits and images and copy them to the data directory\n",
    "    for i, image in enumerate(images):\n",
    "        new_filename = f\"{i+1}.png\"\n",
    "        destination_path = os.path.join(DIR, image_class, new_filename)\n",
    "        shutil.copy(image, destination_path)"
   ]
  },
  {
   "cell_type": "markdown",
   "metadata": {},
   "source": [
    "# Data Pre-processing"
   ]
  },
  {
   "cell_type": "markdown",
   "metadata": {},
   "source": [
    "First lets iterate through all the images and and confirm they are all `.png` and black & white "
   ]
  },
  {
   "cell_type": "code",
   "execution_count": 6,
   "metadata": {},
   "outputs": [],
   "source": [
    "# Loop through each subdirectory and file in the directory\n",
    "for subdir, dirs, images in os.walk(DIR):\n",
    "    for image in images:\n",
    "        if image.lower().endswith('.png'):\n",
    "            file_path = os.path.join(subdir, image)\n",
    "\n",
    "            with Image.open(file_path) as img:\n",
    "                if img.mode != 'L':\n",
    "                    print(f\"{file_path} is not grayscale.\")\n",
    "        else:\n",
    "            print(\"Not a png file: \")"
   ]
  },
  {
   "cell_type": "markdown",
   "metadata": {},
   "source": [
    "Next let's iterate through all the images and check if any have an aspect ratio that is not 1:1."
   ]
  },
  {
   "cell_type": "code",
   "execution_count": 7,
   "metadata": {},
   "outputs": [],
   "source": [
    "image_sizes = []\n",
    "\n",
    "# Iterate through all the images and check if any do not have a 1:1 aspect ratio\n",
    "for subdir, dirs, images in os.walk(DIR):\n",
    "    for image in images:\n",
    "        file_path = os.path.join(subdir, image)\n",
    "        with Image.open(file_path) as img:\n",
    "            image_sizes.append(img.size[0])\n",
    "\n",
    "            if img.size[0] != img.size[1]:\n",
    "                print(file_path, img.size)"
   ]
  },
  {
   "cell_type": "markdown",
   "metadata": {},
   "source": [
    "Since all the images are square, this makes it easier to investigate their image sizes."
   ]
  },
  {
   "cell_type": "code",
   "execution_count": 8,
   "metadata": {},
   "outputs": [
    {
     "name": "stdout",
     "output_type": "stream",
     "text": [
      "Smallest dimension: 3\n"
     ]
    },
    {
     "data": {
      "image/png": "[encoded data removed]",
      "text/plain": [
       "<Figure size 500x500 with 1 Axes>"
      ]
     },
     "metadata": {},
     "output_type": "display_data"
    }
   ],
   "source": [
    "print(f\"Smallest dimension: {min(image_sizes)}\")\n",
    "\n",
    "# Plotting\n",
    "sns.displot(image_sizes)\n",
    "plt.xlabel('Dimension')\n",
    "plt.ylabel('Frequency')\n",
    "plt.tight_layout()\n",
    "plt.show()"
   ]
  },
  {
   "cell_type": "markdown",
   "metadata": {},
   "source": [
    "Before we begin resizing images, let's have a look at the general statistics of how many samples are in each class."
   ]
  },
  {
   "cell_type": "code",
   "execution_count": 9,
   "metadata": {},
   "outputs": [
    {
     "name": "stdout",
     "output_type": "stream",
     "text": [
      "            Count\n",
      "count  100.000000\n",
      "mean   741.220000\n",
      "std      2.676422\n",
      "min    732.000000\n",
      "5%     737.000000\n",
      "25%    740.000000\n",
      "50%    741.000000\n",
      "75%    743.000000\n",
      "95%    746.000000\n",
      "max    748.000000\n"
     ]
    }
   ],
   "source": [
    "def get_class_counts():\n",
    "    class_counts = {}\n",
    "    \n",
    "    for subdir in glob.glob(os.path.join(DIR, '*')):\n",
    "        file_count = len(glob.glob(os.path.join(subdir, '*')))\n",
    "        class_counts[subdir.split('/')[-1]] = file_count\n",
    "\n",
    "    return pd.DataFrame.from_dict(class_counts, orient='index', columns=['Count'])\n",
    "\n",
    "df_class_counts = get_class_counts() \n",
    "print(df_class_counts.describe([0.05, 0.25, 0.75, 0.95]))"
   ]
  },
  {
   "cell_type": "markdown",
   "metadata": {},
   "source": [
    "As you can see from the graph, the images are not all the same size. This will cause issues when we try to train the model, so we need to resize all the images to the same size. Additionally one of the images is only 3x3 which is way too small to be useful, so we will enforce a minimum image size."
   ]
  },
  {
   "cell_type": "code",
   "execution_count": 10,
   "metadata": {},
   "outputs": [],
   "source": [
    "MIN_IMAGE_SIZE = 20\n",
    "IMAGE_SIZE = 64\n",
    "\n",
    "# Iterate through all the images and resize to a fixed size\n",
    "for subdir, dirs, images in os.walk(DIR):\n",
    "    for image in images:\n",
    "        file_path = os.path.join(subdir, image)\n",
    "        with Image.open(file_path) as img:\n",
    "            current_size = img.size[0]\n",
    "            if current_size < MIN_IMAGE_SIZE:\n",
    "                os.remove(file_path)\n",
    "                continue\n",
    "            \n",
    "            resized_img = img.resize((IMAGE_SIZE, IMAGE_SIZE))\n",
    "            resized_img.save(file_path)"
   ]
  },
  {
   "cell_type": "markdown",
   "metadata": {},
   "source": [
    "Now lets check how many images we have in each class and see how balanced the classes are."
   ]
  },
  {
   "cell_type": "code",
   "execution_count": 11,
   "metadata": {},
   "outputs": [
    {
     "name": "stdout",
     "output_type": "stream",
     "text": [
      "            Count\n",
      "count  100.000000\n",
      "mean   741.190000\n",
      "std      2.665511\n",
      "min    732.000000\n",
      "5%     737.000000\n",
      "25%    740.000000\n",
      "50%    741.000000\n",
      "75%    743.000000\n",
      "95%    746.000000\n",
      "max    748.000000\n"
     ]
    }
   ],
   "source": [
    "df_class_counts = get_class_counts() \n",
    "print(df_class_counts.describe([0.05, 0.25, 0.75, 0.95]))"
   ]
  },
  {
   "cell_type": "markdown",
   "metadata": {},
   "source": [
    "From this we can see that the classes are fairly balanced, let's quickly have a look at the slight imbalance in the classes.\n",
    "We can arbitrarily choose a balance metric such as outside the range of 2 standard deviations from the mean."
   ]
  },
  {
   "cell_type": "code",
   "execution_count": 12,
   "metadata": {},
   "outputs": [
    {
     "name": "stdout",
     "output_type": "stream",
     "text": [
      "   Count\n",
      "月    748\n",
      "零    732\n",
      "在    747\n",
      "六    733\n",
      "雨    747\n",
      "站    747\n"
     ]
    }
   ],
   "source": [
    "df_class_counts = get_class_counts() \n",
    "\n",
    "mean = df_class_counts['Count'].mean()\n",
    "std = df_class_counts['Count'].std()\n",
    "threshold = 2 * std\n",
    "\n",
    "outlier_counts = df_class_counts[np.abs(df_class_counts['Count'] - mean) > threshold]\n",
    "print(outlier_counts)"
   ]
  },
  {
   "cell_type": "markdown",
   "metadata": {},
   "source": [
    "As we can see, the imbalance is minimal. For simplicity we will balance the classes by removing the excess images from the classes with more images than the minimum."
   ]
  },
  {
   "cell_type": "code",
   "execution_count": 13,
   "metadata": {},
   "outputs": [
    {
     "data": {
      "text/plain": [
       "730"
      ]
     },
     "execution_count": 13,
     "metadata": {},
     "output_type": "execute_result"
    }
   ],
   "source": [
    "minimum_count = df_class_counts['Count'].min()\n",
    "SAMPLES_PER_CLASS = minimum_count - (minimum_count % 10)\n",
    "SAMPLES_PER_CLASS"
   ]
  },
  {
   "cell_type": "markdown",
   "metadata": {},
   "source": [
    "Let's have a look some examples of the images in the dataset."
   ]
  },
  {
   "cell_type": "code",
   "execution_count": 14,
   "metadata": {},
   "outputs": [
    {
     "data": {
      "image/png": "[encoded data removed]",
      "text/plain": [
       "<Figure size 800x800 with 4 Axes>"
      ]
     },
     "metadata": {},
     "output_type": "display_data"
    }
   ],
   "source": [
    "import glob\n",
    "\n",
    "# Get list of all .png images in the directory and its subdirectories\n",
    "images = glob.glob(os.path.join(DIR, '**', '*.png'), recursive=True)\n",
    "\n",
    "# Randomly select num_images images\n",
    "random_images = random.sample(images, 4)\n",
    "\n",
    "fig, axs = plt.subplots(2, 2, figsize=(8, 8))\n",
    "\n",
    "for i in range(2):\n",
    "    for j in range(2):\n",
    "        img_path = random_images[2 * i + j]\n",
    "        img = Image.open(img_path)\n",
    "        img = ImageOps.invert(img)\n",
    "        axs[i][j].imshow(img)"
   ]
  },
  {
   "cell_type": "markdown",
   "metadata": {},
   "source": [
    "# NumPy Array Conversion\n",
    "\n",
    "Now we can convert all the images into one single numpy array with the corresponding labels for each image."
   ]
  },
  {
   "cell_type": "code",
   "execution_count": 15,
   "metadata": {},
   "outputs": [],
   "source": [
    "image_list = []\n",
    "label_list = []\n",
    "\n",
    "for subdir, dirs, files in os.walk(DIR):\n",
    "    if not files:\n",
    "        continue\n",
    "    \n",
    "    for i in range(SAMPLES_PER_CLASS):\n",
    "        file = files[i]\n",
    "        \n",
    "        file_path = os.path.join(subdir, file)\n",
    "        label = subdir.split('/')[-1]\n",
    "\n",
    "        img = Image.open(file_path)\n",
    "        img_array = np.array(img)\n",
    "\n",
    "        image_list.append(img_array)\n",
    "        label_list.append(label)\n"
   ]
  },
  {
   "cell_type": "markdown",
   "metadata": {},
   "source": [
    "Now we can convert the python lists into numpy arrays."
   ]
  },
  {
   "cell_type": "code",
   "execution_count": 16,
   "metadata": {},
   "outputs": [],
   "source": [
    "image_array = np.array(image_list)\n",
    "label_array = np.array(label_list)"
   ]
  },
  {
   "cell_type": "markdown",
   "metadata": {},
   "source": [
    "And finally we can save the numpy arrays to the root directory."
   ]
  },
  {
   "cell_type": "code",
   "execution_count": 17,
   "metadata": {},
   "outputs": [],
   "source": [
    "np.save('images.npy', image_array)\n",
    "np.save('labels.npy', label_array)"
   ]
  }
 ],
 "metadata": {
  "kernelspec": {
   "display_name": "Python 3",
   "language": "python",
   "name": "python3"
  },
  "language_info": {
   "codemirror_mode": {
    "name": "ipython",
    "version": 3
   },
   "file_extension": ".py",
   "mimetype": "text/x-python",
   "name": "python",
   "nbconvert_exporter": "python",
   "pygments_lexer": "ipython3",
   "version": "3.10.12"
  }
 },
 "nbformat": 4,
 "nbformat_minor": 2
}
