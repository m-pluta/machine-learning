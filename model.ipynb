{
 "cells": [
  {
   "cell_type": "markdown",
   "metadata": {},
   "source": [
    "Import necessary libraries"
   ]
  },
  {
   "cell_type": "code",
   "execution_count": null,
   "metadata": {},
   "outputs": [],
   "source": [
    "import numpy as np\n",
    "from keras.preprocessing.image import ImageDataGenerator\n",
    "from keras.models import Sequential\n",
    "from keras.layers import Input, Conv2D, MaxPooling2D, Flatten, Dense, BatchNormalization, Dropout\n",
    "\n",
    "from keras.utils import to_categorical\n",
    "from keras.metrics import AUC\n",
    "import matplotlib.pyplot as plt\n",
    "\n",
    "from sklearn.calibration import LabelEncoder\n",
    "from sklearn.model_selection import train_test_split, KFold\n",
    "from sklearn.linear_model import LogisticRegression"
   ]
  },
  {
   "cell_type": "code",
   "execution_count": null,
   "metadata": {},
   "outputs": [],
   "source": [
    "images = np.load('images.npy')\n",
    "labels = np.load('labels.npy')\n",
    "\n",
    "encoder = LabelEncoder()\n",
    "labels = to_categorical(encoder.fit_transform(labels))\n",
    "\n",
    "num_classes = labels.shape[1]"
   ]
  },
  {
   "cell_type": "code",
   "execution_count": null,
   "metadata": {},
   "outputs": [],
   "source": [
    "def getModel():\n",
    "    model = Sequential([\n",
    "        Input(shape=(64, 64, 1)),\n",
    "        Conv2D(16, (3, 3), activation='relu'),\n",
    "        MaxPooling2D(2, 2),\n",
    "        BatchNormalization(),\n",
    "        Conv2D(32, (3, 3), activation='relu'),\n",
    "        MaxPooling2D(2, 2),\n",
    "        BatchNormalization(),\n",
    "        Conv2D(64, (3, 3), activation='relu'),\n",
    "        MaxPooling2D(2, 2),\n",
    "        Flatten(),\n",
    "        Dense(units=256, activation='relu'),\n",
    "        Dropout(0.5),\n",
    "        Dense(units=num_classes, activation='softmax')\n",
    "    ])\n",
    "    return model"
   ]
  },
  {
   "cell_type": "code",
   "execution_count": null,
   "metadata": {},
   "outputs": [],
   "source": [
    "X_train, X_test, y_train, y_test = train_test_split(images, labels, test_size=0.2, random_state=42)\n",
    "k = 5\n",
    "kfold = KFold(n_splits=k, shuffle=True, random_state=42)\n",
    "\n",
    "for i, (train, val) in enumerate(kfold.split(X_train, y_train)):\n",
    "    print(f\"Fold {i + 1}/{k}\")\n",
    "    \n",
    "    model = getModel()\n",
    "    model.compile(loss='categorical_crossentropy', metrics=['accuracy', AUC(multi_label=True)])\n",
    "    \n",
    "    validation_data=(X_train[val], y_train[val])\n",
    "    \n",
    "    val_labels = np.argmax(y_train[val], axis=1)\n",
    "    train_labels = np.argmax(y_train[train], axis=1)\n",
    "\n",
    "    # # Plot the distribution of val_labels\n",
    "    # plt.hist(val_labels, bins=num_classes)\n",
    "    # plt.title('Distribution of val_labels')\n",
    "    # plt.xlabel('Label')\n",
    "    # plt.ylabel('Count')\n",
    "    # plt.show()\n",
    "\n",
    "    # # Plot the distribution of train_labels\n",
    "    # plt.hist(train_labels, bins=num_classes)\n",
    "    # plt.title('Distribution of train_labels')\n",
    "    # plt.xlabel('Label')\n",
    "    # plt.ylabel('Count')\n",
    "    # plt.show()\n",
    "    \n",
    "\n",
    "    model.fit(X_train[train], y_train[train], validation_data=(X_train[val], y_train[val]),batch_size=128, epochs=15)\n",
    "    model.evaluate(X_train[train], y_train[train], verbose=0)\n",
    "    "
   ]
  },
  {
   "cell_type": "code",
   "execution_count": null,
   "metadata": {},
   "outputs": [],
   "source": []
  }
 ],
 "metadata": {
  "kernelspec": {
   "display_name": "Python 3",
   "language": "python",
   "name": "python3"
  },
  "language_info": {
   "codemirror_mode": {
    "name": "ipython",
    "version": 3
   },
   "file_extension": ".py",
   "mimetype": "text/x-python",
   "name": "python",
   "nbconvert_exporter": "python",
   "pygments_lexer": "ipython3",
   "version": "3.10.12"
  }
 },
 "nbformat": 4,
 "nbformat_minor": 2
}
